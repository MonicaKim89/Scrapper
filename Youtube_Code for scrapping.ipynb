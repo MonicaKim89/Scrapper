{
 "cells": [
  {
   "cell_type": "code",
   "execution_count": 1,
   "id": "compact-upgrade",
   "metadata": {},
   "outputs": [],
   "source": [
    "from selenium import webdriver\n",
    "from selenium.webdriver.common.keys import Keys\n",
    "import time\n",
    "from bs4 import BeautifulSoup\n",
    "import re\n",
    "import pandas as pd\n",
    "\n",
    "from urllib.request import urlopen"
   ]
  },
  {
   "cell_type": "code",
   "execution_count": 9,
   "id": "southern-basement",
   "metadata": {},
   "outputs": [],
   "source": [
    "path = '/Users/monica/chromedriver'\n",
    "driver = webdriver.Chrome(path)\n",
    "driver.implicitly_wait(5)\n",
    "\n",
    "start_url = \"https://www.youtube.com\"\n",
    "driver.get(start_url)"
   ]
  },
  {
   "cell_type": "markdown",
   "id": "after-pastor",
   "metadata": {},
   "source": [
    "#### 검색어"
   ]
  },
  {
   "cell_type": "code",
   "execution_count": 10,
   "id": "invisible-andrew",
   "metadata": {},
   "outputs": [],
   "source": [
    "#검색어\n",
    "driver.find_elements_by_xpath('//*[@id=\"search-input\"]')[0].click()\n",
    "driver.find_element_by_xpath('//*[@id=\"search-form\"]/div/div/div/div[2]/input').send_keys(\"BTS\")\n",
    "driver.find_element_by_xpath('//*[@id=\"search-form\"]/div/div/div/div[2]/input').send_keys(Keys.RETURN)"
   ]
  },
  {
   "cell_type": "markdown",
   "id": "domestic-support",
   "metadata": {},
   "source": [
    "#### 필터링"
   ]
  },
  {
   "cell_type": "code",
   "execution_count": 11,
   "id": "interpreted-bangladesh",
   "metadata": {},
   "outputs": [],
   "source": [
    "# 필터 버튼 클릭\n",
    "driver.find_element_by_xpath('//*[@id=\"container\"]/ytd-toggle-button-renderer/a').click()\n",
    "\n",
    "# 필터 기준 - 업로드 날짜 - 올해 아오!(이번달click3)\n",
    "upload_date = driver.find_element_by_xpath('//*[@id=\"collapse-content\"]/ytd-search-filter-group-renderer[1]')\n",
    "click_list_1 = upload_date.find_elements_by_id(\"endpoint\")\n",
    "click_list_1[4].click()\n",
    "\n",
    "# 필터 창이 내려가는 속도에 맞추기 위해서 임의로 sleep한 후에 버튼 클릭\n",
    "time.sleep(2)\n",
    "driver.find_element_by_xpath('//*[@id=\"container\"]/ytd-toggle-button-renderer/a').click()\n",
    "\n",
    "# 필터 기준 - 정렬 기준 - 조회수\n",
    "sorting_std = driver.find_element_by_xpath('//*[@id=\"collapse-content\"]/ytd-search-filter-group-renderer[5]')\n",
    "click_list_5 = sorting_std.find_elements_by_id(\"endpoint\")\n",
    "click_list_5[2].click()\n",
    "time.sleep(2)"
   ]
  },
  {
   "cell_type": "markdown",
   "id": "numeric-witness",
   "metadata": {},
   "source": [
    "#### 무한스크롤"
   ]
  },
  {
   "cell_type": "code",
   "execution_count": 12,
   "id": "ready-radiation",
   "metadata": {},
   "outputs": [],
   "source": [
    "#무한으로 내려감\n",
    "import time\n",
    "SCROLL_PAUSE_TIME = 0.5\n",
    "# 한번 스크롤 하고 멈출 시간 설정\n",
    "\n",
    "body = driver.find_element_by_tag_name('body')\n",
    "# body태그를 선택하여 body에 넣음\n",
    "\n",
    "while True:\n",
    "    last_height = driver.execute_script('return document.documentElement.scrollHeight')\n",
    "    # 현재 화면의 길이를 리턴 받아 last_height에 넣음\n",
    "    for i in range(10):\n",
    "        body.send_keys(Keys.END)\n",
    "        # body 본문에 END키를 입력(스크롤내림)\n",
    "        time.sleep(SCROLL_PAUSE_TIME)\n",
    "    new_height = driver.execute_script('return document.documentElement.scrollHeight')\n",
    "    if new_height == last_height:\n",
    "        break;"
   ]
  },
  {
   "cell_type": "markdown",
   "id": "graduate-composite",
   "metadata": {},
   "source": [
    "#### soup 저장"
   ]
  },
  {
   "cell_type": "code",
   "execution_count": 13,
   "id": "representative-dylan",
   "metadata": {},
   "outputs": [],
   "source": [
    "from bs4 import BeautifulSoup\n",
    "\n",
    "page = driver.page_source\n",
    "soup = BeautifulSoup(page, 'html.parser')\n",
    "\n",
    "renderer_list = soup.find_all(id='dismissable')\n",
    "soup = BeautifulSoup(page, 'lxml')\n",
    "div_s = soup.findAll('div')"
   ]
  },
  {
   "cell_type": "markdown",
   "id": "conservative-subsection",
   "metadata": {},
   "source": [
    "### title"
   ]
  },
  {
   "cell_type": "code",
   "execution_count": 14,
   "id": "experimental-declaration",
   "metadata": {},
   "outputs": [
    {
     "name": "stdout",
     "output_type": "stream",
     "text": [
      "0\n"
     ]
    }
   ],
   "source": [
    "# 제목\n",
    "youtube_page = soup.find_all('a',{'class':\"yt-simple-endpoint style-scope ytd-video-renderer\"})\n",
    "print(len(youtube_page))"
   ]
  },
  {
   "cell_type": "code",
   "execution_count": 15,
   "id": "earlier-audio",
   "metadata": {},
   "outputs": [],
   "source": [
    "driver.close()"
   ]
  },
  {
   "cell_type": "code",
   "execution_count": 12,
   "id": "hollow-karma",
   "metadata": {},
   "outputs": [
    {
     "name": "stdout",
     "output_type": "stream",
     "text": [
      "How Turkey is Trying to Bring Back Tourism Post Coronavirus 게시자: VICE News 7개월 전 10분 22초 조회수 83,107회\n",
      "Challenges for Tourism post-COVID-19 게시자: Eurecat 11개월 전 5분 7초 조회수 5,617회\n",
      "Health Tourism In Kerala Expects A Breakthrough After COVID 19| Mathrubhumi News 게시자: Mathrubhumi News 9개월 전 1분 44초 조회수 3,215회\n",
      "Demand for Medical Tourism Post Challenging Times by DR PREM JAGYASI 게시자: Dr Prem Jagyasi - Speaker - Training - MasterClass 2개월 전 6분 24초 조회수 920회\n",
      "Medical Tourism: Before, During, and After COVID-19 | Interview with Frank Nunez 게시자: WhatClinic 9개월 전 1시간 20분 조회수 905회\n",
      "[ Session 1 ] COVID-19 & Medical Tourism Market (코로나19와 의료관광 시장) 게시자: medical tourism association Incheon 5개월 전 58분 조회수 294회\n",
      "The Future of Wellness Tourism Post Covid-19 | #WSWConference 게시자: Professional Beauty 스트리밍 시간: 10개월 전 1시간 17분 조회수 238회\n",
      "COVID-19 pandemic & Medical Tourism Market 게시자: Jin's insight on global healthcare 9개월 전 23분 조회수 207회\n",
      "Post-Covid19 Health and Wellness Tourism #InternationalPatients 게시자: International Healthcare Management byPauloMoreira 10개월 전 41분 조회수 134회\n",
      "Australia Medical Tourism and Virtual Health Care 게시자: mymedchoices 6개월 전 1시간 19분 조회수 116회\n",
      "Health Tourism After COVID 19. The Road Ahead 게시자: Stackpole & Associates, Inc. 10개월 전 1시간 7분 조회수 78회\n",
      "Future of Medical Tourism as an Export Industry in the Post COVID Era 게시자: Association Forum 4개월 전 1시간 5분 조회수 40회\n",
      "Health Tourism After COVID 19  The Road Ahead Updated 게시자: Stackpole & Associates, Inc. 9개월 전 1시간 13분 조회수 22회\n",
      "Medical Tourism in the post COVID 19 world: Opportunities and Challenges 게시자: Amity Institute of Travel & Tourism Kolkata 7개월 전 55분 조회수 17회\n",
      "Medical tourism in Europe, trends post Covid-19 게시자: Kanał Turystyczno-Medyczny 8개월 전 35분 조회수 15회\n",
      "Health Tourism postCOVID19 - The road Updated Webinar 20 06 03 게시자: Health Tourism Worldwide 9개월 전 1시간 13분 조회수 7회\n",
      "Health Tourism After COVID 19  The Road Ahead 1 게시자: Health Tourism Worldwide 9개월 전 1시간 7분 조회수 5회\n"
     ]
    }
   ],
   "source": [
    "text =[]\n",
    "for a in youtube_page:\n",
    "     if a.has_attr(\"aria-label\"):\n",
    "            print(a[\"aria-label\"])\n",
    "            text.append(a[\"aria-label\"])\n",
    "        "
   ]
  },
  {
   "cell_type": "code",
   "execution_count": 13,
   "id": "spiritual-dallas",
   "metadata": {},
   "outputs": [
    {
     "name": "stdout",
     "output_type": "stream",
     "text": [
      "How Turkey is Trying to Bring Back Tourism Post Coronavirus\n",
      "Challenges for Tourism post-COVID-19\n",
      "Health Tourism In Kerala Expects A Breakthrough After COVID 19| Mathrubhumi News\n",
      "Demand for Medical Tourism Post Challenging Times by DR PREM JAGYASI\n",
      "Medical Tourism: Before, During, and After COVID-19 | Interview with Frank Nunez\n",
      "[ Session 1 ] COVID-19 & Medical Tourism Market (코로나19와 의료관광 시장)\n",
      "The Future of Wellness Tourism Post Covid-19 | #WSWConference\n",
      "COVID-19 pandemic & Medical Tourism Market\n",
      "Post-Covid19 Health and Wellness Tourism #InternationalPatients\n",
      "Australia Medical Tourism and Virtual Health Care\n",
      "Health Tourism After COVID 19. The Road Ahead\n",
      "Future of Medical Tourism as an Export Industry in the Post COVID Era\n",
      "Health Tourism After COVID 19  The Road Ahead Updated\n",
      "Medical Tourism in the post COVID 19 world: Opportunities and Challenges\n",
      "Medical tourism in Europe, trends post Covid-19\n",
      "Health Tourism postCOVID19 - The road Updated Webinar 20 06 03\n",
      "Health Tourism After COVID 19  The Road Ahead 1\n"
     ]
    }
   ],
   "source": [
    "title =[]\n",
    "for a in youtube_page:\n",
    "     if a.has_attr(\"title\"):\n",
    "            print(a[\"title\"])\n",
    "            title.append(a[\"title\"])"
   ]
  },
  {
   "cell_type": "code",
   "execution_count": 14,
   "id": "medieval-colors",
   "metadata": {},
   "outputs": [
    {
     "name": "stdout",
     "output_type": "stream",
     "text": [
      "/watch?v=FDzPHoRud4E\n",
      "/watch?v=__LUG5K747c\n",
      "/watch?v=uNbeg2l2BWQ\n",
      "/watch?v=ujOfERKENOQ\n",
      "/watch?v=fAUxNifaRtg\n",
      "/watch?v=aZ0eY6o9ZHE\n",
      "/watch?v=MGywZ4OhKD4\n",
      "/watch?v=HYlCefq6EfU\n",
      "/watch?v=B34Zv8TsaXw\n",
      "/watch?v=e3DaZOEL2ao\n",
      "/watch?v=q1wWF4N9ocA\n",
      "/watch?v=ynb_yXCN1Ic\n",
      "/watch?v=KEX-tvEsGFE\n",
      "/watch?v=B1srp5JavBs\n",
      "/watch?v=zNmjB2r6Sz0\n",
      "/watch?v=bNMSJ_6rilA\n",
      "/watch?v=XS8oOu1LKZs\n"
     ]
    }
   ],
   "source": [
    "href =[]\n",
    "for a in youtube_page:\n",
    "     if a.has_attr(\"href\"):\n",
    "            print(a[\"href\"])\n",
    "            href.append(a[\"href\"])"
   ]
  },
  {
   "cell_type": "code",
   "execution_count": 15,
   "id": "valuable-harris",
   "metadata": {},
   "outputs": [
    {
     "name": "stdout",
     "output_type": "stream",
     "text": [
      "83,107\n",
      "5,617\n",
      "3,215\n",
      "920\n",
      "905\n",
      "294\n",
      "238\n",
      "207\n",
      "134\n",
      "116\n",
      "78\n",
      "40\n",
      "22\n",
      "17\n",
      "15\n",
      "7\n",
      "5\n"
     ]
    }
   ],
   "source": [
    "count_number = []\n",
    "for i in text:\n",
    "    num = i.split('조회수 ')[1].split('회')[0]\n",
    "    print(num)\n",
    "    count_number.append(num)"
   ]
  },
  {
   "cell_type": "code",
   "execution_count": 16,
   "id": "dress-lodge",
   "metadata": {},
   "outputs": [],
   "source": [
    "href = pd.DataFrame(href)\n",
    "href.rename(columns = {0:'url'},inplace = True)\n",
    "href['youtube'] = \"http://www.youtube.com\"\n",
    "href['youtube'] = href['youtube'].str.cat(href['url'])\n",
    "href.drop('url',axis=1,inplace=True)"
   ]
  },
  {
   "cell_type": "code",
   "execution_count": 17,
   "id": "going-wisdom",
   "metadata": {},
   "outputs": [],
   "source": [
    "title = pd.DataFrame(title)\n",
    "title.rename(columns = {0:'title'},inplace = True)\n",
    "\n",
    "count_number = pd.DataFrame(count_number)\n",
    "count_number.rename(columns = {0:'count_number'},inplace = True)\n",
    "\n",
    "final_0223 = pd.concat([title, href, count_number],axis=1)\n",
    "final_0223.to_csv('분석용 데이터 0225.csv')"
   ]
  },
  {
   "cell_type": "code",
   "execution_count": 15,
   "id": "educated-cologne",
   "metadata": {},
   "outputs": [
    {
     "data": {
      "text/html": [
       "<div>\n",
       "<style scoped>\n",
       "    .dataframe tbody tr th:only-of-type {\n",
       "        vertical-align: middle;\n",
       "    }\n",
       "\n",
       "    .dataframe tbody tr th {\n",
       "        vertical-align: top;\n",
       "    }\n",
       "\n",
       "    .dataframe thead th {\n",
       "        text-align: right;\n",
       "    }\n",
       "</style>\n",
       "<table border=\"1\" class=\"dataframe\">\n",
       "  <thead>\n",
       "    <tr style=\"text-align: right;\">\n",
       "      <th></th>\n",
       "      <th>title</th>\n",
       "      <th>youtube</th>\n",
       "      <th>count_number</th>\n",
       "    </tr>\n",
       "  </thead>\n",
       "  <tbody>\n",
       "    <tr>\n",
       "      <th>0</th>\n",
       "      <td>[서민 교수의 촌철의학] #12 백신 전쟁과 장티푸스 메리 (단국대의대 서민 교수)</td>\n",
       "      <td>http://www.youtube.com/watch?v=60cK9aYDBj8</td>\n",
       "      <td>3,214,874</td>\n",
       "    </tr>\n",
       "    <tr>\n",
       "      <th>1</th>\n",
       "      <td>코로나 백신 맞고 나온 91세 할아버지, CNN 인터뷰를 찢었다?  / 비디오머그</td>\n",
       "      <td>http://www.youtube.com/watch?v=Z4K5yWm7kRg</td>\n",
       "      <td>2,064,118</td>\n",
       "    </tr>\n",
       "  </tbody>\n",
       "</table>\n",
       "</div>"
      ],
      "text/plain": [
       "                                            title  \\\n",
       "0  [서민 교수의 촌철의학] #12 백신 전쟁과 장티푸스 메리 (단국대의대 서민 교수)   \n",
       "1   코로나 백신 맞고 나온 91세 할아버지, CNN 인터뷰를 찢었다?  / 비디오머그   \n",
       "\n",
       "                                      youtube count_number  \n",
       "0  http://www.youtube.com/watch?v=60cK9aYDBj8    3,214,874  \n",
       "1  http://www.youtube.com/watch?v=Z4K5yWm7kRg    2,064,118  "
      ]
     },
     "execution_count": 15,
     "metadata": {},
     "output_type": "execute_result"
    }
   ],
   "source": [
    "final_0223.head(2)"
   ]
  },
  {
   "cell_type": "code",
   "execution_count": null,
   "id": "unsigned-medline",
   "metadata": {},
   "outputs": [],
   "source": [
    "final_0223 = final_0223.head(99)"
   ]
  },
  {
   "cell_type": "code",
   "execution_count": null,
   "id": "adapted-richards",
   "metadata": {},
   "outputs": [],
   "source": []
  },
  {
   "cell_type": "code",
   "execution_count": null,
   "id": "convinced-interval",
   "metadata": {},
   "outputs": [],
   "source": []
  },
  {
   "cell_type": "code",
   "execution_count": null,
   "id": "synthetic-inflation",
   "metadata": {},
   "outputs": [],
   "source": []
  },
  {
   "cell_type": "code",
   "execution_count": null,
   "id": "partial-maximum",
   "metadata": {},
   "outputs": [],
   "source": []
  },
  {
   "cell_type": "code",
   "execution_count": null,
   "id": "caring-lunch",
   "metadata": {},
   "outputs": [],
   "source": []
  }
 ],
 "metadata": {
  "kernelspec": {
   "display_name": "Python 3",
   "language": "python",
   "name": "python3"
  },
  "language_info": {
   "codemirror_mode": {
    "name": "ipython",
    "version": 3
   },
   "file_extension": ".py",
   "mimetype": "text/x-python",
   "name": "python",
   "nbconvert_exporter": "python",
   "pygments_lexer": "ipython3",
   "version": "3.9.2"
  },
  "toc": {
   "base_numbering": 1,
   "nav_menu": {},
   "number_sections": true,
   "sideBar": true,
   "skip_h1_title": false,
   "title_cell": "Table of Contents",
   "title_sidebar": "Contents",
   "toc_cell": false,
   "toc_position": {},
   "toc_section_display": true,
   "toc_window_display": false
  },
  "varInspector": {
   "cols": {
    "lenName": 16,
    "lenType": 16,
    "lenVar": 40
   },
   "kernels_config": {
    "python": {
     "delete_cmd_postfix": "",
     "delete_cmd_prefix": "del ",
     "library": "var_list.py",
     "varRefreshCmd": "print(var_dic_list())"
    },
    "r": {
     "delete_cmd_postfix": ") ",
     "delete_cmd_prefix": "rm(",
     "library": "var_list.r",
     "varRefreshCmd": "cat(var_dic_list()) "
    }
   },
   "types_to_exclude": [
    "module",
    "function",
    "builtin_function_or_method",
    "instance",
    "_Feature"
   ],
   "window_display": false
  }
 },
 "nbformat": 4,
 "nbformat_minor": 5
}
