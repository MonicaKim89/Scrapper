{
 "cells": [
  {
   "cell_type": "markdown",
   "source": [
    "### Selenium"
   ],
   "metadata": {}
  },
  {
   "cell_type": "markdown",
   "source": [
    "#### https://pythondocs.net/selenium/%EC%85%80%EB%A0%88%EB%8B%88%EC%9B%80-%ED%81%AC%EB%A1%A4%EB%9F%AC-%EA%B8%B0%EB%B3%B8-%EC%82%AC%EC%9A%A9%EB%B2%95/"
   ],
   "metadata": {}
  },
  {
   "cell_type": "code",
   "execution_count": 1,
   "source": [
    "from selenium import webdriver\n",
    "from selenium.webdriver.common.keys import Keys #키값 입력\n",
    "import pandas\n",
    "import numpy\n",
    "from bs4 import BeautifulSoup\n",
    "\n"
   ],
   "outputs": [],
   "metadata": {}
  },
  {
   "cell_type": "code",
   "execution_count": 2,
   "source": [
    "path = '/Users/mac626/chromedriver'\n",
    "driver = webdriver.Chrome(path)\n",
    "driver.implicitly_wait(5)\n",
    "\n",
    "start_url= 'http://www.naver.com'\n",
    "driver.get(start_url)"
   ],
   "outputs": [],
   "metadata": {}
  },
  {
   "cell_type": "code",
   "execution_count": 12,
   "source": [
    "# class_name으로 찾아가는 방법뷰숩과 비슷하게 엘리먼트 찾아가면됨\t\n",
    "element = driver.find_element_by_class_name(\"link_login\").click()"
   ],
   "outputs": [],
   "metadata": {}
  },
  {
   "cell_type": "code",
   "execution_count": 15,
   "source": [
    "#이전페이지\n",
    "# driver.back()\n",
    "\n",
    "#다시 돌아가기\n",
    "driver.forward()\n",
    "\n",
    "# #새로고침\n",
    "# driver.refresh()"
   ],
   "outputs": [],
   "metadata": {}
  },
  {
   "cell_type": "code",
   "execution_count": 3,
   "source": [
    "#검색창 클릭하기\n",
    "# id로 찾아가는 방법\n",
    "element = driver.find_element_by_id(\"query\")\n",
    "element.send_keys('코로나백신')\n",
    "element.send_keys(Keys.ENTER)\n"
   ],
   "outputs": [],
   "metadata": {}
  },
  {
   "cell_type": "markdown",
   "source": [
    "### find_element_by_xpath"
   ],
   "metadata": {}
  },
  {
   "cell_type": "code",
   "execution_count": 4,
   "source": [
    "#view 선택\n",
    "driver.find_element_by_xpath('//*[@id=\"lnb\"]/div[1]/div/ul/li[3]/a').click()\n",
    "# driver.find_element_by_xpath('//*[@id=\"nx_query\"]').clear() #검색어 지우기\n",
    "# driver.find_element_by_xpath('//*[@id=\"nx_query\"]').send_keys('의료머신러닝')\n",
    "# driver.find_element_by_xpath('//*[@id=\"nx_search_form\"]/fieldset/button/i').click()\n",
    "# 블로그 선택\n",
    "driver.find_element_by_xpath('//*[@id=\"snb\"]/div[1]/div/div[1]/a[2]').click()"
   ],
   "outputs": [],
   "metadata": {}
  },
  {
   "cell_type": "markdown",
   "source": [
    "### 무한스크롤"
   ],
   "metadata": {}
  },
  {
   "cell_type": "code",
   "execution_count": 5,
   "source": [
    "#무한으로 내려감\n",
    "import time\n",
    "SCROLL_PAUSE_TIME = 0.5\n",
    "# 한번 스크롤 하고 멈출 시간 설정\n",
    "\n",
    "body = driver.find_element_by_tag_name('body')\n",
    "# body태그를 선택하여 body에 넣음\n",
    "\n",
    "while True:\n",
    "    last_height = driver.execute_script('return document.documentElement.scrollHeight')\n",
    "    # 현재 화면의 길이를 리턴 받아 last_height에 넣음\n",
    "    for i in range(10):\n",
    "        body.send_keys(Keys.END)\n",
    "        # body 본문에 END키를 입력(스크롤내림)\n",
    "        time.sleep(SCROLL_PAUSE_TIME)\n",
    "    new_height = driver.execute_script('return document.documentElement.scrollHeight')\n",
    "    if new_height == last_height:\n",
    "        break;"
   ],
   "outputs": [],
   "metadata": {}
  },
  {
   "cell_type": "markdown",
   "source": [
    "### Beautiful Soup"
   ],
   "metadata": {}
  },
  {
   "cell_type": "code",
   "execution_count": 6,
   "source": [
    "page = driver.page_source\n",
    "soup = BeautifulSoup(page, 'html.parser')\n",
    "driver.close()\n"
   ],
   "outputs": [],
   "metadata": {}
  },
  {
   "cell_type": "code",
   "execution_count": null,
   "source": [
    "<a href=\"https://blog.naver.com/green557?Redirect=Log&amp;logNo=222416502640\" class=\"api_txt_lines total_tit\" target=\"_blank\" onclick=\"return goOtherCR(this, 'a=blg*a.iblg&amp;r=1&amp;i=90000003_0000000000000033C90E7F70&amp;u='+urlencode(this.href))\"><strong class=\"hl\">코로나 백신</strong> 예방접종 증명서 발급 방법 COOV</a>"
   ],
   "outputs": [],
   "metadata": {}
  },
  {
   "cell_type": "code",
   "execution_count": 13,
   "source": [
    "titles=soup.find_all(\"a\",attrs={'class':'api_txt_lines total_tit'})\n",
    "\n",
    "title=[]\n",
    "\n",
    "for i in titles:\n",
    "\n",
    "    title.append(i.get_text())\n",
    "\n",
    "title[:3]"
   ],
   "outputs": [
    {
     "output_type": "execute_result",
     "data": {
      "text/plain": [
       "['코로나 백신 예방접종 증명서 발급 방법 COOV',\n",
       " '[약사엄마의 건강이야기] 코로나19 백신 2차 접종을 마치다... ',\n",
       " '세파클러캅셀 항생제 알러지 경험자, 코로나 백신 접종했어요 :)']"
      ]
     },
     "metadata": {},
     "execution_count": 13
    }
   ],
   "metadata": {}
  },
  {
   "cell_type": "code",
   "execution_count": 14,
   "source": [
    "values = soup.find_all('div', attrs={'class':'api_txt_lines dsc_txt'})\n",
    "value =[]\n",
    "\n",
    "for i in values:\n",
    "    value.append(i.get_text())\n",
    "\n",
    "\n",
    "value[:3]"
   ],
   "outputs": [
    {
     "output_type": "execute_result",
     "data": {
      "text/plain": [
       "['병원에 근무하다보니 (의료진은 아니지만) 국내에 처음 코로나 예방접종이... 세계적으로 백신접종을 완료한 사람들에게 혜택을 제공하기 위해 코로나 백신 예방접종... ',\n",
       " '드디어 #코로나19 백신 2차 접종을 마쳤다. 지난 4월에 1차 접종으로... 주에 #화이자 백신으로 2차 접종을 했다. 드디어 코로나백신 접종을 완료했다! © hakannural, 출처... ',\n",
       " '바로, 약물알레르기 보유자의 코로나 백신 접종 !!! 접종 전, 알레르기 내과... 그래서 전 백신 접종을 선택했어요. 사실 알레르기 내과 다녀오고도 좀 ..불안했는데.... ']"
      ]
     },
     "metadata": {},
     "execution_count": 14
    }
   ],
   "metadata": {}
  },
  {
   "cell_type": "code",
   "execution_count": 15,
   "source": [
    "bloggers = soup.find_all('a', attrs={'class':\"sub_txt sub_name\" })\n",
    "\n",
    "blogger=[]\n",
    "\n",
    "for i in bloggers:\n",
    "    blogger.append(i.get_text())\n",
    "\n",
    "blogger[:3]"
   ],
   "outputs": [
    {
     "output_type": "execute_result",
     "data": {
      "text/plain": [
       "['살아있는인형가게 ``°³о♡', '힐링컴즈 / 수원메디칼약국', '하루기록장']"
      ]
     },
     "metadata": {},
     "execution_count": 15
    }
   ],
   "metadata": {}
  },
  {
   "cell_type": "code",
   "execution_count": 19,
   "source": [
    "import pandas as pd\n",
    "\n",
    "covid_blog = pd.DataFrame({'title':title, 'contents':value, 'bloger':blogger})\n",
    "\n",
    "\n",
    "print(len(covid_blog))"
   ],
   "outputs": [
    {
     "output_type": "stream",
     "name": "stdout",
     "text": [
      "510\n"
     ]
    }
   ],
   "metadata": {}
  },
  {
   "cell_type": "code",
   "execution_count": 21,
   "source": [
    "covid_blog.head(20)"
   ],
   "outputs": [
    {
     "output_type": "execute_result",
     "data": {
      "text/html": [
       "<div>\n",
       "<style scoped>\n",
       "    .dataframe tbody tr th:only-of-type {\n",
       "        vertical-align: middle;\n",
       "    }\n",
       "\n",
       "    .dataframe tbody tr th {\n",
       "        vertical-align: top;\n",
       "    }\n",
       "\n",
       "    .dataframe thead th {\n",
       "        text-align: right;\n",
       "    }\n",
       "</style>\n",
       "<table border=\"1\" class=\"dataframe\">\n",
       "  <thead>\n",
       "    <tr style=\"text-align: right;\">\n",
       "      <th></th>\n",
       "      <th>title</th>\n",
       "      <th>contents</th>\n",
       "      <th>bloger</th>\n",
       "    </tr>\n",
       "  </thead>\n",
       "  <tbody>\n",
       "    <tr>\n",
       "      <th>0</th>\n",
       "      <td>코로나 백신 예방접종 증명서 발급 방법 COOV</td>\n",
       "      <td>병원에 근무하다보니 (의료진은 아니지만) 국내에 처음 코로나 예방접종이... 세계적...</td>\n",
       "      <td>살아있는인형가게 ``°³о♡</td>\n",
       "    </tr>\n",
       "    <tr>\n",
       "      <th>1</th>\n",
       "      <td>[약사엄마의 건강이야기] 코로나19 백신 2차 접종을 마치다...</td>\n",
       "      <td>드디어 #코로나19 백신 2차 접종을 마쳤다. 지난 4월에 1차 접종으로... 주에...</td>\n",
       "      <td>힐링컴즈 / 수원메디칼약국</td>\n",
       "    </tr>\n",
       "    <tr>\n",
       "      <th>2</th>\n",
       "      <td>세파클러캅셀 항생제 알러지 경험자, 코로나 백신 접종했어요 :)</td>\n",
       "      <td>바로, 약물알레르기 보유자의 코로나 백신 접종 !!! 접종 전, 알레르기 내과......</td>\n",
       "      <td>하루기록장</td>\n",
       "    </tr>\n",
       "    <tr>\n",
       "      <th>3</th>\n",
       "      <td>모더나1차 접종 후기코로나 백신</td>\n",
       "      <td>#모더나접종후기 #모더나백신 #잔여백신접종 #코로나백신접종후기 #모더나1차후기 #모...</td>\n",
       "      <td>★Miae™ Small Diary~★</td>\n",
       "    </tr>\n",
       "    <tr>\n",
       "      <th>4</th>\n",
       "      <td>코로나 백신 예방접종... 모더나, 얀센] 부작용, 위드 코로나</td>\n",
       "      <td>코로나가 시작된 지 벌써 2년이 다 돼 갑니다. 아직 확진자가 많지만 치명률은......</td>\n",
       "      <td>살아가는 이야기</td>\n",
       "    </tr>\n",
       "    <tr>\n",
       "      <th>5</th>\n",
       "      <td>아스트라제네카 코로나백신 7일차 후기 :: AZ신청/ 부작용...</td>\n",
       "      <td>코로나백신두통 #코로나백신삼겹살 #백신타이레놀 #아스트라제네카부작용 #코로나백신두통...</td>\n",
       "      <td>101번째 타르트</td>\n",
       "    </tr>\n",
       "    <tr>\n",
       "      <th>6</th>\n",
       "      <td>[일상]코로나19 백신 화이자 접종 부작용</td>\n",
       "      <td>자유낙하는 지난달 8월 14일 코로나 백신 화이자 1차 접종을 하게 되었는데요, 평...</td>\n",
       "      <td>자유낙하 모형 세상</td>\n",
       "    </tr>\n",
       "    <tr>\n",
       "      <th>7</th>\n",
       "      <td>코로나19 잔여백신 예약 성공 ! 얀센 부작용 후기, 예방접종...</td>\n",
       "      <td>얀센백신 부작용, 후기 예방접종 도우미에 따르면 지금현재 우리나라에서는 4가지 코로...</td>\n",
       "      <td>만렙주부 ♥</td>\n",
       "    </tr>\n",
       "    <tr>\n",
       "      <th>8</th>\n",
       "      <td>코로나 19 백신에 대한 반응이 낮은 그룹은?</td>\n",
       "      <td>현재 사용되는 코로나 19 백신은 강한 면역 반응을 유도해 바이러스 침투를 막고 설...</td>\n",
       "      <td>고든의 블로그</td>\n",
       "    </tr>\n",
       "    <tr>\n",
       "      <th>9</th>\n",
       "      <td>코로나 백신 예방접종 변경 화이자 1차접종 후기</td>\n",
       "      <td>미리 예약해둔 코로나 19 백신 예방접종 맞으러 다녀오고 어제 꼬박 잤던거 같아요....</td>\n",
       "      <td>백잎클로버의 1+2 이야기</td>\n",
       "    </tr>\n",
       "    <tr>\n",
       "      <th>10</th>\n",
       "      <td>화이자 코로나 백신 1차접종 부작용, 타이레놀 구입</td>\n",
       "      <td>신분증 제시하고 코로나19 예방접종 예진표를 받았습니다. 화이자백신을 맞아야... ...</td>\n",
       "      <td>프랭키의 Happy Life</td>\n",
       "    </tr>\n",
       "    <tr>\n",
       "      <th>11</th>\n",
       "      <td>코로나 백신 화이자 1차 증상과 코로나백신 증명서</td>\n",
       "      <td>간단하게 코로나 백신 증명서가 발급이 됩니다 정말 쉽죠?~ :) 백신접종 증명서.....</td>\n",
       "      <td>미스킴의 발랄한 육아</td>\n",
       "    </tr>\n",
       "    <tr>\n",
       "      <th>12</th>\n",
       "      <td>코로나 백신 맞기는 맞아야 하는데.......</td>\n",
       "      <td>코로나 백신을 맞아야 하느냐고 물어보는 분이 많다. 이들의 속내를 보면 백신을......</td>\n",
       "      <td>민영일의 건강을 생각하는 블로그</td>\n",
       "    </tr>\n",
       "    <tr>\n",
       "      <th>13</th>\n",
       "      <td>코로나 백신 접종 전에 준비하자! 올바른 진통제 선택법은?</td>\n",
       "      <td>코로나19 백신 접종 후 아세트아미노펜 성분의 의약품, 체온계 등을 온라인에서 판매...</td>\n",
       "      <td>동국제약 블로그</td>\n",
       "    </tr>\n",
       "    <tr>\n",
       "      <th>14</th>\n",
       "      <td>일산 박지훈내과 코로나백신 화이자 1차 접종 후기</td>\n",
       "      <td>일산 박지훈내과 코로나백신 화이자 1차 접종 후기 잔여백신을 그렇게 맞고 싶었는데 ...</td>\n",
       "      <td>행자의 쫄깃한 공간</td>\n",
       "    </tr>\n",
       "    <tr>\n",
       "      <th>15</th>\n",
       "      <td>코로나 백신 접종 후기(화이자 1차 접종)</td>\n",
       "      <td>궁금하여 잠깐 국내도입된 백신들을 찾아봤어요. 국내 도입 코로나 백신 비교표... ...</td>\n",
       "      <td>★빠블리부부의 라라캠핑★</td>\n",
       "    </tr>\n",
       "    <tr>\n",
       "      <th>16</th>\n",
       "      <td>[약사엄마의 건강이야기] 코로나19 백신 접종 완료자들은...</td>\n",
       "      <td>코로나19 백신 접종이 비교적 원활하게 이루어지면서, 대한민국의 경우 1차 접종 완...</td>\n",
       "      <td>힐링컴즈 / 수원메디칼약국</td>\n",
       "    </tr>\n",
       "    <tr>\n",
       "      <th>17</th>\n",
       "      <td>코로나 백신접종증명서 발급받기</td>\n",
       "      <td>정부는 지난 2021년 6월 1일 백신 인센티브를 처음 도입하였으나 코로나 확진자 ...</td>\n",
       "      <td>한화손해보험 공식블로그</td>\n",
       "    </tr>\n",
       "    <tr>\n",
       "      <th>18</th>\n",
       "      <td>백혈병 초기증상 및 코로나 백신 부작용 관계</td>\n",
       "      <td>하지만 코로나백신으로 인한 백혈병 호소 사례가 국내에 어느정도 있는 만큼 백신에 대...</td>\n",
       "      <td>혼내는 건강일기</td>\n",
       "    </tr>\n",
       "    <tr>\n",
       "      <th>19</th>\n",
       "      <td>코로나19 예방접종 절차 주의사항 노쇼 잔여백신예약</td>\n",
       "      <td>통한 코로나 백신 예방접종이 시작되었습니다. 60세부터 74세까지는 6월 3일까지....</td>\n",
       "      <td>서울경희 통합의원+한의원 양한방통합클리닉</td>\n",
       "    </tr>\n",
       "  </tbody>\n",
       "</table>\n",
       "</div>"
      ],
      "text/plain": [
       "                                     title  \\\n",
       "0               코로나 백신 예방접종 증명서 발급 방법 COOV   \n",
       "1    [약사엄마의 건강이야기] 코로나19 백신 2차 접종을 마치다...    \n",
       "2      세파클러캅셀 항생제 알러지 경험자, 코로나 백신 접종했어요 :)   \n",
       "3                        모더나1차 접종 후기코로나 백신   \n",
       "4      코로나 백신 예방접종... 모더나, 얀센] 부작용, 위드 코로나   \n",
       "5    아스트라제네카 코로나백신 7일차 후기 :: AZ신청/ 부작용...    \n",
       "6                  [일상]코로나19 백신 화이자 접종 부작용   \n",
       "7   코로나19 잔여백신 예약 성공 ! 얀센 부작용 후기, 예방접종...    \n",
       "8                코로나 19 백신에 대한 반응이 낮은 그룹은?   \n",
       "9               코로나 백신 예방접종 변경 화이자 1차접종 후기   \n",
       "10            화이자 코로나 백신 1차접종 부작용, 타이레놀 구입   \n",
       "11             코로나 백신 화이자 1차 증상과 코로나백신 증명서   \n",
       "12               코로나 백신 맞기는 맞아야 하는데.......   \n",
       "13        코로나 백신 접종 전에 준비하자! 올바른 진통제 선택법은?   \n",
       "14             일산 박지훈내과 코로나백신 화이자 1차 접종 후기   \n",
       "15                 코로나 백신 접종 후기(화이자 1차 접종)   \n",
       "16     [약사엄마의 건강이야기] 코로나19 백신 접종 완료자들은...    \n",
       "17                        코로나 백신접종증명서 발급받기   \n",
       "18                백혈병 초기증상 및 코로나 백신 부작용 관계   \n",
       "19            코로나19 예방접종 절차 주의사항 노쇼 잔여백신예약   \n",
       "\n",
       "                                             contents                  bloger  \n",
       "0   병원에 근무하다보니 (의료진은 아니지만) 국내에 처음 코로나 예방접종이... 세계적...         살아있는인형가게 ``°³о♡  \n",
       "1   드디어 #코로나19 백신 2차 접종을 마쳤다. 지난 4월에 1차 접종으로... 주에...          힐링컴즈 / 수원메디칼약국  \n",
       "2   바로, 약물알레르기 보유자의 코로나 백신 접종 !!! 접종 전, 알레르기 내과......                   하루기록장  \n",
       "3   #모더나접종후기 #모더나백신 #잔여백신접종 #코로나백신접종후기 #모더나1차후기 #모...    ★Miae™ Small Diary~★  \n",
       "4   코로나가 시작된 지 벌써 2년이 다 돼 갑니다. 아직 확진자가 많지만 치명률은......                살아가는 이야기  \n",
       "5   코로나백신두통 #코로나백신삼겹살 #백신타이레놀 #아스트라제네카부작용 #코로나백신두통...               101번째 타르트  \n",
       "6   자유낙하는 지난달 8월 14일 코로나 백신 화이자 1차 접종을 하게 되었는데요, 평...              자유낙하 모형 세상  \n",
       "7   얀센백신 부작용, 후기 예방접종 도우미에 따르면 지금현재 우리나라에서는 4가지 코로...                  만렙주부 ♥  \n",
       "8   현재 사용되는 코로나 19 백신은 강한 면역 반응을 유도해 바이러스 침투를 막고 설...                 고든의 블로그  \n",
       "9   미리 예약해둔 코로나 19 백신 예방접종 맞으러 다녀오고 어제 꼬박 잤던거 같아요....          백잎클로버의 1+2 이야기  \n",
       "10  신분증 제시하고 코로나19 예방접종 예진표를 받았습니다. 화이자백신을 맞아야... ...         프랭키의 Happy Life  \n",
       "11  간단하게 코로나 백신 증명서가 발급이 됩니다 정말 쉽죠?~ :) 백신접종 증명서.....             미스킴의 발랄한 육아  \n",
       "12  코로나 백신을 맞아야 하느냐고 물어보는 분이 많다. 이들의 속내를 보면 백신을......       민영일의 건강을 생각하는 블로그  \n",
       "13  코로나19 백신 접종 후 아세트아미노펜 성분의 의약품, 체온계 등을 온라인에서 판매...                동국제약 블로그  \n",
       "14  일산 박지훈내과 코로나백신 화이자 1차 접종 후기 잔여백신을 그렇게 맞고 싶었는데 ...              행자의 쫄깃한 공간  \n",
       "15  궁금하여 잠깐 국내도입된 백신들을 찾아봤어요. 국내 도입 코로나 백신 비교표... ...           ★빠블리부부의 라라캠핑★  \n",
       "16  코로나19 백신 접종이 비교적 원활하게 이루어지면서, 대한민국의 경우 1차 접종 완...          힐링컴즈 / 수원메디칼약국  \n",
       "17  정부는 지난 2021년 6월 1일 백신 인센티브를 처음 도입하였으나 코로나 확진자 ...            한화손해보험 공식블로그  \n",
       "18  하지만 코로나백신으로 인한 백혈병 호소 사례가 국내에 어느정도 있는 만큼 백신에 대...                혼내는 건강일기  \n",
       "19  통한 코로나 백신 예방접종이 시작되었습니다. 60세부터 74세까지는 6월 3일까지....  서울경희 통합의원+한의원 양한방통합클리닉  "
      ]
     },
     "metadata": {},
     "execution_count": 21
    }
   ],
   "metadata": {}
  },
  {
   "cell_type": "code",
   "execution_count": 22,
   "source": [
    "covid_blog.to_csv('covid_blog_selenium.csv')"
   ],
   "outputs": [],
   "metadata": {}
  },
  {
   "cell_type": "code",
   "execution_count": null,
   "source": [],
   "outputs": [],
   "metadata": {}
  }
 ],
 "metadata": {
  "orig_nbformat": 4,
  "language_info": {
   "name": "python",
   "version": "3.8.11",
   "mimetype": "text/x-python",
   "codemirror_mode": {
    "name": "ipython",
    "version": 3
   },
   "pygments_lexer": "ipython3",
   "nbconvert_exporter": "python",
   "file_extension": ".py"
  },
  "kernelspec": {
   "name": "python3",
   "display_name": "Python 3.8.11  ('scrapper': conda)"
  },
  "interpreter": {
   "hash": "13ddd8e4bbab9f189b23159d9bff0382f6ebbdf19bbccdd26279f60d699cf2a0"
  }
 },
 "nbformat": 4,
 "nbformat_minor": 2
}