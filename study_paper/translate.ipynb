{
 "cells": [
  {
   "cell_type": "code",
   "execution_count": 1,
   "metadata": {},
   "outputs": [],
   "source": [
    "from selenium import webdriver\n",
    "from selenium.webdriver.common.keys import Keys\n",
    "from selenium.webdriver.support.ui import WebDriverWait\n",
    "from selenium.common.exceptions import NoSuchElementException\n",
    "import selenium.common.exceptions as sex\n",
    "\n",
    "import pandas as pd\n",
    "import numpy as np\n",
    "\n",
    "from bs4 import BeautifulSoup\n",
    "import lxml\n",
    "\n",
    "import time"
   ]
  },
  {
   "cell_type": "code",
   "execution_count": 2,
   "metadata": {},
   "outputs": [
    {
     "data": {
      "text/html": [
       "<div>\n",
       "<style scoped>\n",
       "    .dataframe tbody tr th:only-of-type {\n",
       "        vertical-align: middle;\n",
       "    }\n",
       "\n",
       "    .dataframe tbody tr th {\n",
       "        vertical-align: top;\n",
       "    }\n",
       "\n",
       "    .dataframe thead th {\n",
       "        text-align: right;\n",
       "    }\n",
       "</style>\n",
       "<table border=\"1\" class=\"dataframe\">\n",
       "  <thead>\n",
       "    <tr style=\"text-align: right;\">\n",
       "      <th></th>\n",
       "      <th>Title</th>\n",
       "      <th>Author</th>\n",
       "      <th>Year</th>\n",
       "      <th>abstract</th>\n",
       "    </tr>\n",
       "  </thead>\n",
       "  <tbody>\n",
       "    <tr>\n",
       "      <th>0</th>\n",
       "      <td>Identifying Medical Diagnoses and Treatable Di...</td>\n",
       "      <td>\\nKermany, D.S., Goldbaum, M., Cai, W., (...),...</td>\n",
       "      <td>2018</td>\n",
       "      <td>The implementation of clinical-decision suppor...</td>\n",
       "    </tr>\n",
       "    <tr>\n",
       "      <th>1</th>\n",
       "      <td>Computational radiomics system to decode the r...</td>\n",
       "      <td>\\nVan Griethuysen, J.J.M., Fedorov, A., Parmar...</td>\n",
       "      <td>2017</td>\n",
       "      <td>Radiomics aims to quantify phenotypic characte...</td>\n",
       "    </tr>\n",
       "    <tr>\n",
       "      <th>2</th>\n",
       "      <td>Brain Intelligence: Go beyond Artificial Intel...</td>\n",
       "      <td>\\nLu, H., Li, Y., Chen, M., Kim, H., Serikawa,...</td>\n",
       "      <td>2018</td>\n",
       "      <td>Artificial intelligence (AI) is an important t...</td>\n",
       "    </tr>\n",
       "    <tr>\n",
       "      <th>3</th>\n",
       "      <td>Artificial intelligence in medicine</td>\n",
       "      <td>\\nHamet, P., Tremblay, J.\\n</td>\n",
       "      <td>2017</td>\n",
       "      <td>Artificial Intelligence (AI) is a general term...</td>\n",
       "    </tr>\n",
       "    <tr>\n",
       "      <th>4</th>\n",
       "      <td>The Artificial Intelligence Clinician learns o...</td>\n",
       "      <td>\\nKomorowski, M., Celi, L.A., Badawi, O., Gord...</td>\n",
       "      <td>2018</td>\n",
       "      <td>Sepsis is the third leading cause of death wor...</td>\n",
       "    </tr>\n",
       "  </tbody>\n",
       "</table>\n",
       "</div>"
      ],
      "text/plain": [
       "                                               Title  \\\n",
       "0  Identifying Medical Diagnoses and Treatable Di...   \n",
       "1  Computational radiomics system to decode the r...   \n",
       "2  Brain Intelligence: Go beyond Artificial Intel...   \n",
       "3                Artificial intelligence in medicine   \n",
       "4  The Artificial Intelligence Clinician learns o...   \n",
       "\n",
       "                                              Author  Year  \\\n",
       "0  \\nKermany, D.S., Goldbaum, M., Cai, W., (...),...  2018   \n",
       "1  \\nVan Griethuysen, J.J.M., Fedorov, A., Parmar...  2017   \n",
       "2  \\nLu, H., Li, Y., Chen, M., Kim, H., Serikawa,...  2018   \n",
       "3                        \\nHamet, P., Tremblay, J.\\n  2017   \n",
       "4  \\nKomorowski, M., Celi, L.A., Badawi, O., Gord...  2018   \n",
       "\n",
       "                                            abstract  \n",
       "0  The implementation of clinical-decision suppor...  \n",
       "1  Radiomics aims to quantify phenotypic characte...  \n",
       "2  Artificial intelligence (AI) is an important t...  \n",
       "3  Artificial Intelligence (AI) is a general term...  \n",
       "4  Sepsis is the third leading cause of death wor...  "
      ]
     },
     "execution_count": 2,
     "metadata": {},
     "output_type": "execute_result"
    }
   ],
   "source": [
    "data = pd.read_csv('medical_AI_1.csv', index_col=0)\n",
    "data.head()"
   ]
  },
  {
   "cell_type": "code",
   "execution_count": 8,
   "metadata": {},
   "outputs": [],
   "source": [
    "data['abstract'] =data['abstract'].fillna('내용없음')"
   ]
  },
  {
   "cell_type": "code",
   "execution_count": 10,
   "metadata": {},
   "outputs": [
    {
     "data": {
      "text/plain": [
       "Title       0\n",
       "Author      0\n",
       "Year        0\n",
       "abstract    0\n",
       "dtype: int64"
      ]
     },
     "execution_count": 10,
     "metadata": {},
     "output_type": "execute_result"
    }
   ],
   "source": [
    "data.isnull().sum()"
   ]
  },
  {
   "cell_type": "code",
   "execution_count": 11,
   "metadata": {},
   "outputs": [],
   "source": [
    "abstracts = data.abstract.tolist()\n",
    "# abstracts = abstracts[2:]"
   ]
  },
  {
   "cell_type": "code",
   "execution_count": 12,
   "metadata": {},
   "outputs": [
    {
     "data": {
      "text/plain": [
       "<selenium.webdriver.support.wait.WebDriverWait (session=\"e3d40d47e0ad721b44e938fb6c2d02ad\")>"
      ]
     },
     "execution_count": 12,
     "metadata": {},
     "output_type": "execute_result"
    }
   ],
   "source": [
    "path = '/Users/monica_air/chromedriver'\n",
    "driver = webdriver.Chrome(path)\n",
    "driver.implicitly_wait(3)\n",
    "\n",
    "url ='https://translate.google.co.kr/?hl=ko&sl=en&tl=ko&op=translate'\n",
    "driver.get(url)\n",
    "\n",
    "WebDriverWait(driver, 10)"
   ]
  },
  {
   "cell_type": "code",
   "execution_count": 56,
   "metadata": {},
   "outputs": [
    {
     "data": {
      "text/plain": [
       "'Artificial intelligence (AI) is an important technology that supports daily social life and economic activities. It contributes greatly to the sustainable growth of Japan’s economy and solves various social problems. In recent years, AI has attracted attention as a key for growth in developed countries such as Europe and the United States and developing countries such as China and India. The attention has been focused mainly on developing new artificial intelligence information communication technology (ICT) and robot technology (RT). Although recently developed AI technology certainly excels in extracting certain patterns, there are many limitations. Most ICT models are overly dependent on big data, lack a self-idea function, and are complicated. In this paper, rather than merely developing next-generation artificial intelligence technology, we aim to develop a new concept of general-purpose intelligence cognition technology called “Beyond AI”. Specifically, we plan to develop an intelligent learning model called “Brain Intelligence (BI)” that generates new ideas about events without having experienced them by using artificial life with an imagine function. We will also conduct demonstrations of the developed BI intelligence learning model on automatic driving, precision medical care, and industrial robots.'"
      ]
     },
     "execution_count": 56,
     "metadata": {},
     "output_type": "execute_result"
    }
   ],
   "source": [
    "abstracts[0]"
   ]
  },
  {
   "cell_type": "code",
   "execution_count": 13,
   "metadata": {},
   "outputs": [
    {
     "name": "stdout",
     "output_type": "stream",
     "text": [
      "0 시작\n",
      "0 완료\n",
      "0 뒤로가기 완료\n",
      "1 시작\n",
      "1 완료\n",
      "1 뒤로가기 완료\n",
      "2 시작\n",
      "2 완료\n",
      "2 뒤로가기 완료\n"
     ]
    }
   ],
   "source": [
    "korean = []\n",
    "for num, i in enumerate (abstracts[:3]):\n",
    "    print(num, '시작')\n",
    "    translate = driver.find_element_by_xpath('//*[@id=\"yDmH0d\"]/c-wiz/div/div[2]/c-wiz/div[2]/c-wiz/div[1]/div[2]/div[2]/c-wiz[1]/span/span/div/textarea')\n",
    "    # translate = translate.find_element_by_xpath('//*[@id=\"yDmH0d\"]/c-wiz/div/div[2]/c-wiz/div[2]/c-wiz/div[1]/div[2]/div[2]/c-wiz[1]/span/span/div/textarea').clear() \n",
    "    # translate.find_element_by_name('//*[@id=\"yDmH0d\"]').click()\n",
    "    translate.send_keys(abstracts[num])\n",
    "#     driver.implicitly_wait(10)\n",
    "    #WebDriverWait(driver, 100)\n",
    "    \n",
    "#     driver.find_element_by_css_selector('#ow178 > div:nth-child(1)').click()\n",
    "# # #     driver.implicitly_wait(20)\n",
    "   \n",
    "# #     click_box = driver.find_element_by_xpath('//*[@id=\"ow314\"]/div[1]/span/button/div')\n",
    "# #     click.box.click()\n",
    "    time.sleep(3)\n",
    "    \n",
    "    translate = driver.find_elements_by_css_selector('.J0lOec')\n",
    "    for i in translate:\n",
    "        text = i.text\n",
    "        korean.append(text)\n",
    "        \n",
    "    print(num, '완료')\n",
    "#         print(text)\n",
    "#     print(translate)\n",
    "#     WebDriverWait(driver, 100)\n",
    "# #     ######page source######\n",
    "#     driver.implicitly_wait(10)\n",
    "#     page = driver.page_source\n",
    "#     soup = BeautifulSoup(page, 'html')\n",
    "# #     print(soup.text)\n",
    "# #     WebDriverWait(driver, 100)\n",
    "# # #     print(soup)\n",
    "# # #     print(num, 'page 추출완료')\n",
    "#     texts= soup.find_all('span', attrs= {'jsname' :'W297wb'})\n",
    "#     print(type(texts))\n",
    "#     print(texts.text)\n",
    "#     korean.append(texts)\n",
    "#     text = texts.split('전체 결과')[0]\n",
    "#     print('------------------')\n",
    "#     print(text)\n",
    "# # #     print(num, '완료')\n",
    "#     korean.append(texts)\n",
    "    driver.back()\n",
    "    print(num, '뒤로가기 완료')\n",
    "    "
   ]
  },
  {
   "cell_type": "code",
   "execution_count": 14,
   "metadata": {},
   "outputs": [
    {
     "data": {
      "text/plain": [
       "['의학적 이미징을위한 임상 결정 지원 알고리즘의 구현은 신뢰성 및 해석 가능성에 대한 과제를 직면하게됩니다. 여기에서는 공통된 치료 가능한 망막 질환 환자의 심사를위한 심층 학습 프레임 워크를 기반으로 진단 도구를 수립합니다. 우리의 프레임 워크는 종래의 접근법의 데이터를 비롯한 신경망을 훈련시키는 전송 학습을 사용합니다. 이 접근법을 광학 간섭 단층 촬영 이미지의 데이터 집합에 적용하는 것은 연령 관련 황반변 성 및 당뇨병 환자 부종을 분류하는 인간 전문가의 성능을 보여줍니다. 우리는 또한 신경망이 인식 한 지역을 강조함으로써보다 투명하고 해석 할 수있는 진단을 제공합니다. 우리는 흉부 엑스레이 이미지를 사용하여 소아과 폐렴의 진단을 위해 AI 시스템의 일반적인 적용 가능성을 보여줍니다. 이 도구는 궁극적으로 이러한 치료 가능한 조건의 진단 및 추천을 쉽게 돕기 위해 초기 처리를 촉진하여 임상 결과가 개선됩니다. 비디오 개요 : [그림 참조] 이미지 기반 깊은 학습은 망막 광학적 일관성 단층 촬영 이미지를 사용하여 황반변 성 및 당뇨병 성 망막 병증을 분류하고 생물 의학 이미지 해석 및 의학적 의사 결정에서 일반화 된 응용 분야의 잠재력을 가지고 있습니다.\\n ',\n",
       " 'Radiomics의 목적은 자동화 된 알고리즘의 사용을 통해 의료 영상에 대한 표현형 특성을 정량화한다. 중 설계 하드 코딩 알고리즘 또는 깊은 학습 방법에 따라 Radiomic 인공 지능 (AI) 기술은 비 침습적 영상 기반의 바이오 마커를 개발하는 데 사용할 수 있습니다. 그러나, 심각 바구니 재현성 및 결과 비교를 처리 표준화 알고리즘 정의 및 이미지의 부족. 이 문제를 해결하기 위해, 우리는 PyRadiomics, 의료 영상에서 설계 기능의 대형 패널을 추출 할 수있는 유연한 오픈 소스 플랫폼을 개발했다. PyRadiomics 파이썬으로 구현되며 독립형 또는 3D 슬라이서를 사용하여 사용할 수 있습니다. 여기, 우리는 PyRadiomics의 워크 플로우 및 아키텍처에 대해 논의하고 폐 병변의 특성에의 응용 프로그램을 보여줍니다. 소스 코드, 문서, 예를 www.radiomics.io에서 공개적으로 사용할 수 있습니다. 이 플랫폼을 통해, 우리는 radiomic 분석에 대한 참조 표준을 설정 테스트 된 유지 자원을 제공하고, 암 연구에서 중요한 요구 사항을 해결 radiomic 개발자의 커뮤니티를 성장하는 것을 목표로하고 있습니다. 암 해상도; (77) (21); e104-7. © 2017 AACR.\\n ',\n",
       " '인공 지능 (AI)은 매일 사회 생활 및 경제 활동을 지원하는 중요한 기술입니다. 일본 경제의 지속 가능한 성장에 크게 기여하고 다양한 사회적 문제를 해결합니다. 최근 몇 년 동안 AI는 유럽 및 미국과 같은 선진국의 성장의 핵심으로 주목을 받았습니다. 중국, 인도와 같은 개발 도상국. 새로운 인공 지능 정보 통신 기술 (ICT) 및 로봇 기술 (RT)을 개발하는 데 주로주의를 기울였습니다. 최근에 개발 된 AI 기술은 특정 패턴을 추출하는 데 확실히 탁월하지만 많은 제한이 있습니다. 대부분의 ICT 모델은 큰 데이터에 지나치게 의존하고, 자체 아이디어 기능이 부족하고 복잡합니다. 본 논문에서는 차세대 인공 지능 기술을 개발하는 것이 아니라 \"AI 이상\"이라는 범용 인텔리전스인지 기술의 새로운 개념을 개발하는 것을 목표로합니다. 특히, 우리는 상상의 기능으로 인공 생활을 사용하여 경험이없는 사건에 대한 새로운 아이디어를 생성하는 \"Brain Intelligence (BI)\"이라는 지능형 학습 모델을 개발할 계획입니다. 또한 자동 운전, 정밀 의료 및 산업용 로봇에 대한 개발 된 BI Intelligence 학습 모델의 시연을 실시 할 것입니다.\\n ']"
      ]
     },
     "execution_count": 14,
     "metadata": {},
     "output_type": "execute_result"
    }
   ],
   "source": [
    "korean"
   ]
  },
  {
   "cell_type": "code",
   "execution_count": null,
   "metadata": {},
   "outputs": [],
   "source": []
  }
 ],
 "metadata": {
  "interpreter": {
   "hash": "dca0ade3e726a953b501b15e8e990130d2b7799f14cfd9f4271676035ebe5511"
  },
  "kernelspec": {
   "display_name": "Python 3",
   "language": "python",
   "name": "python3"
  },
  "language_info": {
   "codemirror_mode": {
    "name": "ipython",
    "version": 3
   },
   "file_extension": ".py",
   "mimetype": "text/x-python",
   "name": "python",
   "nbconvert_exporter": "python",
   "pygments_lexer": "ipython3",
   "version": "3.8.5"
  },
  "toc": {
   "base_numbering": 1,
   "nav_menu": {},
   "number_sections": true,
   "sideBar": true,
   "skip_h1_title": false,
   "title_cell": "Table of Contents",
   "title_sidebar": "Contents",
   "toc_cell": false,
   "toc_position": {},
   "toc_section_display": true,
   "toc_window_display": false
  },
  "varInspector": {
   "cols": {
    "lenName": 16,
    "lenType": 16,
    "lenVar": 40
   },
   "kernels_config": {
    "python": {
     "delete_cmd_postfix": "",
     "delete_cmd_prefix": "del ",
     "library": "var_list.py",
     "varRefreshCmd": "print(var_dic_list())"
    },
    "r": {
     "delete_cmd_postfix": ") ",
     "delete_cmd_prefix": "rm(",
     "library": "var_list.r",
     "varRefreshCmd": "cat(var_dic_list()) "
    }
   },
   "types_to_exclude": [
    "module",
    "function",
    "builtin_function_or_method",
    "instance",
    "_Feature"
   ],
   "window_display": false
  }
 },
 "nbformat": 4,
 "nbformat_minor": 2
}
