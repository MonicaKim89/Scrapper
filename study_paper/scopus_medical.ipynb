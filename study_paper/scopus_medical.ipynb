{
 "cells": [
  {
   "cell_type": "code",
   "execution_count": 1,
   "metadata": {},
   "outputs": [],
   "source": [
    "from selenium import webdriver\n",
    "from selenium.webdriver.common.keys import Keys\n",
    "from selenium.webdriver.support.ui import WebDriverWait\n",
    "from selenium.common.exceptions import NoSuchElementException\n",
    "import selenium.common.exceptions as sex\n",
    "\n",
    "import pandas as pd\n",
    "import numpy as np\n",
    "\n",
    "from bs4 import BeautifulSoup\n",
    "import lxml\n",
    "\n",
    "import time"
   ]
  },
  {
   "cell_type": "code",
   "execution_count": 2,
   "metadata": {},
   "outputs": [
    {
     "data": {
      "text/plain": [
       "<selenium.webdriver.support.wait.WebDriverWait (session=\"5b165420ec07380d822cfd809f4688ad\")>"
      ]
     },
     "execution_count": 2,
     "metadata": {},
     "output_type": "execute_result"
    }
   ],
   "source": [
    "path = '/Users/mac626/chromedriver'\n",
    "driver = webdriver.Chrome(path)\n",
    "driver.implicitly_wait(3)\n",
    "\n",
    "url = 'https://www-scopus-com-ssl.openlink.khu.ac.kr/results/results.uri?sort=plf-f&src=s&st1=revolutionary+technology&nlo=&nlr=&nls=&sid=11e5425e0b54ceba6b726cc2a2ac9f29&sot=b&sdt=cl&cluster=scopubyr%2c%222022%22%2ct%2c%222021%22%2ct%2c%222020%22%2ct%2c%222019%22%2ct%2c%222018%22%2ct%2bscosubjabbr%2c%22MEDI%22%2ct%2c%22BIOC%22%2ct&sl=39&s=TITLE-ABS-KEY%28revolutionary+technology%29&origin=resultslist&zone=leftSideBar&editSaveSearch=&txGid=3ef29e22a149213cd531b3eaf495675f'\n",
    "\n",
    "driver.get(url)\n",
    "WebDriverWait(driver, 10)"
   ]
  },
  {
   "cell_type": "code",
   "execution_count": null,
   "metadata": {},
   "outputs": [],
   "source": [
    "#취소\n",
    "# driver.find_element_by_xpath('//*[@id=\"_pendo-close-guide_\"]').click()"
   ]
  },
  {
   "cell_type": "markdown",
   "metadata": {},
   "source": [
    "TITLE-ABS-KEY ( medical  AND ai )  AND  ( LIMIT-TO ( PUBYEAR ,  2022 )  OR  LIMIT-TO ( PUBYEAR ,  2021 )  OR  LIMIT-TO ( PUBYEAR ,  2020 )  OR  LIMIT-TO ( PUBYEAR ,  2019 )  OR  LIMIT-TO ( PUBYEAR ,  2018 )  OR  LIMIT-TO ( PUBYEAR ,  2017 )  OR  LIMIT-TO ( PUBYEAR ,  2016 )  OR  LIMIT-TO ( PUBYEAR ,  2015 ) )  AND  ( LIMIT-TO ( PUBSTAGE ,  \"final\" ) )  AND  ( LIMIT-TO ( DOCTYPE ,  \"ar\" )  OR  LIMIT-TO ( DOCTYPE ,  \"re\" ) )  AND  ( LIMIT-TO ( LANGUAGE ,  \"English\" ) )  AND  ( LIMIT-TO ( SRCTYPE ,  \"j\" ) ) "
   ]
  },
  {
   "cell_type": "code",
   "execution_count": 3,
   "metadata": {},
   "outputs": [
    {
     "data": {
      "text/plain": [
       "<selenium.webdriver.support.wait.WebDriverWait (session=\"90306aca81cf910295b2248224912bde\")>"
      ]
     },
     "execution_count": 3,
     "metadata": {},
     "output_type": "execute_result"
    }
   ],
   "source": [
    "#citation_high\n",
    "driver.find_element_by_xpath('//*[@id=\"navLoad-button\"]/span[1]').click()\n",
    "WebDriverWait(driver, 10)"
   ]
  },
  {
   "cell_type": "code",
   "execution_count": 4,
   "metadata": {},
   "outputs": [
    {
     "data": {
      "text/plain": [
       "<selenium.webdriver.support.wait.WebDriverWait (session=\"90306aca81cf910295b2248224912bde\")>"
      ]
     },
     "execution_count": 4,
     "metadata": {},
     "output_type": "execute_result"
    }
   ],
   "source": [
    "driver.find_element_by_xpath('//*[@id=\"ui-id-3\"]').click()\n",
    "WebDriverWait(driver, 10)"
   ]
  },
  {
   "cell_type": "code",
   "execution_count": 5,
   "metadata": {},
   "outputs": [
    {
     "data": {
      "text/plain": [
       "<selenium.webdriver.support.wait.WebDriverWait (session=\"90306aca81cf910295b2248224912bde\")>"
      ]
     },
     "execution_count": 5,
     "metadata": {},
     "output_type": "execute_result"
    }
   ],
   "source": [
    "#반복해야할 수 있음\n",
    "driver.find_element_by_xpath('//*[@id=\"resultsPerPage-button\"]/span[2]').click()\n",
    "WebDriverWait(driver, 10)"
   ]
  },
  {
   "cell_type": "code",
   "execution_count": 6,
   "metadata": {},
   "outputs": [
    {
     "data": {
      "text/plain": [
       "<selenium.webdriver.support.wait.WebDriverWait (session=\"90306aca81cf910295b2248224912bde\")>"
      ]
     },
     "execution_count": 6,
     "metadata": {},
     "output_type": "execute_result"
    }
   ],
   "source": [
    "driver.find_element_by_xpath('//*[@id=\"resultsPerPage-menu\"]/li[4]').click()\n",
    "WebDriverWait(driver, 10)"
   ]
  },
  {
   "cell_type": "code",
   "execution_count": 66,
   "metadata": {},
   "outputs": [
    {
     "name": "stdout",
     "output_type": "stream",
     "text": [
      "1\n"
     ]
    }
   ],
   "source": [
    "page = driver.page_source\n",
    "soup = BeautifulSoup(page, 'html.parser')\n",
    "print(len(soup))"
   ]
  },
  {
   "cell_type": "markdown",
   "metadata": {},
   "source": [
    "### Titles"
   ]
  },
  {
   "cell_type": "code",
   "execution_count": 67,
   "metadata": {},
   "outputs": [],
   "source": [
    "titles = soup.find_all('a', attrs={'class':'ddmDocTitle'})\n",
    "title = []\n",
    "\n",
    "for i in titles:\n",
    "    title.append(i.get_text())"
   ]
  },
  {
   "cell_type": "code",
   "execution_count": 68,
   "metadata": {},
   "outputs": [
    {
     "name": "stdout",
     "output_type": "stream",
     "text": [
      "50\n"
     ]
    }
   ],
   "source": [
    "print(len(title))"
   ]
  },
  {
   "cell_type": "code",
   "execution_count": 69,
   "metadata": {},
   "outputs": [
    {
     "name": "stdout",
     "output_type": "stream",
     "text": [
      "50\n"
     ]
    }
   ],
   "source": [
    "authors = soup.find_all('span', attrs={'class':'ddmAuthorList'})\n",
    "author =[]\n",
    "\n",
    "for i in authors:\n",
    "    author.append(i.get_text())\n",
    "\n",
    "print(len(author))"
   ]
  },
  {
   "cell_type": "code",
   "execution_count": 70,
   "metadata": {},
   "outputs": [
    {
     "name": "stdout",
     "output_type": "stream",
     "text": [
      "50\n"
     ]
    }
   ],
   "source": [
    "years = soup.find_all('span', attrs={'class':'ddmPubYr'})\n",
    "year =[]\n",
    "\n",
    "for i in years:\n",
    "    year.append(i.get_text())\n",
    "\n",
    "print(len(year))"
   ]
  },
  {
   "cell_type": "code",
   "execution_count": 71,
   "metadata": {},
   "outputs": [
    {
     "name": "stdout",
     "output_type": "stream",
     "text": [
      "41\n",
      "ACS Chemical Biology\n"
     ]
    }
   ],
   "source": [
    "journals = soup.find_all('a', attrs={'class':'ddmDocSource'})\n",
    "journal =[]\n",
    "\n",
    "for i in journals:\n",
    "    journal.append(i.get_text())\n",
    "\n",
    "print(len(journal))\n",
    "print(journal[0])"
   ]
  },
  {
   "cell_type": "code",
   "execution_count": 72,
   "metadata": {},
   "outputs": [
    {
     "name": "stdout",
     "output_type": "stream",
     "text": [
      "50\n",
      "13(2),\n",
      "pp.\n",
      "461-466\n",
      "\n"
     ]
    }
   ],
   "source": [
    "pages = soup.find_all('div', attrs={'class':'additionalContent'})\n",
    "page =[]\n",
    "\n",
    "for i in pages:\n",
    "    page.append(i.get_text())\n",
    "\n",
    "print(len(page))\n",
    "print(page[0])"
   ]
  },
  {
   "cell_type": "code",
   "execution_count": 74,
   "metadata": {},
   "outputs": [],
   "source": [
    "import pandas as pd\n",
    "\n",
    "medical_AI_1 = pd.DataFrame({'Title':title, 'Author':author, 'Year':year})\n",
    "medical_AI_1.to_csv('medical_AI_3.csv')"
   ]
  },
  {
   "cell_type": "markdown",
   "metadata": {},
   "source": [
    "## ABSTRACT"
   ]
  },
  {
   "cell_type": "code",
   "execution_count": 75,
   "metadata": {},
   "outputs": [],
   "source": [
    "driver.find_element_by_xpath('//*[@id=\"previewAbstractLinkText1\"]/a/span[1]').click()"
   ]
  },
  {
   "cell_type": "code",
   "execution_count": 77,
   "metadata": {},
   "outputs": [],
   "source": [
    "try:\n",
    "    for i in range(1,51):\n",
    "        # driver.implicitly_wait(1)\n",
    "        driver.find_element_by_xpath('//*[@id=\"previewAbstractLinkText{}\"]/a/span[1]'.format(i)).click()\n",
    "    # driver.implicitly_wait(4)\n",
    "        WebDriverWait(driver, 10)\n",
    "except NoSuchElementException as e:\n",
    "    print(\"Failed\", i)\n",
    "    pass\n"
   ]
  },
  {
   "cell_type": "code",
   "execution_count": 53,
   "metadata": {},
   "outputs": [],
   "source": [
    "try:\n",
    "    for i in range(158,201):\n",
    "        # driver.implicitly_wait(1)\n",
    "        driver.find_element_by_xpath('//*[@id=\"previewAbstractLinkText{}\"]/a/span[1]'.format(i)).click()\n",
    "    # driver.implicitly_wait(4)\n",
    "        WebDriverWait(driver, 10)\n",
    "except NoSuchElementException as e:\n",
    "    print(\"Failed\", i)\n",
    "    pass\n"
   ]
  },
  {
   "cell_type": "code",
   "execution_count": 54,
   "metadata": {},
   "outputs": [
    {
     "name": "stdout",
     "output_type": "stream",
     "text": [
      "1\n"
     ]
    }
   ],
   "source": [
    "page = driver.page_source\n",
    "soup = BeautifulSoup(page, 'html.parser')\n",
    "print(len(soup))"
   ]
  },
  {
   "cell_type": "code",
   "execution_count": 55,
   "metadata": {},
   "outputs": [
    {
     "name": "stdout",
     "output_type": "stream",
     "text": [
      "1\n",
      "2\n",
      "3\n",
      "4\n",
      "5\n",
      "6\n",
      "7\n",
      "8\n",
      "9\n",
      "10\n",
      "11\n",
      "12\n",
      "13\n",
      "14\n",
      "15\n",
      "16\n",
      "17\n",
      "18\n",
      "19\n",
      "20\n",
      "21\n",
      "22\n",
      "23\n",
      "24\n",
      "25\n",
      "26\n",
      "27\n",
      "28\n",
      "29\n",
      "30\n",
      "31\n",
      "32\n",
      "33\n",
      "34\n",
      "35\n",
      "36\n",
      "37\n",
      "38\n",
      "39\n",
      "40\n",
      "41\n",
      "42\n",
      "43\n",
      "44\n",
      "45\n",
      "46\n",
      "47\n",
      "48\n",
      "49\n",
      "50\n",
      "51\n",
      "52\n",
      "53\n",
      "54\n",
      "55\n",
      "56\n",
      "57\n",
      "58\n",
      "59\n",
      "60\n",
      "61\n",
      "62\n",
      "63\n",
      "64\n",
      "65\n",
      "66\n",
      "67\n",
      "68\n",
      "69\n",
      "70\n",
      "71\n",
      "72\n",
      "73\n",
      "74\n",
      "75\n",
      "76\n",
      "77\n",
      "78\n",
      "79\n",
      "80\n",
      "81\n",
      "82\n",
      "83\n",
      "84\n",
      "85\n",
      "86\n",
      "87\n",
      "88\n",
      "89\n",
      "90\n",
      "91\n",
      "92\n",
      "93\n",
      "94\n",
      "95\n",
      "96\n",
      "97\n",
      "98\n",
      "99\n",
      "100\n",
      "101\n",
      "102\n",
      "103\n",
      "104\n",
      "105\n",
      "106\n",
      "107\n",
      "108\n",
      "109\n",
      "110\n",
      "111\n",
      "112\n",
      "113\n",
      "114\n",
      "115\n",
      "116\n",
      "117\n",
      "118\n",
      "119\n",
      "120\n",
      "121\n",
      "122\n",
      "123\n",
      "124\n",
      "125\n",
      "126\n",
      "127\n",
      "128\n",
      "129\n",
      "130\n",
      "131\n",
      "132\n",
      "133\n",
      "134\n",
      "135\n",
      "136\n",
      "137\n",
      "138\n",
      "139\n",
      "140\n",
      "141\n",
      "142\n",
      "143\n",
      "144\n",
      "145\n",
      "146\n",
      "147\n",
      "148\n",
      "149\n",
      "150\n",
      "151\n",
      "152\n",
      "153\n",
      "154\n",
      "155\n",
      "156\n"
     ]
    }
   ],
   "source": [
    "for i in range(1, 157):\n",
    "    print(i)"
   ]
  },
  {
   "cell_type": "code",
   "execution_count": 56,
   "metadata": {},
   "outputs": [],
   "source": [
    "abstract_list = []\n",
    "for i in range(1, 157):\n",
    "    abstract_list.append('//*[@id=\"previewAbstract{}\"]/span'.format(i))\n",
    "\n"
   ]
  },
  {
   "cell_type": "code",
   "execution_count": 57,
   "metadata": {},
   "outputs": [],
   "source": [
    "abstract_list.append('no abstract')"
   ]
  },
  {
   "cell_type": "code",
   "execution_count": 58,
   "metadata": {},
   "outputs": [
    {
     "name": "stdout",
     "output_type": "stream",
     "text": [
      "//*[@id=\"previewAbstract200\"]/span\n"
     ]
    }
   ],
   "source": [
    "for j in range(158, 201):\n",
    "    abstract_list.append('//*[@id=\"previewAbstract{}\"]/span'.format(j))\n",
    "    \n",
    "print(abstract_list[-1])"
   ]
  },
  {
   "cell_type": "code",
   "execution_count": 59,
   "metadata": {},
   "outputs": [
    {
     "data": {
      "text/plain": [
       "200"
      ]
     },
     "execution_count": 59,
     "metadata": {},
     "output_type": "execute_result"
    }
   ],
   "source": [
    "len(abstract_list)"
   ]
  },
  {
   "cell_type": "code",
   "execution_count": 60,
   "metadata": {},
   "outputs": [],
   "source": [
    "from tqdm import tqdm"
   ]
  },
  {
   "cell_type": "code",
   "execution_count": 61,
   "metadata": {},
   "outputs": [
    {
     "name": "stderr",
     "output_type": "stream",
     "text": [
      "164it [00:04, 37.99it/s]"
     ]
    },
    {
     "name": "stdout",
     "output_type": "stream",
     "text": [
      "bb 156\n"
     ]
    },
    {
     "name": "stderr",
     "output_type": "stream",
     "text": [
      "200it [00:05, 36.26it/s]\n"
     ]
    }
   ],
   "source": [
    "abstract = []\n",
    "for num, j in tqdm (enumerate(abstract_list)):\n",
    "    try:\n",
    "        contents = driver.find_elements_by_xpath(j)\n",
    "        for i in contents:\n",
    "            abstract.append(i.text)\n",
    "    except:\n",
    "        abstract.append('no abstracts')\n",
    "        print('bb', num)\n",
    "        continue"
   ]
  },
  {
   "cell_type": "code",
   "execution_count": 62,
   "metadata": {},
   "outputs": [
    {
     "data": {
      "text/html": [
       "<div>\n",
       "<style scoped>\n",
       "    .dataframe tbody tr th:only-of-type {\n",
       "        vertical-align: middle;\n",
       "    }\n",
       "\n",
       "    .dataframe tbody tr th {\n",
       "        vertical-align: top;\n",
       "    }\n",
       "\n",
       "    .dataframe thead th {\n",
       "        text-align: right;\n",
       "    }\n",
       "</style>\n",
       "<table border=\"1\" class=\"dataframe\">\n",
       "  <thead>\n",
       "    <tr style=\"text-align: right;\">\n",
       "      <th></th>\n",
       "      <th>Title</th>\n",
       "      <th>Author</th>\n",
       "      <th>Year</th>\n",
       "    </tr>\n",
       "  </thead>\n",
       "  <tbody>\n",
       "    <tr>\n",
       "      <th>0</th>\n",
       "      <td>Understanding the complexity of retina and plu...</td>\n",
       "      <td>\\nZerti, D., Collin, J., Queen, R., Cockell, S...</td>\n",
       "      <td>2020</td>\n",
       "    </tr>\n",
       "    <tr>\n",
       "      <th>1</th>\n",
       "      <td>A dynamic plane prediction method using the ex...</td>\n",
       "      <td>\\nPark, J., Park, K.H.\\n</td>\n",
       "      <td>2020</td>\n",
       "    </tr>\n",
       "    <tr>\n",
       "      <th>2</th>\n",
       "      <td>Genetic counseling and genome sequencing in pe...</td>\n",
       "      <td>\\nElliott, A.M.\\n</td>\n",
       "      <td>2020</td>\n",
       "    </tr>\n",
       "    <tr>\n",
       "      <th>3</th>\n",
       "      <td>Application and future perspective of CRISPR/C...</td>\n",
       "      <td>\\nZhou, J., Li, D., Wang, G., (...), Joldersma...</td>\n",
       "      <td>2020</td>\n",
       "    </tr>\n",
       "    <tr>\n",
       "      <th>4</th>\n",
       "      <td>What's in a cardiomyocyte – And how do we make...</td>\n",
       "      <td>\\nKeepers, B., Liu, J., Qian, L.\\n</td>\n",
       "      <td>2020</td>\n",
       "    </tr>\n",
       "    <tr>\n",
       "      <th>...</th>\n",
       "      <td>...</td>\n",
       "      <td>...</td>\n",
       "      <td>...</td>\n",
       "    </tr>\n",
       "    <tr>\n",
       "      <th>195</th>\n",
       "      <td>Crispr-mediated genome engineering and its app...</td>\n",
       "      <td>\\nKaboli, S., Babazada, H.\\n</td>\n",
       "      <td>2018</td>\n",
       "    </tr>\n",
       "    <tr>\n",
       "      <th>196</th>\n",
       "      <td>Aptamer therapeutics in cancer: Current and fu...</td>\n",
       "      <td>\\nMorita, Y., Leslie, M., Kameyama, H., Volk, ...</td>\n",
       "      <td>2018</td>\n",
       "    </tr>\n",
       "    <tr>\n",
       "      <th>197</th>\n",
       "      <td>Understanding the Molecular Mechanisms of the ...</td>\n",
       "      <td>\\nSingh, D., Ha, T.\\n</td>\n",
       "      <td>2018</td>\n",
       "    </tr>\n",
       "    <tr>\n",
       "      <th>198</th>\n",
       "      <td>Next-generation lineage discovery: A case stud...</td>\n",
       "      <td>\\nStoughton, T.R., Kriebel, R., Jolles, D.D., ...</td>\n",
       "      <td>2018</td>\n",
       "    </tr>\n",
       "    <tr>\n",
       "      <th>199</th>\n",
       "      <td>A decade later, continued transformation of tr...</td>\n",
       "      <td>\\nYoung, M.N., Elmariah, S.\\n</td>\n",
       "      <td>2018</td>\n",
       "    </tr>\n",
       "  </tbody>\n",
       "</table>\n",
       "<p>200 rows × 3 columns</p>\n",
       "</div>"
      ],
      "text/plain": [
       "                                                 Title  \\\n",
       "0    Understanding the complexity of retina and plu...   \n",
       "1    A dynamic plane prediction method using the ex...   \n",
       "2    Genetic counseling and genome sequencing in pe...   \n",
       "3    Application and future perspective of CRISPR/C...   \n",
       "4    What's in a cardiomyocyte – And how do we make...   \n",
       "..                                                 ...   \n",
       "195  Crispr-mediated genome engineering and its app...   \n",
       "196  Aptamer therapeutics in cancer: Current and fu...   \n",
       "197  Understanding the Molecular Mechanisms of the ...   \n",
       "198  Next-generation lineage discovery: A case stud...   \n",
       "199  A decade later, continued transformation of tr...   \n",
       "\n",
       "                                                Author  Year  \n",
       "0    \\nZerti, D., Collin, J., Queen, R., Cockell, S...  2020  \n",
       "1                             \\nPark, J., Park, K.H.\\n  2020  \n",
       "2                                    \\nElliott, A.M.\\n  2020  \n",
       "3    \\nZhou, J., Li, D., Wang, G., (...), Joldersma...  2020  \n",
       "4                   \\nKeepers, B., Liu, J., Qian, L.\\n  2020  \n",
       "..                                                 ...   ...  \n",
       "195                       \\nKaboli, S., Babazada, H.\\n  2018  \n",
       "196  \\nMorita, Y., Leslie, M., Kameyama, H., Volk, ...  2018  \n",
       "197                              \\nSingh, D., Ha, T.\\n  2018  \n",
       "198  \\nStoughton, T.R., Kriebel, R., Jolles, D.D., ...  2018  \n",
       "199                      \\nYoung, M.N., Elmariah, S.\\n  2018  \n",
       "\n",
       "[200 rows x 3 columns]"
      ]
     },
     "execution_count": 62,
     "metadata": {},
     "output_type": "execute_result"
    }
   ],
   "source": [
    "medical_AI_1 = pd.read_csv('medical_AI_2.csv', index_col=0)\n",
    "medical_AI_1"
   ]
  },
  {
   "cell_type": "code",
   "execution_count": 63,
   "metadata": {},
   "outputs": [],
   "source": [
    "medical_AI_1['abstract'] = abstract"
   ]
  },
  {
   "cell_type": "code",
   "execution_count": 64,
   "metadata": {},
   "outputs": [
    {
     "data": {
      "text/html": [
       "<div>\n",
       "<style scoped>\n",
       "    .dataframe tbody tr th:only-of-type {\n",
       "        vertical-align: middle;\n",
       "    }\n",
       "\n",
       "    .dataframe tbody tr th {\n",
       "        vertical-align: top;\n",
       "    }\n",
       "\n",
       "    .dataframe thead th {\n",
       "        text-align: right;\n",
       "    }\n",
       "</style>\n",
       "<table border=\"1\" class=\"dataframe\">\n",
       "  <thead>\n",
       "    <tr style=\"text-align: right;\">\n",
       "      <th></th>\n",
       "      <th>Title</th>\n",
       "      <th>Author</th>\n",
       "      <th>Year</th>\n",
       "      <th>abstract</th>\n",
       "    </tr>\n",
       "  </thead>\n",
       "  <tbody>\n",
       "    <tr>\n",
       "      <th>0</th>\n",
       "      <td>Understanding the complexity of retina and plu...</td>\n",
       "      <td>\\nZerti, D., Collin, J., Queen, R., Cockell, S...</td>\n",
       "      <td>2020</td>\n",
       "      <td>Single-cell sequencing technologies have emerg...</td>\n",
       "    </tr>\n",
       "    <tr>\n",
       "      <th>1</th>\n",
       "      <td>A dynamic plane prediction method using the ex...</td>\n",
       "      <td>\\nPark, J., Park, K.H.\\n</td>\n",
       "      <td>2020</td>\n",
       "      <td>Internet of Things (IoT) technologies are unde...</td>\n",
       "    </tr>\n",
       "    <tr>\n",
       "      <th>2</th>\n",
       "      <td>Genetic counseling and genome sequencing in pe...</td>\n",
       "      <td>\\nElliott, A.M.\\n</td>\n",
       "      <td>2020</td>\n",
       "      <td>Both genome sequencing (GS) and exome sequenci...</td>\n",
       "    </tr>\n",
       "    <tr>\n",
       "      <th>3</th>\n",
       "      <td>Application and future perspective of CRISPR/C...</td>\n",
       "      <td>\\nZhou, J., Li, D., Wang, G., (...), Joldersma...</td>\n",
       "      <td>2020</td>\n",
       "      <td>Fruit crops, including apple, orange, grape, b...</td>\n",
       "    </tr>\n",
       "    <tr>\n",
       "      <th>4</th>\n",
       "      <td>What's in a cardiomyocyte – And how do we make...</td>\n",
       "      <td>\\nKeepers, B., Liu, J., Qian, L.\\n</td>\n",
       "      <td>2020</td>\n",
       "      <td>Substantial progress is being made in the fiel...</td>\n",
       "    </tr>\n",
       "    <tr>\n",
       "      <th>...</th>\n",
       "      <td>...</td>\n",
       "      <td>...</td>\n",
       "      <td>...</td>\n",
       "      <td>...</td>\n",
       "    </tr>\n",
       "    <tr>\n",
       "      <th>195</th>\n",
       "      <td>Crispr-mediated genome engineering and its app...</td>\n",
       "      <td>\\nKaboli, S., Babazada, H.\\n</td>\n",
       "      <td>2018</td>\n",
       "      <td>The CRISPR (clustered regularly interspaced sh...</td>\n",
       "    </tr>\n",
       "    <tr>\n",
       "      <th>196</th>\n",
       "      <td>Aptamer therapeutics in cancer: Current and fu...</td>\n",
       "      <td>\\nMorita, Y., Leslie, M., Kameyama, H., Volk, ...</td>\n",
       "      <td>2018</td>\n",
       "      <td>Aptamer-related technologies represent a revol...</td>\n",
       "    </tr>\n",
       "    <tr>\n",
       "      <th>197</th>\n",
       "      <td>Understanding the Molecular Mechanisms of the ...</td>\n",
       "      <td>\\nSingh, D., Ha, T.\\n</td>\n",
       "      <td>2018</td>\n",
       "      <td>Adaptive immunity against foreign genetic elem...</td>\n",
       "    </tr>\n",
       "    <tr>\n",
       "      <th>198</th>\n",
       "      <td>Next-generation lineage discovery: A case stud...</td>\n",
       "      <td>\\nStoughton, T.R., Kriebel, R., Jolles, D.D., ...</td>\n",
       "      <td>2018</td>\n",
       "      <td>Premise of the Study: Species formation is an ...</td>\n",
       "    </tr>\n",
       "    <tr>\n",
       "      <th>199</th>\n",
       "      <td>A decade later, continued transformation of tr...</td>\n",
       "      <td>\\nYoung, M.N., Elmariah, S.\\n</td>\n",
       "      <td>2018</td>\n",
       "      <td>The emergence of transcatheter aortic valve re...</td>\n",
       "    </tr>\n",
       "  </tbody>\n",
       "</table>\n",
       "<p>200 rows × 4 columns</p>\n",
       "</div>"
      ],
      "text/plain": [
       "                                                 Title  \\\n",
       "0    Understanding the complexity of retina and plu...   \n",
       "1    A dynamic plane prediction method using the ex...   \n",
       "2    Genetic counseling and genome sequencing in pe...   \n",
       "3    Application and future perspective of CRISPR/C...   \n",
       "4    What's in a cardiomyocyte – And how do we make...   \n",
       "..                                                 ...   \n",
       "195  Crispr-mediated genome engineering and its app...   \n",
       "196  Aptamer therapeutics in cancer: Current and fu...   \n",
       "197  Understanding the Molecular Mechanisms of the ...   \n",
       "198  Next-generation lineage discovery: A case stud...   \n",
       "199  A decade later, continued transformation of tr...   \n",
       "\n",
       "                                                Author  Year  \\\n",
       "0    \\nZerti, D., Collin, J., Queen, R., Cockell, S...  2020   \n",
       "1                             \\nPark, J., Park, K.H.\\n  2020   \n",
       "2                                    \\nElliott, A.M.\\n  2020   \n",
       "3    \\nZhou, J., Li, D., Wang, G., (...), Joldersma...  2020   \n",
       "4                   \\nKeepers, B., Liu, J., Qian, L.\\n  2020   \n",
       "..                                                 ...   ...   \n",
       "195                       \\nKaboli, S., Babazada, H.\\n  2018   \n",
       "196  \\nMorita, Y., Leslie, M., Kameyama, H., Volk, ...  2018   \n",
       "197                              \\nSingh, D., Ha, T.\\n  2018   \n",
       "198  \\nStoughton, T.R., Kriebel, R., Jolles, D.D., ...  2018   \n",
       "199                      \\nYoung, M.N., Elmariah, S.\\n  2018   \n",
       "\n",
       "                                              abstract  \n",
       "0    Single-cell sequencing technologies have emerg...  \n",
       "1    Internet of Things (IoT) technologies are unde...  \n",
       "2    Both genome sequencing (GS) and exome sequenci...  \n",
       "3    Fruit crops, including apple, orange, grape, b...  \n",
       "4    Substantial progress is being made in the fiel...  \n",
       "..                                                 ...  \n",
       "195  The CRISPR (clustered regularly interspaced sh...  \n",
       "196  Aptamer-related technologies represent a revol...  \n",
       "197  Adaptive immunity against foreign genetic elem...  \n",
       "198  Premise of the Study: Species formation is an ...  \n",
       "199  The emergence of transcatheter aortic valve re...  \n",
       "\n",
       "[200 rows x 4 columns]"
      ]
     },
     "execution_count": 64,
     "metadata": {},
     "output_type": "execute_result"
    }
   ],
   "source": [
    "medical_AI_1"
   ]
  },
  {
   "cell_type": "code",
   "execution_count": 38,
   "metadata": {},
   "outputs": [
    {
     "name": "stdout",
     "output_type": "stream",
     "text": [
      "Collecting openpyxl\n",
      "  Downloading openpyxl-3.0.9-py2.py3-none-any.whl (242 kB)\n",
      "\u001b[K     |████████████████████████████████| 242 kB 5.3 MB/s eta 0:00:01\n",
      "\u001b[?25hCollecting et-xmlfile\n",
      "  Downloading et_xmlfile-1.1.0-py3-none-any.whl (4.7 kB)\n",
      "Installing collected packages: et-xmlfile, openpyxl\n",
      "Successfully installed et-xmlfile-1.1.0 openpyxl-3.0.9\n"
     ]
    }
   ],
   "source": [
    "!pip install openpyxl"
   ]
  },
  {
   "cell_type": "code",
   "execution_count": 39,
   "metadata": {},
   "outputs": [],
   "source": [
    "import openpyxl"
   ]
  },
  {
   "cell_type": "code",
   "execution_count": 65,
   "metadata": {},
   "outputs": [],
   "source": [
    "medical_AI_1.to_excel('medical_ai_two.xlsx', encoding = 'utf-8')"
   ]
  },
  {
   "cell_type": "code",
   "execution_count": 41,
   "metadata": {},
   "outputs": [
    {
     "data": {
      "text/plain": [
       "'/Users/mac626/Documents/GitHub/Scrapper/study_paper'"
      ]
     },
     "execution_count": 41,
     "metadata": {},
     "output_type": "execute_result"
    }
   ],
   "source": [
    "/pwd"
   ]
  },
  {
   "cell_type": "code",
   "execution_count": null,
   "metadata": {},
   "outputs": [],
   "source": []
  }
 ],
 "metadata": {
  "interpreter": {
   "hash": "13ddd8e4bbab9f189b23159d9bff0382f6ebbdf19bbccdd26279f60d699cf2a0"
  },
  "kernelspec": {
   "display_name": "Python 3 (ipykernel)",
   "language": "python",
   "name": "python3"
  },
  "language_info": {
   "codemirror_mode": {
    "name": "ipython",
    "version": 3
   },
   "file_extension": ".py",
   "mimetype": "text/x-python",
   "name": "python",
   "nbconvert_exporter": "python",
   "pygments_lexer": "ipython3",
   "version": "3.8.11"
  }
 },
 "nbformat": 4,
 "nbformat_minor": 2
}
