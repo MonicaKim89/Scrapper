{
 "cells": [
  {
   "cell_type": "code",
   "execution_count": 1,
   "source": [
    "from selenium import webdriver\n",
    "from selenium.webdriver.common.keys import Keys\n",
    "from selenium.webdriver.support.ui import WebDriverWait\n",
    "from selenium.common.exceptions import NoSuchElementException\n",
    "import selenium.common.exceptions as sex\n",
    "\n",
    "import pandas as pd\n",
    "import numpy as np\n",
    "\n",
    "from bs4 import BeautifulSoup\n",
    "import lxml\n",
    "\n",
    "import time"
   ],
   "outputs": [],
   "metadata": {}
  },
  {
   "cell_type": "code",
   "execution_count": 2,
   "source": [
    "path = ''\n",
    "driver = webdriver.Chrome(path)\n",
    "driver.implicitly_wait(3)\n",
    "\n",
    "url = ''\n",
    "\n",
    "driver.get(url)\n",
    "WebDriverWait(driver, 10)"
   ],
   "outputs": [
    {
     "output_type": "execute_result",
     "data": {
      "text/plain": [
       "<selenium.webdriver.support.wait.WebDriverWait (session=\"90306aca81cf910295b2248224912bde\")>"
      ]
     },
     "metadata": {},
     "execution_count": 2
    }
   ],
   "metadata": {}
  },
  {
   "cell_type": "code",
   "execution_count": null,
   "source": [
    "#취소\n",
    "# driver.find_element_by_xpath('//*[@id=\"_pendo-close-guide_\"]').click()"
   ],
   "outputs": [],
   "metadata": {}
  },
  {
   "cell_type": "markdown",
   "source": [
    "TITLE-ABS-KEY ( medical  AND ai )  AND  ( LIMIT-TO ( PUBYEAR ,  2022 )  OR  LIMIT-TO ( PUBYEAR ,  2021 )  OR  LIMIT-TO ( PUBYEAR ,  2020 )  OR  LIMIT-TO ( PUBYEAR ,  2019 )  OR  LIMIT-TO ( PUBYEAR ,  2018 )  OR  LIMIT-TO ( PUBYEAR ,  2017 )  OR  LIMIT-TO ( PUBYEAR ,  2016 )  OR  LIMIT-TO ( PUBYEAR ,  2015 ) )  AND  ( LIMIT-TO ( PUBSTAGE ,  \"final\" ) )  AND  ( LIMIT-TO ( DOCTYPE ,  \"ar\" )  OR  LIMIT-TO ( DOCTYPE ,  \"re\" ) )  AND  ( LIMIT-TO ( LANGUAGE ,  \"English\" ) )  AND  ( LIMIT-TO ( SRCTYPE ,  \"j\" ) ) "
   ],
   "metadata": {}
  },
  {
   "cell_type": "code",
   "execution_count": 3,
   "source": [
    "#citation_high\n",
    "driver.find_element_by_xpath('//*[@id=\"navLoad-button\"]/span[1]').click()\n",
    "WebDriverWait(driver, 10)"
   ],
   "outputs": [
    {
     "output_type": "execute_result",
     "data": {
      "text/plain": [
       "<selenium.webdriver.support.wait.WebDriverWait (session=\"90306aca81cf910295b2248224912bde\")>"
      ]
     },
     "metadata": {},
     "execution_count": 3
    }
   ],
   "metadata": {}
  },
  {
   "cell_type": "code",
   "execution_count": 4,
   "source": [
    "driver.find_element_by_xpath('//*[@id=\"ui-id-3\"]').click()\n",
    "WebDriverWait(driver, 10)"
   ],
   "outputs": [
    {
     "output_type": "execute_result",
     "data": {
      "text/plain": [
       "<selenium.webdriver.support.wait.WebDriverWait (session=\"90306aca81cf910295b2248224912bde\")>"
      ]
     },
     "metadata": {},
     "execution_count": 4
    }
   ],
   "metadata": {}
  },
  {
   "cell_type": "code",
   "execution_count": 5,
   "source": [
    "#반복해야할 수 있음\n",
    "driver.find_element_by_xpath('//*[@id=\"resultsPerPage-button\"]/span[2]').click()\n",
    "WebDriverWait(driver, 10)"
   ],
   "outputs": [
    {
     "output_type": "execute_result",
     "data": {
      "text/plain": [
       "<selenium.webdriver.support.wait.WebDriverWait (session=\"90306aca81cf910295b2248224912bde\")>"
      ]
     },
     "metadata": {},
     "execution_count": 5
    }
   ],
   "metadata": {}
  },
  {
   "cell_type": "code",
   "execution_count": 6,
   "source": [
    "driver.find_element_by_xpath('//*[@id=\"resultsPerPage-menu\"]/li[4]').click()\n",
    "WebDriverWait(driver, 10)"
   ],
   "outputs": [
    {
     "output_type": "execute_result",
     "data": {
      "text/plain": [
       "<selenium.webdriver.support.wait.WebDriverWait (session=\"90306aca81cf910295b2248224912bde\")>"
      ]
     },
     "metadata": {},
     "execution_count": 6
    }
   ],
   "metadata": {}
  },
  {
   "cell_type": "code",
   "execution_count": 12,
   "source": [
    "page = driver.page_source\n",
    "soup = BeautifulSoup(page, 'html.parser')\n",
    "print(len(soup))"
   ],
   "outputs": [
    {
     "output_type": "stream",
     "name": "stdout",
     "text": [
      "1\n"
     ]
    }
   ],
   "metadata": {}
  },
  {
   "cell_type": "markdown",
   "source": [
    "### Titles"
   ],
   "metadata": {}
  },
  {
   "cell_type": "code",
   "execution_count": 13,
   "source": [
    "titles = soup.find_all('a', attrs={'class':'ddmDocTitle'})\n",
    "title = []\n",
    "\n",
    "for i in titles:\n",
    "    title.append(i.get_text())"
   ],
   "outputs": [],
   "metadata": {}
  },
  {
   "cell_type": "code",
   "execution_count": 14,
   "source": [
    "print(len(title))"
   ],
   "outputs": [
    {
     "output_type": "stream",
     "name": "stdout",
     "text": [
      "200\n"
     ]
    }
   ],
   "metadata": {}
  },
  {
   "cell_type": "code",
   "execution_count": 15,
   "source": [
    "authors = soup.find_all('span', attrs={'class':'ddmAuthorList'})\n",
    "author =[]\n",
    "\n",
    "for i in authors:\n",
    "    author.append(i.get_text())\n",
    "\n",
    "print(len(author))"
   ],
   "outputs": [
    {
     "output_type": "stream",
     "name": "stdout",
     "text": [
      "200\n"
     ]
    }
   ],
   "metadata": {}
  },
  {
   "cell_type": "code",
   "execution_count": 16,
   "source": [
    "years = soup.find_all('span', attrs={'class':'ddmPubYr'})\n",
    "year =[]\n",
    "\n",
    "for i in years:\n",
    "    year.append(i.get_text())\n",
    "\n",
    "print(len(year))"
   ],
   "outputs": [
    {
     "output_type": "stream",
     "name": "stdout",
     "text": [
      "200\n"
     ]
    }
   ],
   "metadata": {}
  },
  {
   "cell_type": "code",
   "execution_count": 17,
   "source": [
    "journals = soup.find_all('a', attrs={'class':'ddmDocSource'})\n",
    "journal =[]\n",
    "\n",
    "for i in journals:\n",
    "    journal.append(i.get_text())\n",
    "\n",
    "print(len(journal))\n",
    "print(journal[0])"
   ],
   "outputs": [
    {
     "output_type": "stream",
     "name": "stdout",
     "text": [
      "200\n",
      "Cell\n"
     ]
    }
   ],
   "metadata": {}
  },
  {
   "cell_type": "code",
   "execution_count": 18,
   "source": [
    "pages = soup.find_all('div', attrs={'class':'additionalContent'})\n",
    "page =[]\n",
    "\n",
    "for i in pages:\n",
    "    page.append(i.get_text())\n",
    "\n",
    "print(len(page))\n",
    "print(page[0])"
   ],
   "outputs": [
    {
     "output_type": "stream",
     "name": "stdout",
     "text": [
      "200\n",
      "172(5),\n",
      "pp.\n",
      "1122-1131.e9\n",
      "\n"
     ]
    }
   ],
   "metadata": {}
  },
  {
   "cell_type": "code",
   "execution_count": 20,
   "source": [
    "import pandas as pd\n",
    "\n",
    "medical_AI_1 = pd.DataFrame({'Title':title, 'Author':author, 'Year':year})\n",
    "medical_AI_1.to_csv('medical_AI_1.csv')"
   ],
   "outputs": [],
   "metadata": {}
  },
  {
   "cell_type": "markdown",
   "source": [
    "## ABSTRACT"
   ],
   "metadata": {}
  },
  {
   "cell_type": "code",
   "execution_count": 16,
   "source": [
    "driver.find_element_by_xpath('//*[@id=\"previewAbstractLinkText1\"]/a/span[1]').click()"
   ],
   "outputs": [],
   "metadata": {}
  },
  {
   "cell_type": "code",
   "execution_count": 12,
   "source": [
    "try:\n",
    "    for i in range(1,201):\n",
    "        # driver.implicitly_wait(1)\n",
    "        driver.find_element_by_xpath('//*[@id=\"previewAbstractLinkText{}\"]/a/span[1]'.format(i)).click()\n",
    "    # driver.implicitly_wait(4)\n",
    "        WebDriverWait(driver, 10)\n",
    "except NoSuchElementException as e:\n",
    "    print(\"Failed\", i)\n",
    "    pass\n"
   ],
   "outputs": [
    {
     "output_type": "stream",
     "name": "stdout",
     "text": [
      "Failed 28\n"
     ]
    }
   ],
   "metadata": {}
  },
  {
   "cell_type": "code",
   "execution_count": 13,
   "source": [
    "try:\n",
    "    for i in range(29,201):\n",
    "        # driver.implicitly_wait(1)\n",
    "        driver.find_element_by_xpath('//*[@id=\"previewAbstractLinkText{}\"]/a/span[1]'.format(i)).click()\n",
    "    # driver.implicitly_wait(4)\n",
    "        WebDriverWait(driver, 10)\n",
    "except NoSuchElementException as e:\n",
    "    print(\"Failed\", i)\n",
    "    pass\n"
   ],
   "outputs": [],
   "metadata": {}
  },
  {
   "cell_type": "code",
   "execution_count": 84,
   "source": [
    "page = driver.page_source\n",
    "soup = BeautifulSoup(page, 'html.parser')\n",
    "print(len(soup))"
   ],
   "outputs": [
    {
     "output_type": "stream",
     "name": "stdout",
     "text": [
      "1\n"
     ]
    }
   ],
   "metadata": {}
  },
  {
   "cell_type": "code",
   "execution_count": 68,
   "source": [
    "abstract_list = []\n",
    "for i in range(1, 28):\n",
    "    abstract_list.append('//*[@id=\"previewAbstract{}\"]/span'.format(i))\n",
    "\n"
   ],
   "outputs": [],
   "metadata": {}
  },
  {
   "cell_type": "code",
   "execution_count": 69,
   "source": [
    "for j in range(29, 201):\n",
    "    abstract_list.append('//*[@id=\"previewAbstract{}\"]/span'.format(j))\n",
    "    \n",
    "print(abstract_list[-1])"
   ],
   "outputs": [
    {
     "output_type": "stream",
     "name": "stdout",
     "text": [
      "//*[@id=\"previewAbstract200\"]/span\n"
     ]
    }
   ],
   "metadata": {}
  },
  {
   "cell_type": "code",
   "execution_count": 91,
   "source": [
    "abstract = []\n",
    "for num, j in enumerate(abstract_list):\n",
    "    contents = driver.find_elements_by_xpath(j)\n",
    "    for i in contents:\n",
    "        abstract.apped(i.text) "
   ],
   "outputs": [],
   "metadata": {}
  },
  {
   "cell_type": "code",
   "execution_count": 111,
   "source": [
    "\n",
    "medical_AI_1 = pd.read_csv('medical_AI_1.csv', index_col=0)\n",
    "medical_AI_1"
   ],
   "outputs": [
    {
     "output_type": "execute_result",
     "data": {
      "text/html": [
       "<div>\n",
       "<style scoped>\n",
       "    .dataframe tbody tr th:only-of-type {\n",
       "        vertical-align: middle;\n",
       "    }\n",
       "\n",
       "    .dataframe tbody tr th {\n",
       "        vertical-align: top;\n",
       "    }\n",
       "\n",
       "    .dataframe thead th {\n",
       "        text-align: right;\n",
       "    }\n",
       "</style>\n",
       "<table border=\"1\" class=\"dataframe\">\n",
       "  <thead>\n",
       "    <tr style=\"text-align: right;\">\n",
       "      <th></th>\n",
       "      <th>Title</th>\n",
       "      <th>Author</th>\n",
       "      <th>Year</th>\n",
       "      <th>Abstract</th>\n",
       "    </tr>\n",
       "  </thead>\n",
       "  <tbody>\n",
       "    <tr>\n",
       "      <th>0</th>\n",
       "      <td>Identifying Medical Diagnoses and Treatable Di...</td>\n",
       "      <td>\\nKermany, D.S., Goldbaum, M., Cai, W., (...),...</td>\n",
       "      <td>2018</td>\n",
       "      <td>The implementation of clinical-decision suppor...</td>\n",
       "    </tr>\n",
       "    <tr>\n",
       "      <th>1</th>\n",
       "      <td>Computational radiomics system to decode the r...</td>\n",
       "      <td>\\nVan Griethuysen, J.J.M., Fedorov, A., Parmar...</td>\n",
       "      <td>2017</td>\n",
       "      <td>Radiomics aims to quantify phenotypic characte...</td>\n",
       "    </tr>\n",
       "    <tr>\n",
       "      <th>2</th>\n",
       "      <td>Guidelines for the early management of patient...</td>\n",
       "      <td>\\nPowers, W.J., Rabinstein, A.A., Ackerson, T....</td>\n",
       "      <td>2019</td>\n",
       "      <td>Background and Purpose-The purpose of these gu...</td>\n",
       "    </tr>\n",
       "    <tr>\n",
       "      <th>3</th>\n",
       "      <td>Artificial intelligence in radiology</td>\n",
       "      <td>\\nHosny, A., Parmar, C., Quackenbush, J., Schw...</td>\n",
       "      <td>2018</td>\n",
       "      <td>Artificial intelligence (AI) algorithms, parti...</td>\n",
       "    </tr>\n",
       "    <tr>\n",
       "      <th>4</th>\n",
       "      <td>Brain Intelligence: Go beyond Artificial Intel...</td>\n",
       "      <td>\\nLu, H., Li, Y., Chen, M., Kim, H., Serikawa,...</td>\n",
       "      <td>2018</td>\n",
       "      <td>Artificial intelligence (AI) is an important t...</td>\n",
       "    </tr>\n",
       "    <tr>\n",
       "      <th>...</th>\n",
       "      <td>...</td>\n",
       "      <td>...</td>\n",
       "      <td>...</td>\n",
       "      <td>...</td>\n",
       "    </tr>\n",
       "    <tr>\n",
       "      <th>195</th>\n",
       "      <td>Cardiovascular events in patients with mild au...</td>\n",
       "      <td>\\nMorelli, V., Palmieri, S., Lania, A., (...),...</td>\n",
       "      <td>2017</td>\n",
       "      <td>Background: The independent role of mild auton...</td>\n",
       "    </tr>\n",
       "    <tr>\n",
       "      <th>196</th>\n",
       "      <td>Update on therapeutic approaches and emerging ...</td>\n",
       "      <td>\\nOmolo, C.A., Soni, N., Fasiku, V.O., Mackraj...</td>\n",
       "      <td>2020</td>\n",
       "      <td>The global pandemic of coronavirus disease 201...</td>\n",
       "    </tr>\n",
       "    <tr>\n",
       "      <th>197</th>\n",
       "      <td>Artificial Intelligence in Dentistry: Chances ...</td>\n",
       "      <td>\\nSchwendicke, F., Samek, W., Krois, J.\\n</td>\n",
       "      <td>2020</td>\n",
       "      <td>The term “artificial intelligence” (AI) refers...</td>\n",
       "    </tr>\n",
       "    <tr>\n",
       "      <th>198</th>\n",
       "      <td>Explainable deep learning models in medical im...</td>\n",
       "      <td>\\nSingh, A., Sengupta, S., Lakshminarayanan, V.\\n</td>\n",
       "      <td>2020</td>\n",
       "      <td>Deep learning methods have been very effective...</td>\n",
       "    </tr>\n",
       "    <tr>\n",
       "      <th>199</th>\n",
       "      <td>Machine learning and big data: Implications fo...</td>\n",
       "      <td>\\nTai, A.M.Y., Albuquerque, A., Carmona, N.E.,...</td>\n",
       "      <td>2019</td>\n",
       "      <td>Introduction: Machine learning capability hold...</td>\n",
       "    </tr>\n",
       "  </tbody>\n",
       "</table>\n",
       "<p>199 rows × 4 columns</p>\n",
       "</div>"
      ],
      "text/plain": [
       "                                                 Title  \\\n",
       "0    Identifying Medical Diagnoses and Treatable Di...   \n",
       "1    Computational radiomics system to decode the r...   \n",
       "2    Guidelines for the early management of patient...   \n",
       "3                 Artificial intelligence in radiology   \n",
       "4    Brain Intelligence: Go beyond Artificial Intel...   \n",
       "..                                                 ...   \n",
       "195  Cardiovascular events in patients with mild au...   \n",
       "196  Update on therapeutic approaches and emerging ...   \n",
       "197  Artificial Intelligence in Dentistry: Chances ...   \n",
       "198  Explainable deep learning models in medical im...   \n",
       "199  Machine learning and big data: Implications fo...   \n",
       "\n",
       "                                                Author  Year  \\\n",
       "0    \\nKermany, D.S., Goldbaum, M., Cai, W., (...),...  2018   \n",
       "1    \\nVan Griethuysen, J.J.M., Fedorov, A., Parmar...  2017   \n",
       "2    \\nPowers, W.J., Rabinstein, A.A., Ackerson, T....  2019   \n",
       "3    \\nHosny, A., Parmar, C., Quackenbush, J., Schw...  2018   \n",
       "4    \\nLu, H., Li, Y., Chen, M., Kim, H., Serikawa,...  2018   \n",
       "..                                                 ...   ...   \n",
       "195  \\nMorelli, V., Palmieri, S., Lania, A., (...),...  2017   \n",
       "196  \\nOmolo, C.A., Soni, N., Fasiku, V.O., Mackraj...  2020   \n",
       "197          \\nSchwendicke, F., Samek, W., Krois, J.\\n  2020   \n",
       "198  \\nSingh, A., Sengupta, S., Lakshminarayanan, V.\\n  2020   \n",
       "199  \\nTai, A.M.Y., Albuquerque, A., Carmona, N.E.,...  2019   \n",
       "\n",
       "                                              Abstract  \n",
       "0    The implementation of clinical-decision suppor...  \n",
       "1    Radiomics aims to quantify phenotypic characte...  \n",
       "2    Background and Purpose-The purpose of these gu...  \n",
       "3    Artificial intelligence (AI) algorithms, parti...  \n",
       "4    Artificial intelligence (AI) is an important t...  \n",
       "..                                                 ...  \n",
       "195  Background: The independent role of mild auton...  \n",
       "196  The global pandemic of coronavirus disease 201...  \n",
       "197  The term “artificial intelligence” (AI) refers...  \n",
       "198  Deep learning methods have been very effective...  \n",
       "199  Introduction: Machine learning capability hold...  \n",
       "\n",
       "[199 rows x 4 columns]"
      ]
     },
     "metadata": {},
     "execution_count": 111
    }
   ],
   "metadata": {}
  }
 ],
 "metadata": {
  "orig_nbformat": 4,
  "language_info": {
   "name": "python",
   "version": "3.8.11",
   "mimetype": "text/x-python",
   "codemirror_mode": {
    "name": "ipython",
    "version": 3
   },
   "pygments_lexer": "ipython3",
   "nbconvert_exporter": "python",
   "file_extension": ".py"
  },
  "kernelspec": {
   "name": "python3",
   "display_name": "Python 3.8.11 64-bit ('scrapper': conda)"
  },
  "interpreter": {
   "hash": "13ddd8e4bbab9f189b23159d9bff0382f6ebbdf19bbccdd26279f60d699cf2a0"
  }
 },
 "nbformat": 4,
 "nbformat_minor": 2
}