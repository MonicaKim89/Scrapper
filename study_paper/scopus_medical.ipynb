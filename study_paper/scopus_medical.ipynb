{
 "cells": [
  {
   "cell_type": "code",
   "execution_count": 1,
   "metadata": {},
   "outputs": [],
   "source": [
    "from selenium import webdriver\n",
    "from selenium.webdriver.common.keys import Keys\n",
    "from selenium.webdriver.support.ui import WebDriverWait\n",
    "from selenium.common.exceptions import NoSuchElementException\n",
    "import selenium.common.exceptions as sex\n",
    "\n",
    "import pandas as pd\n",
    "import numpy as np\n",
    "\n",
    "from bs4 import BeautifulSoup\n",
    "import lxml\n",
    "\n",
    "import time"
   ]
  },
  {
   "cell_type": "code",
   "execution_count": 2,
   "metadata": {},
   "outputs": [
    {
     "data": {
      "text/plain": [
       "<selenium.webdriver.support.wait.WebDriverWait (session=\"5b165420ec07380d822cfd809f4688ad\")>"
      ]
     },
     "execution_count": 2,
     "metadata": {},
     "output_type": "execute_result"
    }
   ],
   "source": [
    "path = '/Users/mac626/chromedriver'\n",
    "driver = webdriver.Chrome(path)\n",
    "driver.implicitly_wait(3)\n",
    "\n",
    "url = 'https://www-scopus-com-ssl.openlink.khu.ac.kr/results/results.uri?sort=plf-f&src=s&st1=revolutionary+technology&nlo=&nlr=&nls=&sid=11e5425e0b54ceba6b726cc2a2ac9f29&sot=b&sdt=cl&cluster=scopubyr%2c%222022%22%2ct%2c%222021%22%2ct%2c%222020%22%2ct%2c%222019%22%2ct%2c%222018%22%2ct%2bscosubjabbr%2c%22MEDI%22%2ct%2c%22BIOC%22%2ct&sl=39&s=TITLE-ABS-KEY%28revolutionary+technology%29&origin=resultslist&zone=leftSideBar&editSaveSearch=&txGid=3ef29e22a149213cd531b3eaf495675f'\n",
    "\n",
    "driver.get(url)\n",
    "WebDriverWait(driver, 10)"
   ]
  },
  {
   "cell_type": "code",
   "execution_count": null,
   "metadata": {},
   "outputs": [],
   "source": [
    "#취소\n",
    "# driver.find_element_by_xpath('//*[@id=\"_pendo-close-guide_\"]').click()"
   ]
  },
  {
   "cell_type": "markdown",
   "metadata": {},
   "source": [
    "TITLE-ABS-KEY ( medical  AND ai )  AND  ( LIMIT-TO ( PUBYEAR ,  2022 )  OR  LIMIT-TO ( PUBYEAR ,  2021 )  OR  LIMIT-TO ( PUBYEAR ,  2020 )  OR  LIMIT-TO ( PUBYEAR ,  2019 )  OR  LIMIT-TO ( PUBYEAR ,  2018 )  OR  LIMIT-TO ( PUBYEAR ,  2017 )  OR  LIMIT-TO ( PUBYEAR ,  2016 )  OR  LIMIT-TO ( PUBYEAR ,  2015 ) )  AND  ( LIMIT-TO ( PUBSTAGE ,  \"final\" ) )  AND  ( LIMIT-TO ( DOCTYPE ,  \"ar\" )  OR  LIMIT-TO ( DOCTYPE ,  \"re\" ) )  AND  ( LIMIT-TO ( LANGUAGE ,  \"English\" ) )  AND  ( LIMIT-TO ( SRCTYPE ,  \"j\" ) ) "
   ]
  },
  {
   "cell_type": "code",
   "execution_count": 3,
   "metadata": {},
   "outputs": [
    {
     "data": {
      "text/plain": [
       "<selenium.webdriver.support.wait.WebDriverWait (session=\"90306aca81cf910295b2248224912bde\")>"
      ]
     },
     "execution_count": 3,
     "metadata": {},
     "output_type": "execute_result"
    }
   ],
   "source": [
    "#citation_high\n",
    "driver.find_element_by_xpath('//*[@id=\"navLoad-button\"]/span[1]').click()\n",
    "WebDriverWait(driver, 10)"
   ]
  },
  {
   "cell_type": "code",
   "execution_count": 4,
   "metadata": {},
   "outputs": [
    {
     "data": {
      "text/plain": [
       "<selenium.webdriver.support.wait.WebDriverWait (session=\"90306aca81cf910295b2248224912bde\")>"
      ]
     },
     "execution_count": 4,
     "metadata": {},
     "output_type": "execute_result"
    }
   ],
   "source": [
    "driver.find_element_by_xpath('//*[@id=\"ui-id-3\"]').click()\n",
    "WebDriverWait(driver, 10)"
   ]
  },
  {
   "cell_type": "code",
   "execution_count": 5,
   "metadata": {},
   "outputs": [
    {
     "data": {
      "text/plain": [
       "<selenium.webdriver.support.wait.WebDriverWait (session=\"90306aca81cf910295b2248224912bde\")>"
      ]
     },
     "execution_count": 5,
     "metadata": {},
     "output_type": "execute_result"
    }
   ],
   "source": [
    "#반복해야할 수 있음\n",
    "driver.find_element_by_xpath('//*[@id=\"resultsPerPage-button\"]/span[2]').click()\n",
    "WebDriverWait(driver, 10)"
   ]
  },
  {
   "cell_type": "code",
   "execution_count": 6,
   "metadata": {},
   "outputs": [
    {
     "data": {
      "text/plain": [
       "<selenium.webdriver.support.wait.WebDriverWait (session=\"90306aca81cf910295b2248224912bde\")>"
      ]
     },
     "execution_count": 6,
     "metadata": {},
     "output_type": "execute_result"
    }
   ],
   "source": [
    "driver.find_element_by_xpath('//*[@id=\"resultsPerPage-menu\"]/li[4]').click()\n",
    "WebDriverWait(driver, 10)"
   ]
  },
  {
   "cell_type": "code",
   "execution_count": 86,
   "metadata": {},
   "outputs": [
    {
     "name": "stdout",
     "output_type": "stream",
     "text": [
      "1\n"
     ]
    }
   ],
   "source": [
    "page = driver.page_source\n",
    "soup = BeautifulSoup(page, 'html.parser')\n",
    "print(len(soup))"
   ]
  },
  {
   "cell_type": "markdown",
   "metadata": {},
   "source": [
    "### Titles"
   ]
  },
  {
   "cell_type": "code",
   "execution_count": 87,
   "metadata": {},
   "outputs": [],
   "source": [
    "titles = soup.find_all('a', attrs={'class':'ddmDocTitle'})\n",
    "title = []\n",
    "\n",
    "for i in titles:\n",
    "    title.append(i.get_text())"
   ]
  },
  {
   "cell_type": "code",
   "execution_count": 88,
   "metadata": {},
   "outputs": [
    {
     "name": "stdout",
     "output_type": "stream",
     "text": [
      "39\n"
     ]
    }
   ],
   "source": [
    "print(len(title))"
   ]
  },
  {
   "cell_type": "code",
   "execution_count": 89,
   "metadata": {},
   "outputs": [
    {
     "name": "stdout",
     "output_type": "stream",
     "text": [
      "39\n"
     ]
    }
   ],
   "source": [
    "authors = soup.find_all('span', attrs={'class':'ddmAuthorList'})\n",
    "author =[]\n",
    "\n",
    "for i in authors:\n",
    "    author.append(i.get_text())\n",
    "\n",
    "print(len(author))"
   ]
  },
  {
   "cell_type": "code",
   "execution_count": 90,
   "metadata": {},
   "outputs": [
    {
     "name": "stdout",
     "output_type": "stream",
     "text": [
      "39\n"
     ]
    }
   ],
   "source": [
    "years = soup.find_all('span', attrs={'class':'ddmPubYr'})\n",
    "year =[]\n",
    "\n",
    "for i in years:\n",
    "    year.append(i.get_text())\n",
    "\n",
    "print(len(year))"
   ]
  },
  {
   "cell_type": "code",
   "execution_count": 91,
   "metadata": {},
   "outputs": [
    {
     "name": "stdout",
     "output_type": "stream",
     "text": [
      "38\n",
      "Journal of Microbiological Methods\n"
     ]
    }
   ],
   "source": [
    "journals = soup.find_all('a', attrs={'class':'ddmDocSource'})\n",
    "journal =[]\n",
    "\n",
    "for i in journals:\n",
    "    journal.append(i.get_text())\n",
    "\n",
    "print(len(journal))\n",
    "print(journal[0])"
   ]
  },
  {
   "cell_type": "code",
   "execution_count": 92,
   "metadata": {},
   "outputs": [
    {
     "name": "stdout",
     "output_type": "stream",
     "text": [
      "39\n",
      "193,106403\n"
     ]
    }
   ],
   "source": [
    "pages = soup.find_all('div', attrs={'class':'additionalContent'})\n",
    "page =[]\n",
    "\n",
    "for i in pages:\n",
    "    page.append(i.get_text())\n",
    "\n",
    "print(len(page))\n",
    "print(page[0])"
   ]
  },
  {
   "cell_type": "code",
   "execution_count": 93,
   "metadata": {},
   "outputs": [],
   "source": [
    "import pandas as pd\n",
    "\n",
    "medical_AI_1 = pd.DataFrame({'Title':title, 'Author':author, 'Year':year})\n",
    "medical_AI_1.to_csv('medical_AI_4.csv')"
   ]
  },
  {
   "cell_type": "markdown",
   "metadata": {},
   "source": [
    "## ABSTRACT"
   ]
  },
  {
   "cell_type": "code",
   "execution_count": 75,
   "metadata": {},
   "outputs": [],
   "source": [
    "driver.find_element_by_xpath('//*[@id=\"previewAbstractLinkText1\"]/a/span[1]').click()"
   ]
  },
  {
   "cell_type": "code",
   "execution_count": 94,
   "metadata": {},
   "outputs": [],
   "source": [
    "try:\n",
    "    for i in range(1,40):\n",
    "        # driver.implicitly_wait(1)\n",
    "        driver.find_element_by_xpath('//*[@id=\"previewAbstractLinkText{}\"]/a/span[1]'.format(i)).click()\n",
    "    # driver.implicitly_wait(4)\n",
    "        WebDriverWait(driver, 10)\n",
    "except NoSuchElementException as e:\n",
    "    print(\"Failed\", i)\n",
    "    pass\n"
   ]
  },
  {
   "cell_type": "code",
   "execution_count": 53,
   "metadata": {},
   "outputs": [],
   "source": [
    "try:\n",
    "    for i in range(158,201):\n",
    "        # driver.implicitly_wait(1)\n",
    "        driver.find_element_by_xpath('//*[@id=\"previewAbstractLinkText{}\"]/a/span[1]'.format(i)).click()\n",
    "    # driver.implicitly_wait(4)\n",
    "        WebDriverWait(driver, 10)\n",
    "except NoSuchElementException as e:\n",
    "    print(\"Failed\", i)\n",
    "    pass\n"
   ]
  },
  {
   "cell_type": "code",
   "execution_count": 95,
   "metadata": {},
   "outputs": [
    {
     "name": "stdout",
     "output_type": "stream",
     "text": [
      "1\n"
     ]
    }
   ],
   "source": [
    "page = driver.page_source\n",
    "soup = BeautifulSoup(page, 'html.parser')\n",
    "print(len(soup))"
   ]
  },
  {
   "cell_type": "code",
   "execution_count": 96,
   "metadata": {},
   "outputs": [],
   "source": [
    "abstract_list = []\n",
    "for i in range(1, 41):\n",
    "    abstract_list.append('//*[@id=\"previewAbstract{}\"]/span'.format(i))\n",
    "\n"
   ]
  },
  {
   "cell_type": "code",
   "execution_count": 57,
   "metadata": {},
   "outputs": [],
   "source": [
    "abstract_list.append('no abstract')"
   ]
  },
  {
   "cell_type": "code",
   "execution_count": 58,
   "metadata": {},
   "outputs": [
    {
     "name": "stdout",
     "output_type": "stream",
     "text": [
      "//*[@id=\"previewAbstract200\"]/span\n"
     ]
    }
   ],
   "source": [
    "for j in range(158, 201):\n",
    "    abstract_list.append('//*[@id=\"previewAbstract{}\"]/span'.format(j))\n",
    "    \n",
    "print(abstract_list[-1])"
   ]
  },
  {
   "cell_type": "code",
   "execution_count": 97,
   "metadata": {},
   "outputs": [
    {
     "data": {
      "text/plain": [
       "40"
      ]
     },
     "execution_count": 97,
     "metadata": {},
     "output_type": "execute_result"
    }
   ],
   "source": [
    "len(abstract_list)"
   ]
  },
  {
   "cell_type": "code",
   "execution_count": 60,
   "metadata": {},
   "outputs": [],
   "source": [
    "from tqdm import tqdm"
   ]
  },
  {
   "cell_type": "code",
   "execution_count": 98,
   "metadata": {},
   "outputs": [
    {
     "name": "stderr",
     "output_type": "stream",
     "text": [
      "40it [00:04,  9.93it/s]\n"
     ]
    }
   ],
   "source": [
    "abstract = []\n",
    "for num, j in tqdm (enumerate(abstract_list)):\n",
    "    try:\n",
    "        contents = driver.find_elements_by_xpath(j)\n",
    "        for i in contents:\n",
    "            abstract.append(i.text)\n",
    "    except:\n",
    "        abstract.append('no abstracts')\n",
    "        print('bb', num)\n",
    "        continue"
   ]
  },
  {
   "cell_type": "code",
   "execution_count": 100,
   "metadata": {
    "scrolled": true
   },
   "outputs": [
    {
     "data": {
      "text/html": [
       "<div>\n",
       "<style scoped>\n",
       "    .dataframe tbody tr th:only-of-type {\n",
       "        vertical-align: middle;\n",
       "    }\n",
       "\n",
       "    .dataframe tbody tr th {\n",
       "        vertical-align: top;\n",
       "    }\n",
       "\n",
       "    .dataframe thead th {\n",
       "        text-align: right;\n",
       "    }\n",
       "</style>\n",
       "<table border=\"1\" class=\"dataframe\">\n",
       "  <thead>\n",
       "    <tr style=\"text-align: right;\">\n",
       "      <th></th>\n",
       "      <th>Title</th>\n",
       "      <th>Author</th>\n",
       "      <th>Year</th>\n",
       "    </tr>\n",
       "  </thead>\n",
       "  <tbody>\n",
       "    <tr>\n",
       "      <th>0</th>\n",
       "      <td>Nanoparticle immuno-fluorescent probes as a me...</td>\n",
       "      <td>\\nAl-Awwal, N., Masjedi, M., El-Dweik, M., And...</td>\n",
       "      <td>2022</td>\n",
       "    </tr>\n",
       "    <tr>\n",
       "      <th>1</th>\n",
       "      <td>Strengthening the CAR-T cell therapeutic appli...</td>\n",
       "      <td>\\nSadeqi Nezhad, M., Yazdanifar, M., Abdollahp...</td>\n",
       "      <td>2021</td>\n",
       "    </tr>\n",
       "    <tr>\n",
       "      <th>2</th>\n",
       "      <td>Collaborative networking and support for medic...</td>\n",
       "      <td>\\nTabakov, S., Stoeva, M.\\n</td>\n",
       "      <td>2021</td>\n",
       "    </tr>\n",
       "    <tr>\n",
       "      <th>3</th>\n",
       "      <td>The Use of CRISPR/Cas9 as a Tool to Study Huma...</td>\n",
       "      <td>\\nLin, H., Li, G., Peng, X., (...), Wang, T., ...</td>\n",
       "      <td>2021</td>\n",
       "    </tr>\n",
       "    <tr>\n",
       "      <th>4</th>\n",
       "      <td>Non-viral transfection technologies for next-g...</td>\n",
       "      <td>\\nRaes, L., De Smedt, S.C., Raemdonck, K., Bra...</td>\n",
       "      <td>2021</td>\n",
       "    </tr>\n",
       "    <tr>\n",
       "      <th>5</th>\n",
       "      <td>Digital Twins for Multiple Sclerosis</td>\n",
       "      <td>\\nVoigt, I., Inojosa, H., Dillenseger, A., (.....</td>\n",
       "      <td>2021</td>\n",
       "    </tr>\n",
       "    <tr>\n",
       "      <th>6</th>\n",
       "      <td>Industrial sustainability of microbial keratin...</td>\n",
       "      <td>\\nde Menezes, C.L.A., Santos, R.C., Santos, M....</td>\n",
       "      <td>2021</td>\n",
       "    </tr>\n",
       "    <tr>\n",
       "      <th>7</th>\n",
       "      <td>Development of nano drugs: A promising avenue ...</td>\n",
       "      <td>\\nKalaiyarasi, D., Manobharathi, V., Mirunalin...</td>\n",
       "      <td>2021</td>\n",
       "    </tr>\n",
       "    <tr>\n",
       "      <th>8</th>\n",
       "      <td>CRISPR/Cas-based genome editing in Aspergillus...</td>\n",
       "      <td>\\nZheng, X., Zheng, P., Sun, J.\\n</td>\n",
       "      <td>2021</td>\n",
       "    </tr>\n",
       "    <tr>\n",
       "      <th>9</th>\n",
       "      <td>Human heritable genome editing – Potential and...</td>\n",
       "      <td>\\nYadav, N., Thelma, B.K.\\n</td>\n",
       "      <td>2021</td>\n",
       "    </tr>\n",
       "    <tr>\n",
       "      <th>10</th>\n",
       "      <td>Development and Application of 3D Bioprinted S...</td>\n",
       "      <td>\\nLu, D., Liu, Y., Li, W., (...), Ma, Z., Wang...</td>\n",
       "      <td>2021</td>\n",
       "    </tr>\n",
       "    <tr>\n",
       "      <th>11</th>\n",
       "      <td>The old and the new: Prospects for non-integra...</td>\n",
       "      <td>\\nLuis, A.\\n</td>\n",
       "      <td>2020</td>\n",
       "    </tr>\n",
       "    <tr>\n",
       "      <th>12</th>\n",
       "      <td>Current Development in Decolorization of Synth...</td>\n",
       "      <td>\\nMorsy, S.A.G.Z., Ahmad Tajudin, A., Ali, M.S...</td>\n",
       "      <td>2020</td>\n",
       "    </tr>\n",
       "    <tr>\n",
       "      <th>13</th>\n",
       "      <td>Deploying machine and deep learning models for...</td>\n",
       "      <td>\\nSedik, A., Iliyasu, A.M., El-Rahiem, B.A., (...</td>\n",
       "      <td>2020</td>\n",
       "    </tr>\n",
       "    <tr>\n",
       "      <th>14</th>\n",
       "      <td>Consolidation of clinical microbiology laborat...</td>\n",
       "      <td>\\nVandenberg, O., Durand, G., Hallin, M., (......</td>\n",
       "      <td>2020</td>\n",
       "    </tr>\n",
       "    <tr>\n",
       "      <th>15</th>\n",
       "      <td>Should we be more cre-tical? A cautionary tale...</td>\n",
       "      <td>\\nAndrusaite, A., Milling, S.\\n</td>\n",
       "      <td>2020</td>\n",
       "    </tr>\n",
       "    <tr>\n",
       "      <th>16</th>\n",
       "      <td>Gene drive: Progress and prospects</td>\n",
       "      <td>\\nWedell, N., Price, T.A.R., Lindholm, A.K.\\n</td>\n",
       "      <td>2019</td>\n",
       "    </tr>\n",
       "    <tr>\n",
       "      <th>17</th>\n",
       "      <td>Detection of differentially expressed genes in...</td>\n",
       "      <td>\\nSekula, M., Gaskins, J., Datta, S.\\n</td>\n",
       "      <td>2019</td>\n",
       "    </tr>\n",
       "    <tr>\n",
       "      <th>18</th>\n",
       "      <td>Cas9 Ribonucleoprotein Complex Delivery: Metho...</td>\n",
       "      <td>\\nCampbell, L.A., Richie, C.T., Maggirwar, N.S...</td>\n",
       "      <td>2019</td>\n",
       "    </tr>\n",
       "    <tr>\n",
       "      <th>19</th>\n",
       "      <td>Biological and chemical diversity go hand in h...</td>\n",
       "      <td>\\nSandargo, B., Chepkirui, C., Cheng, T., (......</td>\n",
       "      <td>2019</td>\n",
       "    </tr>\n",
       "    <tr>\n",
       "      <th>20</th>\n",
       "      <td>The role of synthetic biology in climate chang...</td>\n",
       "      <td>\\nDelisi, C.\\n</td>\n",
       "      <td>2019</td>\n",
       "    </tr>\n",
       "    <tr>\n",
       "      <th>21</th>\n",
       "      <td>Latest development in microalgae-biofuel produ...</td>\n",
       "      <td>\\nHossain, N., Mahlia, T.M.I., Saidur, R.\\n</td>\n",
       "      <td>2019</td>\n",
       "    </tr>\n",
       "    <tr>\n",
       "      <th>22</th>\n",
       "      <td>Clostridial genetics: Genetic manipulation of ...</td>\n",
       "      <td>\\nKuehne, S., Rood, J.I., Lyras, D.\\n</td>\n",
       "      <td>2019</td>\n",
       "    </tr>\n",
       "    <tr>\n",
       "      <th>23</th>\n",
       "      <td>Nanoparticles: Their synthesis and their appli...</td>\n",
       "      <td>\\nKant, T.R., Poonam, S.\\n</td>\n",
       "      <td>2019</td>\n",
       "    </tr>\n",
       "    <tr>\n",
       "      <th>24</th>\n",
       "      <td>Genome editing: Advances and prospects</td>\n",
       "      <td>\\nPatel, J., Mishra, A.\\n</td>\n",
       "      <td>2019</td>\n",
       "    </tr>\n",
       "    <tr>\n",
       "      <th>25</th>\n",
       "      <td>With big data comes big responsibilities for s...</td>\n",
       "      <td>\\nBallen, C.J., Holmegaard, H.T.\\n</td>\n",
       "      <td>2019</td>\n",
       "    </tr>\n",
       "    <tr>\n",
       "      <th>26</th>\n",
       "      <td>Platforms and analytical tools used in Nucleic...</td>\n",
       "      <td>\\nMaccannell, D.\\n</td>\n",
       "      <td>2019</td>\n",
       "    </tr>\n",
       "    <tr>\n",
       "      <th>27</th>\n",
       "      <td>CRISPR/Cas9 and CAR-T cell, collaboration of t...</td>\n",
       "      <td>\\nMollanoori, H., Shahraki, H., Rahmati, Y., T...</td>\n",
       "      <td>2018</td>\n",
       "    </tr>\n",
       "    <tr>\n",
       "      <th>28</th>\n",
       "      <td>Transformation of animal genomics by next-gene...</td>\n",
       "      <td>\\nGhosh, M., Sharma, N., Singh, A.K., (...), P...</td>\n",
       "      <td>2018</td>\n",
       "    </tr>\n",
       "    <tr>\n",
       "      <th>29</th>\n",
       "      <td>MALDI-TOF MS applications to the detection of ...</td>\n",
       "      <td>\\nFlorio, W., Tavanti, A., Ghelardi, E., Lupet...</td>\n",
       "      <td>2018</td>\n",
       "    </tr>\n",
       "    <tr>\n",
       "      <th>30</th>\n",
       "      <td>Targeted Nucleotide Editing Technologies for M...</td>\n",
       "      <td>\\nArazoe, T., Kondo, A., Nishida, K.\\n</td>\n",
       "      <td>2018</td>\n",
       "    </tr>\n",
       "    <tr>\n",
       "      <th>31</th>\n",
       "      <td>“Connecting worlds – a view on microfluidics f...</td>\n",
       "      <td>\\nFernandes, A.C., Gernaey, K.V., Krühne, U.\\n</td>\n",
       "      <td>2018</td>\n",
       "    </tr>\n",
       "    <tr>\n",
       "      <th>32</th>\n",
       "      <td>Investigations into the cancer stem cell niche...</td>\n",
       "      <td>\\nSreepadmanabh, M., Toley, B.J.\\n</td>\n",
       "      <td>2018</td>\n",
       "    </tr>\n",
       "    <tr>\n",
       "      <th>33</th>\n",
       "      <td>A multimodal imaging approach based on micro-C...</td>\n",
       "      <td>\\nRuscitti, F., Ravanetti, F., Donofrio, G., (...</td>\n",
       "      <td>2018</td>\n",
       "    </tr>\n",
       "    <tr>\n",
       "      <th>34</th>\n",
       "      <td>Crispr-mediated genome engineering and its app...</td>\n",
       "      <td>\\nKaboli, S., Babazada, H.\\n</td>\n",
       "      <td>2018</td>\n",
       "    </tr>\n",
       "    <tr>\n",
       "      <th>35</th>\n",
       "      <td>Fully disposable manufacturing concepts for cl...</td>\n",
       "      <td>\\nBoedeker, B., Goldstein, A., Mahajan, E.\\n</td>\n",
       "      <td>2018</td>\n",
       "    </tr>\n",
       "    <tr>\n",
       "      <th>36</th>\n",
       "      <td>Status and Prospects of Next Generation Sequen...</td>\n",
       "      <td>\\nSharma, T.R., Devanna, B.N., Kiran, K., (......</td>\n",
       "      <td>2018</td>\n",
       "    </tr>\n",
       "    <tr>\n",
       "      <th>37</th>\n",
       "      <td>Revolution in genotyping platforms for crop im...</td>\n",
       "      <td>\\nScheben, A., Batley, J., Edwards, D.\\n</td>\n",
       "      <td>2018</td>\n",
       "    </tr>\n",
       "    <tr>\n",
       "      <th>38</th>\n",
       "      <td>Use of genetic and chemical synthetic lethalit...</td>\n",
       "      <td>\\nKlobucar, K., Brown, E.D.\\n</td>\n",
       "      <td>2018</td>\n",
       "    </tr>\n",
       "  </tbody>\n",
       "</table>\n",
       "</div>"
      ],
      "text/plain": [
       "                                                Title  \\\n",
       "0   Nanoparticle immuno-fluorescent probes as a me...   \n",
       "1   Strengthening the CAR-T cell therapeutic appli...   \n",
       "2   Collaborative networking and support for medic...   \n",
       "3   The Use of CRISPR/Cas9 as a Tool to Study Huma...   \n",
       "4   Non-viral transfection technologies for next-g...   \n",
       "5                Digital Twins for Multiple Sclerosis   \n",
       "6   Industrial sustainability of microbial keratin...   \n",
       "7   Development of nano drugs: A promising avenue ...   \n",
       "8   CRISPR/Cas-based genome editing in Aspergillus...   \n",
       "9   Human heritable genome editing – Potential and...   \n",
       "10  Development and Application of 3D Bioprinted S...   \n",
       "11  The old and the new: Prospects for non-integra...   \n",
       "12  Current Development in Decolorization of Synth...   \n",
       "13  Deploying machine and deep learning models for...   \n",
       "14  Consolidation of clinical microbiology laborat...   \n",
       "15  Should we be more cre-tical? A cautionary tale...   \n",
       "16                 Gene drive: Progress and prospects   \n",
       "17  Detection of differentially expressed genes in...   \n",
       "18  Cas9 Ribonucleoprotein Complex Delivery: Metho...   \n",
       "19  Biological and chemical diversity go hand in h...   \n",
       "20  The role of synthetic biology in climate chang...   \n",
       "21  Latest development in microalgae-biofuel produ...   \n",
       "22  Clostridial genetics: Genetic manipulation of ...   \n",
       "23  Nanoparticles: Their synthesis and their appli...   \n",
       "24             Genome editing: Advances and prospects   \n",
       "25  With big data comes big responsibilities for s...   \n",
       "26  Platforms and analytical tools used in Nucleic...   \n",
       "27  CRISPR/Cas9 and CAR-T cell, collaboration of t...   \n",
       "28  Transformation of animal genomics by next-gene...   \n",
       "29  MALDI-TOF MS applications to the detection of ...   \n",
       "30  Targeted Nucleotide Editing Technologies for M...   \n",
       "31  “Connecting worlds – a view on microfluidics f...   \n",
       "32  Investigations into the cancer stem cell niche...   \n",
       "33  A multimodal imaging approach based on micro-C...   \n",
       "34  Crispr-mediated genome engineering and its app...   \n",
       "35  Fully disposable manufacturing concepts for cl...   \n",
       "36  Status and Prospects of Next Generation Sequen...   \n",
       "37  Revolution in genotyping platforms for crop im...   \n",
       "38  Use of genetic and chemical synthetic lethalit...   \n",
       "\n",
       "                                               Author  Year  \n",
       "0   \\nAl-Awwal, N., Masjedi, M., El-Dweik, M., And...  2022  \n",
       "1   \\nSadeqi Nezhad, M., Yazdanifar, M., Abdollahp...  2021  \n",
       "2                         \\nTabakov, S., Stoeva, M.\\n  2021  \n",
       "3   \\nLin, H., Li, G., Peng, X., (...), Wang, T., ...  2021  \n",
       "4   \\nRaes, L., De Smedt, S.C., Raemdonck, K., Bra...  2021  \n",
       "5   \\nVoigt, I., Inojosa, H., Dillenseger, A., (.....  2021  \n",
       "6   \\nde Menezes, C.L.A., Santos, R.C., Santos, M....  2021  \n",
       "7   \\nKalaiyarasi, D., Manobharathi, V., Mirunalin...  2021  \n",
       "8                   \\nZheng, X., Zheng, P., Sun, J.\\n  2021  \n",
       "9                         \\nYadav, N., Thelma, B.K.\\n  2021  \n",
       "10  \\nLu, D., Liu, Y., Li, W., (...), Ma, Z., Wang...  2021  \n",
       "11                                       \\nLuis, A.\\n  2020  \n",
       "12  \\nMorsy, S.A.G.Z., Ahmad Tajudin, A., Ali, M.S...  2020  \n",
       "13  \\nSedik, A., Iliyasu, A.M., El-Rahiem, B.A., (...  2020  \n",
       "14  \\nVandenberg, O., Durand, G., Hallin, M., (......  2020  \n",
       "15                    \\nAndrusaite, A., Milling, S.\\n  2020  \n",
       "16      \\nWedell, N., Price, T.A.R., Lindholm, A.K.\\n  2019  \n",
       "17             \\nSekula, M., Gaskins, J., Datta, S.\\n  2019  \n",
       "18  \\nCampbell, L.A., Richie, C.T., Maggirwar, N.S...  2019  \n",
       "19  \\nSandargo, B., Chepkirui, C., Cheng, T., (......  2019  \n",
       "20                                     \\nDelisi, C.\\n  2019  \n",
       "21        \\nHossain, N., Mahlia, T.M.I., Saidur, R.\\n  2019  \n",
       "22              \\nKuehne, S., Rood, J.I., Lyras, D.\\n  2019  \n",
       "23                         \\nKant, T.R., Poonam, S.\\n  2019  \n",
       "24                          \\nPatel, J., Mishra, A.\\n  2019  \n",
       "25                 \\nBallen, C.J., Holmegaard, H.T.\\n  2019  \n",
       "26                                 \\nMaccannell, D.\\n  2019  \n",
       "27  \\nMollanoori, H., Shahraki, H., Rahmati, Y., T...  2018  \n",
       "28  \\nGhosh, M., Sharma, N., Singh, A.K., (...), P...  2018  \n",
       "29  \\nFlorio, W., Tavanti, A., Ghelardi, E., Lupet...  2018  \n",
       "30             \\nArazoe, T., Kondo, A., Nishida, K.\\n  2018  \n",
       "31     \\nFernandes, A.C., Gernaey, K.V., Krühne, U.\\n  2018  \n",
       "32                 \\nSreepadmanabh, M., Toley, B.J.\\n  2018  \n",
       "33  \\nRuscitti, F., Ravanetti, F., Donofrio, G., (...  2018  \n",
       "34                       \\nKaboli, S., Babazada, H.\\n  2018  \n",
       "35       \\nBoedeker, B., Goldstein, A., Mahajan, E.\\n  2018  \n",
       "36  \\nSharma, T.R., Devanna, B.N., Kiran, K., (......  2018  \n",
       "37           \\nScheben, A., Batley, J., Edwards, D.\\n  2018  \n",
       "38                      \\nKlobucar, K., Brown, E.D.\\n  2018  "
      ]
     },
     "execution_count": 100,
     "metadata": {},
     "output_type": "execute_result"
    }
   ],
   "source": [
    "medical_AI_1 = pd.read_csv('medical_AI_4.csv', index_col=0)\n",
    "medical_AI_1"
   ]
  },
  {
   "cell_type": "code",
   "execution_count": 101,
   "metadata": {},
   "outputs": [],
   "source": [
    "medical_AI_1['abstract'] = abstract"
   ]
  },
  {
   "cell_type": "code",
   "execution_count": 102,
   "metadata": {
    "scrolled": true
   },
   "outputs": [
    {
     "data": {
      "text/html": [
       "<div>\n",
       "<style scoped>\n",
       "    .dataframe tbody tr th:only-of-type {\n",
       "        vertical-align: middle;\n",
       "    }\n",
       "\n",
       "    .dataframe tbody tr th {\n",
       "        vertical-align: top;\n",
       "    }\n",
       "\n",
       "    .dataframe thead th {\n",
       "        text-align: right;\n",
       "    }\n",
       "</style>\n",
       "<table border=\"1\" class=\"dataframe\">\n",
       "  <thead>\n",
       "    <tr style=\"text-align: right;\">\n",
       "      <th></th>\n",
       "      <th>Title</th>\n",
       "      <th>Author</th>\n",
       "      <th>Year</th>\n",
       "      <th>abstract</th>\n",
       "    </tr>\n",
       "  </thead>\n",
       "  <tbody>\n",
       "    <tr>\n",
       "      <th>0</th>\n",
       "      <td>Nanoparticle immuno-fluorescent probes as a me...</td>\n",
       "      <td>\\nAl-Awwal, N., Masjedi, M., El-Dweik, M., And...</td>\n",
       "      <td>2022</td>\n",
       "      <td>Development of revolutionary sensitive biosens...</td>\n",
       "    </tr>\n",
       "    <tr>\n",
       "      <th>1</th>\n",
       "      <td>Strengthening the CAR-T cell therapeutic appli...</td>\n",
       "      <td>\\nSadeqi Nezhad, M., Yazdanifar, M., Abdollahp...</td>\n",
       "      <td>2021</td>\n",
       "      <td>Adoptive cell immunotherapy with chimeric anti...</td>\n",
       "    </tr>\n",
       "    <tr>\n",
       "      <th>2</th>\n",
       "      <td>Collaborative networking and support for medic...</td>\n",
       "      <td>\\nTabakov, S., Stoeva, M.\\n</td>\n",
       "      <td>2021</td>\n",
       "      <td>Medical physics is one of the key aspects of c...</td>\n",
       "    </tr>\n",
       "    <tr>\n",
       "      <th>3</th>\n",
       "      <td>The Use of CRISPR/Cas9 as a Tool to Study Huma...</td>\n",
       "      <td>\\nLin, H., Li, G., Peng, X., (...), Wang, T., ...</td>\n",
       "      <td>2021</td>\n",
       "      <td>Clustered regularly interspaced short palindro...</td>\n",
       "    </tr>\n",
       "    <tr>\n",
       "      <th>4</th>\n",
       "      <td>Non-viral transfection technologies for next-g...</td>\n",
       "      <td>\\nRaes, L., De Smedt, S.C., Raemdonck, K., Bra...</td>\n",
       "      <td>2021</td>\n",
       "      <td>Genetically engineered T cells have sparked in...</td>\n",
       "    </tr>\n",
       "    <tr>\n",
       "      <th>5</th>\n",
       "      <td>Digital Twins for Multiple Sclerosis</td>\n",
       "      <td>\\nVoigt, I., Inojosa, H., Dillenseger, A., (.....</td>\n",
       "      <td>2021</td>\n",
       "      <td>An individualized innovative disease managemen...</td>\n",
       "    </tr>\n",
       "    <tr>\n",
       "      <th>6</th>\n",
       "      <td>Industrial sustainability of microbial keratin...</td>\n",
       "      <td>\\nde Menezes, C.L.A., Santos, R.C., Santos, M....</td>\n",
       "      <td>2021</td>\n",
       "      <td>Keratinases are proteolytic enzymes with a par...</td>\n",
       "    </tr>\n",
       "    <tr>\n",
       "      <th>7</th>\n",
       "      <td>Development of nano drugs: A promising avenue ...</td>\n",
       "      <td>\\nKalaiyarasi, D., Manobharathi, V., Mirunalin...</td>\n",
       "      <td>2021</td>\n",
       "      <td>Cancer is one of the leading causes of death i...</td>\n",
       "    </tr>\n",
       "    <tr>\n",
       "      <th>8</th>\n",
       "      <td>CRISPR/Cas-based genome editing in Aspergillus...</td>\n",
       "      <td>\\nZheng, X., Zheng, P., Sun, J.\\n</td>\n",
       "      <td>2021</td>\n",
       "      <td>Aspergillus niger is a vital industrial workho...</td>\n",
       "    </tr>\n",
       "    <tr>\n",
       "      <th>9</th>\n",
       "      <td>Human heritable genome editing – Potential and...</td>\n",
       "      <td>\\nYadav, N., Thelma, B.K.\\n</td>\n",
       "      <td>2021</td>\n",
       "      <td>Medical genomics has moved significantly from ...</td>\n",
       "    </tr>\n",
       "    <tr>\n",
       "      <th>10</th>\n",
       "      <td>Development and Application of 3D Bioprinted S...</td>\n",
       "      <td>\\nLu, D., Liu, Y., Li, W., (...), Ma, Z., Wang...</td>\n",
       "      <td>2021</td>\n",
       "      <td>Three-dimensional (3D) bioprinting is a revolu...</td>\n",
       "    </tr>\n",
       "    <tr>\n",
       "      <th>11</th>\n",
       "      <td>The old and the new: Prospects for non-integra...</td>\n",
       "      <td>\\nLuis, A.\\n</td>\n",
       "      <td>2020</td>\n",
       "      <td>Lentiviral vectors have been developed and use...</td>\n",
       "    </tr>\n",
       "    <tr>\n",
       "      <th>12</th>\n",
       "      <td>Current Development in Decolorization of Synth...</td>\n",
       "      <td>\\nMorsy, S.A.G.Z., Ahmad Tajudin, A., Ali, M.S...</td>\n",
       "      <td>2020</td>\n",
       "      <td>The world today is in a quest for new means of...</td>\n",
       "    </tr>\n",
       "    <tr>\n",
       "      <th>13</th>\n",
       "      <td>Deploying machine and deep learning models for...</td>\n",
       "      <td>\\nSedik, A., Iliyasu, A.M., El-Rahiem, B.A., (...</td>\n",
       "      <td>2020</td>\n",
       "      <td>This generation faces existential threats beca...</td>\n",
       "    </tr>\n",
       "    <tr>\n",
       "      <th>14</th>\n",
       "      <td>Consolidation of clinical microbiology laborat...</td>\n",
       "      <td>\\nVandenberg, O., Durand, G., Hallin, M., (......</td>\n",
       "      <td>2020</td>\n",
       "      <td>Clinical microbiology is experiencing revoluti...</td>\n",
       "    </tr>\n",
       "    <tr>\n",
       "      <th>15</th>\n",
       "      <td>Should we be more cre-tical? A cautionary tale...</td>\n",
       "      <td>\\nAndrusaite, A., Milling, S.\\n</td>\n",
       "      <td>2020</td>\n",
       "      <td>The cre-loxP system has been revolutionary in ...</td>\n",
       "    </tr>\n",
       "    <tr>\n",
       "      <th>16</th>\n",
       "      <td>Gene drive: Progress and prospects</td>\n",
       "      <td>\\nWedell, N., Price, T.A.R., Lindholm, A.K.\\n</td>\n",
       "      <td>2019</td>\n",
       "      <td>Gene drive is a naturally occurring phenomenon...</td>\n",
       "    </tr>\n",
       "    <tr>\n",
       "      <th>17</th>\n",
       "      <td>Detection of differentially expressed genes in...</td>\n",
       "      <td>\\nSekula, M., Gaskins, J., Datta, S.\\n</td>\n",
       "      <td>2019</td>\n",
       "      <td>Single-cell RNA sequencing (scRNA-seq) technol...</td>\n",
       "    </tr>\n",
       "    <tr>\n",
       "      <th>18</th>\n",
       "      <td>Cas9 Ribonucleoprotein Complex Delivery: Metho...</td>\n",
       "      <td>\\nCampbell, L.A., Richie, C.T., Maggirwar, N.S...</td>\n",
       "      <td>2019</td>\n",
       "      <td>The CRISPR/Cas9 system is a revolutionary gene...</td>\n",
       "    </tr>\n",
       "    <tr>\n",
       "      <th>19</th>\n",
       "      <td>Biological and chemical diversity go hand in h...</td>\n",
       "      <td>\\nSandargo, B., Chepkirui, C., Cheng, T., (......</td>\n",
       "      <td>2019</td>\n",
       "      <td>The Basidiomycota constitutes the second large...</td>\n",
       "    </tr>\n",
       "    <tr>\n",
       "      <th>20</th>\n",
       "      <td>The role of synthetic biology in climate chang...</td>\n",
       "      <td>\\nDelisi, C.\\n</td>\n",
       "      <td>2019</td>\n",
       "      <td>There is growing agreement that the aim of Uni...</td>\n",
       "    </tr>\n",
       "    <tr>\n",
       "      <th>21</th>\n",
       "      <td>Latest development in microalgae-biofuel produ...</td>\n",
       "      <td>\\nHossain, N., Mahlia, T.M.I., Saidur, R.\\n</td>\n",
       "      <td>2019</td>\n",
       "      <td>Background: Microalgae have been experimented ...</td>\n",
       "    </tr>\n",
       "    <tr>\n",
       "      <th>22</th>\n",
       "      <td>Clostridial genetics: Genetic manipulation of ...</td>\n",
       "      <td>\\nKuehne, S., Rood, J.I., Lyras, D.\\n</td>\n",
       "      <td>2019</td>\n",
       "      <td>The past 10 years have been revolutionary for ...</td>\n",
       "    </tr>\n",
       "    <tr>\n",
       "      <th>23</th>\n",
       "      <td>Nanoparticles: Their synthesis and their appli...</td>\n",
       "      <td>\\nKant, T.R., Poonam, S.\\n</td>\n",
       "      <td>2019</td>\n",
       "      <td>Nanotechnology has become one of the most prom...</td>\n",
       "    </tr>\n",
       "    <tr>\n",
       "      <th>24</th>\n",
       "      <td>Genome editing: Advances and prospects</td>\n",
       "      <td>\\nPatel, J., Mishra, A.\\n</td>\n",
       "      <td>2019</td>\n",
       "      <td>There is an urgent need to develop quality cro...</td>\n",
       "    </tr>\n",
       "    <tr>\n",
       "      <th>25</th>\n",
       "      <td>With big data comes big responsibilities for s...</td>\n",
       "      <td>\\nBallen, C.J., Holmegaard, H.T.\\n</td>\n",
       "      <td>2019</td>\n",
       "      <td>Our ability to collect and access large quanti...</td>\n",
       "    </tr>\n",
       "    <tr>\n",
       "      <th>26</th>\n",
       "      <td>Platforms and analytical tools used in Nucleic...</td>\n",
       "      <td>\\nMaccannell, D.\\n</td>\n",
       "      <td>2019</td>\n",
       "      <td>In the decade and a half since the introductio...</td>\n",
       "    </tr>\n",
       "    <tr>\n",
       "      <th>27</th>\n",
       "      <td>CRISPR/Cas9 and CAR-T cell, collaboration of t...</td>\n",
       "      <td>\\nMollanoori, H., Shahraki, H., Rahmati, Y., T...</td>\n",
       "      <td>2018</td>\n",
       "      <td>Clustered regularly interspaced short palindro...</td>\n",
       "    </tr>\n",
       "    <tr>\n",
       "      <th>28</th>\n",
       "      <td>Transformation of animal genomics by next-gene...</td>\n",
       "      <td>\\nGhosh, M., Sharma, N., Singh, A.K., (...), P...</td>\n",
       "      <td>2018</td>\n",
       "      <td>For more than a quarter of a century, sequenci...</td>\n",
       "    </tr>\n",
       "    <tr>\n",
       "      <th>29</th>\n",
       "      <td>MALDI-TOF MS applications to the detection of ...</td>\n",
       "      <td>\\nFlorio, W., Tavanti, A., Ghelardi, E., Lupet...</td>\n",
       "      <td>2018</td>\n",
       "      <td>MALDI-TOF MS technology has made possible revo...</td>\n",
       "    </tr>\n",
       "    <tr>\n",
       "      <th>30</th>\n",
       "      <td>Targeted Nucleotide Editing Technologies for M...</td>\n",
       "      <td>\\nArazoe, T., Kondo, A., Nishida, K.\\n</td>\n",
       "      <td>2018</td>\n",
       "      <td>Since the emergence of programmable RNA-guided...</td>\n",
       "    </tr>\n",
       "    <tr>\n",
       "      <th>31</th>\n",
       "      <td>“Connecting worlds – a view on microfluidics f...</td>\n",
       "      <td>\\nFernandes, A.C., Gernaey, K.V., Krühne, U.\\n</td>\n",
       "      <td>2018</td>\n",
       "      <td>From its birth, microfluidics has been referen...</td>\n",
       "    </tr>\n",
       "    <tr>\n",
       "      <th>32</th>\n",
       "      <td>Investigations into the cancer stem cell niche...</td>\n",
       "      <td>\\nSreepadmanabh, M., Toley, B.J.\\n</td>\n",
       "      <td>2018</td>\n",
       "      <td>The concept of Cancer Stem Cells (CSCs) and th...</td>\n",
       "    </tr>\n",
       "    <tr>\n",
       "      <th>33</th>\n",
       "      <td>A multimodal imaging approach based on micro-C...</td>\n",
       "      <td>\\nRuscitti, F., Ravanetti, F., Donofrio, G., (...</td>\n",
       "      <td>2018</td>\n",
       "      <td>Idiopathic pulmonary fibrosis (IPF) is a fatal...</td>\n",
       "    </tr>\n",
       "    <tr>\n",
       "      <th>34</th>\n",
       "      <td>Crispr-mediated genome engineering and its app...</td>\n",
       "      <td>\\nKaboli, S., Babazada, H.\\n</td>\n",
       "      <td>2018</td>\n",
       "      <td>The CRISPR (clustered regularly interspaced sh...</td>\n",
       "    </tr>\n",
       "    <tr>\n",
       "      <th>35</th>\n",
       "      <td>Fully disposable manufacturing concepts for cl...</td>\n",
       "      <td>\\nBoedeker, B., Goldstein, A., Mahajan, E.\\n</td>\n",
       "      <td>2018</td>\n",
       "      <td>The availability and use of pre-sterilized dis...</td>\n",
       "    </tr>\n",
       "    <tr>\n",
       "      <th>36</th>\n",
       "      <td>Status and Prospects of Next Generation Sequen...</td>\n",
       "      <td>\\nSharma, T.R., Devanna, B.N., Kiran, K., (......</td>\n",
       "      <td>2018</td>\n",
       "      <td>The history of DNA sequencing dates back to 19...</td>\n",
       "    </tr>\n",
       "    <tr>\n",
       "      <th>37</th>\n",
       "      <td>Revolution in genotyping platforms for crop im...</td>\n",
       "      <td>\\nScheben, A., Batley, J., Edwards, D.\\n</td>\n",
       "      <td>2018</td>\n",
       "      <td>In the past decade, the application of high-th...</td>\n",
       "    </tr>\n",
       "    <tr>\n",
       "      <th>38</th>\n",
       "      <td>Use of genetic and chemical synthetic lethalit...</td>\n",
       "      <td>\\nKlobucar, K., Brown, E.D.\\n</td>\n",
       "      <td>2018</td>\n",
       "      <td>Different conditions and genomic contexts are ...</td>\n",
       "    </tr>\n",
       "  </tbody>\n",
       "</table>\n",
       "</div>"
      ],
      "text/plain": [
       "                                                Title  \\\n",
       "0   Nanoparticle immuno-fluorescent probes as a me...   \n",
       "1   Strengthening the CAR-T cell therapeutic appli...   \n",
       "2   Collaborative networking and support for medic...   \n",
       "3   The Use of CRISPR/Cas9 as a Tool to Study Huma...   \n",
       "4   Non-viral transfection technologies for next-g...   \n",
       "5                Digital Twins for Multiple Sclerosis   \n",
       "6   Industrial sustainability of microbial keratin...   \n",
       "7   Development of nano drugs: A promising avenue ...   \n",
       "8   CRISPR/Cas-based genome editing in Aspergillus...   \n",
       "9   Human heritable genome editing – Potential and...   \n",
       "10  Development and Application of 3D Bioprinted S...   \n",
       "11  The old and the new: Prospects for non-integra...   \n",
       "12  Current Development in Decolorization of Synth...   \n",
       "13  Deploying machine and deep learning models for...   \n",
       "14  Consolidation of clinical microbiology laborat...   \n",
       "15  Should we be more cre-tical? A cautionary tale...   \n",
       "16                 Gene drive: Progress and prospects   \n",
       "17  Detection of differentially expressed genes in...   \n",
       "18  Cas9 Ribonucleoprotein Complex Delivery: Metho...   \n",
       "19  Biological and chemical diversity go hand in h...   \n",
       "20  The role of synthetic biology in climate chang...   \n",
       "21  Latest development in microalgae-biofuel produ...   \n",
       "22  Clostridial genetics: Genetic manipulation of ...   \n",
       "23  Nanoparticles: Their synthesis and their appli...   \n",
       "24             Genome editing: Advances and prospects   \n",
       "25  With big data comes big responsibilities for s...   \n",
       "26  Platforms and analytical tools used in Nucleic...   \n",
       "27  CRISPR/Cas9 and CAR-T cell, collaboration of t...   \n",
       "28  Transformation of animal genomics by next-gene...   \n",
       "29  MALDI-TOF MS applications to the detection of ...   \n",
       "30  Targeted Nucleotide Editing Technologies for M...   \n",
       "31  “Connecting worlds – a view on microfluidics f...   \n",
       "32  Investigations into the cancer stem cell niche...   \n",
       "33  A multimodal imaging approach based on micro-C...   \n",
       "34  Crispr-mediated genome engineering and its app...   \n",
       "35  Fully disposable manufacturing concepts for cl...   \n",
       "36  Status and Prospects of Next Generation Sequen...   \n",
       "37  Revolution in genotyping platforms for crop im...   \n",
       "38  Use of genetic and chemical synthetic lethalit...   \n",
       "\n",
       "                                               Author  Year  \\\n",
       "0   \\nAl-Awwal, N., Masjedi, M., El-Dweik, M., And...  2022   \n",
       "1   \\nSadeqi Nezhad, M., Yazdanifar, M., Abdollahp...  2021   \n",
       "2                         \\nTabakov, S., Stoeva, M.\\n  2021   \n",
       "3   \\nLin, H., Li, G., Peng, X., (...), Wang, T., ...  2021   \n",
       "4   \\nRaes, L., De Smedt, S.C., Raemdonck, K., Bra...  2021   \n",
       "5   \\nVoigt, I., Inojosa, H., Dillenseger, A., (.....  2021   \n",
       "6   \\nde Menezes, C.L.A., Santos, R.C., Santos, M....  2021   \n",
       "7   \\nKalaiyarasi, D., Manobharathi, V., Mirunalin...  2021   \n",
       "8                   \\nZheng, X., Zheng, P., Sun, J.\\n  2021   \n",
       "9                         \\nYadav, N., Thelma, B.K.\\n  2021   \n",
       "10  \\nLu, D., Liu, Y., Li, W., (...), Ma, Z., Wang...  2021   \n",
       "11                                       \\nLuis, A.\\n  2020   \n",
       "12  \\nMorsy, S.A.G.Z., Ahmad Tajudin, A., Ali, M.S...  2020   \n",
       "13  \\nSedik, A., Iliyasu, A.M., El-Rahiem, B.A., (...  2020   \n",
       "14  \\nVandenberg, O., Durand, G., Hallin, M., (......  2020   \n",
       "15                    \\nAndrusaite, A., Milling, S.\\n  2020   \n",
       "16      \\nWedell, N., Price, T.A.R., Lindholm, A.K.\\n  2019   \n",
       "17             \\nSekula, M., Gaskins, J., Datta, S.\\n  2019   \n",
       "18  \\nCampbell, L.A., Richie, C.T., Maggirwar, N.S...  2019   \n",
       "19  \\nSandargo, B., Chepkirui, C., Cheng, T., (......  2019   \n",
       "20                                     \\nDelisi, C.\\n  2019   \n",
       "21        \\nHossain, N., Mahlia, T.M.I., Saidur, R.\\n  2019   \n",
       "22              \\nKuehne, S., Rood, J.I., Lyras, D.\\n  2019   \n",
       "23                         \\nKant, T.R., Poonam, S.\\n  2019   \n",
       "24                          \\nPatel, J., Mishra, A.\\n  2019   \n",
       "25                 \\nBallen, C.J., Holmegaard, H.T.\\n  2019   \n",
       "26                                 \\nMaccannell, D.\\n  2019   \n",
       "27  \\nMollanoori, H., Shahraki, H., Rahmati, Y., T...  2018   \n",
       "28  \\nGhosh, M., Sharma, N., Singh, A.K., (...), P...  2018   \n",
       "29  \\nFlorio, W., Tavanti, A., Ghelardi, E., Lupet...  2018   \n",
       "30             \\nArazoe, T., Kondo, A., Nishida, K.\\n  2018   \n",
       "31     \\nFernandes, A.C., Gernaey, K.V., Krühne, U.\\n  2018   \n",
       "32                 \\nSreepadmanabh, M., Toley, B.J.\\n  2018   \n",
       "33  \\nRuscitti, F., Ravanetti, F., Donofrio, G., (...  2018   \n",
       "34                       \\nKaboli, S., Babazada, H.\\n  2018   \n",
       "35       \\nBoedeker, B., Goldstein, A., Mahajan, E.\\n  2018   \n",
       "36  \\nSharma, T.R., Devanna, B.N., Kiran, K., (......  2018   \n",
       "37           \\nScheben, A., Batley, J., Edwards, D.\\n  2018   \n",
       "38                      \\nKlobucar, K., Brown, E.D.\\n  2018   \n",
       "\n",
       "                                             abstract  \n",
       "0   Development of revolutionary sensitive biosens...  \n",
       "1   Adoptive cell immunotherapy with chimeric anti...  \n",
       "2   Medical physics is one of the key aspects of c...  \n",
       "3   Clustered regularly interspaced short palindro...  \n",
       "4   Genetically engineered T cells have sparked in...  \n",
       "5   An individualized innovative disease managemen...  \n",
       "6   Keratinases are proteolytic enzymes with a par...  \n",
       "7   Cancer is one of the leading causes of death i...  \n",
       "8   Aspergillus niger is a vital industrial workho...  \n",
       "9   Medical genomics has moved significantly from ...  \n",
       "10  Three-dimensional (3D) bioprinting is a revolu...  \n",
       "11  Lentiviral vectors have been developed and use...  \n",
       "12  The world today is in a quest for new means of...  \n",
       "13  This generation faces existential threats beca...  \n",
       "14  Clinical microbiology is experiencing revoluti...  \n",
       "15  The cre-loxP system has been revolutionary in ...  \n",
       "16  Gene drive is a naturally occurring phenomenon...  \n",
       "17  Single-cell RNA sequencing (scRNA-seq) technol...  \n",
       "18  The CRISPR/Cas9 system is a revolutionary gene...  \n",
       "19  The Basidiomycota constitutes the second large...  \n",
       "20  There is growing agreement that the aim of Uni...  \n",
       "21  Background: Microalgae have been experimented ...  \n",
       "22  The past 10 years have been revolutionary for ...  \n",
       "23  Nanotechnology has become one of the most prom...  \n",
       "24  There is an urgent need to develop quality cro...  \n",
       "25  Our ability to collect and access large quanti...  \n",
       "26  In the decade and a half since the introductio...  \n",
       "27  Clustered regularly interspaced short palindro...  \n",
       "28  For more than a quarter of a century, sequenci...  \n",
       "29  MALDI-TOF MS technology has made possible revo...  \n",
       "30  Since the emergence of programmable RNA-guided...  \n",
       "31  From its birth, microfluidics has been referen...  \n",
       "32  The concept of Cancer Stem Cells (CSCs) and th...  \n",
       "33  Idiopathic pulmonary fibrosis (IPF) is a fatal...  \n",
       "34  The CRISPR (clustered regularly interspaced sh...  \n",
       "35  The availability and use of pre-sterilized dis...  \n",
       "36  The history of DNA sequencing dates back to 19...  \n",
       "37  In the past decade, the application of high-th...  \n",
       "38  Different conditions and genomic contexts are ...  "
      ]
     },
     "execution_count": 102,
     "metadata": {},
     "output_type": "execute_result"
    }
   ],
   "source": [
    "medical_AI_1"
   ]
  },
  {
   "cell_type": "code",
   "execution_count": 38,
   "metadata": {},
   "outputs": [
    {
     "name": "stdout",
     "output_type": "stream",
     "text": [
      "Collecting openpyxl\n",
      "  Downloading openpyxl-3.0.9-py2.py3-none-any.whl (242 kB)\n",
      "\u001b[K     |████████████████████████████████| 242 kB 5.3 MB/s eta 0:00:01\n",
      "\u001b[?25hCollecting et-xmlfile\n",
      "  Downloading et_xmlfile-1.1.0-py3-none-any.whl (4.7 kB)\n",
      "Installing collected packages: et-xmlfile, openpyxl\n",
      "Successfully installed et-xmlfile-1.1.0 openpyxl-3.0.9\n"
     ]
    }
   ],
   "source": [
    "!pip install openpyxl"
   ]
  },
  {
   "cell_type": "code",
   "execution_count": 39,
   "metadata": {},
   "outputs": [],
   "source": [
    "import openpyxl"
   ]
  },
  {
   "cell_type": "code",
   "execution_count": 103,
   "metadata": {},
   "outputs": [],
   "source": [
    "medical_AI_1.to_excel('medical_ai_four.xlsx', encoding = 'utf-8')"
   ]
  },
  {
   "cell_type": "code",
   "execution_count": 41,
   "metadata": {},
   "outputs": [
    {
     "data": {
      "text/plain": [
       "'/Users/mac626/Documents/GitHub/Scrapper/study_paper'"
      ]
     },
     "execution_count": 41,
     "metadata": {},
     "output_type": "execute_result"
    }
   ],
   "source": [
    "/pwd"
   ]
  },
  {
   "cell_type": "code",
   "execution_count": null,
   "metadata": {},
   "outputs": [],
   "source": []
  }
 ],
 "metadata": {
  "interpreter": {
   "hash": "13ddd8e4bbab9f189b23159d9bff0382f6ebbdf19bbccdd26279f60d699cf2a0"
  },
  "kernelspec": {
   "display_name": "Python 3 (ipykernel)",
   "language": "python",
   "name": "python3"
  },
  "language_info": {
   "codemirror_mode": {
    "name": "ipython",
    "version": 3
   },
   "file_extension": ".py",
   "mimetype": "text/x-python",
   "name": "python",
   "nbconvert_exporter": "python",
   "pygments_lexer": "ipython3",
   "version": "3.8.11"
  }
 },
 "nbformat": 4,
 "nbformat_minor": 2
}
