{
 "cells": [
  {
   "cell_type": "code",
   "execution_count": 3,
   "id": "fossil-argument",
   "metadata": {},
   "outputs": [],
   "source": [
    "from selenium import webdriver\n",
    "from selenium.webdriver.common.keys import Keys\n",
    "import time\n",
    "from bs4 import BeautifulSoup\n",
    "import re\n",
    "import pandas as pd\n",
    "\n",
    "from urllib.request import urlopen"
   ]
  },
  {
   "cell_type": "raw",
   "id": "wired-invite",
   "metadata": {},
   "source": [
    "path = '/Users/monica/chromedriver'\n",
    "driver = webdriver.Chrome(path)\n",
    "driver.implicitly_wait(5)\n",
    "\n",
    "start_url = \"https://www.youtube.com\"\n",
    "driver.get(start_url)"
   ]
  },
  {
   "cell_type": "code",
   "execution_count": 4,
   "id": "standard-division",
   "metadata": {},
   "outputs": [
    {
     "data": {
      "text/html": [
       "<div>\n",
       "<style scoped>\n",
       "    .dataframe tbody tr th:only-of-type {\n",
       "        vertical-align: middle;\n",
       "    }\n",
       "\n",
       "    .dataframe tbody tr th {\n",
       "        vertical-align: top;\n",
       "    }\n",
       "\n",
       "    .dataframe thead th {\n",
       "        text-align: right;\n",
       "    }\n",
       "</style>\n",
       "<table border=\"1\" class=\"dataframe\">\n",
       "  <thead>\n",
       "    <tr style=\"text-align: right;\">\n",
       "      <th></th>\n",
       "      <th>title</th>\n",
       "      <th>link</th>\n",
       "    </tr>\n",
       "    <tr>\n",
       "      <th>number</th>\n",
       "      <th></th>\n",
       "      <th></th>\n",
       "    </tr>\n",
       "  </thead>\n",
       "  <tbody>\n",
       "    <tr>\n",
       "      <th>1</th>\n",
       "      <td>먼저 했는데 접종 '7분의 1'…\";가격 바가지 썼다\"...</td>\n",
       "      <td>NaN</td>\n",
       "    </tr>\n",
       "    <tr>\n",
       "      <th>2</th>\n",
       "      <td>\";내 아내 먼저\";…'백신 새치기' 알고 보니‥ (2...</td>\n",
       "      <td>NaN</td>\n",
       "    </tr>\n",
       "  </tbody>\n",
       "</table>\n",
       "</div>"
      ],
      "text/plain": [
       "                                    title  link\n",
       "number                                         \n",
       "1       먼저 했는데 접종 '7분의 1'…\";가격 바가지 썼다\"...   NaN\n",
       "2       \";내 아내 먼저\";…'백신 새치기' 알고 보니‥ (2...   NaN"
      ]
     },
     "execution_count": 4,
     "metadata": {},
     "output_type": "execute_result"
    }
   ],
   "source": [
    "#검색어\n",
    "import pandas as pd\n",
    "search_df = pd.read_excel('/Users/monica/Documents/크롤링/(0331)210226_0331 유튜브 코로나백신.xlsx', index_col=[0])\n",
    "search_df.head(2)"
   ]
  },
  {
   "cell_type": "code",
   "execution_count": 5,
   "id": "viral-center",
   "metadata": {},
   "outputs": [
    {
     "name": "stdout",
     "output_type": "stream",
     "text": [
      "150\n"
     ]
    }
   ],
   "source": [
    "search_list = search_df.title.tolist()\n",
    "# search_list = search_list[:204]\n",
    "print(len(search_list))\n"
   ]
  },
  {
   "cell_type": "code",
   "execution_count": 6,
   "id": "preliminary-latino",
   "metadata": {},
   "outputs": [],
   "source": [
    "#검색어\n",
    "def searching_link(search_list):\n",
    "    import time\n",
    "    time.sleep(2)\n",
    "    path = '/Users/monica/chromedriver'\n",
    "    driver = webdriver.Chrome(path)\n",
    "    driver.implicitly_wait(5)\n",
    "\n",
    "    start_url = \"https://www.youtube.com\"\n",
    "    driver.get(start_url)\n",
    "    \n",
    "    #검색\n",
    "    driver.find_elements_by_xpath('//*[@id=\"search-input\"]')[0].click()\n",
    "    driver.find_element_by_xpath('//*[@id=\"search-form\"]/div/div/div/div[2]/input').send_keys(search_list)\n",
    "    driver.find_element_by_xpath('//*[@id=\"search-form\"]/div/div/div/div[2]/input').send_keys(Keys.RETURN)\n",
    "    #검색결과 클릭\n",
    "    driver.find_elements_by_xpath('//*[@id=\"video-title\"]/yt-formatted-string')[0].click()\n",
    "    #파싱\n",
    "    page = driver.page_source\n",
    "    soup = BeautifulSoup(page, 'html.parser')\n",
    "    renderer_list = soup.find_all(id='dismissable')\n",
    "    soup = BeautifulSoup(page, 'lxml')\n",
    "    div_s = soup.findAll('div')\n",
    "    \n",
    "    #link따기\n",
    "    link_page = soup.find_all('a',{'class':\"yt-simple-endpoint style-scope ytd-video-renderer\"})\n",
    "    href =[]\n",
    "    for a in link_page:\n",
    "         if a.has_attr(\"href\"):\n",
    "#                 print(a[\"href\"])\n",
    "                href.append(a[\"href\"])\n",
    "    print(\"http://www.youtube.com/{0}\".format(href[0]))\n",
    "    driver.close()"
   ]
  },
  {
   "cell_type": "code",
   "execution_count": 14,
   "id": "adequate-resident",
   "metadata": {
    "scrolled": false
   },
   "outputs": [
    {
     "name": "stdout",
     "output_type": "stream",
     "text": [
      "http://www.youtube.com//watch?v=4krQAGqMj7Q\n",
      "http://www.youtube.com//watch?v=1JBaPrXeI8g\n",
      "http://www.youtube.com//watch?v=iT2HoJ0_7EE\n",
      "http://www.youtube.com//watch?v=ya0DA1SD55Q\n",
      "http://www.youtube.com//watch?v=Ct-a7vfLXsM\n",
      "http://www.youtube.com//watch?v=gvLkTKT87No\n",
      "http://www.youtube.com//watch?v=0Tcfx-IUmA0\n",
      "http://www.youtube.com//watch?v=S81sFqsrDLI\n"
     ]
    }
   ],
   "source": [
    "video_list =[]\n",
    "for i in search_list[142:]:\n",
    "    searching_link(i)"
   ]
  },
  {
   "cell_type": "code",
   "execution_count": 12,
   "id": "persistent-george",
   "metadata": {
    "scrolled": true
   },
   "outputs": [
    {
     "data": {
      "text/plain": [
       "204"
      ]
     },
     "execution_count": 12,
     "metadata": {},
     "output_type": "execute_result"
    }
   ],
   "source": [
    "len(search_list)"
   ]
  },
  {
   "cell_type": "code",
   "execution_count": 20,
   "id": "indian-neighborhood",
   "metadata": {},
   "outputs": [
    {
     "data": {
      "text/plain": [
       "['코로나 백신 수송 책임질 어벤져스! 국방부, 질병청, 국토부, 경찰청, 관...',\n",
       " 'ENG)유학생VLOG|코로나 백신이 있어도 하루 확진자 2만명|누적확진자280만...',\n",
       " '정부가 선구매 한 아스트라제네카 코로나19백신 미국 FDA 승인 못받은 이유! 대체...',\n",
       " '코로나19 백신 접종 시기부터 종류 선택 논란까지 사이다 팩트로 한방에 알려드림 f...',\n",
       " '코로나 백신 선택권 논란…“이왕이면 70% 대신 95% 달라” | 뉴스A',\n",
       " \"[뉴있저] 싱가포르 '전 국민 코로나 백신 무료 접종'...현지 ...\",\n",
       " '코로나 백신 4,400만 명 분 확보…“내년 2월부터 국내 도입” / KBS',\n",
       " '코로나 백신 부작용 불안에…접종 꺼리는 미 의료진들 / JTBC 아침&amp;',\n",
       " \"코로나 백신 부작용? '오한이 나고 이빨까지 부러져..'\",\n",
       " \"화이자 '코로나 백신 효과 90%..이달 승인 신청' - [LIV...\",\n",
       " '백신 개발 기간 평균 11년. 코로나 백신은 1년. 이유가 뭔가? 그래도 되나? ...',\n",
       " '코로나19 백신, 맞아도 괜찮을까? | 감염내과 김용찬 교수']"
      ]
     },
     "execution_count": 20,
     "metadata": {},
     "output_type": "execute_result"
    }
   ],
   "source": [
    "search_list[192:]"
   ]
  },
  {
   "cell_type": "code",
   "execution_count": null,
   "id": "administrative-neighbor",
   "metadata": {},
   "outputs": [],
   "source": []
  }
 ],
 "metadata": {
  "kernelspec": {
   "display_name": "Python 3",
   "language": "python",
   "name": "python3"
  },
  "language_info": {
   "codemirror_mode": {
    "name": "ipython",
    "version": 3
   },
   "file_extension": ".py",
   "mimetype": "text/x-python",
   "name": "python",
   "nbconvert_exporter": "python",
   "pygments_lexer": "ipython3",
   "version": "3.9.2"
  },
  "toc": {
   "base_numbering": 1,
   "nav_menu": {},
   "number_sections": true,
   "sideBar": true,
   "skip_h1_title": false,
   "title_cell": "Table of Contents",
   "title_sidebar": "Contents",
   "toc_cell": false,
   "toc_position": {},
   "toc_section_display": true,
   "toc_window_display": false
  },
  "varInspector": {
   "cols": {
    "lenName": 16,
    "lenType": 16,
    "lenVar": 40
   },
   "kernels_config": {
    "python": {
     "delete_cmd_postfix": "",
     "delete_cmd_prefix": "del ",
     "library": "var_list.py",
     "varRefreshCmd": "print(var_dic_list())"
    },
    "r": {
     "delete_cmd_postfix": ") ",
     "delete_cmd_prefix": "rm(",
     "library": "var_list.r",
     "varRefreshCmd": "cat(var_dic_list()) "
    }
   },
   "types_to_exclude": [
    "module",
    "function",
    "builtin_function_or_method",
    "instance",
    "_Feature"
   ],
   "window_display": false
  }
 },
 "nbformat": 4,
 "nbformat_minor": 5
}
