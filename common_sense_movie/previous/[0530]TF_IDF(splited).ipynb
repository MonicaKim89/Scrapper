{
 "cells": [
  {
   "cell_type": "code",
   "execution_count": 1,
   "metadata": {},
   "outputs": [
    {
     "name": "stdout",
     "output_type": "stream",
     "text": [
      "C:\\Users\\yukir\\Documents\\GitHub\\Text_Mining\\py\n",
      "True\n",
      "[name: \"/device:CPU:0\"\n",
      "device_type: \"CPU\"\n",
      "memory_limit: 268435456\n",
      "locality {\n",
      "}\n",
      "incarnation: 7620730895153757517\n",
      "]\n",
      "tf 2.5.3\n",
      "set_global_determinism(seed=1337) 이거 꼭 해라\n",
      "set_global_determinism(seed=1337) 이거 꼭 해라\n",
      "set_global_determinism(seed=1337) 이거 꼭 해라\n"
     ]
    },
    {
     "name": "stderr",
     "output_type": "stream",
     "text": [
      "c:\\Users\\yukir\\anaconda3\\envs\\NLP\\lib\\site-packages\\scipy\\io\\matlab\\mio5.py:98: DeprecationWarning: `np.bool` is a deprecated alias for the builtin `bool`. To silence this warning, use `bool` by itself. Doing this will not modify any behavior and is safe. If you specifically wanted the numpy scalar type, use `np.bool_` here.\n",
      "Deprecated in NumPy 1.20; for more details and guidance: https://numpy.org/devdocs/release/1.20.0-notes.html#deprecations\n",
      "  from .mio5_utils import VarReader5\n"
     ]
    },
    {
     "name": "stdout",
     "output_type": "stream",
     "text": [
      "C:\\Users\\yukir\\Documents\\Monicas_workspace\\Derma\\FINAL_DERMA\\TF_IDF(LDA)\n"
     ]
    }
   ],
   "source": [
    "%cd C:\\Users\\yukir\\Documents\\GitHub\\Text_Mining\\py\n",
    "\n",
    "from nlp_processing import *\n",
    "set_global_determinism(seed=1337)\n",
    "\n",
    "%cd C:\\Users\\yukir\\Documents\\Monicas_workspace\\Derma\\FINAL_DERMA\\TF_IDF(LDA)"
   ]
  },
  {
   "cell_type": "code",
   "execution_count": 2,
   "metadata": {},
   "outputs": [],
   "source": [
    "import openpyxl\n",
    "from nltk.corpus import stopwords\n",
    "from nltk.stem.porter import PorterStemmer\n",
    "from nltk.tokenize import RegexpTokenizer\n",
    "from gensim import corpora, models\n",
    "from gensim.models import CoherenceModel\n",
    "import gensim\n",
    "import matplotlib.pyplot as plt\n",
    "\n",
    "from gensim.models.ldamodel import LdaModel \n",
    "from gensim.models.callbacks import CoherenceMetric \n",
    "from gensim import corpora \n",
    "from gensim.models.callbacks import PerplexityMetric \n",
    "import logging \n",
    "import pickle \n",
    "import pyLDAvis\n",
    "\n",
    "from gensim.models.coherencemodel import CoherenceModel \n",
    "import matplotlib.pyplot as plt\n",
    "\n",
    "import pyLDAvis.gensim\n",
    "pyLDAvis.enable_notebook()\n",
    "\n",
    "from konlpy.tag import Mecab \n",
    "from konlpy.tag import Okt\n",
    "okt = Okt()\n",
    "from tqdm import tqdm \n",
    "import re \n",
    "import pickle \n",
    "import csv"
   ]
  },
  {
   "cell_type": "markdown",
   "metadata": {},
   "source": [
    "### 띄어쓰기"
   ]
  },
  {
   "cell_type": "code",
   "execution_count": 3,
   "metadata": {},
   "outputs": [
    {
     "data": {
      "text/html": [
       "<div>\n",
       "<style scoped>\n",
       "    .dataframe tbody tr th:only-of-type {\n",
       "        vertical-align: middle;\n",
       "    }\n",
       "\n",
       "    .dataframe tbody tr th {\n",
       "        vertical-align: top;\n",
       "    }\n",
       "\n",
       "    .dataframe thead th {\n",
       "        text-align: right;\n",
       "    }\n",
       "</style>\n",
       "<table border=\"1\" class=\"dataframe\">\n",
       "  <thead>\n",
       "    <tr style=\"text-align: right;\">\n",
       "      <th></th>\n",
       "      <th>hospital</th>\n",
       "      <th>star</th>\n",
       "      <th>reviews</th>\n",
       "    </tr>\n",
       "  </thead>\n",
       "  <tbody>\n",
       "    <tr>\n",
       "      <th>0</th>\n",
       "      <td>오라클피부과의원 청주북문로점</td>\n",
       "      <td>6.8</td>\n",
       "      <td>저랑은 안맞는 거같아요</td>\n",
       "    </tr>\n",
       "    <tr>\n",
       "      <th>1</th>\n",
       "      <td>오라클피부과의원 청주북문로점</td>\n",
       "      <td>6.8</td>\n",
       "      <td>의사선생님은 어떻게든 이유를 찾아주시려고 하는 거같은데</td>\n",
       "    </tr>\n",
       "    <tr>\n",
       "      <th>2</th>\n",
       "      <td>오라클피부과의원 청주북문로점</td>\n",
       "      <td>6.8</td>\n",
       "      <td>아무런</td>\n",
       "    </tr>\n",
       "    <tr>\n",
       "      <th>3</th>\n",
       "      <td>오라클피부과의원 청주북문로점</td>\n",
       "      <td>6.8</td>\n",
       "      <td>효과나 뭐없었어요</td>\n",
       "    </tr>\n",
       "    <tr>\n",
       "      <th>4</th>\n",
       "      <td>오라클피부과의원 청주북문로점</td>\n",
       "      <td>6.8</td>\n",
       "      <td>두리뭉실한</td>\n",
       "    </tr>\n",
       "  </tbody>\n",
       "</table>\n",
       "</div>"
      ],
      "text/plain": [
       "          hospital star                          reviews\n",
       "0  오라클피부과의원 청주북문로점  6.8                     저랑은 안맞는 거같아요\n",
       "1  오라클피부과의원 청주북문로점  6.8   의사선생님은 어떻게든 이유를 찾아주시려고 하는 거같은데\n",
       "2  오라클피부과의원 청주북문로점  6.8                              아무런\n",
       "3  오라클피부과의원 청주북문로점  6.8                        효과나 뭐없었어요\n",
       "4  오라클피부과의원 청주북문로점  6.8                            두리뭉실한"
      ]
     },
     "execution_count": 3,
     "metadata": {},
     "output_type": "execute_result"
    }
   ],
   "source": [
    "reviews_df = pd.read_excel(\"..//data//[0530]for_keywords_d.xlsx\", index_col=0)\n",
    "reviews_df.head()\n"
   ]
  },
  {
   "cell_type": "code",
   "execution_count": 4,
   "metadata": {},
   "outputs": [
    {
     "name": "stdout",
     "output_type": "stream",
     "text": [
      "(226258, 3)\n",
      "(226258, 3)\n"
     ]
    }
   ],
   "source": [
    "print(reviews_df.shape)\n",
    "reviews_df = reviews_df.drop_duplicates()\n",
    "reviews_df = reviews_df.dropna()\n",
    "print(reviews_df.shape)"
   ]
  },
  {
   "cell_type": "code",
   "execution_count": 7,
   "metadata": {},
   "outputs": [
    {
     "data": {
      "text/html": [
       "<div>\n",
       "<style scoped>\n",
       "    .dataframe tbody tr th:only-of-type {\n",
       "        vertical-align: middle;\n",
       "    }\n",
       "\n",
       "    .dataframe tbody tr th {\n",
       "        vertical-align: top;\n",
       "    }\n",
       "\n",
       "    .dataframe thead th {\n",
       "        text-align: right;\n",
       "    }\n",
       "</style>\n",
       "<table border=\"1\" class=\"dataframe\">\n",
       "  <thead>\n",
       "    <tr style=\"text-align: right;\">\n",
       "      <th></th>\n",
       "      <th>hospital</th>\n",
       "      <th>star</th>\n",
       "      <th>reviews</th>\n",
       "    </tr>\n",
       "  </thead>\n",
       "  <tbody>\n",
       "    <tr>\n",
       "      <th>0</th>\n",
       "      <td>오라클피부과의원 청주북문로점</td>\n",
       "      <td>6.8</td>\n",
       "      <td>저랑은 안맞는 거같아요</td>\n",
       "    </tr>\n",
       "    <tr>\n",
       "      <th>1</th>\n",
       "      <td>오라클피부과의원 청주북문로점</td>\n",
       "      <td>6.8</td>\n",
       "      <td>의사선생님은 어떻게든 이유를 찾아주시려고 하는 거같은데</td>\n",
       "    </tr>\n",
       "    <tr>\n",
       "      <th>2</th>\n",
       "      <td>오라클피부과의원 청주북문로점</td>\n",
       "      <td>6.8</td>\n",
       "      <td>아무런</td>\n",
       "    </tr>\n",
       "    <tr>\n",
       "      <th>3</th>\n",
       "      <td>오라클피부과의원 청주북문로점</td>\n",
       "      <td>6.8</td>\n",
       "      <td>효과나 뭐없었어요</td>\n",
       "    </tr>\n",
       "    <tr>\n",
       "      <th>4</th>\n",
       "      <td>오라클피부과의원 청주북문로점</td>\n",
       "      <td>6.8</td>\n",
       "      <td>두리뭉실한</td>\n",
       "    </tr>\n",
       "    <tr>\n",
       "      <th>...</th>\n",
       "      <td>...</td>\n",
       "      <td>...</td>\n",
       "      <td>...</td>\n",
       "    </tr>\n",
       "    <tr>\n",
       "      <th>234572</th>\n",
       "      <td>압구정톡스앤필의원</td>\n",
       "      <td>8.5</td>\n",
       "      <td>병원은 소쏘입니다</td>\n",
       "    </tr>\n",
       "    <tr>\n",
       "      <th>234573</th>\n",
       "      <td>은평미피부과의원</td>\n",
       "      <td>5</td>\n",
       "      <td>불광역6번출 구쪽에 위치한 은평미</td>\n",
       "    </tr>\n",
       "    <tr>\n",
       "      <th>234574</th>\n",
       "      <td>은평미피부과의원</td>\n",
       "      <td>5</td>\n",
       "      <td>피부과를 방문하였습니다2 5층에 위치하고 있으며</td>\n",
       "    </tr>\n",
       "    <tr>\n",
       "      <th>234575</th>\n",
       "      <td>은평미피부과의원</td>\n",
       "      <td>5</td>\n",
       "      <td>입간 판이따로 없어서</td>\n",
       "    </tr>\n",
       "    <tr>\n",
       "      <th>234576</th>\n",
       "      <td>은평미피부과의원</td>\n",
       "      <td>5</td>\n",
       "      <td>병원을 찾기가 힘들었습니다</td>\n",
       "    </tr>\n",
       "  </tbody>\n",
       "</table>\n",
       "<p>226258 rows × 3 columns</p>\n",
       "</div>"
      ],
      "text/plain": [
       "               hospital star                          reviews\n",
       "0       오라클피부과의원 청주북문로점  6.8                     저랑은 안맞는 거같아요\n",
       "1       오라클피부과의원 청주북문로점  6.8   의사선생님은 어떻게든 이유를 찾아주시려고 하는 거같은데\n",
       "2       오라클피부과의원 청주북문로점  6.8                              아무런\n",
       "3       오라클피부과의원 청주북문로점  6.8                        효과나 뭐없었어요\n",
       "4       오라클피부과의원 청주북문로점  6.8                            두리뭉실한\n",
       "...                 ...  ...                              ...\n",
       "234572        압구정톡스앤필의원  8.5                      병원은 소쏘입니다  \n",
       "234573         은평미피부과의원    5               불광역6번출 구쪽에 위치한 은평미\n",
       "234574         은평미피부과의원    5       피부과를 방문하였습니다2 5층에 위치하고 있으며\n",
       "234575         은평미피부과의원    5                      입간 판이따로 없어서\n",
       "234576         은평미피부과의원    5                   병원을 찾기가 힘들었습니다\n",
       "\n",
       "[226258 rows x 3 columns]"
      ]
     },
     "execution_count": 7,
     "metadata": {},
     "output_type": "execute_result"
    }
   ],
   "source": [
    "reviews_df"
   ]
  },
  {
   "cell_type": "code",
   "execution_count": 5,
   "metadata": {},
   "outputs": [
    {
     "name": "stdout",
     "output_type": "stream",
     "text": [
      "(226258, 3)\n"
     ]
    }
   ],
   "source": [
    "data = reviews_df.copy()\n",
    "# data = data[20000:]\n",
    "print(data.shape)"
   ]
  },
  {
   "cell_type": "code",
   "execution_count": 8,
   "metadata": {},
   "outputs": [
    {
     "data": {
      "text/plain": [
       "2173"
      ]
     },
     "execution_count": 8,
     "metadata": {},
     "output_type": "execute_result"
    }
   ],
   "source": [
    "len(data.hospital.unique())"
   ]
  },
  {
   "cell_type": "code",
   "execution_count": 9,
   "metadata": {},
   "outputs": [],
   "source": [
    "data = data[['reviews']]"
   ]
  },
  {
   "cell_type": "code",
   "execution_count": 10,
   "metadata": {},
   "outputs": [],
   "source": [
    "def clean_text(text): \n",
    "    \"\"\" 한글, 영문, 숫자만 남기고 제거한다. \n",
    "    :param text: \n",
    "    :return: \n",
    "    \"\"\" \n",
    "    text = text.replace(\".\", \" \").strip() \n",
    "    text = text.replace(\"·\", \" \").strip() \n",
    "    pattern = '[^ ㄱ-ㅣ가-힣|0-9|a-zA-Z]+' \n",
    "    text = re.sub(pattern=pattern, repl='', string=text) \n",
    "    return text "
   ]
  },
  {
   "cell_type": "code",
   "execution_count": 11,
   "metadata": {},
   "outputs": [],
   "source": [
    "def stemming (text):\n",
    "    morphs_list = []\n",
    "    one_words = []\n",
    "    result = []\n",
    "\n",
    "    pos = okt.pos(text, join = True)\n",
    "    # print(pos)\n",
    "    for j in pos:\n",
    "        if j.split('/')[1] == 'Noun':\n",
    "            j = j.split('/')[0]\n",
    "            morphs_list.append(j)\n",
    "                    \n",
    "        elif j.split('/')[1] =='Adjective':\n",
    "            k = okt.morphs(j,  stem= True)\n",
    "            k = k[0]\n",
    "            morphs_list.append(k)\n",
    "        elif j.split('/')[1] =='Verb':\n",
    "            v = okt.morphs(j,  stem= True)\n",
    "            v = v[0]\n",
    "            morphs_list.append(v)\n",
    "\n",
    "    for i in morphs_list:\n",
    "        if len(i) != 1:\n",
    "            one_words.append(i)\n",
    "    \n",
    "\n",
    "    for i in one_words:\n",
    "        if i not in stopwords:\n",
    "            result.append(i)\n",
    "\n",
    "    return result"
   ]
  },
  {
   "cell_type": "code",
   "execution_count": 13,
   "metadata": {},
   "outputs": [],
   "source": [
    "def clean_text(text): \n",
    "    \"\"\" 한글, 영문, 숫자만 남기고 제거한다. \n",
    "    :param text: \n",
    "    :return: \n",
    "    \"\"\" \n",
    "    text = text.replace(\".\", \" \").strip() \n",
    "    text = text.replace(\"·\", \" \").strip() \n",
    "    pattern = '[^ ㄱ-ㅣ가-힣|0-9|a-zA-Z]+' \n",
    "    text = re.sub(pattern=pattern, repl='', string=text) \n",
    "    return text \n",
    "    \n",
    "def get_nouns(tokenizer, sentence): \n",
    "    \"\"\" 단어의 길이가 2이상인 일반명사(NNG),\n",
    "     고유명사(NNP), 외국어(SL)만을 반환한다. \n",
    "     :param tokenizer: \n",
    "     :param sentence: :return: \"\"\" \n",
    "    tagged = tokenizer.nouns(sentence)\n",
    "    nouns = [s for s in tagged if len(s)>1] \n",
    "     \n",
    "    return nouns \n",
    "\n",
    "    \n",
    "def save_processed_data(processed_data): \n",
    "    \"\"\" 토큰 분리한 데이터를 csv로 저장 :param processed_data: :return: \"\"\" \n",
    "    \n",
    "    with open('lsa_token_pos.csv', 'w', newline='', encoding='utf-8') as f: \n",
    "        writer = csv.writer(f) \n",
    "        for data in processed_data:\n",
    "             writer.writerow(data)"
   ]
  },
  {
   "cell_type": "code",
   "execution_count": 14,
   "metadata": {},
   "outputs": [],
   "source": [
    "review_list = data.reviews.tolist()"
   ]
  },
  {
   "cell_type": "code",
   "execution_count": 15,
   "metadata": {},
   "outputs": [],
   "source": [
    "from hanspell import spell_checker"
   ]
  },
  {
   "cell_type": "code",
   "execution_count": 16,
   "metadata": {},
   "outputs": [
    {
     "data": {
      "text/html": [
       "<div>\n",
       "<style scoped>\n",
       "    .dataframe tbody tr th:only-of-type {\n",
       "        vertical-align: middle;\n",
       "    }\n",
       "\n",
       "    .dataframe tbody tr th {\n",
       "        vertical-align: top;\n",
       "    }\n",
       "\n",
       "    .dataframe thead th {\n",
       "        text-align: right;\n",
       "    }\n",
       "</style>\n",
       "<table border=\"1\" class=\"dataframe\">\n",
       "  <thead>\n",
       "    <tr style=\"text-align: right;\">\n",
       "      <th></th>\n",
       "      <th>reviews</th>\n",
       "    </tr>\n",
       "  </thead>\n",
       "  <tbody>\n",
       "    <tr>\n",
       "      <th>0</th>\n",
       "      <td>저랑은 안맞는 거같아요</td>\n",
       "    </tr>\n",
       "    <tr>\n",
       "      <th>1</th>\n",
       "      <td>의사선생님은 어떻게든 이유를 찾아주시려고 하는 거같은데</td>\n",
       "    </tr>\n",
       "    <tr>\n",
       "      <th>2</th>\n",
       "      <td>아무런</td>\n",
       "    </tr>\n",
       "    <tr>\n",
       "      <th>3</th>\n",
       "      <td>효과나 뭐없었어요</td>\n",
       "    </tr>\n",
       "    <tr>\n",
       "      <th>4</th>\n",
       "      <td>두리뭉실한</td>\n",
       "    </tr>\n",
       "    <tr>\n",
       "      <th>...</th>\n",
       "      <td>...</td>\n",
       "    </tr>\n",
       "    <tr>\n",
       "      <th>234572</th>\n",
       "      <td>병원은 소쏘입니다</td>\n",
       "    </tr>\n",
       "    <tr>\n",
       "      <th>234573</th>\n",
       "      <td>불광역6번출 구쪽에 위치한 은평미</td>\n",
       "    </tr>\n",
       "    <tr>\n",
       "      <th>234574</th>\n",
       "      <td>피부과를 방문하였습니다2 5층에 위치하고 있으며</td>\n",
       "    </tr>\n",
       "    <tr>\n",
       "      <th>234575</th>\n",
       "      <td>입간 판이따로 없어서</td>\n",
       "    </tr>\n",
       "    <tr>\n",
       "      <th>234576</th>\n",
       "      <td>병원을 찾기가 힘들었습니다</td>\n",
       "    </tr>\n",
       "  </tbody>\n",
       "</table>\n",
       "<p>226258 rows × 1 columns</p>\n",
       "</div>"
      ],
      "text/plain": [
       "                                reviews\n",
       "0                          저랑은 안맞는 거같아요\n",
       "1        의사선생님은 어떻게든 이유를 찾아주시려고 하는 거같은데\n",
       "2                                   아무런\n",
       "3                             효과나 뭐없었어요\n",
       "4                                 두리뭉실한\n",
       "...                                 ...\n",
       "234572                      병원은 소쏘입니다  \n",
       "234573               불광역6번출 구쪽에 위치한 은평미\n",
       "234574       피부과를 방문하였습니다2 5층에 위치하고 있으며\n",
       "234575                      입간 판이따로 없어서\n",
       "234576                   병원을 찾기가 힘들었습니다\n",
       "\n",
       "[226258 rows x 1 columns]"
      ]
     },
     "execution_count": 16,
     "metadata": {},
     "output_type": "execute_result"
    }
   ],
   "source": [
    "data"
   ]
  },
  {
   "cell_type": "markdown",
   "metadata": {},
   "source": [
    "### TF_IDF"
   ]
  },
  {
   "cell_type": "code",
   "execution_count": 17,
   "metadata": {},
   "outputs": [
    {
     "name": "stdout",
     "output_type": "stream",
     "text": [
      "226258\n",
      "226258\n",
      "183653\n"
     ]
    }
   ],
   "source": [
    "print(len(data))\n",
    "data = data.dropna()\n",
    "print(len(data))\n",
    "data = data.drop_duplicates('reviews')\n",
    "print(len(data))"
   ]
  },
  {
   "cell_type": "code",
   "execution_count": 18,
   "metadata": {},
   "outputs": [
    {
     "name": "stderr",
     "output_type": "stream",
     "text": [
      "100%|██████████| 183653/183653 [00:00<00:00, 492325.25it/s]\n"
     ]
    }
   ],
   "source": [
    "for sent in tqdm(data['reviews']):\n",
    "    try:\n",
    "        sentence = clean_text(sent.replace('\\n', '').strip())\n",
    "        # print(sentence)\n",
    "    except:\n",
    "        # print(sent)\n",
    "        pass"
   ]
  },
  {
   "cell_type": "code",
   "execution_count": 19,
   "metadata": {},
   "outputs": [],
   "source": [
    "def tokenize(df): \n",
    "    tokenizer = okt\n",
    "    processed_data = [] \n",
    "    for sent in tqdm(df['reviews']):\n",
    "        sentence = clean_text(sent.replace('\\n', '').strip()) \n",
    "        processed_data.append(get_nouns(tokenizer, sentence)) \n",
    "        \n",
    "    return processed_data"
   ]
  },
  {
   "cell_type": "code",
   "execution_count": 20,
   "metadata": {},
   "outputs": [
    {
     "name": "stderr",
     "output_type": "stream",
     "text": [
      "100%|██████████| 183653/183653 [12:59<00:00, 235.62it/s]\n"
     ]
    }
   ],
   "source": [
    "## 오래걸리니까 조심\n",
    "\n",
    "if __name__ == '__main__':\n",
    "     # df = pd.read_csv('negative.csv', index_col = 0)\n",
    "     processed_data = tokenize(data) # description 부분을 토크나이징 한다. \n",
    "     \n",
    "     # 토큰 분리한 데이터를 저장 \n",
    "     save_processed_data(processed_data)\n"
   ]
  },
  {
   "cell_type": "code",
   "execution_count": 21,
   "metadata": {},
   "outputs": [
    {
     "data": {
      "text/plain": [
       "0             \n",
       "1    의사 선생님 이유\n",
       "2             \n",
       "3           효과\n",
       "4           두리\n",
       "Name: detokenized_doc, dtype: object"
      ]
     },
     "execution_count": 21,
     "metadata": {},
     "output_type": "execute_result"
    }
   ],
   "source": [
    "detokenized_doc = []\n",
    "for i in range(len(processed_data)):\n",
    "    t = ' '.join(processed_data[i])\n",
    "    detokenized_doc.append(t)\n",
    "\n",
    "data['detokenized_doc'] = detokenized_doc # 다시 text['headline_text']에 재저장\n",
    "\n",
    "data['detokenized_doc'][:5]"
   ]
  },
  {
   "cell_type": "code",
   "execution_count": 22,
   "metadata": {},
   "outputs": [],
   "source": [
    "from nltk.corpus import stopwords  \n",
    "stopwords.words('korean')[:10] \n",
    "\n",
    "stopwords_kor = stopwords.words('korean')"
   ]
  },
  {
   "cell_type": "code",
   "execution_count": 23,
   "metadata": {},
   "outputs": [
    {
     "data": {
      "text/plain": [
       "(183653, 100)"
      ]
     },
     "execution_count": 23,
     "metadata": {},
     "output_type": "execute_result"
    }
   ],
   "source": [
    "from sklearn.feature_extraction.text import TfidfVectorizer\n",
    "vectorizer = TfidfVectorizer(analyzer='word',       \n",
    "                             min_df=10,                        # minimum reqd occurences of a word \n",
    "                             stop_words=stopwords_kor,             # remove stop words\n",
    "                             lowercase=True,                   # convert all words to lowercase\n",
    "                             token_pattern='[가-힣0-9]{1,}',  # num chars > 3\n",
    "                             max_features=100,             # max number of uniq words\n",
    "                            ) \n",
    "data_vectorized = vectorizer.fit_transform(data['detokenized_doc'])\n",
    "data_vectorized.shape # TF-IDF 행렬의 크기 확인"
   ]
  },
  {
   "cell_type": "code",
   "execution_count": 24,
   "metadata": {},
   "outputs": [
    {
     "name": "stdout",
     "output_type": "stream",
     "text": [
      "100\n",
      "(1, 100)\n"
     ]
    }
   ],
   "source": [
    "vocab = vectorizer.get_feature_names()\n",
    "print(len(vocab))\n",
    "dist = np.sum(data_vectorized, axis=0)\n",
    "    \n",
    "df_freq = pd.DataFrame(dist, columns=vocab)\n",
    "print(df_freq.shape)"
   ]
  },
  {
   "cell_type": "code",
   "execution_count": 25,
   "metadata": {},
   "outputs": [
    {
     "data": {
      "text/html": [
       "<div>\n",
       "<style scoped>\n",
       "    .dataframe tbody tr th:only-of-type {\n",
       "        vertical-align: middle;\n",
       "    }\n",
       "\n",
       "    .dataframe tbody tr th {\n",
       "        vertical-align: top;\n",
       "    }\n",
       "\n",
       "    .dataframe thead th {\n",
       "        text-align: right;\n",
       "    }\n",
       "</style>\n",
       "<table border=\"1\" class=\"dataframe\">\n",
       "  <thead>\n",
       "    <tr style=\"text-align: right;\">\n",
       "      <th></th>\n",
       "      <th>words</th>\n",
       "      <th>freq</th>\n",
       "    </tr>\n",
       "  </thead>\n",
       "  <tbody>\n",
       "    <tr>\n",
       "      <th>95</th>\n",
       "      <td>화상</td>\n",
       "      <td>619.708634</td>\n",
       "    </tr>\n",
       "    <tr>\n",
       "      <th>96</th>\n",
       "      <td>확인</td>\n",
       "      <td>533.144443</td>\n",
       "    </tr>\n",
       "    <tr>\n",
       "      <th>97</th>\n",
       "      <td>환자</td>\n",
       "      <td>2289.847218</td>\n",
       "    </tr>\n",
       "    <tr>\n",
       "      <th>98</th>\n",
       "      <td>효과</td>\n",
       "      <td>3590.014215</td>\n",
       "    </tr>\n",
       "    <tr>\n",
       "      <th>99</th>\n",
       "      <td>흉터</td>\n",
       "      <td>708.694858</td>\n",
       "    </tr>\n",
       "  </tbody>\n",
       "</table>\n",
       "</div>"
      ],
      "text/plain": [
       "   words         freq\n",
       "95    화상   619.708634\n",
       "96    확인   533.144443\n",
       "97    환자  2289.847218\n",
       "98    효과  3590.014215\n",
       "99    흉터   708.694858"
      ]
     },
     "execution_count": 25,
     "metadata": {},
     "output_type": "execute_result"
    }
   ],
   "source": [
    "df_freq.T.sort_values(by=0, ascending=False).head(100)\n",
    "df_freq_T = df_freq.T.reset_index()\n",
    "df_freq_T.columns = [\"words\", \"freq\"]\n",
    "df_freq_T.tail()"
   ]
  },
  {
   "cell_type": "code",
   "execution_count": 26,
   "metadata": {},
   "outputs": [
    {
     "name": "stdout",
     "output_type": "stream",
     "text": [
      "(100, 2)\n",
      "(100, 2)\n"
     ]
    }
   ],
   "source": [
    "print(df_freq_T.shape)\n",
    "df_use = df_freq_T.drop_duplicates()\n",
    "print(df_use.shape)"
   ]
  },
  {
   "cell_type": "code",
   "execution_count": 27,
   "metadata": {},
   "outputs": [
    {
     "data": {
      "text/html": [
       "<div>\n",
       "<style scoped>\n",
       "    .dataframe tbody tr th:only-of-type {\n",
       "        vertical-align: middle;\n",
       "    }\n",
       "\n",
       "    .dataframe tbody tr th {\n",
       "        vertical-align: top;\n",
       "    }\n",
       "\n",
       "    .dataframe thead th {\n",
       "        text-align: right;\n",
       "    }\n",
       "</style>\n",
       "<table border=\"1\" class=\"dataframe\">\n",
       "  <thead>\n",
       "    <tr style=\"text-align: right;\">\n",
       "      <th></th>\n",
       "      <th>words</th>\n",
       "      <th>freq</th>\n",
       "    </tr>\n",
       "  </thead>\n",
       "  <tbody>\n",
       "    <tr>\n",
       "      <th>41</th>\n",
       "      <td>설명</td>\n",
       "      <td>6648.391932</td>\n",
       "    </tr>\n",
       "    <tr>\n",
       "      <th>46</th>\n",
       "      <td>시술</td>\n",
       "      <td>5138.830105</td>\n",
       "    </tr>\n",
       "    <tr>\n",
       "      <th>75</th>\n",
       "      <td>직원</td>\n",
       "      <td>5136.886294</td>\n",
       "    </tr>\n",
       "    <tr>\n",
       "      <th>79</th>\n",
       "      <td>처방</td>\n",
       "      <td>5101.869054</td>\n",
       "    </tr>\n",
       "    <tr>\n",
       "      <th>55</th>\n",
       "      <td>여드름</td>\n",
       "      <td>3981.246191</td>\n",
       "    </tr>\n",
       "    <tr>\n",
       "      <th>...</th>\n",
       "      <td>...</td>\n",
       "      <td>...</td>\n",
       "    </tr>\n",
       "    <tr>\n",
       "      <th>26</th>\n",
       "      <td>목적</td>\n",
       "      <td>460.088051</td>\n",
       "    </tr>\n",
       "    <tr>\n",
       "      <th>8</th>\n",
       "      <td>공장</td>\n",
       "      <td>456.578905</td>\n",
       "    </tr>\n",
       "    <tr>\n",
       "      <th>74</th>\n",
       "      <td>지인</td>\n",
       "      <td>444.985210</td>\n",
       "    </tr>\n",
       "    <tr>\n",
       "      <th>22</th>\n",
       "      <td>링크</td>\n",
       "      <td>431.784375</td>\n",
       "    </tr>\n",
       "    <tr>\n",
       "      <th>20</th>\n",
       "      <td>두피</td>\n",
       "      <td>413.409717</td>\n",
       "    </tr>\n",
       "  </tbody>\n",
       "</table>\n",
       "<p>100 rows × 2 columns</p>\n",
       "</div>"
      ],
      "text/plain": [
       "   words         freq\n",
       "41    설명  6648.391932\n",
       "46    시술  5138.830105\n",
       "75    직원  5136.886294\n",
       "79    처방  5101.869054\n",
       "55   여드름  3981.246191\n",
       "..   ...          ...\n",
       "26    목적   460.088051\n",
       "8     공장   456.578905\n",
       "74    지인   444.985210\n",
       "22    링크   431.784375\n",
       "20    두피   413.409717\n",
       "\n",
       "[100 rows x 2 columns]"
      ]
     },
     "execution_count": 27,
     "metadata": {},
     "output_type": "execute_result"
    }
   ],
   "source": [
    "df_use = df_use.sort_values(by=\"freq\", ascending=False)\n",
    "df_use.head(100)"
   ]
  },
  {
   "cell_type": "code",
   "execution_count": 28,
   "metadata": {},
   "outputs": [],
   "source": [
    "df_use.to_excel('[0530]TF_IDF_splited.xlsx')"
   ]
  },
  {
   "cell_type": "markdown",
   "metadata": {},
   "source": [
    "### **LDA**"
   ]
  },
  {
   "cell_type": "code",
   "execution_count": 54,
   "metadata": {},
   "outputs": [],
   "source": [
    "from nltk.corpus import stopwords  \n",
    "stopwords.words('korean')[:10] \n",
    "\n",
    "stopwords_kor = stopwords.words('korean')"
   ]
  },
  {
   "cell_type": "code",
   "execution_count": 55,
   "metadata": {},
   "outputs": [],
   "source": [
    "# from sklearn.feature_extraction.text import TfidfVectorizer\n",
    "# vectorizer = TfidfVectorizer(analyzer='word',       \n",
    "#                              min_df=10,                        # minimum reqd occurences of a word \n",
    "#                              stop_words=stopwords_kor,             # remove stop words\n",
    "#                              lowercase=True,                   # convert all words to lowercase\n",
    "#                              token_pattern='[가-힣0-9]{1,}',  # num chars > 3\n",
    "#                              max_features=1000,             # max number of uniq words\n",
    "#                             ) \n",
    "# data_vectorized = vectorizer.fit_transform(data['detokenized_doc'])\n",
    "# data_vectorized.shape # TF-IDF 행렬의 크기 확인"
   ]
  },
  {
   "cell_type": "code",
   "execution_count": 29,
   "metadata": {},
   "outputs": [
    {
     "name": "stdout",
     "output_type": "stream",
     "text": [
      "Sparsicity:  0.9556500574452907 %\n"
     ]
    }
   ],
   "source": [
    "# Materialize the sparse data\n",
    "data_dense = data_vectorized.todense()\n",
    "\n",
    "# Compute Sparsicity = Percentage of Non-Zero cells\n",
    "print(\"Sparsicity: \", ((data_dense > 0).sum()/data_dense.size)*100, \"%\")"
   ]
  },
  {
   "cell_type": "code",
   "execution_count": 30,
   "metadata": {},
   "outputs": [
    {
     "name": "stdout",
     "output_type": "stream",
     "text": [
      "[[2.00920331e-01 2.00566384e-01 2.00892014e-01 2.00808081e-01\n",
      "  2.00254615e-01 2.00831383e-01 2.00636226e-01 2.00897730e-01\n",
      "  4.49633016e+02 2.00853273e-01 2.00933301e-01 2.00763644e-01\n",
      "  2.00349252e-01 2.00519528e-01 2.00601157e-01 2.00370059e-01\n",
      "  2.20824839e+03 2.00565540e-01 1.16944092e+03 2.00539436e-01\n",
      "  2.00831434e-01 2.02290859e-01 2.00601451e-01 2.00806272e-01\n",
      "  2.00794089e-01 2.00810321e-01 2.02458192e-01 2.00618855e-01\n",
      "  8.47208596e+02 2.01277150e-01 6.05500265e+02 2.00585601e-01\n",
      "  2.00774876e-01 2.00798756e-01 2.00374435e-01 2.00563483e-01\n",
      "  2.01500200e-01 2.00760955e-01 2.02170946e-01 2.00669742e-01\n",
      "  2.01064122e-01 6.68763684e+03 2.00402593e-01 2.01428651e-01\n",
      "  2.00778881e-01 2.00411113e-01 2.01181587e-01 2.00519141e-01\n",
      "  2.00637653e-01 2.00891701e-01 2.00962198e-01 2.01487252e-01\n",
      "  2.00736506e-01 2.00828614e-01 2.00967733e-01 2.01352181e-01\n",
      "  2.01951772e-01 2.01604870e-01 2.00484391e-01 2.00788977e-01\n",
      "  8.27188382e+02 2.00650323e-01 2.00373785e-01 2.00997523e-01\n",
      "  2.00617191e-01 8.39375497e+02 2.00525213e-01 2.00578035e-01\n",
      "  2.38464589e+03 2.00503663e-01 2.01408924e-01 2.35837621e+03\n",
      "  2.00251321e-01 2.01275832e-01 4.37278260e+02 2.00900606e-01\n",
      "  2.01140204e-01 2.00886839e-01 2.00726666e-01 5.15963333e+03\n",
      "  1.57070889e+03 2.00877832e-01 2.30608760e+03 2.00494569e-01\n",
      "  2.00875776e-01 2.00555596e-01 8.92405381e+02 2.00751830e-01\n",
      "  2.01425149e-01 2.00512609e-01 2.00692280e-01 2.00814860e-01\n",
      "  1.83373213e+03 2.00483453e-01 2.01167337e-01 2.00309471e-01\n",
      "  2.00750379e-01 2.31476008e+03 2.00955912e-01 6.26941100e+02]\n",
      " [2.00977013e-01 2.00833889e-01 2.00592528e-01 2.00778103e-01\n",
      "  2.01107577e-01 2.01323238e-01 2.00498413e-01 2.01252355e-01\n",
      "  2.00879117e-01 1.00134220e+03 2.00842758e-01 1.42174343e+03\n",
      "  2.00608477e-01 7.93127073e+02 4.89286264e+02 1.08525136e+03\n",
      "  2.00855825e-01 2.00584478e-01 2.00574736e-01 2.00573904e-01\n",
      "  4.68030980e+02 2.01493312e-01 4.62989691e+02 7.14433441e+02\n",
      "  2.00574960e-01 2.00721223e-01 2.00789524e-01 2.00538625e-01\n",
      "  2.01087771e-01 4.76545970e+02 2.00631430e-01 2.00868211e-01\n",
      "  5.95866949e+02 2.00864507e-01 7.24781668e+02 9.92620727e+02\n",
      "  1.31775764e+03 2.01050823e-01 2.00637418e-01 2.00603555e-01\n",
      "  2.00807827e-01 2.01067514e-01 2.00361208e-01 2.00472040e-01\n",
      "  2.00504629e-01 2.19583982e+03 2.01109972e-01 2.00472863e-01\n",
      "  2.00621816e-01 2.00557931e-01 2.00720500e-01 2.00509872e-01\n",
      "  2.03936170e-01 2.00618913e-01 9.46573773e+02 3.83506526e+03\n",
      "  2.00655619e-01 2.01394919e-01 2.00557954e-01 4.69704391e+02\n",
      "  2.00844824e-01 6.63205023e+02 2.00867645e-01 5.78588732e+02\n",
      "  7.50533431e+02 2.01519854e-01 7.37199445e+02 2.00393420e-01\n",
      "  2.06879013e-01 6.64539835e+02 5.98857892e+02 2.01506469e-01\n",
      "  8.23692650e+02 2.00594059e-01 2.01141461e-01 2.00545481e-01\n",
      "  2.00995294e-01 9.48343035e+02 2.00434939e-01 2.01554666e-01\n",
      "  2.01481807e-01 2.00592008e-01 2.01399935e-01 2.00812655e-01\n",
      "  2.00469245e-01 2.00435549e-01 2.02911466e-01 6.51872302e+02\n",
      "  8.17367478e+02 2.00468557e-01 2.01055373e-01 9.18095241e+02\n",
      "  2.00834385e-01 2.00609724e-01 2.00573990e-01 2.00344191e-01\n",
      "  2.00677989e-01 2.00726532e-01 2.00674318e-01 2.00990752e-01]\n",
      " [5.40279147e+02 2.00646293e-01 4.71896277e+02 7.81714410e+02\n",
      "  2.00278634e-01 2.01150710e-01 9.07740679e+02 5.81478543e+02\n",
      "  2.00844974e-01 2.00838696e-01 2.00705903e-01 2.01081734e-01\n",
      "  2.00477030e-01 2.00456474e-01 2.00527208e-01 2.00348692e-01\n",
      "  2.00750430e-01 2.00701895e-01 2.00934303e-01 5.40674093e+02\n",
      "  2.00995488e-01 2.01498571e-01 2.00834903e-01 2.00898651e-01\n",
      "  5.79960873e+02 2.00918788e-01 4.66924242e+02 9.84268177e+02\n",
      "  2.03766462e-01 2.00929472e-01 2.01395734e-01 2.00827378e-01\n",
      "  2.00904634e-01 7.65880238e+02 2.00341425e-01 2.00852324e-01\n",
      "  2.00430415e-01 2.01179047e-01 2.01121401e-01 5.33186647e+02\n",
      "  2.00945552e-01 2.01562341e-01 2.00330973e-01 4.59577928e+02\n",
      "  2.01140354e-01 2.00422443e-01 5.27466505e+03 2.00546376e-01\n",
      "  8.41681886e+02 7.75393689e+02 1.87809714e+03 5.31168674e+02\n",
      "  2.00868197e-01 2.00919082e-01 2.01409790e-01 2.01512890e-01\n",
      "  1.09360520e+03 2.63257424e+03 2.00516806e-01 2.00977256e-01\n",
      "  2.01705403e-01 2.00861069e-01 2.00462691e-01 2.00824184e-01\n",
      "  2.00641205e-01 2.01001522e-01 2.00632322e-01 2.00534819e-01\n",
      "  2.01261182e-01 2.00444923e-01 2.00978491e-01 2.04175183e-01\n",
      "  2.00273271e-01 1.57103707e+03 2.00805735e-01 2.00572463e-01\n",
      "  2.01198032e-01 2.01741132e-01 2.00518196e-01 2.03774749e-01\n",
      "  2.01675401e-01 2.00914932e-01 2.01314324e-01 2.00454763e-01\n",
      "  5.81659626e+02 3.79371040e+02 2.01174669e-01 2.01043479e-01\n",
      "  2.00327378e-01 2.00463768e-01 2.00574447e-01 2.01139239e-01\n",
      "  2.01480227e-01 2.00850130e-01 2.01765677e-01 4.08386895e+02\n",
      "  2.01168147e-01 2.00784477e-01 2.01060435e-01 2.01406974e-01]\n",
      " [2.00804181e-01 3.15666537e+03 2.00480471e-01 2.00639906e-01\n",
      "  1.06918026e+03 4.86935071e+02 2.00586509e-01 2.01186437e-01\n",
      "  2.01499921e-01 2.00613209e-01 2.06636021e+03 2.00730234e-01\n",
      "  9.98295546e+02 2.00535911e-01 2.00647510e-01 2.00599050e-01\n",
      "  2.01105192e-01 2.00766074e-01 2.01292654e-01 2.00376069e-01\n",
      "  2.00502467e-01 3.09643396e+03 2.02057146e-01 2.00826312e-01\n",
      "  2.00739787e-01 2.00725221e-01 2.00770960e-01 2.00756759e-01\n",
      "  2.00978017e-01 2.00792255e-01 2.01789917e-01 2.63665105e+03\n",
      "  2.01239026e-01 2.00902526e-01 2.00420444e-01 2.01126559e-01\n",
      "  2.00660777e-01 3.05476788e+03 5.19149103e+02 2.00440296e-01\n",
      "  2.00820740e-01 2.01768889e-01 6.46941049e+02 2.00271249e-01\n",
      "  7.25445349e+02 2.00546922e-01 2.02305708e-01 7.64861291e+02\n",
      "  2.00395379e-01 2.01095323e-01 2.00401793e-01 2.00435722e-01\n",
      "  2.00523444e-01 6.11458606e+02 2.01083549e-01 2.01450798e-01\n",
      "  2.00589251e-01 2.00650516e-01 2.00936319e-01 2.00995766e-01\n",
      "  2.00602119e-01 2.01117558e-01 2.00776492e-01 2.01137651e-01\n",
      "  2.02686736e-01 2.00999385e-01 2.00713808e-01 8.39205892e+02\n",
      "  2.01551559e-01 2.00792684e-01 2.00738229e-01 2.01296091e-01\n",
      "  2.00635235e-01 2.00572698e-01 2.00775276e-01 2.00814872e-01\n",
      "  2.00571711e-01 2.02113976e-01 7.24990214e+02 2.00978349e-01\n",
      "  2.01960297e-01 6.67851494e+02 2.01351666e-01 2.00649616e-01\n",
      "  2.00658612e-01 2.00307374e-01 2.11312625e-01 2.00619178e-01\n",
      "  2.00358759e-01 6.61303348e+02 9.60727252e+02 2.00378091e-01\n",
      "  2.00528532e-01 2.01654190e-01 2.00383091e-01 2.00304126e-01\n",
      "  2.00662016e-01 2.00872007e-01 2.01017756e-01 2.01322460e-01]\n",
      " [2.00725068e-01 2.00504733e-01 2.00671690e-01 2.00478216e-01\n",
      "  2.00394585e-01 2.00564365e-01 2.00600339e-01 2.00582246e-01\n",
      "  2.00539527e-01 2.00446714e-01 2.00580353e-01 2.00721816e-01\n",
      "  2.00363086e-01 2.00519086e-01 2.00502213e-01 2.00330478e-01\n",
      "  2.00753203e-01 3.98897491e+03 2.02971914e-01 2.00287753e-01\n",
      "  2.00622150e-01 2.00838696e-01 2.00866312e-01 2.00572831e-01\n",
      "  2.00467115e-01 1.07736498e+03 2.00316016e-01 2.00549507e-01\n",
      "  2.00410541e-01 2.00784791e-01 2.00726544e-01 2.01245499e-01\n",
      "  2.01407402e-01 2.00523338e-01 2.00432365e-01 2.00418609e-01\n",
      "  2.00370761e-01 2.00717680e-01 2.00633001e-01 2.00402007e-01\n",
      "  9.99440035e+02 2.00989808e-01 2.00540869e-01 2.00458797e-01\n",
      "  2.00451493e-01 2.00457751e-01 2.01028682e-01 2.00495028e-01\n",
      "  2.00363807e-01 2.00911435e-01 2.00463655e-01 2.00750105e-01\n",
      "  7.82664538e+02 2.00464584e-01 2.00735515e-01 2.01731424e-01\n",
      "  2.00890414e-01 2.00598558e-01 2.89774465e+03 2.00564959e-01\n",
      "  2.00644860e-01 2.00656612e-01 9.97222334e+02 2.00648467e-01\n",
      "  2.00661614e-01 2.00627337e-01 2.00430253e-01 2.01059918e-01\n",
      "  2.00708334e-01 2.00404813e-01 2.00426151e-01 2.01091074e-01\n",
      "  2.00357428e-01 2.00899938e-01 2.00568907e-01 5.05301547e+03\n",
      "  7.75302072e+02 2.00968920e-01 2.00423511e-01 2.01771314e-01\n",
      "  2.01016475e-01 2.00427184e-01 2.00992305e-01 7.71467056e+02\n",
      "  2.00432659e-01 2.00479070e-01 2.01349387e-01 2.00482794e-01\n",
      "  2.00290961e-01 2.01159627e-01 2.00487724e-01 2.00681437e-01\n",
      "  2.00531504e-01 6.64631290e+02 5.11467641e+02 2.00212437e-01\n",
      "  5.37260583e+02 2.01035747e-01 3.60678803e+03 2.00588024e-01]]\n",
      "(5, 100)\n"
     ]
    }
   ],
   "source": [
    "from sklearn.decomposition import LatentDirichletAllocation\n",
    "lda_model=LatentDirichletAllocation(n_components=5,               # Number of topics\n",
    "                                      max_iter=20,               # Max learning iterations\n",
    "                                      learning_method='online',   \n",
    "                                      random_state=1337,          # Random state\n",
    "                                      batch_size=128,            # n docs in each learning iter\n",
    "                                      evaluate_every = -1,       # compute perplexity every n iters, default: Don't\n",
    "                                      n_jobs = -1,               # Use all available CPUs\n",
    "                                     )\n",
    "lda_top=lda_model.fit_transform(data_vectorized)\n",
    "\n",
    "print(lda_model.components_)\n",
    "print(lda_model.components_.shape) "
   ]
  },
  {
   "cell_type": "code",
   "execution_count": 71,
   "metadata": {},
   "outputs": [
    {
     "data": {
      "text/html": [
       "<style type=\"text/css\">\n",
       "#T_4edd2_row0_col0, #T_4edd2_row0_col1, #T_4edd2_row0_col2, #T_4edd2_row0_col4, #T_4edd2_row1_col0, #T_4edd2_row1_col3, #T_4edd2_row1_col4, #T_4edd2_row2_col0, #T_4edd2_row2_col1, #T_4edd2_row2_col2, #T_4edd2_row2_col4, #T_4edd2_row3_col0, #T_4edd2_row3_col2, #T_4edd2_row3_col3, #T_4edd2_row3_col4, #T_4edd2_row4_col2, #T_4edd2_row4_col3, #T_4edd2_row4_col5, #T_4edd2_row5_col0, #T_4edd2_row5_col2, #T_4edd2_row6_col0, #T_4edd2_row6_col1, #T_4edd2_row6_col2, #T_4edd2_row6_col4, #T_4edd2_row7_col1, #T_4edd2_row7_col2, #T_4edd2_row7_col3, #T_4edd2_row7_col4, #T_4edd2_row7_col5, #T_4edd2_row8_col1, #T_4edd2_row8_col2, #T_4edd2_row8_col3, #T_4edd2_row9_col1, #T_4edd2_row9_col2, #T_4edd2_row9_col4, #T_4edd2_row9_col5, #T_4edd2_row10_col1, #T_4edd2_row10_col2, #T_4edd2_row10_col4, #T_4edd2_row10_col5, #T_4edd2_row11_col1, #T_4edd2_row11_col2, #T_4edd2_row11_col3, #T_4edd2_row11_col5, #T_4edd2_row12_col2, #T_4edd2_row12_col3, #T_4edd2_row12_col4, #T_4edd2_row12_col5, #T_4edd2_row13_col2, #T_4edd2_row13_col4, #T_4edd2_row14_col1, #T_4edd2_row14_col2, #T_4edd2_row14_col4, #T_4edd2_row14_col5 {\n",
       "  color: black;\n",
       "  font-weight: 400;\n",
       "}\n",
       "#T_4edd2_row0_col3, #T_4edd2_row0_col5, #T_4edd2_row1_col1, #T_4edd2_row1_col2, #T_4edd2_row1_col5, #T_4edd2_row2_col3, #T_4edd2_row2_col5, #T_4edd2_row3_col1, #T_4edd2_row3_col5, #T_4edd2_row4_col0, #T_4edd2_row4_col1, #T_4edd2_row4_col4, #T_4edd2_row5_col1, #T_4edd2_row5_col3, #T_4edd2_row5_col4, #T_4edd2_row5_col5, #T_4edd2_row6_col3, #T_4edd2_row6_col5, #T_4edd2_row7_col0, #T_4edd2_row8_col0, #T_4edd2_row8_col4, #T_4edd2_row8_col5, #T_4edd2_row9_col0, #T_4edd2_row9_col3, #T_4edd2_row10_col0, #T_4edd2_row10_col3, #T_4edd2_row11_col0, #T_4edd2_row11_col4, #T_4edd2_row12_col0, #T_4edd2_row12_col1, #T_4edd2_row13_col0, #T_4edd2_row13_col1, #T_4edd2_row13_col3, #T_4edd2_row13_col5, #T_4edd2_row14_col0, #T_4edd2_row14_col3 {\n",
       "  color: green;\n",
       "  font-weight: 700;\n",
       "}\n",
       "</style>\n",
       "<table id=\"T_4edd2_\">\n",
       "  <thead>\n",
       "    <tr>\n",
       "      <th class=\"blank level0\" >&nbsp;</th>\n",
       "      <th class=\"col_heading level0 col0\" >Topic0</th>\n",
       "      <th class=\"col_heading level0 col1\" >Topic1</th>\n",
       "      <th class=\"col_heading level0 col2\" >Topic2</th>\n",
       "      <th class=\"col_heading level0 col3\" >Topic3</th>\n",
       "      <th class=\"col_heading level0 col4\" >Topic4</th>\n",
       "      <th class=\"col_heading level0 col5\" >dominant_topic</th>\n",
       "    </tr>\n",
       "  </thead>\n",
       "  <tbody>\n",
       "    <tr>\n",
       "      <th id=\"T_4edd2_level0_row0\" class=\"row_heading level0 row0\" >Doc0</th>\n",
       "      <td id=\"T_4edd2_row0_col0\" class=\"data row0 col0\" >0.100000</td>\n",
       "      <td id=\"T_4edd2_row0_col1\" class=\"data row0 col1\" >0.100000</td>\n",
       "      <td id=\"T_4edd2_row0_col2\" class=\"data row0 col2\" >0.100000</td>\n",
       "      <td id=\"T_4edd2_row0_col3\" class=\"data row0 col3\" >0.590000</td>\n",
       "      <td id=\"T_4edd2_row0_col4\" class=\"data row0 col4\" >0.100000</td>\n",
       "      <td id=\"T_4edd2_row0_col5\" class=\"data row0 col5\" >3</td>\n",
       "    </tr>\n",
       "    <tr>\n",
       "      <th id=\"T_4edd2_level0_row1\" class=\"row_heading level0 row1\" >Doc1</th>\n",
       "      <td id=\"T_4edd2_row1_col0\" class=\"data row1 col0\" >0.070000</td>\n",
       "      <td id=\"T_4edd2_row1_col1\" class=\"data row1 col1\" >0.330000</td>\n",
       "      <td id=\"T_4edd2_row1_col2\" class=\"data row1 col2\" >0.460000</td>\n",
       "      <td id=\"T_4edd2_row1_col3\" class=\"data row1 col3\" >0.070000</td>\n",
       "      <td id=\"T_4edd2_row1_col4\" class=\"data row1 col4\" >0.070000</td>\n",
       "      <td id=\"T_4edd2_row1_col5\" class=\"data row1 col5\" >2</td>\n",
       "    </tr>\n",
       "    <tr>\n",
       "      <th id=\"T_4edd2_level0_row2\" class=\"row_heading level0 row2\" >Doc2</th>\n",
       "      <td id=\"T_4edd2_row2_col0\" class=\"data row2 col0\" >0.070000</td>\n",
       "      <td id=\"T_4edd2_row2_col1\" class=\"data row2 col1\" >0.070000</td>\n",
       "      <td id=\"T_4edd2_row2_col2\" class=\"data row2 col2\" >0.070000</td>\n",
       "      <td id=\"T_4edd2_row2_col3\" class=\"data row2 col3\" >0.720000</td>\n",
       "      <td id=\"T_4edd2_row2_col4\" class=\"data row2 col4\" >0.070000</td>\n",
       "      <td id=\"T_4edd2_row2_col5\" class=\"data row2 col5\" >3</td>\n",
       "    </tr>\n",
       "    <tr>\n",
       "      <th id=\"T_4edd2_level0_row3\" class=\"row_heading level0 row3\" >Doc3</th>\n",
       "      <td id=\"T_4edd2_row3_col0\" class=\"data row3 col0\" >0.100000</td>\n",
       "      <td id=\"T_4edd2_row3_col1\" class=\"data row3 col1\" >0.600000</td>\n",
       "      <td id=\"T_4edd2_row3_col2\" class=\"data row3 col2\" >0.100000</td>\n",
       "      <td id=\"T_4edd2_row3_col3\" class=\"data row3 col3\" >0.100000</td>\n",
       "      <td id=\"T_4edd2_row3_col4\" class=\"data row3 col4\" >0.100000</td>\n",
       "      <td id=\"T_4edd2_row3_col5\" class=\"data row3 col5\" >1</td>\n",
       "    </tr>\n",
       "    <tr>\n",
       "      <th id=\"T_4edd2_level0_row4\" class=\"row_heading level0 row4\" >Doc4</th>\n",
       "      <td id=\"T_4edd2_row4_col0\" class=\"data row4 col0\" >0.510000</td>\n",
       "      <td id=\"T_4edd2_row4_col1\" class=\"data row4 col1\" >0.260000</td>\n",
       "      <td id=\"T_4edd2_row4_col2\" class=\"data row4 col2\" >0.060000</td>\n",
       "      <td id=\"T_4edd2_row4_col3\" class=\"data row4 col3\" >0.060000</td>\n",
       "      <td id=\"T_4edd2_row4_col4\" class=\"data row4 col4\" >0.120000</td>\n",
       "      <td id=\"T_4edd2_row4_col5\" class=\"data row4 col5\" >0</td>\n",
       "    </tr>\n",
       "    <tr>\n",
       "      <th id=\"T_4edd2_level0_row5\" class=\"row_heading level0 row5\" >Doc5</th>\n",
       "      <td id=\"T_4edd2_row5_col0\" class=\"data row5 col0\" >0.050000</td>\n",
       "      <td id=\"T_4edd2_row5_col1\" class=\"data row5 col1\" >0.170000</td>\n",
       "      <td id=\"T_4edd2_row5_col2\" class=\"data row5 col2\" >0.050000</td>\n",
       "      <td id=\"T_4edd2_row5_col3\" class=\"data row5 col3\" >0.580000</td>\n",
       "      <td id=\"T_4edd2_row5_col4\" class=\"data row5 col4\" >0.140000</td>\n",
       "      <td id=\"T_4edd2_row5_col5\" class=\"data row5 col5\" >3</td>\n",
       "    </tr>\n",
       "    <tr>\n",
       "      <th id=\"T_4edd2_level0_row6\" class=\"row_heading level0 row6\" >Doc6</th>\n",
       "      <td id=\"T_4edd2_row6_col0\" class=\"data row6 col0\" >0.080000</td>\n",
       "      <td id=\"T_4edd2_row6_col1\" class=\"data row6 col1\" >0.080000</td>\n",
       "      <td id=\"T_4edd2_row6_col2\" class=\"data row6 col2\" >0.080000</td>\n",
       "      <td id=\"T_4edd2_row6_col3\" class=\"data row6 col3\" >0.690000</td>\n",
       "      <td id=\"T_4edd2_row6_col4\" class=\"data row6 col4\" >0.080000</td>\n",
       "      <td id=\"T_4edd2_row6_col5\" class=\"data row6 col5\" >3</td>\n",
       "    </tr>\n",
       "    <tr>\n",
       "      <th id=\"T_4edd2_level0_row7\" class=\"row_heading level0 row7\" >Doc7</th>\n",
       "      <td id=\"T_4edd2_row7_col0\" class=\"data row7 col0\" >0.690000</td>\n",
       "      <td id=\"T_4edd2_row7_col1\" class=\"data row7 col1\" >0.080000</td>\n",
       "      <td id=\"T_4edd2_row7_col2\" class=\"data row7 col2\" >0.080000</td>\n",
       "      <td id=\"T_4edd2_row7_col3\" class=\"data row7 col3\" >0.080000</td>\n",
       "      <td id=\"T_4edd2_row7_col4\" class=\"data row7 col4\" >0.080000</td>\n",
       "      <td id=\"T_4edd2_row7_col5\" class=\"data row7 col5\" >0</td>\n",
       "    </tr>\n",
       "    <tr>\n",
       "      <th id=\"T_4edd2_level0_row8\" class=\"row_heading level0 row8\" >Doc8</th>\n",
       "      <td id=\"T_4edd2_row8_col0\" class=\"data row8 col0\" >0.290000</td>\n",
       "      <td id=\"T_4edd2_row8_col1\" class=\"data row8 col1\" >0.070000</td>\n",
       "      <td id=\"T_4edd2_row8_col2\" class=\"data row8 col2\" >0.070000</td>\n",
       "      <td id=\"T_4edd2_row8_col3\" class=\"data row8 col3\" >0.070000</td>\n",
       "      <td id=\"T_4edd2_row8_col4\" class=\"data row8 col4\" >0.500000</td>\n",
       "      <td id=\"T_4edd2_row8_col5\" class=\"data row8 col5\" >4</td>\n",
       "    </tr>\n",
       "    <tr>\n",
       "      <th id=\"T_4edd2_level0_row9\" class=\"row_heading level0 row9\" >Doc9</th>\n",
       "      <td id=\"T_4edd2_row9_col0\" class=\"data row9 col0\" >0.430000</td>\n",
       "      <td id=\"T_4edd2_row9_col1\" class=\"data row9 col1\" >0.070000</td>\n",
       "      <td id=\"T_4edd2_row9_col2\" class=\"data row9 col2\" >0.060000</td>\n",
       "      <td id=\"T_4edd2_row9_col3\" class=\"data row9 col3\" >0.380000</td>\n",
       "      <td id=\"T_4edd2_row9_col4\" class=\"data row9 col4\" >0.060000</td>\n",
       "      <td id=\"T_4edd2_row9_col5\" class=\"data row9 col5\" >0</td>\n",
       "    </tr>\n",
       "    <tr>\n",
       "      <th id=\"T_4edd2_level0_row10\" class=\"row_heading level0 row10\" >Doc10</th>\n",
       "      <td id=\"T_4edd2_row10_col0\" class=\"data row10 col0\" >0.570000</td>\n",
       "      <td id=\"T_4edd2_row10_col1\" class=\"data row10 col1\" >0.080000</td>\n",
       "      <td id=\"T_4edd2_row10_col2\" class=\"data row10 col2\" >0.080000</td>\n",
       "      <td id=\"T_4edd2_row10_col3\" class=\"data row10 col3\" >0.190000</td>\n",
       "      <td id=\"T_4edd2_row10_col4\" class=\"data row10 col4\" >0.080000</td>\n",
       "      <td id=\"T_4edd2_row10_col5\" class=\"data row10 col5\" >0</td>\n",
       "    </tr>\n",
       "    <tr>\n",
       "      <th id=\"T_4edd2_level0_row11\" class=\"row_heading level0 row11\" >Doc11</th>\n",
       "      <td id=\"T_4edd2_row11_col0\" class=\"data row11 col0\" >0.590000</td>\n",
       "      <td id=\"T_4edd2_row11_col1\" class=\"data row11 col1\" >0.080000</td>\n",
       "      <td id=\"T_4edd2_row11_col2\" class=\"data row11 col2\" >0.080000</td>\n",
       "      <td id=\"T_4edd2_row11_col3\" class=\"data row11 col3\" >0.080000</td>\n",
       "      <td id=\"T_4edd2_row11_col4\" class=\"data row11 col4\" >0.190000</td>\n",
       "      <td id=\"T_4edd2_row11_col5\" class=\"data row11 col5\" >0</td>\n",
       "    </tr>\n",
       "    <tr>\n",
       "      <th id=\"T_4edd2_level0_row12\" class=\"row_heading level0 row12\" >Doc12</th>\n",
       "      <td id=\"T_4edd2_row12_col0\" class=\"data row12 col0\" >0.410000</td>\n",
       "      <td id=\"T_4edd2_row12_col1\" class=\"data row12 col1\" >0.400000</td>\n",
       "      <td id=\"T_4edd2_row12_col2\" class=\"data row12 col2\" >0.060000</td>\n",
       "      <td id=\"T_4edd2_row12_col3\" class=\"data row12 col3\" >0.070000</td>\n",
       "      <td id=\"T_4edd2_row12_col4\" class=\"data row12 col4\" >0.060000</td>\n",
       "      <td id=\"T_4edd2_row12_col5\" class=\"data row12 col5\" >0</td>\n",
       "    </tr>\n",
       "    <tr>\n",
       "      <th id=\"T_4edd2_level0_row13\" class=\"row_heading level0 row13\" >Doc13</th>\n",
       "      <td id=\"T_4edd2_row13_col0\" class=\"data row13 col0\" >0.320000</td>\n",
       "      <td id=\"T_4edd2_row13_col1\" class=\"data row13 col1\" >0.340000</td>\n",
       "      <td id=\"T_4edd2_row13_col2\" class=\"data row13 col2\" >0.060000</td>\n",
       "      <td id=\"T_4edd2_row13_col3\" class=\"data row13 col3\" >0.220000</td>\n",
       "      <td id=\"T_4edd2_row13_col4\" class=\"data row13 col4\" >0.060000</td>\n",
       "      <td id=\"T_4edd2_row13_col5\" class=\"data row13 col5\" >1</td>\n",
       "    </tr>\n",
       "    <tr>\n",
       "      <th id=\"T_4edd2_level0_row14\" class=\"row_heading level0 row14\" >Doc14</th>\n",
       "      <td id=\"T_4edd2_row14_col0\" class=\"data row14 col0\" >0.480000</td>\n",
       "      <td id=\"T_4edd2_row14_col1\" class=\"data row14 col1\" >0.060000</td>\n",
       "      <td id=\"T_4edd2_row14_col2\" class=\"data row14 col2\" >0.050000</td>\n",
       "      <td id=\"T_4edd2_row14_col3\" class=\"data row14 col3\" >0.350000</td>\n",
       "      <td id=\"T_4edd2_row14_col4\" class=\"data row14 col4\" >0.060000</td>\n",
       "      <td id=\"T_4edd2_row14_col5\" class=\"data row14 col5\" >0</td>\n",
       "    </tr>\n",
       "  </tbody>\n",
       "</table>\n"
      ],
      "text/plain": [
       "<pandas.io.formats.style.Styler at 0x28d19185d00>"
      ]
     },
     "execution_count": 71,
     "metadata": {},
     "output_type": "execute_result"
    }
   ],
   "source": [
    "# Create Document - Topic Matrix\n",
    "lda_output = lda_model.transform(data_vectorized)\n",
    "\n",
    "# column names\n",
    "topicnames = [\"Topic\" + str(i) for i in range(lda_model.n_components)]\n",
    "\n",
    "# index names\n",
    "docnames = [\"Doc\" + str(i) for i in range(len(data['reviews'].tolist()))]\n",
    "\n",
    "# Make the pandas dataframe\n",
    "df_document_topic = pd.DataFrame(np.round(lda_output, 2), columns=topicnames, index=docnames)\n",
    "\n",
    "# Get dominant topic for each document\n",
    "dominant_topic = np.argmax(df_document_topic.values, axis=1)\n",
    "df_document_topic['dominant_topic'] = dominant_topic\n",
    "\n",
    "# Styling\n",
    "def color_green(val):\n",
    "    color = 'green' if val > .1 else 'black'\n",
    "    return 'color: {col}'.format(col=color)\n",
    "\n",
    "def make_bold(val):\n",
    "    weight = 700 if val > .1 else 400\n",
    "    return 'font-weight: {weight}'.format(weight=weight)\n",
    "\n",
    "# Apply Style\n",
    "df_document_topics = df_document_topic.head(15).style.applymap(color_green).applymap(make_bold)\n",
    "df_document_topics"
   ]
  },
  {
   "cell_type": "code",
   "execution_count": 72,
   "metadata": {},
   "outputs": [
    {
     "name": "stdout",
     "output_type": "stream",
     "text": [
      "Topic 1: [('건물', 492.98), ('동네', 432.0), ('습진', 427.53), ('주차', 394.11), ('걱정', 357.55), ('흉터', 335.19), ('가게', 332.89), ('설명', 328.8), ('처치', 324.37), ('이용', 317.13)]\n",
      "Topic 2: [('설명', 632.11), ('직원', 602.28), ('시설', 553.91), ('대기', 492.93), ('아토피', 474.89), ('원장님', 439.65), ('접수', 432.22), ('환자', 416.19), ('질문', 375.11), ('친절', 370.21)]\n",
      "Topic 3: [('처방', 1407.57), ('알레르기', 968.47), ('피부질환', 913.54), ('연고', 825.63), ('증상', 814.1), ('약물', 541.36), ('피부염', 524.0), ('설명', 489.99), ('원인', 480.05), ('약도', 357.89)]\n",
      "Topic 4: [('시술', 1662.91), ('제거', 1201.05), ('보톡스', 1110.98), ('레이저', 1101.98), ('상담', 1033.5), ('가격', 791.86), ('사마귀', 774.89), ('효과', 669.61), ('제모', 547.72), ('예약', 544.28)]\n",
      "Topic 5: [('여드름', 1687.81), ('주사', 1530.97), ('염증', 1302.67), ('압출', 663.39), ('무좀', 520.41), ('관리', 517.73), ('피부관리', 458.18), ('진단', 425.0), ('트러블', 378.04), ('설명', 360.68)]\n"
     ]
    }
   ],
   "source": [
    "terms = vectorizer.get_feature_names() # 단어 집합. 1,000개의 단어가 저장됨.\n",
    "\n",
    "def get_topics(components, feature_names, n=10):\n",
    "    for idx, topic in enumerate(components):\n",
    "        print(\"Topic %d:\" % (idx+1), [(feature_names[i], topic[i].round(2)) for i in topic.argsort()[:-n - 1:-1]])\n",
    "get_topics(lda_model.components_,terms)"
   ]
  },
  {
   "cell_type": "code",
   "execution_count": 73,
   "metadata": {},
   "outputs": [
    {
     "name": "stderr",
     "output_type": "stream",
     "text": [
      "c:\\Users\\yukir\\anaconda3\\envs\\NLP\\lib\\site-packages\\pyLDAvis\\_prepare.py:228: FutureWarning: In a future version of pandas all arguments of DataFrame.drop except for the argument 'labels' will be keyword-only\n",
      "  default_term_info  = pd.DataFrame({'saliency': saliency, 'Term': vocab, \\\n",
      "c:\\Users\\yukir\\anaconda3\\envs\\NLP\\lib\\site-packages\\sklearn\\manifold\\_t_sne.py:691: FutureWarning: 'square_distances' has been introduced in 0.24 to help phase out legacy squaring behavior. The 'legacy' setting will be removed in 1.1 (renaming of 0.26), and the default setting will be changed to True. In 1.3, 'square_distances' will be removed altogether, and distances will be squared by default. Set 'square_distances'=True to silence this warning.\n",
      "  warnings.warn(\n"
     ]
    },
    {
     "data": {
      "text/html": [
       "\n",
       "<link rel=\"stylesheet\" type=\"text/css\" href=\"https://cdn.rawgit.com/bmabey/pyLDAvis/files/ldavis.v1.0.0.css\">\n",
       "\n",
       "\n",
       "<div id=\"ldavis_el756028048113041765857873539\"></div>\n",
       "<script type=\"text/javascript\">\n",
       "\n",
       "var ldavis_el756028048113041765857873539_data = {\"mdsDat\": {\"x\": [150.22215270996094, 51.16336441040039, -73.1445541381836, -66.4101333618164, 54.41732406616211], \"y\": [-72.2695541381836, -159.968017578125, 21.523815155029297, -110.60643768310547, 12.44344425201416], \"topics\": [1, 2, 3, 4, 5], \"cluster\": [1, 1, 1, 1, 1], \"Freq\": [26.07761315132714, 21.607652051109525, 18.27739322499754, 17.186782213747158, 16.850559358818636]}, \"tinfo\": {\"Term\": [\"\\uc5ec\\ub4dc\\ub984\", \"\\uc8fc\\uc0ac\", \"\\uc5fc\\uc99d\", \"\\uc54c\\ub808\\ub974\\uae30\", \"\\uc2dc\\uc220\", \"\\ud53c\\ubd80\\uc9c8\\ud658\", \"\\ucc98\\ubc29\", \"\\uc5f0\\uace0\", \"\\uc81c\\uac70\", \"\\uc99d\\uc0c1\", \"\\ubcf4\\ud1a1\\uc2a4\", \"\\ub808\\uc774\\uc800\", \"\\uc555\\ucd9c\", \"\\uac74\\ubb3c\", \"\\uc57d\\ubb3c\", \"\\uc0ac\\ub9c8\\uadc0\", \"\\ud53c\\ubd80\\uc5fc\", \"\\uc544\\ud1a0\\ud53c\", \"\\uc6d0\\uc778\", \"\\ub3d9\\ub124\", \"\\uc2b5\\uc9c4\", \"\\uc2dc\\uc124\", \"\\uc811\\uc218\", \"\\uc0c1\\ub2f4\", \"\\ubb34\\uc880\", \"\\uc8fc\\ucc28\", \"\\uc9c8\\ubb38\", \"\\ud53c\\ubd80\\uad00\\ub9ac\", \"\\uc81c\\ubaa8\", \"\\ud749\\ud130\", \"\\uc81c\\uac70\", \"\\ubcf4\\ud1a1\\uc2a4\", \"\\uc0ac\\ub9c8\\uadc0\", \"\\uc81c\\ubaa8\", \"\\ud2f0\\ub208\", \"\\ud1a0\\ub2dd\", \"\\uc2e4\\uc7a5\", \"\\uc774\\ubca4\\ud2b8\", \"\\ud544\\ub7ec\", \"\\ub9c8\\ucde8\", \"\\ub9c1\\ud06c\", \"\\uc2dc\\uc220\", \"\\ub808\\uc774\\uc800\", \"\\ud06c\\ub9bc\", \"\\uc0c1\\ub2f4\", \"\\ube44\\uc6a9\", \"\\uc9c4\\ud589\", \"\\uac00\\uaca9\", \"\\uacb0\\uacfc\", \"\\ud6a8\\uacfc\", \"\\uc5bc\\uad74\", \"\\uace0\\ubbfc\", \"\\uc608\\uc57d\", \"\\uae08\\uc561\", \"\\ucc98\\uc74c\", \"\\uc804\\uccb4\", \"\\ubd80\\uc704\", \"\\ud3c9\\uc77c\", \"\\uad00\\ub9ac\", \"\\uc6d0\\uc7a5\\ub2d8\", \"\\uc9c1\\uc6d0\", \"\\ub290\\ub08c\", \"\\uc124\\uba85\", \"\\ub300\\uae30\", \"\\ucd94\\ucc9c\", \"\\uc5ec\\ub4dc\\ub984\", \"\\uc5fc\\uc99d\", \"\\uc555\\ucd9c\", \"\\ubb34\\uc880\", \"\\uc9c4\\ub2e8\", \"\\ud2b8\\ub7ec\\ube14\", \"\\ud53c\\ubd80\\uad00\\ub9ac\", \"\\uc0c1\\uc138\", \"\\uae30\\uc5b5\", \"\\ubaa9\\uc801\", \"\\uc8fc\\uc0ac\", \"\\uc548\\ub0b4\", \"\\uc804\\ubb38\\uc758\", \"\\uad00\\ub9ac\", \"\\ubbf8\\uc6a9\", \"\\ubc29\\ubc95\", \"\\uacfc\\uc789\", \"\\uc6d0\\uc7a5\", \"\\uac00\\uaca9\", \"\\uc6d0\\ub798\", \"\\uacb0\\uacfc\", \"\\ud6a8\\uacfc\", \"\\uc5bc\\uad74\", \"\\uc0c1\\ud0dc\", \"\\uae30\\ubd84\", \"\\ubd80\\uc704\", \"\\ucc98\\uc74c\", \"\\uc608\\uc57d\", \"\\uc804\\uccb4\", \"\\ub290\\ub08c\", \"\\uc6d0\\uc7a5\\ub2d8\", \"\\uc124\\uba85\", \"\\uc9c1\\uc6d0\", \"\\ub300\\uae30\", \"\\ucd94\\ucc9c\", \"\\ucc98\\ubc29\", \"\\uc0c1\\ub2f4\", \"\\ub808\\uc774\\uc800\", \"\\uc2dc\\uc220\", \"\\uc54c\\ub808\\ub974\\uae30\", \"\\ud53c\\ubd80\\uc9c8\\ud658\", \"\\uc5f0\\uace0\", \"\\uc57d\\ubb3c\", \"\\uc6d0\\uc778\", \"\\uc57d\\ub3c4\", \"\\ud638\\uc804\", \"\\ud53c\\ubd80\\uc5fc\", \"\\uc2a4\\ud14c\\ub85c\\uc774\\ub4dc\", \"\\uc99d\\uc0c1\", \"\\uac1c\\uc120\", \"\\ud3c9\\uc77c\", \"\\ucc98\\ubc29\", \"\\ubc29\\ubc95\", \"\\uc0c1\\ud0dc\", \"\\ub9d0\\uc500\", \"\\uadfc\\ucc98\", \"\\ubbf8\\uc6a9\", \"\\uc5bc\\uad74\", \"\\uc124\\uba85\", \"\\uacfc\\uc789\", \"\\ud658\\uc790\", \"\\ud6a8\\uacfc\", \"\\ub300\\uae30\", \"\\ubd80\\uc704\", \"\\ub0b4\\ubd80\", \"\\ucd94\\ucc9c\", \"\\ucc98\\uc74c\", \"\\uc6d0\\uc7a5\\ub2d8\", \"\\uac71\\uc815\", \"\\uc9c1\\uc6d0\", \"\\ub290\\ub08c\", \"\\uc544\\ud1a0\\ud53c\", \"\\uc811\\uc218\", \"\\uc9c8\\ubb38\", \"\\uc8fc\\ubcc0\", \"\\uc190\\ub2d8\", \"\\ubcf4\\ud1b5\", \"\\uac80\\uc0c9\", \"\\ud0c8\\ubaa8\", \"\\uce5c\\uc808\", \"\\uc6d0\\ub798\", \"\\ub9c8\\uc74c\", \"\\uc2dc\\uc124\", \"\\uace0\\ubbfc\", \"\\uc704\\uce58\", \"\\ub370\\uc2a4\\ud06c\", \"\\uadfc\\ucc98\", \"\\ud658\\uc790\", \"\\uc6d0\\uc7a5\", \"\\uae08\\uc561\", \"\\uae30\\ubd84\", \"\\uc9c1\\uc6d0\", \"\\ub300\\uae30\", \"\\ub0b4\\ubd80\", \"\\ub290\\ub08c\", \"\\uc608\\uc57d\", \"\\uc6d0\\uc7a5\\ub2d8\", \"\\uc124\\uba85\", \"\\ucd94\\ucc9c\", \"\\uc804\\uccb4\", \"\\ucc98\\uc74c\", \"\\ucc98\\ubc29\", \"\\uac74\\ubb3c\", \"\\ub3d9\\ub124\", \"\\uc2b5\\uc9c4\", \"\\uc8fc\\ucc28\", \"\\uac00\\uac8c\", \"\\ucc98\\uce58\", \"\\uc774\\uc6a9\", \"\\uc758\\uc6d0\", \"\\uc0c1\\ucc98\", \"\\ud655\\uc778\", \"\\uc9c0\\uc778\", \"\\ud654\\uc0c1\", \"\\ud749\\ud130\", \"\\uac71\\uc815\", \"\\uc598\\uae30\", \"\\ubd84\\uc704\\uae30\", \"\\uacfc\\uc789\", \"\\ubd80\\uc704\", \"\\uc804\\ubb38\\uc758\", \"\\uadfc\\ucc98\", \"\\uc548\\ub0b4\", \"\\uc704\\uce58\", \"\\ucd94\\ucc9c\", \"\\ub0b4\\ubd80\", \"\\uc804\\uccb4\", \"\\ub9c8\\uc74c\", \"\\uc2dc\\uc124\", \"\\ube44\\uc6a9\", \"\\uc0c1\\ud0dc\", \"\\ubbf8\\uc6a9\", \"\\uc124\\uba85\", \"\\uc6d0\\uc7a5\\ub2d8\", \"\\uc9c1\\uc6d0\", \"\\ub300\\uae30\", \"\\ub290\\ub08c\", \"\\ucc98\\ubc29\", \"\\ud658\\uc790\"], \"Freq\": [1678.0, 1716.0, 1295.0, 1001.0, 1640.0, 944.0, 2284.0, 854.0, 1068.0, 881.0, 988.0, 1127.0, 660.0, 536.0, 560.0, 689.0, 543.0, 505.0, 496.0, 470.0, 465.0, 980.0, 460.0, 1154.0, 517.0, 429.0, 399.0, 456.0, 487.0, 366.0, 1068.0220577907698, 987.9340617178849, 689.0644538759002, 487.05547957788144, 457.3242362923876, 388.6818800257717, 334.08167627474506, 318.8370625444105, 295.2457238727668, 277.97149331241866, 225.2043096927457, 1478.7358593197678, 979.9248811661564, 247.6121080257487, 919.0299053308825, 312.49661764278034, 335.2452324290191, 704.1578795160905, 240.28537685250805, 595.4491936101166, 205.65737692166815, 129.5778386193542, 483.9992630282005, 158.89502184093448, 254.04501489351094, 123.35699901351812, 123.04493597763063, 93.9138036556739, 235.3216078316646, 389.765088253919, 409.37347441332616, 228.91441197469393, 412.7656332592283, 312.54977268299785, 220.53728970337005, 1677.2168757971813, 1294.4892332755412, 659.2248690933719, 517.1396588516557, 422.3341007498527, 375.66770261623196, 455.2998442127226, 317.92107223827225, 298.9024935367221, 268.651913198588, 1521.360214851365, 292.5941940779349, 297.3375275183483, 514.4812657652946, 263.2755901219424, 88.03528575861853, 135.65434887450238, 88.03021047351764, 237.3433453075417, 72.04185457416672, 90.25701955192586, 279.09701104293777, 94.21861629916057, 107.90974950958562, 84.96223105415785, 74.74566068323765, 133.8614128646686, 221.04368388562114, 64.76469258828158, 163.07690879722418, 255.5802858940317, 358.419708324857, 263.6619722118392, 230.15560774748943, 170.48170790410848, 281.30227211400654, 170.5014715055324, 146.7213376841218, 161.37485230876456, 1000.8815854927603, 944.113837751771, 853.2594013281418, 559.4750919601581, 496.1099364327868, 369.8667266971892, 334.64053214264993, 541.5332018823477, 277.0459493602295, 841.3436784900729, 273.1731074860029, 223.34542114069978, 1454.666988641531, 205.97468555781907, 246.60561660772234, 222.8717110059084, 175.08304617548507, 101.72904256014124, 101.70504162844966, 506.38868077898513, 112.35554231863293, 195.16857638765168, 239.03228857504558, 267.12489710498295, 62.376847177125384, 106.2780686825125, 161.56151669833204, 104.5121740718418, 197.08991766128497, 47.993403309059964, 139.72916952796214, 80.63020397178413, 504.7290408735404, 459.3789006191946, 398.6787856652256, 354.36600101607337, 351.7701814328085, 339.34832436567103, 295.3719308708472, 265.397355164736, 393.4754619555899, 231.52395139693127, 286.78424765285257, 588.7128590799641, 186.86002997344528, 290.7901138464395, 302.4236149035423, 342.76506499026954, 442.3390313595776, 153.51836052034315, 166.74322330654093, 168.57559220343717, 640.1160163882653, 523.8962616160928, 224.735847762862, 299.8308939864151, 365.1513030360106, 467.27658114476776, 671.8303727801663, 230.85967807358156, 73.87298523030034, 143.2730958245492, 355.45374850951094, 536.1359592143323, 469.8258907602463, 464.956485781065, 428.6168163852531, 362.0369994143979, 352.7653696799693, 344.8904394600214, 331.16403107024587, 325.76526826634733, 310.6638387660292, 309.2032628577355, 305.6292319437789, 364.53142125022873, 388.85572159605164, 294.9526237755686, 304.8397392237351, 302.87397189437814, 126.14765181183452, 133.57706347023557, 217.85243253163856, 122.3555770486742, 148.94618247875016, 285.8082109032015, 177.97403782235247, 94.03222523443405, 99.47244475110315, 229.04775007365657, 92.3677419540043, 103.5639758457154, 81.08918146604627, 357.59077741676793, 245.51409523495667, 250.44264232922538, 228.51652674250732, 156.15720058570534, 192.97652517921028, 148.3613539785141], \"Total\": [1678.0, 1716.0, 1295.0, 1001.0, 1640.0, 944.0, 2284.0, 854.0, 1068.0, 881.0, 988.0, 1127.0, 660.0, 536.0, 560.0, 689.0, 543.0, 505.0, 496.0, 470.0, 465.0, 980.0, 460.0, 1154.0, 517.0, 429.0, 399.0, 456.0, 487.0, 366.0, 1068.8638304138453, 988.7733923545848, 689.9034969798607, 487.8933039656056, 458.1626956686463, 389.5223906835588, 334.9235821680474, 319.6759490746516, 296.08332650861865, 278.81000996385484, 226.04130523434458, 1640.7601220582403, 1127.2921610165185, 306.54926480585647, 1154.3746240633836, 405.5022229845442, 443.5325788375195, 996.1405980394957, 398.05315706590255, 1287.6964094720365, 448.3661057920101, 317.07294409618595, 1207.8823993235442, 425.20779859799393, 715.4737383919064, 356.2405244480841, 386.5322094743237, 317.90418284823187, 828.6644966595464, 1555.22596818896, 1703.3232748706182, 928.6096193158228, 2306.995172560005, 1562.2430658940702, 1069.2484032825937, 1678.0436349102233, 1295.3100466933392, 660.0420705756181, 517.9630495967622, 423.1684650864317, 376.49102152822854, 456.31892144354134, 318.75514784280756, 299.7325651446147, 269.47845861400117, 1716.3843155816292, 415.56530223278514, 431.525635559604, 828.6644966595464, 446.4932336828581, 341.05060638964625, 551.282612099737, 364.30225016124825, 996.1405980394957, 304.18219235470195, 398.05315706590255, 1287.6964094720365, 448.3661057920101, 534.0297759360078, 434.0833643845871, 386.5322094743237, 715.4737383919064, 1207.8823993235442, 356.2405244480841, 928.6096193158228, 1555.22596818896, 2306.995172560005, 1703.3232748706182, 1562.2430658940702, 1069.2484032825937, 2284.5789861588637, 1154.3746240633836, 1127.2921610165185, 1640.7601220582403, 1001.6943852013844, 944.9297075137608, 854.0763614524873, 560.2952231602599, 496.92469063734484, 370.681792847531, 335.45491505887424, 543.0665419782047, 277.85748267585194, 881.1684176787961, 307.34871842114313, 317.90418284823187, 2284.5789861588637, 341.05060638964625, 534.0297759360078, 527.6214506132345, 736.0875247928584, 446.4932336828581, 448.3661057920101, 2306.995172560005, 551.282612099737, 997.6545418335248, 1287.6964094720365, 1562.2430658940702, 386.5322094743237, 672.0295358006128, 1069.2484032825937, 715.4737383919064, 1555.22596818896, 437.4487426811332, 1703.3232748706182, 928.6096193158228, 505.53610921883114, 460.19032978785253, 399.4892445477919, 355.17935766597265, 352.5812977649994, 340.16078790837656, 296.184734529532, 266.20103876120504, 445.1017919008273, 304.18219235470195, 386.8521560458396, 980.2735129579694, 317.07294409618595, 509.75232648249107, 575.3094516812816, 736.0875247928584, 997.6545418335248, 364.30225016124825, 425.20779859799393, 434.0833643845871, 1703.3232748706182, 1562.2430658940702, 672.0295358006128, 928.6096193158228, 1207.8823993235442, 1555.22596818896, 2306.995172560005, 1069.2484032825937, 356.2405244480841, 715.4737383919064, 2284.5789861588637, 536.9416866635225, 470.6312270126688, 465.7585161975406, 429.419056871581, 362.84191568699254, 353.5715333959298, 345.6949756010367, 331.9718000599469, 326.56575327446285, 311.4725990110976, 310.0082671997225, 306.42667557318737, 366.1211372416737, 437.4487426811332, 351.22103399838596, 382.65463784392887, 551.282612099737, 386.5322094743237, 431.525635559604, 736.0875247928584, 415.56530223278514, 509.75232648249107, 1069.2484032825937, 672.0295358006128, 356.2405244480841, 386.8521560458396, 980.2735129579694, 405.5022229845442, 534.0297759360078, 446.4932336828581, 2306.995172560005, 1555.22596818896, 1703.3232748706182, 1562.2430658940702, 928.6096193158228, 2284.5789861588637, 997.6545418335248], \"Category\": [\"Default\", \"Default\", \"Default\", \"Default\", \"Default\", \"Default\", \"Default\", \"Default\", \"Default\", \"Default\", \"Default\", \"Default\", \"Default\", \"Default\", \"Default\", \"Default\", \"Default\", \"Default\", \"Default\", \"Default\", \"Default\", \"Default\", \"Default\", \"Default\", \"Default\", \"Default\", \"Default\", \"Default\", \"Default\", \"Default\", \"Topic1\", \"Topic1\", \"Topic1\", \"Topic1\", \"Topic1\", \"Topic1\", \"Topic1\", \"Topic1\", \"Topic1\", \"Topic1\", \"Topic1\", \"Topic1\", \"Topic1\", \"Topic1\", \"Topic1\", \"Topic1\", \"Topic1\", \"Topic1\", \"Topic1\", \"Topic1\", \"Topic1\", \"Topic1\", \"Topic1\", \"Topic1\", \"Topic1\", \"Topic1\", \"Topic1\", \"Topic1\", \"Topic1\", \"Topic1\", \"Topic1\", \"Topic1\", \"Topic1\", \"Topic1\", \"Topic1\", \"Topic2\", \"Topic2\", \"Topic2\", \"Topic2\", \"Topic2\", \"Topic2\", \"Topic2\", \"Topic2\", \"Topic2\", \"Topic2\", \"Topic2\", \"Topic2\", \"Topic2\", \"Topic2\", \"Topic2\", \"Topic2\", \"Topic2\", \"Topic2\", \"Topic2\", \"Topic2\", \"Topic2\", \"Topic2\", \"Topic2\", \"Topic2\", \"Topic2\", \"Topic2\", \"Topic2\", \"Topic2\", \"Topic2\", \"Topic2\", \"Topic2\", \"Topic2\", \"Topic2\", \"Topic2\", \"Topic2\", \"Topic2\", \"Topic2\", \"Topic2\", \"Topic2\", \"Topic3\", \"Topic3\", \"Topic3\", \"Topic3\", \"Topic3\", \"Topic3\", \"Topic3\", \"Topic3\", \"Topic3\", \"Topic3\", \"Topic3\", \"Topic3\", \"Topic3\", \"Topic3\", \"Topic3\", \"Topic3\", \"Topic3\", \"Topic3\", \"Topic3\", \"Topic3\", \"Topic3\", \"Topic3\", \"Topic3\", \"Topic3\", \"Topic3\", \"Topic3\", \"Topic3\", \"Topic3\", \"Topic3\", \"Topic3\", \"Topic3\", \"Topic3\", \"Topic4\", \"Topic4\", \"Topic4\", \"Topic4\", \"Topic4\", \"Topic4\", \"Topic4\", \"Topic4\", \"Topic4\", \"Topic4\", \"Topic4\", \"Topic4\", \"Topic4\", \"Topic4\", \"Topic4\", \"Topic4\", \"Topic4\", \"Topic4\", \"Topic4\", \"Topic4\", \"Topic4\", \"Topic4\", \"Topic4\", \"Topic4\", \"Topic4\", \"Topic4\", \"Topic4\", \"Topic4\", \"Topic4\", \"Topic4\", \"Topic4\", \"Topic5\", \"Topic5\", \"Topic5\", \"Topic5\", \"Topic5\", \"Topic5\", \"Topic5\", \"Topic5\", \"Topic5\", \"Topic5\", \"Topic5\", \"Topic5\", \"Topic5\", \"Topic5\", \"Topic5\", \"Topic5\", \"Topic5\", \"Topic5\", \"Topic5\", \"Topic5\", \"Topic5\", \"Topic5\", \"Topic5\", \"Topic5\", \"Topic5\", \"Topic5\", \"Topic5\", \"Topic5\", \"Topic5\", \"Topic5\", \"Topic5\", \"Topic5\", \"Topic5\", \"Topic5\", \"Topic5\", \"Topic5\", \"Topic5\"], \"logprob\": [30.0, 29.0, 28.0, 27.0, 26.0, 25.0, 24.0, 23.0, 22.0, 21.0, 20.0, 19.0, 18.0, 17.0, 16.0, 15.0, 14.0, 13.0, 12.0, 11.0, 10.0, 9.0, 8.0, 7.0, 6.0, 5.0, 4.0, 3.0, 2.0, 1.0, -2.7335, -2.8114, -3.1717, -3.5187, -3.5816, -3.7443, -3.8956, -3.9424, -4.0192, -4.0795, -4.29, -2.4081, -2.8196, -4.1952, -2.8837, -3.9624, -3.8922, -3.15, -4.2252, -3.3177, -4.3808, -4.8427, -3.5249, -4.6388, -4.1695, -4.8919, -4.8945, -5.1647, -4.2461, -3.7415, -3.6924, -4.2737, -3.6842, -3.9623, -4.311, -2.0941, -2.3531, -3.0279, -3.2707, -3.4732, -3.5903, -3.398, -3.7572, -3.8189, -3.9256, -2.1916, -3.8402, -3.8241, -3.2758, -3.9458, -5.0413, -4.6089, -5.0413, -4.0495, -5.2418, -5.0163, -3.8874, -4.9734, -4.8377, -5.0768, -5.2049, -4.6222, -4.1206, -5.3482, -4.4248, -3.9755, -3.6373, -3.9443, -4.0802, -4.3804, -3.8796, -4.3803, -4.5305, -4.4353, -2.443, -2.5014, -2.6026, -3.0246, -3.1448, -3.4385, -3.5386, -3.0572, -3.7274, -2.6166, -3.7415, -3.9429, -2.0691, -4.0239, -3.8438, -3.945, -4.1864, -4.7293, -4.7295, -3.1243, -4.63, -4.0778, -3.875, -3.7639, -5.2184, -4.6856, -4.2667, -4.7023, -4.068, -5.4806, -4.4119, -4.9617, -3.0661, -3.1602, -3.3019, -3.4198, -3.4271, -3.4631, -3.6019, -3.7089, -3.3151, -3.8454, -3.6314, -2.9122, -4.0597, -3.6175, -3.5783, -3.453, -3.198, -4.2563, -4.1736, -4.1627, -2.8284, -3.0288, -3.8752, -3.5869, -3.3898, -3.1432, -2.7801, -3.8483, -4.9877, -4.3253, -3.4167, -2.986, -3.118, -3.1284, -3.2098, -3.3786, -3.4045, -3.4271, -3.4677, -3.4842, -3.5316, -3.5363, -3.548, -3.3717, -3.3071, -3.5835, -3.5506, -3.557, -4.4329, -4.3757, -3.8865, -4.4634, -4.2668, -3.615, -4.0887, -4.7267, -4.6705, -3.8364, -4.7446, -4.6301, -4.8748, -3.3909, -3.767, -3.7471, -3.8387, -4.2195, -4.0078, -4.2707], \"loglift\": [30.0, 29.0, 28.0, 27.0, 26.0, 25.0, 24.0, 23.0, 22.0, 21.0, 20.0, 19.0, 18.0, 17.0, 16.0, 15.0, 14.0, 13.0, 12.0, 11.0, 10.0, 9.0, 8.0, 7.0, 6.0, 5.0, 4.0, 3.0, 2.0, 1.0, 1.3433, 1.3432, 1.3429, 1.3424, 1.3423, 1.3419, 1.3416, 1.3415, 1.3413, 1.3411, 1.3404, 1.2401, 1.204, 1.1306, 1.1161, 1.0836, 1.0642, 0.9972, 0.8393, 0.5728, 0.5647, 0.4492, 0.4296, 0.3598, 0.3087, 0.2836, 0.1994, 0.1247, 0.0852, -0.0397, -0.0816, -0.0562, -0.3767, -0.265, -0.2346, 1.5316, 1.5315, 1.5309, 1.5305, 1.5301, 1.5299, 1.5299, 1.5295, 1.5293, 1.5291, 1.4115, 1.1813, 1.1597, 1.0555, 1.0039, 0.1778, 0.13, 0.1118, 0.0977, 0.0917, 0.0482, 0.0031, -0.0279, -0.067, -0.0989, -0.111, -0.144, -0.1661, -0.1727, -0.2073, -0.2737, -0.3299, -0.3335, -0.383, -0.304, -0.5624, -0.3804, -0.5069, -0.7871, 1.6987, 1.6986, 1.6985, 1.698, 1.6979, 1.6973, 1.6971, 1.6967, 1.6966, 1.6533, 1.5816, 1.3465, 1.2481, 1.1952, 0.9268, 0.8377, 0.2634, 0.2204, 0.216, 0.1831, 0.1089, 0.068, 0.0155, -0.0667, -0.1245, -0.1447, -0.1903, -0.2241, -0.3662, -0.5104, -0.8011, -0.7443, 1.7594, 1.7593, 1.759, 1.7587, 1.7587, 1.7586, 1.7583, 1.758, 1.6377, 1.4881, 1.4617, 1.2511, 1.2323, 1.1997, 1.118, 0.9967, 0.9477, 0.8969, 0.8249, 0.8152, 0.7823, 0.6684, 0.6657, 0.6306, 0.5647, 0.5586, 0.5273, 0.2281, 0.1878, 0.1528, -0.0995, 1.7793, 1.7791, 1.7791, 1.7789, 1.7786, 1.7785, 1.7785, 1.7784, 1.7783, 1.7782, 1.7782, 1.7782, 1.7764, 1.663, 1.6062, 1.5534, 1.1819, 0.661, 0.6081, 0.5633, 0.5581, 0.5504, 0.4614, 0.4521, 0.4488, 0.4226, 0.3269, 0.3014, 0.1405, 0.0749, -0.0835, -0.0652, -0.1363, -0.1415, -0.002, -0.6906, -0.125]}, \"token.table\": {\"Topic\": [5, 1, 2, 5, 1, 3, 3, 5, 5, 4, 1, 2, 5, 1, 4, 2, 3, 5, 1, 2, 5, 3, 4, 5, 1, 2, 4, 5, 1, 2, 3, 4, 5, 2, 1, 2, 3, 4, 5, 1, 2, 3, 4, 5, 1, 2, 3, 4, 5, 1, 2, 4, 5, 5, 1, 2, 1, 4, 5, 1, 1, 2, 3, 4, 5, 2, 2, 2, 3, 5, 1, 2, 3, 1, 4, 1, 2, 3, 5, 1, 5, 1, 5, 1, 1, 2, 5, 2, 5, 1, 2, 3, 5, 1, 2, 3, 4, 5, 4, 3, 5, 1, 4, 5, 1, 2, 1, 4, 2, 5, 3, 2, 3, 3, 1, 5, 1, 2, 3, 5, 2, 3, 2, 1, 2, 3, 4, 5, 2, 4, 3, 1, 2, 4, 5, 1, 2, 3, 4, 5, 1, 4, 5, 5, 1, 5, 2, 5, 1, 2, 4, 5, 4, 1, 1, 4, 1, 2, 5, 3, 4, 5, 1, 2, 3, 4, 5, 2, 1, 2, 5, 4, 2, 3, 4, 5, 1, 2, 3, 4, 5, 5, 1, 2, 3, 4, 5, 1, 4, 1, 4, 4, 1, 2, 1, 1, 3, 2, 3, 4, 3, 1, 3, 5, 5, 1, 2, 3, 4, 5, 1, 2, 3, 4, 5, 1, 5], \"Freq\": [0.9976796625456061, 0.7067275456753217, 0.23791822205262964, 0.05420921515123207, 0.1106235294380231, 0.8882418687229502, 0.10972714130073141, 0.8892470409580109, 0.9982462031037783, 0.9960000148845825, 0.6029345471571403, 0.2261004551839276, 0.168319227748035, 0.4100002930573721, 0.5897696523209891, 0.2466974234540072, 0.20316258402094708, 0.5496273478423837, 0.28358883594906664, 0.6202751560758308, 0.09412735831500936, 0.23774346678303857, 0.4659771948947556, 0.2961604329068709, 0.3739348161634356, 0.15286643428064978, 0.3927491465364386, 0.07996090408526295, 0.20042233160292258, 0.19581492168101633, 0.08523708355526594, 0.3893261384010795, 0.1313111827743286, 0.9975559374262145, 0.14731495377216977, 0.09523390950928147, 0.15773116262474746, 0.3348067131185677, 0.2648693108226891, 0.2466052421131731, 0.1755312422028263, 0.08722718170815294, 0.323063635956122, 0.16799309069718343, 0.20035294560316733, 0.1472242092291645, 0.17090810375733442, 0.3354151549394878, 0.14658410397164637, 0.16686671793666877, 0.15296115810861305, 0.5249348835091039, 0.15469935308712002, 0.998658765129812, 0.8693398516284367, 0.1304009777442655, 0.9953932966664433, 0.7418854865216061, 0.25591171834717424, 0.9970947601057801, 0.16299564754246712, 0.10045080604361346, 0.42265150467407175, 0.15920505108799116, 0.15541445463351516, 0.9982245014445236, 0.9981406982650366, 0.5890346821846971, 0.2284469109613654, 0.18141372341049605, 0.13780946029547023, 0.25802622353194427, 0.6040159323588695, 0.9992178264903113, 0.9965875316919561, 0.3182141021760583, 0.19403298913174286, 0.16040060434890743, 0.325975421741328, 0.2012258375695045, 0.7970633825805048, 0.7694162505538027, 0.22687915080432644, 0.9986904009273531, 0.7961020459416649, 0.14813215435911284, 0.055441274146100714, 0.9976309469888782, 0.9982675670403585, 0.14231416191502214, 0.20223591430029458, 0.4625210262238219, 0.19474569525213553, 0.17902074738271168, 0.15518021201697527, 0.21933292536477508, 0.2912879957413614, 0.15518021201697527, 0.9983513085671751, 0.9969139478714263, 0.9983714389084432, 0.16525999923344453, 0.6008527132623385, 0.2336082705213506, 0.9014114739360428, 0.09812525172664158, 0.9972424092622298, 0.9989395233910006, 0.7050636769377624, 0.2935760020013891, 0.9993067893644579, 0.9984212058260024, 0.9981607058650127, 0.9976883201806462, 0.15944375358867985, 0.8399269162260814, 0.45944596912854097, 0.2096501024178779, 0.2274926643257824, 0.10482505120893895, 0.9993780644981385, 0.9987397362799543, 0.9989886230739247, 0.40070126054577554, 0.18296483177813305, 0.01904158882758851, 0.30218173574216545, 0.09520794413794254, 0.23670024679170554, 0.7627007952177178, 0.9981391734909392, 0.2003830609547116, 0.24155766252074823, 0.4227259094113094, 0.13724867188678877, 0.2507674177111059, 0.16460630495908488, 0.12666969561304578, 0.30027790787458064, 0.15817637117162064, 0.1373215900416383, 0.5708654671730964, 0.2922988130886301, 0.9970726427372103, 0.9978855178920771, 0.9979896277062507, 0.6882557501244377, 0.31052616335580696, 0.34527234146244673, 0.18246099345576453, 0.2077248233188704, 0.26386666745910564, 0.9974133967821504, 0.9991918237017049, 0.9981690587709551, 0.996679543333479, 0.11302829922112137, 0.8861651706975547, 0.9990241307066483, 0.9544145967185148, 0.04425941649467548, 0.9967476118981273, 0.24011883477084936, 0.1549911305122353, 0.08219226618073083, 0.37573607396905523, 0.1467719038941622, 0.9972387708847987, 0.7552996464837399, 0.151059929296748, 0.09243965822636817, 0.9987753248567538, 0.12299859260828375, 0.6368788336122877, 0.15538968105316986, 0.08447946040355432, 0.3550095361583621, 0.1872884954536241, 0.14675591061664575, 0.19986757350647943, 0.111814027136492, 0.9983835423897381, 0.20668723873847253, 0.15899018364497888, 0.15150829264992105, 0.2160396024822948, 0.2674776030733174, 0.11458053175252833, 0.8829440976224242, 0.8090053654412225, 0.18920286772415687, 0.9954882266170177, 0.998658894338161, 0.9986957948525959, 0.9974622646504439, 0.2956865781312346, 0.7014692225879289, 0.9971096498927351, 0.9980360749636322, 0.0018413949722576241, 0.9990161093398079, 0.9963411431457722, 0.9986438861425107, 0.998607576927207, 0.9984826947455472, 0.09321864042144419, 0.11927976570055762, 0.1954584395933507, 0.4430391297449283, 0.14834794389649184, 0.462065433764744, 0.21666597650481276, 0.18560275406684676, 0.08853018394820306, 0.04659483365694898, 0.002731336430160567, 0.996937797008607], \"Term\": [\"\\uac00\\uac8c\", \"\\uac00\\uaca9\", \"\\uac00\\uaca9\", \"\\uac00\\uaca9\", \"\\uac1c\\uc120\", \"\\uac1c\\uc120\", \"\\uac71\\uc815\", \"\\uac71\\uc815\", \"\\uac74\\ubb3c\", \"\\uac80\\uc0c9\", \"\\uacb0\\uacfc\", \"\\uacb0\\uacfc\", \"\\uacb0\\uacfc\", \"\\uace0\\ubbfc\", \"\\uace0\\ubbfc\", \"\\uacfc\\uc789\", \"\\uacfc\\uc789\", \"\\uacfc\\uc789\", \"\\uad00\\ub9ac\", \"\\uad00\\ub9ac\", \"\\uad00\\ub9ac\", \"\\uadfc\\ucc98\", \"\\uadfc\\ucc98\", \"\\uadfc\\ucc98\", \"\\uae08\\uc561\", \"\\uae08\\uc561\", \"\\uae08\\uc561\", \"\\uae08\\uc561\", \"\\uae30\\ubd84\", \"\\uae30\\ubd84\", \"\\uae30\\ubd84\", \"\\uae30\\ubd84\", \"\\uae30\\ubd84\", \"\\uae30\\uc5b5\", \"\\ub0b4\\ubd80\", \"\\ub0b4\\ubd80\", \"\\ub0b4\\ubd80\", \"\\ub0b4\\ubd80\", \"\\ub0b4\\ubd80\", \"\\ub290\\ub08c\", \"\\ub290\\ub08c\", \"\\ub290\\ub08c\", \"\\ub290\\ub08c\", \"\\ub290\\ub08c\", \"\\ub300\\uae30\", \"\\ub300\\uae30\", \"\\ub300\\uae30\", \"\\ub300\\uae30\", \"\\ub300\\uae30\", \"\\ub370\\uc2a4\\ud06c\", \"\\ub370\\uc2a4\\ud06c\", \"\\ub370\\uc2a4\\ud06c\", \"\\ub370\\uc2a4\\ud06c\", \"\\ub3d9\\ub124\", \"\\ub808\\uc774\\uc800\", \"\\ub808\\uc774\\uc800\", \"\\ub9c1\\ud06c\", \"\\ub9c8\\uc74c\", \"\\ub9c8\\uc74c\", \"\\ub9c8\\ucde8\", \"\\ub9d0\\uc500\", \"\\ub9d0\\uc500\", \"\\ub9d0\\uc500\", \"\\ub9d0\\uc500\", \"\\ub9d0\\uc500\", \"\\ubaa9\\uc801\", \"\\ubb34\\uc880\", \"\\ubbf8\\uc6a9\", \"\\ubbf8\\uc6a9\", \"\\ubbf8\\uc6a9\", \"\\ubc29\\ubc95\", \"\\ubc29\\ubc95\", \"\\ubc29\\ubc95\", \"\\ubcf4\\ud1a1\\uc2a4\", \"\\ubcf4\\ud1b5\", \"\\ubd80\\uc704\", \"\\ubd80\\uc704\", \"\\ubd80\\uc704\", \"\\ubd80\\uc704\", \"\\ubd84\\uc704\\uae30\", \"\\ubd84\\uc704\\uae30\", \"\\ube44\\uc6a9\", \"\\ube44\\uc6a9\", \"\\uc0ac\\ub9c8\\uadc0\", \"\\uc0c1\\ub2f4\", \"\\uc0c1\\ub2f4\", \"\\uc0c1\\ub2f4\", \"\\uc0c1\\uc138\", \"\\uc0c1\\ucc98\", \"\\uc0c1\\ud0dc\", \"\\uc0c1\\ud0dc\", \"\\uc0c1\\ud0dc\", \"\\uc0c1\\ud0dc\", \"\\uc124\\uba85\", \"\\uc124\\uba85\", \"\\uc124\\uba85\", \"\\uc124\\uba85\", \"\\uc124\\uba85\", \"\\uc190\\ub2d8\", \"\\uc2a4\\ud14c\\ub85c\\uc774\\ub4dc\", \"\\uc2b5\\uc9c4\", \"\\uc2dc\\uc124\", \"\\uc2dc\\uc124\", \"\\uc2dc\\uc124\", \"\\uc2dc\\uc220\", \"\\uc2dc\\uc220\", \"\\uc2e4\\uc7a5\", \"\\uc544\\ud1a0\\ud53c\", \"\\uc548\\ub0b4\", \"\\uc548\\ub0b4\", \"\\uc54c\\ub808\\ub974\\uae30\", \"\\uc555\\ucd9c\", \"\\uc57d\\ub3c4\", \"\\uc57d\\ubb3c\", \"\\uc598\\uae30\", \"\\uc598\\uae30\", \"\\uc5bc\\uad74\", \"\\uc5bc\\uad74\", \"\\uc5bc\\uad74\", \"\\uc5bc\\uad74\", \"\\uc5ec\\ub4dc\\ub984\", \"\\uc5f0\\uace0\", \"\\uc5fc\\uc99d\", \"\\uc608\\uc57d\", \"\\uc608\\uc57d\", \"\\uc608\\uc57d\", \"\\uc608\\uc57d\", \"\\uc608\\uc57d\", \"\\uc6d0\\ub798\", \"\\uc6d0\\ub798\", \"\\uc6d0\\uc778\", \"\\uc6d0\\uc7a5\", \"\\uc6d0\\uc7a5\", \"\\uc6d0\\uc7a5\", \"\\uc6d0\\uc7a5\", \"\\uc6d0\\uc7a5\\ub2d8\", \"\\uc6d0\\uc7a5\\ub2d8\", \"\\uc6d0\\uc7a5\\ub2d8\", \"\\uc6d0\\uc7a5\\ub2d8\", \"\\uc6d0\\uc7a5\\ub2d8\", \"\\uc704\\uce58\", \"\\uc704\\uce58\", \"\\uc704\\uce58\", \"\\uc758\\uc6d0\", \"\\uc774\\ubca4\\ud2b8\", \"\\uc774\\uc6a9\", \"\\uc804\\ubb38\\uc758\", \"\\uc804\\ubb38\\uc758\", \"\\uc804\\uccb4\", \"\\uc804\\uccb4\", \"\\uc804\\uccb4\", \"\\uc804\\uccb4\", \"\\uc811\\uc218\", \"\\uc81c\\uac70\", \"\\uc81c\\ubaa8\", \"\\uc8fc\\ubcc0\", \"\\uc8fc\\uc0ac\", \"\\uc8fc\\uc0ac\", \"\\uc8fc\\ucc28\", \"\\uc99d\\uc0c1\", \"\\uc99d\\uc0c1\", \"\\uc9c0\\uc778\", \"\\uc9c1\\uc6d0\", \"\\uc9c1\\uc6d0\", \"\\uc9c1\\uc6d0\", \"\\uc9c1\\uc6d0\", \"\\uc9c1\\uc6d0\", \"\\uc9c4\\ub2e8\", \"\\uc9c4\\ud589\", \"\\uc9c4\\ud589\", \"\\uc9c4\\ud589\", \"\\uc9c8\\ubb38\", \"\\ucc98\\ubc29\", \"\\ucc98\\ubc29\", \"\\ucc98\\ubc29\", \"\\ucc98\\ubc29\", \"\\ucc98\\uc74c\", \"\\ucc98\\uc74c\", \"\\ucc98\\uc74c\", \"\\ucc98\\uc74c\", \"\\ucc98\\uc74c\", \"\\ucc98\\uce58\", \"\\ucd94\\ucc9c\", \"\\ucd94\\ucc9c\", \"\\ucd94\\ucc9c\", \"\\ucd94\\ucc9c\", \"\\ucd94\\ucc9c\", \"\\uce5c\\uc808\", \"\\uce5c\\uc808\", \"\\ud06c\\ub9bc\", \"\\ud06c\\ub9bc\", \"\\ud0c8\\ubaa8\", \"\\ud1a0\\ub2dd\", \"\\ud2b8\\ub7ec\\ube14\", \"\\ud2f0\\ub208\", \"\\ud3c9\\uc77c\", \"\\ud3c9\\uc77c\", \"\\ud53c\\ubd80\\uad00\\ub9ac\", \"\\ud53c\\ubd80\\uc5fc\", \"\\ud53c\\ubd80\\uc5fc\", \"\\ud53c\\ubd80\\uc9c8\\ud658\", \"\\ud544\\ub7ec\", \"\\ud638\\uc804\", \"\\ud654\\uc0c1\", \"\\ud655\\uc778\", \"\\ud658\\uc790\", \"\\ud658\\uc790\", \"\\ud658\\uc790\", \"\\ud658\\uc790\", \"\\ud658\\uc790\", \"\\ud6a8\\uacfc\", \"\\ud6a8\\uacfc\", \"\\ud6a8\\uacfc\", \"\\ud6a8\\uacfc\", \"\\ud6a8\\uacfc\", \"\\ud749\\ud130\", \"\\ud749\\ud130\"]}, \"R\": 30, \"lambda.step\": 0.01, \"plot.opts\": {\"xlab\": \"PC1\", \"ylab\": \"PC2\"}, \"topic.order\": [4, 5, 3, 2, 1]};\n",
       "\n",
       "function LDAvis_load_lib(url, callback){\n",
       "  var s = document.createElement('script');\n",
       "  s.src = url;\n",
       "  s.async = true;\n",
       "  s.onreadystatechange = s.onload = callback;\n",
       "  s.onerror = function(){console.warn(\"failed to load library \" + url);};\n",
       "  document.getElementsByTagName(\"head\")[0].appendChild(s);\n",
       "}\n",
       "\n",
       "if(typeof(LDAvis) !== \"undefined\"){\n",
       "   // already loaded: just create the visualization\n",
       "   !function(LDAvis){\n",
       "       new LDAvis(\"#\" + \"ldavis_el756028048113041765857873539\", ldavis_el756028048113041765857873539_data);\n",
       "   }(LDAvis);\n",
       "}else if(typeof define === \"function\" && define.amd){\n",
       "   // require.js is available: use it to load d3/LDAvis\n",
       "   require.config({paths: {d3: \"https://cdnjs.cloudflare.com/ajax/libs/d3/3.5.5/d3.min\"}});\n",
       "   require([\"d3\"], function(d3){\n",
       "      window.d3 = d3;\n",
       "      LDAvis_load_lib(\"https://cdn.rawgit.com/bmabey/pyLDAvis/files/ldavis.v1.0.0.js\", function(){\n",
       "        new LDAvis(\"#\" + \"ldavis_el756028048113041765857873539\", ldavis_el756028048113041765857873539_data);\n",
       "      });\n",
       "    });\n",
       "}else{\n",
       "    // require.js not available: dynamically load d3 & LDAvis\n",
       "    LDAvis_load_lib(\"https://cdnjs.cloudflare.com/ajax/libs/d3/3.5.5/d3.min.js\", function(){\n",
       "         LDAvis_load_lib(\"https://cdn.rawgit.com/bmabey/pyLDAvis/files/ldavis.v1.0.0.js\", function(){\n",
       "                 new LDAvis(\"#\" + \"ldavis_el756028048113041765857873539\", ldavis_el756028048113041765857873539_data);\n",
       "            })\n",
       "         });\n",
       "}\n",
       "</script>"
      ],
      "text/plain": [
       "PreparedData(topic_coordinates=                x           y  topics  cluster       Freq\n",
       "topic                                                    \n",
       "3      150.222153  -72.269554       1        1  26.077613\n",
       "4       51.163364 -159.968018       2        1  21.607652\n",
       "2      -73.144554   21.523815       3        1  18.277393\n",
       "1      -66.410133 -110.606438       4        1  17.186782\n",
       "0       54.417324   12.443444       5        1  16.850559, topic_info=    Term         Freq        Total Category  logprob  loglift\n",
       "53   여드름  1678.000000  1678.000000  Default  30.0000  30.0000\n",
       "71    주사  1716.000000  1716.000000  Default  29.0000  29.0000\n",
       "55    염증  1295.000000  1295.000000  Default  28.0000  28.0000\n",
       "47  알레르기  1001.000000  1001.000000  Default  27.0000  27.0000\n",
       "43    시술  1640.000000  1640.000000  Default  26.0000  26.0000\n",
       "..   ...          ...          ...      ...      ...      ...\n",
       "75    직원   250.442642  1703.323275   Topic5  -3.7471  -0.1363\n",
       "16    대기   228.516527  1562.243066   Topic5  -3.8387  -0.1415\n",
       "15    느낌   156.157201   928.609619   Topic5  -4.2195  -0.0020\n",
       "79    처방   192.976525  2284.578986   Topic5  -4.0078  -0.6906\n",
       "97    환자   148.361354   997.654542   Topic5  -4.2707  -0.1250\n",
       "\n",
       "[204 rows x 6 columns], token_table=      Topic      Freq Term\n",
       "term                      \n",
       "0         5  0.997680   가게\n",
       "1         1  0.706728   가격\n",
       "1         2  0.237918   가격\n",
       "1         5  0.054209   가격\n",
       "2         1  0.110624   개선\n",
       "...     ...       ...  ...\n",
       "98        3  0.185603   효과\n",
       "98        4  0.088530   효과\n",
       "98        5  0.046595   효과\n",
       "99        1  0.002731   흉터\n",
       "99        5  0.996938   흉터\n",
       "\n",
       "[217 rows x 3 columns], R=30, lambda_step=0.01, plot_opts={'xlab': 'PC1', 'ylab': 'PC2'}, topic_order=[4, 5, 3, 2, 1])"
      ]
     },
     "execution_count": 73,
     "metadata": {},
     "output_type": "execute_result"
    }
   ],
   "source": [
    "pyLDAvis.enable_notebook()\n",
    "panel = pyLDAvis.sklearn.prepare(lda_model, data_vectorized, vectorizer, mds='tsne')\n",
    "panel"
   ]
  },
  {
   "cell_type": "code",
   "execution_count": null,
   "metadata": {},
   "outputs": [],
   "source": []
  },
  {
   "cell_type": "code",
   "execution_count": null,
   "metadata": {},
   "outputs": [],
   "source": []
  }
 ],
 "metadata": {
  "interpreter": {
   "hash": "b131aa79fbb012ccd5fe9686ca8fc5b84b44b90404dbf3b7f41759e12b8001b3"
  },
  "kernelspec": {
   "display_name": "Python 3.8.11 ('NLP')",
   "language": "python",
   "name": "python3"
  },
  "language_info": {
   "codemirror_mode": {
    "name": "ipython",
    "version": 3
   },
   "file_extension": ".py",
   "mimetype": "text/x-python",
   "name": "python",
   "nbconvert_exporter": "python",
   "pygments_lexer": "ipython3",
   "version": "3.8.11"
  },
  "orig_nbformat": 4
 },
 "nbformat": 4,
 "nbformat_minor": 2
}
