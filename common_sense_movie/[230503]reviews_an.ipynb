{
 "cells": [
  {
   "cell_type": "code",
   "execution_count": 98,
   "metadata": {},
   "outputs": [],
   "source": [
    "import pandas as pd\n",
    "import numpy as np\n",
    "import openpyxl\n",
    "import re\n",
    "from tqdm import tqdm\n",
    "import os"
   ]
  },
  {
   "cell_type": "code",
   "execution_count": 88,
   "metadata": {},
   "outputs": [],
   "source": [
    "from nltk.corpus import stopwords\n",
    "from nltk.stem.porter import PorterStemmer\n",
    "from nltk.tokenize import RegexpTokenizer\n",
    "from nltk.tokenize import word_tokenize\n",
    "from nltk.tokenize import sent_tokenize\n",
    "from nltk.tokenize import WhitespaceTokenizer\n",
    "# from nltk.tokenize import WordPunctTokenizer\n",
    "\n",
    "from nltk.corpus import state_union\n",
    "from nltk.tokenize import PunktSentenceTokenizer, word_tokenize\n",
    "from nltk.tag import pos_tag\n",
    "\n",
    "from nltk.stem import WordNetLemmatizer"
   ]
  },
  {
   "cell_type": "code",
   "execution_count": 87,
   "metadata": {},
   "outputs": [
    {
     "name": "stderr",
     "output_type": "stream",
     "text": [
      "[nltk_data] Downloading package punkt to /Users/kimmonica/nltk_data...\n",
      "[nltk_data]   Package punkt is already up-to-date!\n",
      "[nltk_data] Downloading package stopwords to\n",
      "[nltk_data]     /Users/kimmonica/nltk_data...\n",
      "[nltk_data]   Package stopwords is already up-to-date!\n",
      "[nltk_data] Downloading package averaged_perceptron_tagger to\n",
      "[nltk_data]     /Users/kimmonica/nltk_data...\n",
      "[nltk_data]   Package averaged_perceptron_tagger is already up-to-\n",
      "[nltk_data]       date!\n",
      "[nltk_data] Downloading package wordnet to\n",
      "[nltk_data]     /Users/kimmonica/nltk_data...\n"
     ]
    },
    {
     "data": {
      "text/plain": [
       "True"
      ]
     },
     "execution_count": 87,
     "metadata": {},
     "output_type": "execute_result"
    }
   ],
   "source": [
    "import nltk\n",
    "nltk.download('punkt')\n",
    "nltk.download('stopwords')\n",
    "nltk.download('averaged_perceptron_tagger')\n",
    "nltk.download('wordnet')"
   ]
  },
  {
   "attachments": {},
   "cell_type": "markdown",
   "metadata": {},
   "source": [
    "### def"
   ]
  },
  {
   "cell_type": "code",
   "execution_count": 104,
   "metadata": {},
   "outputs": [],
   "source": [
    "def clean_text(text): \n",
    "    \"\"\" 한글, 영문, 숫자만 남기고 제거한다. \n",
    "    :param text: \n",
    "    :return: \n",
    "    \"\"\" \n",
    "    text = text.replace(\".\", \" \").strip() \n",
    "    text = text.replace(\"·\", \" \").strip() \n",
    "    pattern = '[^ ㄱ-ㅣ가-힣|0-9|a-zA-Z]+' \n",
    "    text = re.sub(pattern=pattern, repl='', string=text) \n",
    "    return text "
   ]
  },
  {
   "cell_type": "code",
   "execution_count": null,
   "metadata": {},
   "outputs": [],
   "source": [
    "def clean_words(text): \n",
    "    \"\"\" 한글, 영문, 숫자만 남기고 제거한다. \n",
    "    :param text: \n",
    "    :return: \n",
    "    \"\"\" \n",
    "    try:\n",
    "        text = text.replace(\".\", \" \").strip() \n",
    "        text = text.replace(\"·\", \" \").strip() \n",
    "        pattern = '[^0-9]+' \n",
    "        text = re.sub(pattern=pattern, repl='', string=text) \n",
    "        text = int(text)\n",
    "    except:\n",
    "        text = '숫자없음'\n",
    "    return text "
   ]
  },
  {
   "attachments": {},
   "cell_type": "markdown",
   "metadata": {},
   "source": [
    "#### dataset"
   ]
  },
  {
   "cell_type": "code",
   "execution_count": 101,
   "metadata": {},
   "outputs": [],
   "source": [
    "df_path = '/Users/kimmonica/Documents/GitHub/Text_Mining/common_sense_movie/dataset/'\n",
    "file_list = os.listdir(df_path)\n",
    "file_list_py = [file for file in file_list if file.endswith('.xlsx')]\n",
    "\n",
    "df = pd.DataFrame()\n",
    "for i in file_list_py:\n",
    "    data = pd.read_excel(df_path + i)\n",
    "    df = pd.concat([df,data])\n",
    "    \n",
    "df = df.reset_index(drop = True)"
   ]
  },
  {
   "cell_type": "code",
   "execution_count": 103,
   "metadata": {},
   "outputs": [
    {
     "data": {
      "text/html": [
       "<div>\n",
       "<style scoped>\n",
       "    .dataframe tbody tr th:only-of-type {\n",
       "        vertical-align: middle;\n",
       "    }\n",
       "\n",
       "    .dataframe tbody tr th {\n",
       "        vertical-align: top;\n",
       "    }\n",
       "\n",
       "    .dataframe thead th {\n",
       "        text-align: right;\n",
       "    }\n",
       "</style>\n",
       "<table border=\"1\" class=\"dataframe\">\n",
       "  <thead>\n",
       "    <tr style=\"text-align: right;\">\n",
       "      <th></th>\n",
       "      <th>Unnamed: 0</th>\n",
       "      <th>movie_cnt</th>\n",
       "      <th>movie_title</th>\n",
       "      <th>age</th>\n",
       "      <th>reviews</th>\n",
       "    </tr>\n",
       "  </thead>\n",
       "  <tbody>\n",
       "    <tr>\n",
       "      <th>0</th>\n",
       "      <td>0</td>\n",
       "      <td>245번</td>\n",
       "      <td>Andi Mack</td>\n",
       "      <td>Child</td>\n",
       "      <td>-Why do most of the kids in my school like thi...</td>\n",
       "    </tr>\n",
       "    <tr>\n",
       "      <th>1</th>\n",
       "      <td>1</td>\n",
       "      <td>245번</td>\n",
       "      <td>Andi Mack</td>\n",
       "      <td>Child</td>\n",
       "      <td>-that show is rated TV-MA</td>\n",
       "    </tr>\n",
       "    <tr>\n",
       "      <th>2</th>\n",
       "      <td>2</td>\n",
       "      <td>245번</td>\n",
       "      <td>Andi Mack</td>\n",
       "      <td>Child</td>\n",
       "      <td>-I haven't even watched the first episodes, bu...</td>\n",
       "    </tr>\n",
       "    <tr>\n",
       "      <th>3</th>\n",
       "      <td>3</td>\n",
       "      <td>245번</td>\n",
       "      <td>Andi Mack</td>\n",
       "      <td>Child</td>\n",
       "      <td>-Brah, this is possibly the worst TV show I ha...</td>\n",
       "    </tr>\n",
       "    <tr>\n",
       "      <th>4</th>\n",
       "      <td>4</td>\n",
       "      <td>245번</td>\n",
       "      <td>Andi Mack</td>\n",
       "      <td>Child</td>\n",
       "      <td>-So everyone is saying that everything about t...</td>\n",
       "    </tr>\n",
       "    <tr>\n",
       "      <th>...</th>\n",
       "      <td>...</td>\n",
       "      <td>...</td>\n",
       "      <td>...</td>\n",
       "      <td>...</td>\n",
       "      <td>...</td>\n",
       "    </tr>\n",
       "    <tr>\n",
       "      <th>273128</th>\n",
       "      <td>4995</td>\n",
       "      <td>245번</td>\n",
       "      <td>Andi Mack</td>\n",
       "      <td>Child</td>\n",
       "      <td>-So everyone is saying that everything about t...</td>\n",
       "    </tr>\n",
       "    <tr>\n",
       "      <th>273129</th>\n",
       "      <td>4996</td>\n",
       "      <td>245번</td>\n",
       "      <td>Andi Mack</td>\n",
       "      <td>Child</td>\n",
       "      <td>-( Note: I’m sorry this review is so long. I j...</td>\n",
       "    </tr>\n",
       "    <tr>\n",
       "      <th>273130</th>\n",
       "      <td>4997</td>\n",
       "      <td>245번</td>\n",
       "      <td>Andi Mack</td>\n",
       "      <td>Child</td>\n",
       "      <td>-This show is amazing!! I watched this show wh...</td>\n",
       "    </tr>\n",
       "    <tr>\n",
       "      <th>273131</th>\n",
       "      <td>4998</td>\n",
       "      <td>245번</td>\n",
       "      <td>Andi Mack</td>\n",
       "      <td>Child</td>\n",
       "      <td>-its just poorly done</td>\n",
       "    </tr>\n",
       "    <tr>\n",
       "      <th>273132</th>\n",
       "      <td>4999</td>\n",
       "      <td>245번</td>\n",
       "      <td>Andi Mack</td>\n",
       "      <td>Child</td>\n",
       "      <td>-This show is terrible. It makes me so uncomfo...</td>\n",
       "    </tr>\n",
       "  </tbody>\n",
       "</table>\n",
       "<p>273133 rows × 5 columns</p>\n",
       "</div>"
      ],
      "text/plain": [
       "        Unnamed: 0 movie_cnt movie_title    age  \\\n",
       "0                0      245번   Andi Mack  Child   \n",
       "1                1      245번   Andi Mack  Child   \n",
       "2                2      245번   Andi Mack  Child   \n",
       "3                3      245번   Andi Mack  Child   \n",
       "4                4      245번   Andi Mack  Child   \n",
       "...            ...       ...         ...    ...   \n",
       "273128        4995      245번   Andi Mack  Child   \n",
       "273129        4996      245번   Andi Mack  Child   \n",
       "273130        4997      245번   Andi Mack  Child   \n",
       "273131        4998      245번   Andi Mack  Child   \n",
       "273132        4999      245번   Andi Mack  Child   \n",
       "\n",
       "                                                  reviews  \n",
       "0       -Why do most of the kids in my school like thi...  \n",
       "1                               -that show is rated TV-MA  \n",
       "2       -I haven't even watched the first episodes, bu...  \n",
       "3       -Brah, this is possibly the worst TV show I ha...  \n",
       "4       -So everyone is saying that everything about t...  \n",
       "...                                                   ...  \n",
       "273128  -So everyone is saying that everything about t...  \n",
       "273129  -( Note: I’m sorry this review is so long. I j...  \n",
       "273130  -This show is amazing!! I watched this show wh...  \n",
       "273131                              -its just poorly done  \n",
       "273132  -This show is terrible. It makes me so uncomfo...  \n",
       "\n",
       "[273133 rows x 5 columns]"
      ]
     },
     "execution_count": 103,
     "metadata": {},
     "output_type": "execute_result"
    }
   ],
   "source": []
  },
  {
   "attachments": {},
   "cell_type": "markdown",
   "metadata": {},
   "source": [
    "#### data loading"
   ]
  },
  {
   "cell_type": "code",
   "execution_count": 5,
   "metadata": {},
   "outputs": [
    {
     "data": {
      "text/html": [
       "<div>\n",
       "<style scoped>\n",
       "    .dataframe tbody tr th:only-of-type {\n",
       "        vertical-align: middle;\n",
       "    }\n",
       "\n",
       "    .dataframe tbody tr th {\n",
       "        vertical-align: top;\n",
       "    }\n",
       "\n",
       "    .dataframe thead th {\n",
       "        text-align: right;\n",
       "    }\n",
       "</style>\n",
       "<table border=\"1\" class=\"dataframe\">\n",
       "  <thead>\n",
       "    <tr style=\"text-align: right;\">\n",
       "      <th></th>\n",
       "      <th>movie_cnt</th>\n",
       "      <th>movie_title</th>\n",
       "      <th>age</th>\n",
       "      <th>reviews</th>\n",
       "    </tr>\n",
       "  </thead>\n",
       "  <tbody>\n",
       "    <tr>\n",
       "      <th>0</th>\n",
       "      <td>0번</td>\n",
       "      <td>Alive</td>\n",
       "      <td>Child</td>\n",
       "      <td>Gore but not too crazy</td>\n",
       "    </tr>\n",
       "    <tr>\n",
       "      <th>1</th>\n",
       "      <td>0번</td>\n",
       "      <td>Alive</td>\n",
       "      <td>Child</td>\n",
       "      <td>If you dont get scared easily then you should ...</td>\n",
       "    </tr>\n",
       "    <tr>\n",
       "      <th>2</th>\n",
       "      <td>0번</td>\n",
       "      <td>Alive</td>\n",
       "      <td>Child</td>\n",
       "      <td>This movie is about an adult that plays videog...</td>\n",
       "    </tr>\n",
       "    <tr>\n",
       "      <th>3</th>\n",
       "      <td>0번</td>\n",
       "      <td>Alive</td>\n",
       "      <td>Child</td>\n",
       "      <td>its a really good movie  keeps you interested ...</td>\n",
       "    </tr>\n",
       "    <tr>\n",
       "      <th>4</th>\n",
       "      <td>0번</td>\n",
       "      <td>Alive</td>\n",
       "      <td>Child</td>\n",
       "      <td>I loved it but some other teens might be sensi...</td>\n",
       "    </tr>\n",
       "  </tbody>\n",
       "</table>\n",
       "</div>"
      ],
      "text/plain": [
       "  movie_cnt movie_title    age  \\\n",
       "0        0번       Alive  Child   \n",
       "1        0번       Alive  Child   \n",
       "2        0번       Alive  Child   \n",
       "3        0번       Alive  Child   \n",
       "4        0번       Alive  Child   \n",
       "\n",
       "                                             reviews  \n",
       "0                             Gore but not too crazy  \n",
       "1  If you dont get scared easily then you should ...  \n",
       "2  This movie is about an adult that plays videog...  \n",
       "3  its a really good movie  keeps you interested ...  \n",
       "4  I loved it but some other teens might be sensi...  "
      ]
     },
     "execution_count": 5,
     "metadata": {},
     "output_type": "execute_result"
    }
   ],
   "source": [
    "df = pd.read_csv('/Users/kimmonica/Documents/GitHub/Text_Mining/common_sense_movie/moview_reviews.csv', index_col= 0)\n",
    "df.head()"
   ]
  },
  {
   "cell_type": "code",
   "execution_count": 30,
   "metadata": {},
   "outputs": [],
   "source": [
    "data = df.copy()"
   ]
  },
  {
   "cell_type": "code",
   "execution_count": 17,
   "metadata": {},
   "outputs": [],
   "source": [
    "def clean_words(text): \n",
    "    \"\"\" 한글, 영문, 숫자만 남기고 제거한다. \n",
    "    :param text: \n",
    "    :return: \n",
    "    \"\"\" \n",
    "    try:\n",
    "        text = text.replace(\".\", \" \").strip() \n",
    "        text = text.replace(\"·\", \" \").strip() \n",
    "        pattern = '[^0-9]+' \n",
    "        text = re.sub(pattern=pattern, repl='', string=text) \n",
    "        text = int(text)\n",
    "    except:\n",
    "        text = '숫자없음'\n",
    "    return text "
   ]
  },
  {
   "cell_type": "code",
   "execution_count": 21,
   "metadata": {},
   "outputs": [
    {
     "data": {
      "text/plain": [
       "Child                 89858\n",
       "Teen 13 years old     19916\n",
       "Teen 14 years old     10403\n",
       "Kid 11 years old       9151\n",
       "Kid 12 years old       7636\n",
       "Kid 10 years old       6975\n",
       "Teen 15 years old      5309\n",
       "Kid 9 years old        4564\n",
       "Kid 8 years old        2553\n",
       "Teen 16 years old      2108\n",
       "Teen 17 years old      1364\n",
       "Kid 7 years old         954\n",
       "Kid 6 years old         504\n",
       "Adult 18 years old      201\n",
       "Kid 0 years old         189\n",
       "Kid 2 years old          74\n",
       "Kid 5 years old          73\n",
       "Kid 3 years old          50\n",
       "Kid 4 years old          47\n",
       "Kid 1 years old           4\n",
       "Name: age, dtype: int64"
      ]
     },
     "execution_count": 21,
     "metadata": {},
     "output_type": "execute_result"
    }
   ],
   "source": [
    "df['age'].value_counts()"
   ]
  },
  {
   "cell_type": "code",
   "execution_count": 24,
   "metadata": {},
   "outputs": [
    {
     "data": {
      "text/plain": [
       "숫자없음    89858\n",
       "13      19916\n",
       "14      10403\n",
       "11       9151\n",
       "12       7636\n",
       "10       6975\n",
       "15       5309\n",
       "9        4564\n",
       "8        2553\n",
       "16       2108\n",
       "17       1364\n",
       "7         954\n",
       "6         504\n",
       "18        201\n",
       "0         189\n",
       "2          74\n",
       "5          73\n",
       "3          50\n",
       "4          47\n",
       "1           4\n",
       "Name: age, dtype: int64"
      ]
     },
     "execution_count": 24,
     "metadata": {},
     "output_type": "execute_result"
    }
   ],
   "source": [
    "data['age'].value_counts()"
   ]
  },
  {
   "cell_type": "code",
   "execution_count": 31,
   "metadata": {},
   "outputs": [],
   "source": [
    "data['age'] = data['age'].apply(clean_words)"
   ]
  },
  {
   "cell_type": "code",
   "execution_count": 34,
   "metadata": {},
   "outputs": [
    {
     "data": {
      "text/plain": [
       "13    19916\n",
       "14    10403\n",
       "11     9151\n",
       "12     7636\n",
       "10     6975\n",
       "15     5309\n",
       "9      4564\n",
       "8      2553\n",
       "16     2108\n",
       "17     1364\n",
       "7       954\n",
       "6       504\n",
       "18      201\n",
       "0       189\n",
       "2        74\n",
       "5        73\n",
       "3        50\n",
       "4        47\n",
       "1         4\n",
       "Name: age, dtype: int64"
      ]
     },
     "execution_count": 34,
     "metadata": {},
     "output_type": "execute_result"
    }
   ],
   "source": [
    "data= data[data['age']!='숫자없음']\n",
    "data['age'].value_counts()"
   ]
  },
  {
   "cell_type": "code",
   "execution_count": 35,
   "metadata": {},
   "outputs": [],
   "source": [
    "data['age'] = data['age'].astype(int)"
   ]
  },
  {
   "cell_type": "code",
   "execution_count": 39,
   "metadata": {},
   "outputs": [
    {
     "data": {
      "text/plain": [
       "11    9151\n",
       "12    7636\n",
       "10    6975\n",
       "9     4564\n",
       "8     2553\n",
       "7      954\n",
       "6      504\n",
       "Name: age, dtype: int64"
      ]
     },
     "execution_count": 39,
     "metadata": {},
     "output_type": "execute_result"
    }
   ],
   "source": [
    "data = data[data['age']<13]\n",
    "data = data[data['age']>5]\n",
    "data.age.value_counts()"
   ]
  },
  {
   "cell_type": "code",
   "execution_count": 40,
   "metadata": {},
   "outputs": [],
   "source": [
    "data.to_csv('child_data.csv')"
   ]
  },
  {
   "cell_type": "code",
   "execution_count": 42,
   "metadata": {},
   "outputs": [
    {
     "data": {
      "text/html": [
       "<div>\n",
       "<style scoped>\n",
       "    .dataframe tbody tr th:only-of-type {\n",
       "        vertical-align: middle;\n",
       "    }\n",
       "\n",
       "    .dataframe tbody tr th {\n",
       "        vertical-align: top;\n",
       "    }\n",
       "\n",
       "    .dataframe thead th {\n",
       "        text-align: right;\n",
       "    }\n",
       "</style>\n",
       "<table border=\"1\" class=\"dataframe\">\n",
       "  <thead>\n",
       "    <tr style=\"text-align: right;\">\n",
       "      <th></th>\n",
       "      <th>movie_cnt</th>\n",
       "      <th>movie_title</th>\n",
       "      <th>age</th>\n",
       "      <th>reviews</th>\n",
       "    </tr>\n",
       "  </thead>\n",
       "  <tbody>\n",
       "    <tr>\n",
       "      <th>54</th>\n",
       "      <td>7번</td>\n",
       "      <td>1 Angry Black Man</td>\n",
       "      <td>7</td>\n",
       "      <td>This is not for 10 year olds</td>\n",
       "    </tr>\n",
       "    <tr>\n",
       "      <th>55</th>\n",
       "      <td>7번</td>\n",
       "      <td>1 Angry Black Man</td>\n",
       "      <td>7</td>\n",
       "      <td>The title makes me laughing XD This movie is t...</td>\n",
       "    </tr>\n",
       "    <tr>\n",
       "      <th>211</th>\n",
       "      <td>12번</td>\n",
       "      <td>12 Years a Slave</td>\n",
       "      <td>9</td>\n",
       "      <td>What a beautiful film 12 Years a Slave is  Thi...</td>\n",
       "    </tr>\n",
       "    <tr>\n",
       "      <th>212</th>\n",
       "      <td>12번</td>\n",
       "      <td>12 Years a Slave</td>\n",
       "      <td>9</td>\n",
       "      <td>This movie shows how horrible slavery was and ...</td>\n",
       "    </tr>\n",
       "    <tr>\n",
       "      <th>213</th>\n",
       "      <td>12번</td>\n",
       "      <td>12 Years a Slave</td>\n",
       "      <td>9</td>\n",
       "      <td>Im 11 I watched this with my mother and I thou...</td>\n",
       "    </tr>\n",
       "  </tbody>\n",
       "</table>\n",
       "</div>"
      ],
      "text/plain": [
       "    movie_cnt        movie_title  age  \\\n",
       "54         7번  1 Angry Black Man    7   \n",
       "55         7번  1 Angry Black Man    7   \n",
       "211       12번   12 Years a Slave    9   \n",
       "212       12번   12 Years a Slave    9   \n",
       "213       12번   12 Years a Slave    9   \n",
       "\n",
       "                                               reviews  \n",
       "54                        This is not for 10 year olds  \n",
       "55   The title makes me laughing XD This movie is t...  \n",
       "211  What a beautiful film 12 Years a Slave is  Thi...  \n",
       "212  This movie shows how horrible slavery was and ...  \n",
       "213  Im 11 I watched this with my mother and I thou...  "
      ]
     },
     "execution_count": 42,
     "metadata": {},
     "output_type": "execute_result"
    }
   ],
   "source": [
    "data.head()"
   ]
  },
  {
   "cell_type": "code",
   "execution_count": null,
   "metadata": {},
   "outputs": [],
   "source": [
    "def tokenize(df): \n",
    "    tokenizer = WhitespaceTokenizer()\n",
    "    processed_data = [] \n",
    "    for sent in tqdm(data['reviews']):\n",
    "        sentence = clean_text(sent.replace('\\n', '').strip()) \n",
    "        processed_data.append(get_nouns(tokenizer, sentence)) \n",
    "        \n",
    "    return processed_data"
   ]
  },
  {
   "cell_type": "code",
   "execution_count": 57,
   "metadata": {},
   "outputs": [],
   "source": [
    "f = open('reviews_tokenize.txt','w')"
   ]
  },
  {
   "cell_type": "code",
   "execution_count": 86,
   "metadata": {},
   "outputs": [
    {
     "name": "stdout",
     "output_type": "stream",
     "text": [
      "[('John', 'NNP'), (\"'s\", 'POS'), ('big', 'JJ'), ('idea', 'NN'), ('is', 'VBZ'), (\"n't\", 'RB'), ('all', 'PDT'), ('that', 'DT'), ('bad', 'JJ'), ('.', '.')]\n",
      "NNP\n",
      "POS\n",
      "JJ\n",
      "NN\n",
      "VBZ\n",
      "RB\n",
      "PDT\n",
      "DT\n",
      "JJ\n",
      ".\n"
     ]
    }
   ],
   "source": [
    "k = pos_tag(word_tokenize(\"John's big idea isn't all that bad.\")) \n",
    "print(k)\n",
    "for i in k :\n",
    "    if i =='POS'(i[1])"
   ]
  },
  {
   "cell_type": "code",
   "execution_count": 92,
   "metadata": {},
   "outputs": [
    {
     "ename": "TypeError",
     "evalue": "sent_tokenize() missing 1 required positional argument: 'text'",
     "output_type": "error",
     "traceback": [
      "\u001b[0;31m---------------------------------------------------------------------------\u001b[0m",
      "\u001b[0;31mTypeError\u001b[0m                                 Traceback (most recent call last)",
      "\u001b[1;32m/Users/kimmonica/Documents/GitHub/Text_Mining/common_sense_movie/[230503]reviews_an.ipynb 셀 20\u001b[0m in \u001b[0;36m1\n\u001b[0;32m----> <a href='vscode-notebook-cell:/Users/kimmonica/Documents/GitHub/Text_Mining/common_sense_movie/%5B230503%5Dreviews_an.ipynb#X41sZmlsZQ%3D%3D?line=0'>1</a>\u001b[0m tokenizer \u001b[39m=\u001b[39m sent_tokenize()\n\u001b[1;32m      <a href='vscode-notebook-cell:/Users/kimmonica/Documents/GitHub/Text_Mining/common_sense_movie/%5B230503%5Dreviews_an.ipynb#X41sZmlsZQ%3D%3D?line=1'>2</a>\u001b[0m tokenizer(data[\u001b[39m'\u001b[39m\u001b[39mreviews\u001b[39m\u001b[39m'\u001b[39m]\u001b[39m.\u001b[39mtolist()[\u001b[39m2\u001b[39m])\n",
      "\u001b[0;31mTypeError\u001b[0m: sent_tokenize() missing 1 required positional argument: 'text'"
     ]
    }
   ],
   "source": [
    "tokenizer = sent_tokenize()\n",
    "tokenizer(data['reviews'].tolist()[2])"
   ]
  },
  {
   "cell_type": "code",
   "execution_count": 96,
   "metadata": {},
   "outputs": [
    {
     "ename": "SyntaxError",
     "evalue": "unmatched ')' (79857623.py, line 2)",
     "output_type": "error",
     "traceback": [
      "\u001b[0;36m  Cell \u001b[0;32mIn [96], line 2\u001b[0;36m\u001b[0m\n\u001b[0;31m    lensent_tokenize(test))\u001b[0m\n\u001b[0m                          ^\u001b[0m\n\u001b[0;31mSyntaxError\u001b[0m\u001b[0;31m:\u001b[0m unmatched ')'\n"
     ]
    }
   ],
   "source": [
    "test = data['reviews'].tolist()[2]\n",
    "lensent_tokenize(test))"
   ]
  },
  {
   "cell_type": "code",
   "execution_count": 89,
   "metadata": {},
   "outputs": [
    {
     "name": "stdout",
     "output_type": "stream",
     "text": [
      "[('This', 'DT'), ('is', 'VBZ'), ('not', 'RB'), ('for', 'IN'), ('10', 'CD'), ('year', 'NN'), ('olds', 'NNS')]\n",
      "[('The', 'DT'), ('title', 'NN'), ('makes', 'VBZ'), ('me', 'PRP'), ('laughing', 'VBG'), ('XD', 'RBR'), ('This', 'DT'), ('movie', 'NN'), ('is', 'VBZ'), ('trash', 'JJ'), ('and', 'CC'), ('racist', 'NN')]\n",
      "[('What', 'WP'), ('a', 'DT'), ('beautiful', 'JJ'), ('film', 'NN'), ('12', 'CD'), ('Years', 'VBZ'), ('a', 'DT'), ('Slave', 'NNP'), ('is', 'VBZ'), ('This', 'DT'), ('is', 'VBZ'), ('just', 'RB'), ('a', 'DT'), ('phenomenal', 'JJ'), ('movie', 'NN'), ('12', 'CD'), ('Years', 'VBZ'), ('a', 'DT'), ('Slave', 'NNP'), ('is', 'VBZ'), ('a', 'DT'), ('movie', 'NN'), ('thats', 'VBZ'), ('very', 'RB'), ('inspiring', 'JJ'), ('and', 'CC'), ('filled', 'VBN'), ('with', 'IN'), ('great', 'JJ'), ('performances', 'NNS'), ('Ill', 'NNP'), ('talk', 'NN'), ('about', 'IN'), ('the', 'DT'), ('performances', 'NNS'), ('first', 'JJ'), ('Chiwetel', 'NNP'), ('Ejiofor', 'NNP'), ('gives', 'VBZ'), ('the', 'DT'), ('best', 'JJS'), ('performance', 'NN'), ('in', 'IN'), ('the', 'DT'), ('entire', 'JJ'), ('movie', 'NN'), ('Its', 'PRP$'), ('amazing', 'JJ'), ('how', 'WRB'), ('much', 'JJ'), ('emotion', 'NN'), ('he', 'PRP'), ('brings', 'VBZ'), ('to', 'TO'), ('the', 'DT'), ('character', 'NN'), ('of', 'IN'), ('Solomon', 'NNP'), ('Northup', 'NNP'), ('Lupita', 'NNP'), ('Nyongo', 'NNP'), ('was', 'VBD'), ('great', 'JJ'), ('but', 'CC'), ('I', 'PRP'), ('think', 'VBP'), ('Ejiofor', 'NNP'), ('was', 'VBD'), ('better', 'RBR'), ('That', 'IN'), ('doesnt', 'JJ'), ('take', 'VB'), ('away', 'RP'), ('from', 'IN'), ('her', 'PRP$'), ('performance', 'NN'), ('Also', 'RB'), ('I', 'PRP'), ('liked', 'VBD'), ('Brad', 'NNP'), ('Pitt', 'NNP'), ('in', 'IN'), ('the', 'DT'), ('movie', 'NN'), ('I', 'PRP'), ('thought', 'VBD'), ('he', 'PRP'), ('was', 'VBD'), ('very', 'RB'), ('charasmatic', 'JJ'), ('and', 'CC'), ('a', 'DT'), ('charming', 'JJ'), ('man', 'NN'), ('Michael', 'NNP'), ('Fassbender', 'NNP'), ('is', 'VBZ'), ('the', 'DT'), ('biggest', 'JJS'), ('craphead', 'NN'), ('in', 'IN'), ('the', 'DT'), ('entire', 'JJ'), ('movie', 'NN'), ('This', 'DT'), ('man', 'NN'), ('is', 'VBZ'), ('a', 'DT'), ('terrible', 'JJ'), ('person', 'NN'), ('as', 'IN'), ('he', 'PRP'), ('cares', 'VBZ'), ('for', 'IN'), ('profits', 'NNS'), ('and', 'CC'), ('considers', 'NNS'), ('his', 'PRP$'), ('many', 'JJ'), ('slaves', 'NNS'), ('his', 'PRP$'), ('property', 'NN'), ('Whenever', 'WRB'), ('the', 'DT'), ('slaves', 'NNS'), ('pick', 'VBP'), ('less', 'JJR'), ('than', 'IN'), ('100', 'CD'), ('cotton', 'NN'), ('balls', 'NNS'), ('he', 'PRP'), ('brutally', 'RB'), ('whips', 'VBZ'), ('and', 'CC'), ('tortures', 'VBZ'), ('them', 'PRP'), ('Now', 'RB'), ('I', 'PRP'), ('want', 'VBP'), ('to', 'TO'), ('talk', 'VB'), ('about', 'IN'), ('the', 'DT'), ('themes', 'NNS'), ('in', 'IN'), ('12', 'CD'), ('Years', 'NNS'), ('a', 'DT'), ('Slave', 'VBP'), ('The', 'DT'), ('obvious', 'JJ'), ('one', 'NN'), ('is', 'VBZ'), ('how', 'WRB'), ('bad', 'JJ'), ('slavery', 'NN'), ('is', 'VBZ'), ('However', 'RB'), ('some', 'DT'), ('other', 'JJ'), ('themes', 'NNS'), ('include', 'VBP'), ('human', 'JJ'), ('dignity', 'NN'), ('and', 'CC'), ('how', 'WRB'), ('precious', 'JJ'), ('human', 'JJ'), ('life', 'NN'), ('is', 'VBZ'), ('There', 'EX'), ('are', 'VBP'), ('poor', 'JJ'), ('people', 'NNS'), ('in', 'IN'), ('this', 'DT'), ('world', 'NN'), ('and', 'CC'), ('middleclass', 'NN'), ('people', 'NNS'), ('should', 'MD'), ('not', 'RB'), ('take', 'VB'), ('their', 'PRP$'), ('lives', 'NNS'), ('for', 'IN'), ('granted', 'VBN'), ('The', 'DT'), ('movie', 'NN'), ('is', 'VBZ'), ('very', 'RB'), ('wellwritten', 'JJ'), ('and', 'CC'), ('directed', 'VBD'), ('The', 'DT'), ('movement', 'NN'), ('is', 'VBZ'), ('just', 'RB'), ('perfect', 'JJ'), ('12', 'CD'), ('Years', 'NNS'), ('a', 'DT'), ('Slave', 'NNP'), ('is', 'VBZ'), ('a', 'DT'), ('very', 'RB'), ('thoughtprovoking', 'JJ'), ('and', 'CC'), ('meaningful', 'JJ'), ('movie', 'NN'), ('The', 'DT'), ('brutality', 'NN'), ('of', 'IN'), ('slavery', 'NN'), ('is', 'VBZ'), ('portrayed', 'VBN'), ('quite', 'RB'), ('well', 'RB'), ('in', 'IN'), ('this', 'DT'), ('picutre', 'NN'), ('I', 'PRP'), ('loved', 'VBD'), ('this', 'DT'), ('movie', 'NN'), ('Its', 'PRP$'), ('a', 'DT'), ('very', 'RB'), ('important', 'JJ'), ('film', 'NN'), ('and', 'CC'), ('a', 'DT'), ('reminder', 'NN'), ('of', 'IN'), ('how', 'WRB'), ('terrible', 'JJ'), ('life', 'NN'), ('was', 'VBD'), ('for', 'IN'), ('blacks', 'NNS'), ('in', 'IN'), ('the', 'DT'), ('nation', 'NN'), ('during', 'IN'), ('the', 'DT'), ('1800s', 'CD'), ('12', 'CD'), ('Years', 'NNS'), ('a', 'DT'), ('Slave', 'NNP'), ('is', 'VBZ'), ('my', 'PRP$'), ('favorite', 'JJ'), ('movie', 'NN'), ('released', 'VBN'), ('from', 'IN'), ('2013', 'CD'), ('I', 'PRP'), ('think', 'VBP'), ('it', 'PRP'), ('absolutely', 'RB'), ('no', 'DT'), ('question', 'NN'), ('deserved', 'VBD'), ('the', 'DT'), ('Best', 'JJS'), ('Picture', 'NN'), ('award', 'NN'), ('it', 'PRP'), ('got', 'VBD'), ('at', 'IN'), ('the', 'DT'), ('OscarsR', 'NNP'), ('This', 'DT'), ('is', 'VBZ'), ('one', 'CD'), ('of', 'IN'), ('the', 'DT'), ('most', 'RBS'), ('emotional', 'JJ'), ('and', 'CC'), ('inspirational', 'JJ'), ('movies', 'NNS'), ('ever', 'RB')]\n",
      "[('This', 'DT'), ('movie', 'NN'), ('shows', 'VBZ'), ('how', 'WRB'), ('horrible', 'JJ'), ('slavery', 'NN'), ('was', 'VBD'), ('and', 'CC'), ('doesnt', 'JJ'), ('hold', 'NN'), ('back', 'RP'), ('in', 'IN'), ('showing', 'VBG'), ('how', 'WRB'), ('cruel', 'JJ'), ('it', 'PRP'), ('is', 'VBZ'), ('There', 'EX'), ('is', 'VBZ'), ('whippings', 'NNS'), ('and', 'CC'), ('beatings', 'NNS'), ('as', 'RB'), ('well', 'RB'), ('as', 'IN'), ('a', 'DT'), ('rape', 'NN'), ('scene', 'NN'), ('with', 'IN'), ('no', 'DT'), ('nudity', 'NN'), ('There', 'EX'), ('is', 'VBZ'), ('some', 'DT'), ('nudity', 'NN'), ('not', 'RB'), ('in', 'IN'), ('a', 'DT'), ('sexual', 'JJ'), ('way', 'NN'), ('There', 'EX'), ('is', 'VBZ'), ('lots', 'NNS'), ('of', 'IN'), ('nwords', 'NNS'), ('Other', 'JJ'), ('than', 'IN'), ('that', 'DT'), ('Nothing', 'NN'), ('else', 'RB')]\n",
      "[('Im', 'NNP'), ('11', 'CD'), ('I', 'PRP'), ('watched', 'VBD'), ('this', 'DT'), ('with', 'IN'), ('my', 'PRP$'), ('mother', 'NN'), ('and', 'CC'), ('I', 'PRP'), ('thought', 'VBD'), ('it', 'PRP'), ('was', 'VBD'), ('really', 'RB'), ('good', 'JJ'), ('but', 'CC'), ('its', 'PRP$'), ('a', 'DT'), ('pretty', 'JJ'), ('sad', 'JJ'), ('movie', 'NN'), ('so', 'RB'), ('if', 'IN'), ('you', 'PRP'), ('dont', 'VBP'), ('like', 'IN'), ('sad', 'JJ'), ('movies', 'NNS'), ('you', 'PRP'), ('might', 'MD'), ('not', 'RB'), ('want', 'VB'), ('to', 'TO'), ('watch', 'VB'), ('this', 'DT'), ('It', 'PRP'), ('is', 'VBZ'), ('VERY', 'RB'), ('good', 'JJ'), ('so', 'RB'), ('if', 'IN'), ('you', 'PRP'), ('are', 'VBP'), ('11', 'CD'), ('then', 'RB'), ('its', 'PRP$'), ('probably', 'RB'), ('okay', 'JJ'), ('to', 'TO'), ('watch', 'VB'), ('this', 'DT'), ('movie', 'NN'), ('There', 'EX'), ('were', 'VBD'), ('some', 'DT'), ('pretty', 'RB'), ('incredible', 'JJ'), ('characters', 'NNS'), ('who', 'WP'), ('had', 'VBD'), ('to', 'TO'), ('manage', 'VB'), ('very', 'RB'), ('harsh', 'JJ'), ('situations', 'NNS'), ('and', 'CC'), ('they', 'PRP'), ('handled', 'VBD'), ('it', 'PRP'), ('pretty', 'RB'), ('well', 'RB'), ('There', 'EX'), ('is', 'VBZ'), ('some', 'DT'), ('nice', 'JJ'), ('scenery', 'NN'), ('and', 'CC'), ('the', 'DT'), ('acting', 'NN'), ('is', 'VBZ'), ('very', 'RB'), ('good', 'JJ'), ('The', 'DT'), ('fact', 'NN'), ('that', 'IN'), ('its', 'PRP$'), ('based', 'VBN'), ('on', 'IN'), ('a', 'DT'), ('real', 'JJ'), ('story', 'NN'), ('makes', 'VBZ'), ('it', 'PRP'), ('more', 'RBR'), ('sad', 'JJ'), ('but', 'CC'), ('also', 'RB'), ('inspiring', 'VBG')]\n",
      "[('I', 'PRP'), ('loved', 'VBD'), ('12', 'CD'), ('Years', 'NNS'), ('a', 'DT'), ('Slave', 'VBP'), ('A', 'DT'), ('lot', 'NN'), ('of', 'IN'), ('scenes', 'NNS'), ('in', 'IN'), ('the', 'DT'), ('movie', 'NN'), ('are', 'VBP'), ('sad', 'JJ'), ('and', 'CC'), ('are', 'VBP'), ('hard', 'JJ'), ('to', 'TO'), ('watch', 'VB'), ('yet', 'RB'), ('its', 'PRP$'), ('still', 'RB'), ('a', 'DT'), ('wonderful', 'JJ'), ('film', 'NN')]\n",
      "[('How', 'WRB'), ('can', 'MD'), ('you', 'PRP'), ('give', 'VB'), ('this', 'DT'), ('movie', 'NN'), ('a', 'DT'), ('35', 'CD'), ('language', 'NN'), ('Would', 'MD'), ('you', 'PRP'), ('like', 'VB'), ('to', 'TO'), ('be', 'VB'), ('sworn', 'VBN'), ('at', 'IN'), ('that', 'DT'), ('many', 'JJ'), ('times', 'NNS'), ('Even', 'RB'), ('saying', 'VBG'), ('the', 'DT'), ('35', 'CD'), ('violence', 'NN'), ('made', 'VBD'), ('me', 'PRP'), ('think', 'VB'), ('it', 'PRP'), ('wasnt', 'VBZ'), ('as', 'RB'), ('violent', 'JJ'), ('as', 'IN'), ('other', 'JJ'), ('movies', 'NNS'), ('Ive', 'NNP'), ('seen', 'VBN')]\n",
      "[('It', 'PRP'), ('is', 'VBZ'), ('such', 'JJ'), ('an', 'DT'), ('outstanding', 'JJ'), ('and', 'CC'), ('moving', 'VBG'), ('movie', 'NN'), ('One', 'CD'), ('of', 'IN'), ('the', 'DT'), ('best', 'JJS'), ('Ive', 'NN'), ('seen', 'VBN'), ('Though', 'IN'), ('there', 'EX'), ('is', 'VBZ'), ('A', 'DT'), ('LOT', 'NNP'), ('of', 'IN'), ('cruelty', 'NN'), ('and', 'CC'), ('intense', 'JJ'), ('content', 'NN'), ('In', 'IN'), ('one', 'CD'), ('of', 'IN'), ('the', 'DT'), ('scenes', 'NNS'), ('of', 'IN'), ('the', 'DT'), ('movie', 'NN'), ('it', 'PRP'), ('showed', 'VBD'), ('actor', 'NN'), ('Lupita', 'NNP'), ('Nyngo', 'NNP'), ('getting', 'VBG'), ('whipped', 'VBN'), ('by', 'IN'), ('her', 'PRP$'), ('master', 'NN'), ('whipped', 'VBD'), ('horribly', 'RB'), ('It', 'PRP'), ('is', 'VBZ'), ('important', 'JJ'), ('that', 'IN'), ('you', 'PRP'), ('are', 'VBP'), ('sure', 'JJ'), ('that', 'IN'), ('your', 'PRP$'), ('child', 'NN'), ('is', 'VBZ'), ('mature', 'JJ'), ('enough', 'RB'), ('to', 'TO'), ('watch', 'VB'), ('it', 'PRP'), ('Good', 'JJ'), ('thing', 'NN'), ('is', 'VBZ'), ('there', 'EX'), ('is', 'VBZ'), ('very', 'RB'), ('little', 'JJ'), ('sex', 'NN'), ('and', 'CC'), ('it', 'PRP'), ('gives', 'VBZ'), ('you', 'PRP'), ('a', 'DT'), ('little', 'JJ'), ('bit', 'NN'), ('of', 'IN'), ('history', 'NN'), ('showing', 'VBG'), ('how', 'WRB'), ('it', 'PRP'), ('was', 'VBD'), ('to', 'TO'), ('be', 'VB'), ('a', 'DT'), ('slave', 'NN')]\n",
      "[('good', 'JJ'), ('movie', 'NN'), ('but', 'CC'), ('some', 'DT'), ('sex', 'NN'), ('and', 'CC'), ('violence', 'NN'), ('like', 'IN'), ('when', 'WRB'), ('this', 'DT'), ('man', 'NN'), ('repeatably', 'VBZ'), ('hits', 'VBZ'), ('a', 'DT'), ('stick', 'NN'), ('and', 'CC'), ('when', 'WRB'), ('this', 'DT'), ('pulls', 'VBZ'), ('down', 'RP'), ('a', 'DT'), ('womans', 'JJ'), ('clothes', 'NNS'), ('showing', 'VBG'), ('her', 'PRP$'), ('brests', 'NNS'), ('and', 'CC'), ('backside', 'NN')]\n",
      "[('12', 'CD'), ('Years', 'VBZ'), ('a', 'DT'), ('Slave', 'NNP'), ('is', 'VBZ'), ('a', 'DT'), ('fantastic', 'JJ'), ('movie', 'NN'), ('to', 'TO'), ('watch', 'VB'), ('well', 'RB'), ('if', 'IN'), ('you', 'PRP'), ('can', 'MD'), ('handle', 'VB'), ('it', 'PRP'), ('Thee', 'NNP'), ('are', 'VBP'), ('bloody', 'JJ'), ('scenes', 'NNS'), ('that', 'WDT'), ('are', 'VBP'), ('depressing', 'VBG'), ('and', 'CC'), ('sad', 'JJ'), ('which', 'WDT'), ('will', 'MD'), ('definitely', 'RB'), ('make', 'VB'), ('you', 'PRP'), ('cry', 'VB'), ('But', 'CC'), ('still', 'RB'), ('12', 'CD'), ('Years', 'NNS'), ('a', 'DT'), ('Slave', 'NNP'), ('captures', 'VBZ'), ('the', 'DT'), ('brutal', 'JJ'), ('feeling', 'NN'), ('of', 'IN'), ('slavery', 'NN'), ('but', 'CC'), ('it', 'PRP'), ('does', 'VBZ'), ('it', 'PRP'), ('in', 'IN'), ('a', 'DT'), ('perfect', 'JJ'), ('way', 'NN')]\n"
     ]
    }
   ],
   "source": [
    "for i in data['reviews'].tolist()[:10]:\n",
    "    tokenizer = WhitespaceTokenizer()\n",
    "    \n",
    "    print(pos_tag(tokenizer.tokenize(i)))"
   ]
  },
  {
   "cell_type": "code",
   "execution_count": 76,
   "metadata": {},
   "outputs": [
    {
     "data": {
      "text/plain": [
       "['This', 'is', 'not', 'for', '10', 'year', 'olds']"
      ]
     },
     "execution_count": 76,
     "metadata": {},
     "output_type": "execute_result"
    }
   ],
   "source": [
    "tokenizer = WhitespaceTokenizer()\n",
    "tokenizer.tokenize(test)"
   ]
  },
  {
   "cell_type": "code",
   "execution_count": null,
   "metadata": {},
   "outputs": [],
   "source": []
  }
 ],
 "metadata": {
  "kernelspec": {
   "display_name": "analyze",
   "language": "python",
   "name": "python3"
  },
  "language_info": {
   "codemirror_mode": {
    "name": "ipython",
    "version": 3
   },
   "file_extension": ".py",
   "mimetype": "text/x-python",
   "name": "python",
   "nbconvert_exporter": "python",
   "pygments_lexer": "ipython3",
   "version": "3.9.13"
  },
  "orig_nbformat": 4
 },
 "nbformat": 4,
 "nbformat_minor": 2
}
