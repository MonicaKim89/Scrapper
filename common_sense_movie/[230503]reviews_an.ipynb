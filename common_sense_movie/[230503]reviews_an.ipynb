{
 "cells": [
  {
   "cell_type": "code",
   "execution_count": 1,
   "metadata": {},
   "outputs": [],
   "source": [
    "import pandas as pd\n",
    "import numpy as np\n",
    "import openpyxl\n",
    "import re\n",
    "from tqdm import tqdm\n",
    "import os"
   ]
  },
  {
   "cell_type": "code",
   "execution_count": 2,
   "metadata": {},
   "outputs": [],
   "source": [
    "from nltk.corpus import stopwords\n",
    "from nltk.stem.porter import PorterStemmer\n",
    "from nltk.tokenize import RegexpTokenizer\n",
    "from nltk.tokenize import word_tokenize\n",
    "from nltk.tokenize import sent_tokenize\n",
    "from nltk.tokenize import WhitespaceTokenizer\n",
    "# from nltk.tokenize import WordPunctTokenizer\n",
    "\n",
    "from nltk.corpus import state_union\n",
    "from nltk.tokenize import PunktSentenceTokenizer, word_tokenize\n",
    "from nltk.tag import pos_tag\n",
    "\n",
    "from nltk.stem import WordNetLemmatizer\n",
    "from nltk import ne_chunk"
   ]
  },
  {
   "cell_type": "code",
   "execution_count": 3,
   "metadata": {},
   "outputs": [
    {
     "name": "stderr",
     "output_type": "stream",
     "text": [
      "[nltk_data] Downloading package punkt to /Users/kimmonica/nltk_data...\n",
      "[nltk_data]   Package punkt is already up-to-date!\n",
      "[nltk_data] Downloading package stopwords to\n",
      "[nltk_data]     /Users/kimmonica/nltk_data...\n",
      "[nltk_data]   Package stopwords is already up-to-date!\n",
      "[nltk_data] Downloading package averaged_perceptron_tagger to\n",
      "[nltk_data]     /Users/kimmonica/nltk_data...\n",
      "[nltk_data]   Package averaged_perceptron_tagger is already up-to-\n",
      "[nltk_data]       date!\n",
      "[nltk_data] Downloading package wordnet to\n",
      "[nltk_data]     /Users/kimmonica/nltk_data...\n",
      "[nltk_data]   Package wordnet is already up-to-date!\n",
      "[nltk_data] Downloading package tagsets to\n",
      "[nltk_data]     /Users/kimmonica/nltk_data...\n",
      "[nltk_data]   Package tagsets is already up-to-date!\n",
      "[nltk_data] Downloading package maxent_ne_chunker to\n",
      "[nltk_data]     /Users/kimmonica/nltk_data...\n",
      "[nltk_data]   Package maxent_ne_chunker is already up-to-date!\n",
      "[nltk_data] Downloading package words to /Users/kimmonica/nltk_data...\n",
      "[nltk_data]   Package words is already up-to-date!\n"
     ]
    },
    {
     "data": {
      "text/plain": [
       "True"
      ]
     },
     "execution_count": 3,
     "metadata": {},
     "output_type": "execute_result"
    }
   ],
   "source": [
    "import nltk\n",
    "nltk.download('punkt')\n",
    "nltk.download('stopwords')\n",
    "nltk.download('averaged_perceptron_tagger')\n",
    "nltk.download('wordnet')\n",
    "nltk.download('tagsets')\n",
    "nltk.download('maxent_ne_chunker')\n",
    "nltk.download('words')"
   ]
  },
  {
   "attachments": {},
   "cell_type": "markdown",
   "metadata": {},
   "source": [
    "### def"
   ]
  },
  {
   "cell_type": "code",
   "execution_count": 4,
   "metadata": {},
   "outputs": [],
   "source": [
    "def clean_text(text): \n",
    "    \"\"\" 한글, 영문, 숫자만 남기고 제거한다. \n",
    "    :param text: \n",
    "    :return: \n",
    "    \"\"\" \n",
    "    try:\n",
    "        text = text.replace(\".\", \" \").strip() \n",
    "        text = text.replace(\"·\", \" \").strip() \n",
    "        pattern = '[^ ㄱ-ㅣ가-힣|0-9|a-zA-Z]+' \n",
    "        text = re.sub(pattern=pattern, repl='', string=text)\n",
    "    except:\n",
    "        text = '숫자없음' \n",
    "    return text "
   ]
  },
  {
   "cell_type": "code",
   "execution_count": 5,
   "metadata": {},
   "outputs": [],
   "source": [
    "def clean_words(text): \n",
    "    \"\"\" 한글, 영문, 숫자만 남기고 제거한다. \n",
    "    :param text: \n",
    "    :return: \n",
    "    \"\"\" \n",
    "    try:\n",
    "        text = text.replace(\".\", \" \").strip() \n",
    "        text = text.replace(\"·\", \" \").strip() \n",
    "        pattern = '[^0-9]+' \n",
    "        text = re.sub(pattern=pattern, repl='', string=text) \n",
    "        text = int(text)\n",
    "    except:\n",
    "        text = '숫자없음'\n",
    "    return text "
   ]
  },
  {
   "cell_type": "code",
   "execution_count": 6,
   "metadata": {},
   "outputs": [],
   "source": [
    "stop_words = set(stopwords.words('english')) "
   ]
  },
  {
   "attachments": {},
   "cell_type": "markdown",
   "metadata": {},
   "source": [
    "#### dataset"
   ]
  },
  {
   "cell_type": "code",
   "execution_count": 18,
   "metadata": {},
   "outputs": [],
   "source": [
    "df_path = '/Users/kimmonica/Documents/GitHub/Text_Mining/common_sense_movie/dataset/'\n",
    "file_list = os.listdir(df_path)\n",
    "file_list_py = [file for file in file_list if file.endswith('.xlsx')]\n",
    "\n",
    "df = pd.DataFrame()\n",
    "for i in file_list_py:\n",
    "    data = pd.read_excel(df_path + i)\n",
    "    df = pd.concat([df,data])\n",
    "    \n",
    "df = df.reset_index(drop = True)"
   ]
  },
  {
   "cell_type": "code",
   "execution_count": 19,
   "metadata": {},
   "outputs": [
    {
     "data": {
      "text/html": [
       "<div>\n",
       "<style scoped>\n",
       "    .dataframe tbody tr th:only-of-type {\n",
       "        vertical-align: middle;\n",
       "    }\n",
       "\n",
       "    .dataframe tbody tr th {\n",
       "        vertical-align: top;\n",
       "    }\n",
       "\n",
       "    .dataframe thead th {\n",
       "        text-align: right;\n",
       "    }\n",
       "</style>\n",
       "<table border=\"1\" class=\"dataframe\">\n",
       "  <thead>\n",
       "    <tr style=\"text-align: right;\">\n",
       "      <th></th>\n",
       "      <th>movie_cnt</th>\n",
       "      <th>movie_title</th>\n",
       "      <th>age</th>\n",
       "      <th>reviews</th>\n",
       "    </tr>\n",
       "  </thead>\n",
       "  <tbody>\n",
       "    <tr>\n",
       "      <th>0</th>\n",
       "      <td>245번</td>\n",
       "      <td>Andi Mack</td>\n",
       "      <td>Child</td>\n",
       "      <td>-Why do most of the kids in my school like thi...</td>\n",
       "    </tr>\n",
       "    <tr>\n",
       "      <th>1</th>\n",
       "      <td>245번</td>\n",
       "      <td>Andi Mack</td>\n",
       "      <td>Child</td>\n",
       "      <td>-that show is rated TV-MA</td>\n",
       "    </tr>\n",
       "    <tr>\n",
       "      <th>2</th>\n",
       "      <td>245번</td>\n",
       "      <td>Andi Mack</td>\n",
       "      <td>Child</td>\n",
       "      <td>-I haven't even watched the first episodes, bu...</td>\n",
       "    </tr>\n",
       "    <tr>\n",
       "      <th>3</th>\n",
       "      <td>245번</td>\n",
       "      <td>Andi Mack</td>\n",
       "      <td>Child</td>\n",
       "      <td>-Brah, this is possibly the worst TV show I ha...</td>\n",
       "    </tr>\n",
       "    <tr>\n",
       "      <th>4</th>\n",
       "      <td>245번</td>\n",
       "      <td>Andi Mack</td>\n",
       "      <td>Child</td>\n",
       "      <td>-So everyone is saying that everything about t...</td>\n",
       "    </tr>\n",
       "  </tbody>\n",
       "</table>\n",
       "</div>"
      ],
      "text/plain": [
       "  movie_cnt movie_title    age  \\\n",
       "0      245번   Andi Mack  Child   \n",
       "1      245번   Andi Mack  Child   \n",
       "2      245번   Andi Mack  Child   \n",
       "3      245번   Andi Mack  Child   \n",
       "4      245번   Andi Mack  Child   \n",
       "\n",
       "                                             reviews  \n",
       "0  -Why do most of the kids in my school like thi...  \n",
       "1                          -that show is rated TV-MA  \n",
       "2  -I haven't even watched the first episodes, bu...  \n",
       "3  -Brah, this is possibly the worst TV show I ha...  \n",
       "4  -So everyone is saying that everything about t...  "
      ]
     },
     "execution_count": 19,
     "metadata": {},
     "output_type": "execute_result"
    }
   ],
   "source": [
    "df = df.drop(columns='Unnamed: 0')\n",
    "df.head()"
   ]
  },
  {
   "cell_type": "code",
   "execution_count": 108,
   "metadata": {},
   "outputs": [],
   "source": [
    "df.to_csv('org_reviews.csv')"
   ]
  },
  {
   "cell_type": "code",
   "execution_count": 109,
   "metadata": {},
   "outputs": [
    {
     "data": {
      "text/plain": [
       "'/Users/kimmonica/Documents/GitHub/Text_Mining/common_sense_movie'"
      ]
     },
     "execution_count": 109,
     "metadata": {},
     "output_type": "execute_result"
    }
   ],
   "source": [
    "/pwd"
   ]
  },
  {
   "attachments": {},
   "cell_type": "markdown",
   "metadata": {},
   "source": [
    "#### data loading"
   ]
  },
  {
   "cell_type": "code",
   "execution_count": 20,
   "metadata": {},
   "outputs": [],
   "source": [
    "data = df.copy()"
   ]
  },
  {
   "cell_type": "code",
   "execution_count": 21,
   "metadata": {},
   "outputs": [
    {
     "data": {
      "text/html": [
       "<div>\n",
       "<style scoped>\n",
       "    .dataframe tbody tr th:only-of-type {\n",
       "        vertical-align: middle;\n",
       "    }\n",
       "\n",
       "    .dataframe tbody tr th {\n",
       "        vertical-align: top;\n",
       "    }\n",
       "\n",
       "    .dataframe thead th {\n",
       "        text-align: right;\n",
       "    }\n",
       "</style>\n",
       "<table border=\"1\" class=\"dataframe\">\n",
       "  <thead>\n",
       "    <tr style=\"text-align: right;\">\n",
       "      <th></th>\n",
       "      <th>movie_cnt</th>\n",
       "      <th>movie_title</th>\n",
       "      <th>age</th>\n",
       "      <th>reviews</th>\n",
       "    </tr>\n",
       "  </thead>\n",
       "  <tbody>\n",
       "    <tr>\n",
       "      <th>0</th>\n",
       "      <td>245번</td>\n",
       "      <td>Andi Mack</td>\n",
       "      <td>Child</td>\n",
       "      <td>-Why do most of the kids in my school like thi...</td>\n",
       "    </tr>\n",
       "    <tr>\n",
       "      <th>1</th>\n",
       "      <td>245번</td>\n",
       "      <td>Andi Mack</td>\n",
       "      <td>Child</td>\n",
       "      <td>-that show is rated TV-MA</td>\n",
       "    </tr>\n",
       "    <tr>\n",
       "      <th>2</th>\n",
       "      <td>245번</td>\n",
       "      <td>Andi Mack</td>\n",
       "      <td>Child</td>\n",
       "      <td>-I haven't even watched the first episodes, bu...</td>\n",
       "    </tr>\n",
       "    <tr>\n",
       "      <th>3</th>\n",
       "      <td>245번</td>\n",
       "      <td>Andi Mack</td>\n",
       "      <td>Child</td>\n",
       "      <td>-Brah, this is possibly the worst TV show I ha...</td>\n",
       "    </tr>\n",
       "    <tr>\n",
       "      <th>4</th>\n",
       "      <td>245번</td>\n",
       "      <td>Andi Mack</td>\n",
       "      <td>Child</td>\n",
       "      <td>-So everyone is saying that everything about t...</td>\n",
       "    </tr>\n",
       "  </tbody>\n",
       "</table>\n",
       "</div>"
      ],
      "text/plain": [
       "  movie_cnt movie_title    age  \\\n",
       "0      245번   Andi Mack  Child   \n",
       "1      245번   Andi Mack  Child   \n",
       "2      245번   Andi Mack  Child   \n",
       "3      245번   Andi Mack  Child   \n",
       "4      245번   Andi Mack  Child   \n",
       "\n",
       "                                             reviews  \n",
       "0  -Why do most of the kids in my school like thi...  \n",
       "1                          -that show is rated TV-MA  \n",
       "2  -I haven't even watched the first episodes, bu...  \n",
       "3  -Brah, this is possibly the worst TV show I ha...  \n",
       "4  -So everyone is saying that everything about t...  "
      ]
     },
     "execution_count": 21,
     "metadata": {},
     "output_type": "execute_result"
    }
   ],
   "source": [
    "data.head()"
   ]
  },
  {
   "cell_type": "code",
   "execution_count": 22,
   "metadata": {},
   "outputs": [
    {
     "data": {
      "text/plain": [
       "Child                      94647\n",
       "++++Child                  57020\n",
       "Teen, 13 years old         21511\n",
       "++++Teen, 13 years old     12002\n",
       "Teen, 14 years old         11268\n",
       "Kid, 11 years old           9678\n",
       "Kid, 12 years old           8483\n",
       "Kid, 10 years old           7258\n",
       "++++Teen, 14 years old      6312\n",
       "Teen, 15 years old          6066\n",
       "++++Kid, 11 years old       5614\n",
       "Kid, 9 years old            4928\n",
       "++++Kid, 12 years old       4527\n",
       "++++Kid, 10 years old       4280\n",
       "++++Teen, 15 years old      3091\n",
       "++++Kid, 9 years old        2811\n",
       "Kid, 8 years old            2608\n",
       "Teen, 16 years old          2365\n",
       "Teen, 17 years old          1605\n",
       "++++Kid, 8 years old        1565\n",
       "++++Teen, 16 years old      1229\n",
       "Kid, 7 years old             995\n",
       "++++Teen, 17 years old       691\n",
       "++++Kid, 7 years old         688\n",
       "Kid, 6 years old             498\n",
       "++++Kid, 6 years old         377\n",
       "Adult, 18 years old          185\n",
       "Kid, 0 years old             170\n",
       "++++Kid, 0 years old         136\n",
       "++++Adult, 18 years old      122\n",
       "Kid, 5 years old              71\n",
       "Kid, 2 years old              64\n",
       "++++Kid, 5 years old          59\n",
       "Kid, 3 years old              50\n",
       "Kid, 4 years old              48\n",
       "++++Kid, 2 years old          46\n",
       "++++Kid, 3 years old          30\n",
       "++++Kid, 4 years old          26\n",
       "Kid, 1 years old               4\n",
       "++++Kid, 1 years old           4\n",
       "Name: age, dtype: int64"
      ]
     },
     "execution_count": 22,
     "metadata": {},
     "output_type": "execute_result"
    }
   ],
   "source": [
    "df['age'].value_counts()"
   ]
  },
  {
   "cell_type": "code",
   "execution_count": 23,
   "metadata": {},
   "outputs": [
    {
     "data": {
      "text/plain": [
       "Child                      94647\n",
       "++++Child                  57020\n",
       "Teen, 13 years old         21511\n",
       "++++Teen, 13 years old     12002\n",
       "Teen, 14 years old         11268\n",
       "Kid, 11 years old           9678\n",
       "Kid, 12 years old           8483\n",
       "Kid, 10 years old           7258\n",
       "++++Teen, 14 years old      6312\n",
       "Teen, 15 years old          6066\n",
       "++++Kid, 11 years old       5614\n",
       "Kid, 9 years old            4928\n",
       "++++Kid, 12 years old       4527\n",
       "++++Kid, 10 years old       4280\n",
       "++++Teen, 15 years old      3091\n",
       "++++Kid, 9 years old        2811\n",
       "Kid, 8 years old            2608\n",
       "Teen, 16 years old          2365\n",
       "Teen, 17 years old          1605\n",
       "++++Kid, 8 years old        1565\n",
       "++++Teen, 16 years old      1229\n",
       "Kid, 7 years old             995\n",
       "++++Teen, 17 years old       691\n",
       "++++Kid, 7 years old         688\n",
       "Kid, 6 years old             498\n",
       "++++Kid, 6 years old         377\n",
       "Adult, 18 years old          185\n",
       "Kid, 0 years old             170\n",
       "++++Kid, 0 years old         136\n",
       "++++Adult, 18 years old      122\n",
       "Kid, 5 years old              71\n",
       "Kid, 2 years old              64\n",
       "++++Kid, 5 years old          59\n",
       "Kid, 3 years old              50\n",
       "Kid, 4 years old              48\n",
       "++++Kid, 2 years old          46\n",
       "++++Kid, 3 years old          30\n",
       "++++Kid, 4 years old          26\n",
       "Kid, 1 years old               4\n",
       "++++Kid, 1 years old           4\n",
       "Name: age, dtype: int64"
      ]
     },
     "execution_count": 23,
     "metadata": {},
     "output_type": "execute_result"
    }
   ],
   "source": [
    "data['age'].value_counts()"
   ]
  },
  {
   "cell_type": "code",
   "execution_count": 24,
   "metadata": {},
   "outputs": [],
   "source": [
    "data['age'] = data['age'].apply(clean_text)\n",
    "data['age'] = data['age'].apply(clean_words )"
   ]
  },
  {
   "cell_type": "code",
   "execution_count": 25,
   "metadata": {},
   "outputs": [
    {
     "data": {
      "text/plain": [
       "13    33513\n",
       "14    17580\n",
       "11    15292\n",
       "12    13010\n",
       "10    11538\n",
       "15     9157\n",
       "9      7739\n",
       "8      4173\n",
       "16     3594\n",
       "17     2296\n",
       "7      1683\n",
       "6       875\n",
       "18      307\n",
       "0       306\n",
       "5       130\n",
       "2       110\n",
       "3        80\n",
       "4        74\n",
       "1         8\n",
       "Name: age, dtype: int64"
      ]
     },
     "execution_count": 25,
     "metadata": {},
     "output_type": "execute_result"
    }
   ],
   "source": [
    "data= data[data['age']!='숫자없음']\n",
    "data['age'].value_counts()"
   ]
  },
  {
   "cell_type": "code",
   "execution_count": 26,
   "metadata": {},
   "outputs": [],
   "source": [
    "data['age'] = data['age'].astype(int)"
   ]
  },
  {
   "cell_type": "code",
   "execution_count": 27,
   "metadata": {},
   "outputs": [
    {
     "data": {
      "text/plain": [
       "8    4173\n",
       "7    1683\n",
       "6     875\n",
       "5     130\n",
       "3      80\n",
       "4      74\n",
       "Name: age, dtype: int64"
      ]
     },
     "execution_count": 27,
     "metadata": {},
     "output_type": "execute_result"
    }
   ],
   "source": [
    "data = data[data['age']<9]\n",
    "data = data[data['age']>2]\n",
    "data.age.value_counts()"
   ]
  },
  {
   "cell_type": "code",
   "execution_count": 28,
   "metadata": {},
   "outputs": [],
   "source": [
    "data.to_csv('[230617]child_data.csv')"
   ]
  },
  {
   "attachments": {},
   "cell_type": "markdown",
   "metadata": {},
   "source": [
    "#### preprocessing"
   ]
  },
  {
   "cell_type": "code",
   "execution_count": 29,
   "metadata": {},
   "outputs": [
    {
     "data": {
      "text/html": [
       "<div>\n",
       "<style scoped>\n",
       "    .dataframe tbody tr th:only-of-type {\n",
       "        vertical-align: middle;\n",
       "    }\n",
       "\n",
       "    .dataframe tbody tr th {\n",
       "        vertical-align: top;\n",
       "    }\n",
       "\n",
       "    .dataframe thead th {\n",
       "        text-align: right;\n",
       "    }\n",
       "</style>\n",
       "<table border=\"1\" class=\"dataframe\">\n",
       "  <thead>\n",
       "    <tr style=\"text-align: right;\">\n",
       "      <th></th>\n",
       "      <th>movie_cnt</th>\n",
       "      <th>movie_title</th>\n",
       "      <th>age</th>\n",
       "      <th>reviews</th>\n",
       "    </tr>\n",
       "  </thead>\n",
       "  <tbody>\n",
       "    <tr>\n",
       "      <th>574</th>\n",
       "      <td>264번</td>\n",
       "      <td>Ant-Man</td>\n",
       "      <td>8</td>\n",
       "      <td>-I personally enjoyed this movie. It was funny...</td>\n",
       "    </tr>\n",
       "    <tr>\n",
       "      <th>575</th>\n",
       "      <td>264번</td>\n",
       "      <td>Ant-Man</td>\n",
       "      <td>8</td>\n",
       "      <td>-Clever, funny, cool Marvel movie that has lot...</td>\n",
       "    </tr>\n",
       "    <tr>\n",
       "      <th>576</th>\n",
       "      <td>264번</td>\n",
       "      <td>Ant-Man</td>\n",
       "      <td>8</td>\n",
       "      <td>-A vary good movie. It is a superhero movie so...</td>\n",
       "    </tr>\n",
       "    <tr>\n",
       "      <th>577</th>\n",
       "      <td>264번</td>\n",
       "      <td>Ant-Man</td>\n",
       "      <td>8</td>\n",
       "      <td>-Ant-man is funny and a little violent. The vi...</td>\n",
       "    </tr>\n",
       "    <tr>\n",
       "      <th>578</th>\n",
       "      <td>264번</td>\n",
       "      <td>Ant-Man</td>\n",
       "      <td>8</td>\n",
       "      <td>-I watched Ant Man in theatres in Switzerland ...</td>\n",
       "    </tr>\n",
       "  </tbody>\n",
       "</table>\n",
       "</div>"
      ],
      "text/plain": [
       "    movie_cnt movie_title  age  \\\n",
       "574      264번     Ant-Man    8   \n",
       "575      264번     Ant-Man    8   \n",
       "576      264번     Ant-Man    8   \n",
       "577      264번     Ant-Man    8   \n",
       "578      264번     Ant-Man    8   \n",
       "\n",
       "                                               reviews  \n",
       "574  -I personally enjoyed this movie. It was funny...  \n",
       "575  -Clever, funny, cool Marvel movie that has lot...  \n",
       "576  -A vary good movie. It is a superhero movie so...  \n",
       "577  -Ant-man is funny and a little violent. The vi...  \n",
       "578  -I watched Ant Man in theatres in Switzerland ...  "
      ]
     },
     "execution_count": 29,
     "metadata": {},
     "output_type": "execute_result"
    }
   ],
   "source": [
    "data.head()"
   ]
  },
  {
   "attachments": {},
   "cell_type": "markdown",
   "metadata": {},
   "source": [
    "##### sentence dividing"
   ]
  },
  {
   "cell_type": "code",
   "execution_count": 30,
   "metadata": {},
   "outputs": [],
   "source": [
    "def sent_number(text):\n",
    "    try:\n",
    "        num = len(sent_tokenize(text))\n",
    "    except:\n",
    "        num = '오류'\n",
    "    return num"
   ]
  },
  {
   "cell_type": "code",
   "execution_count": 31,
   "metadata": {},
   "outputs": [
    {
     "data": {
      "text/plain": [
       "(7015, 4)"
      ]
     },
     "execution_count": 31,
     "metadata": {},
     "output_type": "execute_result"
    }
   ],
   "source": [
    "data.shape"
   ]
  },
  {
   "cell_type": "code",
   "execution_count": 32,
   "metadata": {},
   "outputs": [
    {
     "data": {
      "text/html": [
       "<div>\n",
       "<style scoped>\n",
       "    .dataframe tbody tr th:only-of-type {\n",
       "        vertical-align: middle;\n",
       "    }\n",
       "\n",
       "    .dataframe tbody tr th {\n",
       "        vertical-align: top;\n",
       "    }\n",
       "\n",
       "    .dataframe thead th {\n",
       "        text-align: right;\n",
       "    }\n",
       "</style>\n",
       "<table border=\"1\" class=\"dataframe\">\n",
       "  <thead>\n",
       "    <tr style=\"text-align: right;\">\n",
       "      <th></th>\n",
       "      <th>movie_cnt</th>\n",
       "      <th>movie_title</th>\n",
       "      <th>age</th>\n",
       "      <th>reviews</th>\n",
       "      <th>sent_number</th>\n",
       "    </tr>\n",
       "  </thead>\n",
       "  <tbody>\n",
       "    <tr>\n",
       "      <th>574</th>\n",
       "      <td>264번</td>\n",
       "      <td>Ant-Man</td>\n",
       "      <td>8</td>\n",
       "      <td>-I personally enjoyed this movie. It was funny...</td>\n",
       "      <td>3</td>\n",
       "    </tr>\n",
       "    <tr>\n",
       "      <th>575</th>\n",
       "      <td>264번</td>\n",
       "      <td>Ant-Man</td>\n",
       "      <td>8</td>\n",
       "      <td>-Clever, funny, cool Marvel movie that has lot...</td>\n",
       "      <td>1</td>\n",
       "    </tr>\n",
       "    <tr>\n",
       "      <th>576</th>\n",
       "      <td>264번</td>\n",
       "      <td>Ant-Man</td>\n",
       "      <td>8</td>\n",
       "      <td>-A vary good movie. It is a superhero movie so...</td>\n",
       "      <td>3</td>\n",
       "    </tr>\n",
       "    <tr>\n",
       "      <th>577</th>\n",
       "      <td>264번</td>\n",
       "      <td>Ant-Man</td>\n",
       "      <td>8</td>\n",
       "      <td>-Ant-man is funny and a little violent. The vi...</td>\n",
       "      <td>3</td>\n",
       "    </tr>\n",
       "    <tr>\n",
       "      <th>578</th>\n",
       "      <td>264번</td>\n",
       "      <td>Ant-Man</td>\n",
       "      <td>8</td>\n",
       "      <td>-I watched Ant Man in theatres in Switzerland ...</td>\n",
       "      <td>13</td>\n",
       "    </tr>\n",
       "  </tbody>\n",
       "</table>\n",
       "</div>"
      ],
      "text/plain": [
       "    movie_cnt movie_title  age  \\\n",
       "574      264번     Ant-Man    8   \n",
       "575      264번     Ant-Man    8   \n",
       "576      264번     Ant-Man    8   \n",
       "577      264번     Ant-Man    8   \n",
       "578      264번     Ant-Man    8   \n",
       "\n",
       "                                               reviews  sent_number  \n",
       "574  -I personally enjoyed this movie. It was funny...            3  \n",
       "575  -Clever, funny, cool Marvel movie that has lot...            1  \n",
       "576  -A vary good movie. It is a superhero movie so...            3  \n",
       "577  -Ant-man is funny and a little violent. The vi...            3  \n",
       "578  -I watched Ant Man in theatres in Switzerland ...           13  "
      ]
     },
     "execution_count": 32,
     "metadata": {},
     "output_type": "execute_result"
    }
   ],
   "source": [
    "data['sent_number'] = data['reviews'].apply(sent_number)\n",
    "data.head()"
   ]
  },
  {
   "cell_type": "code",
   "execution_count": 33,
   "metadata": {},
   "outputs": [],
   "source": [
    "data['reviews'] = data['reviews'].apply(clean_text)"
   ]
  },
  {
   "cell_type": "code",
   "execution_count": 34,
   "metadata": {},
   "outputs": [
    {
     "data": {
      "text/html": [
       "<div>\n",
       "<style scoped>\n",
       "    .dataframe tbody tr th:only-of-type {\n",
       "        vertical-align: middle;\n",
       "    }\n",
       "\n",
       "    .dataframe tbody tr th {\n",
       "        vertical-align: top;\n",
       "    }\n",
       "\n",
       "    .dataframe thead th {\n",
       "        text-align: right;\n",
       "    }\n",
       "</style>\n",
       "<table border=\"1\" class=\"dataframe\">\n",
       "  <thead>\n",
       "    <tr style=\"text-align: right;\">\n",
       "      <th></th>\n",
       "      <th>movie_cnt</th>\n",
       "      <th>movie_title</th>\n",
       "      <th>age</th>\n",
       "      <th>reviews</th>\n",
       "      <th>sent_number</th>\n",
       "    </tr>\n",
       "  </thead>\n",
       "  <tbody>\n",
       "    <tr>\n",
       "      <th>574</th>\n",
       "      <td>264번</td>\n",
       "      <td>Ant-Man</td>\n",
       "      <td>8</td>\n",
       "      <td>I personally enjoyed this movie  It was funny ...</td>\n",
       "      <td>3</td>\n",
       "    </tr>\n",
       "    <tr>\n",
       "      <th>575</th>\n",
       "      <td>264번</td>\n",
       "      <td>Ant-Man</td>\n",
       "      <td>8</td>\n",
       "      <td>Clever funny cool Marvel movie that has lots o...</td>\n",
       "      <td>1</td>\n",
       "    </tr>\n",
       "    <tr>\n",
       "      <th>576</th>\n",
       "      <td>264번</td>\n",
       "      <td>Ant-Man</td>\n",
       "      <td>8</td>\n",
       "      <td>A vary good movie  It is a superhero movie so ...</td>\n",
       "      <td>3</td>\n",
       "    </tr>\n",
       "    <tr>\n",
       "      <th>577</th>\n",
       "      <td>264번</td>\n",
       "      <td>Ant-Man</td>\n",
       "      <td>8</td>\n",
       "      <td>Antman is funny and a little violent  The viol...</td>\n",
       "      <td>3</td>\n",
       "    </tr>\n",
       "    <tr>\n",
       "      <th>578</th>\n",
       "      <td>264번</td>\n",
       "      <td>Ant-Man</td>\n",
       "      <td>8</td>\n",
       "      <td>I watched Ant Man in theatres in Switzerland w...</td>\n",
       "      <td>13</td>\n",
       "    </tr>\n",
       "  </tbody>\n",
       "</table>\n",
       "</div>"
      ],
      "text/plain": [
       "    movie_cnt movie_title  age  \\\n",
       "574      264번     Ant-Man    8   \n",
       "575      264번     Ant-Man    8   \n",
       "576      264번     Ant-Man    8   \n",
       "577      264번     Ant-Man    8   \n",
       "578      264번     Ant-Man    8   \n",
       "\n",
       "                                               reviews  sent_number  \n",
       "574  I personally enjoyed this movie  It was funny ...            3  \n",
       "575  Clever funny cool Marvel movie that has lots o...            1  \n",
       "576  A vary good movie  It is a superhero movie so ...            3  \n",
       "577  Antman is funny and a little violent  The viol...            3  \n",
       "578  I watched Ant Man in theatres in Switzerland w...           13  "
      ]
     },
     "execution_count": 34,
     "metadata": {},
     "output_type": "execute_result"
    }
   ],
   "source": [
    "data.head()"
   ]
  },
  {
   "cell_type": "code",
   "execution_count": 35,
   "metadata": {},
   "outputs": [
    {
     "data": {
      "text/plain": [
       "'/Users/kimmonica/Documents/GitHub/Text_Mining/common_sense_movie'"
      ]
     },
     "execution_count": 35,
     "metadata": {},
     "output_type": "execute_result"
    }
   ],
   "source": [
    "/pwd"
   ]
  },
  {
   "cell_type": "code",
   "execution_count": 36,
   "metadata": {},
   "outputs": [],
   "source": [
    "data.to_csv('[230617]child_reviews_sentnum.csv')"
   ]
  },
  {
   "cell_type": "code",
   "execution_count": 37,
   "metadata": {},
   "outputs": [
    {
     "name": "stderr",
     "output_type": "stream",
     "text": [
      "100%|██████████| 7015/7015 [00:01<00:00, 5293.98it/s]\n"
     ]
    }
   ],
   "source": [
    "full_result = []\n",
    "for i in tqdm(data.reviews.to_list()):\n",
    "    tokenizer = WhitespaceTokenizer()\n",
    "    word_tokens = tokenizer.tokenize(i)\n",
    "    \n",
    "    result= []\n",
    "    for word in word_tokens:\n",
    "        # word = word.lower()\n",
    "        if word not in stop_words:\n",
    "            lemm = WordNetLemmatizer()\n",
    "            word = lemm.lemmatize(word, pos = 'v')\n",
    "            result.append(word)\n",
    "    \n",
    "    full_result.append(result)\n",
    "    \n"
   ]
  },
  {
   "cell_type": "code",
   "execution_count": 38,
   "metadata": {},
   "outputs": [
    {
     "name": "stderr",
     "output_type": "stream",
     "text": [
      "100%|██████████| 7015/7015 [00:30<00:00, 231.20it/s]\n"
     ]
    }
   ],
   "source": [
    "full_pos = []\n",
    "for for_pos in tqdm(full_result):\n",
    "        k = pos_tag(for_pos)\n",
    "        ner_sentence = ne_chunk(k) ## NER 개체명인식\n",
    "        full_pos.append(ner_sentence)"
   ]
  },
  {
   "cell_type": "code",
   "execution_count": 39,
   "metadata": {},
   "outputs": [
    {
     "name": "stdout",
     "output_type": "stream",
     "text": [
      "7015\n"
     ]
    }
   ],
   "source": [
    "print(len(full_pos))"
   ]
  },
  {
   "cell_type": "code",
   "execution_count": 40,
   "metadata": {},
   "outputs": [
    {
     "data": {
      "text/plain": [
       "(7015, 5)"
      ]
     },
     "execution_count": 40,
     "metadata": {},
     "output_type": "execute_result"
    }
   ],
   "source": [
    "data.shape"
   ]
  },
  {
   "cell_type": "code",
   "execution_count": 41,
   "metadata": {},
   "outputs": [
    {
     "data": {
      "text/html": [
       "<div>\n",
       "<style scoped>\n",
       "    .dataframe tbody tr th:only-of-type {\n",
       "        vertical-align: middle;\n",
       "    }\n",
       "\n",
       "    .dataframe tbody tr th {\n",
       "        vertical-align: top;\n",
       "    }\n",
       "\n",
       "    .dataframe thead th {\n",
       "        text-align: right;\n",
       "    }\n",
       "</style>\n",
       "<table border=\"1\" class=\"dataframe\">\n",
       "  <thead>\n",
       "    <tr style=\"text-align: right;\">\n",
       "      <th></th>\n",
       "      <th>movie_cnt</th>\n",
       "      <th>movie_title</th>\n",
       "      <th>age</th>\n",
       "      <th>reviews</th>\n",
       "      <th>sent_number</th>\n",
       "      <th>full_pos</th>\n",
       "    </tr>\n",
       "  </thead>\n",
       "  <tbody>\n",
       "    <tr>\n",
       "      <th>574</th>\n",
       "      <td>264번</td>\n",
       "      <td>Ant-Man</td>\n",
       "      <td>8</td>\n",
       "      <td>I personally enjoyed this movie  It was funny ...</td>\n",
       "      <td>3</td>\n",
       "      <td>[(I, PRP), (personally, RB), (enjoy, VBP), (mo...</td>\n",
       "    </tr>\n",
       "    <tr>\n",
       "      <th>575</th>\n",
       "      <td>264번</td>\n",
       "      <td>Ant-Man</td>\n",
       "      <td>8</td>\n",
       "      <td>Clever funny cool Marvel movie that has lots o...</td>\n",
       "      <td>1</td>\n",
       "      <td>[[(Clever, NNP)], (funny, JJ), (cool, NN), [(M...</td>\n",
       "    </tr>\n",
       "    <tr>\n",
       "      <th>576</th>\n",
       "      <td>264번</td>\n",
       "      <td>Ant-Man</td>\n",
       "      <td>8</td>\n",
       "      <td>A vary good movie  It is a superhero movie so ...</td>\n",
       "      <td>3</td>\n",
       "      <td>[(A, DT), (vary, JJ), (good, JJ), (movie, NN),...</td>\n",
       "    </tr>\n",
       "    <tr>\n",
       "      <th>577</th>\n",
       "      <td>264번</td>\n",
       "      <td>Ant-Man</td>\n",
       "      <td>8</td>\n",
       "      <td>Antman is funny and a little violent  The viol...</td>\n",
       "      <td>3</td>\n",
       "      <td>[[(Antman, NNP)], (funny, VBD), (little, JJ), ...</td>\n",
       "    </tr>\n",
       "    <tr>\n",
       "      <th>578</th>\n",
       "      <td>264번</td>\n",
       "      <td>Ant-Man</td>\n",
       "      <td>8</td>\n",
       "      <td>I watched Ant Man in theatres in Switzerland w...</td>\n",
       "      <td>13</td>\n",
       "      <td>[(I, PRP), (watch, VBP), [(Ant, NNP), (Man, NN...</td>\n",
       "    </tr>\n",
       "  </tbody>\n",
       "</table>\n",
       "</div>"
      ],
      "text/plain": [
       "    movie_cnt movie_title  age  \\\n",
       "574      264번     Ant-Man    8   \n",
       "575      264번     Ant-Man    8   \n",
       "576      264번     Ant-Man    8   \n",
       "577      264번     Ant-Man    8   \n",
       "578      264번     Ant-Man    8   \n",
       "\n",
       "                                               reviews  sent_number  \\\n",
       "574  I personally enjoyed this movie  It was funny ...            3   \n",
       "575  Clever funny cool Marvel movie that has lots o...            1   \n",
       "576  A vary good movie  It is a superhero movie so ...            3   \n",
       "577  Antman is funny and a little violent  The viol...            3   \n",
       "578  I watched Ant Man in theatres in Switzerland w...           13   \n",
       "\n",
       "                                              full_pos  \n",
       "574  [(I, PRP), (personally, RB), (enjoy, VBP), (mo...  \n",
       "575  [[(Clever, NNP)], (funny, JJ), (cool, NN), [(M...  \n",
       "576  [(A, DT), (vary, JJ), (good, JJ), (movie, NN),...  \n",
       "577  [[(Antman, NNP)], (funny, VBD), (little, JJ), ...  \n",
       "578  [(I, PRP), (watch, VBP), [(Ant, NNP), (Man, NN...  "
      ]
     },
     "execution_count": 41,
     "metadata": {},
     "output_type": "execute_result"
    }
   ],
   "source": [
    "data['full_pos'] = full_pos\n",
    "data.head()"
   ]
  },
  {
   "cell_type": "code",
   "execution_count": 42,
   "metadata": {},
   "outputs": [
    {
     "name": "stderr",
     "output_type": "stream",
     "text": [
      "100%|██████████| 7015/7015 [00:00<00:00, 11031.71it/s]"
     ]
    },
    {
     "name": "stdout",
     "output_type": "stream",
     "text": [
      "7015\n"
     ]
    },
    {
     "name": "stderr",
     "output_type": "stream",
     "text": [
      "\n"
     ]
    }
   ],
   "source": [
    "final_pos =[]\n",
    "\n",
    "for i in tqdm(full_pos):\n",
    "    try:\n",
    "        if len(i)>=0:\n",
    "            test = str(i)\n",
    "            test = test.replace('\\n','')\n",
    "            # print(test)\n",
    "\n",
    "            test_list= test.split('  ')\n",
    "            result= []\n",
    "            for i in test_list:\n",
    "                \n",
    "                if i[1].isupper()==True:\n",
    "                    pass\n",
    "                else:\n",
    "                    result.append(i)\n",
    "            org_result = []\n",
    "            for i in result:\n",
    "                text = str(i)\n",
    "                text = text.split('/')[0]\n",
    "                word = text.lower()\n",
    "                if word not in stop_words:\n",
    "                    lemm = WordNetLemmatizer()\n",
    "                    word = lemm.lemmatize(word, pos = 'v')\n",
    "\n",
    "                    # if len(word)>2:\n",
    "                    org_result.append(word)\n",
    "            final_pos.append(org_result)\n",
    "    except:\n",
    "        final_pos.append('passed')\n",
    "        pass\n",
    "\n",
    "print(len(final_pos))"
   ]
  },
  {
   "cell_type": "code",
   "execution_count": 43,
   "metadata": {},
   "outputs": [],
   "source": [
    "data['final_pos'] = final_pos"
   ]
  },
  {
   "cell_type": "code",
   "execution_count": 44,
   "metadata": {},
   "outputs": [],
   "source": [
    "data.to_csv('[230617]fianl_pos.csv')"
   ]
  },
  {
   "cell_type": "code",
   "execution_count": 45,
   "metadata": {},
   "outputs": [
    {
     "name": "stderr",
     "output_type": "stream",
     "text": [
      "100%|██████████| 7015/7015 [00:05<00:00, 1334.40it/s]"
     ]
    },
    {
     "name": "stdout",
     "output_type": "stream",
     "text": [
      "7015\n"
     ]
    },
    {
     "name": "stderr",
     "output_type": "stream",
     "text": [
      "\n"
     ]
    }
   ],
   "source": [
    "final_pos_tag = []\n",
    "\n",
    "for i in tqdm(final_pos):\n",
    "    try:\n",
    "        i = pos_tag(i)\n",
    "        final_pos_tag.append(i)\n",
    "    except:\n",
    "        i = '오류'\n",
    "        final_pos_tag.append(i)\n",
    "        pass\n",
    "\n",
    "print(len(final_pos_tag))"
   ]
  },
  {
   "cell_type": "code",
   "execution_count": 46,
   "metadata": {},
   "outputs": [],
   "source": [
    "data['final_pos_tag'] = final_pos_tag"
   ]
  },
  {
   "cell_type": "code",
   "execution_count": 47,
   "metadata": {},
   "outputs": [],
   "source": [
    "data.to_csv('[230617]final_pos_tag.csv')"
   ]
  },
  {
   "cell_type": "code",
   "execution_count": 50,
   "metadata": {},
   "outputs": [
    {
     "data": {
      "text/plain": [
       "'/Users/kimmonica/Documents/GitHub/Text_Mining/common_sense_movie'"
      ]
     },
     "execution_count": 50,
     "metadata": {},
     "output_type": "execute_result"
    }
   ],
   "source": [
    "/pwd"
   ]
  },
  {
   "attachments": {},
   "cell_type": "markdown",
   "metadata": {},
   "source": [
    "##### ne_chunk로 NER한 후, 재tagging"
   ]
  },
  {
   "cell_type": "code",
   "execution_count": 48,
   "metadata": {},
   "outputs": [
    {
     "data": {
      "text/html": [
       "<div>\n",
       "<style scoped>\n",
       "    .dataframe tbody tr th:only-of-type {\n",
       "        vertical-align: middle;\n",
       "    }\n",
       "\n",
       "    .dataframe tbody tr th {\n",
       "        vertical-align: top;\n",
       "    }\n",
       "\n",
       "    .dataframe thead th {\n",
       "        text-align: right;\n",
       "    }\n",
       "</style>\n",
       "<table border=\"1\" class=\"dataframe\">\n",
       "  <thead>\n",
       "    <tr style=\"text-align: right;\">\n",
       "      <th></th>\n",
       "      <th>movie_cnt</th>\n",
       "      <th>movie_title</th>\n",
       "      <th>age</th>\n",
       "      <th>reviews</th>\n",
       "      <th>sent_number</th>\n",
       "      <th>full_pos</th>\n",
       "      <th>final_pos</th>\n",
       "      <th>final_pos_tag</th>\n",
       "    </tr>\n",
       "  </thead>\n",
       "  <tbody>\n",
       "    <tr>\n",
       "      <th>574</th>\n",
       "      <td>264번</td>\n",
       "      <td>Ant-Man</td>\n",
       "      <td>8</td>\n",
       "      <td>I personally enjoyed this movie  It was funny ...</td>\n",
       "      <td>3</td>\n",
       "      <td>[(I, PRP), (personally, RB), (enjoy, VBP), (mo...</td>\n",
       "      <td>[personally, enjoy, movie, funny, plot, decent...</td>\n",
       "      <td>[(personally, RB), (enjoy, JJ), (movie, NN), (...</td>\n",
       "    </tr>\n",
       "    <tr>\n",
       "      <th>575</th>\n",
       "      <td>264번</td>\n",
       "      <td>Ant-Man</td>\n",
       "      <td>8</td>\n",
       "      <td>Clever funny cool Marvel movie that has lots o...</td>\n",
       "      <td>1</td>\n",
       "      <td>[[(Clever, NNP)], (funny, JJ), (cool, NN), [(M...</td>\n",
       "      <td>[funny, cool, movie, lot, scifi, action]</td>\n",
       "      <td>[(funny, JJ), (cool, JJ), (movie, NN), (lot, N...</td>\n",
       "    </tr>\n",
       "    <tr>\n",
       "      <th>576</th>\n",
       "      <td>264번</td>\n",
       "      <td>Ant-Man</td>\n",
       "      <td>8</td>\n",
       "      <td>A vary good movie  It is a superhero movie so ...</td>\n",
       "      <td>3</td>\n",
       "      <td>[(A, DT), (vary, JJ), (good, JJ), (movie, NN),...</td>\n",
       "      <td>[vary, good, movie, superhero, movie, theres, ...</td>\n",
       "      <td>[(vary, JJ), (good, JJ), (movie, NN), (superhe...</td>\n",
       "    </tr>\n",
       "    <tr>\n",
       "      <th>577</th>\n",
       "      <td>264번</td>\n",
       "      <td>Ant-Man</td>\n",
       "      <td>8</td>\n",
       "      <td>Antman is funny and a little violent  The viol...</td>\n",
       "      <td>3</td>\n",
       "      <td>[[(Antman, NNP)], (funny, VBD), (little, JJ), ...</td>\n",
       "      <td>[funny, little, violent, violence, pretty, sta...</td>\n",
       "      <td>[(funny, JJ), (little, JJ), (violent, JJ), (vi...</td>\n",
       "    </tr>\n",
       "    <tr>\n",
       "      <th>578</th>\n",
       "      <td>264번</td>\n",
       "      <td>Ant-Man</td>\n",
       "      <td>8</td>\n",
       "      <td>I watched Ant Man in theatres in Switzerland w...</td>\n",
       "      <td>13</td>\n",
       "      <td>[(I, PRP), (watch, VBP), [(Ant, NNP), (Man, NN...</td>\n",
       "      <td>[watch, theatres, brother, mom, review, mine, ...</td>\n",
       "      <td>[(watch, NN), (theatres, VBZ), (brother, JJR),...</td>\n",
       "    </tr>\n",
       "  </tbody>\n",
       "</table>\n",
       "</div>"
      ],
      "text/plain": [
       "    movie_cnt movie_title  age  \\\n",
       "574      264번     Ant-Man    8   \n",
       "575      264번     Ant-Man    8   \n",
       "576      264번     Ant-Man    8   \n",
       "577      264번     Ant-Man    8   \n",
       "578      264번     Ant-Man    8   \n",
       "\n",
       "                                               reviews  sent_number  \\\n",
       "574  I personally enjoyed this movie  It was funny ...            3   \n",
       "575  Clever funny cool Marvel movie that has lots o...            1   \n",
       "576  A vary good movie  It is a superhero movie so ...            3   \n",
       "577  Antman is funny and a little violent  The viol...            3   \n",
       "578  I watched Ant Man in theatres in Switzerland w...           13   \n",
       "\n",
       "                                              full_pos  \\\n",
       "574  [(I, PRP), (personally, RB), (enjoy, VBP), (mo...   \n",
       "575  [[(Clever, NNP)], (funny, JJ), (cool, NN), [(M...   \n",
       "576  [(A, DT), (vary, JJ), (good, JJ), (movie, NN),...   \n",
       "577  [[(Antman, NNP)], (funny, VBD), (little, JJ), ...   \n",
       "578  [(I, PRP), (watch, VBP), [(Ant, NNP), (Man, NN...   \n",
       "\n",
       "                                             final_pos  \\\n",
       "574  [personally, enjoy, movie, funny, plot, decent...   \n",
       "575           [funny, cool, movie, lot, scifi, action]   \n",
       "576  [vary, good, movie, superhero, movie, theres, ...   \n",
       "577  [funny, little, violent, violence, pretty, sta...   \n",
       "578  [watch, theatres, brother, mom, review, mine, ...   \n",
       "\n",
       "                                         final_pos_tag  \n",
       "574  [(personally, RB), (enjoy, JJ), (movie, NN), (...  \n",
       "575  [(funny, JJ), (cool, JJ), (movie, NN), (lot, N...  \n",
       "576  [(vary, JJ), (good, JJ), (movie, NN), (superhe...  \n",
       "577  [(funny, JJ), (little, JJ), (violent, JJ), (vi...  \n",
       "578  [(watch, NN), (theatres, VBZ), (brother, JJR),...  "
      ]
     },
     "execution_count": 48,
     "metadata": {},
     "output_type": "execute_result"
    }
   ],
   "source": [
    "data.head()"
   ]
  },
  {
   "cell_type": "code",
   "execution_count": 49,
   "metadata": {},
   "outputs": [
    {
     "data": {
      "text/plain": [
       "[('personally', 'RB'),\n",
       " ('enjoy', 'JJ'),\n",
       " ('movie', 'NN'),\n",
       " ('funny', 'JJ'),\n",
       " ('plot', 'NN'),\n",
       " ('decent', 'NN'),\n",
       " ('thankfully', 'RB'),\n",
       " ('probably', 'RB'),\n",
       " ('others', 'NNS'),\n",
       " ('wasnt', 'RB'),\n",
       " ('much', 'JJ'),\n",
       " ('term', 'NN'),\n",
       " ('sexual', 'JJ'),\n",
       " ('innuendos', 'NN'),\n",
       " ('kiss', 'JJ'),\n",
       " ('comment', 'NN'),\n",
       " ('relate', 'NN'),\n",
       " ('topic', 'NN'),\n",
       " ('overall', 'JJ'),\n",
       " ('wasnt', 'NN'),\n",
       " ('bad', 'JJ'),\n",
       " ('iron', 'NN'),\n",
       " ('man', 'NN')]"
      ]
     },
     "execution_count": 49,
     "metadata": {},
     "output_type": "execute_result"
    }
   ],
   "source": [
    "data.final_pos_tag.tolist()[0]"
   ]
  },
  {
   "cell_type": "code",
   "execution_count": null,
   "metadata": {},
   "outputs": [],
   "source": []
  },
  {
   "cell_type": "code",
   "execution_count": null,
   "metadata": {},
   "outputs": [],
   "source": []
  },
  {
   "cell_type": "code",
   "execution_count": null,
   "metadata": {},
   "outputs": [],
   "source": []
  },
  {
   "cell_type": "code",
   "execution_count": null,
   "metadata": {},
   "outputs": [],
   "source": []
  },
  {
   "cell_type": "code",
   "execution_count": null,
   "metadata": {},
   "outputs": [],
   "source": []
  },
  {
   "cell_type": "code",
   "execution_count": 241,
   "metadata": {},
   "outputs": [
    {
     "name": "stdout",
     "output_type": "stream",
     "text": [
      "Apple is looking at buying U.K. startup for $ 1 billion\n"
     ]
    }
   ],
   "source": [
    "import nltk\n",
    "\n",
    "# Example sentence\n",
    "sentence = \"Apple is looking at buying U.K. startup for $1 billion\"\n",
    "\n",
    "# Tokenize the sentence\n",
    "tokens = nltk.word_tokenize(sentence)\n",
    "\n",
    "# Perform part-of-speech tagging\n",
    "pos_tags = nltk.pos_tag(tokens)\n",
    "\n",
    "# Perform named entity recognition\n",
    "chunked = nltk.ne_chunk(pos_tags)\n",
    "\n",
    "# Remove named entities from the original sentence\n",
    "filtered_sentence = ' '.join([w[0] for w in pos_tags if not hasattr(w, 'label')])\n",
    "\n",
    "print(filtered_sentence)"
   ]
  },
  {
   "attachments": {},
   "cell_type": "markdown",
   "metadata": {},
   "source": [
    "### RRE"
   ]
  },
  {
   "cell_type": "code",
   "execution_count": 51,
   "metadata": {},
   "outputs": [
    {
     "data": {
      "text/html": [
       "<div>\n",
       "<style scoped>\n",
       "    .dataframe tbody tr th:only-of-type {\n",
       "        vertical-align: middle;\n",
       "    }\n",
       "\n",
       "    .dataframe tbody tr th {\n",
       "        vertical-align: top;\n",
       "    }\n",
       "\n",
       "    .dataframe thead th {\n",
       "        text-align: right;\n",
       "    }\n",
       "</style>\n",
       "<table border=\"1\" class=\"dataframe\">\n",
       "  <thead>\n",
       "    <tr style=\"text-align: right;\">\n",
       "      <th></th>\n",
       "      <th>Unnamed: 0</th>\n",
       "      <th>movie_cnt</th>\n",
       "      <th>movie_title</th>\n",
       "      <th>age</th>\n",
       "      <th>reviews</th>\n",
       "    </tr>\n",
       "  </thead>\n",
       "  <tbody>\n",
       "    <tr>\n",
       "      <th>0</th>\n",
       "      <td>574</td>\n",
       "      <td>264번</td>\n",
       "      <td>Ant-Man</td>\n",
       "      <td>8</td>\n",
       "      <td>-I personally enjoyed this movie. It was funny...</td>\n",
       "    </tr>\n",
       "    <tr>\n",
       "      <th>1</th>\n",
       "      <td>575</td>\n",
       "      <td>264번</td>\n",
       "      <td>Ant-Man</td>\n",
       "      <td>8</td>\n",
       "      <td>-Clever, funny, cool Marvel movie that has lot...</td>\n",
       "    </tr>\n",
       "    <tr>\n",
       "      <th>2</th>\n",
       "      <td>576</td>\n",
       "      <td>264번</td>\n",
       "      <td>Ant-Man</td>\n",
       "      <td>8</td>\n",
       "      <td>-A vary good movie. It is a superhero movie so...</td>\n",
       "    </tr>\n",
       "    <tr>\n",
       "      <th>3</th>\n",
       "      <td>577</td>\n",
       "      <td>264번</td>\n",
       "      <td>Ant-Man</td>\n",
       "      <td>8</td>\n",
       "      <td>-Ant-man is funny and a little violent. The vi...</td>\n",
       "    </tr>\n",
       "    <tr>\n",
       "      <th>4</th>\n",
       "      <td>578</td>\n",
       "      <td>264번</td>\n",
       "      <td>Ant-Man</td>\n",
       "      <td>8</td>\n",
       "      <td>-I watched Ant Man in theatres in Switzerland ...</td>\n",
       "    </tr>\n",
       "  </tbody>\n",
       "</table>\n",
       "</div>"
      ],
      "text/plain": [
       "   Unnamed: 0 movie_cnt movie_title  age  \\\n",
       "0         574      264번     Ant-Man    8   \n",
       "1         575      264번     Ant-Man    8   \n",
       "2         576      264번     Ant-Man    8   \n",
       "3         577      264번     Ant-Man    8   \n",
       "4         578      264번     Ant-Man    8   \n",
       "\n",
       "                                             reviews  \n",
       "0  -I personally enjoyed this movie. It was funny...  \n",
       "1  -Clever, funny, cool Marvel movie that has lot...  \n",
       "2  -A vary good movie. It is a superhero movie so...  \n",
       "3  -Ant-man is funny and a little violent. The vi...  \n",
       "4  -I watched Ant Man in theatres in Switzerland ...  "
      ]
     },
     "execution_count": 51,
     "metadata": {},
     "output_type": "execute_result"
    }
   ],
   "source": [
    "df = pd.read_csv('/Users/kimmonica/Documents/GitHub/Text_Mining/common_sense_movie/[230617]child_data.csv')\n",
    "df.head()"
   ]
  },
  {
   "cell_type": "code",
   "execution_count": 52,
   "metadata": {},
   "outputs": [
    {
     "name": "stdout",
     "output_type": "stream",
     "text": [
      "(7015, 2)\n",
      "(2231, 2)\n"
     ]
    }
   ],
   "source": [
    "data = df[['age', 'reviews']]\n",
    "print(data.shape)\n",
    "data = data.drop_duplicates()\n",
    "print(data.shape)\n",
    "data.to_csv('final_use.csv')"
   ]
  },
  {
   "cell_type": "code",
   "execution_count": null,
   "metadata": {},
   "outputs": [],
   "source": []
  }
 ],
 "metadata": {
  "kernelspec": {
   "display_name": "analyze",
   "language": "python",
   "name": "python3"
  },
  "language_info": {
   "codemirror_mode": {
    "name": "ipython",
    "version": 3
   },
   "file_extension": ".py",
   "mimetype": "text/x-python",
   "name": "python",
   "nbconvert_exporter": "python",
   "pygments_lexer": "ipython3",
   "version": "3.9.13"
  },
  "orig_nbformat": 4
 },
 "nbformat": 4,
 "nbformat_minor": 2
}
