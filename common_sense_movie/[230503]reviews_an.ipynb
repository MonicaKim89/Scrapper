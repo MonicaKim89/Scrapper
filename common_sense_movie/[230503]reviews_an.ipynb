{
 "cells": [
  {
   "cell_type": "code",
   "execution_count": 98,
   "metadata": {},
   "outputs": [],
   "source": [
    "import pandas as pd\n",
    "import numpy as np\n",
    "import openpyxl\n",
    "import re\n",
    "from tqdm import tqdm\n",
    "import os"
   ]
  },
  {
   "cell_type": "code",
   "execution_count": 229,
   "metadata": {},
   "outputs": [],
   "source": [
    "from nltk.corpus import stopwords\n",
    "from nltk.stem.porter import PorterStemmer\n",
    "from nltk.tokenize import RegexpTokenizer\n",
    "from nltk.tokenize import word_tokenize\n",
    "from nltk.tokenize import sent_tokenize\n",
    "from nltk.tokenize import WhitespaceTokenizer\n",
    "# from nltk.tokenize import WordPunctTokenizer\n",
    "\n",
    "from nltk.corpus import state_union\n",
    "from nltk.tokenize import PunktSentenceTokenizer, word_tokenize\n",
    "from nltk.tag import pos_tag\n",
    "\n",
    "from nltk.stem import WordNetLemmatizer\n",
    "from nltk import ne_chunk"
   ]
  },
  {
   "cell_type": "code",
   "execution_count": 233,
   "metadata": {},
   "outputs": [
    {
     "name": "stderr",
     "output_type": "stream",
     "text": [
      "[nltk_data] Downloading package words to /Users/kimmonica/nltk_data...\n",
      "[nltk_data]   Unzipping corpora/words.zip.\n"
     ]
    },
    {
     "data": {
      "text/plain": [
       "True"
      ]
     },
     "execution_count": 233,
     "metadata": {},
     "output_type": "execute_result"
    }
   ],
   "source": [
    "import nltk\n",
    "nltk.download('punkt')\n",
    "nltk.download('stopwords')\n",
    "nltk.download('averaged_perceptron_tagger')\n",
    "nltk.download('wordnet')\n",
    "nltk.download('tagsets')\n",
    "nltk.download('maxent_ne_chunker')\n",
    "nltk.download('words')"
   ]
  },
  {
   "attachments": {},
   "cell_type": "markdown",
   "metadata": {},
   "source": [
    "### def"
   ]
  },
  {
   "cell_type": "code",
   "execution_count": 116,
   "metadata": {},
   "outputs": [],
   "source": [
    "def clean_text(text): \n",
    "    \"\"\" 한글, 영문, 숫자만 남기고 제거한다. \n",
    "    :param text: \n",
    "    :return: \n",
    "    \"\"\" \n",
    "    try:\n",
    "        text = text.replace(\".\", \" \").strip() \n",
    "        text = text.replace(\"·\", \" \").strip() \n",
    "        pattern = '[^ ㄱ-ㅣ가-힣|0-9|a-zA-Z]+' \n",
    "        text = re.sub(pattern=pattern, repl='', string=text)\n",
    "    except:\n",
    "        text = '숫자없음' \n",
    "    return text "
   ]
  },
  {
   "cell_type": "code",
   "execution_count": 117,
   "metadata": {},
   "outputs": [],
   "source": [
    "def clean_words(text): \n",
    "    \"\"\" 한글, 영문, 숫자만 남기고 제거한다. \n",
    "    :param text: \n",
    "    :return: \n",
    "    \"\"\" \n",
    "    try:\n",
    "        text = text.replace(\".\", \" \").strip() \n",
    "        text = text.replace(\"·\", \" \").strip() \n",
    "        pattern = '[^0-9]+' \n",
    "        text = re.sub(pattern=pattern, repl='', string=text) \n",
    "        text = int(text)\n",
    "    except:\n",
    "        text = '숫자없음'\n",
    "    return text "
   ]
  },
  {
   "cell_type": "code",
   "execution_count": 156,
   "metadata": {},
   "outputs": [],
   "source": [
    "stop_words = set(stopwords.words('english')) "
   ]
  },
  {
   "attachments": {},
   "cell_type": "markdown",
   "metadata": {},
   "source": [
    "#### dataset"
   ]
  },
  {
   "cell_type": "code",
   "execution_count": 101,
   "metadata": {},
   "outputs": [],
   "source": [
    "df_path = '/Users/kimmonica/Documents/GitHub/Text_Mining/common_sense_movie/dataset/'\n",
    "file_list = os.listdir(df_path)\n",
    "file_list_py = [file for file in file_list if file.endswith('.xlsx')]\n",
    "\n",
    "df = pd.DataFrame()\n",
    "for i in file_list_py:\n",
    "    data = pd.read_excel(df_path + i)\n",
    "    df = pd.concat([df,data])\n",
    "    \n",
    "df = df.reset_index(drop = True)"
   ]
  },
  {
   "cell_type": "code",
   "execution_count": 107,
   "metadata": {},
   "outputs": [
    {
     "data": {
      "text/html": [
       "<div>\n",
       "<style scoped>\n",
       "    .dataframe tbody tr th:only-of-type {\n",
       "        vertical-align: middle;\n",
       "    }\n",
       "\n",
       "    .dataframe tbody tr th {\n",
       "        vertical-align: top;\n",
       "    }\n",
       "\n",
       "    .dataframe thead th {\n",
       "        text-align: right;\n",
       "    }\n",
       "</style>\n",
       "<table border=\"1\" class=\"dataframe\">\n",
       "  <thead>\n",
       "    <tr style=\"text-align: right;\">\n",
       "      <th></th>\n",
       "      <th>movie_cnt</th>\n",
       "      <th>movie_title</th>\n",
       "      <th>age</th>\n",
       "      <th>reviews</th>\n",
       "    </tr>\n",
       "  </thead>\n",
       "  <tbody>\n",
       "    <tr>\n",
       "      <th>0</th>\n",
       "      <td>245번</td>\n",
       "      <td>Andi Mack</td>\n",
       "      <td>Child</td>\n",
       "      <td>-Why do most of the kids in my school like thi...</td>\n",
       "    </tr>\n",
       "    <tr>\n",
       "      <th>1</th>\n",
       "      <td>245번</td>\n",
       "      <td>Andi Mack</td>\n",
       "      <td>Child</td>\n",
       "      <td>-that show is rated TV-MA</td>\n",
       "    </tr>\n",
       "    <tr>\n",
       "      <th>2</th>\n",
       "      <td>245번</td>\n",
       "      <td>Andi Mack</td>\n",
       "      <td>Child</td>\n",
       "      <td>-I haven't even watched the first episodes, bu...</td>\n",
       "    </tr>\n",
       "    <tr>\n",
       "      <th>3</th>\n",
       "      <td>245번</td>\n",
       "      <td>Andi Mack</td>\n",
       "      <td>Child</td>\n",
       "      <td>-Brah, this is possibly the worst TV show I ha...</td>\n",
       "    </tr>\n",
       "    <tr>\n",
       "      <th>4</th>\n",
       "      <td>245번</td>\n",
       "      <td>Andi Mack</td>\n",
       "      <td>Child</td>\n",
       "      <td>-So everyone is saying that everything about t...</td>\n",
       "    </tr>\n",
       "  </tbody>\n",
       "</table>\n",
       "</div>"
      ],
      "text/plain": [
       "  movie_cnt movie_title    age  \\\n",
       "0      245번   Andi Mack  Child   \n",
       "1      245번   Andi Mack  Child   \n",
       "2      245번   Andi Mack  Child   \n",
       "3      245번   Andi Mack  Child   \n",
       "4      245번   Andi Mack  Child   \n",
       "\n",
       "                                             reviews  \n",
       "0  -Why do most of the kids in my school like thi...  \n",
       "1                          -that show is rated TV-MA  \n",
       "2  -I haven't even watched the first episodes, bu...  \n",
       "3  -Brah, this is possibly the worst TV show I ha...  \n",
       "4  -So everyone is saying that everything about t...  "
      ]
     },
     "execution_count": 107,
     "metadata": {},
     "output_type": "execute_result"
    }
   ],
   "source": [
    "df = df.drop(columns='Unnamed: 0')\n",
    "df.head()"
   ]
  },
  {
   "cell_type": "code",
   "execution_count": 108,
   "metadata": {},
   "outputs": [],
   "source": [
    "df.to_csv('org_reviews.csv')"
   ]
  },
  {
   "cell_type": "code",
   "execution_count": 109,
   "metadata": {},
   "outputs": [
    {
     "data": {
      "text/plain": [
       "'/Users/kimmonica/Documents/GitHub/Text_Mining/common_sense_movie'"
      ]
     },
     "execution_count": 109,
     "metadata": {},
     "output_type": "execute_result"
    }
   ],
   "source": [
    "/pwd"
   ]
  },
  {
   "attachments": {},
   "cell_type": "markdown",
   "metadata": {},
   "source": [
    "#### data loading"
   ]
  },
  {
   "cell_type": "code",
   "execution_count": 118,
   "metadata": {},
   "outputs": [],
   "source": [
    "data = df.copy()"
   ]
  },
  {
   "cell_type": "code",
   "execution_count": 111,
   "metadata": {},
   "outputs": [
    {
     "data": {
      "text/html": [
       "<div>\n",
       "<style scoped>\n",
       "    .dataframe tbody tr th:only-of-type {\n",
       "        vertical-align: middle;\n",
       "    }\n",
       "\n",
       "    .dataframe tbody tr th {\n",
       "        vertical-align: top;\n",
       "    }\n",
       "\n",
       "    .dataframe thead th {\n",
       "        text-align: right;\n",
       "    }\n",
       "</style>\n",
       "<table border=\"1\" class=\"dataframe\">\n",
       "  <thead>\n",
       "    <tr style=\"text-align: right;\">\n",
       "      <th></th>\n",
       "      <th>movie_cnt</th>\n",
       "      <th>movie_title</th>\n",
       "      <th>age</th>\n",
       "      <th>reviews</th>\n",
       "    </tr>\n",
       "  </thead>\n",
       "  <tbody>\n",
       "    <tr>\n",
       "      <th>0</th>\n",
       "      <td>245번</td>\n",
       "      <td>Andi Mack</td>\n",
       "      <td>Child</td>\n",
       "      <td>-Why do most of the kids in my school like thi...</td>\n",
       "    </tr>\n",
       "    <tr>\n",
       "      <th>1</th>\n",
       "      <td>245번</td>\n",
       "      <td>Andi Mack</td>\n",
       "      <td>Child</td>\n",
       "      <td>-that show is rated TV-MA</td>\n",
       "    </tr>\n",
       "    <tr>\n",
       "      <th>2</th>\n",
       "      <td>245번</td>\n",
       "      <td>Andi Mack</td>\n",
       "      <td>Child</td>\n",
       "      <td>-I haven't even watched the first episodes, bu...</td>\n",
       "    </tr>\n",
       "    <tr>\n",
       "      <th>3</th>\n",
       "      <td>245번</td>\n",
       "      <td>Andi Mack</td>\n",
       "      <td>Child</td>\n",
       "      <td>-Brah, this is possibly the worst TV show I ha...</td>\n",
       "    </tr>\n",
       "    <tr>\n",
       "      <th>4</th>\n",
       "      <td>245번</td>\n",
       "      <td>Andi Mack</td>\n",
       "      <td>Child</td>\n",
       "      <td>-So everyone is saying that everything about t...</td>\n",
       "    </tr>\n",
       "  </tbody>\n",
       "</table>\n",
       "</div>"
      ],
      "text/plain": [
       "  movie_cnt movie_title    age  \\\n",
       "0      245번   Andi Mack  Child   \n",
       "1      245번   Andi Mack  Child   \n",
       "2      245번   Andi Mack  Child   \n",
       "3      245번   Andi Mack  Child   \n",
       "4      245번   Andi Mack  Child   \n",
       "\n",
       "                                             reviews  \n",
       "0  -Why do most of the kids in my school like thi...  \n",
       "1                          -that show is rated TV-MA  \n",
       "2  -I haven't even watched the first episodes, bu...  \n",
       "3  -Brah, this is possibly the worst TV show I ha...  \n",
       "4  -So everyone is saying that everything about t...  "
      ]
     },
     "execution_count": 111,
     "metadata": {},
     "output_type": "execute_result"
    }
   ],
   "source": [
    "data.head()"
   ]
  },
  {
   "cell_type": "code",
   "execution_count": 113,
   "metadata": {},
   "outputs": [
    {
     "data": {
      "text/plain": [
       "Child                      94647\n",
       "++++Child                  57020\n",
       "Teen, 13 years old         21511\n",
       "++++Teen, 13 years old     12002\n",
       "Teen, 14 years old         11268\n",
       "Kid, 11 years old           9678\n",
       "Kid, 12 years old           8483\n",
       "Kid, 10 years old           7258\n",
       "++++Teen, 14 years old      6312\n",
       "Teen, 15 years old          6066\n",
       "++++Kid, 11 years old       5614\n",
       "Kid, 9 years old            4928\n",
       "++++Kid, 12 years old       4527\n",
       "++++Kid, 10 years old       4280\n",
       "++++Teen, 15 years old      3091\n",
       "++++Kid, 9 years old        2811\n",
       "Kid, 8 years old            2608\n",
       "Teen, 16 years old          2365\n",
       "Teen, 17 years old          1605\n",
       "++++Kid, 8 years old        1565\n",
       "++++Teen, 16 years old      1229\n",
       "Kid, 7 years old             995\n",
       "++++Teen, 17 years old       691\n",
       "++++Kid, 7 years old         688\n",
       "Kid, 6 years old             498\n",
       "++++Kid, 6 years old         377\n",
       "Adult, 18 years old          185\n",
       "Kid, 0 years old             170\n",
       "++++Kid, 0 years old         136\n",
       "++++Adult, 18 years old      122\n",
       "Kid, 5 years old              71\n",
       "Kid, 2 years old              64\n",
       "++++Kid, 5 years old          59\n",
       "Kid, 3 years old              50\n",
       "Kid, 4 years old              48\n",
       "++++Kid, 2 years old          46\n",
       "++++Kid, 3 years old          30\n",
       "++++Kid, 4 years old          26\n",
       "Kid, 1 years old               4\n",
       "++++Kid, 1 years old           4\n",
       "Name: age, dtype: int64"
      ]
     },
     "execution_count": 113,
     "metadata": {},
     "output_type": "execute_result"
    }
   ],
   "source": [
    "df['age'].value_counts()"
   ]
  },
  {
   "cell_type": "code",
   "execution_count": 114,
   "metadata": {},
   "outputs": [
    {
     "data": {
      "text/plain": [
       "Child                      94647\n",
       "++++Child                  57020\n",
       "Teen, 13 years old         21511\n",
       "++++Teen, 13 years old     12002\n",
       "Teen, 14 years old         11268\n",
       "Kid, 11 years old           9678\n",
       "Kid, 12 years old           8483\n",
       "Kid, 10 years old           7258\n",
       "++++Teen, 14 years old      6312\n",
       "Teen, 15 years old          6066\n",
       "++++Kid, 11 years old       5614\n",
       "Kid, 9 years old            4928\n",
       "++++Kid, 12 years old       4527\n",
       "++++Kid, 10 years old       4280\n",
       "++++Teen, 15 years old      3091\n",
       "++++Kid, 9 years old        2811\n",
       "Kid, 8 years old            2608\n",
       "Teen, 16 years old          2365\n",
       "Teen, 17 years old          1605\n",
       "++++Kid, 8 years old        1565\n",
       "++++Teen, 16 years old      1229\n",
       "Kid, 7 years old             995\n",
       "++++Teen, 17 years old       691\n",
       "++++Kid, 7 years old         688\n",
       "Kid, 6 years old             498\n",
       "++++Kid, 6 years old         377\n",
       "Adult, 18 years old          185\n",
       "Kid, 0 years old             170\n",
       "++++Kid, 0 years old         136\n",
       "++++Adult, 18 years old      122\n",
       "Kid, 5 years old              71\n",
       "Kid, 2 years old              64\n",
       "++++Kid, 5 years old          59\n",
       "Kid, 3 years old              50\n",
       "Kid, 4 years old              48\n",
       "++++Kid, 2 years old          46\n",
       "++++Kid, 3 years old          30\n",
       "++++Kid, 4 years old          26\n",
       "Kid, 1 years old               4\n",
       "++++Kid, 1 years old           4\n",
       "Name: age, dtype: int64"
      ]
     },
     "execution_count": 114,
     "metadata": {},
     "output_type": "execute_result"
    }
   ],
   "source": [
    "data['age'].value_counts()"
   ]
  },
  {
   "cell_type": "code",
   "execution_count": 119,
   "metadata": {},
   "outputs": [],
   "source": [
    "data['age'] = data['age'].apply(clean_text)\n",
    "data['age'] = data['age'].apply(clean_words )"
   ]
  },
  {
   "cell_type": "code",
   "execution_count": 120,
   "metadata": {},
   "outputs": [
    {
     "data": {
      "text/plain": [
       "13    33513\n",
       "14    17580\n",
       "11    15292\n",
       "12    13010\n",
       "10    11538\n",
       "15     9157\n",
       "9      7739\n",
       "8      4173\n",
       "16     3594\n",
       "17     2296\n",
       "7      1683\n",
       "6       875\n",
       "18      307\n",
       "0       306\n",
       "5       130\n",
       "2       110\n",
       "3        80\n",
       "4        74\n",
       "1         8\n",
       "Name: age, dtype: int64"
      ]
     },
     "execution_count": 120,
     "metadata": {},
     "output_type": "execute_result"
    }
   ],
   "source": [
    "data= data[data['age']!='숫자없음']\n",
    "data['age'].value_counts()"
   ]
  },
  {
   "cell_type": "code",
   "execution_count": 121,
   "metadata": {},
   "outputs": [],
   "source": [
    "data['age'] = data['age'].astype(int)"
   ]
  },
  {
   "cell_type": "code",
   "execution_count": 122,
   "metadata": {},
   "outputs": [
    {
     "data": {
      "text/plain": [
       "11    15292\n",
       "12    13010\n",
       "10    11538\n",
       "9      7739\n",
       "8      4173\n",
       "7      1683\n",
       "6       875\n",
       "Name: age, dtype: int64"
      ]
     },
     "execution_count": 122,
     "metadata": {},
     "output_type": "execute_result"
    }
   ],
   "source": [
    "data = data[data['age']<13]\n",
    "data = data[data['age']>5]\n",
    "data.age.value_counts()"
   ]
  },
  {
   "cell_type": "code",
   "execution_count": 123,
   "metadata": {},
   "outputs": [],
   "source": [
    "data.to_csv('[230505]child_data.csv')"
   ]
  },
  {
   "attachments": {},
   "cell_type": "markdown",
   "metadata": {},
   "source": [
    "#### preprocessing"
   ]
  },
  {
   "cell_type": "code",
   "execution_count": 125,
   "metadata": {},
   "outputs": [
    {
     "data": {
      "text/html": [
       "<div>\n",
       "<style scoped>\n",
       "    .dataframe tbody tr th:only-of-type {\n",
       "        vertical-align: middle;\n",
       "    }\n",
       "\n",
       "    .dataframe tbody tr th {\n",
       "        vertical-align: top;\n",
       "    }\n",
       "\n",
       "    .dataframe thead th {\n",
       "        text-align: right;\n",
       "    }\n",
       "</style>\n",
       "<table border=\"1\" class=\"dataframe\">\n",
       "  <thead>\n",
       "    <tr style=\"text-align: right;\">\n",
       "      <th></th>\n",
       "      <th>movie_cnt</th>\n",
       "      <th>movie_title</th>\n",
       "      <th>age</th>\n",
       "      <th>reviews</th>\n",
       "    </tr>\n",
       "  </thead>\n",
       "  <tbody>\n",
       "    <tr>\n",
       "      <th>9</th>\n",
       "      <td>245번</td>\n",
       "      <td>Andi Mack</td>\n",
       "      <td>12</td>\n",
       "      <td>-Andi Mack is a fun show for kids to watch and...</td>\n",
       "    </tr>\n",
       "    <tr>\n",
       "      <th>10</th>\n",
       "      <td>245번</td>\n",
       "      <td>Andi Mack</td>\n",
       "      <td>12</td>\n",
       "      <td>-I absolutely loved this series but the reason...</td>\n",
       "    </tr>\n",
       "    <tr>\n",
       "      <th>11</th>\n",
       "      <td>245번</td>\n",
       "      <td>Andi Mack</td>\n",
       "      <td>12</td>\n",
       "      <td>-I love this show so much it is the best disne...</td>\n",
       "    </tr>\n",
       "    <tr>\n",
       "      <th>12</th>\n",
       "      <td>245번</td>\n",
       "      <td>Andi Mack</td>\n",
       "      <td>12</td>\n",
       "      <td>-I honestly really enjoyed Andi Mack and found...</td>\n",
       "    </tr>\n",
       "    <tr>\n",
       "      <th>13</th>\n",
       "      <td>245번</td>\n",
       "      <td>Andi Mack</td>\n",
       "      <td>12</td>\n",
       "      <td>-The plot is a little predictable, but aren’t ...</td>\n",
       "    </tr>\n",
       "  </tbody>\n",
       "</table>\n",
       "</div>"
      ],
      "text/plain": [
       "   movie_cnt movie_title  age  \\\n",
       "9       245번   Andi Mack   12   \n",
       "10      245번   Andi Mack   12   \n",
       "11      245번   Andi Mack   12   \n",
       "12      245번   Andi Mack   12   \n",
       "13      245번   Andi Mack   12   \n",
       "\n",
       "                                              reviews  \n",
       "9   -Andi Mack is a fun show for kids to watch and...  \n",
       "10  -I absolutely loved this series but the reason...  \n",
       "11  -I love this show so much it is the best disne...  \n",
       "12  -I honestly really enjoyed Andi Mack and found...  \n",
       "13  -The plot is a little predictable, but aren’t ...  "
      ]
     },
     "execution_count": 125,
     "metadata": {},
     "output_type": "execute_result"
    }
   ],
   "source": [
    "data.head()"
   ]
  },
  {
   "attachments": {},
   "cell_type": "markdown",
   "metadata": {},
   "source": [
    "##### sentence dividing"
   ]
  },
  {
   "cell_type": "code",
   "execution_count": 142,
   "metadata": {},
   "outputs": [],
   "source": [
    "def sent_number(text):\n",
    "    try:\n",
    "        num = len(sent_tokenize(text))\n",
    "    except:\n",
    "        num = '오류'\n",
    "    return num"
   ]
  },
  {
   "cell_type": "code",
   "execution_count": 147,
   "metadata": {},
   "outputs": [
    {
     "data": {
      "text/plain": [
       "(54310, 5)"
      ]
     },
     "execution_count": 147,
     "metadata": {},
     "output_type": "execute_result"
    }
   ],
   "source": [
    "data.shape"
   ]
  },
  {
   "cell_type": "code",
   "execution_count": 145,
   "metadata": {},
   "outputs": [
    {
     "data": {
      "text/html": [
       "<div>\n",
       "<style scoped>\n",
       "    .dataframe tbody tr th:only-of-type {\n",
       "        vertical-align: middle;\n",
       "    }\n",
       "\n",
       "    .dataframe tbody tr th {\n",
       "        vertical-align: top;\n",
       "    }\n",
       "\n",
       "    .dataframe thead th {\n",
       "        text-align: right;\n",
       "    }\n",
       "</style>\n",
       "<table border=\"1\" class=\"dataframe\">\n",
       "  <thead>\n",
       "    <tr style=\"text-align: right;\">\n",
       "      <th></th>\n",
       "      <th>movie_cnt</th>\n",
       "      <th>movie_title</th>\n",
       "      <th>age</th>\n",
       "      <th>reviews</th>\n",
       "      <th>sent_number</th>\n",
       "    </tr>\n",
       "  </thead>\n",
       "  <tbody>\n",
       "    <tr>\n",
       "      <th>9</th>\n",
       "      <td>245번</td>\n",
       "      <td>Andi Mack</td>\n",
       "      <td>12</td>\n",
       "      <td>-Andi Mack is a fun show for kids to watch and...</td>\n",
       "      <td>1</td>\n",
       "    </tr>\n",
       "    <tr>\n",
       "      <th>10</th>\n",
       "      <td>245번</td>\n",
       "      <td>Andi Mack</td>\n",
       "      <td>12</td>\n",
       "      <td>-I absolutely loved this series but the reason...</td>\n",
       "      <td>3</td>\n",
       "    </tr>\n",
       "    <tr>\n",
       "      <th>11</th>\n",
       "      <td>245번</td>\n",
       "      <td>Andi Mack</td>\n",
       "      <td>12</td>\n",
       "      <td>-I love this show so much it is the best disne...</td>\n",
       "      <td>2</td>\n",
       "    </tr>\n",
       "    <tr>\n",
       "      <th>12</th>\n",
       "      <td>245번</td>\n",
       "      <td>Andi Mack</td>\n",
       "      <td>12</td>\n",
       "      <td>-I honestly really enjoyed Andi Mack and found...</td>\n",
       "      <td>8</td>\n",
       "    </tr>\n",
       "    <tr>\n",
       "      <th>13</th>\n",
       "      <td>245번</td>\n",
       "      <td>Andi Mack</td>\n",
       "      <td>12</td>\n",
       "      <td>-The plot is a little predictable, but aren’t ...</td>\n",
       "      <td>2</td>\n",
       "    </tr>\n",
       "  </tbody>\n",
       "</table>\n",
       "</div>"
      ],
      "text/plain": [
       "   movie_cnt movie_title  age  \\\n",
       "9       245번   Andi Mack   12   \n",
       "10      245번   Andi Mack   12   \n",
       "11      245번   Andi Mack   12   \n",
       "12      245번   Andi Mack   12   \n",
       "13      245번   Andi Mack   12   \n",
       "\n",
       "                                              reviews  sent_number  \n",
       "9   -Andi Mack is a fun show for kids to watch and...            1  \n",
       "10  -I absolutely loved this series but the reason...            3  \n",
       "11  -I love this show so much it is the best disne...            2  \n",
       "12  -I honestly really enjoyed Andi Mack and found...            8  \n",
       "13  -The plot is a little predictable, but aren’t ...            2  "
      ]
     },
     "execution_count": 145,
     "metadata": {},
     "output_type": "execute_result"
    }
   ],
   "source": [
    "data['sent_number'] = data['reviews'].apply(sent_number)\n",
    "data.head()"
   ]
  },
  {
   "cell_type": "code",
   "execution_count": 149,
   "metadata": {},
   "outputs": [],
   "source": [
    "data['reviews'] = data['reviews'].apply(clean_text)"
   ]
  },
  {
   "cell_type": "code",
   "execution_count": 150,
   "metadata": {},
   "outputs": [
    {
     "data": {
      "text/html": [
       "<div>\n",
       "<style scoped>\n",
       "    .dataframe tbody tr th:only-of-type {\n",
       "        vertical-align: middle;\n",
       "    }\n",
       "\n",
       "    .dataframe tbody tr th {\n",
       "        vertical-align: top;\n",
       "    }\n",
       "\n",
       "    .dataframe thead th {\n",
       "        text-align: right;\n",
       "    }\n",
       "</style>\n",
       "<table border=\"1\" class=\"dataframe\">\n",
       "  <thead>\n",
       "    <tr style=\"text-align: right;\">\n",
       "      <th></th>\n",
       "      <th>movie_cnt</th>\n",
       "      <th>movie_title</th>\n",
       "      <th>age</th>\n",
       "      <th>reviews</th>\n",
       "      <th>sent_number</th>\n",
       "    </tr>\n",
       "  </thead>\n",
       "  <tbody>\n",
       "    <tr>\n",
       "      <th>9</th>\n",
       "      <td>245번</td>\n",
       "      <td>Andi Mack</td>\n",
       "      <td>12</td>\n",
       "      <td>Andi Mack is a fun show for kids to watch and ...</td>\n",
       "      <td>1</td>\n",
       "    </tr>\n",
       "    <tr>\n",
       "      <th>10</th>\n",
       "      <td>245번</td>\n",
       "      <td>Andi Mack</td>\n",
       "      <td>12</td>\n",
       "      <td>I absolutely loved this series but the reason ...</td>\n",
       "      <td>3</td>\n",
       "    </tr>\n",
       "    <tr>\n",
       "      <th>11</th>\n",
       "      <td>245번</td>\n",
       "      <td>Andi Mack</td>\n",
       "      <td>12</td>\n",
       "      <td>I love this show so much it is the best disney...</td>\n",
       "      <td>2</td>\n",
       "    </tr>\n",
       "    <tr>\n",
       "      <th>12</th>\n",
       "      <td>245번</td>\n",
       "      <td>Andi Mack</td>\n",
       "      <td>12</td>\n",
       "      <td>I honestly really enjoyed Andi Mack and found ...</td>\n",
       "      <td>8</td>\n",
       "    </tr>\n",
       "    <tr>\n",
       "      <th>13</th>\n",
       "      <td>245번</td>\n",
       "      <td>Andi Mack</td>\n",
       "      <td>12</td>\n",
       "      <td>The plot is a little predictable but arent mos...</td>\n",
       "      <td>2</td>\n",
       "    </tr>\n",
       "  </tbody>\n",
       "</table>\n",
       "</div>"
      ],
      "text/plain": [
       "   movie_cnt movie_title  age  \\\n",
       "9       245번   Andi Mack   12   \n",
       "10      245번   Andi Mack   12   \n",
       "11      245번   Andi Mack   12   \n",
       "12      245번   Andi Mack   12   \n",
       "13      245번   Andi Mack   12   \n",
       "\n",
       "                                              reviews  sent_number  \n",
       "9   Andi Mack is a fun show for kids to watch and ...            1  \n",
       "10  I absolutely loved this series but the reason ...            3  \n",
       "11  I love this show so much it is the best disney...            2  \n",
       "12  I honestly really enjoyed Andi Mack and found ...            8  \n",
       "13  The plot is a little predictable but arent mos...            2  "
      ]
     },
     "execution_count": 150,
     "metadata": {},
     "output_type": "execute_result"
    }
   ],
   "source": [
    "data.head()"
   ]
  },
  {
   "cell_type": "code",
   "execution_count": 151,
   "metadata": {},
   "outputs": [],
   "source": [
    "data.to_csv('[230505]child_reviews_sentnum.csv')"
   ]
  },
  {
   "cell_type": "code",
   "execution_count": 236,
   "metadata": {},
   "outputs": [
    {
     "name": "stderr",
     "output_type": "stream",
     "text": [
      "100%|██████████| 54310/54310 [00:05<00:00, 10036.71it/s]\n"
     ]
    }
   ],
   "source": [
    "full_result = []\n",
    "for i in tqdm(data.reviews.to_list()):\n",
    "    tokenizer = WhitespaceTokenizer()\n",
    "    word_tokens = tokenizer.tokenize(i)\n",
    "    \n",
    "    result= []\n",
    "    for word in word_tokens:\n",
    "        # word = word.lower()\n",
    "        if word not in stop_words:\n",
    "            lemm = WordNetLemmatizer()\n",
    "            word = lemm.lemmatize(word, pos = 'v')\n",
    "            result.append(word)\n",
    "    \n",
    "    full_result.append(result)\n",
    "    \n"
   ]
  },
  {
   "cell_type": "code",
   "execution_count": 237,
   "metadata": {},
   "outputs": [
    {
     "name": "stderr",
     "output_type": "stream",
     "text": [
      "100%|██████████| 54310/54310 [04:13<00:00, 214.07it/s]\n"
     ]
    }
   ],
   "source": [
    "full_pos = []\n",
    "for for_pos in tqdm(full_result):\n",
    "        k = pos_tag(for_pos)\n",
    "        ner_sentence = ne_chunk(k) ## NER 개체명인식\n",
    "        full_pos.append(ner_sentence)"
   ]
  },
  {
   "cell_type": "code",
   "execution_count": 307,
   "metadata": {},
   "outputs": [
    {
     "name": "stdout",
     "output_type": "stream",
     "text": [
      "54310\n"
     ]
    }
   ],
   "source": [
    "print(len(full_pos))"
   ]
  },
  {
   "cell_type": "code",
   "execution_count": 331,
   "metadata": {},
   "outputs": [
    {
     "data": {
      "text/plain": [
       "(54310, 6)"
      ]
     },
     "execution_count": 331,
     "metadata": {},
     "output_type": "execute_result"
    }
   ],
   "source": [
    "data.shape"
   ]
  },
  {
   "cell_type": "code",
   "execution_count": 309,
   "metadata": {},
   "outputs": [
    {
     "data": {
      "text/html": [
       "<div>\n",
       "<style scoped>\n",
       "    .dataframe tbody tr th:only-of-type {\n",
       "        vertical-align: middle;\n",
       "    }\n",
       "\n",
       "    .dataframe tbody tr th {\n",
       "        vertical-align: top;\n",
       "    }\n",
       "\n",
       "    .dataframe thead th {\n",
       "        text-align: right;\n",
       "    }\n",
       "</style>\n",
       "<table border=\"1\" class=\"dataframe\">\n",
       "  <thead>\n",
       "    <tr style=\"text-align: right;\">\n",
       "      <th></th>\n",
       "      <th>movie_cnt</th>\n",
       "      <th>movie_title</th>\n",
       "      <th>age</th>\n",
       "      <th>reviews</th>\n",
       "      <th>sent_number</th>\n",
       "      <th>full_pos</th>\n",
       "    </tr>\n",
       "  </thead>\n",
       "  <tbody>\n",
       "    <tr>\n",
       "      <th>9</th>\n",
       "      <td>245번</td>\n",
       "      <td>Andi Mack</td>\n",
       "      <td>12</td>\n",
       "      <td>Andi Mack is a fun show for kids to watch and ...</td>\n",
       "      <td>1</td>\n",
       "      <td>[[(Andi, NNP)], [(Mack, NNP)], (fun, NN), (sho...</td>\n",
       "    </tr>\n",
       "    <tr>\n",
       "      <th>10</th>\n",
       "      <td>245번</td>\n",
       "      <td>Andi Mack</td>\n",
       "      <td>12</td>\n",
       "      <td>I absolutely loved this series but the reason ...</td>\n",
       "      <td>3</td>\n",
       "      <td>[(I, PRP), (absolutely, RB), (love, VBP), (ser...</td>\n",
       "    </tr>\n",
       "    <tr>\n",
       "      <th>11</th>\n",
       "      <td>245번</td>\n",
       "      <td>Andi Mack</td>\n",
       "      <td>12</td>\n",
       "      <td>I love this show so much it is the best disney...</td>\n",
       "      <td>2</td>\n",
       "      <td>[(I, PRP), (love, VBP), (show, RB), (much, JJ)...</td>\n",
       "    </tr>\n",
       "    <tr>\n",
       "      <th>12</th>\n",
       "      <td>245번</td>\n",
       "      <td>Andi Mack</td>\n",
       "      <td>12</td>\n",
       "      <td>I honestly really enjoyed Andi Mack and found ...</td>\n",
       "      <td>8</td>\n",
       "      <td>[(I, PRP), (honestly, RB), (really, RB), (enjo...</td>\n",
       "    </tr>\n",
       "    <tr>\n",
       "      <th>13</th>\n",
       "      <td>245번</td>\n",
       "      <td>Andi Mack</td>\n",
       "      <td>12</td>\n",
       "      <td>The plot is a little predictable but arent mos...</td>\n",
       "      <td>2</td>\n",
       "      <td>[(The, DT), (plot, NN), (little, JJ), (predict...</td>\n",
       "    </tr>\n",
       "  </tbody>\n",
       "</table>\n",
       "</div>"
      ],
      "text/plain": [
       "   movie_cnt movie_title  age  \\\n",
       "9       245번   Andi Mack   12   \n",
       "10      245번   Andi Mack   12   \n",
       "11      245번   Andi Mack   12   \n",
       "12      245번   Andi Mack   12   \n",
       "13      245번   Andi Mack   12   \n",
       "\n",
       "                                              reviews  sent_number  \\\n",
       "9   Andi Mack is a fun show for kids to watch and ...            1   \n",
       "10  I absolutely loved this series but the reason ...            3   \n",
       "11  I love this show so much it is the best disney...            2   \n",
       "12  I honestly really enjoyed Andi Mack and found ...            8   \n",
       "13  The plot is a little predictable but arent mos...            2   \n",
       "\n",
       "                                             full_pos  \n",
       "9   [[(Andi, NNP)], [(Mack, NNP)], (fun, NN), (sho...  \n",
       "10  [(I, PRP), (absolutely, RB), (love, VBP), (ser...  \n",
       "11  [(I, PRP), (love, VBP), (show, RB), (much, JJ)...  \n",
       "12  [(I, PRP), (honestly, RB), (really, RB), (enjo...  \n",
       "13  [(The, DT), (plot, NN), (little, JJ), (predict...  "
      ]
     },
     "execution_count": 309,
     "metadata": {},
     "output_type": "execute_result"
    }
   ],
   "source": [
    "data['full_pos'] = full_pos\n",
    "data.head()"
   ]
  },
  {
   "cell_type": "code",
   "execution_count": null,
   "metadata": {},
   "outputs": [],
   "source": [
    "final_pos =[]\n",
    "\n",
    "for i in tqdm(full_pos):\n",
    "    try:\n",
    "        if len(i)>=0:\n",
    "            test = str(i)\n",
    "            test = test.replace('\\n','')\n",
    "            # print(test)\n",
    "\n",
    "            test_list= test.split('  ')\n",
    "            result= []\n",
    "            for i in test_list:\n",
    "                \n",
    "                if i[1].isupper()==True:\n",
    "                    pass\n",
    "                else:\n",
    "                    result.append(i)\n",
    "            org_result = []\n",
    "            for i in result:\n",
    "                text = str(i)\n",
    "                text = text.split('/')[0]\n",
    "                word = text.lower()\n",
    "                if word not in stop_words:\n",
    "                    lemm = WordNetLemmatizer()\n",
    "                    word = lemm.lemmatize(word, pos = 'v')\n",
    "\n",
    "                    # if len(word)>2:\n",
    "                    org_result.append(word)\n",
    "            final_pos.append(org_result)\n",
    "    except:\n",
    "        final_pos.append('passed')\n",
    "        pass\n",
    "\n",
    "print(len(final_pos))"
   ]
  },
  {
   "cell_type": "code",
   "execution_count": 345,
   "metadata": {},
   "outputs": [],
   "source": [
    "data['final_pos'] = final_pos"
   ]
  },
  {
   "cell_type": "code",
   "execution_count": 346,
   "metadata": {},
   "outputs": [
    {
     "data": {
      "text/html": [
       "<div>\n",
       "<style scoped>\n",
       "    .dataframe tbody tr th:only-of-type {\n",
       "        vertical-align: middle;\n",
       "    }\n",
       "\n",
       "    .dataframe tbody tr th {\n",
       "        vertical-align: top;\n",
       "    }\n",
       "\n",
       "    .dataframe thead th {\n",
       "        text-align: right;\n",
       "    }\n",
       "</style>\n",
       "<table border=\"1\" class=\"dataframe\">\n",
       "  <thead>\n",
       "    <tr style=\"text-align: right;\">\n",
       "      <th></th>\n",
       "      <th>movie_cnt</th>\n",
       "      <th>movie_title</th>\n",
       "      <th>age</th>\n",
       "      <th>reviews</th>\n",
       "      <th>sent_number</th>\n",
       "      <th>full_pos</th>\n",
       "      <th>final_pos</th>\n",
       "    </tr>\n",
       "  </thead>\n",
       "  <tbody>\n",
       "    <tr>\n",
       "      <th>185</th>\n",
       "      <td>245번</td>\n",
       "      <td>Andi Mack</td>\n",
       "      <td>11</td>\n",
       "      <td>I used to be a Disney Channel kid even as I be...</td>\n",
       "      <td>11</td>\n",
       "      <td>[(I, PRP), (use, VBP), [(Disney, NNP), (Channe...</td>\n",
       "      <td>passed</td>\n",
       "    </tr>\n",
       "    <tr>\n",
       "      <th>592</th>\n",
       "      <td>264번</td>\n",
       "      <td>Ant-Man</td>\n",
       "      <td>7</td>\n",
       "      <td>AntMan is a great film  Its a pretty different...</td>\n",
       "      <td>4</td>\n",
       "      <td>[(AntMan, NNP), (great, JJ), (film, NN), (Its,...</td>\n",
       "      <td>passed</td>\n",
       "    </tr>\n",
       "    <tr>\n",
       "      <th>597</th>\n",
       "      <td>264번</td>\n",
       "      <td>Ant-Man</td>\n",
       "      <td>12</td>\n",
       "      <td>AntMan is a 2015 Marvel movie directed by Peyt...</td>\n",
       "      <td>1</td>\n",
       "      <td>[(AntMan, NN), (2015, CD), (Marvel, NNP), (mov...</td>\n",
       "      <td>passed</td>\n",
       "    </tr>\n",
       "    <tr>\n",
       "      <th>1298</th>\n",
       "      <td>308번</td>\n",
       "      <td>Avatar</td>\n",
       "      <td>10</td>\n",
       "      <td>You either love it or hate it but I just dont ...</td>\n",
       "      <td>5</td>\n",
       "      <td>[(You, PRP), (either, CC), (love, VB), (hate, ...</td>\n",
       "      <td>passed</td>\n",
       "    </tr>\n",
       "    <tr>\n",
       "      <th>2167</th>\n",
       "      <td>321번</td>\n",
       "      <td>Back to the Future</td>\n",
       "      <td>11</td>\n",
       "      <td>Back To The Future is a 1985 scifi actioncomed...</td>\n",
       "      <td>2</td>\n",
       "      <td>[(Back, RB), (To, TO), (The, DT), (Future, NN)...</td>\n",
       "      <td>passed</td>\n",
       "    </tr>\n",
       "    <tr>\n",
       "      <th>...</th>\n",
       "      <td>...</td>\n",
       "      <td>...</td>\n",
       "      <td>...</td>\n",
       "      <td>...</td>\n",
       "      <td>...</td>\n",
       "      <td>...</td>\n",
       "      <td>...</td>\n",
       "    </tr>\n",
       "    <tr>\n",
       "      <th>268162</th>\n",
       "      <td>1173번</td>\n",
       "      <td>X-Men</td>\n",
       "      <td>10</td>\n",
       "      <td>Oh god this movie is amazing  It follows Profe...</td>\n",
       "      <td>17</td>\n",
       "      <td>[(Oh, NNP), (god, JJ), (movie, NN), (amaze, IN...</td>\n",
       "      <td>passed</td>\n",
       "    </tr>\n",
       "    <tr>\n",
       "      <th>269371</th>\n",
       "      <td>25번</td>\n",
       "      <td>2 Fast 2 Furious</td>\n",
       "      <td>12</td>\n",
       "      <td>2 Fast 2 Furious is a 2003 action movie direct...</td>\n",
       "      <td>1</td>\n",
       "      <td>[(2, CD), (Fast, NNP), (2, CD), (Furious, NNP)...</td>\n",
       "      <td>passed</td>\n",
       "    </tr>\n",
       "    <tr>\n",
       "      <th>270232</th>\n",
       "      <td>75번</td>\n",
       "      <td>A Few Good Men</td>\n",
       "      <td>12</td>\n",
       "      <td>First this is an incredible film with some ico...</td>\n",
       "      <td>5</td>\n",
       "      <td>[(First, NNP), (incredible, JJ), (film, NN), (...</td>\n",
       "      <td>passed</td>\n",
       "    </tr>\n",
       "    <tr>\n",
       "      <th>271018</th>\n",
       "      <td>130번</td>\n",
       "      <td>A View to a Kill</td>\n",
       "      <td>11</td>\n",
       "      <td>A View To A Kill is a 1985 Bond movie directed...</td>\n",
       "      <td>1</td>\n",
       "      <td>[(A, DT), (View, NNP), (To, TO), (A, NNP), (Ki...</td>\n",
       "      <td>passed</td>\n",
       "    </tr>\n",
       "    <tr>\n",
       "      <th>271029</th>\n",
       "      <td>132번</td>\n",
       "      <td>A Week Away</td>\n",
       "      <td>11</td>\n",
       "      <td>So I found out about this movie when I was rea...</td>\n",
       "      <td>9</td>\n",
       "      <td>[(So, RB), (I, PRP), (find, VBP), (movie, NN),...</td>\n",
       "      <td>passed</td>\n",
       "    </tr>\n",
       "  </tbody>\n",
       "</table>\n",
       "<p>471 rows × 7 columns</p>\n",
       "</div>"
      ],
      "text/plain": [
       "       movie_cnt         movie_title  age  \\\n",
       "185         245번           Andi Mack   11   \n",
       "592         264번             Ant-Man    7   \n",
       "597         264번             Ant-Man   12   \n",
       "1298        308번              Avatar   10   \n",
       "2167        321번  Back to the Future   11   \n",
       "...          ...                 ...  ...   \n",
       "268162     1173번               X-Men   10   \n",
       "269371       25번    2 Fast 2 Furious   12   \n",
       "270232       75번      A Few Good Men   12   \n",
       "271018      130번    A View to a Kill   11   \n",
       "271029      132번         A Week Away   11   \n",
       "\n",
       "                                                  reviews  sent_number  \\\n",
       "185     I used to be a Disney Channel kid even as I be...           11   \n",
       "592     AntMan is a great film  Its a pretty different...            4   \n",
       "597     AntMan is a 2015 Marvel movie directed by Peyt...            1   \n",
       "1298    You either love it or hate it but I just dont ...            5   \n",
       "2167    Back To The Future is a 1985 scifi actioncomed...            2   \n",
       "...                                                   ...          ...   \n",
       "268162  Oh god this movie is amazing  It follows Profe...           17   \n",
       "269371  2 Fast 2 Furious is a 2003 action movie direct...            1   \n",
       "270232  First this is an incredible film with some ico...            5   \n",
       "271018  A View To A Kill is a 1985 Bond movie directed...            1   \n",
       "271029  So I found out about this movie when I was rea...            9   \n",
       "\n",
       "                                                 full_pos final_pos  \n",
       "185     [(I, PRP), (use, VBP), [(Disney, NNP), (Channe...    passed  \n",
       "592     [(AntMan, NNP), (great, JJ), (film, NN), (Its,...    passed  \n",
       "597     [(AntMan, NN), (2015, CD), (Marvel, NNP), (mov...    passed  \n",
       "1298    [(You, PRP), (either, CC), (love, VB), (hate, ...    passed  \n",
       "2167    [(Back, RB), (To, TO), (The, DT), (Future, NN)...    passed  \n",
       "...                                                   ...       ...  \n",
       "268162  [(Oh, NNP), (god, JJ), (movie, NN), (amaze, IN...    passed  \n",
       "269371  [(2, CD), (Fast, NNP), (2, CD), (Furious, NNP)...    passed  \n",
       "270232  [(First, NNP), (incredible, JJ), (film, NN), (...    passed  \n",
       "271018  [(A, DT), (View, NNP), (To, TO), (A, NNP), (Ki...    passed  \n",
       "271029  [(So, RB), (I, PRP), (find, VBP), (movie, NN),...    passed  \n",
       "\n",
       "[471 rows x 7 columns]"
      ]
     },
     "execution_count": 346,
     "metadata": {},
     "output_type": "execute_result"
    }
   ],
   "source": [
    "data[data['final_pos']=='passed']"
   ]
  },
  {
   "cell_type": "code",
   "execution_count": 347,
   "metadata": {},
   "outputs": [],
   "source": [
    "data.to_csv('[230505]fianl_pos.csv')"
   ]
  },
  {
   "cell_type": "code",
   "execution_count": 349,
   "metadata": {},
   "outputs": [
    {
     "name": "stderr",
     "output_type": "stream",
     "text": [
      "100%|██████████| 54310/54310 [00:46<00:00, 1179.30it/s]"
     ]
    },
    {
     "name": "stdout",
     "output_type": "stream",
     "text": [
      "54310\n"
     ]
    },
    {
     "name": "stderr",
     "output_type": "stream",
     "text": [
      "\n"
     ]
    }
   ],
   "source": [
    "final_pos_tag = []\n",
    "\n",
    "for i in tqdm(final_pos):\n",
    "    try:\n",
    "        i = pos_tag(i)\n",
    "        final_pos_tag.append(i)\n",
    "    except:\n",
    "        i = '오류'\n",
    "        final_pos_tag.append(i)\n",
    "        pass\n",
    "\n",
    "print(len(final_pos_tag))"
   ]
  },
  {
   "cell_type": "code",
   "execution_count": 350,
   "metadata": {},
   "outputs": [],
   "source": [
    "data['final_pos_tag'] = final_pos_tag"
   ]
  },
  {
   "cell_type": "code",
   "execution_count": 352,
   "metadata": {},
   "outputs": [],
   "source": [
    "data.to_csv('[230505]final_pos_tag.csv')"
   ]
  },
  {
   "attachments": {},
   "cell_type": "markdown",
   "metadata": {},
   "source": [
    "##### ne_chunk로 NER한 후, 재tagging"
   ]
  },
  {
   "cell_type": "code",
   "execution_count": 351,
   "metadata": {},
   "outputs": [
    {
     "data": {
      "text/html": [
       "<div>\n",
       "<style scoped>\n",
       "    .dataframe tbody tr th:only-of-type {\n",
       "        vertical-align: middle;\n",
       "    }\n",
       "\n",
       "    .dataframe tbody tr th {\n",
       "        vertical-align: top;\n",
       "    }\n",
       "\n",
       "    .dataframe thead th {\n",
       "        text-align: right;\n",
       "    }\n",
       "</style>\n",
       "<table border=\"1\" class=\"dataframe\">\n",
       "  <thead>\n",
       "    <tr style=\"text-align: right;\">\n",
       "      <th></th>\n",
       "      <th>movie_cnt</th>\n",
       "      <th>movie_title</th>\n",
       "      <th>age</th>\n",
       "      <th>reviews</th>\n",
       "      <th>sent_number</th>\n",
       "      <th>full_pos</th>\n",
       "      <th>final_pos</th>\n",
       "      <th>final_pos_tag</th>\n",
       "    </tr>\n",
       "  </thead>\n",
       "  <tbody>\n",
       "    <tr>\n",
       "      <th>9</th>\n",
       "      <td>245번</td>\n",
       "      <td>Andi Mack</td>\n",
       "      <td>12</td>\n",
       "      <td>Andi Mack is a fun show for kids to watch and ...</td>\n",
       "      <td>1</td>\n",
       "      <td>[[(Andi, NNP)], [(Mack, NNP)], (fun, NN), (sho...</td>\n",
       "      <td>[fun, show, kid, watch, keep, entertain]</td>\n",
       "      <td>[(fun, NN), (show, NN), (kid, VBZ), (watch, JJ...</td>\n",
       "    </tr>\n",
       "    <tr>\n",
       "      <th>10</th>\n",
       "      <td>245번</td>\n",
       "      <td>Andi Mack</td>\n",
       "      <td>12</td>\n",
       "      <td>I absolutely loved this series but the reason ...</td>\n",
       "      <td>3</td>\n",
       "      <td>[(I, PRP), (absolutely, RB), (love, VBP), (ser...</td>\n",
       "      <td>[absolutely, love, series, reason, give, four,...</td>\n",
       "      <td>[(absolutely, RB), (love, VB), (series, NN), (...</td>\n",
       "    </tr>\n",
       "    <tr>\n",
       "      <th>11</th>\n",
       "      <td>245번</td>\n",
       "      <td>Andi Mack</td>\n",
       "      <td>12</td>\n",
       "      <td>I love this show so much it is the best disney...</td>\n",
       "      <td>2</td>\n",
       "      <td>[(I, PRP), (love, VBP), (show, RB), (much, JJ)...</td>\n",
       "      <td>[love, show, much, best, disney, live, action,...</td>\n",
       "      <td>[(love, VB), (show, NN), (much, JJ), (best, JJ...</td>\n",
       "    </tr>\n",
       "    <tr>\n",
       "      <th>12</th>\n",
       "      <td>245번</td>\n",
       "      <td>Andi Mack</td>\n",
       "      <td>12</td>\n",
       "      <td>I honestly really enjoyed Andi Mack and found ...</td>\n",
       "      <td>8</td>\n",
       "      <td>[(I, PRP), (honestly, RB), (really, RB), (enjo...</td>\n",
       "      <td>[honestly, really, enjoy, find, highly, addict...</td>\n",
       "      <td>[(honestly, RB), (really, RB), (enjoy, VB), (f...</td>\n",
       "    </tr>\n",
       "    <tr>\n",
       "      <th>13</th>\n",
       "      <td>245번</td>\n",
       "      <td>Andi Mack</td>\n",
       "      <td>12</td>\n",
       "      <td>The plot is a little predictable but arent mos...</td>\n",
       "      <td>2</td>\n",
       "      <td>[(The, DT), (plot, NN), (little, JJ), (predict...</td>\n",
       "      <td>[plot, little, predictable, arent, kid, show, ...</td>\n",
       "      <td>[(plot, NN), (little, JJ), (predictable, JJ), ...</td>\n",
       "    </tr>\n",
       "  </tbody>\n",
       "</table>\n",
       "</div>"
      ],
      "text/plain": [
       "   movie_cnt movie_title  age  \\\n",
       "9       245번   Andi Mack   12   \n",
       "10      245번   Andi Mack   12   \n",
       "11      245번   Andi Mack   12   \n",
       "12      245번   Andi Mack   12   \n",
       "13      245번   Andi Mack   12   \n",
       "\n",
       "                                              reviews  sent_number  \\\n",
       "9   Andi Mack is a fun show for kids to watch and ...            1   \n",
       "10  I absolutely loved this series but the reason ...            3   \n",
       "11  I love this show so much it is the best disney...            2   \n",
       "12  I honestly really enjoyed Andi Mack and found ...            8   \n",
       "13  The plot is a little predictable but arent mos...            2   \n",
       "\n",
       "                                             full_pos  \\\n",
       "9   [[(Andi, NNP)], [(Mack, NNP)], (fun, NN), (sho...   \n",
       "10  [(I, PRP), (absolutely, RB), (love, VBP), (ser...   \n",
       "11  [(I, PRP), (love, VBP), (show, RB), (much, JJ)...   \n",
       "12  [(I, PRP), (honestly, RB), (really, RB), (enjo...   \n",
       "13  [(The, DT), (plot, NN), (little, JJ), (predict...   \n",
       "\n",
       "                                            final_pos  \\\n",
       "9            [fun, show, kid, watch, keep, entertain]   \n",
       "10  [absolutely, love, series, reason, give, four,...   \n",
       "11  [love, show, much, best, disney, live, action,...   \n",
       "12  [honestly, really, enjoy, find, highly, addict...   \n",
       "13  [plot, little, predictable, arent, kid, show, ...   \n",
       "\n",
       "                                        final_pos_tag  \n",
       "9   [(fun, NN), (show, NN), (kid, VBZ), (watch, JJ...  \n",
       "10  [(absolutely, RB), (love, VB), (series, NN), (...  \n",
       "11  [(love, VB), (show, NN), (much, JJ), (best, JJ...  \n",
       "12  [(honestly, RB), (really, RB), (enjoy, VB), (f...  \n",
       "13  [(plot, NN), (little, JJ), (predictable, JJ), ...  "
      ]
     },
     "execution_count": 351,
     "metadata": {},
     "output_type": "execute_result"
    }
   ],
   "source": [
    "data.head()"
   ]
  },
  {
   "cell_type": "code",
   "execution_count": null,
   "metadata": {},
   "outputs": [],
   "source": []
  },
  {
   "cell_type": "code",
   "execution_count": null,
   "metadata": {},
   "outputs": [],
   "source": []
  },
  {
   "cell_type": "code",
   "execution_count": null,
   "metadata": {},
   "outputs": [],
   "source": []
  },
  {
   "cell_type": "code",
   "execution_count": 241,
   "metadata": {},
   "outputs": [
    {
     "name": "stdout",
     "output_type": "stream",
     "text": [
      "Apple is looking at buying U.K. startup for $ 1 billion\n"
     ]
    }
   ],
   "source": [
    "import nltk\n",
    "\n",
    "# Example sentence\n",
    "sentence = \"Apple is looking at buying U.K. startup for $1 billion\"\n",
    "\n",
    "# Tokenize the sentence\n",
    "tokens = nltk.word_tokenize(sentence)\n",
    "\n",
    "# Perform part-of-speech tagging\n",
    "pos_tags = nltk.pos_tag(tokens)\n",
    "\n",
    "# Perform named entity recognition\n",
    "chunked = nltk.ne_chunk(pos_tags)\n",
    "\n",
    "# Remove named entities from the original sentence\n",
    "filtered_sentence = ' '.join([w[0] for w in pos_tags if not hasattr(w, 'label')])\n",
    "\n",
    "print(filtered_sentence)"
   ]
  },
  {
   "cell_type": "code",
   "execution_count": 246,
   "metadata": {},
   "outputs": [
    {
     "data": {
      "image/svg+xml": [
       "<svg baseProfile=\"full\" height=\"168px\" preserveAspectRatio=\"xMidYMid meet\" style=\"font-family: times, serif; font-weight:normal; font-style: normal; font-size: 16px;\" version=\"1.1\" viewBox=\"0,0,552.0,168.0\" width=\"552px\" xmlns=\"http://www.w3.org/2000/svg\" xmlns:ev=\"http://www.w3.org/2001/xml-events\" xmlns:xlink=\"http://www.w3.org/1999/xlink\"><defs /><svg width=\"100%\" x=\"0\" y=\"0em\"><defs /><text text-anchor=\"middle\" x=\"50%\" y=\"1em\">S</text></svg><svg width=\"10.1449%\" x=\"0%\" y=\"3em\"><defs /><svg width=\"100%\" x=\"0\" y=\"0em\"><defs /><text text-anchor=\"middle\" x=\"50%\" y=\"1em\">GPE</text></svg><svg width=\"100%\" x=\"0%\" y=\"3em\"><defs /><svg width=\"100%\" x=\"0\" y=\"0em\"><defs /><text text-anchor=\"middle\" x=\"50%\" y=\"1em\">Apple</text></svg><svg width=\"100%\" x=\"0%\" y=\"3em\"><defs /><svg width=\"100%\" x=\"0\" y=\"0em\"><defs /><text text-anchor=\"middle\" x=\"50%\" y=\"1em\">NNP</text></svg></svg><line stroke=\"black\" x1=\"50%\" x2=\"50%\" y1=\"1.2em\" y2=\"3em\" /></svg><line stroke=\"black\" x1=\"50%\" x2=\"50%\" y1=\"1.2em\" y2=\"3em\" /></svg><line stroke=\"black\" x1=\"50%\" x2=\"5.07246%\" y1=\"1.2em\" y2=\"3em\" /><svg width=\"7.24638%\" x=\"10.1449%\" y=\"3em\"><defs /><svg width=\"100%\" x=\"0\" y=\"0em\"><defs /><text text-anchor=\"middle\" x=\"50%\" y=\"1em\">is</text></svg><svg width=\"100%\" x=\"0%\" y=\"3em\"><defs /><svg width=\"100%\" x=\"0\" y=\"0em\"><defs /><text text-anchor=\"middle\" x=\"50%\" y=\"1em\">VBZ</text></svg></svg><line stroke=\"black\" x1=\"50%\" x2=\"50%\" y1=\"1.2em\" y2=\"3em\" /></svg><line stroke=\"black\" x1=\"50%\" x2=\"13.7681%\" y1=\"1.2em\" y2=\"3em\" /><svg width=\"13.0435%\" x=\"17.3913%\" y=\"3em\"><defs /><svg width=\"100%\" x=\"0\" y=\"0em\"><defs /><text text-anchor=\"middle\" x=\"50%\" y=\"1em\">looking</text></svg><svg width=\"100%\" x=\"0%\" y=\"3em\"><defs /><svg width=\"100%\" x=\"0\" y=\"0em\"><defs /><text text-anchor=\"middle\" x=\"50%\" y=\"1em\">VBG</text></svg></svg><line stroke=\"black\" x1=\"50%\" x2=\"50%\" y1=\"1.2em\" y2=\"3em\" /></svg><line stroke=\"black\" x1=\"50%\" x2=\"23.913%\" y1=\"1.2em\" y2=\"3em\" /><svg width=\"5.7971%\" x=\"30.4348%\" y=\"3em\"><defs /><svg width=\"100%\" x=\"0\" y=\"0em\"><defs /><text text-anchor=\"middle\" x=\"50%\" y=\"1em\">at</text></svg><svg width=\"100%\" x=\"0%\" y=\"3em\"><defs /><svg width=\"100%\" x=\"0\" y=\"0em\"><defs /><text text-anchor=\"middle\" x=\"50%\" y=\"1em\">IN</text></svg></svg><line stroke=\"black\" x1=\"50%\" x2=\"50%\" y1=\"1.2em\" y2=\"3em\" /></svg><line stroke=\"black\" x1=\"50%\" x2=\"33.3333%\" y1=\"1.2em\" y2=\"3em\" /><svg width=\"11.5942%\" x=\"36.2319%\" y=\"3em\"><defs /><svg width=\"100%\" x=\"0\" y=\"0em\"><defs /><text text-anchor=\"middle\" x=\"50%\" y=\"1em\">buying</text></svg><svg width=\"100%\" x=\"0%\" y=\"3em\"><defs /><svg width=\"100%\" x=\"0\" y=\"0em\"><defs /><text text-anchor=\"middle\" x=\"50%\" y=\"1em\">VBG</text></svg></svg><line stroke=\"black\" x1=\"50%\" x2=\"50%\" y1=\"1.2em\" y2=\"3em\" /></svg><line stroke=\"black\" x1=\"50%\" x2=\"42.029%\" y1=\"1.2em\" y2=\"3em\" /><svg width=\"8.69565%\" x=\"47.8261%\" y=\"3em\"><defs /><svg width=\"100%\" x=\"0\" y=\"0em\"><defs /><text text-anchor=\"middle\" x=\"50%\" y=\"1em\">U.K.</text></svg><svg width=\"100%\" x=\"0%\" y=\"3em\"><defs /><svg width=\"100%\" x=\"0\" y=\"0em\"><defs /><text text-anchor=\"middle\" x=\"50%\" y=\"1em\">NNP</text></svg></svg><line stroke=\"black\" x1=\"50%\" x2=\"50%\" y1=\"1.2em\" y2=\"3em\" /></svg><line stroke=\"black\" x1=\"50%\" x2=\"52.1739%\" y1=\"1.2em\" y2=\"3em\" /><svg width=\"13.0435%\" x=\"56.5217%\" y=\"3em\"><defs /><svg width=\"100%\" x=\"0\" y=\"0em\"><defs /><text text-anchor=\"middle\" x=\"50%\" y=\"1em\">startup</text></svg><svg width=\"100%\" x=\"0%\" y=\"3em\"><defs /><svg width=\"100%\" x=\"0\" y=\"0em\"><defs /><text text-anchor=\"middle\" x=\"50%\" y=\"1em\">NN</text></svg></svg><line stroke=\"black\" x1=\"50%\" x2=\"50%\" y1=\"1.2em\" y2=\"3em\" /></svg><line stroke=\"black\" x1=\"50%\" x2=\"63.0435%\" y1=\"1.2em\" y2=\"3em\" /><svg width=\"7.24638%\" x=\"69.5652%\" y=\"3em\"><defs /><svg width=\"100%\" x=\"0\" y=\"0em\"><defs /><text text-anchor=\"middle\" x=\"50%\" y=\"1em\">for</text></svg><svg width=\"100%\" x=\"0%\" y=\"3em\"><defs /><svg width=\"100%\" x=\"0\" y=\"0em\"><defs /><text text-anchor=\"middle\" x=\"50%\" y=\"1em\">IN</text></svg></svg><line stroke=\"black\" x1=\"50%\" x2=\"50%\" y1=\"1.2em\" y2=\"3em\" /></svg><line stroke=\"black\" x1=\"50%\" x2=\"73.1884%\" y1=\"1.2em\" y2=\"3em\" /><svg width=\"4.34783%\" x=\"76.8116%\" y=\"3em\"><defs /><svg width=\"100%\" x=\"0\" y=\"0em\"><defs /><text text-anchor=\"middle\" x=\"50%\" y=\"1em\">$</text></svg><svg width=\"100%\" x=\"0%\" y=\"3em\"><defs /><svg width=\"100%\" x=\"0\" y=\"0em\"><defs /><text text-anchor=\"middle\" x=\"50%\" y=\"1em\">$</text></svg></svg><line stroke=\"black\" x1=\"50%\" x2=\"50%\" y1=\"1.2em\" y2=\"3em\" /></svg><line stroke=\"black\" x1=\"50%\" x2=\"78.9855%\" y1=\"1.2em\" y2=\"3em\" /><svg width=\"5.7971%\" x=\"81.1594%\" y=\"3em\"><defs /><svg width=\"100%\" x=\"0\" y=\"0em\"><defs /><text text-anchor=\"middle\" x=\"50%\" y=\"1em\">1</text></svg><svg width=\"100%\" x=\"0%\" y=\"3em\"><defs /><svg width=\"100%\" x=\"0\" y=\"0em\"><defs /><text text-anchor=\"middle\" x=\"50%\" y=\"1em\">CD</text></svg></svg><line stroke=\"black\" x1=\"50%\" x2=\"50%\" y1=\"1.2em\" y2=\"3em\" /></svg><line stroke=\"black\" x1=\"50%\" x2=\"84.058%\" y1=\"1.2em\" y2=\"3em\" /><svg width=\"13.0435%\" x=\"86.9565%\" y=\"3em\"><defs /><svg width=\"100%\" x=\"0\" y=\"0em\"><defs /><text text-anchor=\"middle\" x=\"50%\" y=\"1em\">billion</text></svg><svg width=\"100%\" x=\"0%\" y=\"3em\"><defs /><svg width=\"100%\" x=\"0\" y=\"0em\"><defs /><text text-anchor=\"middle\" x=\"50%\" y=\"1em\">CD</text></svg></svg><line stroke=\"black\" x1=\"50%\" x2=\"50%\" y1=\"1.2em\" y2=\"3em\" /></svg><line stroke=\"black\" x1=\"50%\" x2=\"93.4783%\" y1=\"1.2em\" y2=\"3em\" /></svg>"
      ],
      "text/plain": [
       "Tree('S', [Tree('GPE', [('Apple', 'NNP')]), ('is', 'VBZ'), ('looking', 'VBG'), ('at', 'IN'), ('buying', 'VBG'), ('U.K.', 'NNP'), ('startup', 'NN'), ('for', 'IN'), ('$', '$'), ('1', 'CD'), ('billion', 'CD')])"
      ]
     },
     "execution_count": 246,
     "metadata": {},
     "output_type": "execute_result"
    }
   ],
   "source": [
    "import svgling\n",
    "chunked"
   ]
  },
  {
   "cell_type": "code",
   "execution_count": 244,
   "metadata": {},
   "outputs": [],
   "source": []
  },
  {
   "cell_type": "code",
   "execution_count": null,
   "metadata": {},
   "outputs": [],
   "source": []
  }
 ],
 "metadata": {
  "kernelspec": {
   "display_name": "analyze",
   "language": "python",
   "name": "python3"
  },
  "language_info": {
   "codemirror_mode": {
    "name": "ipython",
    "version": 3
   },
   "file_extension": ".py",
   "mimetype": "text/x-python",
   "name": "python",
   "nbconvert_exporter": "python",
   "pygments_lexer": "ipython3",
   "version": "3.9.13"
  },
  "orig_nbformat": 4
 },
 "nbformat": 4,
 "nbformat_minor": 2
}
