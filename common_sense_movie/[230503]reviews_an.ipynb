{
 "cells": [
  {
   "cell_type": "code",
   "execution_count": 3,
   "metadata": {},
   "outputs": [
    {
     "name": "stdout",
     "output_type": "stream",
     "text": [
      "Collecting nltk\n",
      "  Downloading nltk-3.8.1-py3-none-any.whl (1.5 MB)\n",
      "\u001b[2K     \u001b[90m━━━━━━━━━━━━━━━━━━━━━━━━━━━━━━━━━━━━━━━━\u001b[0m \u001b[32m1.5/1.5 MB\u001b[0m \u001b[31m9.7 MB/s\u001b[0m eta \u001b[36m0:00:00\u001b[0m:00:01\u001b[0m0:01\u001b[0mm\n",
      "\u001b[?25hRequirement already satisfied: tqdm in /Users/kimmonica/miniforge3/envs/LLP/lib/python3.10/site-packages (from nltk) (4.65.0)\n",
      "Requirement already satisfied: regex>=2021.8.3 in /Users/kimmonica/miniforge3/envs/LLP/lib/python3.10/site-packages (from nltk) (2023.6.3)\n",
      "Collecting joblib\n",
      "  Downloading joblib-1.2.0-py3-none-any.whl (297 kB)\n",
      "\u001b[2K     \u001b[90m━━━━━━━━━━━━━━━━━━━━━━━━━━━━━━━━━━━━━━━\u001b[0m \u001b[32m298.0/298.0 kB\u001b[0m \u001b[31m9.1 MB/s\u001b[0m eta \u001b[36m0:00:00\u001b[0m\n",
      "\u001b[?25hCollecting click\n",
      "  Downloading click-8.1.3-py3-none-any.whl (96 kB)\n",
      "\u001b[2K     \u001b[90m━━━━━━━━━━━━━━━━━━━━━━━━━━━━━━━━━━━━━━━━\u001b[0m \u001b[32m96.6/96.6 kB\u001b[0m \u001b[31m6.3 MB/s\u001b[0m eta \u001b[36m0:00:00\u001b[0m\n",
      "\u001b[?25hInstalling collected packages: joblib, click, nltk\n",
      "Successfully installed click-8.1.3 joblib-1.2.0 nltk-3.8.1\n"
     ]
    }
   ],
   "source": [
    "!pip install nltk"
   ]
  },
  {
   "cell_type": "code",
   "execution_count": 4,
   "metadata": {},
   "outputs": [],
   "source": [
    "import pandas as pd\n",
    "import numpy as np\n",
    "import openpyxl\n",
    "import re\n",
    "from tqdm import tqdm\n",
    "import os"
   ]
  },
  {
   "cell_type": "code",
   "execution_count": 5,
   "metadata": {},
   "outputs": [],
   "source": [
    "from nltk.corpus import stopwords\n",
    "from nltk.stem.porter import PorterStemmer\n",
    "from nltk.tokenize import RegexpTokenizer\n",
    "from nltk.tokenize import word_tokenize\n",
    "from nltk.tokenize import sent_tokenize\n",
    "from nltk.tokenize import WhitespaceTokenizer\n",
    "# from nltk.tokenize import WordPunctTokenizer\n",
    "\n",
    "from nltk.corpus import state_union\n",
    "from nltk.tokenize import PunktSentenceTokenizer, word_tokenize\n",
    "from nltk.tag import pos_tag\n",
    "\n",
    "from nltk.stem import WordNetLemmatizer\n",
    "from nltk import ne_chunk"
   ]
  },
  {
   "cell_type": "code",
   "execution_count": 6,
   "metadata": {},
   "outputs": [
    {
     "name": "stderr",
     "output_type": "stream",
     "text": [
      "[nltk_data] Downloading package punkt to /Users/kimmonica/nltk_data...\n",
      "[nltk_data]   Package punkt is already up-to-date!\n",
      "[nltk_data] Downloading package stopwords to\n",
      "[nltk_data]     /Users/kimmonica/nltk_data...\n",
      "[nltk_data]   Package stopwords is already up-to-date!\n",
      "[nltk_data] Downloading package averaged_perceptron_tagger to\n",
      "[nltk_data]     /Users/kimmonica/nltk_data...\n",
      "[nltk_data]   Package averaged_perceptron_tagger is already up-to-\n",
      "[nltk_data]       date!\n",
      "[nltk_data] Downloading package wordnet to\n",
      "[nltk_data]     /Users/kimmonica/nltk_data...\n",
      "[nltk_data]   Package wordnet is already up-to-date!\n",
      "[nltk_data] Downloading package tagsets to\n",
      "[nltk_data]     /Users/kimmonica/nltk_data...\n",
      "[nltk_data]   Package tagsets is already up-to-date!\n",
      "[nltk_data] Downloading package maxent_ne_chunker to\n",
      "[nltk_data]     /Users/kimmonica/nltk_data...\n",
      "[nltk_data]   Package maxent_ne_chunker is already up-to-date!\n",
      "[nltk_data] Downloading package words to /Users/kimmonica/nltk_data...\n",
      "[nltk_data]   Package words is already up-to-date!\n"
     ]
    },
    {
     "data": {
      "text/plain": [
       "True"
      ]
     },
     "execution_count": 6,
     "metadata": {},
     "output_type": "execute_result"
    }
   ],
   "source": [
    "import nltk\n",
    "nltk.download('punkt')\n",
    "nltk.download('stopwords')\n",
    "nltk.download('averaged_perceptron_tagger')\n",
    "nltk.download('wordnet')\n",
    "nltk.download('tagsets')\n",
    "nltk.download('maxent_ne_chunker')\n",
    "nltk.download('words')"
   ]
  },
  {
   "attachments": {},
   "cell_type": "markdown",
   "metadata": {},
   "source": [
    "### def"
   ]
  },
  {
   "cell_type": "code",
   "execution_count": 7,
   "metadata": {},
   "outputs": [],
   "source": [
    "def clean_text(text): \n",
    "    \"\"\" 한글, 영문, 숫자만 남기고 제거한다. \n",
    "    :param text: \n",
    "    :return: \n",
    "    \"\"\" \n",
    "    try:\n",
    "        text = text.replace(\".\", \" \").strip() \n",
    "        text = text.replace(\"·\", \" \").strip() \n",
    "        pattern = '[^ ㄱ-ㅣ가-힣|0-9|a-zA-Z]+' \n",
    "        text = re.sub(pattern=pattern, repl='', string=text)\n",
    "    except:\n",
    "        text = '숫자없음' \n",
    "    return text "
   ]
  },
  {
   "cell_type": "code",
   "execution_count": 8,
   "metadata": {},
   "outputs": [],
   "source": [
    "def clean_words(text): \n",
    "    \"\"\" 한글, 영문, 숫자만 남기고 제거한다. \n",
    "    :param text: \n",
    "    :return: \n",
    "    \"\"\" \n",
    "    try:\n",
    "        text = text.replace(\".\", \" \").strip() \n",
    "        text = text.replace(\"·\", \" \").strip() \n",
    "        pattern = '[^0-9]+' \n",
    "        text = re.sub(pattern=pattern, repl='', string=text) \n",
    "        text = int(text)\n",
    "    except:\n",
    "        text = '숫자없음'\n",
    "    return text "
   ]
  },
  {
   "cell_type": "code",
   "execution_count": 9,
   "metadata": {},
   "outputs": [],
   "source": [
    "stop_words = set(stopwords.words('english')) "
   ]
  },
  {
   "attachments": {},
   "cell_type": "markdown",
   "metadata": {},
   "source": [
    "#### dataset"
   ]
  },
  {
   "cell_type": "code",
   "execution_count": null,
   "metadata": {},
   "outputs": [],
   "source": [
    "# df_path = '/Users/kimmonica/Documents/GitHub/Text_Mining/common_sense_movie/dataset/'\n",
    "# file_list = os.listdir(df_path)\n",
    "# file_list_py = [file for file in file_list if file.endswith('.xlsx')]\n",
    "\n",
    "# df = pd.DataFrame()\n",
    "# for i in file_list_py:\n",
    "#     data = pd.read_excel(df_path + i)\n",
    "#     df = pd.concat([df,data])\n",
    "    \n",
    "# df = df.reset_index(drop = True)"
   ]
  },
  {
   "cell_type": "code",
   "execution_count": 19,
   "metadata": {},
   "outputs": [
    {
     "data": {
      "text/html": [
       "<div>\n",
       "<style scoped>\n",
       "    .dataframe tbody tr th:only-of-type {\n",
       "        vertical-align: middle;\n",
       "    }\n",
       "\n",
       "    .dataframe tbody tr th {\n",
       "        vertical-align: top;\n",
       "    }\n",
       "\n",
       "    .dataframe thead th {\n",
       "        text-align: right;\n",
       "    }\n",
       "</style>\n",
       "<table border=\"1\" class=\"dataframe\">\n",
       "  <thead>\n",
       "    <tr style=\"text-align: right;\">\n",
       "      <th></th>\n",
       "      <th>movie_cnt</th>\n",
       "      <th>movie_title</th>\n",
       "      <th>age</th>\n",
       "      <th>reviews</th>\n",
       "    </tr>\n",
       "  </thead>\n",
       "  <tbody>\n",
       "    <tr>\n",
       "      <th>0</th>\n",
       "      <td>245번</td>\n",
       "      <td>Andi Mack</td>\n",
       "      <td>Child</td>\n",
       "      <td>-Why do most of the kids in my school like thi...</td>\n",
       "    </tr>\n",
       "    <tr>\n",
       "      <th>1</th>\n",
       "      <td>245번</td>\n",
       "      <td>Andi Mack</td>\n",
       "      <td>Child</td>\n",
       "      <td>-that show is rated TV-MA</td>\n",
       "    </tr>\n",
       "    <tr>\n",
       "      <th>2</th>\n",
       "      <td>245번</td>\n",
       "      <td>Andi Mack</td>\n",
       "      <td>Child</td>\n",
       "      <td>-I haven't even watched the first episodes, bu...</td>\n",
       "    </tr>\n",
       "    <tr>\n",
       "      <th>3</th>\n",
       "      <td>245번</td>\n",
       "      <td>Andi Mack</td>\n",
       "      <td>Child</td>\n",
       "      <td>-Brah, this is possibly the worst TV show I ha...</td>\n",
       "    </tr>\n",
       "    <tr>\n",
       "      <th>4</th>\n",
       "      <td>245번</td>\n",
       "      <td>Andi Mack</td>\n",
       "      <td>Child</td>\n",
       "      <td>-So everyone is saying that everything about t...</td>\n",
       "    </tr>\n",
       "  </tbody>\n",
       "</table>\n",
       "</div>"
      ],
      "text/plain": [
       "  movie_cnt movie_title    age  \\\n",
       "0      245번   Andi Mack  Child   \n",
       "1      245번   Andi Mack  Child   \n",
       "2      245번   Andi Mack  Child   \n",
       "3      245번   Andi Mack  Child   \n",
       "4      245번   Andi Mack  Child   \n",
       "\n",
       "                                             reviews  \n",
       "0  -Why do most of the kids in my school like thi...  \n",
       "1                          -that show is rated TV-MA  \n",
       "2  -I haven't even watched the first episodes, bu...  \n",
       "3  -Brah, this is possibly the worst TV show I ha...  \n",
       "4  -So everyone is saying that everything about t...  "
      ]
     },
     "execution_count": 19,
     "metadata": {},
     "output_type": "execute_result"
    }
   ],
   "source": [
    "# df = df.drop(columns='Unnamed: 0')\n",
    "# df.head()"
   ]
  },
  {
   "attachments": {},
   "cell_type": "markdown",
   "metadata": {},
   "source": []
  },
  {
   "cell_type": "code",
   "execution_count": 108,
   "metadata": {},
   "outputs": [],
   "source": [
    "# df.to_csv('org_reviews.csv')"
   ]
  },
  {
   "cell_type": "code",
   "execution_count": 109,
   "metadata": {},
   "outputs": [
    {
     "data": {
      "text/plain": [
       "'/Users/kimmonica/Documents/GitHub/Text_Mining/common_sense_movie'"
      ]
     },
     "execution_count": 109,
     "metadata": {},
     "output_type": "execute_result"
    }
   ],
   "source": [
    "/pwd"
   ]
  },
  {
   "attachments": {},
   "cell_type": "markdown",
   "metadata": {},
   "source": [
    "#### data loading"
   ]
  },
  {
   "cell_type": "code",
   "execution_count": 18,
   "metadata": {},
   "outputs": [],
   "source": [
    "data = pd.read_csv('/Users/kimmonica/Documents/GitHub/Text_Mining/common_sense_movie/org_reviews.csv', index_col=0)"
   ]
  },
  {
   "cell_type": "code",
   "execution_count": 19,
   "metadata": {},
   "outputs": [
    {
     "data": {
      "text/html": [
       "<div>\n",
       "<style scoped>\n",
       "    .dataframe tbody tr th:only-of-type {\n",
       "        vertical-align: middle;\n",
       "    }\n",
       "\n",
       "    .dataframe tbody tr th {\n",
       "        vertical-align: top;\n",
       "    }\n",
       "\n",
       "    .dataframe thead th {\n",
       "        text-align: right;\n",
       "    }\n",
       "</style>\n",
       "<table border=\"1\" class=\"dataframe\">\n",
       "  <thead>\n",
       "    <tr style=\"text-align: right;\">\n",
       "      <th></th>\n",
       "      <th>movie_cnt</th>\n",
       "      <th>movie_title</th>\n",
       "      <th>age</th>\n",
       "      <th>reviews</th>\n",
       "    </tr>\n",
       "  </thead>\n",
       "  <tbody>\n",
       "    <tr>\n",
       "      <th>0</th>\n",
       "      <td>245번</td>\n",
       "      <td>Andi Mack</td>\n",
       "      <td>Child</td>\n",
       "      <td>-Why do most of the kids in my school like thi...</td>\n",
       "    </tr>\n",
       "    <tr>\n",
       "      <th>1</th>\n",
       "      <td>245번</td>\n",
       "      <td>Andi Mack</td>\n",
       "      <td>Child</td>\n",
       "      <td>-that show is rated TV-MA</td>\n",
       "    </tr>\n",
       "    <tr>\n",
       "      <th>2</th>\n",
       "      <td>245번</td>\n",
       "      <td>Andi Mack</td>\n",
       "      <td>Child</td>\n",
       "      <td>-I haven't even watched the first episodes, bu...</td>\n",
       "    </tr>\n",
       "    <tr>\n",
       "      <th>3</th>\n",
       "      <td>245번</td>\n",
       "      <td>Andi Mack</td>\n",
       "      <td>Child</td>\n",
       "      <td>-Brah, this is possibly the worst TV show I ha...</td>\n",
       "    </tr>\n",
       "    <tr>\n",
       "      <th>4</th>\n",
       "      <td>245번</td>\n",
       "      <td>Andi Mack</td>\n",
       "      <td>Child</td>\n",
       "      <td>-So everyone is saying that everything about t...</td>\n",
       "    </tr>\n",
       "  </tbody>\n",
       "</table>\n",
       "</div>"
      ],
      "text/plain": [
       "  movie_cnt movie_title    age  \\\n",
       "0      245번   Andi Mack  Child   \n",
       "1      245번   Andi Mack  Child   \n",
       "2      245번   Andi Mack  Child   \n",
       "3      245번   Andi Mack  Child   \n",
       "4      245번   Andi Mack  Child   \n",
       "\n",
       "                                             reviews  \n",
       "0  -Why do most of the kids in my school like thi...  \n",
       "1                          -that show is rated TV-MA  \n",
       "2  -I haven't even watched the first episodes, bu...  \n",
       "3  -Brah, this is possibly the worst TV show I ha...  \n",
       "4  -So everyone is saying that everything about t...  "
      ]
     },
     "execution_count": 19,
     "metadata": {},
     "output_type": "execute_result"
    }
   ],
   "source": [
    "data.head()"
   ]
  },
  {
   "cell_type": "code",
   "execution_count": 20,
   "metadata": {},
   "outputs": [
    {
     "data": {
      "text/plain": [
       "Child                      94647\n",
       "++++Child                  57020\n",
       "Teen, 13 years old         21511\n",
       "++++Teen, 13 years old     12002\n",
       "Teen, 14 years old         11268\n",
       "Kid, 11 years old           9678\n",
       "Kid, 12 years old           8483\n",
       "Kid, 10 years old           7258\n",
       "++++Teen, 14 years old      6312\n",
       "Teen, 15 years old          6066\n",
       "++++Kid, 11 years old       5614\n",
       "Kid, 9 years old            4928\n",
       "++++Kid, 12 years old       4527\n",
       "++++Kid, 10 years old       4280\n",
       "++++Teen, 15 years old      3091\n",
       "++++Kid, 9 years old        2811\n",
       "Kid, 8 years old            2608\n",
       "Teen, 16 years old          2365\n",
       "Teen, 17 years old          1605\n",
       "++++Kid, 8 years old        1565\n",
       "++++Teen, 16 years old      1229\n",
       "Kid, 7 years old             995\n",
       "++++Teen, 17 years old       691\n",
       "++++Kid, 7 years old         688\n",
       "Kid, 6 years old             498\n",
       "++++Kid, 6 years old         377\n",
       "Adult, 18 years old          185\n",
       "Kid, 0 years old             170\n",
       "++++Kid, 0 years old         136\n",
       "++++Adult, 18 years old      122\n",
       "Kid, 5 years old              71\n",
       "Kid, 2 years old              64\n",
       "++++Kid, 5 years old          59\n",
       "Kid, 3 years old              50\n",
       "Kid, 4 years old              48\n",
       "++++Kid, 2 years old          46\n",
       "++++Kid, 3 years old          30\n",
       "++++Kid, 4 years old          26\n",
       "Kid, 1 years old               4\n",
       "++++Kid, 1 years old           4\n",
       "Name: age, dtype: int64"
      ]
     },
     "execution_count": 20,
     "metadata": {},
     "output_type": "execute_result"
    }
   ],
   "source": [
    "data['age'].value_counts()"
   ]
  },
  {
   "cell_type": "code",
   "execution_count": 21,
   "metadata": {},
   "outputs": [],
   "source": [
    "data['age'] = data['age'].apply(clean_text)\n",
    "data['age'] = data['age'].apply(clean_words )"
   ]
  },
  {
   "cell_type": "code",
   "execution_count": 22,
   "metadata": {},
   "outputs": [
    {
     "data": {
      "text/plain": [
       "13    33513\n",
       "14    17580\n",
       "11    15292\n",
       "12    13010\n",
       "10    11538\n",
       "15     9157\n",
       "9      7739\n",
       "8      4173\n",
       "16     3594\n",
       "17     2296\n",
       "7      1683\n",
       "6       875\n",
       "18      307\n",
       "0       306\n",
       "5       130\n",
       "2       110\n",
       "3        80\n",
       "4        74\n",
       "1         8\n",
       "Name: age, dtype: int64"
      ]
     },
     "execution_count": 22,
     "metadata": {},
     "output_type": "execute_result"
    }
   ],
   "source": [
    "data= data[data['age']!='숫자없음']\n",
    "data['age'].value_counts()"
   ]
  },
  {
   "cell_type": "code",
   "execution_count": 23,
   "metadata": {},
   "outputs": [],
   "source": [
    "data['age'] = data['age'].astype(int)"
   ]
  },
  {
   "cell_type": "code",
   "execution_count": 25,
   "metadata": {},
   "outputs": [
    {
     "name": "stdout",
     "output_type": "stream",
     "text": [
      "(121465, 4)\n",
      "(72075, 4)\n"
     ]
    }
   ],
   "source": [
    "print(data.shape)\n",
    "data = data.drop_duplicates()\n",
    "print(data.shape)"
   ]
  },
  {
   "cell_type": "code",
   "execution_count": 26,
   "metadata": {},
   "outputs": [
    {
     "data": {
      "text/plain": [
       "13    19916\n",
       "14    10403\n",
       "11     9151\n",
       "12     7636\n",
       "10     6975\n",
       "15     5309\n",
       "9      4564\n",
       "8      2553\n",
       "16     2108\n",
       "17     1364\n",
       "7       954\n",
       "6       504\n",
       "18      201\n",
       "0       189\n",
       "2        74\n",
       "5        73\n",
       "3        50\n",
       "4        47\n",
       "1         4\n",
       "Name: age, dtype: int64"
      ]
     },
     "execution_count": 26,
     "metadata": {},
     "output_type": "execute_result"
    }
   ],
   "source": [
    "data['age'].value_counts()"
   ]
  },
  {
   "cell_type": "code",
   "execution_count": 28,
   "metadata": {},
   "outputs": [],
   "source": [
    "data.to_csv('adult_child_org1.csv')"
   ]
  },
  {
   "attachments": {},
   "cell_type": "markdown",
   "metadata": {},
   "source": [
    "### NEW"
   ]
  },
  {
   "cell_type": "code",
   "execution_count": 31,
   "metadata": {},
   "outputs": [
    {
     "data": {
      "text/html": [
       "<div>\n",
       "<style scoped>\n",
       "    .dataframe tbody tr th:only-of-type {\n",
       "        vertical-align: middle;\n",
       "    }\n",
       "\n",
       "    .dataframe tbody tr th {\n",
       "        vertical-align: top;\n",
       "    }\n",
       "\n",
       "    .dataframe thead th {\n",
       "        text-align: right;\n",
       "    }\n",
       "</style>\n",
       "<table border=\"1\" class=\"dataframe\">\n",
       "  <thead>\n",
       "    <tr style=\"text-align: right;\">\n",
       "      <th></th>\n",
       "      <th>movie_cnt</th>\n",
       "      <th>movie_title</th>\n",
       "      <th>age</th>\n",
       "      <th>reviews</th>\n",
       "    </tr>\n",
       "  </thead>\n",
       "  <tbody>\n",
       "    <tr>\n",
       "      <th>587</th>\n",
       "      <td>264번</td>\n",
       "      <td>Ant-Man</td>\n",
       "      <td>7</td>\n",
       "      <td>-Ant man is a great marvel movie for younger a...</td>\n",
       "    </tr>\n",
       "    <tr>\n",
       "      <th>588</th>\n",
       "      <td>264번</td>\n",
       "      <td>Ant-Man</td>\n",
       "      <td>7</td>\n",
       "      <td>-Not even appropriate for adults. A man brags ...</td>\n",
       "    </tr>\n",
       "    <tr>\n",
       "      <th>589</th>\n",
       "      <td>264번</td>\n",
       "      <td>Ant-Man</td>\n",
       "      <td>7</td>\n",
       "      <td>-Ant man is just a great movie and is quite fa...</td>\n",
       "    </tr>\n",
       "    <tr>\n",
       "      <th>590</th>\n",
       "      <td>264번</td>\n",
       "      <td>Ant-Man</td>\n",
       "      <td>7</td>\n",
       "      <td>-Family friendly, unless you consider people g...</td>\n",
       "    </tr>\n",
       "    <tr>\n",
       "      <th>591</th>\n",
       "      <td>264번</td>\n",
       "      <td>Ant-Man</td>\n",
       "      <td>7</td>\n",
       "      <td>-I think it's a really good movie for ages eig...</td>\n",
       "    </tr>\n",
       "  </tbody>\n",
       "</table>\n",
       "</div>"
      ],
      "text/plain": [
       "    movie_cnt movie_title  age  \\\n",
       "587      264번     Ant-Man    7   \n",
       "588      264번     Ant-Man    7   \n",
       "589      264번     Ant-Man    7   \n",
       "590      264번     Ant-Man    7   \n",
       "591      264번     Ant-Man    7   \n",
       "\n",
       "                                               reviews  \n",
       "587  -Ant man is a great marvel movie for younger a...  \n",
       "588  -Not even appropriate for adults. A man brags ...  \n",
       "589  -Ant man is just a great movie and is quite fa...  \n",
       "590  -Family friendly, unless you consider people g...  \n",
       "591  -I think it's a really good movie for ages eig...  "
      ]
     },
     "execution_count": 31,
     "metadata": {},
     "output_type": "execute_result"
    }
   ],
   "source": [
    "data = pd.read_csv('/Users/kimmonica/Documents/GitHub/Text_Mining/common_sense_movie/adult_child_org1.csv', index_col=0)\n",
    "data.head()"
   ]
  },
  {
   "cell_type": "code",
   "execution_count": 32,
   "metadata": {},
   "outputs": [
    {
     "data": {
      "text/plain": [
       "13    19916\n",
       "14    10403\n",
       "11     9151\n",
       "12     7636\n",
       "10     6975\n",
       "15     5309\n",
       "9      4564\n",
       "8      2553\n",
       "16     2108\n",
       "17     1364\n",
       "18     1142\n",
       "7       954\n",
       "Name: age, dtype: int64"
      ]
     },
     "execution_count": 32,
     "metadata": {},
     "output_type": "execute_result"
    }
   ],
   "source": [
    "data.age.value_counts()"
   ]
  },
  {
   "attachments": {},
   "cell_type": "markdown",
   "metadata": {},
   "source": [
    "#### preprocessing"
   ]
  },
  {
   "cell_type": "code",
   "execution_count": 33,
   "metadata": {},
   "outputs": [
    {
     "data": {
      "text/html": [
       "<div>\n",
       "<style scoped>\n",
       "    .dataframe tbody tr th:only-of-type {\n",
       "        vertical-align: middle;\n",
       "    }\n",
       "\n",
       "    .dataframe tbody tr th {\n",
       "        vertical-align: top;\n",
       "    }\n",
       "\n",
       "    .dataframe thead th {\n",
       "        text-align: right;\n",
       "    }\n",
       "</style>\n",
       "<table border=\"1\" class=\"dataframe\">\n",
       "  <thead>\n",
       "    <tr style=\"text-align: right;\">\n",
       "      <th></th>\n",
       "      <th>movie_cnt</th>\n",
       "      <th>movie_title</th>\n",
       "      <th>age</th>\n",
       "      <th>reviews</th>\n",
       "    </tr>\n",
       "  </thead>\n",
       "  <tbody>\n",
       "    <tr>\n",
       "      <th>587</th>\n",
       "      <td>264번</td>\n",
       "      <td>Ant-Man</td>\n",
       "      <td>7</td>\n",
       "      <td>-Ant man is a great marvel movie for younger a...</td>\n",
       "    </tr>\n",
       "    <tr>\n",
       "      <th>588</th>\n",
       "      <td>264번</td>\n",
       "      <td>Ant-Man</td>\n",
       "      <td>7</td>\n",
       "      <td>-Not even appropriate for adults. A man brags ...</td>\n",
       "    </tr>\n",
       "    <tr>\n",
       "      <th>589</th>\n",
       "      <td>264번</td>\n",
       "      <td>Ant-Man</td>\n",
       "      <td>7</td>\n",
       "      <td>-Ant man is just a great movie and is quite fa...</td>\n",
       "    </tr>\n",
       "    <tr>\n",
       "      <th>590</th>\n",
       "      <td>264번</td>\n",
       "      <td>Ant-Man</td>\n",
       "      <td>7</td>\n",
       "      <td>-Family friendly, unless you consider people g...</td>\n",
       "    </tr>\n",
       "    <tr>\n",
       "      <th>591</th>\n",
       "      <td>264번</td>\n",
       "      <td>Ant-Man</td>\n",
       "      <td>7</td>\n",
       "      <td>-I think it's a really good movie for ages eig...</td>\n",
       "    </tr>\n",
       "  </tbody>\n",
       "</table>\n",
       "</div>"
      ],
      "text/plain": [
       "    movie_cnt movie_title  age  \\\n",
       "587      264번     Ant-Man    7   \n",
       "588      264번     Ant-Man    7   \n",
       "589      264번     Ant-Man    7   \n",
       "590      264번     Ant-Man    7   \n",
       "591      264번     Ant-Man    7   \n",
       "\n",
       "                                               reviews  \n",
       "587  -Ant man is a great marvel movie for younger a...  \n",
       "588  -Not even appropriate for adults. A man brags ...  \n",
       "589  -Ant man is just a great movie and is quite fa...  \n",
       "590  -Family friendly, unless you consider people g...  \n",
       "591  -I think it's a really good movie for ages eig...  "
      ]
     },
     "execution_count": 33,
     "metadata": {},
     "output_type": "execute_result"
    }
   ],
   "source": [
    "data.head()"
   ]
  },
  {
   "attachments": {},
   "cell_type": "markdown",
   "metadata": {},
   "source": [
    "##### sentence dividing"
   ]
  },
  {
   "cell_type": "code",
   "execution_count": 34,
   "metadata": {},
   "outputs": [],
   "source": [
    "def sent_number(text):\n",
    "    try:\n",
    "        num = len(sent_tokenize(text))\n",
    "    except:\n",
    "        num = '오류'\n",
    "    return num"
   ]
  },
  {
   "cell_type": "code",
   "execution_count": 35,
   "metadata": {},
   "outputs": [
    {
     "data": {
      "text/plain": [
       "(72075, 4)"
      ]
     },
     "execution_count": 35,
     "metadata": {},
     "output_type": "execute_result"
    }
   ],
   "source": [
    "data.shape"
   ]
  },
  {
   "cell_type": "code",
   "execution_count": 36,
   "metadata": {},
   "outputs": [
    {
     "data": {
      "text/html": [
       "<div>\n",
       "<style scoped>\n",
       "    .dataframe tbody tr th:only-of-type {\n",
       "        vertical-align: middle;\n",
       "    }\n",
       "\n",
       "    .dataframe tbody tr th {\n",
       "        vertical-align: top;\n",
       "    }\n",
       "\n",
       "    .dataframe thead th {\n",
       "        text-align: right;\n",
       "    }\n",
       "</style>\n",
       "<table border=\"1\" class=\"dataframe\">\n",
       "  <thead>\n",
       "    <tr style=\"text-align: right;\">\n",
       "      <th></th>\n",
       "      <th>movie_cnt</th>\n",
       "      <th>movie_title</th>\n",
       "      <th>age</th>\n",
       "      <th>reviews</th>\n",
       "      <th>sent_number</th>\n",
       "    </tr>\n",
       "  </thead>\n",
       "  <tbody>\n",
       "    <tr>\n",
       "      <th>587</th>\n",
       "      <td>264번</td>\n",
       "      <td>Ant-Man</td>\n",
       "      <td>7</td>\n",
       "      <td>-Ant man is a great marvel movie for younger a...</td>\n",
       "      <td>4</td>\n",
       "    </tr>\n",
       "    <tr>\n",
       "      <th>588</th>\n",
       "      <td>264번</td>\n",
       "      <td>Ant-Man</td>\n",
       "      <td>7</td>\n",
       "      <td>-Not even appropriate for adults. A man brags ...</td>\n",
       "      <td>3</td>\n",
       "    </tr>\n",
       "    <tr>\n",
       "      <th>589</th>\n",
       "      <td>264번</td>\n",
       "      <td>Ant-Man</td>\n",
       "      <td>7</td>\n",
       "      <td>-Ant man is just a great movie and is quite fa...</td>\n",
       "      <td>1</td>\n",
       "    </tr>\n",
       "    <tr>\n",
       "      <th>590</th>\n",
       "      <td>264번</td>\n",
       "      <td>Ant-Man</td>\n",
       "      <td>7</td>\n",
       "      <td>-Family friendly, unless you consider people g...</td>\n",
       "      <td>5</td>\n",
       "    </tr>\n",
       "    <tr>\n",
       "      <th>591</th>\n",
       "      <td>264번</td>\n",
       "      <td>Ant-Man</td>\n",
       "      <td>7</td>\n",
       "      <td>-I think it's a really good movie for ages eig...</td>\n",
       "      <td>1</td>\n",
       "    </tr>\n",
       "  </tbody>\n",
       "</table>\n",
       "</div>"
      ],
      "text/plain": [
       "    movie_cnt movie_title  age  \\\n",
       "587      264번     Ant-Man    7   \n",
       "588      264번     Ant-Man    7   \n",
       "589      264번     Ant-Man    7   \n",
       "590      264번     Ant-Man    7   \n",
       "591      264번     Ant-Man    7   \n",
       "\n",
       "                                               reviews  sent_number  \n",
       "587  -Ant man is a great marvel movie for younger a...            4  \n",
       "588  -Not even appropriate for adults. A man brags ...            3  \n",
       "589  -Ant man is just a great movie and is quite fa...            1  \n",
       "590  -Family friendly, unless you consider people g...            5  \n",
       "591  -I think it's a really good movie for ages eig...            1  "
      ]
     },
     "execution_count": 36,
     "metadata": {},
     "output_type": "execute_result"
    }
   ],
   "source": [
    "data['sent_number'] = data['reviews'].apply(sent_number)\n",
    "data.head()"
   ]
  },
  {
   "cell_type": "code",
   "execution_count": 37,
   "metadata": {},
   "outputs": [],
   "source": [
    "data['reviews'] = data['reviews'].apply(clean_text)"
   ]
  },
  {
   "cell_type": "code",
   "execution_count": 34,
   "metadata": {},
   "outputs": [
    {
     "data": {
      "text/html": [
       "<div>\n",
       "<style scoped>\n",
       "    .dataframe tbody tr th:only-of-type {\n",
       "        vertical-align: middle;\n",
       "    }\n",
       "\n",
       "    .dataframe tbody tr th {\n",
       "        vertical-align: top;\n",
       "    }\n",
       "\n",
       "    .dataframe thead th {\n",
       "        text-align: right;\n",
       "    }\n",
       "</style>\n",
       "<table border=\"1\" class=\"dataframe\">\n",
       "  <thead>\n",
       "    <tr style=\"text-align: right;\">\n",
       "      <th></th>\n",
       "      <th>movie_cnt</th>\n",
       "      <th>movie_title</th>\n",
       "      <th>age</th>\n",
       "      <th>reviews</th>\n",
       "      <th>sent_number</th>\n",
       "    </tr>\n",
       "  </thead>\n",
       "  <tbody>\n",
       "    <tr>\n",
       "      <th>574</th>\n",
       "      <td>264번</td>\n",
       "      <td>Ant-Man</td>\n",
       "      <td>8</td>\n",
       "      <td>I personally enjoyed this movie  It was funny ...</td>\n",
       "      <td>3</td>\n",
       "    </tr>\n",
       "    <tr>\n",
       "      <th>575</th>\n",
       "      <td>264번</td>\n",
       "      <td>Ant-Man</td>\n",
       "      <td>8</td>\n",
       "      <td>Clever funny cool Marvel movie that has lots o...</td>\n",
       "      <td>1</td>\n",
       "    </tr>\n",
       "    <tr>\n",
       "      <th>576</th>\n",
       "      <td>264번</td>\n",
       "      <td>Ant-Man</td>\n",
       "      <td>8</td>\n",
       "      <td>A vary good movie  It is a superhero movie so ...</td>\n",
       "      <td>3</td>\n",
       "    </tr>\n",
       "    <tr>\n",
       "      <th>577</th>\n",
       "      <td>264번</td>\n",
       "      <td>Ant-Man</td>\n",
       "      <td>8</td>\n",
       "      <td>Antman is funny and a little violent  The viol...</td>\n",
       "      <td>3</td>\n",
       "    </tr>\n",
       "    <tr>\n",
       "      <th>578</th>\n",
       "      <td>264번</td>\n",
       "      <td>Ant-Man</td>\n",
       "      <td>8</td>\n",
       "      <td>I watched Ant Man in theatres in Switzerland w...</td>\n",
       "      <td>13</td>\n",
       "    </tr>\n",
       "  </tbody>\n",
       "</table>\n",
       "</div>"
      ],
      "text/plain": [
       "    movie_cnt movie_title  age  \\\n",
       "574      264번     Ant-Man    8   \n",
       "575      264번     Ant-Man    8   \n",
       "576      264번     Ant-Man    8   \n",
       "577      264번     Ant-Man    8   \n",
       "578      264번     Ant-Man    8   \n",
       "\n",
       "                                               reviews  sent_number  \n",
       "574  I personally enjoyed this movie  It was funny ...            3  \n",
       "575  Clever funny cool Marvel movie that has lots o...            1  \n",
       "576  A vary good movie  It is a superhero movie so ...            3  \n",
       "577  Antman is funny and a little violent  The viol...            3  \n",
       "578  I watched Ant Man in theatres in Switzerland w...           13  "
      ]
     },
     "execution_count": 34,
     "metadata": {},
     "output_type": "execute_result"
    }
   ],
   "source": [
    "data.head()"
   ]
  },
  {
   "cell_type": "code",
   "execution_count": 38,
   "metadata": {},
   "outputs": [],
   "source": [
    "data.to_csv('[230625]child_reviews_sentnum.csv')"
   ]
  },
  {
   "cell_type": "code",
   "execution_count": 39,
   "metadata": {},
   "outputs": [
    {
     "name": "stderr",
     "output_type": "stream",
     "text": [
      "100%|██████████| 72075/72075 [00:07<00:00, 9817.87it/s] \n"
     ]
    }
   ],
   "source": [
    "full_result = []\n",
    "for i in tqdm(data.reviews.to_list()):\n",
    "    tokenizer = WhitespaceTokenizer()\n",
    "    word_tokens = tokenizer.tokenize(i)\n",
    "    \n",
    "    result= []\n",
    "    for word in word_tokens:\n",
    "        # word = word.lower()\n",
    "        if word not in stop_words:\n",
    "            lemm = WordNetLemmatizer()\n",
    "            word = lemm.lemmatize(word, pos = 'v')\n",
    "            result.append(word)\n",
    "    \n",
    "    full_result.append(result)\n",
    "    \n"
   ]
  },
  {
   "cell_type": "code",
   "execution_count": 40,
   "metadata": {},
   "outputs": [
    {
     "name": "stderr",
     "output_type": "stream",
     "text": [
      "100%|██████████| 72075/72075 [04:44<00:00, 253.60it/s]\n"
     ]
    }
   ],
   "source": [
    "full_pos = []\n",
    "for for_pos in tqdm(full_result):\n",
    "        k = pos_tag(for_pos)\n",
    "        ner_sentence = ne_chunk(k) ## NER 개체명인식\n",
    "        full_pos.append(ner_sentence)"
   ]
  },
  {
   "cell_type": "code",
   "execution_count": 41,
   "metadata": {},
   "outputs": [
    {
     "name": "stdout",
     "output_type": "stream",
     "text": [
      "72075\n"
     ]
    }
   ],
   "source": [
    "print(len(full_pos))"
   ]
  },
  {
   "cell_type": "code",
   "execution_count": 42,
   "metadata": {},
   "outputs": [
    {
     "data": {
      "text/plain": [
       "(72075, 5)"
      ]
     },
     "execution_count": 42,
     "metadata": {},
     "output_type": "execute_result"
    }
   ],
   "source": [
    "data.shape"
   ]
  },
  {
   "cell_type": "code",
   "execution_count": 43,
   "metadata": {},
   "outputs": [
    {
     "data": {
      "text/html": [
       "<div>\n",
       "<style scoped>\n",
       "    .dataframe tbody tr th:only-of-type {\n",
       "        vertical-align: middle;\n",
       "    }\n",
       "\n",
       "    .dataframe tbody tr th {\n",
       "        vertical-align: top;\n",
       "    }\n",
       "\n",
       "    .dataframe thead th {\n",
       "        text-align: right;\n",
       "    }\n",
       "</style>\n",
       "<table border=\"1\" class=\"dataframe\">\n",
       "  <thead>\n",
       "    <tr style=\"text-align: right;\">\n",
       "      <th></th>\n",
       "      <th>movie_cnt</th>\n",
       "      <th>movie_title</th>\n",
       "      <th>age</th>\n",
       "      <th>reviews</th>\n",
       "      <th>sent_number</th>\n",
       "      <th>full_pos</th>\n",
       "    </tr>\n",
       "  </thead>\n",
       "  <tbody>\n",
       "    <tr>\n",
       "      <th>587</th>\n",
       "      <td>264번</td>\n",
       "      <td>Ant-Man</td>\n",
       "      <td>7</td>\n",
       "      <td>Ant man is a great marvel movie for younger an...</td>\n",
       "      <td>4</td>\n",
       "      <td>[[(Ant, NNP)], (man, NN), (great, JJ), (marvel...</td>\n",
       "    </tr>\n",
       "    <tr>\n",
       "      <th>588</th>\n",
       "      <td>264번</td>\n",
       "      <td>Ant-Man</td>\n",
       "      <td>7</td>\n",
       "      <td>Not even appropriate for adults  A man brags a...</td>\n",
       "      <td>3</td>\n",
       "      <td>[(Not, RB), (even, RB), (appropriate, JJ), (ad...</td>\n",
       "    </tr>\n",
       "    <tr>\n",
       "      <th>589</th>\n",
       "      <td>264번</td>\n",
       "      <td>Ant-Man</td>\n",
       "      <td>7</td>\n",
       "      <td>Ant man is just a great movie and is quite fam...</td>\n",
       "      <td>1</td>\n",
       "      <td>[[(Ant, NNP)], (man, NN), (great, JJ), (movie,...</td>\n",
       "    </tr>\n",
       "    <tr>\n",
       "      <th>590</th>\n",
       "      <td>264번</td>\n",
       "      <td>Ant-Man</td>\n",
       "      <td>7</td>\n",
       "      <td>Family friendly unless you consider people get...</td>\n",
       "      <td>5</td>\n",
       "      <td>[(Family, RB), (friendly, JJ), (unless, IN), (...</td>\n",
       "    </tr>\n",
       "    <tr>\n",
       "      <th>591</th>\n",
       "      <td>264번</td>\n",
       "      <td>Ant-Man</td>\n",
       "      <td>7</td>\n",
       "      <td>I think its a really good movie for ages eight...</td>\n",
       "      <td>1</td>\n",
       "      <td>[(I, PRP), (think, VBP), (really, RB), (good, ...</td>\n",
       "    </tr>\n",
       "  </tbody>\n",
       "</table>\n",
       "</div>"
      ],
      "text/plain": [
       "    movie_cnt movie_title  age  \\\n",
       "587      264번     Ant-Man    7   \n",
       "588      264번     Ant-Man    7   \n",
       "589      264번     Ant-Man    7   \n",
       "590      264번     Ant-Man    7   \n",
       "591      264번     Ant-Man    7   \n",
       "\n",
       "                                               reviews  sent_number  \\\n",
       "587  Ant man is a great marvel movie for younger an...            4   \n",
       "588  Not even appropriate for adults  A man brags a...            3   \n",
       "589  Ant man is just a great movie and is quite fam...            1   \n",
       "590  Family friendly unless you consider people get...            5   \n",
       "591  I think its a really good movie for ages eight...            1   \n",
       "\n",
       "                                              full_pos  \n",
       "587  [[(Ant, NNP)], (man, NN), (great, JJ), (marvel...  \n",
       "588  [(Not, RB), (even, RB), (appropriate, JJ), (ad...  \n",
       "589  [[(Ant, NNP)], (man, NN), (great, JJ), (movie,...  \n",
       "590  [(Family, RB), (friendly, JJ), (unless, IN), (...  \n",
       "591  [(I, PRP), (think, VBP), (really, RB), (good, ...  "
      ]
     },
     "execution_count": 43,
     "metadata": {},
     "output_type": "execute_result"
    }
   ],
   "source": [
    "data['full_pos'] = full_pos\n",
    "data.head()"
   ]
  },
  {
   "cell_type": "code",
   "execution_count": 44,
   "metadata": {},
   "outputs": [
    {
     "name": "stderr",
     "output_type": "stream",
     "text": [
      "100%|██████████| 72075/72075 [00:07<00:00, 10046.03it/s]"
     ]
    },
    {
     "name": "stdout",
     "output_type": "stream",
     "text": [
      "72075\n"
     ]
    },
    {
     "name": "stderr",
     "output_type": "stream",
     "text": [
      "\n"
     ]
    }
   ],
   "source": [
    "final_pos =[]\n",
    "\n",
    "for i in tqdm(full_pos):\n",
    "    try:\n",
    "        if len(i)>=0:\n",
    "            test = str(i)\n",
    "            test = test.replace('\\n','')\n",
    "            # print(test)\n",
    "\n",
    "            test_list= test.split('  ')\n",
    "            result= []\n",
    "            for i in test_list:\n",
    "                \n",
    "                if i[1].isupper()==True:\n",
    "                    pass\n",
    "                else:\n",
    "                    result.append(i)\n",
    "            org_result = []\n",
    "            for i in result:\n",
    "                text = str(i)\n",
    "                text = text.split('/')[0]\n",
    "                word = text.lower()\n",
    "                if word not in stop_words:\n",
    "                    lemm = WordNetLemmatizer()\n",
    "                    word = lemm.lemmatize(word, pos = 'v')\n",
    "\n",
    "                    # if len(word)>2:\n",
    "                    org_result.append(word)\n",
    "            final_pos.append(org_result)\n",
    "    except:\n",
    "        final_pos.append('passed')\n",
    "        pass\n",
    "\n",
    "print(len(final_pos))"
   ]
  },
  {
   "cell_type": "code",
   "execution_count": 45,
   "metadata": {},
   "outputs": [],
   "source": [
    "data['final_pos'] = final_pos"
   ]
  },
  {
   "cell_type": "code",
   "execution_count": 46,
   "metadata": {},
   "outputs": [],
   "source": [
    "data.to_csv('[230625]fianl_pos.csv')"
   ]
  },
  {
   "cell_type": "code",
   "execution_count": 47,
   "metadata": {},
   "outputs": [
    {
     "name": "stderr",
     "output_type": "stream",
     "text": [
      "100%|██████████| 72075/72075 [00:58<00:00, 1226.61it/s]"
     ]
    },
    {
     "name": "stdout",
     "output_type": "stream",
     "text": [
      "72075\n"
     ]
    },
    {
     "name": "stderr",
     "output_type": "stream",
     "text": [
      "\n"
     ]
    }
   ],
   "source": [
    "final_pos_tag = []\n",
    "\n",
    "for i in tqdm(final_pos):\n",
    "    try:\n",
    "        i = pos_tag(i)\n",
    "        final_pos_tag.append(i)\n",
    "    except:\n",
    "        i = '오류'\n",
    "        final_pos_tag.append(i)\n",
    "        pass\n",
    "\n",
    "print(len(final_pos_tag))"
   ]
  },
  {
   "cell_type": "code",
   "execution_count": 48,
   "metadata": {},
   "outputs": [],
   "source": [
    "data['final_pos_tag'] = final_pos_tag"
   ]
  },
  {
   "cell_type": "code",
   "execution_count": 49,
   "metadata": {},
   "outputs": [],
   "source": [
    "data.to_csv('[230625]final_pos_tag.csv')"
   ]
  },
  {
   "attachments": {},
   "cell_type": "markdown",
   "metadata": {},
   "source": [
    "### NEW"
   ]
  },
  {
   "cell_type": "code",
   "execution_count": 67,
   "metadata": {},
   "outputs": [],
   "source": [
    "import konlpy"
   ]
  },
  {
   "cell_type": "code",
   "execution_count": 66,
   "metadata": {},
   "outputs": [
    {
     "ename": "JVMNotFoundException",
     "evalue": "No JVM shared library file (libjli.dylib) found. Try setting up the JAVA_HOME environment variable properly.",
     "output_type": "error",
     "traceback": [
      "\u001b[0;31m---------------------------------------------------------------------------\u001b[0m",
      "\u001b[0;31mJVMNotFoundException\u001b[0m                      Traceback (most recent call last)",
      "Cell \u001b[0;32mIn[66], line 3\u001b[0m\n\u001b[1;32m      1\u001b[0m \u001b[39mfrom\u001b[39;00m \u001b[39mkonlpy\u001b[39;00m\u001b[39m.\u001b[39;00m\u001b[39mtag\u001b[39;00m \u001b[39mimport\u001b[39;00m Mecab \n\u001b[1;32m      2\u001b[0m \u001b[39mfrom\u001b[39;00m \u001b[39mkonlpy\u001b[39;00m\u001b[39m.\u001b[39;00m\u001b[39mtag\u001b[39;00m \u001b[39mimport\u001b[39;00m Okt\n\u001b[0;32m----> 3\u001b[0m okt \u001b[39m=\u001b[39m Okt()\n",
      "File \u001b[0;32m~/miniforge3/envs/LLP/lib/python3.10/site-packages/konlpy/tag/_okt.py:51\u001b[0m, in \u001b[0;36mOkt.__init__\u001b[0;34m(self, jvmpath, max_heap_size)\u001b[0m\n\u001b[1;32m     49\u001b[0m \u001b[39mdef\u001b[39;00m \u001b[39m__init__\u001b[39m(\u001b[39mself\u001b[39m, jvmpath\u001b[39m=\u001b[39m\u001b[39mNone\u001b[39;00m, max_heap_size\u001b[39m=\u001b[39m\u001b[39m1024\u001b[39m):\n\u001b[1;32m     50\u001b[0m     \u001b[39mif\u001b[39;00m \u001b[39mnot\u001b[39;00m jpype\u001b[39m.\u001b[39misJVMStarted():\n\u001b[0;32m---> 51\u001b[0m         jvm\u001b[39m.\u001b[39;49minit_jvm(jvmpath, max_heap_size)\n\u001b[1;32m     53\u001b[0m     oktJavaPackage \u001b[39m=\u001b[39m jpype\u001b[39m.\u001b[39mJPackage(\u001b[39m'\u001b[39m\u001b[39mkr.lucypark.okt\u001b[39m\u001b[39m'\u001b[39m)\n\u001b[1;32m     54\u001b[0m     OktInterfaceJavaClass \u001b[39m=\u001b[39m oktJavaPackage\u001b[39m.\u001b[39mOktInterface\n",
      "File \u001b[0;32m~/miniforge3/envs/LLP/lib/python3.10/site-packages/konlpy/jvm.py:55\u001b[0m, in \u001b[0;36minit_jvm\u001b[0;34m(jvmpath, max_heap_size)\u001b[0m\n\u001b[1;32m     52\u001b[0m args \u001b[39m=\u001b[39m [javadir, os\u001b[39m.\u001b[39msep]\n\u001b[1;32m     53\u001b[0m classpath \u001b[39m=\u001b[39m [f\u001b[39m.\u001b[39mformat(\u001b[39m*\u001b[39margs) \u001b[39mfor\u001b[39;00m f \u001b[39min\u001b[39;00m folder_suffix]\n\u001b[0;32m---> 55\u001b[0m jvmpath \u001b[39m=\u001b[39m jvmpath \u001b[39mor\u001b[39;00m jpype\u001b[39m.\u001b[39;49mgetDefaultJVMPath()\n\u001b[1;32m     57\u001b[0m \u001b[39m# NOTE: Temporary patch for Issue #76. Erase when possible.\u001b[39;00m\n\u001b[1;32m     58\u001b[0m \u001b[39mif\u001b[39;00m sys\u001b[39m.\u001b[39mplatform \u001b[39m==\u001b[39m \u001b[39m'\u001b[39m\u001b[39mdarwin\u001b[39m\u001b[39m'\u001b[39m\\\n\u001b[1;32m     59\u001b[0m         \u001b[39mand\u001b[39;00m jvmpath\u001b[39m.\u001b[39mfind(\u001b[39m'\u001b[39m\u001b[39m1.8.0\u001b[39m\u001b[39m'\u001b[39m) \u001b[39m>\u001b[39m \u001b[39m0\u001b[39m\\\n\u001b[1;32m     60\u001b[0m         \u001b[39mand\u001b[39;00m jvmpath\u001b[39m.\u001b[39mendswith(\u001b[39m'\u001b[39m\u001b[39mlibjvm.dylib\u001b[39m\u001b[39m'\u001b[39m):\n",
      "File \u001b[0;32m~/miniforge3/envs/LLP/lib/python3.10/site-packages/jpype/_jvmfinder.py:74\u001b[0m, in \u001b[0;36mgetDefaultJVMPath\u001b[0;34m()\u001b[0m\n\u001b[1;32m     72\u001b[0m \u001b[39melse\u001b[39;00m:\n\u001b[1;32m     73\u001b[0m     finder \u001b[39m=\u001b[39m LinuxJVMFinder()\n\u001b[0;32m---> 74\u001b[0m \u001b[39mreturn\u001b[39;00m finder\u001b[39m.\u001b[39;49mget_jvm_path()\n",
      "File \u001b[0;32m~/miniforge3/envs/LLP/lib/python3.10/site-packages/jpype/_jvmfinder.py:212\u001b[0m, in \u001b[0;36mJVMFinder.get_jvm_path\u001b[0;34m(self)\u001b[0m\n\u001b[1;32m    210\u001b[0m \u001b[39mif\u001b[39;00m jvm_notsupport_ext \u001b[39mis\u001b[39;00m \u001b[39mnot\u001b[39;00m \u001b[39mNone\u001b[39;00m:\n\u001b[1;32m    211\u001b[0m     \u001b[39mraise\u001b[39;00m jvm_notsupport_ext\n\u001b[0;32m--> 212\u001b[0m \u001b[39mraise\u001b[39;00m JVMNotFoundException(\u001b[39m\"\u001b[39m\u001b[39mNo JVM shared library file (\u001b[39m\u001b[39m{0}\u001b[39;00m\u001b[39m) \u001b[39m\u001b[39m\"\u001b[39m\n\u001b[1;32m    213\u001b[0m                            \u001b[39m\"\u001b[39m\u001b[39mfound. Try setting up the JAVA_HOME \u001b[39m\u001b[39m\"\u001b[39m\n\u001b[1;32m    214\u001b[0m                            \u001b[39m\"\u001b[39m\u001b[39menvironment variable properly.\u001b[39m\u001b[39m\"\u001b[39m\n\u001b[1;32m    215\u001b[0m                            \u001b[39m.\u001b[39mformat(\u001b[39mself\u001b[39m\u001b[39m.\u001b[39m_libfile))\n",
      "\u001b[0;31mJVMNotFoundException\u001b[0m: No JVM shared library file (libjli.dylib) found. Try setting up the JAVA_HOME environment variable properly."
     ]
    }
   ],
   "source": [
    "from konlpy.tag import Mecab \n",
    "from konlpy.tag import Okt\n",
    "okt = Okt()"
   ]
  },
  {
   "cell_type": "code",
   "execution_count": 59,
   "metadata": {},
   "outputs": [],
   "source": [
    "def clean_text(text): \n",
    "    \"\"\" 한글, 영문, 숫자만 남기고 제거한다. \n",
    "    :param text: \n",
    "    :return: \n",
    "    \"\"\" \n",
    "    text = text.replace(\".\", \" \").strip() \n",
    "    text = text.replace(\"·\", \" \").strip() \n",
    "    pattern = '[^ ㄱ-ㅣ가-힣|0-9|a-zA-Z]+' \n",
    "    text = re.sub(pattern=pattern, repl='', string=text) \n",
    "    return text \n",
    "    \n",
    "def get_nouns(tokenizer, sentence): \n",
    "    \"\"\" 단어의 길이가 2이상인 일반명사(NNG),\n",
    "     고유명사(NNP), 외국어(SL)만을 반환한다. \n",
    "     :param tokenizer: \n",
    "     :param sentence: :return: \"\"\" \n",
    "    tagged = tokenizer.nouns(sentence)\n",
    "    nouns = [s for s in tagged if len(s)>1] \n",
    "     \n",
    "    return nouns \n",
    "     \n",
    "     \n",
    "def tokenize(df): \n",
    "    tokenizer = okt\n",
    "    processed_data = [] \n",
    "    for sent in tqdm(df['reviews']):\n",
    "        sentence = clean_text(sent.replace('\\n', '').strip()) \n",
    "        processed_data.append(get_nouns(tokenizer, sentence)) \n",
    "        \n",
    "    return processed_data\n",
    "    \n",
    "    \n",
    "def save_processed_data(processed_data): \n",
    "    \"\"\" 토큰 분리한 데이터를 csv로 저장 :param processed_data: :return: \"\"\" \n",
    "    \n",
    "    with open('lsa_token_pos.csv', 'w', newline='', encoding='utf-8') as f: \n",
    "        writer = csv.writer(f) \n",
    "        for data in processed_data:\n",
    "             writer.writerow(data)"
   ]
  },
  {
   "cell_type": "code",
   "execution_count": 54,
   "metadata": {},
   "outputs": [
    {
     "data": {
      "text/html": [
       "<div>\n",
       "<style scoped>\n",
       "    .dataframe tbody tr th:only-of-type {\n",
       "        vertical-align: middle;\n",
       "    }\n",
       "\n",
       "    .dataframe tbody tr th {\n",
       "        vertical-align: top;\n",
       "    }\n",
       "\n",
       "    .dataframe thead th {\n",
       "        text-align: right;\n",
       "    }\n",
       "</style>\n",
       "<table border=\"1\" class=\"dataframe\">\n",
       "  <thead>\n",
       "    <tr style=\"text-align: right;\">\n",
       "      <th></th>\n",
       "      <th>movie_cnt</th>\n",
       "      <th>movie_title</th>\n",
       "      <th>age</th>\n",
       "      <th>reviews</th>\n",
       "      <th>sent_number</th>\n",
       "      <th>full_pos</th>\n",
       "      <th>final_pos</th>\n",
       "      <th>final_pos_tag</th>\n",
       "    </tr>\n",
       "  </thead>\n",
       "  <tbody>\n",
       "    <tr>\n",
       "      <th>587</th>\n",
       "      <td>264번</td>\n",
       "      <td>Ant-Man</td>\n",
       "      <td>7</td>\n",
       "      <td>Ant man is a great marvel movie for younger an...</td>\n",
       "      <td>4</td>\n",
       "      <td>[[(Ant, NNP)], (man, NN), (great, JJ), (marvel...</td>\n",
       "      <td>[man, great, marvel, movie, younger, older, ki...</td>\n",
       "      <td>[(man, NN), (great, JJ), (marvel, JJ), (movie,...</td>\n",
       "    </tr>\n",
       "    <tr>\n",
       "      <th>588</th>\n",
       "      <td>264번</td>\n",
       "      <td>Ant-Man</td>\n",
       "      <td>7</td>\n",
       "      <td>Not even appropriate for adults  A man brags a...</td>\n",
       "      <td>3</td>\n",
       "      <td>[(Not, RB), (even, RB), (appropriate, JJ), (ad...</td>\n",
       "      <td>[even, appropriate, adults, man, brag, touch, ...</td>\n",
       "      <td>[(even, RB), (appropriate, JJ), (adults, NNS),...</td>\n",
       "    </tr>\n",
       "    <tr>\n",
       "      <th>589</th>\n",
       "      <td>264번</td>\n",
       "      <td>Ant-Man</td>\n",
       "      <td>7</td>\n",
       "      <td>Ant man is just a great movie and is quite fam...</td>\n",
       "      <td>1</td>\n",
       "      <td>[[(Ant, NNP)], (man, NN), (great, JJ), (movie,...</td>\n",
       "      <td>[man, great, movie, quite, family, friendly]</td>\n",
       "      <td>[(man, NN), (great, JJ), (movie, NN), (quite, ...</td>\n",
       "    </tr>\n",
       "    <tr>\n",
       "      <th>590</th>\n",
       "      <td>264번</td>\n",
       "      <td>Ant-Man</td>\n",
       "      <td>7</td>\n",
       "      <td>Family friendly unless you consider people get...</td>\n",
       "      <td>5</td>\n",
       "      <td>[(Family, RB), (friendly, JJ), (unless, IN), (...</td>\n",
       "      <td>[family, friendly, unless, consider, people, g...</td>\n",
       "      <td>[(family, NN), (friendly, RB), (unless, IN), (...</td>\n",
       "    </tr>\n",
       "    <tr>\n",
       "      <th>591</th>\n",
       "      <td>264번</td>\n",
       "      <td>Ant-Man</td>\n",
       "      <td>7</td>\n",
       "      <td>I think its a really good movie for ages eight...</td>\n",
       "      <td>1</td>\n",
       "      <td>[(I, PRP), (think, VBP), (really, RB), (good, ...</td>\n",
       "      <td>[think, really, good, movie, age, eight, reall...</td>\n",
       "      <td>[(think, VB), (really, RB), (good, JJ), (movie...</td>\n",
       "    </tr>\n",
       "  </tbody>\n",
       "</table>\n",
       "</div>"
      ],
      "text/plain": [
       "    movie_cnt movie_title  age  \\\n",
       "587      264번     Ant-Man    7   \n",
       "588      264번     Ant-Man    7   \n",
       "589      264번     Ant-Man    7   \n",
       "590      264번     Ant-Man    7   \n",
       "591      264번     Ant-Man    7   \n",
       "\n",
       "                                               reviews  sent_number  \\\n",
       "587  Ant man is a great marvel movie for younger an...            4   \n",
       "588  Not even appropriate for adults  A man brags a...            3   \n",
       "589  Ant man is just a great movie and is quite fam...            1   \n",
       "590  Family friendly unless you consider people get...            5   \n",
       "591  I think its a really good movie for ages eight...            1   \n",
       "\n",
       "                                              full_pos  \\\n",
       "587  [[(Ant, NNP)], (man, NN), (great, JJ), (marvel...   \n",
       "588  [(Not, RB), (even, RB), (appropriate, JJ), (ad...   \n",
       "589  [[(Ant, NNP)], (man, NN), (great, JJ), (movie,...   \n",
       "590  [(Family, RB), (friendly, JJ), (unless, IN), (...   \n",
       "591  [(I, PRP), (think, VBP), (really, RB), (good, ...   \n",
       "\n",
       "                                             final_pos  \\\n",
       "587  [man, great, marvel, movie, younger, older, ki...   \n",
       "588  [even, appropriate, adults, man, brag, touch, ...   \n",
       "589       [man, great, movie, quite, family, friendly]   \n",
       "590  [family, friendly, unless, consider, people, g...   \n",
       "591  [think, really, good, movie, age, eight, reall...   \n",
       "\n",
       "                                         final_pos_tag  \n",
       "587  [(man, NN), (great, JJ), (marvel, JJ), (movie,...  \n",
       "588  [(even, RB), (appropriate, JJ), (adults, NNS),...  \n",
       "589  [(man, NN), (great, JJ), (movie, NN), (quite, ...  \n",
       "590  [(family, NN), (friendly, RB), (unless, IN), (...  \n",
       "591  [(think, VB), (really, RB), (good, JJ), (movie...  "
      ]
     },
     "execution_count": 54,
     "metadata": {},
     "output_type": "execute_result"
    }
   ],
   "source": [
    "data.head()"
   ]
  },
  {
   "cell_type": "code",
   "execution_count": 56,
   "metadata": {},
   "outputs": [
    {
     "name": "stderr",
     "output_type": "stream",
     "text": [
      "100%|██████████| 72075/72075 [00:00<00:00, 206022.24it/s]\n"
     ]
    }
   ],
   "source": [
    "for sent in tqdm(data['reviews']):\n",
    "    try:\n",
    "        sentence = clean_text(sent.replace('\\n', '').strip())\n",
    "        # print(sentence)\n",
    "    except:\n",
    "        print(sent)\n",
    "        pass"
   ]
  },
  {
   "cell_type": "code",
   "execution_count": 62,
   "metadata": {},
   "outputs": [],
   "source": [
    "from konlpy.tag import Okt"
   ]
  },
  {
   "cell_type": "code",
   "execution_count": 64,
   "metadata": {},
   "outputs": [
    {
     "ename": "NameError",
     "evalue": "name 'okt' is not defined",
     "output_type": "error",
     "traceback": [
      "\u001b[0;31m---------------------------------------------------------------------------\u001b[0m",
      "\u001b[0;31mNameError\u001b[0m                                 Traceback (most recent call last)",
      "Cell \u001b[0;32mIn[64], line 5\u001b[0m\n\u001b[1;32m      1\u001b[0m \u001b[39m## 오래걸리니까 조심\u001b[39;00m\n\u001b[1;32m      3\u001b[0m \u001b[39mif\u001b[39;00m \u001b[39m__name__\u001b[39m \u001b[39m==\u001b[39m \u001b[39m'\u001b[39m\u001b[39m__main__\u001b[39m\u001b[39m'\u001b[39m:\n\u001b[1;32m      4\u001b[0m      \u001b[39m# df = pd.read_csv('negative.csv', index_col = 0)\u001b[39;00m\n\u001b[0;32m----> 5\u001b[0m      processed_data \u001b[39m=\u001b[39m tokenize(data) \u001b[39m# description 부분을 토크나이징 한다. \u001b[39;00m\n\u001b[1;32m      7\u001b[0m      \u001b[39m# 토큰 분리한 데이터를 저장 \u001b[39;00m\n\u001b[1;32m      8\u001b[0m      save_processed_data(processed_data)\n",
      "Cell \u001b[0;32mIn[59], line 24\u001b[0m, in \u001b[0;36mtokenize\u001b[0;34m(df)\u001b[0m\n\u001b[1;32m     23\u001b[0m \u001b[39mdef\u001b[39;00m \u001b[39mtokenize\u001b[39m(df): \n\u001b[0;32m---> 24\u001b[0m     tokenizer \u001b[39m=\u001b[39m okt\n\u001b[1;32m     25\u001b[0m     processed_data \u001b[39m=\u001b[39m [] \n\u001b[1;32m     26\u001b[0m     \u001b[39mfor\u001b[39;00m sent \u001b[39min\u001b[39;00m tqdm(df[\u001b[39m'\u001b[39m\u001b[39mreviews\u001b[39m\u001b[39m'\u001b[39m]):\n",
      "\u001b[0;31mNameError\u001b[0m: name 'okt' is not defined"
     ]
    }
   ],
   "source": [
    "## 오래걸리니까 조심\n",
    "\n",
    "if __name__ == '__main__':\n",
    "     # df = pd.read_csv('negative.csv', index_col = 0)\n",
    "     processed_data = tokenize(data) # description 부분을 토크나이징 한다. \n",
    "     \n",
    "     # 토큰 분리한 데이터를 저장 \n",
    "     save_processed_data(processed_data)\n"
   ]
  },
  {
   "cell_type": "code",
   "execution_count": null,
   "metadata": {},
   "outputs": [],
   "source": []
  },
  {
   "cell_type": "code",
   "execution_count": null,
   "metadata": {},
   "outputs": [],
   "source": []
  },
  {
   "cell_type": "code",
   "execution_count": null,
   "metadata": {},
   "outputs": [],
   "source": []
  },
  {
   "cell_type": "code",
   "execution_count": null,
   "metadata": {},
   "outputs": [],
   "source": []
  },
  {
   "cell_type": "code",
   "execution_count": null,
   "metadata": {},
   "outputs": [],
   "source": []
  },
  {
   "attachments": {},
   "cell_type": "markdown",
   "metadata": {},
   "source": [
    "##### ne_chunk로 NER한 후, 재tagging"
   ]
  },
  {
   "cell_type": "code",
   "execution_count": 48,
   "metadata": {},
   "outputs": [
    {
     "data": {
      "text/html": [
       "<div>\n",
       "<style scoped>\n",
       "    .dataframe tbody tr th:only-of-type {\n",
       "        vertical-align: middle;\n",
       "    }\n",
       "\n",
       "    .dataframe tbody tr th {\n",
       "        vertical-align: top;\n",
       "    }\n",
       "\n",
       "    .dataframe thead th {\n",
       "        text-align: right;\n",
       "    }\n",
       "</style>\n",
       "<table border=\"1\" class=\"dataframe\">\n",
       "  <thead>\n",
       "    <tr style=\"text-align: right;\">\n",
       "      <th></th>\n",
       "      <th>movie_cnt</th>\n",
       "      <th>movie_title</th>\n",
       "      <th>age</th>\n",
       "      <th>reviews</th>\n",
       "      <th>sent_number</th>\n",
       "      <th>full_pos</th>\n",
       "      <th>final_pos</th>\n",
       "      <th>final_pos_tag</th>\n",
       "    </tr>\n",
       "  </thead>\n",
       "  <tbody>\n",
       "    <tr>\n",
       "      <th>574</th>\n",
       "      <td>264번</td>\n",
       "      <td>Ant-Man</td>\n",
       "      <td>8</td>\n",
       "      <td>I personally enjoyed this movie  It was funny ...</td>\n",
       "      <td>3</td>\n",
       "      <td>[(I, PRP), (personally, RB), (enjoy, VBP), (mo...</td>\n",
       "      <td>[personally, enjoy, movie, funny, plot, decent...</td>\n",
       "      <td>[(personally, RB), (enjoy, JJ), (movie, NN), (...</td>\n",
       "    </tr>\n",
       "    <tr>\n",
       "      <th>575</th>\n",
       "      <td>264번</td>\n",
       "      <td>Ant-Man</td>\n",
       "      <td>8</td>\n",
       "      <td>Clever funny cool Marvel movie that has lots o...</td>\n",
       "      <td>1</td>\n",
       "      <td>[[(Clever, NNP)], (funny, JJ), (cool, NN), [(M...</td>\n",
       "      <td>[funny, cool, movie, lot, scifi, action]</td>\n",
       "      <td>[(funny, JJ), (cool, JJ), (movie, NN), (lot, N...</td>\n",
       "    </tr>\n",
       "    <tr>\n",
       "      <th>576</th>\n",
       "      <td>264번</td>\n",
       "      <td>Ant-Man</td>\n",
       "      <td>8</td>\n",
       "      <td>A vary good movie  It is a superhero movie so ...</td>\n",
       "      <td>3</td>\n",
       "      <td>[(A, DT), (vary, JJ), (good, JJ), (movie, NN),...</td>\n",
       "      <td>[vary, good, movie, superhero, movie, theres, ...</td>\n",
       "      <td>[(vary, JJ), (good, JJ), (movie, NN), (superhe...</td>\n",
       "    </tr>\n",
       "    <tr>\n",
       "      <th>577</th>\n",
       "      <td>264번</td>\n",
       "      <td>Ant-Man</td>\n",
       "      <td>8</td>\n",
       "      <td>Antman is funny and a little violent  The viol...</td>\n",
       "      <td>3</td>\n",
       "      <td>[[(Antman, NNP)], (funny, VBD), (little, JJ), ...</td>\n",
       "      <td>[funny, little, violent, violence, pretty, sta...</td>\n",
       "      <td>[(funny, JJ), (little, JJ), (violent, JJ), (vi...</td>\n",
       "    </tr>\n",
       "    <tr>\n",
       "      <th>578</th>\n",
       "      <td>264번</td>\n",
       "      <td>Ant-Man</td>\n",
       "      <td>8</td>\n",
       "      <td>I watched Ant Man in theatres in Switzerland w...</td>\n",
       "      <td>13</td>\n",
       "      <td>[(I, PRP), (watch, VBP), [(Ant, NNP), (Man, NN...</td>\n",
       "      <td>[watch, theatres, brother, mom, review, mine, ...</td>\n",
       "      <td>[(watch, NN), (theatres, VBZ), (brother, JJR),...</td>\n",
       "    </tr>\n",
       "  </tbody>\n",
       "</table>\n",
       "</div>"
      ],
      "text/plain": [
       "    movie_cnt movie_title  age  \\\n",
       "574      264번     Ant-Man    8   \n",
       "575      264번     Ant-Man    8   \n",
       "576      264번     Ant-Man    8   \n",
       "577      264번     Ant-Man    8   \n",
       "578      264번     Ant-Man    8   \n",
       "\n",
       "                                               reviews  sent_number  \\\n",
       "574  I personally enjoyed this movie  It was funny ...            3   \n",
       "575  Clever funny cool Marvel movie that has lots o...            1   \n",
       "576  A vary good movie  It is a superhero movie so ...            3   \n",
       "577  Antman is funny and a little violent  The viol...            3   \n",
       "578  I watched Ant Man in theatres in Switzerland w...           13   \n",
       "\n",
       "                                              full_pos  \\\n",
       "574  [(I, PRP), (personally, RB), (enjoy, VBP), (mo...   \n",
       "575  [[(Clever, NNP)], (funny, JJ), (cool, NN), [(M...   \n",
       "576  [(A, DT), (vary, JJ), (good, JJ), (movie, NN),...   \n",
       "577  [[(Antman, NNP)], (funny, VBD), (little, JJ), ...   \n",
       "578  [(I, PRP), (watch, VBP), [(Ant, NNP), (Man, NN...   \n",
       "\n",
       "                                             final_pos  \\\n",
       "574  [personally, enjoy, movie, funny, plot, decent...   \n",
       "575           [funny, cool, movie, lot, scifi, action]   \n",
       "576  [vary, good, movie, superhero, movie, theres, ...   \n",
       "577  [funny, little, violent, violence, pretty, sta...   \n",
       "578  [watch, theatres, brother, mom, review, mine, ...   \n",
       "\n",
       "                                         final_pos_tag  \n",
       "574  [(personally, RB), (enjoy, JJ), (movie, NN), (...  \n",
       "575  [(funny, JJ), (cool, JJ), (movie, NN), (lot, N...  \n",
       "576  [(vary, JJ), (good, JJ), (movie, NN), (superhe...  \n",
       "577  [(funny, JJ), (little, JJ), (violent, JJ), (vi...  \n",
       "578  [(watch, NN), (theatres, VBZ), (brother, JJR),...  "
      ]
     },
     "execution_count": 48,
     "metadata": {},
     "output_type": "execute_result"
    }
   ],
   "source": [
    "data.head()"
   ]
  },
  {
   "cell_type": "code",
   "execution_count": 49,
   "metadata": {},
   "outputs": [
    {
     "data": {
      "text/plain": [
       "[('personally', 'RB'),\n",
       " ('enjoy', 'JJ'),\n",
       " ('movie', 'NN'),\n",
       " ('funny', 'JJ'),\n",
       " ('plot', 'NN'),\n",
       " ('decent', 'NN'),\n",
       " ('thankfully', 'RB'),\n",
       " ('probably', 'RB'),\n",
       " ('others', 'NNS'),\n",
       " ('wasnt', 'RB'),\n",
       " ('much', 'JJ'),\n",
       " ('term', 'NN'),\n",
       " ('sexual', 'JJ'),\n",
       " ('innuendos', 'NN'),\n",
       " ('kiss', 'JJ'),\n",
       " ('comment', 'NN'),\n",
       " ('relate', 'NN'),\n",
       " ('topic', 'NN'),\n",
       " ('overall', 'JJ'),\n",
       " ('wasnt', 'NN'),\n",
       " ('bad', 'JJ'),\n",
       " ('iron', 'NN'),\n",
       " ('man', 'NN')]"
      ]
     },
     "execution_count": 49,
     "metadata": {},
     "output_type": "execute_result"
    }
   ],
   "source": [
    "data.final_pos_tag.tolist()[0]"
   ]
  },
  {
   "cell_type": "code",
   "execution_count": null,
   "metadata": {},
   "outputs": [],
   "source": []
  },
  {
   "cell_type": "code",
   "execution_count": null,
   "metadata": {},
   "outputs": [],
   "source": []
  },
  {
   "cell_type": "code",
   "execution_count": null,
   "metadata": {},
   "outputs": [],
   "source": []
  },
  {
   "cell_type": "code",
   "execution_count": null,
   "metadata": {},
   "outputs": [],
   "source": []
  },
  {
   "cell_type": "code",
   "execution_count": null,
   "metadata": {},
   "outputs": [],
   "source": []
  },
  {
   "cell_type": "code",
   "execution_count": 241,
   "metadata": {},
   "outputs": [
    {
     "name": "stdout",
     "output_type": "stream",
     "text": [
      "Apple is looking at buying U.K. startup for $ 1 billion\n"
     ]
    }
   ],
   "source": [
    "import nltk\n",
    "\n",
    "# Example sentence\n",
    "sentence = \"Apple is looking at buying U.K. startup for $1 billion\"\n",
    "\n",
    "# Tokenize the sentence\n",
    "tokens = nltk.word_tokenize(sentence)\n",
    "\n",
    "# Perform part-of-speech tagging\n",
    "pos_tags = nltk.pos_tag(tokens)\n",
    "\n",
    "# Perform named entity recognition\n",
    "chunked = nltk.ne_chunk(pos_tags)\n",
    "\n",
    "# Remove named entities from the original sentence\n",
    "filtered_sentence = ' '.join([w[0] for w in pos_tags if not hasattr(w, 'label')])\n",
    "\n",
    "print(filtered_sentence)"
   ]
  },
  {
   "attachments": {},
   "cell_type": "markdown",
   "metadata": {},
   "source": [
    "### RRE"
   ]
  },
  {
   "cell_type": "code",
   "execution_count": 51,
   "metadata": {},
   "outputs": [
    {
     "data": {
      "text/html": [
       "<div>\n",
       "<style scoped>\n",
       "    .dataframe tbody tr th:only-of-type {\n",
       "        vertical-align: middle;\n",
       "    }\n",
       "\n",
       "    .dataframe tbody tr th {\n",
       "        vertical-align: top;\n",
       "    }\n",
       "\n",
       "    .dataframe thead th {\n",
       "        text-align: right;\n",
       "    }\n",
       "</style>\n",
       "<table border=\"1\" class=\"dataframe\">\n",
       "  <thead>\n",
       "    <tr style=\"text-align: right;\">\n",
       "      <th></th>\n",
       "      <th>Unnamed: 0</th>\n",
       "      <th>movie_cnt</th>\n",
       "      <th>movie_title</th>\n",
       "      <th>age</th>\n",
       "      <th>reviews</th>\n",
       "    </tr>\n",
       "  </thead>\n",
       "  <tbody>\n",
       "    <tr>\n",
       "      <th>0</th>\n",
       "      <td>574</td>\n",
       "      <td>264번</td>\n",
       "      <td>Ant-Man</td>\n",
       "      <td>8</td>\n",
       "      <td>-I personally enjoyed this movie. It was funny...</td>\n",
       "    </tr>\n",
       "    <tr>\n",
       "      <th>1</th>\n",
       "      <td>575</td>\n",
       "      <td>264번</td>\n",
       "      <td>Ant-Man</td>\n",
       "      <td>8</td>\n",
       "      <td>-Clever, funny, cool Marvel movie that has lot...</td>\n",
       "    </tr>\n",
       "    <tr>\n",
       "      <th>2</th>\n",
       "      <td>576</td>\n",
       "      <td>264번</td>\n",
       "      <td>Ant-Man</td>\n",
       "      <td>8</td>\n",
       "      <td>-A vary good movie. It is a superhero movie so...</td>\n",
       "    </tr>\n",
       "    <tr>\n",
       "      <th>3</th>\n",
       "      <td>577</td>\n",
       "      <td>264번</td>\n",
       "      <td>Ant-Man</td>\n",
       "      <td>8</td>\n",
       "      <td>-Ant-man is funny and a little violent. The vi...</td>\n",
       "    </tr>\n",
       "    <tr>\n",
       "      <th>4</th>\n",
       "      <td>578</td>\n",
       "      <td>264번</td>\n",
       "      <td>Ant-Man</td>\n",
       "      <td>8</td>\n",
       "      <td>-I watched Ant Man in theatres in Switzerland ...</td>\n",
       "    </tr>\n",
       "  </tbody>\n",
       "</table>\n",
       "</div>"
      ],
      "text/plain": [
       "   Unnamed: 0 movie_cnt movie_title  age  \\\n",
       "0         574      264번     Ant-Man    8   \n",
       "1         575      264번     Ant-Man    8   \n",
       "2         576      264번     Ant-Man    8   \n",
       "3         577      264번     Ant-Man    8   \n",
       "4         578      264번     Ant-Man    8   \n",
       "\n",
       "                                             reviews  \n",
       "0  -I personally enjoyed this movie. It was funny...  \n",
       "1  -Clever, funny, cool Marvel movie that has lot...  \n",
       "2  -A vary good movie. It is a superhero movie so...  \n",
       "3  -Ant-man is funny and a little violent. The vi...  \n",
       "4  -I watched Ant Man in theatres in Switzerland ...  "
      ]
     },
     "execution_count": 51,
     "metadata": {},
     "output_type": "execute_result"
    }
   ],
   "source": [
    "df = pd.read_csv('/Users/kimmonica/Documents/GitHub/Text_Mining/common_sense_movie/[230617]child_data.csv')\n",
    "df.head()"
   ]
  },
  {
   "cell_type": "code",
   "execution_count": 52,
   "metadata": {},
   "outputs": [
    {
     "name": "stdout",
     "output_type": "stream",
     "text": [
      "(7015, 2)\n",
      "(2231, 2)\n"
     ]
    }
   ],
   "source": [
    "data = df[['age', 'reviews']]\n",
    "print(data.shape)\n",
    "data = data.drop_duplicates()\n",
    "print(data.shape)\n",
    "data.to_csv('final_use.csv')"
   ]
  },
  {
   "cell_type": "code",
   "execution_count": null,
   "metadata": {},
   "outputs": [],
   "source": []
  }
 ],
 "metadata": {
  "kernelspec": {
   "display_name": "analyze",
   "language": "python",
   "name": "python3"
  },
  "language_info": {
   "codemirror_mode": {
    "name": "ipython",
    "version": 3
   },
   "file_extension": ".py",
   "mimetype": "text/x-python",
   "name": "python",
   "nbconvert_exporter": "python",
   "pygments_lexer": "ipython3",
   "version": "3.10.0"
  },
  "orig_nbformat": 4
 },
 "nbformat": 4,
 "nbformat_minor": 2
}
