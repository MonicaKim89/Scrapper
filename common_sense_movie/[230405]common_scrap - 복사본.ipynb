{
 "cells": [
  {
   "cell_type": "code",
   "execution_count": 10,
   "metadata": {},
   "outputs": [],
   "source": [
    "from selenium import webdriver\n",
    "from selenium.webdriver.common.keys import Keys\n",
    "from selenium.webdriver.support.ui import WebDriverWait\n",
    "from selenium.common.exceptions import NoSuchElementException\n",
    "import selenium.common.exceptions as sex\n",
    "\n",
    "import pandas as pd\n",
    "import numpy as np\n",
    "\n",
    "from bs4 import BeautifulSoup\n",
    "import lxml\n",
    "\n",
    "import time\n",
    "from time import sleep\n",
    "import random\n",
    "import re\n",
    "from selenium.webdriver.common.by import By\n",
    "from selenium.webdriver.common.action_chains import ActionChains\n",
    "\n",
    "from selenium.webdriver.common.by import By\n",
    "from selenium.webdriver.support.ui import WebDriverWait\n",
    "from selenium.webdriver.support import expected_conditions as EC\n",
    "\n",
    "from tqdm import tqdm"
   ]
  },
  {
   "cell_type": "code",
   "execution_count": 81,
   "metadata": {},
   "outputs": [
    {
     "name": "stderr",
     "output_type": "stream",
     "text": [
      "c:\\Users\\user\\anaconda3\\envs\\text_mining\\lib\\site-packages\\ipykernel_launcher.py:2: DeprecationWarning: executable_path has been deprecated, please pass in a Service object\n",
      "  \n"
     ]
    }
   ],
   "source": [
    "path = \"C:\\\\Users\\\\user\\\\Documents\\\\Monica's\\\\chromedriver.exe\"\n",
    "driver = webdriver.Chrome(path)\n",
    "driver.implicitly_wait(5)\n",
    "\n",
    "start_url = \"https://www.commonsensemedia.org/movie-lists\"\n",
    "driver.get(start_url)"
   ]
  },
  {
   "cell_type": "code",
   "execution_count": 82,
   "metadata": {},
   "outputs": [],
   "source": [
    "page = driver.page_source\n",
    "soup = BeautifulSoup(page, 'html.parser')"
   ]
  },
  {
   "cell_type": "code",
   "execution_count": 80,
   "metadata": {},
   "outputs": [],
   "source": [
    "driver.close()"
   ]
  },
  {
   "cell_type": "code",
   "execution_count": 86,
   "metadata": {},
   "outputs": [
    {
     "ename": "AttributeError",
     "evalue": "'WebDriver' object has no attribute 'find_element_by_xpath'",
     "output_type": "error",
     "traceback": [
      "\u001b[1;31m---------------------------------------------------------------------------\u001b[0m",
      "\u001b[1;31mAttributeError\u001b[0m                            Traceback (most recent call last)",
      "\u001b[1;32m~\\AppData\\Local\\Temp\\ipykernel_43352\\4170564165.py\u001b[0m in \u001b[0;36m<module>\u001b[1;34m\u001b[0m\n\u001b[0;32m     11\u001b[0m     \u001b[0mlink_list\u001b[0m\u001b[1;33m.\u001b[0m\u001b[0mappend\u001b[0m\u001b[1;33m(\u001b[0m\u001b[0mlink\u001b[0m\u001b[1;33m)\u001b[0m\u001b[1;33m\u001b[0m\u001b[0m\n\u001b[0;32m     12\u001b[0m \u001b[1;33m\u001b[0m\u001b[0m\n\u001b[1;32m---> 13\u001b[1;33m     \u001b[0mbutton\u001b[0m \u001b[1;33m=\u001b[0m \u001b[0mdriver\u001b[0m\u001b[1;33m.\u001b[0m\u001b[0mfind_element_by_xpath\u001b[0m\u001b[1;33m(\u001b[0m\u001b[1;34m'//*[@id=\"pagination-00c5c3ca-5eac-45ca-8a7d-fcf05c02006d\"]/ul/li[2]/a'\u001b[0m\u001b[1;33m)\u001b[0m\u001b[1;33m.\u001b[0m\u001b[0mclick\u001b[0m\u001b[1;33m(\u001b[0m\u001b[1;33m)\u001b[0m\u001b[1;33m\u001b[0m\u001b[0m\n\u001b[0m",
      "\u001b[1;31mAttributeError\u001b[0m: 'WebDriver' object has no attribute 'find_element_by_xpath'"
     ]
    }
   ],
   "source": [
    "move_title = []\n",
    "link_list = []\n",
    "for i in soup.find_all('div', class_=\"col\"):\n",
    "    title = i.find('a')\n",
    "    move_title.append(title.text)\n",
    "    k = i.find('a', class_=\"link link--title\")\n",
    "    text = str(k)\n",
    "    text = text.split('href=\"')[-1]\n",
    "    link = text.split('\">')[0]\n",
    "    link = \"https://www.commonsensemedia.org\"+link\n",
    "    link_list.append(link)\n",
    "\n",
    "    button = driver.find_element(By.XPATH,r'//*//*[@id=\"BODY_BLOCK_JQUERY_REFLOW\"]/div[2]/div/div[2]/div/div/div/div/div[1]/div/div[1]/div/div[4]/div/div[2]/div/div/div/a[2]').click()"
   ]
  },
  {
   "cell_type": "code",
   "execution_count": 77,
   "metadata": {},
   "outputs": [
    {
     "data": {
      "text/plain": [
       "['',\n",
       " \"Kids' Choice Awards: All-Time Stars\",\n",
       " '2023 Oscar-Nominated Films',\n",
       " '2023 NAACP Image Award-Nominated Films',\n",
       " \"50 Modern Movies All Kids Should Watch Before They're 12\",\n",
       " 'Powerful Stories About Martin Luther King Jr.',\n",
       " 'Best Mystery Movies',\n",
       " 'Best U.K. Films of the Year: 2022',\n",
       " 'Best Movies of the Year: 2022',\n",
       " 'Movies & TV Shows That Celebrate Indigenous Peoples',\n",
       " '5 Family Movies to Celebrate the Day of the Dead',\n",
       " 'Halloween Essentials by Guillermo Del Toro',\n",
       " 'Movies That Represent and Celebrate Jewish Heritage',\n",
       " 'Best Latino Movies to Watch as a Family',\n",
       " 'Movies and TV Shows That Celebrate Black Music',\n",
       " 'Queer AND: Movies and TV Shows That Explore Intersectionality and LGBTQ+ Identities',\n",
       " 'Growing Up Queer: Thoughtful Movies and TV Shows About LGBTQ+ Youth',\n",
       " 'LGBTQ+ History on the Screen: Impactful Queer Moments and Figures in Movies and TV',\n",
       " 'Powerful Stories of Asian Immigrant Families',\n",
       " 'Movies & TV That Highlight the Bravery and Resilience of Asian, Asian American, Native Hawaiian, and Pacific Islander Communities',\n",
       " 'Movies & TV That Applaud Asian, Asian American, Native Hawaiian, and Pacific Islander Heroes & Competitors']"
      ]
     },
     "execution_count": 77,
     "metadata": {},
     "output_type": "execute_result"
    }
   ],
   "source": [
    "move_title"
   ]
  },
  {
   "cell_type": "code",
   "execution_count": null,
   "metadata": {},
   "outputs": [],
   "source": []
  }
 ],
 "metadata": {
  "kernelspec": {
   "display_name": "tensorflow37",
   "language": "python",
   "name": "python3"
  },
  "language_info": {
   "codemirror_mode": {
    "name": "ipython",
    "version": 3
   },
   "file_extension": ".py",
   "mimetype": "text/x-python",
   "name": "python",
   "nbconvert_exporter": "python",
   "pygments_lexer": "ipython3",
   "version": "3.7.0"
  },
  "orig_nbformat": 4
 },
 "nbformat": 4,
 "nbformat_minor": 2
}
