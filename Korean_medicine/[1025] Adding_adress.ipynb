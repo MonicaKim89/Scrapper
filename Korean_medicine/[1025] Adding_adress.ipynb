{
 "cells": [
  {
   "cell_type": "code",
   "execution_count": 1,
   "metadata": {},
   "outputs": [],
   "source": [
    "import pandas as pd\n",
    "import os"
   ]
  },
  {
   "cell_type": "code",
   "execution_count": 11,
   "metadata": {},
   "outputs": [],
   "source": [
    "review_data = pd.read_csv(\"C:\\\\Users\\\\yukir\\\\Documents\\\\Monicas_workspace\\\\Korea_medicine\\\\final_reviews.csv\", index_col=0)\n",
    "new_hospital = pd.read_csv(\"C:\\\\Users\\\\yukir\\\\Documents\\\\Monicas_workspace\\\\Korea_medicine\\\\new_hospital.csv\", index_col=0)\n",
    "new_modoo = pd.read_csv(\"C:\\\\Users\\\\yukir\\\\Documents\\\\Monicas_workspace\\\\Korea_medicine\\\\new_modoo.csv\", index_col=0)\n",
    "compare_set = pd.read_csv(\"C:\\\\Users\\\\yukir\\\\Documents\\\\Monicas_workspace\\\\Korea_medicine\\\\compare_set.csv\", index_col=0)"
   ]
  },
  {
   "cell_type": "code",
   "execution_count": 9,
   "metadata": {},
   "outputs": [
    {
     "data": {
      "text/html": [
       "<div>\n",
       "<style scoped>\n",
       "    .dataframe tbody tr th:only-of-type {\n",
       "        vertical-align: middle;\n",
       "    }\n",
       "\n",
       "    .dataframe tbody tr th {\n",
       "        vertical-align: top;\n",
       "    }\n",
       "\n",
       "    .dataframe thead th {\n",
       "        text-align: right;\n",
       "    }\n",
       "</style>\n",
       "<table border=\"1\" class=\"dataframe\">\n",
       "  <thead>\n",
       "    <tr style=\"text-align: right;\">\n",
       "      <th></th>\n",
       "      <th>hospital</th>\n",
       "      <th>stars</th>\n",
       "      <th>reviews</th>\n",
       "    </tr>\n",
       "  </thead>\n",
       "  <tbody>\n",
       "    <tr>\n",
       "      <th>0</th>\n",
       "      <td>청주나비솔한의원</td>\n",
       "      <td>10.0</td>\n",
       "      <td>병원이 전반적으로 깔끔해서 쾌적했어요대기가 좀 있지만 심하진 않은편이었고 간호사분...</td>\n",
       "    </tr>\n",
       "    <tr>\n",
       "      <th>1</th>\n",
       "      <td>청주나비솔한의원</td>\n",
       "      <td>7.5</td>\n",
       "      <td>체인 한의원이라서 망설였는데 시설도 깔끔하고 진료도 친절하게 너무 잘 봐주셨어요 ...</td>\n",
       "    </tr>\n",
       "    <tr>\n",
       "      <th>2</th>\n",
       "      <td>청주나비솔한의원</td>\n",
       "      <td>10.0</td>\n",
       "      <td>사고 후유증으로 놀라서 한의원 방문 하였고 침 놔주시고 청심환 처방 해주셨습니다....</td>\n",
       "    </tr>\n",
       "  </tbody>\n",
       "</table>\n",
       "</div>"
      ],
      "text/plain": [
       "   hospital  stars                                            reviews\n",
       "0  청주나비솔한의원   10.0   병원이 전반적으로 깔끔해서 쾌적했어요대기가 좀 있지만 심하진 않은편이었고 간호사분...\n",
       "1  청주나비솔한의원    7.5   체인 한의원이라서 망설였는데 시설도 깔끔하고 진료도 친절하게 너무 잘 봐주셨어요 ...\n",
       "2  청주나비솔한의원   10.0   사고 후유증으로 놀라서 한의원 방문 하였고 침 놔주시고 청심환 처방 해주셨습니다...."
      ]
     },
     "execution_count": 9,
     "metadata": {},
     "output_type": "execute_result"
    }
   ],
   "source": [
    "review_data.head(3)"
   ]
  },
  {
   "cell_type": "code",
   "execution_count": 10,
   "metadata": {},
   "outputs": [
    {
     "data": {
      "text/html": [
       "<div>\n",
       "<style scoped>\n",
       "    .dataframe tbody tr th:only-of-type {\n",
       "        vertical-align: middle;\n",
       "    }\n",
       "\n",
       "    .dataframe tbody tr th {\n",
       "        vertical-align: top;\n",
       "    }\n",
       "\n",
       "    .dataframe thead th {\n",
       "        text-align: right;\n",
       "    }\n",
       "</style>\n",
       "<table border=\"1\" class=\"dataframe\">\n",
       "  <thead>\n",
       "    <tr style=\"text-align: right;\">\n",
       "      <th></th>\n",
       "      <th>hospital</th>\n",
       "      <th>stars</th>\n",
       "      <th>reviews</th>\n",
       "      <th>adr</th>\n",
       "    </tr>\n",
       "  </thead>\n",
       "  <tbody>\n",
       "    <tr>\n",
       "      <th>38</th>\n",
       "      <td>미올한의원 안산점</td>\n",
       "      <td>6.3</td>\n",
       "      <td>갑자기 체한 느낌에 머리도 아프고 속이 안좋아서 한의원 찾다 집 앞에 바로 있어서...</td>\n",
       "      <td>new</td>\n",
       "    </tr>\n",
       "    <tr>\n",
       "      <th>60</th>\n",
       "      <td>미올한의원 순천점</td>\n",
       "      <td>10.0</td>\n",
       "      <td>교통사고가 난 후 치료를 위해 방문했어요.병원이 엄청 깨끗하고, 조용해요.원무과 ...</td>\n",
       "      <td>new</td>\n",
       "    </tr>\n",
       "    <tr>\n",
       "      <th>62</th>\n",
       "      <td>김성남한의원</td>\n",
       "      <td>10.0</td>\n",
       "      <td>동네였는데 한번도 가볼 생각을 못하다가 어깨에 담이 걸려서 움직이는게 불편해서 갔...</td>\n",
       "      <td>new</td>\n",
       "    </tr>\n",
       "  </tbody>\n",
       "</table>\n",
       "</div>"
      ],
      "text/plain": [
       "     hospital  stars                                            reviews  adr\n",
       "38  미올한의원 안산점    6.3   갑자기 체한 느낌에 머리도 아프고 속이 안좋아서 한의원 찾다 집 앞에 바로 있어서...  new\n",
       "60  미올한의원 순천점   10.0   교통사고가 난 후 치료를 위해 방문했어요.병원이 엄청 깨끗하고, 조용해요.원무과 ...  new\n",
       "62     김성남한의원   10.0   동네였는데 한번도 가볼 생각을 못하다가 어깨에 담이 걸려서 움직이는게 불편해서 갔...  new"
      ]
     },
     "execution_count": 10,
     "metadata": {},
     "output_type": "execute_result"
    }
   ],
   "source": [
    "new_hospital.head(3)"
   ]
  },
  {
   "cell_type": "code",
   "execution_count": 21,
   "metadata": {},
   "outputs": [
    {
     "data": {
      "text/html": [
       "<div>\n",
       "<style scoped>\n",
       "    .dataframe tbody tr th:only-of-type {\n",
       "        vertical-align: middle;\n",
       "    }\n",
       "\n",
       "    .dataframe tbody tr th {\n",
       "        vertical-align: top;\n",
       "    }\n",
       "\n",
       "    .dataframe thead th {\n",
       "        text-align: right;\n",
       "    }\n",
       "</style>\n",
       "<table border=\"1\" class=\"dataframe\">\n",
       "  <thead>\n",
       "    <tr style=\"text-align: right;\">\n",
       "      <th></th>\n",
       "      <th>hospital</th>\n",
       "      <th>adress</th>\n",
       "    </tr>\n",
       "  </thead>\n",
       "  <tbody>\n",
       "    <tr>\n",
       "      <th>0</th>\n",
       "      <td>미올한의원</td>\n",
       "      <td>경기도</td>\n",
       "    </tr>\n",
       "    <tr>\n",
       "      <th>1</th>\n",
       "      <td>로담한의원</td>\n",
       "      <td>서울</td>\n",
       "    </tr>\n",
       "    <tr>\n",
       "      <th>2</th>\n",
       "      <td>미올한의원</td>\n",
       "      <td>전라남도</td>\n",
       "    </tr>\n",
       "    <tr>\n",
       "      <th>3</th>\n",
       "      <td>김성남한의원</td>\n",
       "      <td>인천</td>\n",
       "    </tr>\n",
       "    <tr>\n",
       "      <th>4</th>\n",
       "      <td>모래시계한의원</td>\n",
       "      <td>서울</td>\n",
       "    </tr>\n",
       "  </tbody>\n",
       "</table>\n",
       "</div>"
      ],
      "text/plain": [
       "  hospital adress\n",
       "0    미올한의원    경기도\n",
       "1    로담한의원     서울\n",
       "2    미올한의원   전라남도\n",
       "3   김성남한의원     인천\n",
       "4  모래시계한의원     서울"
      ]
     },
     "execution_count": 21,
     "metadata": {},
     "output_type": "execute_result"
    }
   ],
   "source": [
    "compare_set.rename(columns={'adr':'adress'}, inplace=True)\n",
    "compare_set.head()"
   ]
  },
  {
   "cell_type": "code",
   "execution_count": 13,
   "metadata": {},
   "outputs": [
    {
     "data": {
      "text/html": [
       "<div>\n",
       "<style scoped>\n",
       "    .dataframe tbody tr th:only-of-type {\n",
       "        vertical-align: middle;\n",
       "    }\n",
       "\n",
       "    .dataframe tbody tr th {\n",
       "        vertical-align: top;\n",
       "    }\n",
       "\n",
       "    .dataframe thead th {\n",
       "        text-align: right;\n",
       "    }\n",
       "</style>\n",
       "<table border=\"1\" class=\"dataframe\">\n",
       "  <thead>\n",
       "    <tr style=\"text-align: right;\">\n",
       "      <th></th>\n",
       "      <th>hospital</th>\n",
       "      <th>review_count</th>\n",
       "      <th>link</th>\n",
       "      <th>adr_clean</th>\n",
       "      <th>adress</th>\n",
       "    </tr>\n",
       "  </thead>\n",
       "  <tbody>\n",
       "    <tr>\n",
       "      <th>0</th>\n",
       "      <td>자생한방병원</td>\n",
       "      <td>64</td>\n",
       "      <td>https://www.modoodoc.com/hospital/17186/%EC%9E...</td>\n",
       "      <td>서울</td>\n",
       "      <td>서울강남구논현1동</td>\n",
       "    </tr>\n",
       "    <tr>\n",
       "      <th>1</th>\n",
       "      <td>김민석한의원</td>\n",
       "      <td>29</td>\n",
       "      <td>https://www.modoodoc.com/hospital/14208/%EA%B9...</td>\n",
       "      <td>서울</td>\n",
       "      <td>서울마포구대흥동</td>\n",
       "    </tr>\n",
       "    <tr>\n",
       "      <th>2</th>\n",
       "      <td>춘원</td>\n",
       "      <td>31</td>\n",
       "      <td>https://www.modoodoc.com/hospital/17222/%EC%B6...</td>\n",
       "      <td>서울</td>\n",
       "      <td>서울종로구종로1.2.3.4가동</td>\n",
       "    </tr>\n",
       "  </tbody>\n",
       "</table>\n",
       "</div>"
      ],
      "text/plain": [
       "  hospital  review_count                                               link  \\\n",
       "0   자생한방병원            64  https://www.modoodoc.com/hospital/17186/%EC%9E...   \n",
       "1   김민석한의원            29  https://www.modoodoc.com/hospital/14208/%EA%B9...   \n",
       "2       춘원            31  https://www.modoodoc.com/hospital/17222/%EC%B6...   \n",
       "\n",
       "  adr_clean            adress  \n",
       "0        서울         서울강남구논현1동  \n",
       "1        서울          서울마포구대흥동  \n",
       "2        서울  서울종로구종로1.2.3.4가동  "
      ]
     },
     "execution_count": 13,
     "metadata": {},
     "output_type": "execute_result"
    }
   ],
   "source": [
    "new_modoo.head(3)"
   ]
  },
  {
   "cell_type": "code",
   "execution_count": 15,
   "metadata": {},
   "outputs": [
    {
     "data": {
      "text/html": [
       "<div>\n",
       "<style scoped>\n",
       "    .dataframe tbody tr th:only-of-type {\n",
       "        vertical-align: middle;\n",
       "    }\n",
       "\n",
       "    .dataframe tbody tr th {\n",
       "        vertical-align: top;\n",
       "    }\n",
       "\n",
       "    .dataframe thead th {\n",
       "        text-align: right;\n",
       "    }\n",
       "</style>\n",
       "<table border=\"1\" class=\"dataframe\">\n",
       "  <thead>\n",
       "    <tr style=\"text-align: right;\">\n",
       "      <th></th>\n",
       "      <th>hospital</th>\n",
       "      <th>adress</th>\n",
       "    </tr>\n",
       "  </thead>\n",
       "  <tbody>\n",
       "    <tr>\n",
       "      <th>0</th>\n",
       "      <td>자생한방병원</td>\n",
       "      <td>서울</td>\n",
       "    </tr>\n",
       "    <tr>\n",
       "      <th>1</th>\n",
       "      <td>김민석한의원</td>\n",
       "      <td>서울</td>\n",
       "    </tr>\n",
       "    <tr>\n",
       "      <th>2</th>\n",
       "      <td>춘원</td>\n",
       "      <td>서울</td>\n",
       "    </tr>\n",
       "    <tr>\n",
       "      <th>3</th>\n",
       "      <td>리봄한방병원</td>\n",
       "      <td>서울</td>\n",
       "    </tr>\n",
       "    <tr>\n",
       "      <th>4</th>\n",
       "      <td>부야한의원</td>\n",
       "      <td>경상북도</td>\n",
       "    </tr>\n",
       "  </tbody>\n",
       "</table>\n",
       "</div>"
      ],
      "text/plain": [
       "  hospital adress\n",
       "0   자생한방병원     서울\n",
       "1   김민석한의원     서울\n",
       "2       춘원     서울\n",
       "3   리봄한방병원     서울\n",
       "4    부야한의원   경상북도"
      ]
     },
     "execution_count": 15,
     "metadata": {},
     "output_type": "execute_result"
    }
   ],
   "source": [
    "hospital_info = pd.DataFrame({'hospital': new_modoo['hospital'].tolist(), 'adress': new_modoo['adr_clean'].tolist()})\n",
    "hospital_info.head()"
   ]
  },
  {
   "cell_type": "code",
   "execution_count": 23,
   "metadata": {},
   "outputs": [
    {
     "data": {
      "text/html": [
       "<div>\n",
       "<style scoped>\n",
       "    .dataframe tbody tr th:only-of-type {\n",
       "        vertical-align: middle;\n",
       "    }\n",
       "\n",
       "    .dataframe tbody tr th {\n",
       "        vertical-align: top;\n",
       "    }\n",
       "\n",
       "    .dataframe thead th {\n",
       "        text-align: right;\n",
       "    }\n",
       "</style>\n",
       "<table border=\"1\" class=\"dataframe\">\n",
       "  <thead>\n",
       "    <tr style=\"text-align: right;\">\n",
       "      <th></th>\n",
       "      <th>hospital</th>\n",
       "      <th>adress</th>\n",
       "    </tr>\n",
       "  </thead>\n",
       "  <tbody>\n",
       "    <tr>\n",
       "      <th>0</th>\n",
       "      <td>자생한방병원</td>\n",
       "      <td>서울</td>\n",
       "    </tr>\n",
       "    <tr>\n",
       "      <th>1</th>\n",
       "      <td>김민석한의원</td>\n",
       "      <td>서울</td>\n",
       "    </tr>\n",
       "    <tr>\n",
       "      <th>2</th>\n",
       "      <td>춘원</td>\n",
       "      <td>서울</td>\n",
       "    </tr>\n",
       "    <tr>\n",
       "      <th>3</th>\n",
       "      <td>리봄한방병원</td>\n",
       "      <td>서울</td>\n",
       "    </tr>\n",
       "    <tr>\n",
       "      <th>4</th>\n",
       "      <td>부야한의원</td>\n",
       "      <td>경상북도</td>\n",
       "    </tr>\n",
       "  </tbody>\n",
       "</table>\n",
       "</div>"
      ],
      "text/plain": [
       "  hospital adress\n",
       "0   자생한방병원     서울\n",
       "1   김민석한의원     서울\n",
       "2       춘원     서울\n",
       "3   리봄한방병원     서울\n",
       "4    부야한의원   경상북도"
      ]
     },
     "execution_count": 23,
     "metadata": {},
     "output_type": "execute_result"
    }
   ],
   "source": [
    "hospital_info = pd.concat([hospital_info, compare_set])\n",
    "hospital_info.head()"
   ]
  },
  {
   "cell_type": "markdown",
   "metadata": {},
   "source": [
    "## **ADD ADR**"
   ]
  },
  {
   "cell_type": "code",
   "execution_count": 36,
   "metadata": {},
   "outputs": [
    {
     "data": {
      "text/plain": [
       "4"
      ]
     },
     "execution_count": 36,
     "metadata": {},
     "output_type": "execute_result"
    }
   ],
   "source": [
    "hospital_name.index('부야한의원')"
   ]
  },
  {
   "cell_type": "code",
   "execution_count": 25,
   "metadata": {},
   "outputs": [],
   "source": [
    "hospital_name = hospital_info.hospital.tolist()\n",
    "hospital_adr = hospital_info.adress.tolist()\n",
    "\n",
    "review_hospital = review_data.hospital.tolist()"
   ]
  },
  {
   "cell_type": "code",
   "execution_count": 43,
   "metadata": {},
   "outputs": [
    {
     "data": {
      "text/plain": [
       "서울      5805\n",
       "경기      3154\n",
       "인천       981\n",
       "대구       665\n",
       "대전       579\n",
       "울산       492\n",
       "경상남도     398\n",
       "경기도      355\n",
       "전라북도     353\n",
       "경상북도     278\n",
       "충청남도     254\n",
       "부산       253\n",
       "광주       212\n",
       "충청북도     209\n",
       "강원도      196\n",
       "전라남도     147\n",
       "세종        73\n",
       "제주         9\n",
       "Name: adress, dtype: int64"
      ]
     },
     "execution_count": 43,
     "metadata": {},
     "output_type": "execute_result"
    }
   ],
   "source": [
    "def adding_adr(x):\n",
    "    try:\n",
    "        if x in hospital_name:\n",
    "            global y\n",
    "            k = hospital_name.index(x)\n",
    "            y = hospital_adr[k]\n",
    "\n",
    "    except:\n",
    "        print('none')\n",
    "        y = 'none'\n",
    "        \n",
    "\n",
    "    return y\n",
    "\n",
    "review_data['adress'] = review_data['hospital'].apply(adding_adr)\n",
    "review_data['adress'].value_counts()"
   ]
  },
  {
   "cell_type": "code",
   "execution_count": 44,
   "metadata": {},
   "outputs": [
    {
     "data": {
      "text/html": [
       "<div>\n",
       "<style scoped>\n",
       "    .dataframe tbody tr th:only-of-type {\n",
       "        vertical-align: middle;\n",
       "    }\n",
       "\n",
       "    .dataframe tbody tr th {\n",
       "        vertical-align: top;\n",
       "    }\n",
       "\n",
       "    .dataframe thead th {\n",
       "        text-align: right;\n",
       "    }\n",
       "</style>\n",
       "<table border=\"1\" class=\"dataframe\">\n",
       "  <thead>\n",
       "    <tr style=\"text-align: right;\">\n",
       "      <th></th>\n",
       "      <th>hospital</th>\n",
       "      <th>stars</th>\n",
       "      <th>reviews</th>\n",
       "      <th>adress</th>\n",
       "    </tr>\n",
       "  </thead>\n",
       "  <tbody>\n",
       "    <tr>\n",
       "      <th>0</th>\n",
       "      <td>청주나비솔한의원</td>\n",
       "      <td>10.0</td>\n",
       "      <td>병원이 전반적으로 깔끔해서 쾌적했어요대기가 좀 있지만 심하진 않은편이었고 간호사분...</td>\n",
       "      <td>충청북도</td>\n",
       "    </tr>\n",
       "    <tr>\n",
       "      <th>1</th>\n",
       "      <td>청주나비솔한의원</td>\n",
       "      <td>7.5</td>\n",
       "      <td>체인 한의원이라서 망설였는데 시설도 깔끔하고 진료도 친절하게 너무 잘 봐주셨어요 ...</td>\n",
       "      <td>충청북도</td>\n",
       "    </tr>\n",
       "    <tr>\n",
       "      <th>2</th>\n",
       "      <td>청주나비솔한의원</td>\n",
       "      <td>10.0</td>\n",
       "      <td>사고 후유증으로 놀라서 한의원 방문 하였고 침 놔주시고 청심환 처방 해주셨습니다....</td>\n",
       "      <td>충청북도</td>\n",
       "    </tr>\n",
       "  </tbody>\n",
       "</table>\n",
       "</div>"
      ],
      "text/plain": [
       "   hospital  stars                                            reviews adress\n",
       "0  청주나비솔한의원   10.0   병원이 전반적으로 깔끔해서 쾌적했어요대기가 좀 있지만 심하진 않은편이었고 간호사분...   충청북도\n",
       "1  청주나비솔한의원    7.5   체인 한의원이라서 망설였는데 시설도 깔끔하고 진료도 친절하게 너무 잘 봐주셨어요 ...   충청북도\n",
       "2  청주나비솔한의원   10.0   사고 후유증으로 놀라서 한의원 방문 하였고 침 놔주시고 청심환 처방 해주셨습니다....   충청북도"
      ]
     },
     "execution_count": 44,
     "metadata": {},
     "output_type": "execute_result"
    }
   ],
   "source": [
    "review_data.head(3)"
   ]
  },
  {
   "cell_type": "code",
   "execution_count": 45,
   "metadata": {},
   "outputs": [
    {
     "data": {
      "text/plain": [
       "누베베한의원       104\n",
       "자생한방병원        64\n",
       "소나무한의원        57\n",
       "경희한의원         51\n",
       "지성한의원         43\n",
       "            ... \n",
       "조은부부한의원        1\n",
       "경희기린한의원        1\n",
       "상동경희부부한의원      1\n",
       "제세최돈열한의원       1\n",
       "상화한의원          1\n",
       "Name: hospital, Length: 3941, dtype: int64"
      ]
     },
     "execution_count": 45,
     "metadata": {},
     "output_type": "execute_result"
    }
   ],
   "source": [
    "review_data.hospital.value_counts()"
   ]
  },
  {
   "cell_type": "code",
   "execution_count": 58,
   "metadata": {},
   "outputs": [],
   "source": [
    "pd.set_option('display.max_columns', None)\n",
    "pd.set_option('display.max_rows', None)\n",
    "nubebe = review_data[review_data['hospital']=='누베베한의원']\n",
    "nubebe.to_csv('nubebe.csv')"
   ]
  },
  {
   "cell_type": "code",
   "execution_count": 57,
   "metadata": {},
   "outputs": [
    {
     "data": {
      "text/plain": [
       "'추천.'"
      ]
     },
     "execution_count": 57,
     "metadata": {},
     "output_type": "execute_result"
    }
   ],
   "source": [
    "nubebe.reviews.tolist()[0].split(' ')[-1]"
   ]
  },
  {
   "cell_type": "code",
   "execution_count": 59,
   "metadata": {},
   "outputs": [],
   "source": [
    "review_data.to_csv('Final_semi.csv')"
   ]
  },
  {
   "cell_type": "code",
   "execution_count": null,
   "metadata": {},
   "outputs": [],
   "source": []
  }
 ],
 "metadata": {
  "interpreter": {
   "hash": "8a9b21863f75ebcfde942d40d1f95bee56211276a785a24dd93ce5903183bd65"
  },
  "kernelspec": {
   "display_name": "Python 3.8.11 64-bit ('crawling': conda)",
   "name": "python3"
  },
  "language_info": {
   "codemirror_mode": {
    "name": "ipython",
    "version": 3
   },
   "file_extension": ".py",
   "mimetype": "text/x-python",
   "name": "python",
   "nbconvert_exporter": "python",
   "pygments_lexer": "ipython3",
   "version": "3.8.11"
  },
  "orig_nbformat": 4
 },
 "nbformat": 4,
 "nbformat_minor": 2
}
