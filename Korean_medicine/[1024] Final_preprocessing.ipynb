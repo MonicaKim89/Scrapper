{
  "nbformat": 4,
  "nbformat_minor": 0,
  "metadata": {
    "colab": {
      "name": "[1024] Final_preprocessing.ipynb",
      "provenance": [],
      "mount_file_id": "1wuoGUVvuaof7ckI-DPCeNbB0EtLDFBPy",
      "authorship_tag": "ABX9TyMxWpn95JuKwleGxat8fgN2",
      "include_colab_link": true
    },
    "kernelspec": {
      "name": "python3",
      "display_name": "Python 3"
    },
    "language_info": {
      "name": "python"
    }
  },
  "cells": [
    {
      "cell_type": "markdown",
      "metadata": {
        "id": "view-in-github",
        "colab_type": "text"
      },
      "source": [
        "<a href=\"https://colab.research.google.com/github/MonicaKim89/Text_Mining/blob/main/%5B1024%5D_Final_preprocessing.ipynb\" target=\"_parent\"><img src=\"https://colab.research.google.com/assets/colab-badge.svg\" alt=\"Open In Colab\"/></a>"
      ]
    },
    {
      "cell_type": "code",
      "metadata": {
        "id": "QW8hppcbKO6L"
      },
      "source": [
        "import pandas as pd"
      ],
      "execution_count": 1,
      "outputs": []
    },
    {
      "cell_type": "code",
      "metadata": {
        "colab": {
          "base_uri": "https://localhost:8080/",
          "height": 34
        },
        "id": "ZkvamJrqKxGf",
        "outputId": "201460c7-03cb-4efc-f4f7-40f2f9e6a8e8"
      },
      "source": [
        "/pwd"
      ],
      "execution_count": 4,
      "outputs": [
        {
          "output_type": "execute_result",
          "data": {
            "application/vnd.google.colaboratory.intrinsic+json": {
              "type": "string"
            },
            "text/plain": [
              "'/content'"
            ]
          },
          "metadata": {},
          "execution_count": 4
        }
      ]
    },
    {
      "cell_type": "code",
      "metadata": {
        "colab": {
          "base_uri": "https://localhost:8080/",
          "height": 220
        },
        "id": "y4xCSL06KmEQ",
        "outputId": "25e041a9-e718-488d-c4ad-33ada27a9d7d"
      },
      "source": [
        "data = pd.read_csv('/content/drive/MyDrive/Projects/korean_medicine/new_modoo.csv', index_col=0)\n",
        "print(data.shape)\n",
        "data.head()"
      ],
      "execution_count": 6,
      "outputs": [
        {
          "output_type": "stream",
          "name": "stdout",
          "text": [
            "(6989, 5)\n"
          ]
        },
        {
          "output_type": "execute_result",
          "data": {
            "text/html": [
              "<div>\n",
              "<style scoped>\n",
              "    .dataframe tbody tr th:only-of-type {\n",
              "        vertical-align: middle;\n",
              "    }\n",
              "\n",
              "    .dataframe tbody tr th {\n",
              "        vertical-align: top;\n",
              "    }\n",
              "\n",
              "    .dataframe thead th {\n",
              "        text-align: right;\n",
              "    }\n",
              "</style>\n",
              "<table border=\"1\" class=\"dataframe\">\n",
              "  <thead>\n",
              "    <tr style=\"text-align: right;\">\n",
              "      <th></th>\n",
              "      <th>hospital</th>\n",
              "      <th>review_count</th>\n",
              "      <th>link</th>\n",
              "      <th>adr_clean</th>\n",
              "      <th>adress</th>\n",
              "    </tr>\n",
              "  </thead>\n",
              "  <tbody>\n",
              "    <tr>\n",
              "      <th>0</th>\n",
              "      <td>자생한방병원</td>\n",
              "      <td>64</td>\n",
              "      <td>https://www.modoodoc.com/hospital/17186/%EC%9E...</td>\n",
              "      <td>서울</td>\n",
              "      <td>서울강남구논현1동</td>\n",
              "    </tr>\n",
              "    <tr>\n",
              "      <th>1</th>\n",
              "      <td>김민석한의원</td>\n",
              "      <td>29</td>\n",
              "      <td>https://www.modoodoc.com/hospital/14208/%EA%B9...</td>\n",
              "      <td>서울</td>\n",
              "      <td>서울마포구대흥동</td>\n",
              "    </tr>\n",
              "    <tr>\n",
              "      <th>2</th>\n",
              "      <td>춘원</td>\n",
              "      <td>31</td>\n",
              "      <td>https://www.modoodoc.com/hospital/17222/%EC%B6...</td>\n",
              "      <td>서울</td>\n",
              "      <td>서울종로구종로1.2.3.4가동</td>\n",
              "    </tr>\n",
              "    <tr>\n",
              "      <th>3</th>\n",
              "      <td>리봄한방병원</td>\n",
              "      <td>35</td>\n",
              "      <td>https://www.modoodoc.com/hospital/17166/%EB%A6...</td>\n",
              "      <td>서울</td>\n",
              "      <td>서울강남구논현2동</td>\n",
              "    </tr>\n",
              "    <tr>\n",
              "      <th>4</th>\n",
              "      <td>부야한의원</td>\n",
              "      <td>28</td>\n",
              "      <td>https://www.modoodoc.com/hospital/64126/%EB%B6...</td>\n",
              "      <td>경상북도</td>\n",
              "      <td>경상북도청도군청도읍</td>\n",
              "    </tr>\n",
              "  </tbody>\n",
              "</table>\n",
              "</div>"
            ],
            "text/plain": [
              "  hospital  review_count  ... adr_clean            adress\n",
              "0   자생한방병원            64  ...        서울         서울강남구논현1동\n",
              "1   김민석한의원            29  ...        서울          서울마포구대흥동\n",
              "2       춘원            31  ...        서울  서울종로구종로1.2.3.4가동\n",
              "3   리봄한방병원            35  ...        서울         서울강남구논현2동\n",
              "4    부야한의원            28  ...      경상북도        경상북도청도군청도읍\n",
              "\n",
              "[5 rows x 5 columns]"
            ]
          },
          "metadata": {},
          "execution_count": 6
        }
      ]
    },
    {
      "cell_type": "code",
      "metadata": {
        "colab": {
          "base_uri": "https://localhost:8080/"
        },
        "id": "gdbsJmJ6KrV4",
        "outputId": "7129accf-d9fb-4710-dfae-5245772507d6"
      },
      "source": [
        "# 지역별 한의원 수\n",
        "data['adr_clean'].value_counts()"
      ],
      "execution_count": 7,
      "outputs": [
        {
          "output_type": "execute_result",
          "data": {
            "text/plain": [
              "서울      2123\n",
              "경기      1700\n",
              "울산       497\n",
              "대구       442\n",
              "인천       415\n",
              "경상남도     293\n",
              "광주       277\n",
              "대전       266\n",
              "전라북도     181\n",
              "경상북도     157\n",
              "충청북도     143\n",
              "충청남도     142\n",
              "강원도      121\n",
              "부산       101\n",
              "전라남도      97\n",
              "세종        33\n",
              "제주         1\n",
              "Name: adr_clean, dtype: int64"
            ]
          },
          "metadata": {},
          "execution_count": 7
        }
      ]
    },
    {
      "cell_type": "markdown",
      "metadata": {
        "id": "ZPJlfBQBOY0c"
      },
      "source": [
        "## **CONCAT**"
      ]
    },
    {
      "cell_type": "code",
      "metadata": {
        "id": "r5hmdXW_OYkk"
      },
      "source": [
        "hospital_list = data['hospital'].tolist()"
      ],
      "execution_count": 35,
      "outputs": []
    },
    {
      "cell_type": "code",
      "metadata": {
        "id": "RlhPA6cnLA7f"
      },
      "source": [
        "busan = data[data['adr_clean']=='부산']\n",
        "work_busan = pd.read_csv('/content/drive/MyDrive/Projects/korean_medicine/busan_less10/busan_less10.csv')\n",
        "work_busan_v2 = pd.read_csv('/content/drive/MyDrive/Projects/korean_medicine/busan_more10/busan_more10.csv')\n",
        "work_busan_v3 = pd.read_csv('/content/drive/MyDrive/Projects/korean_medicine/busan_more20/busan_more20.csv')"
      ],
      "execution_count": 9,
      "outputs": []
    },
    {
      "cell_type": "code",
      "metadata": {
        "colab": {
          "base_uri": "https://localhost:8080/",
          "height": 273
        },
        "id": "RBWhtpo8LElX",
        "outputId": "779d32c0-bcb0-4a97-c360-f497a86121f6"
      },
      "source": [
        "print(work_busan.shape)\n",
        "print(work_busan_v2.shape)\n",
        "print(work_busan_v3.shape)\n",
        "\n",
        "review_busan = pd.concat([work_busan, work_busan_v2, work_busan_v3])\n",
        "review_busan = review_busan.drop(columns='Unnamed: 0', axis=0)\n",
        "print(review_busan.shape)\n",
        "review_busan.head()"
      ],
      "execution_count": 14,
      "outputs": [
        {
          "output_type": "stream",
          "name": "stdout",
          "text": [
            "(238, 4)\n",
            "(149, 4)\n",
            "(1001, 4)\n",
            "(1388, 3)\n"
          ]
        },
        {
          "output_type": "execute_result",
          "data": {
            "text/html": [
              "<div>\n",
              "<style scoped>\n",
              "    .dataframe tbody tr th:only-of-type {\n",
              "        vertical-align: middle;\n",
              "    }\n",
              "\n",
              "    .dataframe tbody tr th {\n",
              "        vertical-align: top;\n",
              "    }\n",
              "\n",
              "    .dataframe thead th {\n",
              "        text-align: right;\n",
              "    }\n",
              "</style>\n",
              "<table border=\"1\" class=\"dataframe\">\n",
              "  <thead>\n",
              "    <tr style=\"text-align: right;\">\n",
              "      <th></th>\n",
              "      <th>hospital</th>\n",
              "      <th>stars</th>\n",
              "      <th>reviews</th>\n",
              "    </tr>\n",
              "  </thead>\n",
              "  <tbody>\n",
              "    <tr>\n",
              "      <th>0</th>\n",
              "      <td>당당한의원 서면점</td>\n",
              "      <td>10.0</td>\n",
              "      <td>추나요법 및 침치료를 적용해서 무릎아픈것이 많이 좋아져서 좋았어요 그리고 병원직원...</td>\n",
              "    </tr>\n",
              "    <tr>\n",
              "      <th>1</th>\n",
              "      <td>당당한의원 서면점</td>\n",
              "      <td>10.0</td>\n",
              "      <td>원장님이 시원시원하게 이야기 잘 해주시구요. 한의원 직원분들도 모두 친절하고 좋아...</td>\n",
              "    </tr>\n",
              "    <tr>\n",
              "      <th>2</th>\n",
              "      <td>당당한의원 서면점</td>\n",
              "      <td>10.0</td>\n",
              "      <td>등 목이 너무 아파서 침맞으러 갔는데 친절하게 설명해주시고컴퓨터 자료 보여주시면서...</td>\n",
              "    </tr>\n",
              "    <tr>\n",
              "      <th>3</th>\n",
              "      <td>당당한의원 서면점</td>\n",
              "      <td>10.0</td>\n",
              "      <td>허리가 아파서 갔는데, 약침이랑 마사지건으로 뭉친 부분을 일시적으로 풀어주는 것 ...</td>\n",
              "    </tr>\n",
              "    <tr>\n",
              "      <th>4</th>\n",
              "      <td>당당한의원 서면점</td>\n",
              "      <td>10.0</td>\n",
              "      <td>한줄평: 치료받는 동안에는 허리로인한 통증은 많이 줄었다.원장선생님은 정말 친절하...</td>\n",
              "    </tr>\n",
              "  </tbody>\n",
              "</table>\n",
              "</div>"
            ],
            "text/plain": [
              "    hospital  stars                                            reviews\n",
              "0  당당한의원 서면점   10.0   추나요법 및 침치료를 적용해서 무릎아픈것이 많이 좋아져서 좋았어요 그리고 병원직원...\n",
              "1  당당한의원 서면점   10.0   원장님이 시원시원하게 이야기 잘 해주시구요. 한의원 직원분들도 모두 친절하고 좋아...\n",
              "2  당당한의원 서면점   10.0   등 목이 너무 아파서 침맞으러 갔는데 친절하게 설명해주시고컴퓨터 자료 보여주시면서...\n",
              "3  당당한의원 서면점   10.0   허리가 아파서 갔는데, 약침이랑 마사지건으로 뭉친 부분을 일시적으로 풀어주는 것 ...\n",
              "4  당당한의원 서면점   10.0   한줄평: 치료받는 동안에는 허리로인한 통증은 많이 줄었다.원장선생님은 정말 친절하..."
            ]
          },
          "metadata": {},
          "execution_count": 14
        }
      ]
    },
    {
      "cell_type": "markdown",
      "metadata": {
        "id": "tUgbqTOGUm3y"
      },
      "source": [
        "## **DUPLICATE**"
      ]
    },
    {
      "cell_type": "code",
      "metadata": {
        "colab": {
          "base_uri": "https://localhost:8080/",
          "height": 220
        },
        "id": "QwgjirffUmbI",
        "outputId": "867875a5-c32a-4fa8-8711-7f6fc7f7890c"
      },
      "source": [
        "review_busan = review_busan.drop_duplicates(['reviews'])\n",
        "print(review_busan.shape)\n",
        "review_busan.head()"
      ],
      "execution_count": 54,
      "outputs": [
        {
          "output_type": "stream",
          "name": "stdout",
          "text": [
            "(411, 3)\n"
          ]
        },
        {
          "output_type": "execute_result",
          "data": {
            "text/html": [
              "<div>\n",
              "<style scoped>\n",
              "    .dataframe tbody tr th:only-of-type {\n",
              "        vertical-align: middle;\n",
              "    }\n",
              "\n",
              "    .dataframe tbody tr th {\n",
              "        vertical-align: top;\n",
              "    }\n",
              "\n",
              "    .dataframe thead th {\n",
              "        text-align: right;\n",
              "    }\n",
              "</style>\n",
              "<table border=\"1\" class=\"dataframe\">\n",
              "  <thead>\n",
              "    <tr style=\"text-align: right;\">\n",
              "      <th></th>\n",
              "      <th>hospital</th>\n",
              "      <th>stars</th>\n",
              "      <th>reviews</th>\n",
              "    </tr>\n",
              "  </thead>\n",
              "  <tbody>\n",
              "    <tr>\n",
              "      <th>0</th>\n",
              "      <td>당당한의원 서면점</td>\n",
              "      <td>10.0</td>\n",
              "      <td>추나요법 및 침치료를 적용해서 무릎아픈것이 많이 좋아져서 좋았어요 그리고 병원직원...</td>\n",
              "    </tr>\n",
              "    <tr>\n",
              "      <th>1</th>\n",
              "      <td>당당한의원 서면점</td>\n",
              "      <td>10.0</td>\n",
              "      <td>원장님이 시원시원하게 이야기 잘 해주시구요. 한의원 직원분들도 모두 친절하고 좋아...</td>\n",
              "    </tr>\n",
              "    <tr>\n",
              "      <th>2</th>\n",
              "      <td>당당한의원 서면점</td>\n",
              "      <td>10.0</td>\n",
              "      <td>등 목이 너무 아파서 침맞으러 갔는데 친절하게 설명해주시고컴퓨터 자료 보여주시면서...</td>\n",
              "    </tr>\n",
              "    <tr>\n",
              "      <th>3</th>\n",
              "      <td>당당한의원 서면점</td>\n",
              "      <td>10.0</td>\n",
              "      <td>허리가 아파서 갔는데, 약침이랑 마사지건으로 뭉친 부분을 일시적으로 풀어주는 것 ...</td>\n",
              "    </tr>\n",
              "    <tr>\n",
              "      <th>4</th>\n",
              "      <td>당당한의원 서면점</td>\n",
              "      <td>10.0</td>\n",
              "      <td>한줄평: 치료받는 동안에는 허리로인한 통증은 많이 줄었다.원장선생님은 정말 친절하...</td>\n",
              "    </tr>\n",
              "  </tbody>\n",
              "</table>\n",
              "</div>"
            ],
            "text/plain": [
              "    hospital  stars                                            reviews\n",
              "0  당당한의원 서면점   10.0   추나요법 및 침치료를 적용해서 무릎아픈것이 많이 좋아져서 좋았어요 그리고 병원직원...\n",
              "1  당당한의원 서면점   10.0   원장님이 시원시원하게 이야기 잘 해주시구요. 한의원 직원분들도 모두 친절하고 좋아...\n",
              "2  당당한의원 서면점   10.0   등 목이 너무 아파서 침맞으러 갔는데 친절하게 설명해주시고컴퓨터 자료 보여주시면서...\n",
              "3  당당한의원 서면점   10.0   허리가 아파서 갔는데, 약침이랑 마사지건으로 뭉친 부분을 일시적으로 풀어주는 것 ...\n",
              "4  당당한의원 서면점   10.0   한줄평: 치료받는 동안에는 허리로인한 통증은 많이 줄었다.원장선생님은 정말 친절하..."
            ]
          },
          "metadata": {},
          "execution_count": 54
        }
      ]
    },
    {
      "cell_type": "code",
      "metadata": {
        "colab": {
          "base_uri": "https://localhost:8080/"
        },
        "id": "Oivbj2JBUjPz",
        "outputId": "d3409770-1ef2-49bd-890d-2055893f82c6"
      },
      "source": [
        "a = review_busan.hospital.value_counts()\n",
        "a"
      ],
      "execution_count": 68,
      "outputs": [
        {
          "output_type": "execute_result",
          "data": {
            "text/plain": [
              "나눔과행복병원         28\n",
              "해운대자생한방병원       18\n",
              "자연과한의원 부산서면점    17\n",
              "명인미담한의원         17\n",
              "백문기한의원          14\n",
              "                ..\n",
              "태양한의원            1\n",
              "팜스경희한의원          1\n",
              "미성한의원            1\n",
              "몸바로한의원           1\n",
              "이지스한의원 부산점       1\n",
              "Name: hospital, Length: 91, dtype: int64"
            ]
          },
          "metadata": {},
          "execution_count": 68
        }
      ]
    },
    {
      "cell_type": "code",
      "metadata": {
        "colab": {
          "base_uri": "https://localhost:8080/"
        },
        "id": "BtV1p1o_a_Eu",
        "outputId": "d5f4b13e-d856-413a-db7c-2808b1fa9668"
      },
      "source": [
        "review_hospital= review_busan.hospital.unique()\n",
        "review_hospital"
      ],
      "execution_count": 75,
      "outputs": [
        {
          "output_type": "execute_result",
          "data": {
            "text/plain": [
              "array(['당당한의원 서면점', '명지한의원', '위대한의원', '경희다나한의원', '해인한의원', '마이플한의원',\n",
              "       '마디로한의원 서울역점', '늘푸른한의원', '경향한의원', '하늘마음한의원 서면점', '정재훈한의원',\n",
              "       '다산미즈한의원 서면본점', '참편한한의원', '호일침한의원', '명신제세한의원', '국보한의원', '백마성동한의원',\n",
              "       '소나무한의원 서면점', '윤한의원', '위담한의원부산점', '경희맥한의원', '청계한의원', '자작나무한의원',\n",
              "       '다산한의원', '누베베한의원', '일맥한의원 부산점', '다솜한의원', '아람한의원 송파점', '좋은경희한의원',\n",
              "       '으뜸경희한의원', '도담한의원', '동의서면한의원', '혜인당한의원', '려한의원', '팔팔한의원', '본초한의원',\n",
              "       '상계한의원', '초읍한의원', '소나무비움한의원 가야점', '청산한의원', '안덕공동체재단 안덕민속한의원',\n",
              "       '새봄한의원', '비전한의원', '세나여성한의원', '일맥한의원 신림점', '신둔한의원', '코비한의원 부산서면점',\n",
              "       '금강산한의원', '자운대한의원', '건강한의원', '생기한의원 부산서면점', '강남명인한의원',\n",
              "       '화접몽한의원 부산점', '산마루한의원', '태양한의원', '이지스한의원 부산점', '유정한의원', '경희한의원',\n",
              "       '본디올욱당한의원', '장생한의원', '경희동원당한의원', '한울한의원', '몸바로한의원', '다선한의원',\n",
              "       '고려한의원', '판교부부한의원', '김태효한의원', '김정철한의원', '세유한의원', '훈훈한의원', '다사랑한의원',\n",
              "       '효당한의원', '신영통경희한의원', '고운결한의원 노원점', '미성한의원', '바른부부한의원', '팜스경희한의원',\n",
              "       '생생한의원', '이루다한의원', '해운대자생한방병원', '자연과한의원 부산서면점', '명인미담한의원',\n",
              "       '더존한방병원', '백문기한의원', '고든몸한의원 서면점', '365화이팅한의원', '예인한의원', '체담한방병원',\n",
              "       '장덕한방병원 부산점', '다온한의원', '나눔과행복병원'], dtype=object)"
            ]
          },
          "metadata": {},
          "execution_count": 75
        }
      ]
    },
    {
      "cell_type": "code",
      "metadata": {
        "id": "B064bAAFckZl"
      },
      "source": [
        "review_busan.to_excel('review_busan.xlsx')"
      ],
      "execution_count": 88,
      "outputs": []
    },
    {
      "cell_type": "markdown",
      "metadata": {
        "id": "EghPDymlOeKe"
      },
      "source": [
        "## **COMPARING**"
      ]
    },
    {
      "cell_type": "code",
      "metadata": {
        "colab": {
          "base_uri": "https://localhost:8080/",
          "height": 78
        },
        "id": "liQGjmJVaTrx",
        "outputId": "9d1ab68f-4919-40ef-ac4e-91838a1a7e4d"
      },
      "source": [
        "data[data.hospital==review_hospital[3]]"
      ],
      "execution_count": 76,
      "outputs": [
        {
          "output_type": "execute_result",
          "data": {
            "text/html": [
              "<div>\n",
              "<style scoped>\n",
              "    .dataframe tbody tr th:only-of-type {\n",
              "        vertical-align: middle;\n",
              "    }\n",
              "\n",
              "    .dataframe tbody tr th {\n",
              "        vertical-align: top;\n",
              "    }\n",
              "\n",
              "    .dataframe thead th {\n",
              "        text-align: right;\n",
              "    }\n",
              "</style>\n",
              "<table border=\"1\" class=\"dataframe\">\n",
              "  <thead>\n",
              "    <tr style=\"text-align: right;\">\n",
              "      <th></th>\n",
              "      <th>hospital</th>\n",
              "      <th>review_count</th>\n",
              "      <th>link</th>\n",
              "      <th>adr_clean</th>\n",
              "      <th>adress</th>\n",
              "    </tr>\n",
              "  </thead>\n",
              "  <tbody>\n",
              "    <tr>\n",
              "      <th>262</th>\n",
              "      <td>경희다나한의원</td>\n",
              "      <td>6</td>\n",
              "      <td>https://www.modoodoc.com/hospital/67611/%EC%9D...</td>\n",
              "      <td>경기</td>\n",
              "      <td>경기도시흥시정왕4동</td>\n",
              "    </tr>\n",
              "  </tbody>\n",
              "</table>\n",
              "</div>"
            ],
            "text/plain": [
              "    hospital  review_count  ... adr_clean      adress\n",
              "262  경희다나한의원             6  ...        경기  경기도시흥시정왕4동\n",
              "\n",
              "[1 rows x 5 columns]"
            ]
          },
          "metadata": {},
          "execution_count": 76
        }
      ]
    },
    {
      "cell_type": "code",
      "metadata": {
        "id": "7XKYKbLIbOFA"
      },
      "source": [
        "for i in range(len(review_hospital)):\n",
        "    # print(i)\n",
        "    data[data.hospital==review_hospital[i]]"
      ],
      "execution_count": 80,
      "outputs": []
    },
    {
      "cell_type": "code",
      "metadata": {
        "colab": {
          "base_uri": "https://localhost:8080/"
        },
        "id": "NlyFdizobOC9",
        "outputId": "8661812a-ba60-4f72-bca3-2e0cc8aea8e9"
      },
      "source": [
        "for i in review_hospital:\n",
        "    try: \n",
        "        print(hospital_list.index(i))\n",
        "\n",
        "    except:\n",
        "        print(i)\n",
        "        pass"
      ],
      "execution_count": 87,
      "outputs": [
        {
          "output_type": "stream",
          "name": "stdout",
          "text": [
            "당당한의원 서면점\n",
            "179\n",
            "166\n",
            "262\n",
            "174\n",
            "376\n",
            "마디로한의원 서울역점\n",
            "256\n",
            "513\n",
            "하늘마음한의원 서면점\n",
            "370\n",
            "다산미즈한의원 서면본점\n",
            "448\n",
            "761\n",
            "2622\n",
            "1177\n",
            "2785\n",
            "소나무한의원 서면점\n",
            "631\n",
            "위담한의원부산점\n",
            "581\n",
            "2212\n",
            "2217\n",
            "1159\n",
            "21\n",
            "일맥한의원 부산점\n",
            "5175\n",
            "아람한의원 송파점\n",
            "1221\n",
            "443\n",
            "1657\n",
            "4901\n",
            "240\n",
            "2864\n",
            "2734\n",
            "1500\n",
            "상계한의원\n",
            "5432\n",
            "소나무비움한의원 가야점\n",
            "1462\n",
            "안덕공동체재단 안덕민속한의원\n",
            "4077\n",
            "1669\n",
            "1668\n",
            "일맥한의원 신림점\n",
            "1856\n",
            "코비한의원 부산서면점\n",
            "2067\n",
            "자운대한의원\n",
            "1915\n",
            "생기한의원 부산서면점\n",
            "2665\n",
            "화접몽한의원 부산점\n",
            "산마루한의원\n",
            "2430\n",
            "이지스한의원 부산점\n",
            "5325\n",
            "170\n",
            "5475\n",
            "3003\n",
            "경희동원당한의원\n",
            "3965\n",
            "330\n",
            "942\n",
            "794\n",
            "3437\n",
            "2978\n",
            "4135\n",
            "3042\n",
            "3305\n",
            "267\n",
            "6340\n",
            "신영통경희한의원\n",
            "고운결한의원 노원점\n",
            "3754\n",
            "바른부부한의원\n",
            "3611\n",
            "2695\n",
            "4025\n",
            "68\n",
            "자연과한의원 부산서면점\n",
            "62\n",
            "105\n",
            "843\n",
            "고든몸한의원 서면점\n",
            "126\n",
            "116\n",
            "75\n",
            "장덕한방병원 부산점\n",
            "142\n",
            "5\n"
          ]
        }
      ]
    },
    {
      "cell_type": "code",
      "metadata": {
        "id": "V84Qv8tSbOAa"
      },
      "source": [
        ""
      ],
      "execution_count": null,
      "outputs": []
    },
    {
      "cell_type": "code",
      "metadata": {
        "colab": {
          "base_uri": "https://localhost:8080/",
          "height": 414
        },
        "id": "zks3V0rhPeDj",
        "outputId": "d794afbb-babc-4e7c-80ab-04f69016c140"
      },
      "source": [
        "|com_busan = data[~data['hospital'].isin(set(b))]\n",
        "com_busan = com_busan[com_busan['adr_clean']=='부산']\n",
        "com_busan"
      ],
      "execution_count": 44,
      "outputs": [
        {
          "output_type": "execute_result",
          "data": {
            "text/html": [
              "<div>\n",
              "<style scoped>\n",
              "    .dataframe tbody tr th:only-of-type {\n",
              "        vertical-align: middle;\n",
              "    }\n",
              "\n",
              "    .dataframe tbody tr th {\n",
              "        vertical-align: top;\n",
              "    }\n",
              "\n",
              "    .dataframe thead th {\n",
              "        text-align: right;\n",
              "    }\n",
              "</style>\n",
              "<table border=\"1\" class=\"dataframe\">\n",
              "  <thead>\n",
              "    <tr style=\"text-align: right;\">\n",
              "      <th></th>\n",
              "      <th>hospital</th>\n",
              "      <th>review_count</th>\n",
              "      <th>link</th>\n",
              "      <th>adr_clean</th>\n",
              "      <th>adress</th>\n",
              "    </tr>\n",
              "  </thead>\n",
              "  <tbody>\n",
              "    <tr>\n",
              "      <th>60</th>\n",
              "      <td>고든몸한의원</td>\n",
              "      <td>13</td>\n",
              "      <td>https://www.modoodoc.com/hospital/37019/%EA%B3...</td>\n",
              "      <td>부산</td>\n",
              "      <td>부산부산진구부전동</td>\n",
              "    </tr>\n",
              "    <tr>\n",
              "      <th>76</th>\n",
              "      <td>자연과한의원</td>\n",
              "      <td>17</td>\n",
              "      <td>https://www.modoodoc.com/hospital/37760/%EC%9E...</td>\n",
              "      <td>부산</td>\n",
              "      <td>부산부산진구부전동</td>\n",
              "    </tr>\n",
              "    <tr>\n",
              "      <th>125</th>\n",
              "      <td>명지365다나슬한의원</td>\n",
              "      <td>12</td>\n",
              "      <td>https://www.modoodoc.com/hospital/21921/365%ED...</td>\n",
              "      <td>부산</td>\n",
              "      <td>부산강서구명지1동</td>\n",
              "    </tr>\n",
              "    <tr>\n",
              "      <th>137</th>\n",
              "      <td>장덕한방병원</td>\n",
              "      <td>11</td>\n",
              "      <td>https://www.modoodoc.com/hospital/36935/%EC%9E...</td>\n",
              "      <td>부산</td>\n",
              "      <td>부산서구부민동</td>\n",
              "    </tr>\n",
              "    <tr>\n",
              "      <th>216</th>\n",
              "      <td>당당한의원</td>\n",
              "      <td>10</td>\n",
              "      <td>https://www.modoodoc.com/hospital/37161/%EB%8B...</td>\n",
              "      <td>부산</td>\n",
              "      <td>부산부산진구부전동</td>\n",
              "    </tr>\n",
              "    <tr>\n",
              "      <th>...</th>\n",
              "      <td>...</td>\n",
              "      <td>...</td>\n",
              "      <td>...</td>\n",
              "      <td>...</td>\n",
              "      <td>...</td>\n",
              "    </tr>\n",
              "    <tr>\n",
              "      <th>6408</th>\n",
              "      <td>가야동의한의원</td>\n",
              "      <td>0</td>\n",
              "      <td>https://www.modoodoc.com/hospital/36950/%EA%B0...</td>\n",
              "      <td>부산</td>\n",
              "      <td>부산부산진구가야동</td>\n",
              "    </tr>\n",
              "    <tr>\n",
              "      <th>6429</th>\n",
              "      <td>더브레인한의원</td>\n",
              "      <td>0</td>\n",
              "      <td>https://www.modoodoc.com/hospital/37196/%EB%8D...</td>\n",
              "      <td>부산</td>\n",
              "      <td>부산부산진구부전동</td>\n",
              "    </tr>\n",
              "    <tr>\n",
              "      <th>6475</th>\n",
              "      <td>청춘한의원</td>\n",
              "      <td>0</td>\n",
              "      <td>https://www.modoodoc.com/hospital/22509/%EA%B9...</td>\n",
              "      <td>부산</td>\n",
              "      <td>부산부산진구개금동</td>\n",
              "    </tr>\n",
              "    <tr>\n",
              "      <th>6476</th>\n",
              "      <td>영신한의원</td>\n",
              "      <td>0</td>\n",
              "      <td>https://www.modoodoc.com/hospital/41624/%EB%8C...</td>\n",
              "      <td>부산</td>\n",
              "      <td>부산부산진구가야동</td>\n",
              "    </tr>\n",
              "    <tr>\n",
              "      <th>6485</th>\n",
              "      <td>숭인한의원</td>\n",
              "      <td>0</td>\n",
              "      <td>https://www.modoodoc.com/hospital/57974/%EA%B6...</td>\n",
              "      <td>부산</td>\n",
              "      <td>부산부산진구부전동</td>\n",
              "    </tr>\n",
              "  </tbody>\n",
              "</table>\n",
              "<p>61 rows × 5 columns</p>\n",
              "</div>"
            ],
            "text/plain": [
              "         hospital  review_count  ... adr_clean     adress\n",
              "60         고든몸한의원            13  ...        부산  부산부산진구부전동\n",
              "76         자연과한의원            17  ...        부산  부산부산진구부전동\n",
              "125   명지365다나슬한의원            12  ...        부산  부산강서구명지1동\n",
              "137        장덕한방병원            11  ...        부산    부산서구부민동\n",
              "216         당당한의원            10  ...        부산  부산부산진구부전동\n",
              "...           ...           ...  ...       ...        ...\n",
              "6408      가야동의한의원             0  ...        부산  부산부산진구가야동\n",
              "6429      더브레인한의원             0  ...        부산  부산부산진구부전동\n",
              "6475        청춘한의원             0  ...        부산  부산부산진구개금동\n",
              "6476        영신한의원             0  ...        부산  부산부산진구가야동\n",
              "6485        숭인한의원             0  ...        부산  부산부산진구부전동\n",
              "\n",
              "[61 rows x 5 columns]"
            ]
          },
          "metadata": {},
          "execution_count": 44
        }
      ]
    },
    {
      "cell_type": "code",
      "metadata": {
        "colab": {
          "base_uri": "https://localhost:8080/",
          "height": 414
        },
        "id": "R7PyhCldXARG",
        "outputId": "4afc0df1-1eca-435d-aa10-8316a91e329f"
      },
      "source": [
        "data"
      ],
      "execution_count": 60,
      "outputs": [
        {
          "output_type": "execute_result",
          "data": {
            "text/html": [
              "<div>\n",
              "<style scoped>\n",
              "    .dataframe tbody tr th:only-of-type {\n",
              "        vertical-align: middle;\n",
              "    }\n",
              "\n",
              "    .dataframe tbody tr th {\n",
              "        vertical-align: top;\n",
              "    }\n",
              "\n",
              "    .dataframe thead th {\n",
              "        text-align: right;\n",
              "    }\n",
              "</style>\n",
              "<table border=\"1\" class=\"dataframe\">\n",
              "  <thead>\n",
              "    <tr style=\"text-align: right;\">\n",
              "      <th></th>\n",
              "      <th>hospital</th>\n",
              "      <th>review_count</th>\n",
              "      <th>link</th>\n",
              "      <th>adr_clean</th>\n",
              "      <th>adress</th>\n",
              "    </tr>\n",
              "  </thead>\n",
              "  <tbody>\n",
              "    <tr>\n",
              "      <th>0</th>\n",
              "      <td>자생한방병원</td>\n",
              "      <td>64</td>\n",
              "      <td>https://www.modoodoc.com/hospital/17186/%EC%9E...</td>\n",
              "      <td>서울</td>\n",
              "      <td>서울강남구논현1동</td>\n",
              "    </tr>\n",
              "    <tr>\n",
              "      <th>1</th>\n",
              "      <td>김민석한의원</td>\n",
              "      <td>29</td>\n",
              "      <td>https://www.modoodoc.com/hospital/14208/%EA%B9...</td>\n",
              "      <td>서울</td>\n",
              "      <td>서울마포구대흥동</td>\n",
              "    </tr>\n",
              "    <tr>\n",
              "      <th>2</th>\n",
              "      <td>춘원</td>\n",
              "      <td>31</td>\n",
              "      <td>https://www.modoodoc.com/hospital/17222/%EC%B6...</td>\n",
              "      <td>서울</td>\n",
              "      <td>서울종로구종로1.2.3.4가동</td>\n",
              "    </tr>\n",
              "    <tr>\n",
              "      <th>3</th>\n",
              "      <td>리봄한방병원</td>\n",
              "      <td>35</td>\n",
              "      <td>https://www.modoodoc.com/hospital/17166/%EB%A6...</td>\n",
              "      <td>서울</td>\n",
              "      <td>서울강남구논현2동</td>\n",
              "    </tr>\n",
              "    <tr>\n",
              "      <th>4</th>\n",
              "      <td>부야한의원</td>\n",
              "      <td>28</td>\n",
              "      <td>https://www.modoodoc.com/hospital/64126/%EB%B6...</td>\n",
              "      <td>경상북도</td>\n",
              "      <td>경상북도청도군청도읍</td>\n",
              "    </tr>\n",
              "    <tr>\n",
              "      <th>...</th>\n",
              "      <td>...</td>\n",
              "      <td>...</td>\n",
              "      <td>...</td>\n",
              "      <td>...</td>\n",
              "      <td>...</td>\n",
              "    </tr>\n",
              "    <tr>\n",
              "      <th>6984</th>\n",
              "      <td>진성한의원</td>\n",
              "      <td>0</td>\n",
              "      <td>https://www.modoodoc.com/hospital/37854/%EC%A7...</td>\n",
              "      <td>울산</td>\n",
              "      <td>울산중구동광동</td>\n",
              "    </tr>\n",
              "    <tr>\n",
              "      <th>6985</th>\n",
              "      <td>김준한의원</td>\n",
              "      <td>0</td>\n",
              "      <td>https://www.modoodoc.com/hospital/37106/%EA%B9...</td>\n",
              "      <td>울산</td>\n",
              "      <td>울산남구대연동</td>\n",
              "    </tr>\n",
              "    <tr>\n",
              "      <th>6986</th>\n",
              "      <td>당리한의원</td>\n",
              "      <td>0</td>\n",
              "      <td>https://www.modoodoc.com/hospital/37164/%EB%8B...</td>\n",
              "      <td>울산</td>\n",
              "      <td>울산사하구당리동</td>\n",
              "    </tr>\n",
              "    <tr>\n",
              "      <th>6987</th>\n",
              "      <td>신덕한의원</td>\n",
              "      <td>0</td>\n",
              "      <td>https://www.modoodoc.com/hospital/58228/%EC%9A...</td>\n",
              "      <td>울산</td>\n",
              "      <td>울산북구만덕동</td>\n",
              "    </tr>\n",
              "    <tr>\n",
              "      <th>6988</th>\n",
              "      <td>혜민서한의원</td>\n",
              "      <td>0</td>\n",
              "      <td>https://www.modoodoc.com/hospital/46995/%EC%A2...</td>\n",
              "      <td>울산</td>\n",
              "      <td>울산동구범일동</td>\n",
              "    </tr>\n",
              "  </tbody>\n",
              "</table>\n",
              "<p>6989 rows × 5 columns</p>\n",
              "</div>"
            ],
            "text/plain": [
              "     hospital  review_count  ... adr_clean            adress\n",
              "0      자생한방병원            64  ...        서울         서울강남구논현1동\n",
              "1      김민석한의원            29  ...        서울          서울마포구대흥동\n",
              "2          춘원            31  ...        서울  서울종로구종로1.2.3.4가동\n",
              "3      리봄한방병원            35  ...        서울         서울강남구논현2동\n",
              "4       부야한의원            28  ...      경상북도        경상북도청도군청도읍\n",
              "...       ...           ...  ...       ...               ...\n",
              "6984    진성한의원             0  ...        울산           울산중구동광동\n",
              "6985    김준한의원             0  ...        울산           울산남구대연동\n",
              "6986    당리한의원             0  ...        울산          울산사하구당리동\n",
              "6987    신덕한의원             0  ...        울산           울산북구만덕동\n",
              "6988   혜민서한의원             0  ...        울산           울산동구범일동\n",
              "\n",
              "[6989 rows x 5 columns]"
            ]
          },
          "metadata": {},
          "execution_count": 60
        }
      ]
    },
    {
      "cell_type": "code",
      "metadata": {
        "colab": {
          "base_uri": "https://localhost:8080/",
          "height": 34
        },
        "id": "gGXq-N7DXCiW",
        "outputId": "608c5694-d628-4b79-c034-86a6e47cb7db"
      },
      "source": [
        "hospital_list[0]"
      ],
      "execution_count": 62,
      "outputs": [
        {
          "output_type": "execute_result",
          "data": {
            "application/vnd.google.colaboratory.intrinsic+json": {
              "type": "string"
            },
            "text/plain": [
              "'자생한방병원'"
            ]
          },
          "metadata": {},
          "execution_count": 62
        }
      ]
    },
    {
      "cell_type": "code",
      "metadata": {
        "id": "t8t02US6Zc0K"
      },
      "source": [
        ""
      ],
      "execution_count": null,
      "outputs": []
    },
    {
      "cell_type": "code",
      "metadata": {
        "id": "UgAzPKGtRh-Z"
      },
      "source": [
        "hospital_index_modoo=[]\n",
        "\n",
        "for i in b:\n",
        "    try:\n",
        "        if i in hospital_list:\n",
        "            hospital_index_modoo.append(hospital_list.index(i))\n",
        "        # elif b[i] in data['adr_clean']\n",
        "    except:\n",
        "        print('none')"
      ],
      "execution_count": 66,
      "outputs": []
    },
    {
      "cell_type": "code",
      "metadata": {
        "colab": {
          "base_uri": "https://localhost:8080/",
          "height": 141
        },
        "id": "elUlEBvaRkua",
        "outputId": "550fdfbc-aa5b-4413-e396-d5b92c75e538"
      },
      "source": [
        "data.loc[data.hospital ==b[1]]"
      ],
      "execution_count": 49,
      "outputs": [
        {
          "output_type": "execute_result",
          "data": {
            "text/html": [
              "<div>\n",
              "<style scoped>\n",
              "    .dataframe tbody tr th:only-of-type {\n",
              "        vertical-align: middle;\n",
              "    }\n",
              "\n",
              "    .dataframe tbody tr th {\n",
              "        vertical-align: top;\n",
              "    }\n",
              "\n",
              "    .dataframe thead th {\n",
              "        text-align: right;\n",
              "    }\n",
              "</style>\n",
              "<table border=\"1\" class=\"dataframe\">\n",
              "  <thead>\n",
              "    <tr style=\"text-align: right;\">\n",
              "      <th></th>\n",
              "      <th>hospital</th>\n",
              "      <th>review_count</th>\n",
              "      <th>link</th>\n",
              "      <th>adr_clean</th>\n",
              "      <th>adress</th>\n",
              "    </tr>\n",
              "  </thead>\n",
              "  <tbody>\n",
              "    <tr>\n",
              "      <th>179</th>\n",
              "      <td>명지한의원</td>\n",
              "      <td>10</td>\n",
              "      <td>https://www.modoodoc.com/hospital/37293/%EB%AA...</td>\n",
              "      <td>부산</td>\n",
              "      <td>부산강서구명지2동</td>\n",
              "    </tr>\n",
              "    <tr>\n",
              "      <th>4808</th>\n",
              "      <td>명지한의원</td>\n",
              "      <td>2</td>\n",
              "      <td>https://www.modoodoc.com/hospital/22944/%EB%AA...</td>\n",
              "      <td>경기</td>\n",
              "      <td>경기도시흥시신천동</td>\n",
              "    </tr>\n",
              "    <tr>\n",
              "      <th>4828</th>\n",
              "      <td>명지한의원</td>\n",
              "      <td>2</td>\n",
              "      <td>https://www.modoodoc.com/hospital/22944/%EB%AA...</td>\n",
              "      <td>경기</td>\n",
              "      <td>경기도시흥시신천동</td>\n",
              "    </tr>\n",
              "  </tbody>\n",
              "</table>\n",
              "</div>"
            ],
            "text/plain": [
              "     hospital  review_count  ... adr_clean     adress\n",
              "179     명지한의원            10  ...        부산  부산강서구명지2동\n",
              "4808    명지한의원             2  ...        경기  경기도시흥시신천동\n",
              "4828    명지한의원             2  ...        경기  경기도시흥시신천동\n",
              "\n",
              "[3 rows x 5 columns]"
            ]
          },
          "metadata": {},
          "execution_count": 49
        }
      ]
    },
    {
      "cell_type": "code",
      "metadata": {
        "colab": {
          "base_uri": "https://localhost:8080/",
          "height": 1000
        },
        "id": "bZXieYzoUAun",
        "outputId": "d295e51d-c972-4bd3-cd7f-772cdc72b3be"
      },
      "source": [
        "review_busan[review_busan.hospital=='명지한의원']"
      ],
      "execution_count": 53,
      "outputs": [
        {
          "output_type": "execute_result",
          "data": {
            "text/html": [
              "<div>\n",
              "<style scoped>\n",
              "    .dataframe tbody tr th:only-of-type {\n",
              "        vertical-align: middle;\n",
              "    }\n",
              "\n",
              "    .dataframe tbody tr th {\n",
              "        vertical-align: top;\n",
              "    }\n",
              "\n",
              "    .dataframe thead th {\n",
              "        text-align: right;\n",
              "    }\n",
              "</style>\n",
              "<table border=\"1\" class=\"dataframe\">\n",
              "  <thead>\n",
              "    <tr style=\"text-align: right;\">\n",
              "      <th></th>\n",
              "      <th>hospital</th>\n",
              "      <th>stars</th>\n",
              "      <th>reviews</th>\n",
              "    </tr>\n",
              "  </thead>\n",
              "  <tbody>\n",
              "    <tr>\n",
              "      <th>10</th>\n",
              "      <td>명지한의원</td>\n",
              "      <td>10.0</td>\n",
              "      <td>가봤던 한의원 중에 제일 좋아요. 원장님 친절하시고 얘기도 잘들어주시고 추나치료도...</td>\n",
              "    </tr>\n",
              "    <tr>\n",
              "      <th>11</th>\n",
              "      <td>명지한의원</td>\n",
              "      <td>10.0</td>\n",
              "      <td>어깨가아플때 자주갑니다 침도 잘놓아주시고 설명도 잘해주십니다 체구가 작으신데도 번...</td>\n",
              "    </tr>\n",
              "    <tr>\n",
              "      <th>12</th>\n",
              "      <td>명지한의원</td>\n",
              "      <td>10.0</td>\n",
              "      <td>주차시설이 잘 되어있고 위치도 주상가에 위치해있어 접근성도 좋고 걸어가기도 좋은위...</td>\n",
              "    </tr>\n",
              "    <tr>\n",
              "      <th>13</th>\n",
              "      <td>명지한의원</td>\n",
              "      <td>10.0</td>\n",
              "      <td>어깨와 목이 아파서 한의원을 방문하여 치료를 받았습니다. 침을 맞고 부황 치료를 ...</td>\n",
              "    </tr>\n",
              "    <tr>\n",
              "      <th>14</th>\n",
              "      <td>명지한의원</td>\n",
              "      <td>10.0</td>\n",
              "      <td>원장님 친절하시고 직원분들도 친절하셨어요환자가 꽤 있는편이지만 예약하면 오래 기다...</td>\n",
              "    </tr>\n",
              "    <tr>\n",
              "      <th>15</th>\n",
              "      <td>명지한의원</td>\n",
              "      <td>10.0</td>\n",
              "      <td>항상 가는 한의원입니다. 갈때마다 사람이 많아서 대기는 좀 있어요. 꼼꼼하게 침을...</td>\n",
              "    </tr>\n",
              "    <tr>\n",
              "      <th>16</th>\n",
              "      <td>명지한의원</td>\n",
              "      <td>10.0</td>\n",
              "      <td>여기는 간단하지만 시원하게 마사지를 해줘서 치료 효과가 배가 되는거 같아요. 원장...</td>\n",
              "    </tr>\n",
              "    <tr>\n",
              "      <th>17</th>\n",
              "      <td>명지한의원</td>\n",
              "      <td>10.0</td>\n",
              "      <td>한줄평: 목과  뭉친곳을 한번에 풀어져서 넘좋네요목과 어깨가 아파서 방문했는데 진...</td>\n",
              "    </tr>\n",
              "    <tr>\n",
              "      <th>18</th>\n",
              "      <td>명지한의원</td>\n",
              "      <td>10.0</td>\n",
              "      <td>한줄평: 시원한 침술과 물리치료는 명지한의원어깨와 목의 통증이 심해서 방문했는데 ...</td>\n",
              "    </tr>\n",
              "    <tr>\n",
              "      <th>19</th>\n",
              "      <td>명지한의원</td>\n",
              "      <td>10.0</td>\n",
              "      <td>한줄평: 오래 기다리지 않고 친절한 진료 받았습니다갑자기 통증이 발목과 종아리 무...</td>\n",
              "    </tr>\n",
              "    <tr>\n",
              "      <th>317</th>\n",
              "      <td>명지한의원</td>\n",
              "      <td>10.0</td>\n",
              "      <td>가봤던 한의원 중에 제일 좋아요. 원장님 친절하시고 얘기도 잘들어주시고 추나치료도...</td>\n",
              "    </tr>\n",
              "    <tr>\n",
              "      <th>318</th>\n",
              "      <td>명지한의원</td>\n",
              "      <td>10.0</td>\n",
              "      <td>어깨가아플때 자주갑니다 침도 잘놓아주시고 설명도 잘해주십니다 체구가 작으신데도 번...</td>\n",
              "    </tr>\n",
              "    <tr>\n",
              "      <th>319</th>\n",
              "      <td>명지한의원</td>\n",
              "      <td>9.3</td>\n",
              "      <td>주차시설이 잘 되어있고 위치도 주상가에 위치해있어 접근성도 좋고 걸어가기도 좋은위...</td>\n",
              "    </tr>\n",
              "    <tr>\n",
              "      <th>320</th>\n",
              "      <td>명지한의원</td>\n",
              "      <td>7.5</td>\n",
              "      <td>어깨와 목이 아파서 한의원을 방문하여 치료를 받았습니다. 침을 맞고 부황 치료를 ...</td>\n",
              "    </tr>\n",
              "    <tr>\n",
              "      <th>321</th>\n",
              "      <td>명지한의원</td>\n",
              "      <td>10.0</td>\n",
              "      <td>원장님 친절하시고 직원분들도 친절하셨어요환자가 꽤 있는편이지만 예약하면 오래 기다...</td>\n",
              "    </tr>\n",
              "    <tr>\n",
              "      <th>322</th>\n",
              "      <td>명지한의원</td>\n",
              "      <td>9.3</td>\n",
              "      <td>항상 가는 한의원입니다. 갈때마다 사람이 많아서 대기는 좀 있어요. 꼼꼼하게 침을...</td>\n",
              "    </tr>\n",
              "    <tr>\n",
              "      <th>323</th>\n",
              "      <td>명지한의원</td>\n",
              "      <td>9.8</td>\n",
              "      <td>여기는 간단하지만 시원하게 마사지를 해줘서 치료 효과가 배가 되는거 같아요. 원장...</td>\n",
              "    </tr>\n",
              "    <tr>\n",
              "      <th>324</th>\n",
              "      <td>명지한의원</td>\n",
              "      <td>9.0</td>\n",
              "      <td>한줄평: 목과  뭉친곳을 한번에 풀어져서 넘좋네요목과 어깨가 아파서 방문했는데 진...</td>\n",
              "    </tr>\n",
              "    <tr>\n",
              "      <th>325</th>\n",
              "      <td>명지한의원</td>\n",
              "      <td>10.0</td>\n",
              "      <td>한줄평: 시원한 침술과 물리치료는 명지한의원어깨와 목의 통증이 심해서 방문했는데 ...</td>\n",
              "    </tr>\n",
              "    <tr>\n",
              "      <th>326</th>\n",
              "      <td>명지한의원</td>\n",
              "      <td>7.8</td>\n",
              "      <td>한줄평: 오래 기다리지 않고 친절한 진료 받았습니다갑자기 통증이 발목과 종아리 무...</td>\n",
              "    </tr>\n",
              "    <tr>\n",
              "      <th>327</th>\n",
              "      <td>명지한의원</td>\n",
              "      <td>10.0</td>\n",
              "      <td>가봤던 한의원 중에 제일 좋아요. 원장님 친절하시고 얘기도 잘들어주시고 추나치료도...</td>\n",
              "    </tr>\n",
              "    <tr>\n",
              "      <th>328</th>\n",
              "      <td>명지한의원</td>\n",
              "      <td>10.0</td>\n",
              "      <td>어깨가아플때 자주갑니다 침도 잘놓아주시고 설명도 잘해주십니다 체구가 작으신데도 번...</td>\n",
              "    </tr>\n",
              "    <tr>\n",
              "      <th>329</th>\n",
              "      <td>명지한의원</td>\n",
              "      <td>9.3</td>\n",
              "      <td>주차시설이 잘 되어있고 위치도 주상가에 위치해있어 접근성도 좋고 걸어가기도 좋은위...</td>\n",
              "    </tr>\n",
              "    <tr>\n",
              "      <th>330</th>\n",
              "      <td>명지한의원</td>\n",
              "      <td>7.5</td>\n",
              "      <td>어깨와 목이 아파서 한의원을 방문하여 치료를 받았습니다. 침을 맞고 부황 치료를 ...</td>\n",
              "    </tr>\n",
              "    <tr>\n",
              "      <th>331</th>\n",
              "      <td>명지한의원</td>\n",
              "      <td>10.0</td>\n",
              "      <td>원장님 친절하시고 직원분들도 친절하셨어요환자가 꽤 있는편이지만 예약하면 오래 기다...</td>\n",
              "    </tr>\n",
              "    <tr>\n",
              "      <th>332</th>\n",
              "      <td>명지한의원</td>\n",
              "      <td>9.3</td>\n",
              "      <td>항상 가는 한의원입니다. 갈때마다 사람이 많아서 대기는 좀 있어요. 꼼꼼하게 침을...</td>\n",
              "    </tr>\n",
              "    <tr>\n",
              "      <th>333</th>\n",
              "      <td>명지한의원</td>\n",
              "      <td>9.8</td>\n",
              "      <td>여기는 간단하지만 시원하게 마사지를 해줘서 치료 효과가 배가 되는거 같아요. 원장...</td>\n",
              "    </tr>\n",
              "    <tr>\n",
              "      <th>334</th>\n",
              "      <td>명지한의원</td>\n",
              "      <td>9.0</td>\n",
              "      <td>한줄평: 목과  뭉친곳을 한번에 풀어져서 넘좋네요목과 어깨가 아파서 방문했는데 진...</td>\n",
              "    </tr>\n",
              "    <tr>\n",
              "      <th>335</th>\n",
              "      <td>명지한의원</td>\n",
              "      <td>10.0</td>\n",
              "      <td>한줄평: 시원한 침술과 물리치료는 명지한의원어깨와 목의 통증이 심해서 방문했는데 ...</td>\n",
              "    </tr>\n",
              "    <tr>\n",
              "      <th>336</th>\n",
              "      <td>명지한의원</td>\n",
              "      <td>7.8</td>\n",
              "      <td>한줄평: 오래 기다리지 않고 친절한 진료 받았습니다갑자기 통증이 발목과 종아리 무...</td>\n",
              "    </tr>\n",
              "    <tr>\n",
              "      <th>337</th>\n",
              "      <td>명지한의원</td>\n",
              "      <td>10.0</td>\n",
              "      <td>가봤던 한의원 중에 제일 좋아요. 원장님 친절하시고 얘기도 잘들어주시고 추나치료도...</td>\n",
              "    </tr>\n",
              "    <tr>\n",
              "      <th>338</th>\n",
              "      <td>명지한의원</td>\n",
              "      <td>10.0</td>\n",
              "      <td>어깨가아플때 자주갑니다 침도 잘놓아주시고 설명도 잘해주십니다 체구가 작으신데도 번...</td>\n",
              "    </tr>\n",
              "    <tr>\n",
              "      <th>339</th>\n",
              "      <td>명지한의원</td>\n",
              "      <td>9.3</td>\n",
              "      <td>주차시설이 잘 되어있고 위치도 주상가에 위치해있어 접근성도 좋고 걸어가기도 좋은위...</td>\n",
              "    </tr>\n",
              "    <tr>\n",
              "      <th>340</th>\n",
              "      <td>명지한의원</td>\n",
              "      <td>7.5</td>\n",
              "      <td>어깨와 목이 아파서 한의원을 방문하여 치료를 받았습니다. 침을 맞고 부황 치료를 ...</td>\n",
              "    </tr>\n",
              "    <tr>\n",
              "      <th>341</th>\n",
              "      <td>명지한의원</td>\n",
              "      <td>10.0</td>\n",
              "      <td>원장님 친절하시고 직원분들도 친절하셨어요환자가 꽤 있는편이지만 예약하면 오래 기다...</td>\n",
              "    </tr>\n",
              "    <tr>\n",
              "      <th>342</th>\n",
              "      <td>명지한의원</td>\n",
              "      <td>9.3</td>\n",
              "      <td>항상 가는 한의원입니다. 갈때마다 사람이 많아서 대기는 좀 있어요. 꼼꼼하게 침을...</td>\n",
              "    </tr>\n",
              "    <tr>\n",
              "      <th>343</th>\n",
              "      <td>명지한의원</td>\n",
              "      <td>9.8</td>\n",
              "      <td>여기는 간단하지만 시원하게 마사지를 해줘서 치료 효과가 배가 되는거 같아요. 원장...</td>\n",
              "    </tr>\n",
              "    <tr>\n",
              "      <th>344</th>\n",
              "      <td>명지한의원</td>\n",
              "      <td>9.0</td>\n",
              "      <td>한줄평: 목과  뭉친곳을 한번에 풀어져서 넘좋네요목과 어깨가 아파서 방문했는데 진...</td>\n",
              "    </tr>\n",
              "    <tr>\n",
              "      <th>345</th>\n",
              "      <td>명지한의원</td>\n",
              "      <td>10.0</td>\n",
              "      <td>한줄평: 시원한 침술과 물리치료는 명지한의원어깨와 목의 통증이 심해서 방문했는데 ...</td>\n",
              "    </tr>\n",
              "    <tr>\n",
              "      <th>346</th>\n",
              "      <td>명지한의원</td>\n",
              "      <td>7.8</td>\n",
              "      <td>한줄평: 오래 기다리지 않고 친절한 진료 받았습니다갑자기 통증이 발목과 종아리 무...</td>\n",
              "    </tr>\n",
              "  </tbody>\n",
              "</table>\n",
              "</div>"
            ],
            "text/plain": [
              "    hospital  stars                                            reviews\n",
              "10     명지한의원   10.0   가봤던 한의원 중에 제일 좋아요. 원장님 친절하시고 얘기도 잘들어주시고 추나치료도...\n",
              "11     명지한의원   10.0   어깨가아플때 자주갑니다 침도 잘놓아주시고 설명도 잘해주십니다 체구가 작으신데도 번...\n",
              "12     명지한의원   10.0   주차시설이 잘 되어있고 위치도 주상가에 위치해있어 접근성도 좋고 걸어가기도 좋은위...\n",
              "13     명지한의원   10.0   어깨와 목이 아파서 한의원을 방문하여 치료를 받았습니다. 침을 맞고 부황 치료를 ...\n",
              "14     명지한의원   10.0   원장님 친절하시고 직원분들도 친절하셨어요환자가 꽤 있는편이지만 예약하면 오래 기다...\n",
              "15     명지한의원   10.0   항상 가는 한의원입니다. 갈때마다 사람이 많아서 대기는 좀 있어요. 꼼꼼하게 침을...\n",
              "16     명지한의원   10.0   여기는 간단하지만 시원하게 마사지를 해줘서 치료 효과가 배가 되는거 같아요. 원장...\n",
              "17     명지한의원   10.0   한줄평: 목과  뭉친곳을 한번에 풀어져서 넘좋네요목과 어깨가 아파서 방문했는데 진...\n",
              "18     명지한의원   10.0   한줄평: 시원한 침술과 물리치료는 명지한의원어깨와 목의 통증이 심해서 방문했는데 ...\n",
              "19     명지한의원   10.0   한줄평: 오래 기다리지 않고 친절한 진료 받았습니다갑자기 통증이 발목과 종아리 무...\n",
              "317    명지한의원   10.0   가봤던 한의원 중에 제일 좋아요. 원장님 친절하시고 얘기도 잘들어주시고 추나치료도...\n",
              "318    명지한의원   10.0   어깨가아플때 자주갑니다 침도 잘놓아주시고 설명도 잘해주십니다 체구가 작으신데도 번...\n",
              "319    명지한의원    9.3   주차시설이 잘 되어있고 위치도 주상가에 위치해있어 접근성도 좋고 걸어가기도 좋은위...\n",
              "320    명지한의원    7.5   어깨와 목이 아파서 한의원을 방문하여 치료를 받았습니다. 침을 맞고 부황 치료를 ...\n",
              "321    명지한의원   10.0   원장님 친절하시고 직원분들도 친절하셨어요환자가 꽤 있는편이지만 예약하면 오래 기다...\n",
              "322    명지한의원    9.3   항상 가는 한의원입니다. 갈때마다 사람이 많아서 대기는 좀 있어요. 꼼꼼하게 침을...\n",
              "323    명지한의원    9.8   여기는 간단하지만 시원하게 마사지를 해줘서 치료 효과가 배가 되는거 같아요. 원장...\n",
              "324    명지한의원    9.0   한줄평: 목과  뭉친곳을 한번에 풀어져서 넘좋네요목과 어깨가 아파서 방문했는데 진...\n",
              "325    명지한의원   10.0   한줄평: 시원한 침술과 물리치료는 명지한의원어깨와 목의 통증이 심해서 방문했는데 ...\n",
              "326    명지한의원    7.8   한줄평: 오래 기다리지 않고 친절한 진료 받았습니다갑자기 통증이 발목과 종아리 무...\n",
              "327    명지한의원   10.0   가봤던 한의원 중에 제일 좋아요. 원장님 친절하시고 얘기도 잘들어주시고 추나치료도...\n",
              "328    명지한의원   10.0   어깨가아플때 자주갑니다 침도 잘놓아주시고 설명도 잘해주십니다 체구가 작으신데도 번...\n",
              "329    명지한의원    9.3   주차시설이 잘 되어있고 위치도 주상가에 위치해있어 접근성도 좋고 걸어가기도 좋은위...\n",
              "330    명지한의원    7.5   어깨와 목이 아파서 한의원을 방문하여 치료를 받았습니다. 침을 맞고 부황 치료를 ...\n",
              "331    명지한의원   10.0   원장님 친절하시고 직원분들도 친절하셨어요환자가 꽤 있는편이지만 예약하면 오래 기다...\n",
              "332    명지한의원    9.3   항상 가는 한의원입니다. 갈때마다 사람이 많아서 대기는 좀 있어요. 꼼꼼하게 침을...\n",
              "333    명지한의원    9.8   여기는 간단하지만 시원하게 마사지를 해줘서 치료 효과가 배가 되는거 같아요. 원장...\n",
              "334    명지한의원    9.0   한줄평: 목과  뭉친곳을 한번에 풀어져서 넘좋네요목과 어깨가 아파서 방문했는데 진...\n",
              "335    명지한의원   10.0   한줄평: 시원한 침술과 물리치료는 명지한의원어깨와 목의 통증이 심해서 방문했는데 ...\n",
              "336    명지한의원    7.8   한줄평: 오래 기다리지 않고 친절한 진료 받았습니다갑자기 통증이 발목과 종아리 무...\n",
              "337    명지한의원   10.0   가봤던 한의원 중에 제일 좋아요. 원장님 친절하시고 얘기도 잘들어주시고 추나치료도...\n",
              "338    명지한의원   10.0   어깨가아플때 자주갑니다 침도 잘놓아주시고 설명도 잘해주십니다 체구가 작으신데도 번...\n",
              "339    명지한의원    9.3   주차시설이 잘 되어있고 위치도 주상가에 위치해있어 접근성도 좋고 걸어가기도 좋은위...\n",
              "340    명지한의원    7.5   어깨와 목이 아파서 한의원을 방문하여 치료를 받았습니다. 침을 맞고 부황 치료를 ...\n",
              "341    명지한의원   10.0   원장님 친절하시고 직원분들도 친절하셨어요환자가 꽤 있는편이지만 예약하면 오래 기다...\n",
              "342    명지한의원    9.3   항상 가는 한의원입니다. 갈때마다 사람이 많아서 대기는 좀 있어요. 꼼꼼하게 침을...\n",
              "343    명지한의원    9.8   여기는 간단하지만 시원하게 마사지를 해줘서 치료 효과가 배가 되는거 같아요. 원장...\n",
              "344    명지한의원    9.0   한줄평: 목과  뭉친곳을 한번에 풀어져서 넘좋네요목과 어깨가 아파서 방문했는데 진...\n",
              "345    명지한의원   10.0   한줄평: 시원한 침술과 물리치료는 명지한의원어깨와 목의 통증이 심해서 방문했는데 ...\n",
              "346    명지한의원    7.8   한줄평: 오래 기다리지 않고 친절한 진료 받았습니다갑자기 통증이 발목과 종아리 무..."
            ]
          },
          "metadata": {},
          "execution_count": 53
        }
      ]
    },
    {
      "cell_type": "code",
      "metadata": {
        "colab": {
          "base_uri": "https://localhost:8080/",
          "height": 414
        },
        "id": "OFwYiGiWUWuP",
        "outputId": "539d3fff-1486-4e70-ed76-6c2cc9b0166f"
      },
      "source": [
        "review_busan"
      ],
      "execution_count": 52,
      "outputs": [
        {
          "output_type": "execute_result",
          "data": {
            "text/html": [
              "<div>\n",
              "<style scoped>\n",
              "    .dataframe tbody tr th:only-of-type {\n",
              "        vertical-align: middle;\n",
              "    }\n",
              "\n",
              "    .dataframe tbody tr th {\n",
              "        vertical-align: top;\n",
              "    }\n",
              "\n",
              "    .dataframe thead th {\n",
              "        text-align: right;\n",
              "    }\n",
              "</style>\n",
              "<table border=\"1\" class=\"dataframe\">\n",
              "  <thead>\n",
              "    <tr style=\"text-align: right;\">\n",
              "      <th></th>\n",
              "      <th>hospital</th>\n",
              "      <th>stars</th>\n",
              "      <th>reviews</th>\n",
              "    </tr>\n",
              "  </thead>\n",
              "  <tbody>\n",
              "    <tr>\n",
              "      <th>0</th>\n",
              "      <td>당당한의원 서면점</td>\n",
              "      <td>10.0</td>\n",
              "      <td>추나요법 및 침치료를 적용해서 무릎아픈것이 많이 좋아져서 좋았어요 그리고 병원직원...</td>\n",
              "    </tr>\n",
              "    <tr>\n",
              "      <th>1</th>\n",
              "      <td>당당한의원 서면점</td>\n",
              "      <td>10.0</td>\n",
              "      <td>원장님이 시원시원하게 이야기 잘 해주시구요. 한의원 직원분들도 모두 친절하고 좋아...</td>\n",
              "    </tr>\n",
              "    <tr>\n",
              "      <th>2</th>\n",
              "      <td>당당한의원 서면점</td>\n",
              "      <td>10.0</td>\n",
              "      <td>등 목이 너무 아파서 침맞으러 갔는데 친절하게 설명해주시고컴퓨터 자료 보여주시면서...</td>\n",
              "    </tr>\n",
              "    <tr>\n",
              "      <th>3</th>\n",
              "      <td>당당한의원 서면점</td>\n",
              "      <td>10.0</td>\n",
              "      <td>허리가 아파서 갔는데, 약침이랑 마사지건으로 뭉친 부분을 일시적으로 풀어주는 것 ...</td>\n",
              "    </tr>\n",
              "    <tr>\n",
              "      <th>4</th>\n",
              "      <td>당당한의원 서면점</td>\n",
              "      <td>10.0</td>\n",
              "      <td>한줄평: 치료받는 동안에는 허리로인한 통증은 많이 줄었다.원장선생님은 정말 친절하...</td>\n",
              "    </tr>\n",
              "    <tr>\n",
              "      <th>...</th>\n",
              "      <td>...</td>\n",
              "      <td>...</td>\n",
              "      <td>...</td>\n",
              "    </tr>\n",
              "    <tr>\n",
              "      <th>996</th>\n",
              "      <td>생생한의원</td>\n",
              "      <td>8.8</td>\n",
              "      <td>한줄평: 전문성이 있네요발목이 좋지않아서 침 치료받으러 갔어요. 남자 원장님께 진...</td>\n",
              "    </tr>\n",
              "    <tr>\n",
              "      <th>997</th>\n",
              "      <td>생생한의원</td>\n",
              "      <td>8.0</td>\n",
              "      <td>한줄평: 전문성이 높은 한의원발등통증으로 인해 추나치료를 상담하고자 방문했습니다....</td>\n",
              "    </tr>\n",
              "    <tr>\n",
              "      <th>998</th>\n",
              "      <td>이루다한의원</td>\n",
              "      <td>8.8</td>\n",
              "      <td>한줄평: 뜸 최고에요 !의사선생님께서 어디가 불편한지 꼼꼼히 친절하게 봐주십니다....</td>\n",
              "    </tr>\n",
              "    <tr>\n",
              "      <th>999</th>\n",
              "      <td>이루다한의원</td>\n",
              "      <td>8.0</td>\n",
              "      <td>한줄평: 뜸 최고에요 !의사선생님께서 어디가 불편한지 꼼꼼히 친절하게 봐주십니다....</td>\n",
              "    </tr>\n",
              "    <tr>\n",
              "      <th>1000</th>\n",
              "      <td>이루다한의원</td>\n",
              "      <td>8.8</td>\n",
              "      <td>한줄평: 뜸 최고에요 !의사선생님께서 어디가 불편한지 꼼꼼히 친절하게 봐주십니다....</td>\n",
              "    </tr>\n",
              "  </tbody>\n",
              "</table>\n",
              "<p>1388 rows × 3 columns</p>\n",
              "</div>"
            ],
            "text/plain": [
              "       hospital  stars                                            reviews\n",
              "0     당당한의원 서면점   10.0   추나요법 및 침치료를 적용해서 무릎아픈것이 많이 좋아져서 좋았어요 그리고 병원직원...\n",
              "1     당당한의원 서면점   10.0   원장님이 시원시원하게 이야기 잘 해주시구요. 한의원 직원분들도 모두 친절하고 좋아...\n",
              "2     당당한의원 서면점   10.0   등 목이 너무 아파서 침맞으러 갔는데 친절하게 설명해주시고컴퓨터 자료 보여주시면서...\n",
              "3     당당한의원 서면점   10.0   허리가 아파서 갔는데, 약침이랑 마사지건으로 뭉친 부분을 일시적으로 풀어주는 것 ...\n",
              "4     당당한의원 서면점   10.0   한줄평: 치료받는 동안에는 허리로인한 통증은 많이 줄었다.원장선생님은 정말 친절하...\n",
              "...         ...    ...                                                ...\n",
              "996       생생한의원    8.8   한줄평: 전문성이 있네요발목이 좋지않아서 침 치료받으러 갔어요. 남자 원장님께 진...\n",
              "997       생생한의원    8.0   한줄평: 전문성이 높은 한의원발등통증으로 인해 추나치료를 상담하고자 방문했습니다....\n",
              "998      이루다한의원    8.8   한줄평: 뜸 최고에요 !의사선생님께서 어디가 불편한지 꼼꼼히 친절하게 봐주십니다....\n",
              "999      이루다한의원    8.0   한줄평: 뜸 최고에요 !의사선생님께서 어디가 불편한지 꼼꼼히 친절하게 봐주십니다....\n",
              "1000     이루다한의원    8.8   한줄평: 뜸 최고에요 !의사선생님께서 어디가 불편한지 꼼꼼히 친절하게 봐주십니다....\n",
              "\n",
              "[1388 rows x 3 columns]"
            ]
          },
          "metadata": {},
          "execution_count": 52
        }
      ]
    },
    {
      "cell_type": "code",
      "metadata": {
        "id": "NFpsFBDvUeRG"
      },
      "source": [
        ""
      ],
      "execution_count": null,
      "outputs": []
    }
  ]
}