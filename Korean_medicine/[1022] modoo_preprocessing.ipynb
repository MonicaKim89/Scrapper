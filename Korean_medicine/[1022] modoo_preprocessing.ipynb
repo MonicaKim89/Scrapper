{
 "cells": [
  {
   "cell_type": "code",
   "execution_count": 1,
   "metadata": {},
   "outputs": [],
   "source": [
    "from selenium import webdriver\n",
    "from selenium.webdriver.common.keys import Keys\n",
    "from selenium.webdriver.support.ui import WebDriverWait\n",
    "from selenium.common.exceptions import NoSuchElementException\n",
    "import selenium.common.exceptions as sex\n",
    "\n",
    "import pandas as pd\n",
    "import numpy as np\n",
    "\n",
    "from bs4 import BeautifulSoup\n",
    "import lxml\n",
    "\n",
    "import time\n",
    "from time import sleep\n",
    "import random\n",
    "import re"
   ]
  },
  {
   "cell_type": "code",
   "execution_count": 2,
   "metadata": {},
   "outputs": [
    {
     "name": "stdout",
     "output_type": "stream",
     "text": [
      "(6989, 4)\n"
     ]
    },
    {
     "data": {
      "text/html": [
       "<div>\n",
       "<style scoped>\n",
       "    .dataframe tbody tr th:only-of-type {\n",
       "        vertical-align: middle;\n",
       "    }\n",
       "\n",
       "    .dataframe tbody tr th {\n",
       "        vertical-align: top;\n",
       "    }\n",
       "\n",
       "    .dataframe thead th {\n",
       "        text-align: right;\n",
       "    }\n",
       "</style>\n",
       "<table border=\"1\" class=\"dataframe\">\n",
       "  <thead>\n",
       "    <tr style=\"text-align: right;\">\n",
       "      <th></th>\n",
       "      <th>hospital</th>\n",
       "      <th>adress</th>\n",
       "      <th>review_count</th>\n",
       "      <th>link</th>\n",
       "    </tr>\n",
       "  </thead>\n",
       "  <tbody>\n",
       "    <tr>\n",
       "      <th>0</th>\n",
       "      <td>자생한방병원</td>\n",
       "      <td>서울강남구논현1동</td>\n",
       "      <td>64</td>\n",
       "      <td>https://www.modoodoc.com/hospital/17186/%EC%9E...</td>\n",
       "    </tr>\n",
       "    <tr>\n",
       "      <th>1</th>\n",
       "      <td>김민석한의원</td>\n",
       "      <td>서울마포구대흥동</td>\n",
       "      <td>29</td>\n",
       "      <td>https://www.modoodoc.com/hospital/14208/%EA%B9...</td>\n",
       "    </tr>\n",
       "    <tr>\n",
       "      <th>2</th>\n",
       "      <td>춘원</td>\n",
       "      <td>서울종로구종로1.2.3.4가동</td>\n",
       "      <td>31</td>\n",
       "      <td>https://www.modoodoc.com/hospital/17222/%EC%B6...</td>\n",
       "    </tr>\n",
       "    <tr>\n",
       "      <th>3</th>\n",
       "      <td>리봄한방병원</td>\n",
       "      <td>서울강남구논현2동</td>\n",
       "      <td>35</td>\n",
       "      <td>https://www.modoodoc.com/hospital/17166/%EB%A6...</td>\n",
       "    </tr>\n",
       "    <tr>\n",
       "      <th>4</th>\n",
       "      <td>부야한의원</td>\n",
       "      <td>경상북도청도군청도읍</td>\n",
       "      <td>28</td>\n",
       "      <td>https://www.modoodoc.com/hospital/64126/%EB%B6...</td>\n",
       "    </tr>\n",
       "  </tbody>\n",
       "</table>\n",
       "</div>"
      ],
      "text/plain": [
       "  hospital            adress review_count  \\\n",
       "0   자생한방병원         서울강남구논현1동           64   \n",
       "1   김민석한의원          서울마포구대흥동           29   \n",
       "2       춘원  서울종로구종로1.2.3.4가동           31   \n",
       "3   리봄한방병원         서울강남구논현2동           35   \n",
       "4    부야한의원        경상북도청도군청도읍           28   \n",
       "\n",
       "                                                link  \n",
       "0  https://www.modoodoc.com/hospital/17186/%EC%9E...  \n",
       "1  https://www.modoodoc.com/hospital/14208/%EA%B9...  \n",
       "2  https://www.modoodoc.com/hospital/17222/%EC%B6...  \n",
       "3  https://www.modoodoc.com/hospital/17166/%EB%A6...  \n",
       "4  https://www.modoodoc.com/hospital/64126/%EB%B6...  "
      ]
     },
     "execution_count": 2,
     "metadata": {},
     "output_type": "execute_result"
    }
   ],
   "source": [
    "df = pd.read_csv('modoo_df.csv', index_col=0)\n",
    "df = df.drop(df.index[4403])\n",
    "print(df.shape)\n",
    "df.head()"
   ]
  },
  {
   "cell_type": "code",
   "execution_count": 3,
   "metadata": {},
   "outputs": [],
   "source": [
    "def str_to_int(x):\n",
    "    x = int(x)\n",
    "    return x\n",
    "\n",
    "df['review_count'] = df['review_count'].apply(str_to_int)"
   ]
  },
  {
   "cell_type": "code",
   "execution_count": 4,
   "metadata": {},
   "outputs": [
    {
     "data": {
      "text/plain": [
       "True"
      ]
     },
     "execution_count": 4,
     "metadata": {},
     "output_type": "execute_result"
    }
   ],
   "source": [
    "count_list = df.review_count.tolist()\n",
    "count_list[0]==int(64)"
   ]
  },
  {
   "cell_type": "code",
   "execution_count": 16,
   "metadata": {},
   "outputs": [
    {
     "data": {
      "text/plain": [
       "(array([6.527e+03, 3.410e+02, 8.800e+01, 1.400e+01, 1.000e+01, 5.000e+00,\n",
       "        2.000e+00, 0.000e+00, 0.000e+00, 2.000e+00]),\n",
       " array([ 0. ,  6.4, 12.8, 19.2, 25.6, 32. , 38.4, 44.8, 51.2, 57.6, 64. ]),\n",
       " <BarContainer object of 10 artists>)"
      ]
     },
     "execution_count": 16,
     "metadata": {},
     "output_type": "execute_result"
    },
    {
     "data": {
      "image/png": "[encoded data removed]",
      "text/plain": [
       "<Figure size 432x288 with 1 Axes>"
      ]
     },
     "metadata": {
      "needs_background": "light"
     },
     "output_type": "display_data"
    }
   ],
   "source": [
    "import matplotlib.pyplot as plt\n",
    "plt.hist(df.review_count)"
   ]
  },
  {
   "cell_type": "code",
   "execution_count": 6,
   "metadata": {},
   "outputs": [
    {
     "data": {
      "text/plain": [
       "count    6989.000000\n",
       "mean        2.602661\n",
       "std         3.148345\n",
       "min         0.000000\n",
       "25%         1.000000\n",
       "50%         2.000000\n",
       "75%         3.000000\n",
       "max        64.000000\n",
       "Name: review_count, dtype: float64"
      ]
     },
     "execution_count": 6,
     "metadata": {},
     "output_type": "execute_result"
    }
   ],
   "source": [
    "df.review_count.describe()"
   ]
  },
  {
   "cell_type": "code",
   "execution_count": 17,
   "metadata": {},
   "outputs": [
    {
     "name": "stdout",
     "output_type": "stream",
     "text": [
      "(176, 4)\n"
     ]
    },
    {
     "data": {
      "text/html": [
       "<div>\n",
       "<style scoped>\n",
       "    .dataframe tbody tr th:only-of-type {\n",
       "        vertical-align: middle;\n",
       "    }\n",
       "\n",
       "    .dataframe tbody tr th {\n",
       "        vertical-align: top;\n",
       "    }\n",
       "\n",
       "    .dataframe thead th {\n",
       "        text-align: right;\n",
       "    }\n",
       "</style>\n",
       "<table border=\"1\" class=\"dataframe\">\n",
       "  <thead>\n",
       "    <tr style=\"text-align: right;\">\n",
       "      <th></th>\n",
       "      <th>hospital</th>\n",
       "      <th>adress</th>\n",
       "      <th>review_count</th>\n",
       "      <th>link</th>\n",
       "    </tr>\n",
       "  </thead>\n",
       "  <tbody>\n",
       "    <tr>\n",
       "      <th>0</th>\n",
       "      <td>자생한방병원</td>\n",
       "      <td>서울강남구논현1동</td>\n",
       "      <td>64</td>\n",
       "      <td>https://www.modoodoc.com/hospital/17186/%EC%9E...</td>\n",
       "    </tr>\n",
       "    <tr>\n",
       "      <th>1</th>\n",
       "      <td>김민석한의원</td>\n",
       "      <td>서울마포구대흥동</td>\n",
       "      <td>29</td>\n",
       "      <td>https://www.modoodoc.com/hospital/14208/%EA%B9...</td>\n",
       "    </tr>\n",
       "    <tr>\n",
       "      <th>2</th>\n",
       "      <td>춘원</td>\n",
       "      <td>서울종로구종로1.2.3.4가동</td>\n",
       "      <td>31</td>\n",
       "      <td>https://www.modoodoc.com/hospital/17222/%EC%B6...</td>\n",
       "    </tr>\n",
       "    <tr>\n",
       "      <th>3</th>\n",
       "      <td>리봄한방병원</td>\n",
       "      <td>서울강남구논현2동</td>\n",
       "      <td>35</td>\n",
       "      <td>https://www.modoodoc.com/hospital/17166/%EB%A6...</td>\n",
       "    </tr>\n",
       "    <tr>\n",
       "      <th>4</th>\n",
       "      <td>부야한의원</td>\n",
       "      <td>경상북도청도군청도읍</td>\n",
       "      <td>28</td>\n",
       "      <td>https://www.modoodoc.com/hospital/64126/%EB%B6...</td>\n",
       "    </tr>\n",
       "  </tbody>\n",
       "</table>\n",
       "</div>"
      ],
      "text/plain": [
       "  hospital            adress  review_count  \\\n",
       "0   자생한방병원         서울강남구논현1동            64   \n",
       "1   김민석한의원          서울마포구대흥동            29   \n",
       "2       춘원  서울종로구종로1.2.3.4가동            31   \n",
       "3   리봄한방병원         서울강남구논현2동            35   \n",
       "4    부야한의원        경상북도청도군청도읍            28   \n",
       "\n",
       "                                                link  \n",
       "0  https://www.modoodoc.com/hospital/17186/%EC%9E...  \n",
       "1  https://www.modoodoc.com/hospital/14208/%EA%B9...  \n",
       "2  https://www.modoodoc.com/hospital/17222/%EC%B6...  \n",
       "3  https://www.modoodoc.com/hospital/17166/%EB%A6...  \n",
       "4  https://www.modoodoc.com/hospital/64126/%EB%B6...  "
      ]
     },
     "execution_count": 17,
     "metadata": {},
     "output_type": "execute_result"
    }
   ],
   "source": [
    "more_ten = df[df.review_count >10]\n",
    "print(more_ten.shape)\n",
    "more_ten.head()"
   ]
  },
  {
   "cell_type": "code",
   "execution_count": 18,
   "metadata": {},
   "outputs": [],
   "source": [
    "adress_list = df.adress.tolist()"
   ]
  },
  {
   "cell_type": "code",
   "execution_count": 19,
   "metadata": {},
   "outputs": [
    {
     "data": {
      "text/plain": [
       "서울      2123\n",
       "경기      1700\n",
       "울산       497\n",
       "대구       442\n",
       "인천       415\n",
       "경상남도     293\n",
       "광주       277\n",
       "대전       266\n",
       "전라북도     181\n",
       "경상북도     157\n",
       "충청북도     143\n",
       "충청남도     142\n",
       "강원도      121\n",
       "부산       101\n",
       "전라남도      97\n",
       "세종        33\n",
       "제주         1\n",
       "Name: adr_clean, dtype: int64"
      ]
     },
     "execution_count": 19,
     "metadata": {},
     "output_type": "execute_result"
    }
   ],
   "source": [
    "def add_clean(x):\n",
    "    if '서울'  in x:\n",
    "        x='서울'\n",
    "    elif '경기' in x:\n",
    "        x = '경기'\n",
    "    elif '경상북도' in x:\n",
    "        x = '경상북도'\n",
    "    elif '경상남도' in x:\n",
    "        x = '경상남도'\n",
    "    elif '대전' in x:\n",
    "        x = '대전'\n",
    "    elif '부산' in x:\n",
    "        x = '부산'\n",
    "    elif '기도' in x:\n",
    "        x = '경기'\n",
    "    elif '인천' in x:\n",
    "        x = '인천'\n",
    "    elif '라북'  in x:\n",
    "        x='전라북도'\n",
    "    elif '청남'  in x:\n",
    "        x='충청남도'\n",
    "    elif '대구'  in x:\n",
    "        x='대구'\n",
    "    elif '상북'  in x:\n",
    "        x='경상북도'\n",
    "    elif '라남'  in x:\n",
    "        x='전라남도'\n",
    "    elif '남북'  in x:\n",
    "        x='경상남도'\n",
    "    elif x[0] =='전':\n",
    "        x='대전'\n",
    "    elif x[0] =='산':\n",
    "        x='울산'\n",
    "    elif '충청북도'  in x:\n",
    "        x='충청북도'\n",
    "    elif '광주'  in x:\n",
    "        x='광주'\n",
    "    elif '상남'  in x:\n",
    "        x='경상남도'\n",
    "    elif '청북'  in x:\n",
    "        x='충청북도'\n",
    "    elif x[0] =='구':\n",
    "        x='대구'\n",
    "    elif '원도'  in x:\n",
    "        x='강원도'    \n",
    "    elif x[0] =='주':\n",
    "        x='광주'\n",
    "    elif x[0] =='종':\n",
    "        x='세종'\n",
    "    elif x[0] =='제':\n",
    "        x='제주'\n",
    "    elif x[0] =='울':\n",
    "        x='서울'\n",
    "    elif x[0] =='천':\n",
    "        x='인천'\n",
    "\n",
    "    return x\n",
    "\n",
    "df['adr_clean'] = df['adress'].apply(add_clean)\n",
    "df['adr_clean'].value_counts()"
   ]
  },
  {
   "cell_type": "code",
   "execution_count": 20,
   "metadata": {},
   "outputs": [
    {
     "name": "stdout",
     "output_type": "stream",
     "text": [
      "(6989, 5)\n",
      "(6823, 5)\n"
     ]
    }
   ],
   "source": [
    "# df = df.drop(columns=['adress'], axis=0)\n",
    "df = df.sort_values(by=['review_count'], ascending=False)\n",
    "print(df.shape)\n",
    "df = df[df['review_count']!=0]\n",
    "print(df.shape)"
   ]
  },
  {
   "cell_type": "code",
   "execution_count": 22,
   "metadata": {},
   "outputs": [
    {
     "name": "stdout",
     "output_type": "stream",
     "text": [
      "seoul (2089, 5)\n",
      "kyung_buk (152, 5)\n",
      "kyung_nam (281, 5)\n",
      "kyungki (1672, 5)\n",
      "kwangju (270, 5)\n",
      "daegu (428, 5)\n",
      "jeon_buk (171, 5)\n",
      "jeon_nam (96, 5)\n",
      "chung_buk (140, 5)\n",
      "chung_nam (132, 5)\n",
      "jeaju (1, 5)\n",
      "ulsan (471, 5)\n",
      "busan (95, 5)\n",
      "kangwon (117, 5)\n",
      "daejun (265, 5)\n",
      "inchon (410, 5)\n",
      "saejong (33, 5)\n"
     ]
    }
   ],
   "source": [
    "seoul = df[df.adr_clean=='서울']\n",
    "seoul.to_csv('seoul.csv')\n",
    "print('seoul', seoul.shape)\n",
    "\n",
    "kyung_buk = df[df.adr_clean=='경상북도']\n",
    "kyung_buk.to_csv('seoul.csv')\n",
    "print('kyung_buk', kyung_buk.shape)\n",
    "\n",
    "kyung_nam = df[df.adr_clean=='경상남도']\n",
    "kyung_nam.to_csv('kyung_nam.csv')\n",
    "print('kyung_nam',kyung_nam.shape)\n",
    "\n",
    "kyungki = df[df.adr_clean=='경기']\n",
    "kyungki.to_csv('kyungki.csv')\n",
    "print('kyungki', kyungki.shape)\n",
    "\n",
    "kwangju = df[df.adr_clean=='광주']\n",
    "kwangju.to_csv('seokwangjuul.csv')\n",
    "print('kwangju', kwangju.shape)\n",
    "\n",
    "daegu = df[df.adr_clean=='대구']\n",
    "daegu.to_csv('daegu.csv')\n",
    "print('daegu', daegu.shape)\n",
    "\n",
    "jeon_buk = df[df.adr_clean=='전라북도']\n",
    "jeon_buk.to_csv('jeon_buk.csv')\n",
    "print('jeon_buk', jeon_buk.shape)\n",
    "\n",
    "jeon_nam = df[df.adr_clean=='전라남도']\n",
    "jeon_nam.to_csv('jeon_nam.csv')\n",
    "print('jeon_nam', jeon_nam.shape)\n",
    "\n",
    "chung_buk = df[df.adr_clean=='충청북도']\n",
    "chung_buk.to_csv('chung_buk.csv')\n",
    "print('chung_buk', chung_buk.shape)\n",
    "\n",
    "chung_nam = df[df.adr_clean=='충청남도']\n",
    "chung_nam.to_csv('chung_nam.csv')\n",
    "print('chung_nam', chung_nam.shape)\n",
    "\n",
    "jeaju = df[df.adr_clean=='제주']\n",
    "jeaju.to_csv('jeaju.csv')\n",
    "print('jeaju', jeaju.shape)\n",
    "\n",
    "ulsan = df[df.adr_clean=='울산']\n",
    "ulsan.to_csv('ulsan.csv')\n",
    "print('ulsan', ulsan.shape)\n",
    "\n",
    "busan = df[df.adr_clean=='부산']\n",
    "busan.to_csv('busan.csv')\n",
    "print('busan', busan.shape)\n",
    "\n",
    "kangwon = df[df.adr_clean=='강원도']\n",
    "kangwon.to_csv('kangwon.csv')\n",
    "print('kangwon', kangwon.shape)\n",
    "\n",
    "daejun = df[df.adr_clean=='대전']\n",
    "daejun.to_csv('daejun.csv')\n",
    "print('daejun', daejun.shape)\n",
    "\n",
    "inchon = df[df.adr_clean=='인천']\n",
    "inchon.to_csv('inchon.csv')\n",
    "print('inchon', inchon.shape)\n",
    "\n",
    "saejong = df[df.adr_clean=='세종']\n",
    "saejong.to_csv('saejong.csv')\n",
    "print('saejong', saejong.shape)"
   ]
  },
  {
   "cell_type": "code",
   "execution_count": null,
   "metadata": {},
   "outputs": [],
   "source": []
  },
  {
   "cell_type": "code",
   "execution_count": null,
   "metadata": {},
   "outputs": [],
   "source": []
  }
 ],
 "metadata": {
  "interpreter": {
   "hash": "8a9b21863f75ebcfde942d40d1f95bee56211276a785a24dd93ce5903183bd65"
  },
  "kernelspec": {
   "display_name": "Python 3.8.11 64-bit ('crawling': conda)",
   "name": "python3"
  },
  "language_info": {
   "codemirror_mode": {
    "name": "ipython",
    "version": 3
   },
   "file_extension": ".py",
   "mimetype": "text/x-python",
   "name": "python",
   "nbconvert_exporter": "python",
   "pygments_lexer": "ipython3",
   "version": "3.8.11"
  },
  "orig_nbformat": 4
 },
 "nbformat": 4,
 "nbformat_minor": 2
}
