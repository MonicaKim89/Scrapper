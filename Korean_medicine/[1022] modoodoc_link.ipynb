{
 "cells": [
  {
   "cell_type": "code",
   "execution_count": 1,
   "id": "ca77e997",
   "metadata": {},
   "outputs": [],
   "source": [
    "from selenium import webdriver\n",
    "from selenium.webdriver.common.keys import Keys\n",
    "from selenium.webdriver.support.ui import WebDriverWait\n",
    "from selenium.common.exceptions import NoSuchElementException\n",
    "import selenium.common.exceptions as sex\n",
    "\n",
    "import pandas as pd\n",
    "import numpy as np\n",
    "\n",
    "from bs4 import BeautifulSoup\n",
    "import lxml\n",
    "\n",
    "import time\n",
    "from time import sleep\n",
    "import random"
   ]
  },
  {
   "cell_type": "code",
   "execution_count": 2,
   "id": "e4a97f23",
   "metadata": {},
   "outputs": [
    {
     "name": "stderr",
     "output_type": "stream",
     "text": [
      "/var/folders/kx/wntkz3hj61bd2_ss_s_4d1km0000gn/T/ipykernel_3186/2374782286.py:2: DeprecationWarning: executable_path has been deprecated, please pass in a Service object\n",
      "  driver = webdriver.Chrome(path)\n"
     ]
    }
   ],
   "source": [
    "path = '/Users/monica_air/chromedriver'\n",
    "driver = webdriver.Chrome(path)\n",
    "# driver.implicitly_waits(5)\n",
    "\n",
    "start_url = 'https://www.modoodoc.com/hospitals/?search_query=%ED%95%9C%EC%9D%98%EC%9B%90'\n",
    "driver.get(start_url)"
   ]
  },
  {
   "cell_type": "code",
   "execution_count": 17,
   "id": "de64edf9",
   "metadata": {},
   "outputs": [],
   "source": [
    "page = driver.page_source\n",
    "soup = BeautifulSoup(page, 'html.parser')\n",
    "\n",
    "\n",
    "links = soup.find_all('div', class_ = \"doctor-total-box border-bottom\")\n",
    "\n",
    "http = 'https://www.modoodoc.com'\n",
    "\n",
    "link_list =[]\n",
    "for i in links:\n",
    "#     link_list.append(i)\n",
    "    links_=(i.find('a')['href'])\n",
    "    link_list.append(http+links_)s"
   ]
  },
  {
   "cell_type": "code",
   "execution_count": 24,
   "id": "0b68a868",
   "metadata": {},
   "outputs": [],
   "source": [
    "driver.get('https://www.modoodoc.com/hospital/17186/%EC%9E%90%EC%83%9D%ED%95%9C%EB%B0%A9%EB%B3%91%EC%9B%90-%EC%84%9C%EC%9A%B8%EC%8B%9C-%EA%B0%95%EB%82%A8%EA%B5%AC/')"
   ]
  },
  {
   "cell_type": "code",
   "execution_count": 25,
   "id": "a9d3403d",
   "metadata": {},
   "outputs": [],
   "source": [
    "page = driver.page_source\n",
    "soup = BeautifulSoup(page, 'html.parser')"
   ]
  },
  {
   "cell_type": "code",
   "execution_count": 54,
   "id": "d502c64c",
   "metadata": {},
   "outputs": [
    {
     "name": "stdout",
     "output_type": "stream",
     "text": [
      "교통사고 후유증으로 갔는데 진짜 대충대충함. 추나는 거의 30초도 안해줌. 빨리빨리 환자받으려고 하는게 보이고 교통사고 환자는 돈안된다고 생각하는지 너무 대충함. 침치료에 있어서도 대충빨리 끝내려는게 보임.\n",
      "한창쌤 티비서보고 예약하고 갔는데처음에 하는게 좀많아서 오래걸렸구요진료는 다른병원들에 비해 진짜 친절하게 잘봐주시고훤칠하니 멋지시드라구요 티비가 아쉽게 잘못나오는것같구요아픈곳 친절하게 설명해주시면서 잘봐주셧어요\n",
      "허벅지가땡겨서 침치료를 받게되었습니다선생님이 나이가 지긋하셔서 침도 능숙하게놓으시구대체로 상담할때 조용하고 간결하게하세요 파스도처방받아서 집에가서도 관리해서 이제는 다리가아프지않아요 역시 한방병원 자생입니다♡\n",
      "거북목,라운드숄더 때문에 자주 내원 했는데요원장님 친절하시고 침치료도 잘하시는데 큰 효과는 모르겠어요 도수치료,물리치료 병행 했는데도수치료사분들 너무 쓸데없는 말을 많이 하거나 불친절등등 도수치료는 마사지사들 개념 같아요 비추천\n",
      "회전문에 어깨가 부딪혀서 본원에 내원하였습니다. X-레이 촬영한 후 의사의 문진을 받았으며 그 후 통증 부위 추나치료를 받은 후 약침 치료와 침 치료를 각각 받았습니다. 통증 부위는 호전되었습니다.\n",
      "교통사고로 인해 입원하게되고 치료를 받게 되었는데 잘하시는분 추천해달라고 하셔서 추천 받았는데 친절하시고 치료받는 동안  침치료랑 도수 치료등 잘받고. 퇴원 했어여~ 혹시 또 아프면 선생님께 치료 받을거예요^^\n",
      "자궁건강이 너무 안좋고 면역력도 떨어지고 수족냉증이 심해서 방문했는데 너무 친절하셨고 워낙 유명한 병원이다 보니 시설도 깔끔하고 쾌적해서 좋았습니다. 유명한데에는 이유가 있는법인것같아요\n",
      "대상포진후 신경통으로 통증이 조절이 안돼서 다녔습니다양방에서 몇년간 할만큼 해서 가봤는데 효과가 있었어요여러가지를 섞어서 치료했고특히 봉침경우 적절히 용량을 조절해가며 치료를 해준덕에 약도 끊게 되었습니다\n",
      "교통사고로 인해서 오랫동안 치료를 받았습니다. 일주일에 2 -3회를 갔지만 친절하게 진료를 해줘서 좋았습니다. 다만 교통사고 특성상 필요한 서류를 받기위해 말씀드리면 병원특성상 보수적인 태도를 보여주셔서 아쉬윘습니다\n",
      "유명하지 않으실때 진료 받았습니다.팔이랑 어깨쪽이 아파서요.엄청 부담스러울정도로 친절하시긴하시는데침을 놓고나서 움직여서 스트레칭도 해주시고하는치료로 많이 하시는 거 같은데저는 약간 무섭고 부담스럽긴하였습니다\n"
     ]
    }
   ],
   "source": [
    "review = soup.find_all('div', class_=\"toast-message content-box text-left class49 mb-4 pb-2\")\n",
    "\n",
    "reviews = []\n",
    "\n",
    "for i in review:\n",
    "    text = i.text\n",
    "#     print(text)\n",
    "    text = text.replace('\\n', '')\n",
    "    text = text.replace('                        ', '')\n",
    "    text = text.replace('                    ', '')\n",
    "#     print(text)\n",
    "    reviews.append(text)\n",
    "    \n",
    "star = soup.find_all('span', class_ = \"h-100 align-bottom\")\n",
    "\n",
    "stats= []\n",
    "for i in star:\n",
    "    i = i.text\n",
    "    i=i.strip()\n",
    "    print(i)"
   ]
  },
  {
   "cell_type": "code",
   "execution_count": 66,
   "id": "f2b8fc6a",
   "metadata": {},
   "outputs": [
    {
     "name": "stdout",
     "output_type": "stream",
     "text": [
      "6\n",
      "8.8\n",
      "10\n",
      "9\n",
      "10\n",
      "9.8\n",
      "10\n",
      "10\n",
      "8\n",
      "9\n"
     ]
    }
   ],
   "source": [
    "star = soup.find_all('span', class_ = \"h-100 align-bottom\")\n",
    "\n",
    "stars= []\n",
    "for i in star:\n",
    "    i = i.text\n",
    "    i=i.strip()\n",
    "    stars.append(i)\n",
    "    print(i)"
   ]
  },
  {
   "cell_type": "code",
   "execution_count": 67,
   "id": "19cbeeaa",
   "metadata": {},
   "outputs": [
    {
     "data": {
      "text/plain": [
       "10"
      ]
     },
     "execution_count": 67,
     "metadata": {},
     "output_type": "execute_result"
    }
   ],
   "source": [
    "len(stars)"
   ]
  },
  {
   "cell_type": "code",
   "execution_count": 3,
   "id": "67c35f7f",
   "metadata": {},
   "outputs": [
    {
     "data": {
      "text/plain": [
       "['https://www.modoodoc.com/hospital/17186/%EC%9E%90%EC%83%9D%ED%95%9C%EB%B0%A9%EB%B3%91%EC%9B%90-%EC%84%9C%EC%9A%B8%EC%8B%9C-%EA%B0%95%EB%82%A8%EA%B5%AC/',\n",
       " 'https://www.modoodoc.com/hospital/16435/%EC%A3%BC%EC%9E%91%EB%82%98%EB%AC%B4%ED%95%9C%EC%9D%98%EC%9B%90-%EC%84%9C%EC%9A%B8%EC%8B%9C-%EB%8F%99%EC%9E%91%EA%B5%AC/']"
      ]
     },
     "execution_count": 3,
     "metadata": {},
     "output_type": "execute_result"
    }
   ],
   "source": [
    "root_url = ['https://www.modoodoc.com/hospital/17186/%EC%9E%90%EC%83%9D%ED%95%9C%EB%B0%A9%EB%B3%91%EC%9B%90-%EC%84%9C%EC%9A%B8%EC%8B%9C-%EA%B0%95%EB%82%A8%EA%B5%AC/', \n",
    "            'https://www.modoodoc.com/hospital/16435/%EC%A3%BC%EC%9E%91%EB%82%98%EB%AC%B4%ED%95%9C%EC%9D%98%EC%9B%90-%EC%84%9C%EC%9A%B8%EC%8B%9C-%EB%8F%99%EC%9E%91%EA%B5%AC/']\n",
    "root_url"
   ]
  },
  {
   "cell_type": "code",
   "execution_count": 71,
   "id": "f904649e",
   "metadata": {},
   "outputs": [
    {
     "name": "stdout",
     "output_type": "stream",
     "text": [
      "https://www.modoodoc.com/hospital/17186/%EC%9E%90%EC%83%9D%ED%95%9C%EB%B0%A9%EB%B3%91%EC%9B%90-%EC%84%9C%EC%9A%B8%EC%8B%9C-%EA%B0%95%EB%82%A8%EA%B5%AC/?page=1\n",
      "https://www.modoodoc.com/hospital/17186/%EC%9E%90%EC%83%9D%ED%95%9C%EB%B0%A9%EB%B3%91%EC%9B%90-%EC%84%9C%EC%9A%B8%EC%8B%9C-%EA%B0%95%EB%82%A8%EA%B5%AC/?page=2\n",
      "https://www.modoodoc.com/hospital/17186/%EC%9E%90%EC%83%9D%ED%95%9C%EB%B0%A9%EB%B3%91%EC%9B%90-%EC%84%9C%EC%9A%B8%EC%8B%9C-%EA%B0%95%EB%82%A8%EA%B5%AC/?page=3\n",
      "https://www.modoodoc.com/hospital/17186/%EC%9E%90%EC%83%9D%ED%95%9C%EB%B0%A9%EB%B3%91%EC%9B%90-%EC%84%9C%EC%9A%B8%EC%8B%9C-%EA%B0%95%EB%82%A8%EA%B5%AC/?page=4\n",
      "https://www.modoodoc.com/hospital/17186/%EC%9E%90%EC%83%9D%ED%95%9C%EB%B0%A9%EB%B3%91%EC%9B%90-%EC%84%9C%EC%9A%B8%EC%8B%9C-%EA%B0%95%EB%82%A8%EA%B5%AC/?page=5\n",
      "https://www.modoodoc.com/hospital/17186/%EC%9E%90%EC%83%9D%ED%95%9C%EB%B0%A9%EB%B3%91%EC%9B%90-%EC%84%9C%EC%9A%B8%EC%8B%9C-%EA%B0%95%EB%82%A8%EA%B5%AC/?page=6\n",
      "https://www.modoodoc.com/hospital/17186/%EC%9E%90%EC%83%9D%ED%95%9C%EB%B0%A9%EB%B3%91%EC%9B%90-%EC%84%9C%EC%9A%B8%EC%8B%9C-%EA%B0%95%EB%82%A8%EA%B5%AC/?page=7\n",
      "https://www.modoodoc.com/hospital/17186/%EC%9E%90%EC%83%9D%ED%95%9C%EB%B0%A9%EB%B3%91%EC%9B%90-%EC%84%9C%EC%9A%B8%EC%8B%9C-%EA%B0%95%EB%82%A8%EA%B5%AC/?page=8\n",
      "https://www.modoodoc.com/hospital/17186/%EC%9E%90%EC%83%9D%ED%95%9C%EB%B0%A9%EB%B3%91%EC%9B%90-%EC%84%9C%EC%9A%B8%EC%8B%9C-%EA%B0%95%EB%82%A8%EA%B5%AC/?page=9\n",
      "https://www.modoodoc.com/hospital/17186/%EC%9E%90%EC%83%9D%ED%95%9C%EB%B0%A9%EB%B3%91%EC%9B%90-%EC%84%9C%EC%9A%B8%EC%8B%9C-%EA%B0%95%EB%82%A8%EA%B5%AC/?page=10\n"
     ]
    }
   ],
   "source": [
    "url = 'https://www.modoodoc.com/hospital/17186/%EC%9E%90%EC%83%9D%ED%95%9C%EB%B0%A9%EB%B3%91%EC%9B%90-%EC%84%9C%EC%9A%B8%EC%8B%9C-%EA%B0%95%EB%82%A8%EA%B5%AC/'\n",
    "\n",
    "for i in range(1,11):\n",
    "    urls = url+('?page='+str(i))\n",
    "    print(urls)"
   ]
  },
  {
   "cell_type": "code",
   "execution_count": 13,
   "id": "dc7ae1a0",
   "metadata": {
    "scrolled": true
   },
   "outputs": [
    {
     "name": "stdout",
     "output_type": "stream",
     "text": [
      "https://www.modoodoc.com/hospital/17186/%EC%9E%90%EC%83%9D%ED%95%9C%EB%B0%A9%EB%B3%91%EC%9B%90-%EC%84%9C%EC%9A%B8%EC%8B%9C-%EA%B0%95%EB%82%A8%EA%B5%AC/?page=1\n",
      "교통사고 후유증으로 갔는데 진짜 대충대충함. 추나는 거의 30초도 안해줌. 빨리빨리 환자받으려고 하는게 보이고 교통사고 환자는 돈안된다고 생각하는지 너무 대충함. 침치료에 있어서도 대충빨리 끝내려는게 보임.\n",
      "한창쌤 티비서보고 예약하고 갔는데처음에 하는게 좀많아서 오래걸렸구요진료는 다른병원들에 비해 진짜 친절하게 잘봐주시고훤칠하니 멋지시드라구요 티비가 아쉽게 잘못나오는것같구요아픈곳 친절하게 설명해주시면서 잘봐주셧어요\n",
      "허벅지가땡겨서 침치료를 받게되었습니다선생님이 나이가 지긋하셔서 침도 능숙하게놓으시구대체로 상담할때 조용하고 간결하게하세요 파스도처방받아서 집에가서도 관리해서 이제는 다리가아프지않아요 역시 한방병원 자생입니다♡\n",
      "거북목,라운드숄더 때문에 자주 내원 했는데요원장님 친절하시고 침치료도 잘하시는데 큰 효과는 모르겠어요 도수치료,물리치료 병행 했는데도수치료사분들 너무 쓸데없는 말을 많이 하거나 불친절등등 도수치료는 마사지사들 개념 같아요 비추천\n",
      "회전문에 어깨가 부딪혀서 본원에 내원하였습니다. X-레이 촬영한 후 의사의 문진을 받았으며 그 후 통증 부위 추나치료를 받은 후 약침 치료와 침 치료를 각각 받았습니다. 통증 부위는 호전되었습니다.\n",
      "교통사고로 인해 입원하게되고 치료를 받게 되었는데 잘하시는분 추천해달라고 하셔서 추천 받았는데 친절하시고 치료받는 동안  침치료랑 도수 치료등 잘받고. 퇴원 했어여~ 혹시 또 아프면 선생님께 치료 받을거예요^^\n",
      "자궁건강이 너무 안좋고 면역력도 떨어지고 수족냉증이 심해서 방문했는데 너무 친절하셨고 워낙 유명한 병원이다 보니 시설도 깔끔하고 쾌적해서 좋았습니다. 유명한데에는 이유가 있는법인것같아요\n",
      "대상포진후 신경통으로 통증이 조절이 안돼서 다녔습니다양방에서 몇년간 할만큼 해서 가봤는데 효과가 있었어요여러가지를 섞어서 치료했고특히 봉침경우 적절히 용량을 조절해가며 치료를 해준덕에 약도 끊게 되었습니다\n",
      "교통사고로 인해서 오랫동안 치료를 받았습니다. 일주일에 2 -3회를 갔지만 친절하게 진료를 해줘서 좋았습니다. 다만 교통사고 특성상 필요한 서류를 받기위해 말씀드리면 병원특성상 보수적인 태도를 보여주셔서 아쉬윘습니다\n",
      "유명하지 않으실때 진료 받았습니다.팔이랑 어깨쪽이 아파서요.엄청 부담스러울정도로 친절하시긴하시는데침을 놓고나서 움직여서 스트레칭도 해주시고하는치료로 많이 하시는 거 같은데저는 약간 무섭고 부담스럽긴하였습니다\n",
      "10 review extracted\n",
      "\n",
      "sleep for  2\n",
      "https://www.modoodoc.com/hospital/17186/%EC%9E%90%EC%83%9D%ED%95%9C%EB%B0%A9%EB%B3%91%EC%9B%90-%EC%84%9C%EC%9A%B8%EC%8B%9C-%EA%B0%95%EB%82%A8%EA%B5%AC/?page=2\n",
      "교통사고로 입원 후 치료 받았습니다. 궁금한 것 여쭤보면 막힘없이 척척 답변주셔서 좋았고 침 맞을 때도 빠르게 쏵똭뽯 놔주셔서 겁 먹을 시간이 없었어요ㅎㅎ 친절한 진료 감사합니다.\n",
      "예전에 많이 아팠을 때부터 다녔는데 엄청 친절하시고치료도 잘 해주십니다.그런데 진료보시는 환자들이 많아지셔서 그런지 최근에는 진찰받는 시간이 짧다 느끼긴 했습니다.그 외에는 다 만족합니다\n",
      "교통사고 후유증으로 침치료, 물리치료 받고 있습니다. 우선 병원 예약시스템이 체계적이라 대기시간 적습니다. 선생님 설명도 친절하고 간호사들도 친절합니다. 증상이 점점 호전되고 있는 중입니다\n",
      "거북목 통증이 너무 심해서 방문했습니다. 병원이 커서 그런지 진료 시스템도 잘 되어 있고 의사선생님도 굉장히 친절하게 설명해주셔서 믿음이 갔습니다. 추나요법도 잘 해주셨고 일상생활에서 조심해야 할 것들도 세세하게 알려주셨어요 ㅎㅎ\n",
      "병원이 큰만큼 시스템이 잘 구축되어 있어 직원들이 정신없어 보이지 않고 체계적으로 잘 움직입니다진료도 잘 봐주시지만 과잉빈료 및 비용이 비싸고 그 금액 대비 큰 효과를 기대하기는 어렵습니다\n",
      "놓는 침에 대해 친절하게 설명해주고 중간에 아프지 않은지도 확인해줬습니다. 향후 치료 방향까지 알려주어 판단하는데 도움이되었습니다. 2회 방문 후 증상이 좋아져서 안갔는데 다음번에 다시 방문의사 있어요~\n",
      "교통사고후 방문했어요약도 지어주고침도 효과있었고추나는 처음 받아봤는데온몸이 시원해지는거 같았어요다음에 혹시 또 갈일있으면재방문의사 많이 있어요지인에게도 추천중입니다감사합니다\n",
      "갑자기 허리가 너무 아파서 방문했는데 운동방법까지 직접 써가며 친절하게 알려주셨어요. 엑스레이만 찍고 다른 이런 저런 검사 권유하지 않으셔서 더 좋았어요~ 2회 방문후 싹 나았어요!\n",
      "가벼운 접촉사고로 3달가량 논현역 자생한방병원에 내원했었어요.교통사고의 특성 상 원인불명의 손저림과 어깨통증이 지속되었고 낫지 않으면 어떡하나 걱정이 많은 저에게 김미혜원장님은 심리적인 안정감을 주셔서 믿고 다녔어요. 곧 몸이 회복되어 일상생활로 복귀가 가능했어요.\n",
      "교통사고후 입원하게됨 접수는 상담사가 별도로 되어있어 순차적으로 처리됨 그거와 별도로 기관지염이 있어서 추가적으로 진료를 받게됨  진료는 아주 깨끗하고 좋음  시침후에 바로 좋아짐 매일 와서 받을정도로 괜찮음\n",
      "10 review extracted\n",
      "\n",
      "sleep for  3\n",
      "https://www.modoodoc.com/hospital/16435/%EC%A3%BC%EC%9E%91%EB%82%98%EB%AC%B4%ED%95%9C%EC%9D%98%EC%9B%90-%EC%84%9C%EC%9A%B8%EC%8B%9C-%EB%8F%99%EC%9E%91%EA%B5%AC/?page=1\n",
      "허리 디스크 통증이 있을때 방문해서 진료받았습니다.친절하시고 방문하면 확실히 통증이 줄어요침 잘 놔주시고 친절해서 좋아요ㅎㅎ병원시설도 깔끔하고 좋습니다~~근처에 한의원이 많이 없는데 추천해요\n",
      "동네에 크게 있어서 종종 가는데 시설 깔끔하고, 의사선생님이랑 간호사분들 모두 너무 친절하셔요. 침 맞을때 아늑해서 졸려요.. 사람이 많은편이라 예약없이 가면 꽤 기다려야하는 것 같아요\n",
      "해당 의사 아닐수도 있어요 젊으신 분이였습니다의사쌤은 친절하셨고 간호사분들도 전반적으로 다 친절하신데한분 어어엄청 불친절하신분 계세요침도 엄청 아프게 빼시고 인상 팍팍쓰고 말투도 기분상하게 하시더라구요그날 기분 안좋으셨는지 그걸 저한테 푸시는데 아파서 걷기도 힘든 상황이라 너무 서러워서 울었어요지금은 짤리셨으면 좋겠네요\n",
      "발목이 안좋아서 갔었는데 이전에 다른 한의원에 가서 꽤 오랫동안 진료받았음에도 차도가 없던것이 주작나무 간 뒤로는 좋아졌습니다.어떤 부분이 어떻게 안좋은지도 친절히 알려주시고, 어떻게 관리하면 좋은지도 알려주셨어요!근처 한의원 중에 제일 믿을 수 있고 친절한 곳이라 생각합니다.\n",
      "머리가 지끈지끈 아파서 어딜가야하나 검색하다, 집과 가까워 주작나무한의원으로 갔습니다.의사선생님 침도 잘 나으시고 약도 잘 받아요.대기는 조금 있는편이라 아침일찍가시는걸 추천해요.\n",
      "남의사분이셨는데 고질적인 손목 통증때문에 방문했습니다.이전에는 일반 침만 맞다가 약침 권유해주셔서 맞았는데 다행히 제게는 알러지도 없고 효과가 정말 좋아서 통증이 가라앉아서 신기했습니다. 이때를 시작으로 약침을 꾸준히 맞고있습니다.\n",
      "심하게 체해서 방문했습니다. 침맞고 금방내려가더라구요. 역시 체기에는 한의원이 낫더라구요. 마감시간 다되서 갔는데도 친절하게 진료봐주셨습니다. 재방문의사 충분히 있습니다. 체기에는 추천드려요.\n",
      "항상 친절하시고 병원이 깔끔하고 청결해서 기분이 좋아요. 과잉진료도 없고 허리 삐끗해서 간거였는데 침 놔주셔서 빠르게 나았습니다. 집에서 가까우니 다음에 혹시 다시 방문 할 일 있으면 갈거예요\n",
      "진료가 아주 위생적으로 이루어졌고 여자 한의사님이 아주 꼼꼼하게 진료를 봐주시고 침을 놓을때도 잘 놔주세요 서비스로 파스도 붙여주는데 더 시원하고 빨리 낫는 기분이라 좋았어요! 굿\n",
      "몸이 안좋아 한의원을 찾게되면 집에서 멀지만 꼭 이곳을 찾아갑니다. 예전 교통사고로인해 알게된곳인데 몇년간 이동묵원장님께 진료를 받은후에는 몸이 확실히 느낄만큼 부드러워집니다.침도 다른곳과는 확실히 다르구요.간호선생님들께서는 덩치큰 제가 힘드시겠지만 부황도 이곳 만한 곳이 없습니다.\n",
      "10 review extracted\n",
      "\n",
      "sleep for  4\n",
      "https://www.modoodoc.com/hospital/16435/%EC%A3%BC%EC%9E%91%EB%82%98%EB%AC%B4%ED%95%9C%EC%9D%98%EC%9B%90-%EC%84%9C%EC%9A%B8%EC%8B%9C-%EB%8F%99%EC%9E%91%EA%B5%AC/?page=2\n",
      "집앞이얐어서 방문하게 됬습니다 침도 안아프고 시원하고 편안하게 받았어요~ 원장님께서 꼼꼼하게 해주셔서 진료 잘 받고 갔습니다\n",
      "몸이 안좋아 한의원을 찾게되면 집에서 멀지만 꼭 이곳을 찾아갑니다. 근데 항상 찾아뵙던 원장님이 안계시고 목요일오후에는 안계시단걸 오랜만이라 깜박했습니다. 다른분이 계셨습니다.매우 친절하셨지만 타한의원같은 침술 느낌이였고 그날따라 간호사샘들도 좀 퉁명스런분들이 계셨네요. 내일 다시 원장님을 뵈러 갈예정입니다\n",
      "오랜 수험생활과 좋지않은 자세로 목과 허리통증이 잦아서 찾게되었습니다 여러 한의원을 다녀본 결과 잘 맞는 한의원을 찾기어려웠는데 선생님이 너무 좋으셨습니다 진료전 처음 면담할때부터 시험은 언제인지 잘 될거라는 덕담도 해주시고 친절하셨습니다 간호사분들께서도 진료중간중간 계속 체크하시면서 불편한 부분을 바로 고쳐주셨습니다 병원도 대로변에 있어 접근성도 좋고 매우 쾌적한 환경입니다\n",
      "원장쌤도 친절하시고 간호사분들, 데스크직원분들 다 친절하십니다. 진료에대한 설명뿐 아니라 보험관련 상담도 잘해주세요! 동네에 있는 한의원 중 1층에 있고 가까워서 방문했는데 대만족입니다. 특이한건 신발을 벗고 들어가야한다는 점이에요. 근데 침대에서 침맞고 부황뜨고 그러다보면 제 신발이 이리저리 치이거나 제가 나중에 신다가 침대아래로 차버리는 경우가 간혹있었는데 여기는 입구 신발장에 보관하고 들어가면 되서 진료받을땐 더 편했습니다.시설도 깨끗하고 대기시간도 비교적 짧아요! 제가 여태 다닌 한의원 중에서 가장 빠른 대기시간이 아닐까 합니다.\n",
      "동작구 장승배기에 위치한 주작나무한의원은 규모가 매우매우매우 큽니다.건물 하나를 통째로 쓰고있어서 편하고 깨끗하고 좋아요.직원들은 매우 친절하시고, 의사선생님은 설명을 정말 잘해주십니다.아무래도 한의원이다보니 특성 상 병원에 할머니, 할아버지 환자분들이 많으신 편이고 대기시간이 조금 발생하긴 하지만, 그래도 꽤 괜찮은 한의원입니다.추후 한의원에 갈 일이 생기면 다시 갈것같습니다.\n",
      "너무 좋았어요 친절하시고 직원분들도 다 친절했어요 산후보약 지으러 갔는데 검사 후 설명도 잘해주셔서 좋았습니다  식습관이랑 몸 상태 점검 잘해주셔서 보약 먹고 건강해진 느낌이었어요  근데 가격은 조금 비싸요ㅠ 그래도 먹고 효과가 좋았어서 만족합니다 다른분들에게도 추천합니다 그리고 시설이 깔끔하고 깨끗해서 대기하는 동안에도 편안하게 잘 있다가 왔어요 한방차 같은것도 준비되어 있어서 한잔 마시면서 기다리니 더 좋았어요\n",
      "원장님께서 친절히 아픈 점 등 문의 주시고 세밀하게 답변 주셨습니다 진료비도 생각보다 매우 저렴하고 주말 감안 했을 때 내원자가 많았음에도 대기 시간도 길지 않았습니다 앞으로도 자주 내원 하고 싶다는 생각이 들었습니다 처음 침/부황을 맞았는데 아프지도 않고 신속/정확하게 시술 해주시어 감사히 잘 받았습니다 신발을 벗고 들어가는 것은 약간 생소했으며 내원 증빙 차 간단히 사진 촬영 하는 것은 어색했습니다 감사히 잘 진료 받았으며 건강 상태 추이는 좀 전 시술을 받아 차분히 지켜보고 재내원토록 하겠습니다\n",
      "의사 선생님이 젊은 여자분이신데도 몸 뿐 아니라 마음의 병 마저 치료되게 차분히 진료봐주십니다 몸이 아파 갔는데 힘들었던 마음마저 치료가 된 기분입니다 상담 후 침치료도 개인상황 상태에 맞게 잘 놓아주시구요 침 치료 이후에 간호사분들도 남은 침 없는지 꼼꼼히 봐주시는모습이 고마웠습니다 진료실도 병원내부도 매우 깨끗합니다 예약만 한다면 대기시간도 훨씬 줄어들어서 좋아요\n",
      "지인 추천으로 방문한 곳인데 출산후 허리 및 손목 등 전부 아파서 방문한 곳인데 추나요법을 하고 싶었지만 하지 않는 곳 같았고 기본적인 검진을 하고 침 치료만 받고 왔습니다 한번만 받아서 크게 큰 효과는 보지 못했지만 여자 한의사분이셨는데 친절하시고 꼼꼼하게 상태를 봐주시고 진맥도 잘 해주셔서 재방문 의사가 있어요 추천합니다 그리고 병원도 크고 안에도 깔끔하고 직원분들도 많아서 체계적으로 잘 돌아가고 있어요\n",
      "10 review extracted\n",
      "\n",
      "sleep for  2\n"
     ]
    }
   ],
   "source": [
    "reviews=[]\n",
    "stars= []\n",
    "treatments=[]\n",
    "hospitals = []\n",
    "\n",
    "for i in root_url:\n",
    "    base_url = i\n",
    "\n",
    "    for i in range(1,3):\n",
    "        try :\n",
    "            urls = base_url+('?page='+str(i))\n",
    "            print(urls)\n",
    "        \n",
    "\n",
    "            driver.get(urls)\n",
    "            page = driver.page_source\n",
    "            soup = BeautifulSoup(page, 'html.parser')\n",
    "\n",
    "            review = soup.find_all('div', class_=\"toast-message content-box text-left class49 mb-4 pb-2\")\n",
    "\n",
    "            \n",
    "\n",
    "            for i in review:\n",
    "                text = i.text\n",
    "            #     print(text)\n",
    "                text = text.replace('\\n', '')\n",
    "                text = text.replace('                        ', '')\n",
    "                text = text.replace('                    ', '')\n",
    "                print(text)\n",
    "                reviews.append(text)\n",
    "\n",
    "            star = soup.find_all('span', class_ = \"h-100 align-bottom\")\n",
    "\n",
    "            \n",
    "            for i in star:\n",
    "                i = i.text\n",
    "                i=i.strip()\n",
    "                stars.append(i)\n",
    "                \n",
    "                \n",
    "            treatment = soup.find_all('div', class_=\"text-left mt-2 title-box\")\n",
    "            \n",
    "            \n",
    "            for i in treatment:\n",
    "                treat = i.text\n",
    "                treat = treat.replace(' ','')\n",
    "                treat = treat.replace('\\n','')\n",
    "                treat = treat.split(':')[1]\n",
    "                treatments.append(treat)\n",
    "            \n",
    "            print('10 review extracted\\n')\n",
    "            \n",
    "            x = random.randint(1,4)\n",
    "            sleep(x)\n",
    "            \n",
    "            print('sleep for ', x)\n",
    "        \n",
    "        \n",
    "        \n",
    "        except :\n",
    "            print('리뷰없음')\n",
    "            pass"
   ]
  },
  {
   "cell_type": "code",
   "execution_count": 12,
   "id": "02d056f0",
   "metadata": {},
   "outputs": [
    {
     "data": {
      "text/plain": [
       "['몸이 안좋아 한의원을 찾게되면 집에서 멀지만 꼭 이곳을 찾아갑니다. 예전 교통사고로인해 알게된곳인데 몇년간 이동묵원장님께 진료를 받은후에는 몸이 확실히 느낄만큼 부드러워집니다.침도 다른곳과는 확실히 다르구요.간호선생님들께서는 덩치큰 제가 힘드시겠지만 부황도 이곳 만한 곳이 없습니다.']"
      ]
     },
     "execution_count": 12,
     "metadata": {},
     "output_type": "execute_result"
    }
   ],
   "source": [
    "reviews"
   ]
  },
  {
   "cell_type": "code",
   "execution_count": 14,
   "id": "f6f52960",
   "metadata": {},
   "outputs": [
    {
     "name": "stdout",
     "output_type": "stream",
     "text": [
      "39\n",
      "39\n",
      "39\n"
     ]
    }
   ],
   "source": [
    "print(len(reviews))\n",
    "print(len(treatments))\n",
    "print(len(stars))\n",
    "# print(len)"
   ]
  },
  {
   "cell_type": "code",
   "execution_count": 18,
   "id": "5eaadb8a",
   "metadata": {},
   "outputs": [
    {
     "data": {
      "text/plain": [
       "['6',\n",
       " '8.8',\n",
       " '10',\n",
       " '9',\n",
       " '10',\n",
       " '9.8',\n",
       " '10',\n",
       " '10',\n",
       " '8',\n",
       " '9',\n",
       " '9.3',\n",
       " '10',\n",
       " '7.3',\n",
       " '9.5',\n",
       " '7.3',\n",
       " '9.8',\n",
       " '10',\n",
       " '9.3',\n",
       " '10',\n",
       " '10',\n",
       " '9.5',\n",
       " '9.3',\n",
       " '7.3',\n",
       " '10',\n",
       " '9.5',\n",
       " '10',\n",
       " '10',\n",
       " '9.8',\n",
       " '9.3',\n",
       " '10',\n",
       " '10',\n",
       " '8.5',\n",
       " '9',\n",
       " '10',\n",
       " '9.8',\n",
       " '9.8',\n",
       " '10',\n",
       " '10',\n",
       " '9.5']"
      ]
     },
     "execution_count": 18,
     "metadata": {},
     "output_type": "execute_result"
    }
   ],
   "source": [
    "stars"
   ]
  },
  {
   "cell_type": "code",
   "execution_count": null,
   "id": "5c01bb4e",
   "metadata": {},
   "outputs": [],
   "source": []
  },
  {
   "cell_type": "code",
   "execution_count": null,
   "id": "d0d1a3bc",
   "metadata": {},
   "outputs": [],
   "source": []
  },
  {
   "cell_type": "code",
   "execution_count": null,
   "id": "31629453",
   "metadata": {},
   "outputs": [],
   "source": []
  },
  {
   "cell_type": "code",
   "execution_count": 25,
   "id": "370e7276",
   "metadata": {},
   "outputs": [
    {
     "name": "stdout",
     "output_type": "stream",
     "text": [
      "침술,한약,추나요법,약침\n",
      "침술\n",
      "침술\n",
      "침술,추나요법\n",
      "추나요법,약침,봉침\n",
      "추나요법\n",
      "한약\n",
      "봉침,약침\n",
      "침술\n",
      "침술\n"
     ]
    }
   ],
   "source": [
    "# url = 'https://www.modoodoc.com/hospital/17186/%EC%9E%90%EC%83%9D%ED%95%9C%EB%B0%A9%EB%B3%91%EC%9B%90-%EC%84%9C%EC%9A%B8%EC%8B%9C-%EA%B0%95%EB%82%A8%EA%B5%AC/'\n",
    "\n",
    "# driver.get(url)\n",
    "# page = driver.page_source\n",
    "# soup = BeautifulSoup(page, 'html.parser')\n",
    "\n",
    "treatment = soup.find_all('div', class_=\"text-left mt-2 title-box\")\n",
    "\n",
    "for i in treatment:\n",
    "    treat = i.text\n",
    "    treat = treat.replace(' ','')\n",
    "    treat = treat.replace('\\n','')\n",
    "    treat = treat.split(':')[1]\n",
    "#     treat = treat.strip()\n",
    "    print(treat)"
   ]
  },
  {
   "cell_type": "code",
   "execution_count": 65,
   "id": "ac90c518",
   "metadata": {},
   "outputs": [
    {
     "ename": "TypeError",
     "evalue": "'NoneType' object is not callable",
     "output_type": "error",
     "traceback": [
      "\u001b[0;31m---------------------------------------------------------------------------\u001b[0m",
      "\u001b[0;31mTypeError\u001b[0m                                 Traceback (most recent call last)",
      "\u001b[0;32m/var/folders/kx/wntkz3hj61bd2_ss_s_4d1km0000gn/T/ipykernel_2276/2981683040.py\u001b[0m in \u001b[0;36m<module>\u001b[0;34m\u001b[0m\n\u001b[0;32m----> 1\u001b[0;31m \u001b[0mpage_bar\u001b[0m \u001b[0;34m=\u001b[0m \u001b[0msoup\u001b[0m\u001b[0;34m.\u001b[0m\u001b[0mfind_elements_by_css_selector\u001b[0m\u001b[0;34m(\u001b[0m\u001b[0;34m'body > div:nth-child(8) > div > div:nth-child(4) > div.col-8 > div.mt-0.mb-5.pt-3 > div.review-in-detail-text-box > nav > ul > li:nth-child(2)'\u001b[0m\u001b[0;34m)\u001b[0m\u001b[0;34m[\u001b[0m\u001b[0;36m0\u001b[0m\u001b[0;34m]\u001b[0m\u001b[0;34m\u001b[0m\u001b[0;34m\u001b[0m\u001b[0m\n\u001b[0m\u001b[1;32m      2\u001b[0m \u001b[0mpage_bar\u001b[0m\u001b[0;34m.\u001b[0m\u001b[0mclick\u001b[0m\u001b[0;34m(\u001b[0m\u001b[0;34m)\u001b[0m\u001b[0;34m\u001b[0m\u001b[0;34m\u001b[0m\u001b[0m\n",
      "\u001b[0;31mTypeError\u001b[0m: 'NoneType' object is not callable"
     ]
    }
   ],
   "source": [
    "<div class=\"text-left mt-2 title-box\" style=\"font-weight: bold;letter-spacing: -0.8px;\">\n",
    "                받은 치료 :\n",
    "                \n",
    "                    \n",
    "                        침술\n",
    "                        \n",
    "                            ,\n",
    "                        \n",
    "                    \n",
    "                        한약\n",
    "                        \n",
    "                            ,\n",
    "                        \n",
    "                    \n",
    "                        추나요법\n",
    "                        \n",
    "                            ,\n",
    "                        \n",
    "                    \n",
    "                        약침\n",
    "                        \n",
    "                    \n",
    "                \n",
    "            </div>"
   ]
  },
  {
   "cell_type": "code",
   "execution_count": null,
   "id": "76911584",
   "metadata": {},
   "outputs": [],
   "source": [
    "https://www.modoodoc.com/hospital/17186/%EC%9E%90%EC%83%9D%ED%95%9C%EB%B0%A9%EB%B3%91%EC%9B%90-%EC%84%9C%EC%9A%B8%EC%8B%9C-%EA%B0%95%EB%82%A8%EA%B5%AC/?page=1"
   ]
  }
 ],
 "metadata": {
  "kernelspec": {
   "display_name": "Python 3 (ipykernel)",
   "language": "python",
   "name": "python3"
  },
  "language_info": {
   "codemirror_mode": {
    "name": "ipython",
    "version": 3
   },
   "file_extension": ".py",
   "mimetype": "text/x-python",
   "name": "python",
   "nbconvert_exporter": "python",
   "pygments_lexer": "ipython3",
   "version": "3.8.0"
  },
  "toc": {
   "base_numbering": 1,
   "nav_menu": {},
   "number_sections": true,
   "sideBar": true,
   "skip_h1_title": false,
   "title_cell": "Table of Contents",
   "title_sidebar": "Contents",
   "toc_cell": false,
   "toc_position": {},
   "toc_section_display": true,
   "toc_window_display": false
  },
  "varInspector": {
   "cols": {
    "lenName": 16,
    "lenType": 16,
    "lenVar": 40
   },
   "kernels_config": {
    "python": {
     "delete_cmd_postfix": "",
     "delete_cmd_prefix": "del ",
     "library": "var_list.py",
     "varRefreshCmd": "print(var_dic_list())"
    },
    "r": {
     "delete_cmd_postfix": ") ",
     "delete_cmd_prefix": "rm(",
     "library": "var_list.r",
     "varRefreshCmd": "cat(var_dic_list()) "
    }
   },
   "types_to_exclude": [
    "module",
    "function",
    "builtin_function_or_method",
    "instance",
    "_Feature"
   ],
   "window_display": false
  }
 },
 "nbformat": 4,
 "nbformat_minor": 5
}
