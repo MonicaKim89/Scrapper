{
 "cells": [
  {
   "cell_type": "code",
   "execution_count": 22,
   "id": "9c317c52",
   "metadata": {},
   "outputs": [],
   "source": [
    "from selenium import webdriver\n",
    "from selenium.webdriver.common.keys import Keys\n",
    "from selenium.webdriver.support.ui import WebDriverWait\n",
    "from selenium.common.exceptions import NoSuchElementException\n",
    "import selenium.common.exceptions as sex\n",
    "\n",
    "import pandas as pd\n",
    "import numpy as np\n",
    "\n",
    "from bs4 import BeautifulSoup\n",
    "import lxml\n",
    "\n",
    "import time\n",
    "from time import sleep\n",
    "import random"
   ]
  },
  {
   "cell_type": "code",
   "execution_count": 23,
   "id": "0b710ffe",
   "metadata": {},
   "outputs": [
    {
     "name": "stderr",
     "output_type": "stream",
     "text": [
      "/var/folders/kx/wntkz3hj61bd2_ss_s_4d1km0000gn/T/ipykernel_2276/2374782286.py:2: DeprecationWarning: executable_path has been deprecated, please pass in a Service object\n",
      "  driver = webdriver.Chrome(path)\n"
     ]
    }
   ],
   "source": [
    "path = '/Users/monica_air/chromedriver'\n",
    "driver = webdriver.Chrome(path)\n",
    "# driver.implicitly_waits(5)\n",
    "\n",
    "start_url = 'https://www.modoodoc.com/hospitals/?search_query=%ED%95%9C%EC%9D%98%EC%9B%90'\n",
    "driver.get(start_url)"
   ]
  },
  {
   "cell_type": "code",
   "execution_count": 17,
   "id": "6397e68f",
   "metadata": {},
   "outputs": [],
   "source": [
    "page = driver.page_source\n",
    "soup = BeautifulSoup(page, 'html.parser')\n",
    "\n",
    "\n",
    "links = soup.find_all('div', class_ = \"doctor-total-box border-bottom\")\n",
    "\n",
    "http = 'https://www.modoodoc.com'\n",
    "\n",
    "link_list =[]\n",
    "for i in links:\n",
    "#     link_list.append(i)\n",
    "    links_=(i.find('a')['href'])\n",
    "    link_list.append(http+links_)s"
   ]
  },
  {
   "cell_type": "code",
   "execution_count": 24,
   "id": "92ccd1d8",
   "metadata": {},
   "outputs": [],
   "source": [
    "driver.get('https://www.modoodoc.com/hospital/17186/%EC%9E%90%EC%83%9D%ED%95%9C%EB%B0%A9%EB%B3%91%EC%9B%90-%EC%84%9C%EC%9A%B8%EC%8B%9C-%EA%B0%95%EB%82%A8%EA%B5%AC/')"
   ]
  },
  {
   "cell_type": "code",
   "execution_count": 25,
   "id": "ce50fd01",
   "metadata": {},
   "outputs": [],
   "source": [
    "page = driver.page_source\n",
    "soup = BeautifulSoup(page, 'html.parser')"
   ]
  },
  {
   "cell_type": "code",
   "execution_count": 54,
   "id": "048e0477",
   "metadata": {},
   "outputs": [
    {
     "name": "stdout",
     "output_type": "stream",
     "text": [
      "교통사고 후유증으로 갔는데 진짜 대충대충함. 추나는 거의 30초도 안해줌. 빨리빨리 환자받으려고 하는게 보이고 교통사고 환자는 돈안된다고 생각하는지 너무 대충함. 침치료에 있어서도 대충빨리 끝내려는게 보임.\n",
      "한창쌤 티비서보고 예약하고 갔는데처음에 하는게 좀많아서 오래걸렸구요진료는 다른병원들에 비해 진짜 친절하게 잘봐주시고훤칠하니 멋지시드라구요 티비가 아쉽게 잘못나오는것같구요아픈곳 친절하게 설명해주시면서 잘봐주셧어요\n",
      "허벅지가땡겨서 침치료를 받게되었습니다선생님이 나이가 지긋하셔서 침도 능숙하게놓으시구대체로 상담할때 조용하고 간결하게하세요 파스도처방받아서 집에가서도 관리해서 이제는 다리가아프지않아요 역시 한방병원 자생입니다♡\n",
      "거북목,라운드숄더 때문에 자주 내원 했는데요원장님 친절하시고 침치료도 잘하시는데 큰 효과는 모르겠어요 도수치료,물리치료 병행 했는데도수치료사분들 너무 쓸데없는 말을 많이 하거나 불친절등등 도수치료는 마사지사들 개념 같아요 비추천\n",
      "회전문에 어깨가 부딪혀서 본원에 내원하였습니다. X-레이 촬영한 후 의사의 문진을 받았으며 그 후 통증 부위 추나치료를 받은 후 약침 치료와 침 치료를 각각 받았습니다. 통증 부위는 호전되었습니다.\n",
      "교통사고로 인해 입원하게되고 치료를 받게 되었는데 잘하시는분 추천해달라고 하셔서 추천 받았는데 친절하시고 치료받는 동안  침치료랑 도수 치료등 잘받고. 퇴원 했어여~ 혹시 또 아프면 선생님께 치료 받을거예요^^\n",
      "자궁건강이 너무 안좋고 면역력도 떨어지고 수족냉증이 심해서 방문했는데 너무 친절하셨고 워낙 유명한 병원이다 보니 시설도 깔끔하고 쾌적해서 좋았습니다. 유명한데에는 이유가 있는법인것같아요\n",
      "대상포진후 신경통으로 통증이 조절이 안돼서 다녔습니다양방에서 몇년간 할만큼 해서 가봤는데 효과가 있었어요여러가지를 섞어서 치료했고특히 봉침경우 적절히 용량을 조절해가며 치료를 해준덕에 약도 끊게 되었습니다\n",
      "교통사고로 인해서 오랫동안 치료를 받았습니다. 일주일에 2 -3회를 갔지만 친절하게 진료를 해줘서 좋았습니다. 다만 교통사고 특성상 필요한 서류를 받기위해 말씀드리면 병원특성상 보수적인 태도를 보여주셔서 아쉬윘습니다\n",
      "유명하지 않으실때 진료 받았습니다.팔이랑 어깨쪽이 아파서요.엄청 부담스러울정도로 친절하시긴하시는데침을 놓고나서 움직여서 스트레칭도 해주시고하는치료로 많이 하시는 거 같은데저는 약간 무섭고 부담스럽긴하였습니다\n"
     ]
    }
   ],
   "source": [
    "review = soup.find_all('div', class_=\"toast-message content-box text-left class49 mb-4 pb-2\")\n",
    "\n",
    "reviews = []\n",
    "\n",
    "for i in review:\n",
    "    text = i.text\n",
    "#     print(text)\n",
    "    text = text.replace('\\n', '')\n",
    "    text = text.replace('                        ', '')\n",
    "    text = text.replace('                    ', '')\n",
    "#     print(text)\n",
    "    reviews.append(text)\n",
    "    \n",
    "star = soup.find_all('span', class_ = \"h-100 align-bottom\")\n",
    "\n",
    "stats= []\n",
    "for i in star:\n",
    "    i = i.text\n",
    "    i=i.strip()\n",
    "    print(i)"
   ]
  },
  {
   "cell_type": "code",
   "execution_count": 60,
   "id": "c68692cb",
   "metadata": {},
   "outputs": [
    {
     "name": "stdout",
     "output_type": "stream",
     "text": [
      "6\n",
      "8.8\n",
      "10\n",
      "9\n",
      "10\n",
      "9.8\n",
      "10\n",
      "10\n",
      "8\n",
      "9\n"
     ]
    }
   ],
   "source": [
    "star = soup.find_all('span', class_ = \"h-100 align-bottom\")\n",
    "\n",
    "stats= []\n",
    "for i in star:\n",
    "    i = i.text\n",
    "    i=i.strip()\n",
    "    print(i)"
   ]
  },
  {
   "cell_type": "code",
   "execution_count": null,
   "id": "1d34ba48",
   "metadata": {},
   "outputs": [],
   "source": []
  }
 ],
 "metadata": {
  "kernelspec": {
   "display_name": "Python 3 (ipykernel)",
   "language": "python",
   "name": "python3"
  },
  "language_info": {
   "codemirror_mode": {
    "name": "ipython",
    "version": 3
   },
   "file_extension": ".py",
   "mimetype": "text/x-python",
   "name": "python",
   "nbconvert_exporter": "python",
   "pygments_lexer": "ipython3",
   "version": "3.8.0"
  },
  "toc": {
   "base_numbering": 1,
   "nav_menu": {},
   "number_sections": true,
   "sideBar": true,
   "skip_h1_title": false,
   "title_cell": "Table of Contents",
   "title_sidebar": "Contents",
   "toc_cell": false,
   "toc_position": {},
   "toc_section_display": true,
   "toc_window_display": false
  },
  "varInspector": {
   "cols": {
    "lenName": 16,
    "lenType": 16,
    "lenVar": 40
   },
   "kernels_config": {
    "python": {
     "delete_cmd_postfix": "",
     "delete_cmd_prefix": "del ",
     "library": "var_list.py",
     "varRefreshCmd": "print(var_dic_list())"
    },
    "r": {
     "delete_cmd_postfix": ") ",
     "delete_cmd_prefix": "rm(",
     "library": "var_list.r",
     "varRefreshCmd": "cat(var_dic_list()) "
    }
   },
   "types_to_exclude": [
    "module",
    "function",
    "builtin_function_or_method",
    "instance",
    "_Feature"
   ],
   "window_display": false
  }
 },
 "nbformat": 4,
 "nbformat_minor": 5
}
