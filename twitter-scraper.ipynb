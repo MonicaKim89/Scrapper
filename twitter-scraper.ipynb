{
 "cells": [
  {
   "cell_type": "markdown",
   "metadata": {},
   "source": [
    "# Twitter Scraper"
   ]
  },
  {
   "cell_type": "code",
   "execution_count": 1,
   "metadata": {},
   "outputs": [],
   "source": [
    "import re\n",
    "import csv\n",
    "from getpass import getpass\n",
    "from time import sleep\n",
    "from selenium.webdriver.common.keys import Keys\n",
    "from selenium.common.exceptions import NoSuchElementException\n",
    "from selenium.webdriver import Chrome\n",
    "\n",
    "def get_tweet_data(card):\n",
    "    \"\"\"Extract data from tweet card\"\"\"\n",
    "    username = card.find_element_by_xpath('.//span').text\n",
    "    try:\n",
    "        handle = card.find_element_by_xpath('.//span[contains(text(), \"@\")]').text\n",
    "    except NoSuchElementException:\n",
    "        return\n",
    "    \n",
    "    try:\n",
    "        postdate = card.find_element_by_xpath('.//time').get_attribute('datetime')\n",
    "    except NoSuchElementException:\n",
    "        return\n",
    "    \n",
    "    comment = card.find_element_by_xpath('.//div[2]/div[2]/div[1]').text\n",
    "    responding = card.find_element_by_xpath('.//div[2]/div[2]/div[2]').text\n",
    "    text = comment + responding\n",
    "    reply_cnt = card.find_element_by_xpath('.//div[@data-testid=\"reply\"]').text\n",
    "    retweet_cnt = card.find_element_by_xpath('.//div[@data-testid=\"retweet\"]').text\n",
    "    like_cnt = card.find_element_by_xpath('.//div[@data-testid=\"like\"]').text\n",
    "    \n",
    "    # get a string of all emojis contained in the tweet\n",
    "    \"\"\"Emojis are stored as images... so I convert the filename, which is stored as unicode, into \n",
    "    the emoji character.\"\"\"\n",
    "    emoji_tags = card.find_elements_by_xpath('.//img[contains(@src, \"emoji\")]')\n",
    "    emoji_list = []\n",
    "    for tag in emoji_tags:\n",
    "        filename = tag.get_attribute('src')\n",
    "        try:\n",
    "            emoji = chr(int(re.search(r'svg\\/([a-z0-9]+)\\.svg', filename).group(1), base=16))\n",
    "        except AttributeError:\n",
    "            continue\n",
    "        if emoji:\n",
    "            emoji_list.append(emoji)\n",
    "    emojis = ' '.join(emoji_list)\n",
    "    \n",
    "    tweet = (username, handle, postdate, text, emojis, reply_cnt, retweet_cnt, like_cnt)\n",
    "    return tweet    "
   ]
  },
  {
   "cell_type": "code",
   "execution_count": null,
   "metadata": {},
   "outputs": [],
   "source": [
    "#원격의료 until:2021-07-18 since:2019-11-19\n",
    "#uY9xKrnUSt4FAac\n",
    "\n",
    "# application variables\n",
    "user = input('username: ')\n",
    "my_password = getpass('Password: ')\n",
    "search_term = input('search term: ')\n",
    "\n",
    "# create instance of web driver\n",
    "driver = Chrome('/Users/monica_air/chromedriver')\n",
    "\n",
    "# navigate to login screen\n",
    "driver.get('https://www.twitter.com/login')\n",
    "driver.maximize_window()\n",
    "\n",
    "username = driver.find_element_by_xpath('//input[@name=\"session[username_or_email]\"]')\n",
    "username.send_keys(username)\n",
    "\n",
    "password = driver.find_element_by_xpath('//input[@name=\"session[password]\"]')\n",
    "password.send_keys(password)\n",
    "password.send_keys(Keys.RETURN)\n",
    "sleep(1)\n",
    "\n",
    "# find search input and search for term\n",
    "search_input = driver.find_element_by_xpath('//input[@aria-label=\"Search query\"]')\n",
    "search_input.send_keys(search_term)\n",
    "search_input.send_keys(Keys.RETURN)\n",
    "sleep(1)\n",
    "\n",
    "# navigate to historical 'latest' tab\n",
    "driver.find_element_by_link_text('Latest').click()"
   ]
  },
  {
   "cell_type": "code",
   "execution_count": 2,
   "metadata": {},
   "outputs": [],
   "source": [
    "driver = Chrome('/Users/monica_air/chromedriver')\n",
    "driver.get('https://twitter.com/search?f=live&q=%EC%9B%90%EA%B2%A9%EC%9D%98%EB%A3%8C%20until%3A2021-07-18%20since%3A2021-07-01&src=typed_query')\n",
    "# get all tweets on the page\n",
    "data = []\n",
    "tweet_ids = set()\n",
    "last_position = driver.execute_script(\"return window.pageYOffset;\")\n",
    "scrolling = True\n",
    "\n",
    "while scrolling:\n",
    "    page_cards = driver.find_elements_by_xpath('//div[@data-testid=\"tweet\"]')\n",
    "    for card in page_cards[-15:]:\n",
    "        tweet = get_tweet_data(card)\n",
    "        if tweet:\n",
    "            tweet_id = ''.join(tweet)\n",
    "            if tweet_id not in tweet_ids:\n",
    "                tweet_ids.add(tweet_id)\n",
    "                data.append(tweet)\n",
    "            \n",
    "    scroll_attempt = 0\n",
    "    while True:\n",
    "        # check scroll position\n",
    "        driver.execute_script('window.scrollTo(0, document.body.scrollHeight);')\n",
    "        sleep(1)\n",
    "        curr_position = driver.execute_script(\"return window.pageYOffset;\")\n",
    "        if last_position == curr_position:\n",
    "            scroll_attempt += 1\n",
    "            \n",
    "            # end of scroll region\n",
    "            if scroll_attempt >= 3:\n",
    "                scrolling = False\n",
    "                break\n",
    "            else:\n",
    "                sleep(2) # attempt another scroll\n",
    "        else:\n",
    "            last_position = curr_position\n",
    "            break\n",
    "\n",
    "# close the web driver\n",
    "driver.close()"
   ]
  },
  {
   "cell_type": "code",
   "execution_count": 3,
   "metadata": {},
   "outputs": [
    {
     "data": {
      "text/plain": [
       "19"
      ]
     },
     "execution_count": 3,
     "metadata": {},
     "output_type": "execute_result"
    }
   ],
   "source": [
    "len(data)"
   ]
  },
  {
   "cell_type": "markdown",
   "metadata": {},
   "source": [
    "## Saving the tweet data"
   ]
  },
  {
   "cell_type": "code",
   "execution_count": 24,
   "metadata": {},
   "outputs": [],
   "source": [
    "with open('0701_0718_telemedicine.csv', 'w', newline='', encoding='utf-8') as f:\n",
    "    header = ['UserName', 'Handle', 'Timestamp', 'Text', 'Emojis', 'Comments', 'Likes', 'Retweets']\n",
    "    writer = csv.writer(f)\n",
    "    writer.writerow(header)\n",
    "    writer.writerows(data)"
   ]
  },
  {
   "cell_type": "code",
   "execution_count": 9,
   "metadata": {},
   "outputs": [],
   "source": [
    "import pandas as pd"
   ]
  },
  {
   "cell_type": "code",
   "execution_count": 10,
   "metadata": {},
   "outputs": [],
   "source": [
    "data = pd.read_csv('0701_0718_telemedicine.csv')"
   ]
  },
  {
   "cell_type": "code",
   "execution_count": 11,
   "metadata": {},
   "outputs": [
    {
     "data": {
      "text/plain": [
       "'원격의료 확대 시급한데 시간을 조율 하다니~~~한심!\\n전국이 7,8,9월에 엄청난 확진자가 발생하면 어찌 할건가?\\n보건소는 코로나와 관계없이 바이러스 수시 검사소가 필요한 시대라는걸 인식 했으면 한다.\\n원격진료 그동안 얼마나 준비했나? 하루라도 빨리 전면 시행 해라.  답답!!!'"
      ]
     },
     "execution_count": 11,
     "metadata": {},
     "output_type": "execute_result"
    }
   ],
   "source": [
    "data.Text[0]"
   ]
  },
  {
   "cell_type": "code",
   "execution_count": 12,
   "metadata": {},
   "outputs": [],
   "source": [
    "link =[]\n",
    "tw_link = data.Text.tolist()\n",
    "for i in tw_link:\n",
    "    if 'http' in i:\n",
    "        i = i.split('http')[-1]\n",
    "        i = 'http'+ i\n",
    "        link.append(i)\n",
    "    else:\n",
    "        i = '링크없음'\n",
    "        link.append(i)\n",
    "data['link'] = link\n",
    "\n",
    "data.to_csv('final_result.csv')"
   ]
  },
  {
   "cell_type": "code",
   "execution_count": null,
   "metadata": {},
   "outputs": [],
   "source": []
  },
  {
   "cell_type": "code",
   "execution_count": 14,
   "metadata": {},
   "outputs": [
    {
     "data": {
      "text/html": [
       "<div>\n",
       "<style scoped>\n",
       "    .dataframe tbody tr th:only-of-type {\n",
       "        vertical-align: middle;\n",
       "    }\n",
       "\n",
       "    .dataframe tbody tr th {\n",
       "        vertical-align: top;\n",
       "    }\n",
       "\n",
       "    .dataframe thead th {\n",
       "        text-align: right;\n",
       "    }\n",
       "</style>\n",
       "<table border=\"1\" class=\"dataframe\">\n",
       "  <thead>\n",
       "    <tr style=\"text-align: right;\">\n",
       "      <th></th>\n",
       "      <th>UserName</th>\n",
       "      <th>Handle</th>\n",
       "      <th>Timestamp</th>\n",
       "      <th>Text</th>\n",
       "      <th>Emojis</th>\n",
       "      <th>Comments</th>\n",
       "      <th>Likes</th>\n",
       "      <th>Retweets</th>\n",
       "      <th>link</th>\n",
       "    </tr>\n",
       "  </thead>\n",
       "  <tbody>\n",
       "    <tr>\n",
       "      <th>0</th>\n",
       "      <td>윤상운</td>\n",
       "      <td>@pSo0XuO8NTfDQrZ</td>\n",
       "      <td>2021-07-10T00:43:59.000Z</td>\n",
       "      <td>원격의료 확대 시급한데 시간을 조율 하다니~~~한심!\\n전국이 7,8,9월에 엄청난...</td>\n",
       "      <td>NaN</td>\n",
       "      <td>NaN</td>\n",
       "      <td>NaN</td>\n",
       "      <td>NaN</td>\n",
       "      <td>링크없음</td>\n",
       "    </tr>\n",
       "    <tr>\n",
       "      <th>1</th>\n",
       "      <td>#한미FTA폐기 #민주사회복원</td>\n",
       "      <td>@myid01</td>\n",
       "      <td>2021-07-10T00:14:09.000Z</td>\n",
       "      <td>삼성, SK 같은 굴지의 재벌들이 원격의료단말기와 프로그램 개발을 완료했고, 이들 ...</td>\n",
       "      <td>NaN</td>\n",
       "      <td>NaN</td>\n",
       "      <td>1.0</td>\n",
       "      <td>NaN</td>\n",
       "      <td>링크없음</td>\n",
       "    </tr>\n",
       "    <tr>\n",
       "      <th>2</th>\n",
       "      <td>#한미FTA폐기 #민주사회복원</td>\n",
       "      <td>@myid01</td>\n",
       "      <td>2021-07-09T23:13:50.000Z</td>\n",
       "      <td>의료사각지대에 ‘원격의료’ 단말기 한 대를 가져다 놓고 국가의 책무를 다했다 하려는...</td>\n",
       "      <td>NaN</td>\n",
       "      <td>NaN</td>\n",
       "      <td>NaN</td>\n",
       "      <td>NaN</td>\n",
       "      <td>http://m.vop.co.kr/view.php?cid=695435… #한미FTA폐기</td>\n",
       "    </tr>\n",
       "    <tr>\n",
       "      <th>3</th>\n",
       "      <td>#한미FTA폐기 #민주사회복원</td>\n",
       "      <td>@myid01</td>\n",
       "      <td>2021-07-09T21:44:03.000Z</td>\n",
       "      <td>박근혜는 노골적 민영화보다 모호하고 언뜻 좋아보이는 언사를 사용한다. 선별적복지, ...</td>\n",
       "      <td>NaN</td>\n",
       "      <td>NaN</td>\n",
       "      <td>4.0</td>\n",
       "      <td>5.0</td>\n",
       "      <td>http://m.vop.co.kr/view.php?cid=695435… #TPP반대...</td>\n",
       "    </tr>\n",
       "    <tr>\n",
       "      <th>4</th>\n",
       "      <td>#한미FTA폐기 #민주사회복원</td>\n",
       "      <td>@myid01</td>\n",
       "      <td>2021-07-09T10:44:10.000Z</td>\n",
       "      <td>박근혜 의료민영화 추진일지-1)집권초 원격의료, 의료관광호텔 추진 2)영리자회사 추...</td>\n",
       "      <td>NaN</td>\n",
       "      <td>NaN</td>\n",
       "      <td>NaN</td>\n",
       "      <td>NaN</td>\n",
       "      <td>링크없음</td>\n",
       "    </tr>\n",
       "  </tbody>\n",
       "</table>\n",
       "</div>"
      ],
      "text/plain": [
       "           UserName            Handle                 Timestamp  \\\n",
       "0               윤상운  @pSo0XuO8NTfDQrZ  2021-07-10T00:43:59.000Z   \n",
       "1  #한미FTA폐기 #민주사회복원           @myid01  2021-07-10T00:14:09.000Z   \n",
       "2  #한미FTA폐기 #민주사회복원           @myid01  2021-07-09T23:13:50.000Z   \n",
       "3  #한미FTA폐기 #민주사회복원           @myid01  2021-07-09T21:44:03.000Z   \n",
       "4  #한미FTA폐기 #민주사회복원           @myid01  2021-07-09T10:44:10.000Z   \n",
       "\n",
       "                                                Text Emojis  Comments  Likes  \\\n",
       "0  원격의료 확대 시급한데 시간을 조율 하다니~~~한심!\\n전국이 7,8,9월에 엄청난...    NaN       NaN    NaN   \n",
       "1  삼성, SK 같은 굴지의 재벌들이 원격의료단말기와 프로그램 개발을 완료했고, 이들 ...    NaN       NaN    1.0   \n",
       "2  의료사각지대에 ‘원격의료’ 단말기 한 대를 가져다 놓고 국가의 책무를 다했다 하려는...    NaN       NaN    NaN   \n",
       "3  박근혜는 노골적 민영화보다 모호하고 언뜻 좋아보이는 언사를 사용한다. 선별적복지, ...    NaN       NaN    4.0   \n",
       "4  박근혜 의료민영화 추진일지-1)집권초 원격의료, 의료관광호텔 추진 2)영리자회사 추...    NaN       NaN    NaN   \n",
       "\n",
       "   Retweets                                               link  \n",
       "0       NaN                                               링크없음  \n",
       "1       NaN                                               링크없음  \n",
       "2       NaN   http://m.vop.co.kr/view.php?cid=695435… #한미FTA폐기  \n",
       "3       5.0  http://m.vop.co.kr/view.php?cid=695435… #TPP반대...  \n",
       "4       NaN                                               링크없음  "
      ]
     },
     "execution_count": 14,
     "metadata": {},
     "output_type": "execute_result"
    }
   ],
   "source": [
    "final_df = pd.read_csv('final_result.csv', index_col=0)\n",
    "final_df.head()"
   ]
  },
  {
   "cell_type": "code",
   "execution_count": 17,
   "metadata": {},
   "outputs": [
    {
     "name": "stdout",
     "output_type": "stream",
     "text": [
      "http://m.vop.co.kr/view.php?cid=695435… \n"
     ]
    }
   ],
   "source": [
    "print(link[3])"
   ]
  },
  {
   "cell_type": "code",
   "execution_count": null,
   "metadata": {},
   "outputs": [],
   "source": []
  }
 ],
 "metadata": {
  "kernelspec": {
   "display_name": "Python 3",
   "language": "python",
   "name": "python3"
  },
  "language_info": {
   "codemirror_mode": {
    "name": "ipython",
    "version": 3
   },
   "file_extension": ".py",
   "mimetype": "text/x-python",
   "name": "python",
   "nbconvert_exporter": "python",
   "pygments_lexer": "ipython3",
   "version": "3.8.5"
  },
  "toc": {
   "base_numbering": 1,
   "nav_menu": {},
   "number_sections": true,
   "sideBar": true,
   "skip_h1_title": false,
   "title_cell": "Table of Contents",
   "title_sidebar": "Contents",
   "toc_cell": false,
   "toc_position": {},
   "toc_section_display": true,
   "toc_window_display": false
  },
  "varInspector": {
   "cols": {
    "lenName": 16,
    "lenType": 16,
    "lenVar": 40
   },
   "kernels_config": {
    "python": {
     "delete_cmd_postfix": "",
     "delete_cmd_prefix": "del ",
     "library": "var_list.py",
     "varRefreshCmd": "print(var_dic_list())"
    },
    "r": {
     "delete_cmd_postfix": ") ",
     "delete_cmd_prefix": "rm(",
     "library": "var_list.r",
     "varRefreshCmd": "cat(var_dic_list()) "
    }
   },
   "types_to_exclude": [
    "module",
    "function",
    "builtin_function_or_method",
    "instance",
    "_Feature"
   ],
   "window_display": false
  }
 },
 "nbformat": 4,
 "nbformat_minor": 4
}
