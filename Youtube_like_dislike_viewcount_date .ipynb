{
 "cells": [
  {
   "cell_type": "code",
   "execution_count": 1,
   "id": "informative-collection",
   "metadata": {},
   "outputs": [],
   "source": [
    "import pandas as pd\n",
    "from selenium import webdriver\n",
    "from selenium.webdriver.common.keys import Keys\n",
    "import time\n",
    "from bs4 import BeautifulSoup\n",
    "import re\n",
    "import pandas as pd\n",
    "\n",
    "from urllib.request import urlopen"
   ]
  },
  {
   "cell_type": "code",
   "execution_count": 16,
   "id": "antique-retrieval",
   "metadata": {},
   "outputs": [
    {
     "data": {
      "text/html": [
       "<div>\n",
       "<style scoped>\n",
       "    .dataframe tbody tr th:only-of-type {\n",
       "        vertical-align: middle;\n",
       "    }\n",
       "\n",
       "    .dataframe tbody tr th {\n",
       "        vertical-align: top;\n",
       "    }\n",
       "\n",
       "    .dataframe thead th {\n",
       "        text-align: right;\n",
       "    }\n",
       "</style>\n",
       "<table border=\"1\" class=\"dataframe\">\n",
       "  <thead>\n",
       "    <tr style=\"text-align: right;\">\n",
       "      <th></th>\n",
       "      <th>number</th>\n",
       "      <th>title</th>\n",
       "      <th>link</th>\n",
       "      <th>working_list</th>\n",
       "      <th>조회수</th>\n",
       "      <th>좋아요</th>\n",
       "      <th>싫어요</th>\n",
       "    </tr>\n",
       "  </thead>\n",
       "  <tbody>\n",
       "    <tr>\n",
       "      <th>0</th>\n",
       "      <td>1</td>\n",
       "      <td>먼저 했는데 접종 '7분의 1'…\";가격 바가지 썼다\"...</td>\n",
       "      <td>http://www.youtube.com//watch?v=s8iSI4jQgfo</td>\n",
       "      <td>좋아요 10,971개 싫어요:, 738 조회수 1,227,103회</td>\n",
       "      <td>NaN</td>\n",
       "      <td>NaN</td>\n",
       "      <td>NaN</td>\n",
       "    </tr>\n",
       "    <tr>\n",
       "      <th>1</th>\n",
       "      <td>2</td>\n",
       "      <td>\";내 아내 먼저\";…'백신 새치기' 알고 보니‥ (2...</td>\n",
       "      <td>http://www.youtube.com//watch?v=WGqC5DthBVQ</td>\n",
       "      <td>좋아요 2,619개 싫어요:, 111 조회수 607,218회</td>\n",
       "      <td>NaN</td>\n",
       "      <td>NaN</td>\n",
       "      <td>NaN</td>\n",
       "    </tr>\n",
       "    <tr>\n",
       "      <th>2</th>\n",
       "      <td>3</td>\n",
       "      <td>[현장영상] 문재인 대통령 부부, 코로나19 백신 접종 / YTN</td>\n",
       "      <td>http://www.youtube.com//watch?v=xNwq7Amzatg</td>\n",
       "      <td>좋아요 2,579개 싫어요:, 1.9천 조회수 428,164회</td>\n",
       "      <td>NaN</td>\n",
       "      <td>NaN</td>\n",
       "      <td>NaN</td>\n",
       "    </tr>\n",
       "    <tr>\n",
       "      <th>3</th>\n",
       "      <td>4</td>\n",
       "      <td>[ET] “일본 접종, 이 속도면 126년”…도쿄 올림픽 영향은? / KBS 202...</td>\n",
       "      <td>http://www.youtube.com//watch?v=hIbtCUqQSwQ</td>\n",
       "      <td>좋아요 3,143개 싫어요:, 197 조회수 385,407회</td>\n",
       "      <td>NaN</td>\n",
       "      <td>NaN</td>\n",
       "      <td>NaN</td>\n",
       "    </tr>\n",
       "    <tr>\n",
       "      <th>4</th>\n",
       "      <td>5</td>\n",
       "      <td>백신 이상반응 5백여 건...오늘 사망 3명, 아나필락시스쇼크 1명 / YTN</td>\n",
       "      <td>http://www.youtube.com//watch?v=yGZJpVmuM1I</td>\n",
       "      <td>좋아요 1,717개 싫어요:, 124 조회수 341,022회</td>\n",
       "      <td>NaN</td>\n",
       "      <td>NaN</td>\n",
       "      <td>NaN</td>\n",
       "    </tr>\n",
       "  </tbody>\n",
       "</table>\n",
       "</div>"
      ],
      "text/plain": [
       "   number                                              title  \\\n",
       "0       1                  먼저 했는데 접종 '7분의 1'…\";가격 바가지 썼다\"...   \n",
       "1       2                  \";내 아내 먼저\";…'백신 새치기' 알고 보니‥ (2...   \n",
       "2       3               [현장영상] 문재인 대통령 부부, 코로나19 백신 접종 / YTN   \n",
       "3       4  [ET] “일본 접종, 이 속도면 126년”…도쿄 올림픽 영향은? / KBS 202...   \n",
       "4       5        백신 이상반응 5백여 건...오늘 사망 3명, 아나필락시스쇼크 1명 / YTN   \n",
       "\n",
       "                                          link  \\\n",
       "0  http://www.youtube.com//watch?v=s8iSI4jQgfo   \n",
       "1  http://www.youtube.com//watch?v=WGqC5DthBVQ   \n",
       "2  http://www.youtube.com//watch?v=xNwq7Amzatg   \n",
       "3  http://www.youtube.com//watch?v=hIbtCUqQSwQ   \n",
       "4  http://www.youtube.com//watch?v=yGZJpVmuM1I   \n",
       "\n",
       "                           working_list 조회수   좋아요  싫어요  \n",
       "0  좋아요 10,971개 싫어요:, 738 조회수 1,227,103회  NaN  NaN  NaN  \n",
       "1     좋아요 2,619개 싫어요:, 111 조회수 607,218회  NaN  NaN  NaN  \n",
       "2    좋아요 2,579개 싫어요:, 1.9천 조회수 428,164회  NaN  NaN  NaN  \n",
       "3     좋아요 3,143개 싫어요:, 197 조회수 385,407회  NaN  NaN  NaN  \n",
       "4     좋아요 1,717개 싫어요:, 124 조회수 341,022회  NaN  NaN  NaN  "
      ]
     },
     "execution_count": 16,
     "metadata": {},
     "output_type": "execute_result"
    }
   ],
   "source": [
    "data = pd.read_excel('/Users/monica/Documents/크롤링/(0331)210226_0331 유튜브 코로나백신.xlsx')\n",
    "data\n",
    "# data = data.reset_index()\n",
    "# data = data[:205]\n",
    "# data = data.drop('index', axis = 1)\n",
    "data.head()"
   ]
  },
  {
   "cell_type": "code",
   "execution_count": 4,
   "id": "induced-trustee",
   "metadata": {},
   "outputs": [
    {
     "data": {
      "text/plain": [
       "150"
      ]
     },
     "execution_count": 4,
     "metadata": {},
     "output_type": "execute_result"
    }
   ],
   "source": [
    "working_list = data.link\n",
    "len(working_list)"
   ]
  },
  {
   "cell_type": "markdown",
   "id": "addressed-treatment",
   "metadata": {
    "heading_collapsed": true
   },
   "source": [
    "#### thx"
   ]
  },
  {
   "cell_type": "code",
   "execution_count": 5,
   "id": "amended-ticket",
   "metadata": {
    "hidden": true
   },
   "outputs": [],
   "source": [
    "from bs4 import BeautifulSoup\n",
    "import requests\n",
    "import json\n",
    "\n",
    "date_text = []\n",
    "i='http://www.youtube.com//watch?v=BxmVnD2GBl8'\n",
    "res = requests.get(i)\n",
    "text = res.text.split('var ytInitialData =')[1].split(';</script>')[0]\n",
    "jd = json.loads(text)\n"
   ]
  },
  {
   "cell_type": "code",
   "execution_count": 111,
   "id": "virtual-actor",
   "metadata": {
    "hidden": true
   },
   "outputs": [
    {
     "data": {
      "text/plain": [
       "'조회수 1,211,302회'"
      ]
     },
     "execution_count": 111,
     "metadata": {},
     "output_type": "execute_result"
    }
   ],
   "source": [
    "view_count = jd['contents']['twoColumnWatchNextResults']['results']['results']['contents'][1]\\\n",
    "['videoPrimaryInfoRenderer']['viewCount']['videoViewCountRenderer']['viewCount']['simpleText']\n",
    "view_count"
   ]
  },
  {
   "cell_type": "code",
   "execution_count": 12,
   "id": "adult-classic",
   "metadata": {
    "hidden": true
   },
   "outputs": [],
   "source": [
    "def get_info(url):\n",
    "    import time\n",
    "    time.sleep(3)\n",
    "    res = requests.get(url) \n",
    "    text = res.text.split('var ytInitialData =')[1].split(';</script>')[0]\n",
    "    jd = json.loads(text)\n",
    "\n",
    "#     like = jd['contents']['twoColumnWatchNextResults']['results']['results']['contents'][1]\\\n",
    "#               ['videoPrimaryInfoRenderer']['videoActions']['menuRenderer']['topLevelButtons'][0]\\\n",
    "#               ['toggleButtonRenderer']['defaultText']['simpleText']\n",
    "\n",
    "    like2 = jd['contents']['twoColumnWatchNextResults']['results']['results']['contents'][1]\\\n",
    "              ['videoPrimaryInfoRenderer']['videoActions']['menuRenderer']['topLevelButtons'][0]\\\n",
    "              ['toggleButtonRenderer']['defaultText']['accessibility']['accessibilityData']['label']\n",
    "\n",
    "    dislike = jd['contents']['twoColumnWatchNextResults']['results']['results']['contents'][1]\\\n",
    "              ['videoPrimaryInfoRenderer']['videoActions']['menuRenderer']['topLevelButtons'][1]\\\n",
    "             ['toggleButtonRenderer']['defaultText']['simpleText']\n",
    "\n",
    "#     dislike2 = jd['contents']['twoColumnWatchNextResults']['results']['results']['contents'][1]\\\n",
    "#               ['videoPrimaryInfoRenderer']['videoActions']['menuRenderer']['topLevelButtons'][1]\\\n",
    "#               ['toggleButtonRenderer']['defaultText']['accessibility']['accessibilityData']['label']\n",
    "\n",
    "    date_text = jd['contents']['twoColumnWatchNextResults']['results']['results']['contents'][1]\\\n",
    "    ['videoPrimaryInfoRenderer']['dateText']['simpleText']\n",
    "\n",
    "    view_count = jd['contents']['twoColumnWatchNextResults']['results']['results']['contents'][1]\\\n",
    "    ['videoPrimaryInfoRenderer']['viewCount']['videoViewCountRenderer']['viewCount']['simpleText']\n",
    "    \n",
    "    print(like2, '싫어요:,', dislike, view_count)"
   ]
  },
  {
   "cell_type": "code",
   "execution_count": 18,
   "id": "minimal-brighton",
   "metadata": {
    "hidden": true
   },
   "outputs": [
    {
     "data": {
      "text/plain": [
       "551"
      ]
     },
     "execution_count": 18,
     "metadata": {},
     "output_type": "execute_result"
    }
   ],
   "source": [
    "url_list = data.youtube.tolist()\n",
    "working_list = data.y"
   ]
  },
  {
   "cell_type": "code",
   "execution_count": 17,
   "id": "infectious-mayor",
   "metadata": {
    "hidden": true
   },
   "outputs": [
    {
     "data": {
      "text/plain": [
       "0      에러다 http://www.youtube.com/watch?v=60cK9aYDBj8\n",
       "1                                좋아요 17,779개 싫어요 532개\n",
       "2                                 좋아요 2,781개 싫어요 543개\n",
       "3                                 좋아요 6,271개 싫어요 336개\n",
       "4                                 좋아요 9,829개 싫어요 359개\n",
       "                            ...                      \n",
       "545                                    좋아요 60개 싫어요 8개\n",
       "546                                     좋아요 9개 싫어요 없음\n",
       "547                                     좋아요 7개 싫어요 없음\n",
       "548                                     좋아요 6개 싫어요 없음\n",
       "549                                     좋아요 4개 싫어요 없음\n",
       "Name: working, Length: 550, dtype: object"
      ]
     },
     "execution_count": 17,
     "metadata": {},
     "output_type": "execute_result"
    }
   ],
   "source": [
    "working_list"
   ]
  },
  {
   "cell_type": "code",
   "execution_count": 74,
   "id": "formed-board",
   "metadata": {
    "hidden": true
   },
   "outputs": [
    {
     "name": "stdout",
     "output_type": "stream",
     "text": [
      "좋아요:  좋아요 17,775개  싫어요:  싫어요 532개\n"
     ]
    }
   ],
   "source": [
    "get_info('http://www.youtube.com//watch?v=Z4K5yWm7kRg')"
   ]
  },
  {
   "cell_type": "code",
   "execution_count": null,
   "id": "clean-wealth",
   "metadata": {
    "hidden": true
   },
   "outputs": [],
   "source": [
    "date_text = jd['contents']['twoColumnWatchNextResults']['results']['results']['contents'][1]\\\n",
    "['videoPrimaryInfoRenderer']['dateText']['simpleText']"
   ]
  },
  {
   "cell_type": "code",
   "execution_count": null,
   "id": "toxic-enforcement",
   "metadata": {
    "hidden": true
   },
   "outputs": [],
   "source": [
    "like = jd['contents']['twoColumnWatchNextResults']['results']['results']['contents'][1]\\\n",
    "              ['videoPrimaryInfoRenderer']['videoActions']['menuRenderer']['topLevelButtons'][0]\\\n",
    "              ['toggleButtonRenderer']['defaultText']['simpleText']"
   ]
  },
  {
   "cell_type": "code",
   "execution_count": null,
   "id": "religious-panama",
   "metadata": {
    "hidden": true
   },
   "outputs": [],
   "source": [
    "'lengthText': {'accessibility': {'accessibilityData': {'label': '1시간 2분 7초'}},\n",
    "         'simpleText': '1:02:07'},"
   ]
  },
  {
   "cell_type": "code",
   "execution_count": 27,
   "id": "several-philadelphia",
   "metadata": {
    "hidden": true
   },
   "outputs": [
    {
     "name": "stdout",
     "output_type": "stream",
     "text": [
      "7\n"
     ]
    }
   ],
   "source": [
    "get_info('http://www.youtube.com/watch?v=F7668AfHOTA')"
   ]
  },
  {
   "cell_type": "code",
   "execution_count": 18,
   "id": "reliable-sympathy",
   "metadata": {
    "hidden": true
   },
   "outputs": [
    {
     "data": {
      "text/plain": [
       "0      http://www.youtube.com/watch?v=60cK9aYDBj8\n",
       "1      http://www.youtube.com/watch?v=Z4K5yWm7kRg\n",
       "2      http://www.youtube.com/watch?v=0fiUZfzNVfc\n",
       "3      http://www.youtube.com/watch?v=BxmVnD2GBl8\n",
       "4      http://www.youtube.com/watch?v=XZlB08NS57E\n",
       "                          ...                    \n",
       "547    http://www.youtube.com/watch?v=hmtdyMzC5NQ\n",
       "548    http://www.youtube.com/watch?v=F7668AfHOTA\n",
       "549    http://www.youtube.com/watch?v=jiQhSaVuZbE\n",
       "550    http://www.youtube.com/watch?v=QKRHr4Nwhnc\n",
       "551    http://www.youtube.com/watch?v=yNwCka7VCDw\n",
       "Name: youtube, Length: 552, dtype: object"
      ]
     },
     "execution_count": 18,
     "metadata": {},
     "output_type": "execute_result"
    }
   ],
   "source": [
    "url_list"
   ]
  },
  {
   "cell_type": "code",
   "execution_count": 51,
   "id": "dress-sherman",
   "metadata": {
    "hidden": true
   },
   "outputs": [
    {
     "name": "stdout",
     "output_type": "stream",
     "text": [
      "에러다 http://www.youtube.com//watch?v=60cK9aYDBj8\n",
      "1.7만\n",
      "6.2천\n",
      "5.8천\n"
     ]
    }
   ],
   "source": [
    "for i in test_url:\n",
    "    try:\n",
    "#         url_check.append(i)\n",
    "        get_info(i)\n",
    "    except KeyError as e:\n",
    "        print('에러다', i)"
   ]
  },
  {
   "cell_type": "code",
   "execution_count": 48,
   "id": "collective-blade",
   "metadata": {
    "hidden": true
   },
   "outputs": [
    {
     "data": {
      "text/plain": [
       "['에러다http://www.youtube.com//watch?v=60cK9aYDBj8', None, None, None]"
      ]
     },
     "execution_count": 48,
     "metadata": {},
     "output_type": "execute_result"
    }
   ],
   "source": [
    "like_count"
   ]
  },
  {
   "cell_type": "code",
   "execution_count": 37,
   "id": "saving-particular",
   "metadata": {
    "hidden": true
   },
   "outputs": [
    {
     "name": "stdout",
     "output_type": "stream",
     "text": [
      "1.7만\n",
      "6.2천\n",
      "5.8천\n"
     ]
    }
   ],
   "source": [
    "like_counts =[]\n",
    "like_counts2 = []\n",
    "for i in test_url:\n",
    "    try:\n",
    "        get_info(i)\n",
    "        like_counts.append(i)\n",
    "    except KeyError as e:\n",
    "        like_counts2.append('에러다'+ i)ii\n",
    "        "
   ]
  },
  {
   "cell_type": "code",
   "execution_count": 39,
   "id": "excessive-great",
   "metadata": {
    "hidden": true
   },
   "outputs": [
    {
     "data": {
      "text/plain": [
       "['에러다http://www.youtube.com//watch?v=60cK9aYDBj8']"
      ]
     },
     "execution_count": 39,
     "metadata": {},
     "output_type": "execute_result"
    }
   ],
   "source": [
    "like_counts2"
   ]
  },
  {
   "cell_type": "code",
   "execution_count": 78,
   "id": "authentic-british",
   "metadata": {
    "hidden": true
   },
   "outputs": [
    {
     "data": {
      "text/plain": [
       "552"
      ]
     },
     "execution_count": 78,
     "metadata": {},
     "output_type": "execute_result"
    }
   ],
   "source": [
    "len(url_list)"
   ]
  },
  {
   "cell_type": "markdown",
   "id": "loved-furniture",
   "metadata": {
    "heading_collapsed": true
   },
   "source": [
    "#### past work"
   ]
  },
  {
   "cell_type": "code",
   "execution_count": 86,
   "id": "filled-signature",
   "metadata": {
    "hidden": true
   },
   "outputs": [],
   "source": [
    "url_1 = url_list[0:100]\n",
    "url_2 = url_list[100:201]\n",
    "url_3 = url_list[201:301]\n",
    "url_4 = url_list[301:401]\n",
    "url_5 = url_list[401:501]\n",
    "url_6 = url_list[501:]"
   ]
  },
  {
   "cell_type": "code",
   "execution_count": null,
   "id": "noble-persian",
   "metadata": {
    "hidden": true
   },
   "outputs": [],
   "source": [
    "#url_1\n",
    "\n",
    "for i in url_1:\n",
    "    try:\n",
    "#         url_check.append(i)\n",
    "        get_info(i)₩\n",
    "    except KeyError as e:\n",
    "        print('에러다', i)"
   ]
  },
  {
   "cell_type": "code",
   "execution_count": null,
   "id": "sophisticated-flush",
   "metadata": {
    "hidden": true
   },
   "outputs": [],
   "source": [
    "#url_2\n",
    "\n",
    "for i in url_2:\n",
    "    try:\n",
    "#         url_check.append(i)\n",
    "        get_info(i)\n",
    "    except KeyError as e:\n",
    "        print('에러다', i)\n",
    "#     except MissingSchema as m:\n",
    "#         print('에러다', i)"
   ]
  },
  {
   "cell_type": "code",
   "execution_count": null,
   "id": "approved-retro",
   "metadata": {
    "hidden": true
   },
   "outputs": [],
   "source": [
    "#url_3\n",
    "\n",
    "for i in url_3:\n",
    "    try:\n",
    "#         url_check.append(i)\n",
    "        get_info(i)\n",
    "    except KeyError as e:\n",
    "        print('에러다', i)"
   ]
  },
  {
   "cell_type": "code",
   "execution_count": null,
   "id": "light-norwegian",
   "metadata": {
    "hidden": true
   },
   "outputs": [],
   "source": [
    "#url_4\n",
    "\n",
    "for i in url_4:\n",
    "    try:\n",
    "#         url_check.append(i)\n",
    "        get_info(i)\n",
    "    except KeyError as e:\n",
    "        print('에러다', i)"
   ]
  },
  {
   "cell_type": "code",
   "execution_count": 90,
   "id": "increased-humor",
   "metadata": {
    "hidden": true,
    "scrolled": true
   },
   "outputs": [
    {
     "name": "stdout",
     "output_type": "stream",
     "text": [
      "좋아요 25개 싫어요 1개\n",
      "좋아요 16개 싫어요 1개\n",
      "좋아요 23개 싫어요 1개\n",
      "좋아요 73개 싫어요 3개\n",
      "좋아요 23개 싫어요 없음\n",
      "좋아요 34개 싫어요 5개\n",
      "좋아요 21개 싫어요 5개\n",
      "좋아요 653개 싫어요 5개\n",
      "좋아요 195개 싫어요 7개\n",
      "좋아요 27개 싫어요 8개\n",
      "좋아요 17개 싫어요 1개\n",
      "좋아요 271개 싫어요 없음\n",
      "좋아요 14개 싫어요 2개\n",
      "좋아요 106개 싫어요 12개\n",
      "좋아요 137개 싫어요 3개\n",
      "좋아요 194개 싫어요 7개\n",
      "좋아요 125개 싫어요 10개\n",
      "좋아요 257개 싫어요 4개\n",
      "좋아요 12개 싫어요 6개\n",
      "좋아요 46개 싫어요 1개\n",
      "좋아요 16개 싫어요 3개\n",
      "좋아요 23개 싫어요 2개\n",
      "좋아요 21개 싫어요 없음\n",
      "좋아요 12개 싫어요 1개\n",
      "좋아요 129개 싫어요 1개\n",
      "좋아요 139개 싫어요 8개\n",
      "좋아요 35개 싫어요 7개\n",
      "좋아요 84개 싫어요 2개\n",
      "좋아요 141개 싫어요 1개\n",
      "좋아요 10개 싫어요 8개\n",
      "좋아요 84개 싫어요 2개\n",
      "좋아요 226개 싫어요 3개\n",
      "좋아요 7개 싫어요 없음\n",
      "좋아요 204개 싫어요 1개\n",
      "좋아요 4개 싫어요 1개\n",
      "좋아요 52개 싫어요 1개\n",
      "좋아요 12개 싫어요 1개\n",
      "좋아요 284개 싫어요 없음\n",
      "좋아요 58개 싫어요 없음\n",
      "좋아요 11개 싫어요 2개\n",
      "좋아요 87개 싫어요 2개\n",
      "좋아요 238개 싫어요 1개\n",
      "좋아요 26개 싫어요 8개\n",
      "좋아요 21개 싫어요 3개\n",
      "좋아요 33개 싫어요 2개\n",
      "좋아요 23개 싫어요 3개\n",
      "좋아요 178개 싫어요 3개\n",
      "좋아요 20개 싫어요 2개\n",
      "좋아요 95개 싫어요 2개\n",
      "좋아요 50개 싫어요 2개\n",
      "좋아요 56개 싫어요 없음\n",
      "좋아요 7개 싫어요 3개\n",
      "좋아요 87개 싫어요 5개\n",
      "좋아요 45개 싫어요 없음\n",
      "좋아요 37개 싫어요 1개\n",
      "좋아요 45개 싫어요 없음\n",
      "좋아요 42개 싫어요 6개\n",
      "좋아요 49개 싫어요 없음\n",
      "좋아요 78개 싫어요 없음\n",
      "좋아요 34개 싫어요 2개\n",
      "좋아요 36개 싫어요 5개\n",
      "좋아요 29개 싫어요 1개\n",
      "좋아요 37개 싫어요 없음\n",
      "좋아요 14개 싫어요 2개\n",
      "좋아요 66개 싫어요 3개\n",
      "좋아요 9개 싫어요 3개\n",
      "좋아요 132개 싫어요 17개\n",
      "좋아요 27개 싫어요 없음\n",
      "좋아요 60개 싫어요 6개\n",
      "좋아요 10개 싫어요 1개\n",
      "좋아요 12개 싫어요 없음\n",
      "좋아요 42개 싫어요 3개\n",
      "좋아요 8개 싫어요 3개\n",
      "좋아요 238개 싫어요 4개\n",
      "좋아요 9개 싫어요 없음\n",
      "좋아요 50개 싫어요 1개\n",
      "좋아요 6개 싫어요 2개\n",
      "좋아요 67개 싫어요 13개\n",
      "좋아요 34개 싫어요 1개\n",
      "좋아요 35개 싫어요 없음\n",
      "좋아요 51개 싫어요 없음\n",
      "좋아요 13개 싫어요 없음\n",
      "좋아요 11개 싫어요 2개\n",
      "좋아요 14개 싫어요 1개\n",
      "좋아요 86개 싫어요 2개\n",
      "에러다 http://www.youtube.com/watch?v=PrhLFrEsN_s\n",
      "좋아요 30개 싫어요 3개\n",
      "좋아요 379개 싫어요 16개\n",
      "좋아요 17개 싫어요 4개\n",
      "좋아요 19개 싫어요 없음\n",
      "좋아요 24개 싫어요 6개\n",
      "좋아요 2개 싫어요 없음\n",
      "좋아요 8개 싫어요 5개\n",
      "좋아요 14개 싫어요 2개\n",
      "좋아요 5개 싫어요 없음\n",
      "좋아요 27개 싫어요 5개\n",
      "좋아요 33개 싫어요 1개\n",
      "좋아요 55개 싫어요 없음\n",
      "좋아요 146개 싫어요 5개\n",
      "좋아요 5개 싫어요 없음\n"
     ]
    }
   ],
   "source": [
    "#url_5\n",
    "\n",
    "for i in url_5:\n",
    "    try:\n",
    "#         url_check.append(i)\n",
    "        get_info(i)\n",
    "    except KeyError as e:\n",
    "        print('에러다', i)"
   ]
  },
  {
   "cell_type": "code",
   "execution_count": null,
   "id": "reserved-catholic",
   "metadata": {
    "hidden": true
   },
   "outputs": [],
   "source": [
    "#url_6\n",
    "\n",
    "for i in url_6:\n",
    "    try:\n",
    "#         url_check.append(i)\n",
    "        get_info(i)\n",
    "    except KeyError as e:\n",
    "        print('에러다', i)"
   ]
  },
  {
   "cell_type": "markdown",
   "id": "equivalent-puppy",
   "metadata": {},
   "source": [
    "#### 조회수"
   ]
  },
  {
   "cell_type": "code",
   "execution_count": 13,
   "id": "orange-scheme",
   "metadata": {},
   "outputs": [
    {
     "data": {
      "text/plain": [
       "0      http://www.youtube.com//watch?v=s8iSI4jQgfo\n",
       "1      http://www.youtube.com//watch?v=WGqC5DthBVQ\n",
       "2      http://www.youtube.com//watch?v=xNwq7Amzatg\n",
       "3      http://www.youtube.com//watch?v=hIbtCUqQSwQ\n",
       "4      http://www.youtube.com//watch?v=yGZJpVmuM1I\n",
       "                          ...                     \n",
       "145    http://www.youtube.com//watch?v=ya0DA1SD55Q\n",
       "146    http://www.youtube.com//watch?v=Ct-a7vfLXsM\n",
       "147    http://www.youtube.com//watch?v=gvLkTKT87No\n",
       "148    http://www.youtube.com//watch?v=0Tcfx-IUmA0\n",
       "149    http://www.youtube.com//watch?v=S81sFqsrDLI\n",
       "Name: link, Length: 150, dtype: object"
      ]
     },
     "execution_count": 13,
     "metadata": {},
     "output_type": "execute_result"
    }
   ],
   "source": [
    "working_list"
   ]
  },
  {
   "cell_type": "code",
   "execution_count": 14,
   "id": "wooden-comparative",
   "metadata": {},
   "outputs": [
    {
     "name": "stdout",
     "output_type": "stream",
     "text": [
      "좋아요 10,971개 싫어요:, 738 조회수 1,227,103회\n",
      "좋아요 2,619개 싫어요:, 111 조회수 607,218회\n",
      "좋아요 2,579개 싫어요:, 1.9천 조회수 428,164회\n",
      "좋아요 3,143개 싫어요:, 197 조회수 385,407회\n",
      "좋아요 1,717개 싫어요:, 124 조회수 341,022회\n",
      "좋아요 4,434개 싫어요:, 265 조회수 293,420회\n",
      "에러다 http://www.youtube.com//watch?v=mLJlQmy1XGo\n",
      "에러다 http://www.youtube.com//watch?v=XP4IGw5Y6Z4\n",
      "좋아요 1,904개 싫어요:, 565 조회수 248,656회\n",
      "좋아요 1,661개 싫어요:, 95 조회수 234,140회\n",
      "좋아요 4,938개 싫어요:, 117 조회수 219,879회\n",
      "좋아요 1,357개 싫어요:, 78 조회수 147,122회\n",
      "좋아요 883개 싫어요:, 53 조회수 143,737회\n",
      "좋아요 3,309개 싫어요:, 189 조회수 142,393회\n",
      "좋아요 6,621개 싫어요:, 499 조회수 122,960회\n",
      "좋아요 469개 싫어요:, 62 조회수 89,802회\n",
      "좋아요 5,821개 싫어요:, 102 조회수 82,582회\n",
      "좋아요 433개 싫어요:, 43 조회수 80,669회\n",
      "좋아요 2,283개 싫어요:, 107 조회수 88,325회\n",
      "에러다 http://www.youtube.com//watch?v=k20hZ_XqkE4\n",
      "좋아요 3,551개 싫어요:, 63 조회수 73,664회\n",
      "좋아요 219개 싫어요:, 329 조회수 71,273회\n",
      "에러다 http://www.youtube.com//watch?v=GWURLVfgjKM\n",
      "좋아요 179개 싫어요:, 367 조회수 67,114회\n",
      "좋아요 321개 싫어요:, 59 조회수 61,177회\n",
      "좋아요 4,973개 싫어요:, 78 조회수 61,046회\n",
      "좋아요 2,614개 싫어요:, 60 조회수 60,285회\n",
      "좋아요 787개 싫어요:, 189 조회수 56,852회\n",
      "좋아요 287개 싫어요:, 39 조회수 51,756회\n",
      "좋아요 252개 싫어요:, 12 조회수 51,073회\n",
      "좋아요 305개 싫어요:, 39 조회수 49,204회\n",
      "좋아요 1,613개 싫어요:, 24 조회수 46,469회\n",
      "에러다 http://www.youtube.com//watch?v=BoOwTorek08\n",
      "좋아요 420개 싫어요:, 28 조회수 42,870회\n",
      "좋아요 400개 싫어요:, 54 조회수 41,219회\n",
      "좋아요 29개 싫어요:, 6 조회수 2,639회\n",
      "에러다 http://www.youtube.com//watch?v=_Mmv9Jkn7x4\n",
      "좋아요 452개 싫어요:, 13 조회수 34,896회\n",
      "좋아요 159개 싫어요:, 29 조회수 34,020회\n",
      "좋아요 1,072개 싫어요:, 49 조회수 31,723회\n",
      "좋아요 225개 싫어요:, 7 조회수 31,563회\n",
      "좋아요 1,291개 싫어요:, 65 조회수 31,523회\n",
      "좋아요 200개 싫어요:, 9 조회수 29,977회\n",
      "에러다 http://www.youtube.com//watch?v=BLX0IaAWneM\n",
      "에러다 http://www.youtube.com//watch?v=e1DeQ-3eo8U\n",
      "좋아요 124개 싫어요:, 10 조회수 8,385회\n",
      "좋아요 417개 싫어요:, 16 조회수 26,274회\n",
      "좋아요 665개 싫어요:, 32 조회수 25,034회\n",
      "좋아요 36개 싫어요:, 8 조회수 1,836회\n",
      "좋아요 309개 싫어요:, 42 조회수 22,713회\n",
      "좋아요 358개 싫어요:, 10 조회수 21,194회\n",
      "좋아요 118개 싫어요:, 38 조회수 20,897회\n",
      "에러다 http://www.youtube.com//watch?v=JZvNI3khN7M\n",
      "좋아요 120개 싫어요:, 15 조회수 18,520회\n",
      "좋아요 313개 싫어요:, 8 조회수 17,478회\n",
      "좋아요 486개 싫어요:, 19 조회수 71,994회\n",
      "좋아요 776개 싫어요:, 28 조회수 17,118회\n",
      "좋아요 29개 싫어요:, 39 조회수 16,833회\n",
      "좋아요 499개 싫어요:, 74 조회수 16,739회\n",
      "좋아요 357개 싫어요:, 13 조회수 16,903회\n",
      "좋아요 878개 싫어요:, 42 조회수 16,615회\n",
      "좋아요 1,253개 싫어요:, 24 조회수 16,467회\n",
      "좋아요 605개 싫어요:, 25 조회수 15,512회\n",
      "좋아요 1,483개 싫어요:, 7 조회수 14,671회\n",
      "좋아요 116개 싫어요:, 2 조회수 14,607회\n",
      "좋아요 677개 싫어요:, 53 조회수 14,795회\n",
      "좋아요 86개 싫어요:, 8 조회수 8,178회\n",
      "좋아요 78개 싫어요:, 6 조회수 13,382회\n",
      "좋아요 527개 싫어요:, 13 조회수 13,370회\n",
      "좋아요 62개 싫어요:, 492 조회수 12,960회\n",
      "좋아요 16개 싫어요:, 0 조회수 12,585회\n",
      "좋아요 330개 싫어요:, 34 조회수 13,453회\n",
      "좋아요 217개 싫어요:, 15 조회수 12,273회\n",
      "좋아요 73개 싫어요:, 5 조회수 11,977회\n",
      "좋아요 66개 싫어요:, 15 조회수 9,471회\n",
      "좋아요 215개 싫어요:, 10 조회수 12,213회\n",
      "좋아요 160개 싫어요:, 5 조회수 11,199회\n",
      "좋아요 3개 싫어요:, 0 조회수 940회\n",
      "좋아요 34개 싫어요:, 3 조회수 6,019회\n",
      "좋아요 1,395개 싫어요:, 17 조회수 10,645회\n",
      "좋아요 209개 싫어요:, 13 조회수 10,419회\n",
      "좋아요 200개 싫어요:, 40 조회수 10,818회\n",
      "좋아요 120개 싫어요:, 15 조회수 18,520회\n",
      "좋아요 688개 싫어요:, 22 조회수 9,869회\n",
      "좋아요 59개 싫어요:, 8 조회수 8,164회\n",
      "좋아요 116개 싫어요:, 11 조회수 8,460회\n",
      "좋아요 2,283개 싫어요:, 107 조회수 88,368회\n",
      "좋아요 328개 싫어요:, 19 조회수 7,735회\n",
      "좋아요 52개 싫어요:, 8 조회수 7,816회\n",
      "좋아요 856개 싫어요:, 3 조회수 7,431회\n",
      "좋아요 20개 싫어요:, 17 조회수 7,368회\n",
      "좋아요 211개 싫어요:, 12 조회수 7,590회\n",
      "좋아요 102개 싫어요:, 2 조회수 7,354회\n",
      "좋아요 502개 싫어요:, 7 조회수 7,361회\n",
      "좋아요 37개 싫어요:, 5 조회수 7,346회\n",
      "좋아요 3개 싫어요:, 0 조회수 940회\n",
      "좋아요 88개 싫어요:, 6 조회수 7,185회\n",
      "좋아요 65개 싫어요:, 1 조회수 6,944회\n",
      "좋아요 102개 싫어요:, 13 조회수 6,822회\n",
      "좋아요 92개 싫어요:, 10 조회수 7,025회\n",
      "좋아요 102개 싫어요:, 13 조회수 6,822회\n",
      "좋아요 92개 싫어요:, 10 조회수 7,025회\n",
      "좋아요 263개 싫어요:, 4 조회수 7,351회\n",
      "좋아요 482개 싫어요:, 72 조회수 6,656회\n",
      "좋아요 179개 싫어요:, 8 조회수 6,745회\n",
      "에러다 http://www.youtube.com//watch?v=6s2NoKQdFh0\n",
      "좋아요 237개 싫어요:, 5 조회수 6,445회\n",
      "좋아요 37개 싫어요:, 0 조회수 6,392회\n",
      "좋아요 278개 싫어요:, 14 조회수 6,568회\n",
      "에러다 http://www.youtube.com//watch?v=BoOwTorek08\n",
      "좋아요 765개 싫어요:, 59 조회수 7,104회\n",
      "좋아요 180개 싫어요:, 11 조회수 6,163회\n",
      "좋아요 553개 싫어요:, 12 조회수 6,035회\n",
      "좋아요 59개 싫어요:, 6 조회수 6,135회\n",
      "좋아요 2,283개 싫어요:, 107 조회수 88,368회\n",
      "좋아요 381개 싫어요:, 8 조회수 5,773회\n",
      "좋아요 31개 싫어요:, 21 조회수 5,651회\n",
      "좋아요 73개 싫어요:, 1 조회수 5,649회\n",
      "좋아요 179개 싫어요:, 5 조회수 5,423회\n",
      "에러다 http://www.youtube.com//watch?v=qZRcQAZYQxI\n",
      "좋아요 351개 싫어요:, 5 조회수 5,378회\n",
      "좋아요 65개 싫어요:, 2 조회수 5,529회\n",
      "좋아요 38개 싫어요:, 7 조회수 4,548회\n",
      "좋아요 43개 싫어요:, 2 조회수 5,026회\n",
      "좋아요 1,922개 싫어요:, 37 조회수 26,643회\n",
      "좋아요 893개 싫어요:, 10 조회수 4,544회\n",
      "좋아요 29개 싫어요:, 1 조회수 4,538회\n",
      "좋아요 197개 싫어요:, 0 조회수 4,450회\n",
      "좋아요 424개 싫어요:, 4 조회수 4,410회\n",
      "좋아요 244개 싫어요:, 6 조회수 4,558회\n",
      "좋아요 669개 싫어요:, 68 조회수 69,314회\n",
      "좋아요 184개 싫어요:, 4 조회수 3,970회\n",
      "좋아요 166개 싫어요:, 6 조회수 5,858회\n",
      "좋아요 239개 싫어요:, 7 조회수 3,911회\n",
      "좋아요 67개 싫어요:, 2 조회수 3,874회\n",
      "좋아요 57개 싫어요:, 3 조회수 3,840회\n",
      "좋아요 224개 싫어요:, 4 조회수 3,836회\n",
      "좋아요 2개 싫어요:, 0 조회수 3,866회\n",
      "좋아요 25개 싫어요:, 15 조회수 1,970회\n",
      "좋아요 35개 싫어요:, 9 조회수 3,909회\n",
      "좋아요 463개 싫어요:, 1 조회수 3,487회\n",
      "좋아요 85개 싫어요:, 5 조회수 3,756회\n",
      "좋아요 24개 싫어요:, 3 조회수 3,367회\n",
      "좋아요 110개 싫어요:, 2 조회수 3,102회\n",
      "좋아요 30개 싫어요:, 1 조회수 3,141회\n",
      "에러다 http://www.youtube.com//watch?v=ya0DA1SD55Q\n",
      "좋아요 87개 싫어요:, 10 조회수 3,036회\n",
      "좋아요 55개 싫어요:, 4 조회수 2,997회\n",
      "좋아요 76개 싫어요:, 1 조회수 3,006회\n",
      "좋아요 38개 싫어요:, 2 조회수 3,055회\n"
     ]
    }
   ],
   "source": [
    "for i in working_list:\n",
    "    try:\n",
    "#         url_check.append(i)\n",
    "        get_info(i)\n",
    "    except KeyError as e:\n",
    "        print('에러다', i)"
   ]
  },
  {
   "cell_type": "code",
   "execution_count": null,
   "id": "numerical-kitchen",
   "metadata": {},
   "outputs": [],
   "source": []
  },
  {
   "cell_type": "code",
   "execution_count": null,
   "id": "structural-symphony",
   "metadata": {},
   "outputs": [],
   "source": []
  },
  {
   "cell_type": "markdown",
   "id": "assumed-closing",
   "metadata": {},
   "source": [
    "#### 좋아요, 싫어요 top 200"
   ]
  },
  {
   "cell_type": "code",
   "execution_count": 69,
   "id": "noble-cuisine",
   "metadata": {},
   "outputs": [
    {
     "data": {
      "text/plain": [
       "0      http://www.youtube.com//watch?v=60cK9aYDBj8\n",
       "1      http://www.youtube.com//watch?v=Z4K5yWm7kRg\n",
       "2      http://www.youtube.com//watch?v=BxmVnD2GBl8\n",
       "3      http://www.youtube.com//watch?v=PRlueK97918\n",
       "4      http://www.youtube.com//watch?v=XZlB08NS57E\n",
       "                          ...                     \n",
       "200    http://www.youtube.com//watch?v=rLPdsrDnNAk\n",
       "201    http://www.youtube.com//watch?v=hl2AbXbTwGE\n",
       "202    http://www.youtube.com//watch?v=QzK3sti9LX8\n",
       "203    http://www.youtube.com//watch?v=omG5pIZGgjM\n",
       "204    https://www.youtube.com/watch?v=gCwpH2YJjN8\n",
       "Name: 링크, Length: 205, dtype: object"
      ]
     },
     "execution_count": 69,
     "metadata": {},
     "output_type": "execute_result"
    }
   ],
   "source": [
    "link_list"
   ]
  },
  {
   "cell_type": "code",
   "execution_count": 77,
   "id": "scenic-knife",
   "metadata": {},
   "outputs": [
    {
     "name": "stdout",
     "output_type": "stream",
     "text": [
      "에러다 http://www.youtube.com//watch?v=60cK9aYDBj8\n",
      "좋아요:  좋아요 17,775개  싫어요:  532\n",
      "좋아요:  좋아요 6,270개  싫어요:  336\n",
      "좋아요:  좋아요 5,808개  싫어요:  319\n",
      "좋아요:  좋아요 9,829개  싫어요:  359\n",
      "좋아요:  좋아요 7,510개  싫어요:  329\n",
      "좋아요:  좋아요 7,597개  싫어요:  281\n",
      "에러다 http://www.youtube.com//watch?v=Qh9-mbju6Gc\n",
      "좋아요:  좋아요 3,139개  싫어요:  288\n",
      "좋아요:  좋아요 23,871개  싫어요:  954\n",
      "에러다 http://www.youtube.com//watch?v=FfseVK3tWXM\n",
      "좋아요:  좋아요 13,483개  싫어요:  373\n",
      "좋아요:  좋아요 3,008개  싫어요:  165\n",
      "좋아요:  좋아요 5,882개  싫어요:  190\n",
      "에러다 http://www.youtube.com//watch?v=0b9WaJjUm_o\n",
      "좋아요:  좋아요 4,136개  싫어요:  381\n",
      "좋아요:  좋아요 2,807개  싫어요:  140\n",
      "좋아요:  좋아요 7,693개  싫어요:  212\n",
      "좋아요:  좋아요 3,585개  싫어요:  148\n",
      "좋아요:  좋아요 8,140개  싫어요:  188\n",
      "좋아요:  좋아요 1,929개  싫어요:  169\n",
      "좋아요:  좋아요 13,466개  싫어요:  398\n",
      "좋아요:  좋아요 6,099개  싫어요:  240\n",
      "좋아요:  좋아요 1,386개  싫어요:  112\n",
      "좋아요:  좋아요 6,187개  싫어요:  143\n",
      "좋아요:  좋아요 16,721개  싫어요:  372\n",
      "좋아요:  좋아요 6,307개  싫어요:  249\n",
      "좋아요:  좋아요 4,519개  싫어요:  714\n",
      "에러다 http://www.youtube.com//watch?v=Zj3HuJ7X-Ns\n",
      "좋아요:  좋아요 6,293개  싫어요:  235\n",
      "좋아요:  좋아요 2,643개  싫어요:  150\n",
      "좋아요:  좋아요 11,294개  싫어요:  505\n",
      "좋아요:  좋아요 4,998개  싫어요:  81\n",
      "좋아요:  좋아요 2,799개  싫어요:  210\n",
      "좋아요:  좋아요 1,612개  싫어요:  503\n",
      "좋아요:  좋아요 3,010개  싫어요:  104\n",
      "좋아요:  좋아요 2,026개  싫어요:  6.3천\n",
      "좋아요:  좋아요 8,366개  싫어요:  74\n",
      "좋아요:  좋아요 5,586개  싫어요:  185\n",
      "좋아요:  좋아요 655개  싫어요:  107\n",
      "좋아요:  좋아요 1,898개  싫어요:  46\n",
      "좋아요:  좋아요 2,044개  싫어요:  171\n",
      "좋아요:  좋아요 10,533개  싫어요:  136\n",
      "좋아요:  좋아요 1,441개  싫어요:  84\n",
      "좋아요:  좋아요 1,936개  싫어요:  35\n",
      "좋아요:  좋아요 886개  싫어요:  53\n",
      "좋아요:  좋아요 1,588개  싫어요:  61\n",
      "좋아요:  좋아요 8,397개  싫어요:  167\n",
      "좋아요:  좋아요 1,452개  싫어요:  142\n",
      "좋아요:  좋아요 2,504개  싫어요:  112\n",
      "에러다 http://www.youtube.com//watch?v=GHNvlPkiJfo\n",
      "좋아요:  좋아요 2,008개  싫어요:  208\n",
      "좋아요:  좋아요 1,094개  싫어요:  70\n",
      "좋아요:  좋아요 2,665개  싫어요:  61\n",
      "에러다 http://www.youtube.com//watch?v=Oxs425-05ro\n",
      "좋아요:  좋아요 647개  싫어요:  68\n",
      "좋아요:  좋아요 2,399개  싫어요:  104\n",
      "좋아요:  좋아요 3,822개  싫어요:  61\n",
      "좋아요:  좋아요 2,017개  싫어요:  63\n",
      "좋아요:  좋아요 58개  싫어요:  13\n",
      "좋아요:  좋아요 2,373개  싫어요:  114\n",
      "좋아요:  좋아요 7,761개  싫어요:  142\n",
      "좋아요:  좋아요 827개  싫어요:  32\n",
      "좋아요:  좋아요 373개  싫어요:  67\n",
      "에러다 http://www.youtube.com//watch?v=LBRYEu5PKoQ\n",
      "좋아요:  좋아요 1,315개  싫어요:  197\n",
      "좋아요:  좋아요 4,023개  싫어요:  172\n",
      "좋아요:  좋아요 565개  싫어요:  83\n",
      "좋아요:  좋아요 869개  싫어요:  67\n",
      "좋아요:  좋아요 5,893개  싫어요:  241\n",
      "좋아요:  좋아요 613개  싫어요:  29\n",
      "좋아요:  좋아요 580개  싫어요:  29\n",
      "좋아요:  좋아요 1,084개  싫어요:  94\n",
      "좋아요:  좋아요 4,894개  싫어요:  58\n",
      "좋아요:  좋아요 782개  싫어요:  63\n",
      "좋아요:  좋아요 5,720개  싫어요:  56\n",
      "좋아요:  좋아요 561개  싫어요:  37\n",
      "좋아요:  좋아요 93개  싫어요:  4\n",
      "좋아요:  좋아요 448개  싫어요:  34\n",
      "좋아요:  좋아요 7,593개  싫어요:  23\n",
      "좋아요:  좋아요 1,716개  싫어요:  59\n",
      "좋아요:  좋아요 1,450개  싫어요:  98\n",
      "좋아요:  좋아요 927개  싫어요:  211\n",
      "좋아요:  좋아요 1,218개  싫어요:  39\n",
      "좋아요:  좋아요 405개  싫어요:  31\n",
      "좋아요:  좋아요 666개  싫어요:  68\n",
      "좋아요:  좋아요 385개  싫어요:  44\n",
      "좋아요:  좋아요 385개  싫어요:  17\n",
      "좋아요:  좋아요 1,317개  싫어요:  22\n",
      "좋아요:  좋아요 3,116개  싫어요:  45\n",
      "좋아요:  좋아요 3,887개  싫어요:  143\n",
      "좋아요:  좋아요 1,266개  싫어요:  55\n",
      "좋아요:  좋아요 1,320개  싫어요:  62\n",
      "에러다 http://www.youtube.com//watch?v=Zj3HuJ7X-Ns\n",
      "좋아요:  좋아요 302개  싫어요:  27\n",
      "좋아요:  좋아요 644개  싫어요:  39\n",
      "좋아요:  좋아요 363개  싫어요:  30\n",
      "좋아요:  좋아요 1,271개  싫어요:  35\n",
      "좋아요:  좋아요 1,892개  싫어요:  111\n",
      "좋아요:  좋아요 2,644개  싫어요:  29\n",
      "좋아요:  좋아요 1,767개  싫어요:  79\n",
      "좋아요:  좋아요 283개  싫어요:  31\n",
      "좋아요:  좋아요 574개  싫어요:  13\n",
      "좋아요:  좋아요 2,531개  싫어요:  51\n",
      "좋아요:  좋아요 298개  싫어요:  18\n",
      "좋아요:  좋아요 65개  싫어요:  12\n",
      "좋아요:  좋아요 277개  싫어요:  11\n",
      "좋아요:  좋아요 231개  싫어요:  19\n",
      "좋아요:  좋아요 166개  싫어요:  40\n",
      "좋아요:  좋아요 264개  싫어요:  15\n",
      "좋아요:  좋아요 320개  싫어요:  224\n",
      "좋아요:  좋아요 869개  싫어요:  41\n",
      "좋아요:  좋아요 216개  싫어요:  16\n",
      "좋아요:  좋아요 980개  싫어요:  29\n",
      "좋아요:  좋아요 5,274개  싫어요:  45\n",
      "좋아요:  좋아요 211개  싫어요:  13\n",
      "좋아요:  좋아요 274개  싫어요:  22\n",
      "좋아요:  좋아요 400개  싫어요:  51\n",
      "좋아요:  좋아요 1,794개  싫어요:  14\n",
      "좋아요:  좋아요 1,642개  싫어요:  19\n",
      "좋아요:  좋아요 121개  싫어요:  52\n",
      "좋아요:  좋아요 209개  싫어요:  9\n",
      "좋아요:  좋아요 1,108개  싫어요:  24\n",
      "좋아요:  좋아요 266개  싫어요:  35\n",
      "좋아요:  좋아요 193개  싫어요:  48\n",
      "좋아요:  좋아요 1,082개  싫어요:  55\n",
      "좋아요:  좋아요 362개  싫어요:  43\n",
      "좋아요:  좋아요 213개  싫어요:  8\n",
      "좋아요:  좋아요 253개  싫어요:  20\n",
      "좋아요:  좋아요 17개  싫어요:  0\n",
      "좋아요:  좋아요 94개  싫어요:  7\n",
      "좋아요:  좋아요 720개  싫어요:  29\n",
      "좋아요:  좋아요 289개  싫어요:  14\n",
      "좋아요:  좋아요 53개  싫어요:  16\n",
      "좋아요:  좋아요 722개  싫어요:  39\n",
      "좋아요:  좋아요 1,924개  싫어요:  37\n",
      "좋아요:  좋아요 694개  싫어요:  20\n",
      "좋아요:  좋아요 65개  싫어요:  12\n",
      "에러다 http://www.youtube.com//watch?v=MO_FhIygJ6k\n",
      "좋아요:  좋아요 814개  싫어요:  13\n",
      "좋아요:  좋아요 147개  싫어요:  27\n",
      "좋아요:  좋아요 208개  싫어요:  17\n",
      "좋아요:  좋아요 586개  싫어요:  42\n",
      "좋아요:  좋아요 1,008개  싫어요:  24\n",
      "좋아요:  좋아요 311개  싫어요:  65\n",
      "좋아요:  좋아요 228개  싫어요:  13\n",
      "좋아요:  좋아요 1,871개  싫어요:  20\n",
      "좋아요:  좋아요 211개  싫어요:  38\n",
      "좋아요:  좋아요 209개  싫어요:  675\n",
      "좋아요:  좋아요 2,644개  싫어요:  29\n",
      "좋아요:  좋아요 179개  싫어요:  12\n",
      "좋아요:  좋아요 797개  싫어요:  25\n",
      "좋아요:  좋아요 869개  싫어요:  67\n",
      "좋아요:  좋아요 150개  싫어요:  23\n",
      "좋아요:  좋아요 123개  싫어요:  6\n",
      "에러다 http://www.youtube.com//watch?v=MO_FhIygJ6k\n",
      "좋아요:  좋아요 169개  싫어요:  91\n",
      "좋아요:  좋아요 172개  싫어요:  29\n",
      "좋아요:  좋아요 573개  싫어요:  26\n",
      "좋아요:  좋아요 103개  싫어요:  5\n",
      "좋아요:  좋아요 293개  싫어요:  11\n",
      "좋아요:  좋아요 212개  싫어요:  16\n",
      "좋아요:  좋아요 369개  싫어요:  9\n",
      "좋아요:  좋아요 119개  싫어요:  6\n",
      "좋아요:  좋아요 349개  싫어요:  33\n",
      "좋아요:  좋아요 778개  싫어요:  19\n",
      "좋아요:  좋아요 102개  싫어요:  15\n",
      "좋아요:  좋아요 916개  싫어요:  11\n",
      "좋아요:  좋아요 17개  싫어요:  1\n",
      "좋아요:  좋아요 114개  싫어요:  9\n",
      "좋아요:  좋아요 204개  싫어요:  21\n",
      "좋아요:  좋아요 2,131개  싫어요:  8\n",
      "좋아요:  좋아요 149개  싫어요:  6\n",
      "좋아요:  좋아요 103개  싫어요:  5\n",
      "좋아요:  좋아요 125개  싫어요:  4\n",
      "좋아요:  좋아요 128개  싫어요:  15\n",
      "좋아요:  좋아요 100개  싫어요:  11\n",
      "좋아요:  좋아요 117개  싫어요:  10\n",
      "좋아요:  좋아요 103개  싫어요:  5\n",
      "좋아요:  좋아요 490개  싫어요:  32\n",
      "좋아요:  좋아요 33개  싫어요:  2\n",
      "좋아요:  좋아요 123개  싫어요:  8\n",
      "좋아요:  좋아요 292개  싫어요:  13\n",
      "좋아요:  좋아요 448개  싫어요:  24\n",
      "좋아요:  좋아요 122개  싫어요:  10\n",
      "좋아요:  좋아요 210개  싫어요:  41\n",
      "좋아요:  좋아요 337개  싫어요:  21\n",
      "좋아요:  좋아요 345개  싫어요:  23\n",
      "좋아요:  좋아요 394개  싫어요:  10\n",
      "좋아요:  좋아요 90개  싫어요:  9\n",
      "좋아요:  좋아요 442개  싫어요:  14\n",
      "좋아요:  좋아요 673개  싫어요:  6\n",
      "좋아요:  좋아요 2,077개  싫어요:  52\n",
      "좋아요:  좋아요 327개  싫어요:  0\n",
      "좋아요:  좋아요 182개  싫어요:  23\n",
      "좋아요:  좋아요 221개  싫어요:  33\n",
      "좋아요:  좋아요 293개  싫어요:  13\n",
      "좋아요:  좋아요 82개  싫어요:  8\n",
      "좋아요:  좋아요 70개  싫어요:  53\n",
      "좋아요:  좋아요 108개  싫어요:  8\n",
      "좋아요:  좋아요 311개  싫어요:  65\n",
      "좋아요:  좋아요 228개  싫어요:  13\n",
      "좋아요:  좋아요 1,871개  싫어요:  20\n",
      "좋아요:  좋아요 211개  싫어요:  38\n",
      "좋아요:  좋아요 209개  싫어요:  675\n"
     ]
    }
   ],
   "source": [
    "#url_1\n",
    "#3월 27일 기준 ㅈㅗㅎ아요 ㅅㅣㄹㅎ어용\n",
    "\n",
    "for i in link_list:\n",
    "    try:\n",
    "#         url_check.append(i)\n",
    "        get_info(i)\n",
    "    except KeyError as e:\n",
    "        print('에러다', i)"
   ]
  },
  {
   "cell_type": "markdown",
   "id": "mathematical-proportion",
   "metadata": {},
   "source": [
    "#### 총정리"
   ]
  },
  {
   "cell_type": "code",
   "execution_count": 17,
   "id": "portable-kidney",
   "metadata": {},
   "outputs": [
    {
     "data": {
      "text/html": [
       "<div>\n",
       "<style scoped>\n",
       "    .dataframe tbody tr th:only-of-type {\n",
       "        vertical-align: middle;\n",
       "    }\n",
       "\n",
       "    .dataframe tbody tr th {\n",
       "        vertical-align: top;\n",
       "    }\n",
       "\n",
       "    .dataframe thead th {\n",
       "        text-align: right;\n",
       "    }\n",
       "</style>\n",
       "<table border=\"1\" class=\"dataframe\">\n",
       "  <thead>\n",
       "    <tr style=\"text-align: right;\">\n",
       "      <th></th>\n",
       "      <th>number</th>\n",
       "      <th>title</th>\n",
       "      <th>link</th>\n",
       "      <th>working_list</th>\n",
       "      <th>조회수</th>\n",
       "      <th>좋아요</th>\n",
       "      <th>싫어요</th>\n",
       "    </tr>\n",
       "  </thead>\n",
       "  <tbody>\n",
       "    <tr>\n",
       "      <th>0</th>\n",
       "      <td>1</td>\n",
       "      <td>먼저 했는데 접종 '7분의 1'…\";가격 바가지 썼다\"...</td>\n",
       "      <td>http://www.youtube.com//watch?v=s8iSI4jQgfo</td>\n",
       "      <td>좋아요 10,971개 싫어요:, 738 조회수 1,227,103회</td>\n",
       "      <td>NaN</td>\n",
       "      <td>NaN</td>\n",
       "      <td>NaN</td>\n",
       "    </tr>\n",
       "    <tr>\n",
       "      <th>1</th>\n",
       "      <td>2</td>\n",
       "      <td>\";내 아내 먼저\";…'백신 새치기' 알고 보니‥ (2...</td>\n",
       "      <td>http://www.youtube.com//watch?v=WGqC5DthBVQ</td>\n",
       "      <td>좋아요 2,619개 싫어요:, 111 조회수 607,218회</td>\n",
       "      <td>NaN</td>\n",
       "      <td>NaN</td>\n",
       "      <td>NaN</td>\n",
       "    </tr>\n",
       "    <tr>\n",
       "      <th>2</th>\n",
       "      <td>3</td>\n",
       "      <td>[현장영상] 문재인 대통령 부부, 코로나19 백신 접종 / YTN</td>\n",
       "      <td>http://www.youtube.com//watch?v=xNwq7Amzatg</td>\n",
       "      <td>좋아요 2,579개 싫어요:, 1.9천 조회수 428,164회</td>\n",
       "      <td>NaN</td>\n",
       "      <td>NaN</td>\n",
       "      <td>NaN</td>\n",
       "    </tr>\n",
       "    <tr>\n",
       "      <th>3</th>\n",
       "      <td>4</td>\n",
       "      <td>[ET] “일본 접종, 이 속도면 126년”…도쿄 올림픽 영향은? / KBS 202...</td>\n",
       "      <td>http://www.youtube.com//watch?v=hIbtCUqQSwQ</td>\n",
       "      <td>좋아요 3,143개 싫어요:, 197 조회수 385,407회</td>\n",
       "      <td>NaN</td>\n",
       "      <td>NaN</td>\n",
       "      <td>NaN</td>\n",
       "    </tr>\n",
       "    <tr>\n",
       "      <th>4</th>\n",
       "      <td>5</td>\n",
       "      <td>백신 이상반응 5백여 건...오늘 사망 3명, 아나필락시스쇼크 1명 / YTN</td>\n",
       "      <td>http://www.youtube.com//watch?v=yGZJpVmuM1I</td>\n",
       "      <td>좋아요 1,717개 싫어요:, 124 조회수 341,022회</td>\n",
       "      <td>NaN</td>\n",
       "      <td>NaN</td>\n",
       "      <td>NaN</td>\n",
       "    </tr>\n",
       "  </tbody>\n",
       "</table>\n",
       "</div>"
      ],
      "text/plain": [
       "   number                                              title  \\\n",
       "0       1                  먼저 했는데 접종 '7분의 1'…\";가격 바가지 썼다\"...   \n",
       "1       2                  \";내 아내 먼저\";…'백신 새치기' 알고 보니‥ (2...   \n",
       "2       3               [현장영상] 문재인 대통령 부부, 코로나19 백신 접종 / YTN   \n",
       "3       4  [ET] “일본 접종, 이 속도면 126년”…도쿄 올림픽 영향은? / KBS 202...   \n",
       "4       5        백신 이상반응 5백여 건...오늘 사망 3명, 아나필락시스쇼크 1명 / YTN   \n",
       "\n",
       "                                          link  \\\n",
       "0  http://www.youtube.com//watch?v=s8iSI4jQgfo   \n",
       "1  http://www.youtube.com//watch?v=WGqC5DthBVQ   \n",
       "2  http://www.youtube.com//watch?v=xNwq7Amzatg   \n",
       "3  http://www.youtube.com//watch?v=hIbtCUqQSwQ   \n",
       "4  http://www.youtube.com//watch?v=yGZJpVmuM1I   \n",
       "\n",
       "                           working_list 조회수   좋아요  싫어요  \n",
       "0  좋아요 10,971개 싫어요:, 738 조회수 1,227,103회  NaN  NaN  NaN  \n",
       "1     좋아요 2,619개 싫어요:, 111 조회수 607,218회  NaN  NaN  NaN  \n",
       "2    좋아요 2,579개 싫어요:, 1.9천 조회수 428,164회  NaN  NaN  NaN  \n",
       "3     좋아요 3,143개 싫어요:, 197 조회수 385,407회  NaN  NaN  NaN  \n",
       "4     좋아요 1,717개 싫어요:, 124 조회수 341,022회  NaN  NaN  NaN  "
      ]
     },
     "execution_count": 17,
     "metadata": {},
     "output_type": "execute_result"
    }
   ],
   "source": [
    "data.head()"
   ]
  },
  {
   "cell_type": "code",
   "execution_count": 18,
   "id": "stone-argument",
   "metadata": {},
   "outputs": [
    {
     "data": {
      "text/plain": [
       "150"
      ]
     },
     "execution_count": 18,
     "metadata": {},
     "output_type": "execute_result"
    }
   ],
   "source": [
    "working_list = data.working_list.tolist()\n",
    "len(working_list)"
   ]
  },
  {
   "cell_type": "code",
   "execution_count": 158,
   "id": "aging-contrast",
   "metadata": {},
   "outputs": [],
   "source": [
    "#재실행 금지\n",
    "view_count = data['조회수'].tolist()\n",
    "view_count_l = []\n",
    "for i in view_count:\n",
    "    view_count_l.append(i[4:-1])\n",
    "\n",
    "data['조회수'] = view_count_l"
   ]
  },
  {
   "cell_type": "code",
   "execution_count": 40,
   "id": "dated-principal",
   "metadata": {},
   "outputs": [],
   "source": [
    "working_list = data.working_list.tolist()"
   ]
  },
  {
   "cell_type": "code",
   "execution_count": 44,
   "id": "lucky-processing",
   "metadata": {},
   "outputs": [
    {
     "data": {
      "text/plain": [
       "150"
      ]
     },
     "execution_count": 44,
     "metadata": {},
     "output_type": "execute_result"
    }
   ],
   "source": []
  },
  {
   "cell_type": "code",
   "execution_count": null,
   "id": "passive-observation",
   "metadata": {},
   "outputs": [],
   "source": [
    "#싫어요\n",
    "bad = []\n",
    "for i in range working_list:\n",
    "    i = i.split('싫어요:, ')[1].split(' 조회수')[0]\n",
    "#     j = i.split('개')[0].split('좋아요 ')[1]\n",
    "    bad.append(i)\n",
    "#     good.append(j)`\n",
    "data['싫어요'] = pd.DataFrame(bad)"
   ]
  },
  {
   "cell_type": "code",
   "execution_count": 58,
   "id": "recorded-eleven",
   "metadata": {},
   "outputs": [
    {
     "name": "stdout",
     "output_type": "stream",
     "text": [
      "738\n",
      "111\n",
      "1.9천\n",
      "197\n",
      "124\n",
      "265\n",
      "에러다 http://www.youtube.com//watch?v=mLJlQmy1XGo\n",
      "에러다 http://www.youtube.com//watch?v=XP4IGw5Y6Z4\n",
      "565\n",
      "95\n",
      "117\n",
      "78\n",
      "53\n",
      "189\n",
      "499\n",
      "62\n",
      "102\n",
      "43\n",
      "107\n",
      "에러다 http://www.youtube.com//watch?v=k20hZ_XqkE4\n",
      "63\n",
      "329\n",
      "에러다 http://www.youtube.com//watch?v=GWURLVfgjKM\n",
      "367\n",
      "59\n",
      "78\n",
      "60\n",
      "189\n",
      "39\n",
      "12\n",
      "39\n",
      "24\n",
      "에러다 http://www.youtube.com//watch?v=BoOwTorek08\n",
      "28\n",
      "54\n",
      "6\n",
      "에러다 http://www.youtube.com//watch?v=_Mmv9Jkn7x4\n",
      "13\n",
      "29\n",
      "49\n",
      "7\n",
      "65\n",
      "9\n",
      "에러다 http://www.youtube.com//watch?v=BLX0IaAWneM\n",
      "에러다 http://www.youtube.com//watch?v=e1DeQ-3eo8U\n",
      "10\n",
      "16\n",
      "32\n",
      "8\n",
      "42\n",
      "10\n",
      "38\n",
      "에러다 http://www.youtube.com//watch?v=JZvNI3khN7M\n",
      "15\n",
      "8\n",
      "19\n",
      "28\n",
      "39\n",
      "74\n",
      "13\n",
      "42\n",
      "24\n",
      "25\n",
      "7\n",
      "2\n",
      "53\n",
      "8\n",
      "6\n",
      "13\n",
      "492\n",
      "0\n",
      "34\n",
      "15\n",
      "5\n",
      "15\n",
      "10\n",
      "5\n",
      "0\n",
      "3\n",
      "17\n",
      "13\n",
      "40\n",
      "15\n",
      "22\n",
      "8\n",
      "11\n",
      "107\n",
      "19\n",
      "8\n",
      "3\n",
      "17\n",
      "12\n",
      "2\n",
      "7\n",
      "5\n",
      "0\n",
      "6\n",
      "1\n",
      "13\n",
      "10\n",
      "13\n",
      "10\n",
      "4\n",
      "72\n",
      "8\n",
      "에러다 http://www.youtube.com//watch?v=6s2NoKQdFh0\n",
      "5\n",
      "0\n",
      "14\n",
      "에러다 http://www.youtube.com//watch?v=BoOwTorek08\n",
      "59\n",
      "11\n",
      "12\n",
      "6\n",
      "107\n",
      "8\n",
      "21\n",
      "1\n",
      "5\n",
      "에러다 http://www.youtube.com//watch?v=qZRcQAZYQxI\n",
      "5\n",
      "2\n",
      "7\n",
      "2\n",
      "37\n",
      "10\n",
      "1\n",
      "0\n",
      "4\n",
      "6\n",
      "68\n",
      "4\n",
      "6\n",
      "7\n",
      "2\n",
      "3\n",
      "4\n",
      "0\n",
      "15\n",
      "9\n",
      "1\n",
      "5\n",
      "3\n",
      "2\n",
      "1\n",
      "에러다 http://www.youtube.com//watch?v=ya0DA1SD55Q\n",
      "10\n",
      "4\n",
      "1\n",
      "2\n"
     ]
    }
   ],
   "source": [
    "##싫어요\n",
    "for i in working_list:\n",
    "#     print(i)\n",
    "    try:\n",
    "        print(i.split('싫어요:, ')[1].split(' 조회수')[0])\n",
    "    except IndexError as e:\n",
    "        print(i)"
   ]
  },
  {
   "cell_type": "code",
   "execution_count": null,
   "id": "cutting-lending",
   "metadata": {},
   "outputs": [],
   "source": [
    "#좋아요\n",
    "good=[]\n",
    "for i in working_list:\n",
    "    i = i.split(' 싫어요')[0].split('좋아요')[1].split('개')[0]\n",
    "    good.append(i)\n",
    "data['좋아요'] = pd.DataFrame(good)"
   ]
  },
  {
   "cell_type": "code",
   "execution_count": 57,
   "id": "prescription-conservation",
   "metadata": {},
   "outputs": [
    {
     "name": "stdout",
     "output_type": "stream",
     "text": [
      " 10,971\n",
      " 2,619\n",
      " 2,579\n",
      " 3,143\n",
      " 1,717\n",
      " 4,434\n",
      "에러다 http://www.youtube.com//watch?v=mLJlQmy1XGo\n",
      "에러다 http://www.youtube.com//watch?v=XP4IGw5Y6Z4\n",
      " 1,904\n",
      " 1,661\n",
      " 4,938\n",
      " 1,357\n",
      " 883\n",
      " 3,309\n",
      " 6,621\n",
      " 469\n",
      " 5,821\n",
      " 433\n",
      " 2,283\n",
      "에러다 http://www.youtube.com//watch?v=k20hZ_XqkE4\n",
      " 3,551\n",
      " 219\n",
      "에러다 http://www.youtube.com//watch?v=GWURLVfgjKM\n",
      " 179\n",
      " 321\n",
      " 4,973\n",
      " 2,614\n",
      " 787\n",
      " 287\n",
      " 252\n",
      " 305\n",
      " 1,613\n",
      "에러다 http://www.youtube.com//watch?v=BoOwTorek08\n",
      " 420\n",
      " 400\n",
      " 29\n",
      "에러다 http://www.youtube.com//watch?v=_Mmv9Jkn7x4\n",
      " 452\n",
      " 159\n",
      " 1,072\n",
      " 225\n",
      " 1,291\n",
      " 200\n",
      "에러다 http://www.youtube.com//watch?v=BLX0IaAWneM\n",
      "에러다 http://www.youtube.com//watch?v=e1DeQ-3eo8U\n",
      " 124\n",
      " 417\n",
      " 665\n",
      " 36\n",
      " 309\n",
      " 358\n",
      " 118\n",
      "에러다 http://www.youtube.com//watch?v=JZvNI3khN7M\n",
      " 120\n",
      " 313\n",
      " 486\n",
      " 776\n",
      " 29\n",
      " 499\n",
      " 357\n",
      " 878\n",
      " 1,253\n",
      " 605\n",
      " 1,483\n",
      " 116\n",
      " 677\n",
      " 86\n",
      " 78\n",
      " 527\n",
      " 62\n",
      " 16\n",
      " 330\n",
      " 217\n",
      " 73\n",
      " 66\n",
      " 215\n",
      " 160\n",
      " 3\n",
      " 34\n",
      " 1,395\n",
      " 209\n",
      " 200\n",
      " 120\n",
      " 688\n",
      " 59\n",
      " 116\n",
      " 2,283\n",
      " 328\n",
      " 52\n",
      " 856\n",
      " 20\n",
      " 211\n",
      " 102\n",
      " 502\n",
      " 37\n",
      " 3\n",
      " 88\n",
      " 65\n",
      " 102\n",
      " 92\n",
      " 102\n",
      " 92\n",
      " 263\n",
      " 482\n",
      " 179\n",
      "에러다 http://www.youtube.com//watch?v=6s2NoKQdFh0\n",
      " 237\n",
      " 37\n",
      " 278\n",
      "에러다 http://www.youtube.com//watch?v=BoOwTorek08\n",
      " 765\n",
      " 180\n",
      " 553\n",
      " 59\n",
      " 2,283\n",
      " 381\n",
      " 31\n",
      " 73\n",
      " 179\n",
      "에러다 http://www.youtube.com//watch?v=qZRcQAZYQxI\n",
      " 351\n",
      " 65\n",
      " 38\n",
      " 43\n",
      " 1,922\n",
      " 893\n",
      " 29\n",
      " 197\n",
      " 424\n",
      " 244\n",
      " 669\n",
      " 184\n",
      " 166\n",
      " 239\n",
      " 67\n",
      " 57\n",
      " 224\n",
      " 2\n",
      " 25\n",
      " 35\n",
      " 463\n",
      " 85\n",
      " 24\n",
      " 110\n",
      " 30\n",
      "에러다 http://www.youtube.com//watch?v=ya0DA1SD55Q\n",
      " 87\n",
      " 55\n",
      " 76\n",
      " 38\n"
     ]
    }
   ],
   "source": [
    "##좋아요\n",
    "for i in working_list:\n",
    "#     print(i)\n",
    "    try:\n",
    "        print(i.split(' 싫어요')[0].split('좋아요')[1].split('개')[0])\n",
    "    except IndexError as e:\n",
    "        print(i)"
   ]
  },
  {
   "cell_type": "code",
   "execution_count": null,
   "id": "buried-ethnic",
   "metadata": {},
   "outputs": [],
   "source": [
    "#조회수\n",
    "view_count = []\n",
    "for i in working_list\n",
    "    i = i.working_test.split('조회수 ')[1].split('회')[0]\n",
    "    view_count.append(i)\n",
    "data['조회수'] = pd.DataFrame(view_count)"
   ]
  },
  {
   "cell_type": "code",
   "execution_count": null,
   "id": "initial-pregnancy",
   "metadata": {},
   "outputs": [],
   "source": [
    "##조회수 + 수작업\n",
    "for i in working_list:\n",
    "#     print(i)\n",
    "    try:\n",
    "        print(i.split('조회수 ')[1].split('회')[0])\n",
    "    except IndexError as e:\n",
    "        print(i)\n",
    "        "
   ]
  },
  {
   "cell_type": "code",
   "execution_count": 21,
   "id": "organizational-automation",
   "metadata": {},
   "outputs": [
    {
     "data": {
      "text/plain": [
       "'좋아요 10,971개 싫어요:, 738 조회수 1,227,103회'"
      ]
     },
     "execution_count": 21,
     "metadata": {},
     "output_type": "execute_result"
    }
   ],
   "source": [
    "working_test = '좋아요 10,971개 싫어요:, 738 조회수 1,227,103회'\n",
    "working_test"
   ]
  },
  {
   "cell_type": "code",
   "execution_count": 32,
   "id": "packed-performer",
   "metadata": {},
   "outputs": [
    {
     "data": {
      "text/plain": [
       "'1,227,103'"
      ]
     },
     "execution_count": 32,
     "metadata": {},
     "output_type": "execute_result"
    }
   ],
   "source": [
    "working_test.split('조회수 ')[1].split('회')[0]"
   ]
  },
  {
   "cell_type": "code",
   "execution_count": null,
   "id": "molecular-bidder",
   "metadata": {},
   "outputs": [],
   "source": []
  },
  {
   "cell_type": "code",
   "execution_count": null,
   "id": "demonstrated-monitor",
   "metadata": {},
   "outputs": [],
   "source": []
  },
  {
   "cell_type": "markdown",
   "id": "flexible-timeline",
   "metadata": {},
   "source": [
    "#### 총정리"
   ]
  },
  {
   "cell_type": "code",
   "execution_count": 90,
   "id": "decreased-costa",
   "metadata": {},
   "outputs": [
    {
     "data": {
      "text/html": [
       "<div>\n",
       "<style scoped>\n",
       "    .dataframe tbody tr th:only-of-type {\n",
       "        vertical-align: middle;\n",
       "    }\n",
       "\n",
       "    .dataframe tbody tr th {\n",
       "        vertical-align: top;\n",
       "    }\n",
       "\n",
       "    .dataframe thead th {\n",
       "        text-align: right;\n",
       "    }\n",
       "</style>\n",
       "<table border=\"1\" class=\"dataframe\">\n",
       "  <thead>\n",
       "    <tr style=\"text-align: right;\">\n",
       "      <th></th>\n",
       "      <th>title</th>\n",
       "      <th>youtube</th>\n",
       "      <th>working</th>\n",
       "      <th>싫어요</th>\n",
       "      <th>좋아요</th>\n",
       "    </tr>\n",
       "  </thead>\n",
       "  <tbody>\n",
       "    <tr>\n",
       "      <th>0</th>\n",
       "      <td>[서민 교수의 촌철의학] #12 백신 전쟁과 장티푸스 메리 (단국대의대 서민 교수)</td>\n",
       "      <td>http://www.youtube.com/watch?v=60cK9aYDBj8</td>\n",
       "      <td>에러다 http://www.youtube.com/watch?v=60cK9aYDBj8</td>\n",
       "      <td>에러다 http://www.youtube.com/watch?v=60cK9aYDBj8</td>\n",
       "      <td>에러다 http://www.youtube.com/watch?v=60cK9aYDBj8</td>\n",
       "    </tr>\n",
       "    <tr>\n",
       "      <th>1</th>\n",
       "      <td>코로나 백신 맞고 나온 91세 할아버지, CNN 인터뷰를 찢었다? / 비디오머그</td>\n",
       "      <td>http://www.youtube.com/watch?v=Z4K5yWm7kRg</td>\n",
       "      <td>좋아요 17,779개 싫어요 532개</td>\n",
       "      <td>532</td>\n",
       "      <td>17,779</td>\n",
       "    </tr>\n",
       "  </tbody>\n",
       "</table>\n",
       "</div>"
      ],
      "text/plain": [
       "                                            title  \\\n",
       "0  [서민 교수의 촌철의학] #12 백신 전쟁과 장티푸스 메리 (단국대의대 서민 교수)   \n",
       "1    코로나 백신 맞고 나온 91세 할아버지, CNN 인터뷰를 찢었다? / 비디오머그   \n",
       "\n",
       "                                      youtube  \\\n",
       "0  http://www.youtube.com/watch?v=60cK9aYDBj8   \n",
       "1  http://www.youtube.com/watch?v=Z4K5yWm7kRg   \n",
       "\n",
       "                                          working  \\\n",
       "0  에러다 http://www.youtube.com/watch?v=60cK9aYDBj8   \n",
       "1                            좋아요 17,779개 싫어요 532개   \n",
       "\n",
       "                                              싫어요  \\\n",
       "0  에러다 http://www.youtube.com/watch?v=60cK9aYDBj8   \n",
       "1                                             532   \n",
       "\n",
       "                                              좋아요  \n",
       "0  에러다 http://www.youtube.com/watch?v=60cK9aYDBj8  \n",
       "1                                          17,779  "
      ]
     },
     "execution_count": 90,
     "metadata": {},
     "output_type": "execute_result"
    }
   ],
   "source": [
    "data.head(2)"
   ]
  },
  {
   "cell_type": "code",
   "execution_count": 91,
   "id": "documented-rover",
   "metadata": {},
   "outputs": [],
   "source": [
    "data.drop(\"working\",axis =1, inplace =True)"
   ]
  },
  {
   "cell_type": "code",
   "execution_count": 92,
   "id": "weighted-bearing",
   "metadata": {},
   "outputs": [
    {
     "data": {
      "text/html": [
       "<div>\n",
       "<style scoped>\n",
       "    .dataframe tbody tr th:only-of-type {\n",
       "        vertical-align: middle;\n",
       "    }\n",
       "\n",
       "    .dataframe tbody tr th {\n",
       "        vertical-align: top;\n",
       "    }\n",
       "\n",
       "    .dataframe thead th {\n",
       "        text-align: right;\n",
       "    }\n",
       "</style>\n",
       "<table border=\"1\" class=\"dataframe\">\n",
       "  <thead>\n",
       "    <tr style=\"text-align: right;\">\n",
       "      <th></th>\n",
       "      <th>title</th>\n",
       "      <th>youtube</th>\n",
       "      <th>싫어요</th>\n",
       "      <th>좋아요</th>\n",
       "    </tr>\n",
       "  </thead>\n",
       "  <tbody>\n",
       "    <tr>\n",
       "      <th>0</th>\n",
       "      <td>[서민 교수의 촌철의학] #12 백신 전쟁과 장티푸스 메리 (단국대의대 서민 교수)</td>\n",
       "      <td>http://www.youtube.com/watch?v=60cK9aYDBj8</td>\n",
       "      <td>에러다 http://www.youtube.com/watch?v=60cK9aYDBj8</td>\n",
       "      <td>에러다 http://www.youtube.com/watch?v=60cK9aYDBj8</td>\n",
       "    </tr>\n",
       "    <tr>\n",
       "      <th>1</th>\n",
       "      <td>코로나 백신 맞고 나온 91세 할아버지, CNN 인터뷰를 찢었다? / 비디오머그</td>\n",
       "      <td>http://www.youtube.com/watch?v=Z4K5yWm7kRg</td>\n",
       "      <td>532</td>\n",
       "      <td>17,779</td>\n",
       "    </tr>\n",
       "  </tbody>\n",
       "</table>\n",
       "</div>"
      ],
      "text/plain": [
       "                                            title  \\\n",
       "0  [서민 교수의 촌철의학] #12 백신 전쟁과 장티푸스 메리 (단국대의대 서민 교수)   \n",
       "1    코로나 백신 맞고 나온 91세 할아버지, CNN 인터뷰를 찢었다? / 비디오머그   \n",
       "\n",
       "                                      youtube  \\\n",
       "0  http://www.youtube.com/watch?v=60cK9aYDBj8   \n",
       "1  http://www.youtube.com/watch?v=Z4K5yWm7kRg   \n",
       "\n",
       "                                              싫어요  \\\n",
       "0  에러다 http://www.youtube.com/watch?v=60cK9aYDBj8   \n",
       "1                                             532   \n",
       "\n",
       "                                              좋아요  \n",
       "0  에러다 http://www.youtube.com/watch?v=60cK9aYDBj8  \n",
       "1                                          17,779  "
      ]
     },
     "execution_count": 92,
     "metadata": {},
     "output_type": "execute_result"
    }
   ],
   "source": [
    "data.head(2)"
   ]
  },
  {
   "cell_type": "code",
   "execution_count": 93,
   "id": "regulated-briefs",
   "metadata": {},
   "outputs": [],
   "source": [
    "data.to_excel('비교용Top200_0313.xlsx')"
   ]
  },
  {
   "cell_type": "code",
   "execution_count": null,
   "id": "urban-organ",
   "metadata": {},
   "outputs": [],
   "source": []
  },
  {
   "cell_type": "code",
   "execution_count": null,
   "id": "anonymous-penny",
   "metadata": {},
   "outputs": [],
   "source": []
  },
  {
   "cell_type": "code",
   "execution_count": 56,
   "id": "electoral-focus",
   "metadata": {},
   "outputs": [
    {
     "name": "stdout",
     "output_type": "stream",
     "text": [
      "1,227,103\n",
      "607,218\n",
      "428,164\n",
      "385,407\n",
      "341,022\n",
      "293,420\n",
      "에러다 http://www.youtube.com//watch?v=mLJlQmy1XGo\n",
      "에러다 http://www.youtube.com//watch?v=XP4IGw5Y6Z4\n",
      "248,656\n",
      "234,140\n",
      "219,879\n",
      "147,122\n",
      "143,737\n",
      "142,393\n",
      "122,960\n",
      "89,802\n",
      "82,582\n",
      "80,669\n",
      "88,325\n",
      "에러다 http://www.youtube.com//watch?v=k20hZ_XqkE4\n",
      "73,664\n",
      "71,273\n",
      "에러다 http://www.youtube.com//watch?v=GWURLVfgjKM\n",
      "67,114\n",
      "61,177\n",
      "61,046\n",
      "60,285\n",
      "56,852\n",
      "51,756\n",
      "51,073\n",
      "49,204\n",
      "46,469\n",
      "에러다 http://www.youtube.com//watch?v=BoOwTorek08\n",
      "42,870\n",
      "41,219\n",
      "2,639\n",
      "에러다 http://www.youtube.com//watch?v=_Mmv9Jkn7x4\n",
      "34,896\n",
      "34,020\n",
      "31,723\n",
      "31,563\n",
      "31,523\n",
      "29,977\n",
      "에러다 http://www.youtube.com//watch?v=BLX0IaAWneM\n",
      "에러다 http://www.youtube.com//watch?v=e1DeQ-3eo8U\n",
      "8,385\n",
      "26,274\n",
      "25,034\n",
      "1,836\n",
      "22,713\n",
      "21,194\n",
      "20,897\n",
      "에러다 http://www.youtube.com//watch?v=JZvNI3khN7M\n",
      "18,520\n",
      "17,478\n",
      "71,994\n",
      "17,118\n",
      "16,833\n",
      "16,739\n",
      "16,903\n",
      "16,615\n",
      "16,467\n",
      "15,512\n",
      "14,671\n",
      "14,607\n",
      "14,795\n",
      "8,178\n",
      "13,382\n",
      "13,370\n",
      "12,960\n",
      "12,585\n",
      "13,453\n",
      "12,273\n",
      "11,977\n",
      "9,471\n",
      "12,213\n",
      "11,199\n",
      "940\n",
      "6,019\n",
      "10,645\n",
      "10,419\n",
      "10,818\n",
      "18,520\n",
      "9,869\n",
      "8,164\n",
      "8,460\n",
      "88,368\n",
      "7,735\n",
      "7,816\n",
      "7,431\n",
      "7,368\n",
      "7,590\n",
      "7,354\n",
      "7,361\n",
      "7,346\n",
      "940\n",
      "7,185\n",
      "6,944\n",
      "6,822\n",
      "7,025\n",
      "6,822\n",
      "7,025\n",
      "7,351\n",
      "6,656\n",
      "6,745\n",
      "에러다 http://www.youtube.com//watch?v=6s2NoKQdFh0\n",
      "6,445\n",
      "6,392\n",
      "6,568\n",
      "에러다 http://www.youtube.com//watch?v=BoOwTorek08\n",
      "7,104\n",
      "6,163\n",
      "6,035\n",
      "6,135\n",
      "88,368\n",
      "5,773\n",
      "5,651\n",
      "5,649\n",
      "5,423\n",
      "에러다 http://www.youtube.com//watch?v=qZRcQAZYQxI\n",
      "5,378\n",
      "5,529\n",
      "4,548\n",
      "5,026\n",
      "26,643\n",
      "4,544\n",
      "4,538\n",
      "4,450\n",
      "4,410\n",
      "4,558\n",
      "69,314\n",
      "3,970\n",
      "5,858\n",
      "3,911\n",
      "3,874\n",
      "3,840\n",
      "3,836\n",
      "3,866\n",
      "1,970\n",
      "3,909\n",
      "3,487\n",
      "3,756\n",
      "3,367\n",
      "3,102\n",
      "3,141\n",
      "에러다 http://www.youtube.com//watch?v=ya0DA1SD55Q\n",
      "3,036\n",
      "2,997\n",
      "3,006\n",
      "3,055\n"
     ]
    }
   ],
   "source": [
    "for i in working_list:\n",
    "#     print(i)\n",
    "    try:\n",
    "        print(i.split('조회수 ')[1].split('회')[0])\n",
    "    except IndexError as e:\n",
    "        print(i)\n",
    "        "
   ]
  },
  {
   "cell_type": "code",
   "execution_count": null,
   "id": "legitimate-bracelet",
   "metadata": {},
   "outputs": [],
   "source": []
  }
 ],
 "metadata": {
  "kernelspec": {
   "display_name": "Python 3",
   "language": "python",
   "name": "python3"
  },
  "language_info": {
   "codemirror_mode": {
    "name": "ipython",
    "version": 3
   },
   "file_extension": ".py",
   "mimetype": "text/x-python",
   "name": "python",
   "nbconvert_exporter": "python",
   "pygments_lexer": "ipython3",
   "version": "3.9.2"
  },
  "toc": {
   "base_numbering": 1,
   "nav_menu": {},
   "number_sections": true,
   "sideBar": true,
   "skip_h1_title": false,
   "title_cell": "Table of Contents",
   "title_sidebar": "Contents",
   "toc_cell": false,
   "toc_position": {},
   "toc_section_display": true,
   "toc_window_display": false
  },
  "varInspector": {
   "cols": {
    "lenName": 16,
    "lenType": 16,
    "lenVar": 40
   },
   "kernels_config": {
    "python": {
     "delete_cmd_postfix": "",
     "delete_cmd_prefix": "del ",
     "library": "var_list.py",
     "varRefreshCmd": "print(var_dic_list())"
    },
    "r": {
     "delete_cmd_postfix": ") ",
     "delete_cmd_prefix": "rm(",
     "library": "var_list.r",
     "varRefreshCmd": "cat(var_dic_list()) "
    }
   },
   "types_to_exclude": [
    "module",
    "function",
    "builtin_function_or_method",
    "instance",
    "_Feature"
   ],
   "window_display": false
  }
 },
 "nbformat": 4,
 "nbformat_minor": 5
}
