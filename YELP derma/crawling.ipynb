{
 "cells": [
  {
   "cell_type": "code",
   "execution_count": null,
   "metadata": {},
   "outputs": [],
   "source": [
    "yelp_loc =pd.read_csv(\"C:\\\\Users\\\\user\\\\Documents\\\\Monicas_Workspace\\\\derma\\\\yelp_loc.csv\")\n",
    "yelp_loc.head(20)"
   ]
  },
  {
   "cell_type": "code",
   "execution_count": null,
   "metadata": {},
   "outputs": [],
   "source": [
    "yelp_loc['url '] = 'https://www.yelp.com/search?find_desc=dermatology&find_loc='+yelp_loc['loc']+'%2C+'+yelp_loc['cont']+'&sortby=review_count'"
   ]
  },
  {
   "cell_type": "code",
   "execution_count": 100,
   "metadata": {},
   "outputs": [],
   "source": [
    "from selenium import webdriver\n",
    "from selenium.webdriver.common.keys import Keys\n",
    "from selenium.webdriver.support.ui import WebDriverWait\n",
    "from selenium.common.exceptions import NoSuchElementException\n",
    "import selenium.common.exceptions as sex\n",
    "\n",
    "import pandas as pd\n",
    "import numpy as np\n",
    "import openpyxl\n",
    "\n",
    "from bs4 import BeautifulSoup\n",
    "import lxml\n",
    "import requests\n",
    "\n",
    "import time\n",
    "from time import sleep\n",
    "import random\n",
    "import re\n",
    "from selenium.webdriver.common.by import By\n",
    "from selenium.webdriver.common.action_chains import ActionChains\n",
    "\n",
    "from selenium.webdriver.common.by import By\n",
    "from selenium.webdriver.support.ui import WebDriverWait\n",
    "from selenium.webdriver.support import expected_conditions as EC\n",
    "\n",
    "from tqdm import tqdm"
   ]
  },
  {
   "cell_type": "code",
   "execution_count": 79,
   "metadata": {},
   "outputs": [],
   "source": [
    "path =\"C:\\\\Users\\\\user\\\\Documents\\Monicas_Workspace\\\\chromedriver.exe\"\n",
    "driver = webdriver.Chrome(path)\n",
    "driver.implicitly_wait(5)\n",
    "\n",
    "start_url = yelp_loc['url '][0]\n",
    "driver.get(start_url)"
   ]
  },
  {
   "cell_type": "code",
   "execution_count": 81,
   "metadata": {},
   "outputs": [],
   "source": [
    "def scroll_down():\n",
    "    elem = driver.find_element_by_tag_name(\"body\")\n",
    "    last_height = driver.execute_script(\"return document.body.scrollHeight\")\n",
    "\n",
    "    while True:\n",
    "        scroll_down = 0\n",
    "        while scroll_down < 10:\n",
    "            elem.send_keys(Keys.PAGE_DOWN)\n",
    "            time.sleep(0.2)\n",
    "            scroll_down += 1\n",
    "        \n",
    "        new_height = driver.execute_script(\"return document.body.scrollHeight\")\n",
    "        if new_height == last_height:\n",
    "            # print(\"끝\")\n",
    "            break\n",
    "\n",
    "        last_height = new_height"
   ]
  },
  {
   "cell_type": "code",
   "execution_count": 98,
   "metadata": {},
   "outputs": [],
   "source": [
    "scroll_down()\n",
    "page = driver.page_source\n",
    "soup = BeautifulSoup(page, 'html.parser')"
   ]
  },
  {
   "cell_type": "code",
   "execution_count": null,
   "metadata": {},
   "outputs": [],
   "source": [
    "<span class=\" css-1egxyvc\" data-font-weight=\"bold\">1.&nbsp;<a href=\"/biz/desert-sky-dermatology-gilbert?osq=dermatology\" class=\"css-19v1rkv\" target=\"_blank\" name=\"Desert Sky Dermatology\" rel=\"noopener\" role=\"link\">Desert Sky Dermatology</a></span>"
   ]
  },
  {
   "cell_type": "code",
   "execution_count": null,
   "metadata": {},
   "outputs": [],
   "source": [
    "<span class=\" css-1egxyvc\" data-font-weight=\"bold\">1.&nbsp;<a href=\"/biz/desert-sky-dermatology-gilbert?osq=dermatology\" class=\"css-19v1rkv\" target=\"_blank\" name=\"Desert Sky Dermatology\" rel=\"noopener\" role=\"link\">Desert Sky Dermatology</a></span>"
   ]
  },
  {
   "cell_type": "code",
   "execution_count": 136,
   "metadata": {},
   "outputs": [
    {
     "name": "stdout",
     "output_type": "stream",
     "text": [
      "<a class=\"css-19v1rkv\" href=\"/adredir?ad_business_id=v6hmyGUzShSswB3aeNE7bQ&amp;campaign_id=TmUvPJkQFzFqZK2kfymbgQ&amp;click_origin=search_results&amp;placement=vertical_0&amp;placement_slot=0&amp;redirect_url=https%3A%2F%2Fwww.yelp.com%2Fbiz%2Fdesert-sky-dermatology-gilbert&amp;request_id=ed534719025daa2c&amp;signature=2ce1c2ebd8fe04a4a707f5efa9c389a389a677c169caf4e465d8e49b16e9352d&amp;slot=0\" name=\"Desert Sky Dermatology\" rel=\"noopener\" role=\"link\" target=\"_blank\">Desert Sky Dermatology</a>\n",
      "<a class=\"css-19v1rkv\" href=\"/adredir?ad_business_id=03w8GCcF7dlY3n8iIUNuVQ&amp;campaign_id=-Ii2wbkRRmufUJ4rHgM_CA&amp;click_origin=search_results&amp;placement=vertical_0&amp;placement_slot=0&amp;redirect_url=https%3A%2F%2Fwww.yelp.com%2Fbiz%2Fsaguaro-dermatology-phoenix-phoenix&amp;request_id=ed534719025daa2c&amp;signature=330ffe5f3c8554b7cf9105745743a49fd7f52eedd7199d971f593b2567ef8753&amp;slot=1\" name=\"Saguaro Dermatology - Phoenix\" rel=\"noopener\" role=\"link\" target=\"_blank\">Saguaro Dermatology - Phoenix</a>\n",
      "<a class=\"css-19v1rkv\" href=\"/adredir?ad_business_id=YCppBx7TAQ4q-9uGxWmQHw&amp;campaign_id=4GrniBO6gJ6xy0DlZQzm3w&amp;click_origin=search_results&amp;placement=vertical_0&amp;placement_slot=0&amp;redirect_url=https%3A%2F%2Fwww.yelp.com%2Fbiz%2Fmodern-dermatology-scottsdale&amp;request_id=ed534719025daa2c&amp;signature=66009a31582ef27ecf709b79f61b4d39541a55739b9e707bdea525a187283240&amp;slot=2\" name=\"MODERN Dermatology\" rel=\"noopener\" role=\"link\" target=\"_blank\">MODERN Dermatology</a>\n",
      "<a class=\"css-19v1rkv\" href=\"/adredir?ad_business_id=a3TsYC-pqdLAXsWGStfQLw&amp;campaign_id=YEEZjjdzhFiVpu8dos3HEQ&amp;click_origin=search_results&amp;placement=vertical_0&amp;placement_slot=0&amp;redirect_url=https%3A%2F%2Fwww.yelp.com%2Fbiz%2Fblume-skin-and-body-scottsdale&amp;request_id=ed534719025daa2c&amp;signature=c2946585cf8a42576c986bb781c586820dfa4b518f87a58231ab042cb0b9c729&amp;slot=3\" name=\"Blume Skin &amp; Body\" rel=\"noopener\" role=\"link\" target=\"_blank\">Blume Skin &amp; Body</a>\n",
      "<a class=\"css-19v1rkv\" href=\"/adredir?ad_business_id=qZYeJN_hN_V4n9Fl8gog1Q&amp;campaign_id=nTK6Kdoc7EfGTYjXFuGxNw&amp;click_origin=search_results&amp;placement=vertical_0&amp;placement_slot=0&amp;redirect_url=https%3A%2F%2Fwww.yelp.com%2Fbiz%2Fbody-beautiful-spa-phoenix-3&amp;request_id=ed534719025daa2c&amp;signature=955e508c6bab27be13004dd17e2cf9448834b2b872c2228f48db63b7f7f71931&amp;slot=4\" name=\"Body Beautiful Spa\" rel=\"noopener\" role=\"link\" target=\"_blank\">Body Beautiful Spa</a>\n",
      "<a class=\"css-19v1rkv\" href=\"/adredir?ad_business_id=hP0Q9RDcU7UMPh1ciqJ9pQ&amp;campaign_id=eiw_bIHyfvk_2r9iHRnfuw&amp;click_origin=search_results&amp;placement=vertical_0&amp;placement_slot=0&amp;redirect_url=https%3A%2F%2Fwww.yelp.com%2Fbiz%2Fvirtu-medical-aesthetics-scottsdale&amp;request_id=ed534719025daa2c&amp;signature=cac93c0f5343adc45b976359659a0215530c75b1e5298614442c5ddb2f665e2e&amp;slot=5\" name=\"Virtu Medical Aesthetics\" rel=\"noopener\" role=\"link\" target=\"_blank\">Virtu Medical Aesthetics</a>\n",
      "<a class=\"css-19v1rkv\" href=\"/adredir?ad_business_id=PGIHHXneByCNW3aA-jcaxw&amp;campaign_id=3zMMGhYnFxKrHSFX4NPMgA&amp;click_origin=search_results&amp;placement=vertical_0&amp;placement_slot=0&amp;redirect_url=https%3A%2F%2Fwww.yelp.com%2Fbiz%2Fanatomy-of-aesthetics-scottsdale&amp;request_id=ed534719025daa2c&amp;signature=44c14fe5e712ca0e00f3f3810f868fa1bee404785a4d592790d5461569bb2128&amp;slot=6\" name=\"Anatomy of Aesthetics\" rel=\"noopener\" role=\"link\" target=\"_blank\">Anatomy of Aesthetics</a>\n",
      "<a class=\"css-19v1rkv\" href=\"/adredir?ad_business_id=Ck4L85PeJF9UTtgg9GNxLA&amp;campaign_id=Y5mTFvDOiThbH8tKV7-wrQ&amp;click_origin=search_results&amp;placement=vertical_0&amp;placement_slot=0&amp;redirect_url=https%3A%2F%2Fwww.yelp.com%2Fbiz%2Fimmigration-exams-phoenix-phoenix&amp;request_id=ed534719025daa2c&amp;signature=d8f6b69888ba6a1dd6834c28b4ca57afa365267e7ed1d6ac7200e023b62d7084&amp;slot=7\" name=\"Immigration Exams - Phoenix\" rel=\"noopener\" role=\"link\" target=\"_blank\">Immigration Exams - Phoenix</a>\n",
      "<a class=\"css-19v1rkv\" href=\"/biz/desert-sky-dermatology-gilbert?osq=dermatology\" name=\"Desert Sky Dermatology\" rel=\"noopener\" role=\"link\" target=\"_blank\">Desert Sky Dermatology</a>\n",
      "None\n",
      "<a class=\"css-19v1rkv\" href=\"/biz/blume-skin-and-body-scottsdale?osq=dermatology\" name=\"Blume Skin &amp; Body\" rel=\"noopener\" role=\"link\" target=\"_blank\">Blume Skin &amp; Body</a>\n",
      "None\n",
      "<a class=\"css-19v1rkv\" href=\"/biz/affiliated-dermatology-phoenix-phoenix-2?osq=dermatology\" name=\"Affiliated Dermatology - Phoenix\" rel=\"noopener\" role=\"link\" target=\"_blank\">Affiliated Dermatology - Phoenix</a>\n",
      "None\n",
      "<a class=\"css-19v1rkv\" href=\"/biz/all-about-me-medical-aesthetics-phoenix?osq=dermatology\" name=\"All About Me Medical Aesthetics\" rel=\"noopener\" role=\"link\" target=\"_blank\">All About Me Medical Aesthetics</a>\n",
      "None\n",
      "<a class=\"css-19v1rkv\" href=\"/biz/dermatology-and-skin-surgery-specialists-scottsdale-3?osq=dermatology\" name=\"Dermatology &amp; Skin Surgery Specialists\" rel=\"noopener\" role=\"link\" target=\"_blank\">Dermatology &amp; Skin Surgery Specialists</a>\n",
      "None\n",
      "<a class=\"css-19v1rkv\" href=\"/biz/camelback-dermatology-and-skin-surgery-phoenix?osq=dermatology\" name=\"Camelback Dermatology &amp; Skin Surgery\" rel=\"noopener\" role=\"link\" target=\"_blank\">Camelback Dermatology &amp; Skin Surgery</a>\n",
      "None\n",
      "<a class=\"css-19v1rkv\" href=\"/biz/spectrum-dermatology-desert-ridge-phoenix-phoenix-2?osq=dermatology\" name=\"Spectrum Dermatology Desert Ridge/Phoenix\" rel=\"noopener\" role=\"link\" target=\"_blank\">Spectrum Dermatology Desert Ridge/Phoenix</a>\n",
      "None\n",
      "<a class=\"css-19v1rkv\" href=\"/biz/all-dermatology-glendale?osq=dermatology\" name=\"All Dermatology\" rel=\"noopener\" role=\"link\" target=\"_blank\">All Dermatology</a>\n",
      "None\n",
      "<a class=\"css-19v1rkv\" href=\"/biz/regency-dermatology-phoenix-2?osq=dermatology\" name=\"Regency Dermatology\" rel=\"noopener\" role=\"link\" target=\"_blank\">Regency Dermatology</a>\n",
      "None\n",
      "<a class=\"css-19v1rkv\" href=\"/biz/saguaro-dermatology-phoenix-phoenix?osq=dermatology\" name=\"Saguaro Dermatology - Phoenix\" rel=\"noopener\" role=\"link\" target=\"_blank\">Saguaro Dermatology - Phoenix</a>\n",
      "None\n",
      "<a class=\"css-19v1rkv\" href=\"/adredir?ad_business_id=rkDqYlUhsMUHpK_1P9v2DA&amp;campaign_id=SBHNmz5mT53kpPzYB01o8A&amp;click_origin=search_results&amp;placement=below_search&amp;placement_slot=1&amp;redirect_url=https%3A%2F%2Fwww.yelp.com%2Fbiz%2Feuropean-wax-center-phoenix-12&amp;request_id=ed534719025daa2c&amp;signature=43c6391f8fd4ec10e72622a2cabbc9e6034632bd111ad88e4c1aa364ce8d91b4&amp;slot=0\" name=\"European Wax Center\" rel=\"noopener\" role=\"link\" target=\"_blank\">European Wax Center</a>\n"
     ]
    }
   ],
   "source": [
    "for i in soup.find_all('span',class_=\"css-1egxyvc\"):\n",
    "    h = i.find('a')\n",
    "    print(h)"
   ]
  },
  {
   "cell_type": "code",
   "execution_count": 141,
   "metadata": {},
   "outputs": [
    {
     "name": "stdout",
     "output_type": "stream",
     "text": [
      "Desert Sky Dermatology\n",
      "\"/adredir?ad_business_id=v6hmyGUzShSswB3aeNE7bQ&amp;campaign_id=TmUvPJkQFzFqZK2kfymbgQ&amp;click_origin=search_results&amp;placement=vertical_0&amp;placement_slot=0&amp;redirect_url=https%3A%2F%2Fwww.yelp.com%2Fbiz%2Fdesert-sky-dermatology-gilbert&amp;request_id=ed534719025daa2c&amp;signature=2ce1c2ebd8fe04a4a707f5efa9c389a389a677c169caf4e465d8e49b16e9352d&amp;slot=0\" \n",
      "Saguaro Dermatology - Phoenix\n",
      "\"/adredir?ad_business_id=03w8GCcF7dlY3n8iIUNuVQ&amp;campaign_id=-Ii2wbkRRmufUJ4rHgM_CA&amp;click_origin=search_results&amp;placement=vertical_0&amp;placement_slot=0&amp;redirect_url=https%3A%2F%2Fwww.yelp.com%2Fbiz%2Fsaguaro-dermatology-phoenix-phoenix&amp;request_id=ed534719025daa2c&amp;signature=330ffe5f3c8554b7cf9105745743a49fd7f52eedd7199d971f593b2567ef8753&amp;slot=1\" \n",
      "MODERN Dermatology\n",
      "\"/adredir?ad_business_id=YCppBx7TAQ4q-9uGxWmQHw&amp;campaign_id=4GrniBO6gJ6xy0DlZQzm3w&amp;click_origin=search_results&amp;placement=vertical_0&amp;placement_slot=0&amp;redirect_url=https%3A%2F%2Fwww.yelp.com%2Fbiz%2Fmodern-dermatology-scottsdale&amp;request_id=ed534719025daa2c&amp;signature=66009a31582ef27ecf709b79f61b4d39541a55739b9e707bdea525a187283240&amp;slot=2\" \n",
      "Blume Skin & Body\n",
      "\"/adredir?ad_business_id=a3TsYC-pqdLAXsWGStfQLw&amp;campaign_id=YEEZjjdzhFiVpu8dos3HEQ&amp;click_origin=search_results&amp;placement=vertical_0&amp;placement_slot=0&amp;redirect_url=https%3A%2F%2Fwww.yelp.com%2Fbiz%2Fblume-skin-and-body-scottsdale&amp;request_id=ed534719025daa2c&amp;signature=c2946585cf8a42576c986bb781c586820dfa4b518f87a58231ab042cb0b9c729&amp;slot=3\" \n",
      "Body Beautiful Spa\n",
      "\"/adredir?ad_business_id=qZYeJN_hN_V4n9Fl8gog1Q&amp;campaign_id=nTK6Kdoc7EfGTYjXFuGxNw&amp;click_origin=search_results&amp;placement=vertical_0&amp;placement_slot=0&amp;redirect_url=https%3A%2F%2Fwww.yelp.com%2Fbiz%2Fbody-beautiful-spa-phoenix-3&amp;request_id=ed534719025daa2c&amp;signature=955e508c6bab27be13004dd17e2cf9448834b2b872c2228f48db63b7f7f71931&amp;slot=4\" \n",
      "Virtu Medical Aesthetics\n",
      "\"/adredir?ad_business_id=hP0Q9RDcU7UMPh1ciqJ9pQ&amp;campaign_id=eiw_bIHyfvk_2r9iHRnfuw&amp;click_origin=search_results&amp;placement=vertical_0&amp;placement_slot=0&amp;redirect_url=https%3A%2F%2Fwww.yelp.com%2Fbiz%2Fvirtu-medical-aesthetics-scottsdale&amp;request_id=ed534719025daa2c&amp;signature=cac93c0f5343adc45b976359659a0215530c75b1e5298614442c5ddb2f665e2e&amp;slot=5\" \n",
      "Anatomy of Aesthetics\n",
      "\"/adredir?ad_business_id=PGIHHXneByCNW3aA-jcaxw&amp;campaign_id=3zMMGhYnFxKrHSFX4NPMgA&amp;click_origin=search_results&amp;placement=vertical_0&amp;placement_slot=0&amp;redirect_url=https%3A%2F%2Fwww.yelp.com%2Fbiz%2Fanatomy-of-aesthetics-scottsdale&amp;request_id=ed534719025daa2c&amp;signature=44c14fe5e712ca0e00f3f3810f868fa1bee404785a4d592790d5461569bb2128&amp;slot=6\" \n",
      "Immigration Exams - Phoenix\n",
      "\"/adredir?ad_business_id=Ck4L85PeJF9UTtgg9GNxLA&amp;campaign_id=Y5mTFvDOiThbH8tKV7-wrQ&amp;click_origin=search_results&amp;placement=vertical_0&amp;placement_slot=0&amp;redirect_url=https%3A%2F%2Fwww.yelp.com%2Fbiz%2Fimmigration-exams-phoenix-phoenix&amp;request_id=ed534719025daa2c&amp;signature=d8f6b69888ba6a1dd6834c28b4ca57afa365267e7ed1d6ac7200e023b62d7084&amp;slot=7\" \n",
      "Desert Sky Dermatology\n",
      "\"/biz/desert-sky-dermatology-gilbert?osq=dermatology\" \n",
      "Blume Skin & Body\n",
      "\"/biz/blume-skin-and-body-scottsdale?osq=dermatology\" \n",
      "Affiliated Dermatology - Phoenix\n",
      "\"/biz/affiliated-dermatology-phoenix-phoenix-2?osq=dermatology\" \n",
      "All About Me Medical Aesthetics\n",
      "\"/biz/all-about-me-medical-aesthetics-phoenix?osq=dermatology\" \n",
      "Dermatology & Skin Surgery Specialists\n",
      "\"/biz/dermatology-and-skin-surgery-specialists-scottsdale-3?osq=dermatology\" \n",
      "Camelback Dermatology & Skin Surgery\n",
      "\"/biz/camelback-dermatology-and-skin-surgery-phoenix?osq=dermatology\" \n",
      "Spectrum Dermatology Desert Ridge/Phoenix\n",
      "\"/biz/spectrum-dermatology-desert-ridge-phoenix-phoenix-2?osq=dermatology\" \n",
      "All Dermatology\n",
      "\"/biz/all-dermatology-glendale?osq=dermatology\" \n",
      "Regency Dermatology\n",
      "\"/biz/regency-dermatology-phoenix-2?osq=dermatology\" \n",
      "Saguaro Dermatology - Phoenix\n",
      "\"/biz/saguaro-dermatology-phoenix-phoenix?osq=dermatology\" \n",
      "European Wax Center\n",
      "\"/adredir?ad_business_id=rkDqYlUhsMUHpK_1P9v2DA&amp;campaign_id=SBHNmz5mT53kpPzYB01o8A&amp;click_origin=search_results&amp;placement=below_search&amp;placement_slot=1&amp;redirect_url=https%3A%2F%2Fwww.yelp.com%2Fbiz%2Feuropean-wax-center-phoenix-12&amp;request_id=ed534719025daa2c&amp;signature=43c6391f8fd4ec10e72622a2cabbc9e6034632bd111ad88e4c1aa364ce8d91b4&amp;slot=0\" \n"
     ]
    }
   ],
   "source": [
    "for i in soup.find_all('span', class_=\"css-1egxyvc\"):\n",
    "    try:\n",
    "        title = i.find('a').text\n",
    "        print(title)\n",
    "        h = i.find('a')\n",
    "        h =str(h).split('href=')[1].split('name')[0]\n",
    "        h =str(h).split('href=')[1].split('name')[0]\n",
    "        print(h)\n",
    "    except:\n",
    "        pass"
   ]
  },
  {
   "cell_type": "markdown",
   "metadata": {},
   "source": []
  },
  {
   "cell_type": "code",
   "execution_count": 97,
   "metadata": {},
   "outputs": [
    {
     "data": {
      "text/plain": [
       "[]"
      ]
     },
     "execution_count": 97,
     "metadata": {},
     "output_type": "execute_result"
    }
   ],
   "source": [
    "soup.find_all('h3', class_=\"1agk4wl\")"
   ]
  },
  {
   "cell_type": "code",
   "execution_count": null,
   "metadata": {},
   "outputs": [],
   "source": []
  },
  {
   "cell_type": "code",
   "execution_count": 101,
   "metadata": {},
   "outputs": [
    {
     "ename": "AttributeError",
     "evalue": "'NoneType' object has no attribute 'get_text'",
     "output_type": "error",
     "traceback": [
      "\u001b[1;31m---------------------------------------------------------------------------\u001b[0m",
      "\u001b[1;31mAttributeError\u001b[0m                            Traceback (most recent call last)",
      "\u001b[1;32m~\\AppData\\Local\\Temp\\ipykernel_47992\\3384893073.py\u001b[0m in \u001b[0;36m<module>\u001b[1;34m\u001b[0m\n\u001b[0;32m      1\u001b[0m \u001b[0mpage_num\u001b[0m \u001b[1;33m=\u001b[0m \u001b[0msoup\u001b[0m\u001b[1;33m.\u001b[0m\u001b[0mfind\u001b[0m\u001b[1;33m(\u001b[0m\u001b[1;34m\"span\"\u001b[0m\u001b[1;33m,\u001b[0m \u001b[0mattrs\u001b[0m\u001b[1;33m=\u001b[0m\u001b[1;33m{\u001b[0m\u001b[1;34m\"class\"\u001b[0m\u001b[1;33m:\u001b[0m\u001b[1;34m\"lemon--span__373c0__3997G text__373c0__2pB8f text-color--normal__373c0__K_MKN text-align--left__373c0__2pnx_\"\u001b[0m\u001b[1;33m}\u001b[0m\u001b[1;33m)\u001b[0m\u001b[1;33m\u001b[0m\u001b[0m\n\u001b[1;32m----> 2\u001b[1;33m \u001b[0mpage_num\u001b[0m \u001b[1;33m=\u001b[0m \u001b[0mpage_num\u001b[0m\u001b[1;33m.\u001b[0m\u001b[0mget_text\u001b[0m\u001b[1;33m(\u001b[0m\u001b[1;33m)\u001b[0m\u001b[1;33m.\u001b[0m\u001b[0msplit\u001b[0m\u001b[1;33m(\u001b[0m\u001b[1;34m\" \"\u001b[0m\u001b[1;33m)\u001b[0m\u001b[1;33m[\u001b[0m\u001b[1;36m3\u001b[0m\u001b[1;33m]\u001b[0m\u001b[1;33m\u001b[0m\u001b[0m\n\u001b[0m",
      "\u001b[1;31mAttributeError\u001b[0m: 'NoneType' object has no attribute 'get_text'"
     ]
    }
   ],
   "source": [
    "page_num = soup.find(\"span\", attrs={\"class\":\"lemon--span__373c0__3997G text__373c0__2pB8f text-color--normal__373c0__K_MKN text-align--left__373c0__2pnx_\"})\n",
    "page_num = page_num.get_text().split(\" \")[3]"
   ]
  },
  {
   "cell_type": "code",
   "execution_count": null,
   "metadata": {},
   "outputs": [],
   "source": []
  }
 ],
 "metadata": {
  "kernelspec": {
   "display_name": "text_mining",
   "language": "python",
   "name": "python3"
  },
  "language_info": {
   "codemirror_mode": {
    "name": "ipython",
    "version": 3
   },
   "file_extension": ".py",
   "mimetype": "text/x-python",
   "name": "python",
   "nbconvert_exporter": "python",
   "pygments_lexer": "ipython3",
   "version": "3.7.0"
  },
  "orig_nbformat": 4
 },
 "nbformat": 4,
 "nbformat_minor": 2
}
