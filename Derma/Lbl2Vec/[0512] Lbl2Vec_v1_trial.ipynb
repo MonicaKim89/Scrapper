{
 "cells": [
  {
   "cell_type": "code",
   "execution_count": 1,
   "metadata": {},
   "outputs": [],
   "source": [
    "from lbl2vec import Lbl2Vec\n",
    "import pandas as pd\n",
    "from gensim.utils import simple_preprocess\n",
    "from gensim.models.doc2vec import TaggedDocument\n",
    "from gensim.parsing.preprocessing import strip_tags\n",
    "from sklearn.metrics import f1_score"
   ]
  },
  {
   "cell_type": "markdown",
   "metadata": {},
   "source": [
    "### Data Load"
   ]
  },
  {
   "cell_type": "code",
   "execution_count": 20,
   "metadata": {},
   "outputs": [],
   "source": [
    "train_org = pd.read_excel(\"C:\\\\Users\\\\yukir\\\\Documents\\\\Monicas_workspace\\\\Derma_v2\\\\Lbl2Vec\\\\data_derma\\\\Lbl2Vec_data\\\\★★[0512]for_train.xlsx\",index_col=0)\n",
    "test_org = pd.read_excel(\"C:\\\\Users\\\\yukir\\\\Documents\\\\Monicas_workspace\\\\Derma_v2\\\\Lbl2Vec\\\\data_derma\\\\Lbl2Vec_data\\\\★★[0512]for_val.xlsx\",index_col=0)\n",
    "\n",
    "labels = pd.read_csv(\"C:\\\\Users\\\\yukir\\\\Documents\\\\Monicas_workspace\\\\Derma_v2\\\\Lbl2Vec\\\\data_derma\\\\Lbl2Vec_data\\\\★★(0513)labels_v4.csv\", sep =';')\n",
    "\n",
    "# split keywords by separator and save them as array\n",
    "labels['keywords'] = labels['keywords'].apply(lambda x: x.split(' '))\n",
    "\n",
    "# convert description keywords to lowercase\n",
    "labels['keywords'] = labels['keywords'].apply(lambda description_keywords: [keyword.lower() for keyword in description_keywords])\n",
    "\n",
    "# get number of keywords for each class\n",
    "labels['number_of_keywords'] = labels['keywords'].apply(lambda row: len(row))"
   ]
  },
  {
   "cell_type": "code",
   "execution_count": 23,
   "metadata": {},
   "outputs": [],
   "source": [
    "ag_train = train_org.copy()\n",
    "ag_test = test_org.copy()"
   ]
  },
  {
   "cell_type": "code",
   "execution_count": 21,
   "metadata": {},
   "outputs": [
    {
     "data": {
      "text/html": [
       "<div>\n",
       "<style scoped>\n",
       "    .dataframe tbody tr th:only-of-type {\n",
       "        vertical-align: middle;\n",
       "    }\n",
       "\n",
       "    .dataframe tbody tr th {\n",
       "        vertical-align: top;\n",
       "    }\n",
       "\n",
       "    .dataframe thead th {\n",
       "        text-align: right;\n",
       "    }\n",
       "</style>\n",
       "<table border=\"1\" class=\"dataframe\">\n",
       "  <thead>\n",
       "    <tr style=\"text-align: right;\">\n",
       "      <th></th>\n",
       "      <th>class_index</th>\n",
       "      <th>class_name</th>\n",
       "      <th>keywords</th>\n",
       "      <th>number_of_keywords</th>\n",
       "    </tr>\n",
       "  </thead>\n",
       "  <tbody>\n",
       "    <tr>\n",
       "      <th>0</th>\n",
       "      <td>1</td>\n",
       "      <td>Reliability</td>\n",
       "      <td>[진료, 치료, 설명, 처방, 시술, 주사, 효과, 제거, 가격, 해주시, 압출, ...</td>\n",
       "      <td>55</td>\n",
       "    </tr>\n",
       "    <tr>\n",
       "      <th>1</th>\n",
       "      <td>2</td>\n",
       "      <td>Responsiveness</td>\n",
       "      <td>[시간, 대기, 예약, 바로, 금방, 접수, 주말, 점심시간, 오전, 일찍, 당일,...</td>\n",
       "      <td>22</td>\n",
       "    </tr>\n",
       "    <tr>\n",
       "      <th>2</th>\n",
       "      <td>3</td>\n",
       "      <td>Assurance</td>\n",
       "      <td>[선생님, 의사, 직원, 원장님, 간호사, 관리, 실장, 안내, 전문의, 원장, 친...</td>\n",
       "      <td>59</td>\n",
       "    </tr>\n",
       "    <tr>\n",
       "      <th>3</th>\n",
       "      <td>4</td>\n",
       "      <td>Empathy</td>\n",
       "      <td>[상담, 추천, 도움, 말씀, 사항, 권유, 주의, 응대, 대답, 이야기, 이해, ...</td>\n",
       "      <td>35</td>\n",
       "    </tr>\n",
       "    <tr>\n",
       "      <th>4</th>\n",
       "      <td>5</td>\n",
       "      <td>Tangible</td>\n",
       "      <td>[병원, 시설, 근처, 내부, 데스크, 편이, 건물, 위치, 주차, 분위기, 의원,...</td>\n",
       "      <td>73</td>\n",
       "    </tr>\n",
       "  </tbody>\n",
       "</table>\n",
       "</div>"
      ],
      "text/plain": [
       "   class_index      class_name  \\\n",
       "0            1     Reliability   \n",
       "1            2  Responsiveness   \n",
       "2            3       Assurance   \n",
       "3            4         Empathy   \n",
       "4            5        Tangible   \n",
       "\n",
       "                                            keywords  number_of_keywords  \n",
       "0  [진료, 치료, 설명, 처방, 시술, 주사, 효과, 제거, 가격, 해주시, 압출, ...                  55  \n",
       "1  [시간, 대기, 예약, 바로, 금방, 접수, 주말, 점심시간, 오전, 일찍, 당일,...                  22  \n",
       "2  [선생님, 의사, 직원, 원장님, 간호사, 관리, 실장, 안내, 전문의, 원장, 친...                  59  \n",
       "3  [상담, 추천, 도움, 말씀, 사항, 권유, 주의, 응대, 대답, 이야기, 이해, ...                  35  \n",
       "4  [병원, 시설, 근처, 내부, 데스크, 편이, 건물, 위치, 주차, 분위기, 의원,...                  73  "
      ]
     },
     "execution_count": 21,
     "metadata": {},
     "output_type": "execute_result"
    }
   ],
   "source": [
    "labels"
   ]
  },
  {
   "cell_type": "code",
   "execution_count": 24,
   "metadata": {},
   "outputs": [
    {
     "data": {
      "text/html": [
       "<div>\n",
       "<style scoped>\n",
       "    .dataframe tbody tr th:only-of-type {\n",
       "        vertical-align: middle;\n",
       "    }\n",
       "\n",
       "    .dataframe tbody tr th {\n",
       "        vertical-align: top;\n",
       "    }\n",
       "\n",
       "    .dataframe thead th {\n",
       "        text-align: right;\n",
       "    }\n",
       "</style>\n",
       "<table border=\"1\" class=\"dataframe\">\n",
       "  <thead>\n",
       "    <tr style=\"text-align: right;\">\n",
       "      <th></th>\n",
       "      <th>class</th>\n",
       "      <th>sentence</th>\n",
       "    </tr>\n",
       "  </thead>\n",
       "  <tbody>\n",
       "    <tr>\n",
       "      <th>2634</th>\n",
       "      <td>4</td>\n",
       "      <td>주변에서 추천받고</td>\n",
       "    </tr>\n",
       "    <tr>\n",
       "      <th>211366</th>\n",
       "      <td>3</td>\n",
       "      <td>피부과 전문의 시고 정말 잘</td>\n",
       "    </tr>\n",
       "    <tr>\n",
       "      <th>222105</th>\n",
       "      <td>4</td>\n",
       "      <td>게 아주 만족했습니다 상담실장님 살짝 이것저것 권하셔서</td>\n",
       "    </tr>\n",
       "    <tr>\n",
       "      <th>147497</th>\n",
       "      <td>3</td>\n",
       "      <td>그것도 확인해보는 게</td>\n",
       "    </tr>\n",
       "    <tr>\n",
       "      <th>110297</th>\n",
       "      <td>2</td>\n",
       "      <td>1개씩 처방 가능하다고 하더라고요ᅲᅲ여러 개씩 해주는</td>\n",
       "    </tr>\n",
       "  </tbody>\n",
       "</table>\n",
       "</div>"
      ],
      "text/plain": [
       "        class                        sentence\n",
       "2634        4                       주변에서 추천받고\n",
       "211366      3                 피부과 전문의 시고 정말 잘\n",
       "222105      4  게 아주 만족했습니다 상담실장님 살짝 이것저것 권하셔서\n",
       "147497      3                     그것도 확인해보는 게\n",
       "110297      2   1개씩 처방 가능하다고 하더라고요ᅲᅲ여러 개씩 해주는"
      ]
     },
     "execution_count": 24,
     "metadata": {},
     "output_type": "execute_result"
    }
   ],
   "source": [
    "ag_train.head()"
   ]
  },
  {
   "cell_type": "markdown",
   "metadata": {},
   "source": [
    "### Tokenizeing"
   ]
  },
  {
   "cell_type": "code",
   "execution_count": 25,
   "metadata": {},
   "outputs": [],
   "source": [
    "# doc: document text string\n",
    "# returns tokenized document\n",
    "# strip_tags removes meta tags from the text\n",
    "# simple preprocess converts a document into a list of lowercase tokens, ignoring tokens that are too short or too long \n",
    "# simple preprocess also removes numerical values as well as punktuation characters\n",
    "def tokenize(doc):\n",
    "    return simple_preprocess(strip_tags(doc), deacc=True, min_len=2, max_len=15)"
   ]
  },
  {
   "cell_type": "code",
   "execution_count": 26,
   "metadata": {},
   "outputs": [],
   "source": [
    "# add data set type column\n",
    "ag_train['data_set_type'] = 'train'\n",
    "ag_test['data_set_type'] = 'test'\n",
    "\n",
    "# concat train and test data\n",
    "ag_full_corpus = pd.concat([ag_train,ag_test]).reset_index(drop=True)"
   ]
  },
  {
   "cell_type": "code",
   "execution_count": 27,
   "metadata": {},
   "outputs": [
    {
     "data": {
      "text/html": [
       "<div>\n",
       "<style scoped>\n",
       "    .dataframe tbody tr th:only-of-type {\n",
       "        vertical-align: middle;\n",
       "    }\n",
       "\n",
       "    .dataframe tbody tr th {\n",
       "        vertical-align: top;\n",
       "    }\n",
       "\n",
       "    .dataframe thead th {\n",
       "        text-align: right;\n",
       "    }\n",
       "</style>\n",
       "<table border=\"1\" class=\"dataframe\">\n",
       "  <thead>\n",
       "    <tr style=\"text-align: right;\">\n",
       "      <th></th>\n",
       "      <th>class</th>\n",
       "      <th>sentence</th>\n",
       "      <th>data_set_type</th>\n",
       "    </tr>\n",
       "  </thead>\n",
       "  <tbody>\n",
       "    <tr>\n",
       "      <th>0</th>\n",
       "      <td>4</td>\n",
       "      <td>주변에서 추천받고</td>\n",
       "      <td>train</td>\n",
       "    </tr>\n",
       "    <tr>\n",
       "      <th>1</th>\n",
       "      <td>3</td>\n",
       "      <td>피부과 전문의 시고 정말 잘</td>\n",
       "      <td>train</td>\n",
       "    </tr>\n",
       "    <tr>\n",
       "      <th>2</th>\n",
       "      <td>4</td>\n",
       "      <td>게 아주 만족했습니다 상담실장님 살짝 이것저것 권하셔서</td>\n",
       "      <td>train</td>\n",
       "    </tr>\n",
       "    <tr>\n",
       "      <th>3</th>\n",
       "      <td>3</td>\n",
       "      <td>그것도 확인해보는 게</td>\n",
       "      <td>train</td>\n",
       "    </tr>\n",
       "    <tr>\n",
       "      <th>4</th>\n",
       "      <td>2</td>\n",
       "      <td>1개씩 처방 가능하다고 하더라고요ᅲᅲ여러 개씩 해주는</td>\n",
       "      <td>train</td>\n",
       "    </tr>\n",
       "  </tbody>\n",
       "</table>\n",
       "</div>"
      ],
      "text/plain": [
       "   class                        sentence data_set_type\n",
       "0      4                       주변에서 추천받고         train\n",
       "1      3                 피부과 전문의 시고 정말 잘         train\n",
       "2      4  게 아주 만족했습니다 상담실장님 살짝 이것저것 권하셔서         train\n",
       "3      3                     그것도 확인해보는 게         train\n",
       "4      2   1개씩 처방 가능하다고 하더라고요ᅲᅲ여러 개씩 해주는         train"
      ]
     },
     "execution_count": 27,
     "metadata": {},
     "output_type": "execute_result"
    }
   ],
   "source": [
    "ag_full_corpus.head()"
   ]
  },
  {
   "cell_type": "code",
   "execution_count": 29,
   "metadata": {},
   "outputs": [],
   "source": [
    "# tokenize and tag documents combined title + description for Lbl2Vec training\n",
    "ag_full_corpus['tagged_docs'] = ag_full_corpus.apply(lambda row: TaggedDocument(tokenize(row['sentence']), [str(row.name)]), axis=1)"
   ]
  },
  {
   "cell_type": "code",
   "execution_count": 30,
   "metadata": {},
   "outputs": [
    {
     "data": {
      "text/html": [
       "<div>\n",
       "<style scoped>\n",
       "    .dataframe tbody tr th:only-of-type {\n",
       "        vertical-align: middle;\n",
       "    }\n",
       "\n",
       "    .dataframe tbody tr th {\n",
       "        vertical-align: top;\n",
       "    }\n",
       "\n",
       "    .dataframe thead th {\n",
       "        text-align: right;\n",
       "    }\n",
       "</style>\n",
       "<table border=\"1\" class=\"dataframe\">\n",
       "  <thead>\n",
       "    <tr style=\"text-align: right;\">\n",
       "      <th></th>\n",
       "      <th>class</th>\n",
       "      <th>sentence</th>\n",
       "      <th>data_set_type</th>\n",
       "      <th>tagged_docs</th>\n",
       "    </tr>\n",
       "  </thead>\n",
       "  <tbody>\n",
       "    <tr>\n",
       "      <th>0</th>\n",
       "      <td>4</td>\n",
       "      <td>주변에서 추천받고</td>\n",
       "      <td>train</td>\n",
       "      <td>([주변에서, 추천받고], [0])</td>\n",
       "    </tr>\n",
       "    <tr>\n",
       "      <th>1</th>\n",
       "      <td>3</td>\n",
       "      <td>피부과 전문의 시고 정말 잘</td>\n",
       "      <td>train</td>\n",
       "      <td>([피부과, 전문의, 시고, 정말], [1])</td>\n",
       "    </tr>\n",
       "    <tr>\n",
       "      <th>2</th>\n",
       "      <td>4</td>\n",
       "      <td>게 아주 만족했습니다 상담실장님 살짝 이것저것 권하셔서</td>\n",
       "      <td>train</td>\n",
       "      <td>([아주, 만족했습니다, 상담실장님, 살짝, 이것저것, 권하셔서], [2])</td>\n",
       "    </tr>\n",
       "    <tr>\n",
       "      <th>3</th>\n",
       "      <td>3</td>\n",
       "      <td>그것도 확인해보는 게</td>\n",
       "      <td>train</td>\n",
       "      <td>([그것도, 확인해보는], [3])</td>\n",
       "    </tr>\n",
       "    <tr>\n",
       "      <th>4</th>\n",
       "      <td>2</td>\n",
       "      <td>1개씩 처방 가능하다고 하더라고요ᅲᅲ여러 개씩 해주는</td>\n",
       "      <td>train</td>\n",
       "      <td>([개씩, 처방, 가능하다고, 하더라고요ᅲᅲ여러, 개씩, 해주는], [4])</td>\n",
       "    </tr>\n",
       "  </tbody>\n",
       "</table>\n",
       "</div>"
      ],
      "text/plain": [
       "   class                        sentence data_set_type  \\\n",
       "0      4                       주변에서 추천받고         train   \n",
       "1      3                 피부과 전문의 시고 정말 잘         train   \n",
       "2      4  게 아주 만족했습니다 상담실장님 살짝 이것저것 권하셔서         train   \n",
       "3      3                     그것도 확인해보는 게         train   \n",
       "4      2   1개씩 처방 가능하다고 하더라고요ᅲᅲ여러 개씩 해주는         train   \n",
       "\n",
       "                                  tagged_docs  \n",
       "0                         ([주변에서, 추천받고], [0])  \n",
       "1                   ([피부과, 전문의, 시고, 정말], [1])  \n",
       "2  ([아주, 만족했습니다, 상담실장님, 살짝, 이것저것, 권하셔서], [2])  \n",
       "3                         ([그것도, 확인해보는], [3])  \n",
       "4  ([개씩, 처방, 가능하다고, 하더라고요ᅲᅲ여러, 개씩, 해주는], [4])  "
      ]
     },
     "execution_count": 30,
     "metadata": {},
     "output_type": "execute_result"
    }
   ],
   "source": [
    "ag_full_corpus.head()"
   ]
  },
  {
   "cell_type": "code",
   "execution_count": 31,
   "metadata": {},
   "outputs": [
    {
     "data": {
      "text/plain": [
       "0                                       ([주변에서, 추천받고], [0])\n",
       "1                                 ([피부과, 전문의, 시고, 정말], [1])\n",
       "2                ([아주, 만족했습니다, 상담실장님, 살짝, 이것저것, 권하셔서], [2])\n",
       "3                                       ([그것도, 확인해보는], [3])\n",
       "4                ([개씩, 처방, 가능하다고, 하더라고요ᅲᅲ여러, 개씩, 해주는], [4])\n",
       "                                ...                        \n",
       "167124       ([어려워요ㅋ, 카운터, 보시는, 분이, 기계적이라, 예약하는], [167124])\n",
       "167125                      ([그래도, 친절한, 느낌이었습니다], [167125])\n",
       "167126                      ([정도에요, 대기도, 많지, 않고], [167126])\n",
       "167127    ([희미, 원장님, 진짜, 친절하고, 실력도, 좋으시고, 너무, 좋아요, 돈만, 있...\n",
       "167128    ([이분은, 뭔가, 그중에서도, 비교적, 태도가, 좋으신, 느낌, 근데, 설명은, ...\n",
       "Name: tagged_docs, Length: 167129, dtype: object"
      ]
     },
     "execution_count": 31,
     "metadata": {},
     "output_type": "execute_result"
    }
   ],
   "source": [
    "ag_full_corpus.tagged_docs"
   ]
  },
  {
   "cell_type": "code",
   "execution_count": 32,
   "metadata": {},
   "outputs": [],
   "source": [
    "# add doc_key column\n",
    "ag_full_corpus['doc_key'] = ag_full_corpus.index.astype(str)"
   ]
  },
  {
   "cell_type": "code",
   "execution_count": 33,
   "metadata": {},
   "outputs": [],
   "source": [
    "# add class_name column\n",
    "ag_full_corpus = ag_full_corpus.merge(labels, left_on='class', right_on='class_index', how='left').drop(['class', 'keywords'], axis=1)"
   ]
  },
  {
   "cell_type": "code",
   "execution_count": 34,
   "metadata": {},
   "outputs": [
    {
     "data": {
      "text/html": [
       "<div>\n",
       "<style scoped>\n",
       "    .dataframe tbody tr th:only-of-type {\n",
       "        vertical-align: middle;\n",
       "    }\n",
       "\n",
       "    .dataframe tbody tr th {\n",
       "        vertical-align: top;\n",
       "    }\n",
       "\n",
       "    .dataframe thead th {\n",
       "        text-align: right;\n",
       "    }\n",
       "</style>\n",
       "<table border=\"1\" class=\"dataframe\">\n",
       "  <thead>\n",
       "    <tr style=\"text-align: right;\">\n",
       "      <th></th>\n",
       "      <th>sentence</th>\n",
       "      <th>data_set_type</th>\n",
       "      <th>tagged_docs</th>\n",
       "      <th>doc_key</th>\n",
       "      <th>class_index</th>\n",
       "      <th>class_name</th>\n",
       "      <th>number_of_keywords</th>\n",
       "    </tr>\n",
       "  </thead>\n",
       "  <tbody>\n",
       "    <tr>\n",
       "      <th>0</th>\n",
       "      <td>주변에서 추천받고</td>\n",
       "      <td>train</td>\n",
       "      <td>([주변에서, 추천받고], [0])</td>\n",
       "      <td>0</td>\n",
       "      <td>4</td>\n",
       "      <td>Empathy</td>\n",
       "      <td>35</td>\n",
       "    </tr>\n",
       "    <tr>\n",
       "      <th>1</th>\n",
       "      <td>피부과 전문의 시고 정말 잘</td>\n",
       "      <td>train</td>\n",
       "      <td>([피부과, 전문의, 시고, 정말], [1])</td>\n",
       "      <td>1</td>\n",
       "      <td>3</td>\n",
       "      <td>Assurance</td>\n",
       "      <td>59</td>\n",
       "    </tr>\n",
       "    <tr>\n",
       "      <th>2</th>\n",
       "      <td>게 아주 만족했습니다 상담실장님 살짝 이것저것 권하셔서</td>\n",
       "      <td>train</td>\n",
       "      <td>([아주, 만족했습니다, 상담실장님, 살짝, 이것저것, 권하셔서], [2])</td>\n",
       "      <td>2</td>\n",
       "      <td>4</td>\n",
       "      <td>Empathy</td>\n",
       "      <td>35</td>\n",
       "    </tr>\n",
       "    <tr>\n",
       "      <th>3</th>\n",
       "      <td>그것도 확인해보는 게</td>\n",
       "      <td>train</td>\n",
       "      <td>([그것도, 확인해보는], [3])</td>\n",
       "      <td>3</td>\n",
       "      <td>3</td>\n",
       "      <td>Assurance</td>\n",
       "      <td>59</td>\n",
       "    </tr>\n",
       "    <tr>\n",
       "      <th>4</th>\n",
       "      <td>1개씩 처방 가능하다고 하더라고요ᅲᅲ여러 개씩 해주는</td>\n",
       "      <td>train</td>\n",
       "      <td>([개씩, 처방, 가능하다고, 하더라고요ᅲᅲ여러, 개씩, 해주는], [4])</td>\n",
       "      <td>4</td>\n",
       "      <td>2</td>\n",
       "      <td>Responsiveness</td>\n",
       "      <td>22</td>\n",
       "    </tr>\n",
       "  </tbody>\n",
       "</table>\n",
       "</div>"
      ],
      "text/plain": [
       "                         sentence data_set_type  \\\n",
       "0                       주변에서 추천받고         train   \n",
       "1                 피부과 전문의 시고 정말 잘         train   \n",
       "2  게 아주 만족했습니다 상담실장님 살짝 이것저것 권하셔서         train   \n",
       "3                     그것도 확인해보는 게         train   \n",
       "4   1개씩 처방 가능하다고 하더라고요ᅲᅲ여러 개씩 해주는         train   \n",
       "\n",
       "                                  tagged_docs doc_key  class_index  \\\n",
       "0                         ([주변에서, 추천받고], [0])       0            4   \n",
       "1                   ([피부과, 전문의, 시고, 정말], [1])       1            3   \n",
       "2  ([아주, 만족했습니다, 상담실장님, 살짝, 이것저것, 권하셔서], [2])       2            4   \n",
       "3                         ([그것도, 확인해보는], [3])       3            3   \n",
       "4  ([개씩, 처방, 가능하다고, 하더라고요ᅲᅲ여러, 개씩, 해주는], [4])       4            2   \n",
       "\n",
       "       class_name  number_of_keywords  \n",
       "0         Empathy                  35  \n",
       "1       Assurance                  59  \n",
       "2         Empathy                  35  \n",
       "3       Assurance                  59  \n",
       "4  Responsiveness                  22  "
      ]
     },
     "execution_count": 34,
     "metadata": {},
     "output_type": "execute_result"
    }
   ],
   "source": [
    "ag_full_corpus.head()"
   ]
  },
  {
   "cell_type": "markdown",
   "metadata": {},
   "source": [
    "### Train Lbl2Vec"
   ]
  },
  {
   "cell_type": "code",
   "execution_count": 37,
   "metadata": {},
   "outputs": [],
   "source": [
    "# init model with parameters\n",
    "# 실제로 데이터셋에서 labeled class를 쓰진않음\n",
    "lbl2vec_model = Lbl2Vec(keywords_list=list(labels['keywords']), tagged_documents=ag_full_corpus['tagged_docs'][ag_full_corpus['data_set_type']=='train'], label_names=list(labels['class_name']), similarity_threshold=0.30, min_num_docs=100, epochs=10)"
   ]
  },
  {
   "cell_type": "code",
   "execution_count": 38,
   "metadata": {},
   "outputs": [
    {
     "name": "stderr",
     "output_type": "stream",
     "text": [
      "2022-05-13 00:30:43,793 - Lbl2Vec - INFO - Train document and word embeddings\n",
      "2022-05-13 00:32:33,312 - Lbl2Vec - INFO - Train label embeddings\n",
      "2022-05-13 00:32:33,313 - Lbl2Vec - WARNING - The following keywords from the 'keywords_list' are unknown to the Doc2Vec model and therefore not used to train the model: 해주시 과잉 호전 낫다 합리 리프 해결 차도 야간 무료 프로그램 계산 안정 문진 정품 인증 절차 의학 일회용 진료기록 시슬 외래 초진비 예약금 정품팁 일회용품 증명\n",
      "2022-05-13 00:32:33,553 - Lbl2Vec - WARNING - The following keywords from the 'keywords_list' are unknown to the Doc2Vec model and therefore not used to train the model: 시간대 스피드 사전예약 신속 근무시간 시간표 출근시간 스피디\n",
      "2022-05-13 00:32:33,743 - Lbl2Vec - WARNING - The following keywords from the 'keywords_list' are unknown to the Doc2Vec model and therefore not used to train the model: 상세 대표 정보 태도 간호조무사 경력 조무사 전문성 대가 성의껏 상담사 전문가 약사 약속 스태프 여직원 노하우 부원장 간호원 츤데레 책임 관리자 관리인 조무 남의사 인간미 내직원 관리원 전문화 전문직 열성 상담전문가 전문점\n",
      "2022-05-13 00:32:33,940 - Lbl2Vec - WARNING - The following keywords from the 'keywords_list' are unknown to the Doc2Vec model and therefore not used to train the model: 안심 요청 배려 공감 조언 상담시 의사소통 개개인 유의사항 문의사항 해설 해주다 질의 피부관리법 개인정보 유지관리 요구사항 금사항 의사결정\n",
      "2022-05-13 00:32:34,129 - Lbl2Vec - WARNING - The following keywords from the 'keywords_list' are unknown to the Doc2Vec model and therefore not used to train the model: 기계 거리 공간 위생 화장실 규모 지역 교통 최신 개원 실내 멀리 강남역 베드 홈페이지 이미지 기기 대중교통 버스 탈의실 주차공간 인근 기계로 로비 낙후 체인점 아파트 도보 배드 탈의 음악 수술실 프랜차이즈 맛집 편리 사무실 본점 본원 의료기기 비위생적 테이블 종합병원 정리정돈 개인실 허름해 클래식 정거장 최신기 깨끗햇어 깨끗햇는데 지하철도\n"
     ]
    }
   ],
   "source": [
    "# train model\n",
    "lbl2vec_model.fit()"
   ]
  },
  {
   "cell_type": "code",
   "execution_count": null,
   "metadata": {},
   "outputs": [],
   "source": []
  },
  {
   "cell_type": "markdown",
   "metadata": {},
   "source": [
    "### Predict"
   ]
  },
  {
   "cell_type": "code",
   "execution_count": 39,
   "metadata": {},
   "outputs": [
    {
     "name": "stderr",
     "output_type": "stream",
     "text": [
      "2022-05-13 01:00:33,271 - Lbl2Vec - INFO - Get document embeddings from model\n",
      "2022-05-13 01:00:33,367 - Lbl2Vec - INFO - Calculate document<->label similarities\n"
     ]
    }
   ],
   "source": [
    "# predict similarity scores\n",
    "model_docs_lbl_similarities = lbl2vec_model.predict_model_docs()"
   ]
  },
  {
   "cell_type": "code",
   "execution_count": 40,
   "metadata": {},
   "outputs": [
    {
     "data": {
      "text/html": [
       "<div>\n",
       "<style scoped>\n",
       "    .dataframe tbody tr th:only-of-type {\n",
       "        vertical-align: middle;\n",
       "    }\n",
       "\n",
       "    .dataframe tbody tr th {\n",
       "        vertical-align: top;\n",
       "    }\n",
       "\n",
       "    .dataframe thead th {\n",
       "        text-align: right;\n",
       "    }\n",
       "</style>\n",
       "<table border=\"1\" class=\"dataframe\">\n",
       "  <thead>\n",
       "    <tr style=\"text-align: right;\">\n",
       "      <th></th>\n",
       "      <th>doc_key</th>\n",
       "      <th>most_similar_label</th>\n",
       "      <th>highest_similarity_score</th>\n",
       "      <th>Reliability</th>\n",
       "      <th>Responsiveness</th>\n",
       "      <th>Assurance</th>\n",
       "      <th>Empathy</th>\n",
       "      <th>Tangible</th>\n",
       "    </tr>\n",
       "  </thead>\n",
       "  <tbody>\n",
       "    <tr>\n",
       "      <th>0</th>\n",
       "      <td>0</td>\n",
       "      <td>Tangible</td>\n",
       "      <td>0.932575</td>\n",
       "      <td>0.932574</td>\n",
       "      <td>0.932572</td>\n",
       "      <td>0.932569</td>\n",
       "      <td>0.932571</td>\n",
       "      <td>0.932575</td>\n",
       "    </tr>\n",
       "    <tr>\n",
       "      <th>1</th>\n",
       "      <td>1</td>\n",
       "      <td>Responsiveness</td>\n",
       "      <td>0.740074</td>\n",
       "      <td>0.740056</td>\n",
       "      <td>0.740074</td>\n",
       "      <td>0.740058</td>\n",
       "      <td>0.740072</td>\n",
       "      <td>0.740072</td>\n",
       "    </tr>\n",
       "    <tr>\n",
       "      <th>2</th>\n",
       "      <td>2</td>\n",
       "      <td>Empathy</td>\n",
       "      <td>0.913169</td>\n",
       "      <td>0.913162</td>\n",
       "      <td>0.913168</td>\n",
       "      <td>0.913167</td>\n",
       "      <td>0.913169</td>\n",
       "      <td>0.913158</td>\n",
       "    </tr>\n",
       "    <tr>\n",
       "      <th>3</th>\n",
       "      <td>3</td>\n",
       "      <td>Reliability</td>\n",
       "      <td>0.899278</td>\n",
       "      <td>0.899278</td>\n",
       "      <td>0.899275</td>\n",
       "      <td>0.899273</td>\n",
       "      <td>0.899274</td>\n",
       "      <td>0.899278</td>\n",
       "    </tr>\n",
       "    <tr>\n",
       "      <th>4</th>\n",
       "      <td>4</td>\n",
       "      <td>Empathy</td>\n",
       "      <td>0.959550</td>\n",
       "      <td>0.959539</td>\n",
       "      <td>0.959548</td>\n",
       "      <td>0.959545</td>\n",
       "      <td>0.959550</td>\n",
       "      <td>0.959548</td>\n",
       "    </tr>\n",
       "  </tbody>\n",
       "</table>\n",
       "</div>"
      ],
      "text/plain": [
       "  doc_key most_similar_label  highest_similarity_score  Reliability  \\\n",
       "0       0           Tangible                  0.932575     0.932574   \n",
       "1       1     Responsiveness                  0.740074     0.740056   \n",
       "2       2            Empathy                  0.913169     0.913162   \n",
       "3       3        Reliability                  0.899278     0.899278   \n",
       "4       4            Empathy                  0.959550     0.959539   \n",
       "\n",
       "   Responsiveness  Assurance   Empathy  Tangible  \n",
       "0        0.932572   0.932569  0.932571  0.932575  \n",
       "1        0.740074   0.740058  0.740072  0.740072  \n",
       "2        0.913168   0.913167  0.913169  0.913158  \n",
       "3        0.899275   0.899273  0.899274  0.899278  \n",
       "4        0.959548   0.959545  0.959550  0.959548  "
      ]
     },
     "execution_count": 40,
     "metadata": {},
     "output_type": "execute_result"
    }
   ],
   "source": [
    "#서로 중복되는게 많아서 그럴 수도 있음\n",
    "model_docs_lbl_similarities.head()"
   ]
  },
  {
   "cell_type": "code",
   "execution_count": null,
   "metadata": {},
   "outputs": [
    {
     "data": {
      "text/html": [
       "<div>\n",
       "<style scoped>\n",
       "    .dataframe tbody tr th:only-of-type {\n",
       "        vertical-align: middle;\n",
       "    }\n",
       "\n",
       "    .dataframe tbody tr th {\n",
       "        vertical-align: top;\n",
       "    }\n",
       "\n",
       "    .dataframe thead th {\n",
       "        text-align: right;\n",
       "    }\n",
       "</style>\n",
       "<table border=\"1\" class=\"dataframe\">\n",
       "  <thead>\n",
       "    <tr style=\"text-align: right;\">\n",
       "      <th></th>\n",
       "      <th>doc_key</th>\n",
       "      <th>most_similar_label</th>\n",
       "      <th>highest_similarity_score</th>\n",
       "      <th>Reliability</th>\n",
       "      <th>Responsiveness</th>\n",
       "      <th>Assurance</th>\n",
       "      <th>Empathy</th>\n",
       "      <th>Tangible</th>\n",
       "    </tr>\n",
       "  </thead>\n",
       "  <tbody>\n",
       "    <tr>\n",
       "      <th>0</th>\n",
       "      <td>0</td>\n",
       "      <td>Tangible</td>\n",
       "      <td>0.932575</td>\n",
       "      <td>0.932574</td>\n",
       "      <td>0.932572</td>\n",
       "      <td>0.932569</td>\n",
       "      <td>0.932571</td>\n",
       "      <td>0.932575</td>\n",
       "    </tr>\n",
       "    <tr>\n",
       "      <th>1</th>\n",
       "      <td>1</td>\n",
       "      <td>Responsiveness</td>\n",
       "      <td>0.740074</td>\n",
       "      <td>0.740056</td>\n",
       "      <td>0.740074</td>\n",
       "      <td>0.740058</td>\n",
       "      <td>0.740072</td>\n",
       "      <td>0.740072</td>\n",
       "    </tr>\n",
       "    <tr>\n",
       "      <th>2</th>\n",
       "      <td>2</td>\n",
       "      <td>Empathy</td>\n",
       "      <td>0.913169</td>\n",
       "      <td>0.913162</td>\n",
       "      <td>0.913168</td>\n",
       "      <td>0.913167</td>\n",
       "      <td>0.913169</td>\n",
       "      <td>0.913158</td>\n",
       "    </tr>\n",
       "    <tr>\n",
       "      <th>3</th>\n",
       "      <td>3</td>\n",
       "      <td>Reliability</td>\n",
       "      <td>0.899278</td>\n",
       "      <td>0.899278</td>\n",
       "      <td>0.899275</td>\n",
       "      <td>0.899273</td>\n",
       "      <td>0.899274</td>\n",
       "      <td>0.899278</td>\n",
       "    </tr>\n",
       "    <tr>\n",
       "      <th>4</th>\n",
       "      <td>4</td>\n",
       "      <td>Empathy</td>\n",
       "      <td>0.959550</td>\n",
       "      <td>0.959539</td>\n",
       "      <td>0.959548</td>\n",
       "      <td>0.959545</td>\n",
       "      <td>0.959550</td>\n",
       "      <td>0.959548</td>\n",
       "    </tr>\n",
       "  </tbody>\n",
       "</table>\n",
       "</div>"
      ],
      "text/plain": [
       "  doc_key most_similar_label  highest_similarity_score  Reliability  \\\n",
       "0       0           Tangible                  0.932575     0.932574   \n",
       "1       1     Responsiveness                  0.740074     0.740056   \n",
       "2       2            Empathy                  0.913169     0.913162   \n",
       "3       3        Reliability                  0.899278     0.899278   \n",
       "4       4            Empathy                  0.959550     0.959539   \n",
       "\n",
       "   Responsiveness  Assurance   Empathy  Tangible  \n",
       "0        0.932572   0.932569  0.932571  0.932575  \n",
       "1        0.740074   0.740058  0.740072  0.740072  \n",
       "2        0.913168   0.913167  0.913169  0.913158  \n",
       "3        0.899275   0.899273  0.899274  0.899278  \n",
       "4        0.959548   0.959545  0.959550  0.959548  "
      ]
     },
     "metadata": {},
     "output_type": "display_data"
    }
   ],
   "source": [
    "#서로 중복되는게 많아서 그럴 수도 있음\n",
    "model_docs_lbl_similarities.head()"
   ]
  },
  {
   "cell_type": "markdown",
   "metadata": {},
   "source": [
    "### Evaluation"
   ]
  },
  {
   "cell_type": "code",
   "execution_count": 41,
   "metadata": {},
   "outputs": [],
   "source": [
    "# merge DataFrames to compare the predicted and true topic labels\n",
    "evaluation_train = model_docs_lbl_similarities.merge(ag_full_corpus[ag_full_corpus['data_set_type']=='train'], left_on='doc_key', right_on='doc_key')"
   ]
  },
  {
   "cell_type": "code",
   "execution_count": 42,
   "metadata": {},
   "outputs": [
    {
     "name": "stdout",
     "output_type": "stream",
     "text": [
      "F1 score: 0.23305385817820093\n"
     ]
    }
   ],
   "source": [
    "y_true_train = evaluation_train['class_name']\n",
    "y_pred_train = evaluation_train['most_similar_label']\n",
    "print('F1 score:',f1_score(y_true_train, y_pred_train, average='micro'))"
   ]
  },
  {
   "cell_type": "markdown",
   "metadata": {},
   "source": [
    "### Predict"
   ]
  },
  {
   "cell_type": "markdown",
   "metadata": {},
   "source": [
    "# predict similarity scores of new test documents (they were not used during Lbl2Vec training)\n",
    "new_docs_lbl_similarities = lbl2vec_model.predict_new_docs(tagged_docs=ag_full_corpus['tagged_docs'][ag_full_corpus['data_set_type']=='test'])"
   ]
  },
  {
   "cell_type": "code",
   "execution_count": 43,
   "metadata": {},
   "outputs": [
    {
     "name": "stderr",
     "output_type": "stream",
     "text": [
      "2022-05-13 01:40:40,171 - Lbl2Vec - INFO - Calculate document embeddings\n",
      "2022-05-13 01:40:46,172 - Lbl2Vec - INFO - Calculate document<->label similarities\n"
     ]
    }
   ],
   "source": [
    "# predict similarity scores of new test documents (they were not used during Lbl2Vec training)\n",
    "new_docs_lbl_similarities = lbl2vec_model.predict_new_docs(tagged_docs=ag_full_corpus['tagged_docs'][ag_full_corpus['data_set_type']=='test'])"
   ]
  },
  {
   "cell_type": "code",
   "execution_count": 44,
   "metadata": {},
   "outputs": [
    {
     "data": {
      "text/html": [
       "<div>\n",
       "<style scoped>\n",
       "    .dataframe tbody tr th:only-of-type {\n",
       "        vertical-align: middle;\n",
       "    }\n",
       "\n",
       "    .dataframe tbody tr th {\n",
       "        vertical-align: top;\n",
       "    }\n",
       "\n",
       "    .dataframe thead th {\n",
       "        text-align: right;\n",
       "    }\n",
       "</style>\n",
       "<table border=\"1\" class=\"dataframe\">\n",
       "  <thead>\n",
       "    <tr style=\"text-align: right;\">\n",
       "      <th></th>\n",
       "      <th>doc_key</th>\n",
       "      <th>most_similar_label</th>\n",
       "      <th>highest_similarity_score</th>\n",
       "      <th>Reliability</th>\n",
       "      <th>Responsiveness</th>\n",
       "      <th>Assurance</th>\n",
       "      <th>Empathy</th>\n",
       "      <th>Tangible</th>\n",
       "    </tr>\n",
       "  </thead>\n",
       "  <tbody>\n",
       "    <tr>\n",
       "      <th>0</th>\n",
       "      <td>133703</td>\n",
       "      <td>Tangible</td>\n",
       "      <td>-0.002174</td>\n",
       "      <td>-0.002176</td>\n",
       "      <td>-0.002176</td>\n",
       "      <td>-0.002177</td>\n",
       "      <td>-0.002176</td>\n",
       "      <td>-0.002174</td>\n",
       "    </tr>\n",
       "    <tr>\n",
       "      <th>1</th>\n",
       "      <td>133704</td>\n",
       "      <td>Reliability</td>\n",
       "      <td>0.749737</td>\n",
       "      <td>0.749737</td>\n",
       "      <td>0.749716</td>\n",
       "      <td>0.749728</td>\n",
       "      <td>0.749713</td>\n",
       "      <td>0.749714</td>\n",
       "    </tr>\n",
       "    <tr>\n",
       "      <th>2</th>\n",
       "      <td>133705</td>\n",
       "      <td>Empathy</td>\n",
       "      <td>0.679435</td>\n",
       "      <td>0.679422</td>\n",
       "      <td>0.679434</td>\n",
       "      <td>0.679433</td>\n",
       "      <td>0.679435</td>\n",
       "      <td>0.679411</td>\n",
       "    </tr>\n",
       "    <tr>\n",
       "      <th>3</th>\n",
       "      <td>133706</td>\n",
       "      <td>Tangible</td>\n",
       "      <td>0.871421</td>\n",
       "      <td>0.871405</td>\n",
       "      <td>0.871416</td>\n",
       "      <td>0.871403</td>\n",
       "      <td>0.871413</td>\n",
       "      <td>0.871421</td>\n",
       "    </tr>\n",
       "    <tr>\n",
       "      <th>4</th>\n",
       "      <td>133707</td>\n",
       "      <td>Responsiveness</td>\n",
       "      <td>0.826436</td>\n",
       "      <td>0.826421</td>\n",
       "      <td>0.826436</td>\n",
       "      <td>0.826420</td>\n",
       "      <td>0.826433</td>\n",
       "      <td>0.826429</td>\n",
       "    </tr>\n",
       "  </tbody>\n",
       "</table>\n",
       "</div>"
      ],
      "text/plain": [
       "  doc_key most_similar_label  highest_similarity_score  Reliability  \\\n",
       "0  133703           Tangible                 -0.002174    -0.002176   \n",
       "1  133704        Reliability                  0.749737     0.749737   \n",
       "2  133705            Empathy                  0.679435     0.679422   \n",
       "3  133706           Tangible                  0.871421     0.871405   \n",
       "4  133707     Responsiveness                  0.826436     0.826421   \n",
       "\n",
       "   Responsiveness  Assurance   Empathy  Tangible  \n",
       "0       -0.002176  -0.002177 -0.002176 -0.002174  \n",
       "1        0.749716   0.749728  0.749713  0.749714  \n",
       "2        0.679434   0.679433  0.679435  0.679411  \n",
       "3        0.871416   0.871403  0.871413  0.871421  \n",
       "4        0.826436   0.826420  0.826433  0.826429  "
      ]
     },
     "execution_count": 44,
     "metadata": {},
     "output_type": "execute_result"
    }
   ],
   "source": [
    "new_docs_lbl_similarities.head()"
   ]
  },
  {
   "cell_type": "code",
   "execution_count": 45,
   "metadata": {},
   "outputs": [],
   "source": [
    "# merge DataFrames to compare the predicted and true topic labels\n",
    "evaluation_test = new_docs_lbl_similarities.merge(ag_full_corpus[ag_full_corpus['data_set_type']=='test'], left_on='doc_key', right_on='doc_key')"
   ]
  },
  {
   "cell_type": "code",
   "execution_count": 46,
   "metadata": {},
   "outputs": [
    {
     "name": "stdout",
     "output_type": "stream",
     "text": [
      "F1 score: 0.22078621432417878\n"
     ]
    }
   ],
   "source": [
    "y_true_test = evaluation_test['class_name']\n",
    "y_pred_test = evaluation_test['most_similar_label']\n",
    "print('F1 score:',f1_score(y_true_test, y_pred_test, average='micro'))"
   ]
  },
  {
   "cell_type": "code",
   "execution_count": null,
   "metadata": {},
   "outputs": [],
   "source": []
  }
 ],
 "metadata": {
  "interpreter": {
   "hash": "b131aa79fbb012ccd5fe9686ca8fc5b84b44b90404dbf3b7f41759e12b8001b3"
  },
  "kernelspec": {
   "display_name": "Python 3.8.11 ('NLP')",
   "language": "python",
   "name": "python3"
  },
  "language_info": {
   "codemirror_mode": {
    "name": "ipython",
    "version": 3
   },
   "file_extension": ".py",
   "mimetype": "text/x-python",
   "name": "python",
   "nbconvert_exporter": "python",
   "pygments_lexer": "ipython3",
   "version": "3.8.11"
  },
  "orig_nbformat": 4
 },
 "nbformat": 4,
 "nbformat_minor": 2
}
