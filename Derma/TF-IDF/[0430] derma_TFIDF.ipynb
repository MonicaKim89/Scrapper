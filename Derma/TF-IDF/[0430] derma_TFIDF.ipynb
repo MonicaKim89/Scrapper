{
 "cells": [
  {
   "cell_type": "code",
   "execution_count": 1,
   "metadata": {},
   "outputs": [
    {
     "name": "stdout",
     "output_type": "stream",
     "text": [
      "C:\\Users\\yukir\\Documents\\GitHub\\Text_Mining\\py\n",
      "True\n",
      "[name: \"/device:CPU:0\"\n",
      "device_type: \"CPU\"\n",
      "memory_limit: 268435456\n",
      "locality {\n",
      "}\n",
      "incarnation: 13292188212082574544\n",
      "]\n",
      "tf 2.5.3\n",
      "set_global_determinism(seed=1337) 이거 꼭 해라\n",
      "set_global_determinism(seed=1337) 이거 꼭 해라\n",
      "set_global_determinism(seed=1337) 이거 꼭 해라\n"
     ]
    },
    {
     "name": "stderr",
     "output_type": "stream",
     "text": [
      "C:\\Users\\yukir\\anaconda3\\envs\\NLP\\lib\\site-packages\\scipy\\io\\matlab\\mio5.py:98: DeprecationWarning: `np.bool` is a deprecated alias for the builtin `bool`. To silence this warning, use `bool` by itself. Doing this will not modify any behavior and is safe. If you specifically wanted the numpy scalar type, use `np.bool_` here.\n",
      "Deprecated in NumPy 1.20; for more details and guidance: https://numpy.org/devdocs/release/1.20.0-notes.html#deprecations\n",
      "  from .mio5_utils import VarReader5\n"
     ]
    },
    {
     "name": "stdout",
     "output_type": "stream",
     "text": [
      "C:\\Users\\yukir\\Documents\\Monicas_workspace\\Korea_medicine\\LDA\n"
     ]
    }
   ],
   "source": [
    "%cd C:\\Users\\yukir\\Documents\\GitHub\\Text_Mining\\py\n",
    "\n",
    "from nlp_processing import *\n",
    "set_global_determinism(seed=1337)\n",
    "\n",
    "%cd C:\\Users\\yukir\\Documents\\Monicas_workspace\\Korea_medicine\\LDA"
   ]
  },
  {
   "cell_type": "code",
   "execution_count": 2,
   "metadata": {},
   "outputs": [],
   "source": [
    "import openpyxl\n",
    "from nltk.corpus import stopwords\n",
    "from nltk.stem.porter import PorterStemmer\n",
    "from nltk.tokenize import RegexpTokenizer\n",
    "from gensim import corpora, models\n",
    "from gensim.models import CoherenceModel\n",
    "import gensim\n",
    "import matplotlib.pyplot as plt\n",
    "\n",
    "from gensim.models.ldamodel import LdaModel \n",
    "from gensim.models.callbacks import CoherenceMetric \n",
    "from gensim import corpora \n",
    "from gensim.models.callbacks import PerplexityMetric \n",
    "import logging \n",
    "import pickle \n",
    "import pyLDAvis\n",
    "\n",
    "from gensim.models.coherencemodel import CoherenceModel \n",
    "import matplotlib.pyplot as plt\n",
    "\n",
    "import pyLDAvis.gensim\n",
    "pyLDAvis.enable_notebook()\n",
    "\n",
    "from konlpy.tag import Mecab \n",
    "from konlpy.tag import Okt\n",
    "okt = Okt()\n",
    "from tqdm import tqdm \n",
    "import re \n",
    "import pickle \n",
    "import csv\n",
    "\n",
    "from nltk.corpus import stopwords  \n",
    "stopwords.words('korean')[:10] \n",
    "\n",
    "stopwords_kor = stopwords.words('korean')"
   ]
  },
  {
   "cell_type": "markdown",
   "metadata": {},
   "source": [
    "### 띄어쓰기"
   ]
  },
  {
   "cell_type": "code",
   "execution_count": 3,
   "metadata": {},
   "outputs": [
    {
     "name": "stdout",
     "output_type": "stream",
     "text": [
      "C:\\Users\\yukir\\Documents\\Monicas_workspace\\Derma\n"
     ]
    }
   ],
   "source": [
    "%cd C:\\Users\\yukir\\Documents\\Monicas_workspace\\Derma"
   ]
  },
  {
   "cell_type": "code",
   "execution_count": 4,
   "metadata": {},
   "outputs": [
    {
     "name": "stdout",
     "output_type": "stream",
     "text": [
      "(31294, 9)\n"
     ]
    },
    {
     "data": {
      "text/html": [
       "<div>\n",
       "<style scoped>\n",
       "    .dataframe tbody tr th:only-of-type {\n",
       "        vertical-align: middle;\n",
       "    }\n",
       "\n",
       "    .dataframe tbody tr th {\n",
       "        vertical-align: top;\n",
       "    }\n",
       "\n",
       "    .dataframe thead th {\n",
       "        text-align: right;\n",
       "    }\n",
       "</style>\n",
       "<table border=\"1\" class=\"dataframe\">\n",
       "  <thead>\n",
       "    <tr style=\"text-align: right;\">\n",
       "      <th></th>\n",
       "      <th>h</th>\n",
       "      <th>reviews</th>\n",
       "      <th>stars</th>\n",
       "      <th>review_date</th>\n",
       "      <th>do</th>\n",
       "      <th>si</th>\n",
       "      <th>ro</th>\n",
       "      <th>cleaned_reviews</th>\n",
       "      <th>reviews_stem</th>\n",
       "    </tr>\n",
       "  </thead>\n",
       "  <tbody>\n",
       "    <tr>\n",
       "      <th>0.0</th>\n",
       "      <td>고운나라피부과의원</td>\n",
       "      <td>두피가려움증으로 내원한 병원인데 진료 끝나고 두피 현미경사진을 무료로 찍어서 상담해...</td>\n",
       "      <td>9.3</td>\n",
       "      <td>3월 15일, 2022년</td>\n",
       "      <td>경남</td>\n",
       "      <td>김해시</td>\n",
       "      <td>내외중앙로</td>\n",
       "      <td>두피 가려움증으로 내원한 병원인데 진료 끝나고 두피 현미경사진을 무료로 찍어서 상담...</td>\n",
       "      <td>['두피', '가려움증', '원한', '병원', '진료', '두피', '현미경', ...</td>\n",
       "    </tr>\n",
       "    <tr>\n",
       "      <th>1.0</th>\n",
       "      <td>고운나라피부과의원</td>\n",
       "      <td>내과</td>\n",
       "      <td>10</td>\n",
       "      <td>12월 20일, 2021년</td>\n",
       "      <td>경남</td>\n",
       "      <td>김해시</td>\n",
       "      <td>내외중앙로</td>\n",
       "      <td>대상포진으로 진료받았어요 2주 이상 치료받고 약 먹고 주사 맞으니까 진통이 가라앉았...</td>\n",
       "      <td>['대상포진', '진료', '주', '이상', '약', '주사', '진통', '대상...</td>\n",
       "    </tr>\n",
       "    <tr>\n",
       "      <th>2.0</th>\n",
       "      <td>고운나라피부과의원</td>\n",
       "      <td>여드름 고민이 있어서 방문했습니다피부 전문의라서 증상이 나타난 이유에 대해서 설명을...</td>\n",
       "      <td>10</td>\n",
       "      <td>8월 11일, 2021년</td>\n",
       "      <td>경남</td>\n",
       "      <td>김해시</td>\n",
       "      <td>내외중앙로</td>\n",
       "      <td>여드름 고민이 있어서 방문했습니다 피부전문의라서 증상이 나타난 이유에 대해서 설명을...</td>\n",
       "      <td>['여드름', '고민', '방문', '피부', '전문의', '증상', '이유', '...</td>\n",
       "    </tr>\n",
       "    <tr>\n",
       "      <th>3.0</th>\n",
       "      <td>고운나라피부과의원</td>\n",
       "      <td>문신제거문신한곳 일부분만 지우고 싶어서 여러 군데 알아보고 갔어요 워낙 가격이 천차...</td>\n",
       "      <td>10</td>\n",
       "      <td>6월 21일, 2021년</td>\n",
       "      <td>경남</td>\n",
       "      <td>김해시</td>\n",
       "      <td>내외중앙로</td>\n",
       "      <td>문신제거 문신한 곳일 부분만 지우고 싶어서 여러 군데 알아보고 갔어요 워낙 가격이 ...</td>\n",
       "      <td>['문신', '제거', '문신', '곳일', '부분', '여러', '군데', '워낙...</td>\n",
       "    </tr>\n",
       "    <tr>\n",
       "      <th>4.0</th>\n",
       "      <td>고운나라피부과의원</td>\n",
       "      <td>원장님이 설명도 잘해주시고 병원도 엄청크고~(김해에서 유명한곳은 이유가있네요)!! ...</td>\n",
       "      <td>9.5</td>\n",
       "      <td>6월 7일, 2021년</td>\n",
       "      <td>경남</td>\n",
       "      <td>김해시</td>\n",
       "      <td>내외중앙로</td>\n",
       "      <td>원장님이설명도잘해주시고병원도엄청크고김해에서유명한곳은이유가있네요직원들도전부친절해서넘맘...</td>\n",
       "      <td>['원장', '설명', '병원', '김해', '곳', '유가', '직원', '전부'...</td>\n",
       "    </tr>\n",
       "  </tbody>\n",
       "</table>\n",
       "</div>"
      ],
      "text/plain": [
       "             h                                            reviews stars  \\\n",
       "0.0  고운나라피부과의원  두피가려움증으로 내원한 병원인데 진료 끝나고 두피 현미경사진을 무료로 찍어서 상담해...   9.3   \n",
       "1.0  고운나라피부과의원                                                 내과    10   \n",
       "2.0  고운나라피부과의원  여드름 고민이 있어서 방문했습니다피부 전문의라서 증상이 나타난 이유에 대해서 설명을...    10   \n",
       "3.0  고운나라피부과의원  문신제거문신한곳 일부분만 지우고 싶어서 여러 군데 알아보고 갔어요 워낙 가격이 천차...    10   \n",
       "4.0  고운나라피부과의원  원장님이 설명도 잘해주시고 병원도 엄청크고~(김해에서 유명한곳은 이유가있네요)!! ...   9.5   \n",
       "\n",
       "         review_date  do   si     ro  \\\n",
       "0.0   3월 15일, 2022년   경남  김해시  내외중앙로   \n",
       "1.0  12월 20일, 2021년   경남  김해시  내외중앙로   \n",
       "2.0   8월 11일, 2021년   경남  김해시  내외중앙로   \n",
       "3.0   6월 21일, 2021년   경남  김해시  내외중앙로   \n",
       "4.0    6월 7일, 2021년   경남  김해시  내외중앙로   \n",
       "\n",
       "                                       cleaned_reviews  \\\n",
       "0.0  두피 가려움증으로 내원한 병원인데 진료 끝나고 두피 현미경사진을 무료로 찍어서 상담...   \n",
       "1.0  대상포진으로 진료받았어요 2주 이상 치료받고 약 먹고 주사 맞으니까 진통이 가라앉았...   \n",
       "2.0  여드름 고민이 있어서 방문했습니다 피부전문의라서 증상이 나타난 이유에 대해서 설명을...   \n",
       "3.0  문신제거 문신한 곳일 부분만 지우고 싶어서 여러 군데 알아보고 갔어요 워낙 가격이 ...   \n",
       "4.0  원장님이설명도잘해주시고병원도엄청크고김해에서유명한곳은이유가있네요직원들도전부친절해서넘맘...   \n",
       "\n",
       "                                          reviews_stem  \n",
       "0.0  ['두피', '가려움증', '원한', '병원', '진료', '두피', '현미경', ...  \n",
       "1.0  ['대상포진', '진료', '주', '이상', '약', '주사', '진통', '대상...  \n",
       "2.0  ['여드름', '고민', '방문', '피부', '전문의', '증상', '이유', '...  \n",
       "3.0  ['문신', '제거', '문신', '곳일', '부분', '여러', '군데', '워낙...  \n",
       "4.0  ['원장', '설명', '병원', '김해', '곳', '유가', '직원', '전부'...  "
      ]
     },
     "execution_count": 4,
     "metadata": {},
     "output_type": "execute_result"
    }
   ],
   "source": [
    "reviews_df = pd.read_excel(\"C:\\\\Users\\\\yukir\\\\Documents\\\\Monicas_workspace\\\\Derma\\\\[0430]repreprocessed.xlsx\", index_col=0)\n",
    "print(reviews_df.shape)\n",
    "reviews_df.head()"
   ]
  },
  {
   "cell_type": "code",
   "execution_count": 5,
   "metadata": {},
   "outputs": [
    {
     "data": {
      "text/plain": [
       "(31294, 9)"
      ]
     },
     "execution_count": 5,
     "metadata": {},
     "output_type": "execute_result"
    }
   ],
   "source": [
    "reviews_df.shape"
   ]
  },
  {
   "cell_type": "code",
   "execution_count": 10,
   "metadata": {},
   "outputs": [
    {
     "name": "stdout",
     "output_type": "stream",
     "text": [
      "(31294, 9)\n"
     ]
    }
   ],
   "source": [
    "data = reviews_df.copy()\n",
    "# data = data[20000:]\n",
    "print(data.shape)"
   ]
  },
  {
   "cell_type": "code",
   "execution_count": 7,
   "metadata": {},
   "outputs": [],
   "source": [
    "def stemming (text):\n",
    "    morphs_list = []\n",
    "    one_words = []\n",
    "    result = []\n",
    "\n",
    "    pos = okt.pos(text, join = True)\n",
    "    # print(pos)\n",
    "    for j in pos:\n",
    "        if j.split('/')[1] == 'Noun':\n",
    "            j = j.split('/')[0]\n",
    "            morphs_list.append(j)\n",
    "                    \n",
    "        elif j.split('/')[1] =='Adjective':\n",
    "            k = okt.morphs(j,  stem= True)\n",
    "            k = k[0]\n",
    "            morphs_list.append(k)\n",
    "        elif j.split('/')[1] =='Verb':\n",
    "            v = okt.morphs(j,  stem= True)\n",
    "            v = v[0]\n",
    "            morphs_list.append(v)\n",
    "\n",
    "    for i in morphs_list:\n",
    "        if len(i) != 1:\n",
    "            one_words.append(i)\n",
    "    \n",
    "\n",
    "    for i in one_words:\n",
    "        if i not in stopwords_kor:\n",
    "            result.append(i)\n",
    "\n",
    "    return result"
   ]
  },
  {
   "cell_type": "code",
   "execution_count": 18,
   "metadata": {},
   "outputs": [],
   "source": [
    "def clean_text(text): \n",
    "    \"\"\" 한글, 영문, 숫자만 남기고 제거한다. \n",
    "    :param text: \n",
    "    :return: \n",
    "    \"\"\" \n",
    "    text = text.replace(\".\", \" \").strip() \n",
    "    text = text.replace(\"·\", \" \").strip() \n",
    "    pattern = '[^ ㄱ-ㅣ가-힣|0-9|a-zA-Z]+' \n",
    "    text = re.sub(pattern=pattern, repl='', string=text) \n",
    "    return text \n",
    "    \n",
    "def get_nouns(tokenizer, sentence): \n",
    "    \"\"\" 단어의 길이가 2이상인 일반명사(NNG),\n",
    "     고유명사(NNP), 외국어(SL)만을 반환한다. \n",
    "     :param tokenizer: \n",
    "     :param sentence: :return: \"\"\" \n",
    "    tagged = tokenizer.nouns(sentence)\n",
    "    nouns = [s for s in tagged if len(s)>1] \n",
    "     \n",
    "    return nouns \n",
    "     \n",
    "     \n",
    "def tokenize(df): \n",
    "    tokenizer = okt\n",
    "    processed_data = [] \n",
    "    for sent in tqdm(df['cleaned_reviews']):\n",
    "        sentence = clean_text(sent.replace('\\n', '').strip()) \n",
    "        processed_data.append(get_nouns(tokenizer, sentence)) \n",
    "        \n",
    "    return processed_data\n",
    "    \n",
    "    \n",
    "def save_processed_data(processed_data): \n",
    "    \"\"\" 토큰 분리한 데이터를 csv로 저장 :param processed_data: :return: \"\"\" \n",
    "    \n",
    "    with open('[0430]tf_idf_token.csv', 'w', newline='', encoding='utf-8') as f: \n",
    "        writer = csv.writer(f) \n",
    "        for data in processed_data:\n",
    "             writer.writerow(data)"
   ]
  },
  {
   "cell_type": "markdown",
   "metadata": {},
   "source": [
    "### TF_IDF"
   ]
  },
  {
   "cell_type": "code",
   "execution_count": 19,
   "metadata": {},
   "outputs": [
    {
     "name": "stdout",
     "output_type": "stream",
     "text": [
      "29336\n",
      "29336\n",
      "29336\n"
     ]
    }
   ],
   "source": [
    "print(len(data))\n",
    "data = data.dropna()\n",
    "print(len(data))\n",
    "data = data.drop_duplicates('reviews')\n",
    "print(len(data))"
   ]
  },
  {
   "cell_type": "code",
   "execution_count": 20,
   "metadata": {},
   "outputs": [
    {
     "name": "stderr",
     "output_type": "stream",
     "text": [
      "100%|██████████| 29336/29336 [00:00<00:00, 185670.90it/s]\n"
     ]
    }
   ],
   "source": [
    "for sent in tqdm(data['reviews']):\n",
    "    try:\n",
    "        sentence = clean_text(sent.replace('\\n', '').strip())\n",
    "        # print(sentence)\n",
    "    except:\n",
    "        # print(sent)\n",
    "        pass"
   ]
  },
  {
   "cell_type": "code",
   "execution_count": 21,
   "metadata": {},
   "outputs": [
    {
     "name": "stderr",
     "output_type": "stream",
     "text": [
      "100%|██████████| 29336/29336 [10:42<00:00, 45.64it/s] \n"
     ]
    }
   ],
   "source": [
    "## 오래걸리니까 조심\n",
    "\n",
    "if __name__ == '__main__':\n",
    "     # df = pd.read_csv('negative.csv', index_col = 0)\n",
    "     processed_data = tokenize(data) # description 부분을 토크나이징 한다. \n",
    "     \n",
    "     # 토큰 분리한 데이터를 저장 \n",
    "     save_processed_data(processed_data)\n"
   ]
  },
  {
   "cell_type": "code",
   "execution_count": 22,
   "metadata": {},
   "outputs": [
    {
     "data": {
      "text/plain": [
       "0.0      두피 가려움증 원한 병원 진료 두피 현미경 사진 무료 상담 두피 샴푸 하나 샴푸 방법\n",
       "1.0           대상포진 진료 이상 주사 진통 대상포진 통증 후유증 남아 부위 계속 예방접종\n",
       "2.0    여드름 고민 방문 피부 전문의 증상 이유 대해 설명 지인 추천 의사 선생님 진료 상...\n",
       "3.0    문신 제거 문신 곳일 부분 여러 군데 워낙 가격 천차만별 치료 합리 가격 부분 레이...\n",
       "4.0                     원장 설명 병원 김해 유가 직원 전부 처방 하루 피부 아주\n",
       "5.0         지루 피부염 병원 돋보기 유심 피부 상태 확인 연고 의약품 처방 환자 법도 대해\n",
       "Name: detokenized_doc, dtype: object"
      ]
     },
     "execution_count": 22,
     "metadata": {},
     "output_type": "execute_result"
    }
   ],
   "source": [
    "detokenized_doc = []\n",
    "for i in range(len(processed_data)):\n",
    "    t = ' '.join(processed_data[i])\n",
    "    detokenized_doc.append(t)\n",
    "\n",
    "data['detokenized_doc'] = detokenized_doc # 다시 text['headline_text']에 재저장\n",
    "\n",
    "data['detokenized_doc'][:5]"
   ]
  },
  {
   "cell_type": "code",
   "execution_count": 23,
   "metadata": {},
   "outputs": [
    {
     "data": {
      "text/plain": [
       "(29336, 2000)"
      ]
     },
     "execution_count": 23,
     "metadata": {},
     "output_type": "execute_result"
    }
   ],
   "source": [
    "from sklearn.feature_extraction.text import TfidfVectorizer\n",
    "vectorizer = TfidfVectorizer(analyzer='word',       \n",
    "                             min_df=10,                        # minimum reqd occurences of a word \n",
    "                             stop_words=stopwords_kor,             # remove stop words\n",
    "                             lowercase=True,                   # convert all words to lowercase\n",
    "                             token_pattern='[가-힣0-9]{1,}',  # num chars > 3\n",
    "                             max_features=2000,             # max number of uniq words\n",
    "                            ) \n",
    "data_vectorized = vectorizer.fit_transform(data['detokenized_doc'])\n",
    "data_vectorized.shape # TF-IDF 행렬의 크기 확인"
   ]
  },
  {
   "cell_type": "code",
   "execution_count": 24,
   "metadata": {},
   "outputs": [
    {
     "name": "stdout",
     "output_type": "stream",
     "text": [
      "2000\n",
      "(1, 2000)\n"
     ]
    }
   ],
   "source": [
    "vocab = vectorizer.get_feature_names()\n",
    "print(len(vocab))\n",
    "dist = np.sum(data_vectorized, axis=0)\n",
    "    \n",
    "df_freq = pd.DataFrame(dist, columns=vocab)\n",
    "print(df_freq.shape)"
   ]
  },
  {
   "cell_type": "code",
   "execution_count": 25,
   "metadata": {},
   "outputs": [
    {
     "data": {
      "text/html": [
       "<div>\n",
       "<style scoped>\n",
       "    .dataframe tbody tr th:only-of-type {\n",
       "        vertical-align: middle;\n",
       "    }\n",
       "\n",
       "    .dataframe tbody tr th {\n",
       "        vertical-align: top;\n",
       "    }\n",
       "\n",
       "    .dataframe thead th {\n",
       "        text-align: right;\n",
       "    }\n",
       "</style>\n",
       "<table border=\"1\" class=\"dataframe\">\n",
       "  <thead>\n",
       "    <tr style=\"text-align: right;\">\n",
       "      <th></th>\n",
       "      <th>words</th>\n",
       "      <th>freq</th>\n",
       "    </tr>\n",
       "  </thead>\n",
       "  <tbody>\n",
       "    <tr>\n",
       "      <th>1995</th>\n",
       "      <td>희망</td>\n",
       "      <td>7.601364</td>\n",
       "    </tr>\n",
       "    <tr>\n",
       "      <th>1996</th>\n",
       "      <td>희재</td>\n",
       "      <td>5.664223</td>\n",
       "    </tr>\n",
       "    <tr>\n",
       "      <th>1997</th>\n",
       "      <td>히스타민</td>\n",
       "      <td>5.193308</td>\n",
       "    </tr>\n",
       "    <tr>\n",
       "      <th>1998</th>\n",
       "      <td>힐러</td>\n",
       "      <td>16.061285</td>\n",
       "    </tr>\n",
       "    <tr>\n",
       "      <th>1999</th>\n",
       "      <td>힐링</td>\n",
       "      <td>4.943017</td>\n",
       "    </tr>\n",
       "  </tbody>\n",
       "</table>\n",
       "</div>"
      ],
      "text/plain": [
       "     words       freq\n",
       "1995    희망   7.601364\n",
       "1996    희재   5.664223\n",
       "1997  히스타민   5.193308\n",
       "1998    힐러  16.061285\n",
       "1999    힐링   4.943017"
      ]
     },
     "execution_count": 25,
     "metadata": {},
     "output_type": "execute_result"
    }
   ],
   "source": [
    "df_freq.T.sort_values(by=0, ascending=False).head(100)\n",
    "df_freq_T = df_freq.T.reset_index()\n",
    "df_freq_T.columns = [\"words\", \"freq\"]\n",
    "df_freq_T.tail()"
   ]
  },
  {
   "cell_type": "code",
   "execution_count": 26,
   "metadata": {},
   "outputs": [
    {
     "name": "stdout",
     "output_type": "stream",
     "text": [
      "(2000, 2)\n",
      "(2000, 2)\n"
     ]
    }
   ],
   "source": [
    "print(df_freq_T.shape)\n",
    "df_use = df_freq_T.drop_duplicates()\n",
    "print(df_use.shape)"
   ]
  },
  {
   "cell_type": "code",
   "execution_count": 27,
   "metadata": {},
   "outputs": [
    {
     "data": {
      "text/html": [
       "<div>\n",
       "<style scoped>\n",
       "    .dataframe tbody tr th:only-of-type {\n",
       "        vertical-align: middle;\n",
       "    }\n",
       "\n",
       "    .dataframe tbody tr th {\n",
       "        vertical-align: top;\n",
       "    }\n",
       "\n",
       "    .dataframe thead th {\n",
       "        text-align: right;\n",
       "    }\n",
       "</style>\n",
       "<table border=\"1\" class=\"dataframe\">\n",
       "  <thead>\n",
       "    <tr style=\"text-align: right;\">\n",
       "      <th></th>\n",
       "      <th>words</th>\n",
       "      <th>freq</th>\n",
       "    </tr>\n",
       "  </thead>\n",
       "  <tbody>\n",
       "    <tr>\n",
       "      <th>1691</th>\n",
       "      <td>치료</td>\n",
       "      <td>1672.548118</td>\n",
       "    </tr>\n",
       "    <tr>\n",
       "      <th>834</th>\n",
       "      <td>선생님</td>\n",
       "      <td>1593.273588</td>\n",
       "    </tr>\n",
       "    <tr>\n",
       "      <th>1284</th>\n",
       "      <td>의사</td>\n",
       "      <td>1375.643738</td>\n",
       "    </tr>\n",
       "    <tr>\n",
       "      <th>840</th>\n",
       "      <td>설명</td>\n",
       "      <td>1342.504621</td>\n",
       "    </tr>\n",
       "    <tr>\n",
       "      <th>1633</th>\n",
       "      <td>처방</td>\n",
       "      <td>1260.180963</td>\n",
       "    </tr>\n",
       "    <tr>\n",
       "      <th>...</th>\n",
       "      <td>...</td>\n",
       "      <td>...</td>\n",
       "    </tr>\n",
       "    <tr>\n",
       "      <th>244</th>\n",
       "      <td>기억</td>\n",
       "      <td>197.102634</td>\n",
       "    </tr>\n",
       "    <tr>\n",
       "      <th>1572</th>\n",
       "      <td>지인</td>\n",
       "      <td>190.201512</td>\n",
       "    </tr>\n",
       "    <tr>\n",
       "      <th>468</th>\n",
       "      <td>마취</td>\n",
       "      <td>189.818192</td>\n",
       "    </tr>\n",
       "    <tr>\n",
       "      <th>796</th>\n",
       "      <td>상처</td>\n",
       "      <td>184.590742</td>\n",
       "    </tr>\n",
       "    <tr>\n",
       "      <th>1291</th>\n",
       "      <td>의원</td>\n",
       "      <td>183.768402</td>\n",
       "    </tr>\n",
       "  </tbody>\n",
       "</table>\n",
       "<p>100 rows × 2 columns</p>\n",
       "</div>"
      ],
      "text/plain": [
       "     words         freq\n",
       "1691    치료  1672.548118\n",
       "834    선생님  1593.273588\n",
       "1284    의사  1375.643738\n",
       "840     설명  1342.504621\n",
       "1633    처방  1260.180963\n",
       "...    ...          ...\n",
       "244     기억   197.102634\n",
       "1572    지인   190.201512\n",
       "468     마취   189.818192\n",
       "796     상처   184.590742\n",
       "1291    의원   183.768402\n",
       "\n",
       "[100 rows x 2 columns]"
      ]
     },
     "execution_count": 27,
     "metadata": {},
     "output_type": "execute_result"
    }
   ],
   "source": [
    "df_use = df_use.sort_values(by=\"freq\", ascending=False)\n",
    "df_use.head(100)"
   ]
  },
  {
   "cell_type": "code",
   "execution_count": 28,
   "metadata": {},
   "outputs": [],
   "source": [
    "df_use.to_excel('[0430]derma_TFIDF_to_SERVQUAL_v5.xlsx')"
   ]
  },
  {
   "cell_type": "code",
   "execution_count": 29,
   "metadata": {},
   "outputs": [
    {
     "name": "stdout",
     "output_type": "stream",
     "text": [
      "Sparsicity:  0.6163399918189255 %\n"
     ]
    }
   ],
   "source": [
    "# Materialize the sparse data\n",
    "data_dense = data_vectorized.todense()\n",
    "\n",
    "# Compute Sparsicity = Percentage of Non-Zero cells\n",
    "print(\"Sparsicity: \", ((data_dense > 0).sum()/data_dense.size)*100, \"%\")"
   ]
  },
  {
   "cell_type": "code",
   "execution_count": 30,
   "metadata": {},
   "outputs": [
    {
     "name": "stdout",
     "output_type": "stream",
     "text": [
      "[[3.14923630e+01 7.93790702e+00 2.06109883e-01 ... 2.05666407e-01\n",
      "  2.01030725e-01 5.28308387e+00]\n",
      " [7.69677815e+00 4.78707171e+00 3.76807783e+01 ... 2.01125571e-01\n",
      "  2.01041872e-01 2.01183914e-01]\n",
      " [2.55959537e+01 9.26392384e+01 2.06801516e-01 ... 5.64927692e+00\n",
      "  2.00806058e-01 2.01846265e-01]\n",
      " [1.15787276e+02 2.71437903e+01 2.08404377e-01 ... 2.10865646e-01\n",
      "  2.00260535e-01 2.02158835e-01]\n",
      " [3.31688533e+01 5.36873846e+02 1.91086823e+01 ... 2.02775954e-01\n",
      "  1.55837048e+01 2.11433587e-01]]\n",
      "(5, 2000)\n"
     ]
    }
   ],
   "source": [
    "from sklearn.decomposition import LatentDirichletAllocation\n",
    "lda_model=LatentDirichletAllocation(n_components=5,               # Number of topics\n",
    "                                      max_iter=10,               # Max learning iterations\n",
    "                                      learning_method='online',   \n",
    "                                      random_state=1337,          # Random state\n",
    "                                      batch_size=128,            # n docs in each learning iter\n",
    "                                      evaluate_every = -1,       # compute perplexity every n iters, default: Don't\n",
    "                                      n_jobs = -1,               # Use all available CPUs\n",
    "                                     )\n",
    "lda_top=lda_model.fit_transform(data_vectorized)\n",
    "\n",
    "print(lda_model.components_)\n",
    "print(lda_model.components_.shape) "
   ]
  },
  {
   "cell_type": "code",
   "execution_count": 31,
   "metadata": {},
   "outputs": [
    {
     "data": {
      "text/html": [
       "<style type=\"text/css\">\n",
       "#T_26bce_row0_col0, #T_26bce_row0_col1, #T_26bce_row0_col3, #T_26bce_row0_col5, #T_26bce_row1_col3, #T_26bce_row1_col5, #T_26bce_row2_col3, #T_26bce_row2_col4, #T_26bce_row2_col5, #T_26bce_row3_col2, #T_26bce_row3_col4, #T_26bce_row3_col5, #T_26bce_row4_col0, #T_26bce_row4_col1, #T_26bce_row4_col5, #T_26bce_row5_col1, #T_26bce_row5_col3, #T_26bce_row5_col5, #T_26bce_row6_col2, #T_26bce_row6_col5, #T_26bce_row7_col0, #T_26bce_row7_col1, #T_26bce_row7_col2, #T_26bce_row8_col0, #T_26bce_row9_col0, #T_26bce_row10_col0, #T_26bce_row10_col3, #T_26bce_row10_col5, #T_26bce_row11_col2, #T_26bce_row11_col3, #T_26bce_row11_col5, #T_26bce_row12_col1, #T_26bce_row12_col2, #T_26bce_row12_col3, #T_26bce_row12_col4, #T_26bce_row12_col5, #T_26bce_row13_col0, #T_26bce_row13_col3, #T_26bce_row13_col5, #T_26bce_row14_col1, #T_26bce_row14_col3, #T_26bce_row14_col5 {\n",
       "  color: green;\n",
       "  font-weight: 700;\n",
       "}\n",
       "#T_26bce_row0_col2, #T_26bce_row0_col4, #T_26bce_row1_col0, #T_26bce_row1_col1, #T_26bce_row1_col2, #T_26bce_row1_col4, #T_26bce_row2_col0, #T_26bce_row2_col1, #T_26bce_row2_col2, #T_26bce_row3_col0, #T_26bce_row3_col1, #T_26bce_row3_col3, #T_26bce_row4_col2, #T_26bce_row4_col3, #T_26bce_row4_col4, #T_26bce_row5_col0, #T_26bce_row5_col2, #T_26bce_row5_col4, #T_26bce_row6_col0, #T_26bce_row6_col1, #T_26bce_row6_col3, #T_26bce_row6_col4, #T_26bce_row7_col3, #T_26bce_row7_col4, #T_26bce_row7_col5, #T_26bce_row8_col1, #T_26bce_row8_col2, #T_26bce_row8_col3, #T_26bce_row8_col4, #T_26bce_row8_col5, #T_26bce_row9_col1, #T_26bce_row9_col2, #T_26bce_row9_col3, #T_26bce_row9_col4, #T_26bce_row9_col5, #T_26bce_row10_col1, #T_26bce_row10_col2, #T_26bce_row10_col4, #T_26bce_row11_col0, #T_26bce_row11_col1, #T_26bce_row11_col4, #T_26bce_row12_col0, #T_26bce_row13_col1, #T_26bce_row13_col2, #T_26bce_row13_col4, #T_26bce_row14_col0, #T_26bce_row14_col2, #T_26bce_row14_col4 {\n",
       "  color: black;\n",
       "  font-weight: 400;\n",
       "}\n",
       "</style>\n",
       "<table id=\"T_26bce_\">\n",
       "  <thead>\n",
       "    <tr>\n",
       "      <th class=\"blank level0\" >&nbsp;</th>\n",
       "      <th class=\"col_heading level0 col0\" >Topic0</th>\n",
       "      <th class=\"col_heading level0 col1\" >Topic1</th>\n",
       "      <th class=\"col_heading level0 col2\" >Topic2</th>\n",
       "      <th class=\"col_heading level0 col3\" >Topic3</th>\n",
       "      <th class=\"col_heading level0 col4\" >Topic4</th>\n",
       "      <th class=\"col_heading level0 col5\" >dominant_topic</th>\n",
       "    </tr>\n",
       "  </thead>\n",
       "  <tbody>\n",
       "    <tr>\n",
       "      <th id=\"T_26bce_level0_row0\" class=\"row_heading level0 row0\" >Doc0</th>\n",
       "      <td id=\"T_26bce_row0_col0\" class=\"data row0 col0\" >0.160000</td>\n",
       "      <td id=\"T_26bce_row0_col1\" class=\"data row0 col1\" >0.240000</td>\n",
       "      <td id=\"T_26bce_row0_col2\" class=\"data row0 col2\" >0.050000</td>\n",
       "      <td id=\"T_26bce_row0_col3\" class=\"data row0 col3\" >0.490000</td>\n",
       "      <td id=\"T_26bce_row0_col4\" class=\"data row0 col4\" >0.060000</td>\n",
       "      <td id=\"T_26bce_row0_col5\" class=\"data row0 col5\" >3</td>\n",
       "    </tr>\n",
       "    <tr>\n",
       "      <th id=\"T_26bce_level0_row1\" class=\"row_heading level0 row1\" >Doc1</th>\n",
       "      <td id=\"T_26bce_row1_col0\" class=\"data row1 col0\" >0.070000</td>\n",
       "      <td id=\"T_26bce_row1_col1\" class=\"data row1 col1\" >0.080000</td>\n",
       "      <td id=\"T_26bce_row1_col2\" class=\"data row1 col2\" >0.070000</td>\n",
       "      <td id=\"T_26bce_row1_col3\" class=\"data row1 col3\" >0.700000</td>\n",
       "      <td id=\"T_26bce_row1_col4\" class=\"data row1 col4\" >0.070000</td>\n",
       "      <td id=\"T_26bce_row1_col5\" class=\"data row1 col5\" >3</td>\n",
       "    </tr>\n",
       "    <tr>\n",
       "      <th id=\"T_26bce_level0_row2\" class=\"row_heading level0 row2\" >Doc2</th>\n",
       "      <td id=\"T_26bce_row2_col0\" class=\"data row2 col0\" >0.040000</td>\n",
       "      <td id=\"T_26bce_row2_col1\" class=\"data row2 col1\" >0.100000</td>\n",
       "      <td id=\"T_26bce_row2_col2\" class=\"data row2 col2\" >0.070000</td>\n",
       "      <td id=\"T_26bce_row2_col3\" class=\"data row2 col3\" >0.430000</td>\n",
       "      <td id=\"T_26bce_row2_col4\" class=\"data row2 col4\" >0.360000</td>\n",
       "      <td id=\"T_26bce_row2_col5\" class=\"data row2 col5\" >3</td>\n",
       "    </tr>\n",
       "    <tr>\n",
       "      <th id=\"T_26bce_level0_row3\" class=\"row_heading level0 row3\" >Doc3</th>\n",
       "      <td id=\"T_26bce_row3_col0\" class=\"data row3 col0\" >0.060000</td>\n",
       "      <td id=\"T_26bce_row3_col1\" class=\"data row3 col1\" >0.070000</td>\n",
       "      <td id=\"T_26bce_row3_col2\" class=\"data row3 col2\" >0.650000</td>\n",
       "      <td id=\"T_26bce_row3_col3\" class=\"data row3 col3\" >0.060000</td>\n",
       "      <td id=\"T_26bce_row3_col4\" class=\"data row3 col4\" >0.160000</td>\n",
       "      <td id=\"T_26bce_row3_col5\" class=\"data row3 col5\" >2</td>\n",
       "    </tr>\n",
       "    <tr>\n",
       "      <th id=\"T_26bce_level0_row4\" class=\"row_heading level0 row4\" >Doc4</th>\n",
       "      <td id=\"T_26bce_row4_col0\" class=\"data row4 col0\" >0.320000</td>\n",
       "      <td id=\"T_26bce_row4_col1\" class=\"data row4 col1\" >0.480000</td>\n",
       "      <td id=\"T_26bce_row4_col2\" class=\"data row4 col2\" >0.070000</td>\n",
       "      <td id=\"T_26bce_row4_col3\" class=\"data row4 col3\" >0.070000</td>\n",
       "      <td id=\"T_26bce_row4_col4\" class=\"data row4 col4\" >0.070000</td>\n",
       "      <td id=\"T_26bce_row4_col5\" class=\"data row4 col5\" >1</td>\n",
       "    </tr>\n",
       "    <tr>\n",
       "      <th id=\"T_26bce_level0_row5\" class=\"row_heading level0 row5\" >Doc5</th>\n",
       "      <td id=\"T_26bce_row5_col0\" class=\"data row5 col0\" >0.050000</td>\n",
       "      <td id=\"T_26bce_row5_col1\" class=\"data row5 col1\" >0.380000</td>\n",
       "      <td id=\"T_26bce_row5_col2\" class=\"data row5 col2\" >0.050000</td>\n",
       "      <td id=\"T_26bce_row5_col3\" class=\"data row5 col3\" >0.460000</td>\n",
       "      <td id=\"T_26bce_row5_col4\" class=\"data row5 col4\" >0.050000</td>\n",
       "      <td id=\"T_26bce_row5_col5\" class=\"data row5 col5\" >3</td>\n",
       "    </tr>\n",
       "    <tr>\n",
       "      <th id=\"T_26bce_level0_row6\" class=\"row_heading level0 row6\" >Doc6</th>\n",
       "      <td id=\"T_26bce_row6_col0\" class=\"data row6 col0\" >0.070000</td>\n",
       "      <td id=\"T_26bce_row6_col1\" class=\"data row6 col1\" >0.070000</td>\n",
       "      <td id=\"T_26bce_row6_col2\" class=\"data row6 col2\" >0.720000</td>\n",
       "      <td id=\"T_26bce_row6_col3\" class=\"data row6 col3\" >0.070000</td>\n",
       "      <td id=\"T_26bce_row6_col4\" class=\"data row6 col4\" >0.070000</td>\n",
       "      <td id=\"T_26bce_row6_col5\" class=\"data row6 col5\" >2</td>\n",
       "    </tr>\n",
       "    <tr>\n",
       "      <th id=\"T_26bce_level0_row7\" class=\"row_heading level0 row7\" >Doc7</th>\n",
       "      <td id=\"T_26bce_row7_col0\" class=\"data row7 col0\" >0.540000</td>\n",
       "      <td id=\"T_26bce_row7_col1\" class=\"data row7 col1\" >0.130000</td>\n",
       "      <td id=\"T_26bce_row7_col2\" class=\"data row7 col2\" >0.230000</td>\n",
       "      <td id=\"T_26bce_row7_col3\" class=\"data row7 col3\" >0.050000</td>\n",
       "      <td id=\"T_26bce_row7_col4\" class=\"data row7 col4\" >0.050000</td>\n",
       "      <td id=\"T_26bce_row7_col5\" class=\"data row7 col5\" >0</td>\n",
       "    </tr>\n",
       "    <tr>\n",
       "      <th id=\"T_26bce_level0_row8\" class=\"row_heading level0 row8\" >Doc8</th>\n",
       "      <td id=\"T_26bce_row8_col0\" class=\"data row8 col0\" >0.790000</td>\n",
       "      <td id=\"T_26bce_row8_col1\" class=\"data row8 col1\" >0.050000</td>\n",
       "      <td id=\"T_26bce_row8_col2\" class=\"data row8 col2\" >0.050000</td>\n",
       "      <td id=\"T_26bce_row8_col3\" class=\"data row8 col3\" >0.050000</td>\n",
       "      <td id=\"T_26bce_row8_col4\" class=\"data row8 col4\" >0.050000</td>\n",
       "      <td id=\"T_26bce_row8_col5\" class=\"data row8 col5\" >0</td>\n",
       "    </tr>\n",
       "    <tr>\n",
       "      <th id=\"T_26bce_level0_row9\" class=\"row_heading level0 row9\" >Doc9</th>\n",
       "      <td id=\"T_26bce_row9_col0\" class=\"data row9 col0\" >0.770000</td>\n",
       "      <td id=\"T_26bce_row9_col1\" class=\"data row9 col1\" >0.060000</td>\n",
       "      <td id=\"T_26bce_row9_col2\" class=\"data row9 col2\" >0.060000</td>\n",
       "      <td id=\"T_26bce_row9_col3\" class=\"data row9 col3\" >0.060000</td>\n",
       "      <td id=\"T_26bce_row9_col4\" class=\"data row9 col4\" >0.060000</td>\n",
       "      <td id=\"T_26bce_row9_col5\" class=\"data row9 col5\" >0</td>\n",
       "    </tr>\n",
       "    <tr>\n",
       "      <th id=\"T_26bce_level0_row10\" class=\"row_heading level0 row10\" >Doc10</th>\n",
       "      <td id=\"T_26bce_row10_col0\" class=\"data row10 col0\" >0.310000</td>\n",
       "      <td id=\"T_26bce_row10_col1\" class=\"data row10 col1\" >0.060000</td>\n",
       "      <td id=\"T_26bce_row10_col2\" class=\"data row10 col2\" >0.060000</td>\n",
       "      <td id=\"T_26bce_row10_col3\" class=\"data row10 col3\" >0.520000</td>\n",
       "      <td id=\"T_26bce_row10_col4\" class=\"data row10 col4\" >0.050000</td>\n",
       "      <td id=\"T_26bce_row10_col5\" class=\"data row10 col5\" >3</td>\n",
       "    </tr>\n",
       "    <tr>\n",
       "      <th id=\"T_26bce_level0_row11\" class=\"row_heading level0 row11\" >Doc11</th>\n",
       "      <td id=\"T_26bce_row11_col0\" class=\"data row11 col0\" >0.060000</td>\n",
       "      <td id=\"T_26bce_row11_col1\" class=\"data row11 col1\" >0.060000</td>\n",
       "      <td id=\"T_26bce_row11_col2\" class=\"data row11 col2\" >0.420000</td>\n",
       "      <td id=\"T_26bce_row11_col3\" class=\"data row11 col3\" >0.420000</td>\n",
       "      <td id=\"T_26bce_row11_col4\" class=\"data row11 col4\" >0.060000</td>\n",
       "      <td id=\"T_26bce_row11_col5\" class=\"data row11 col5\" >2</td>\n",
       "    </tr>\n",
       "    <tr>\n",
       "      <th id=\"T_26bce_level0_row12\" class=\"row_heading level0 row12\" >Doc12</th>\n",
       "      <td id=\"T_26bce_row12_col0\" class=\"data row12 col0\" >0.050000</td>\n",
       "      <td id=\"T_26bce_row12_col1\" class=\"data row12 col1\" >0.130000</td>\n",
       "      <td id=\"T_26bce_row12_col2\" class=\"data row12 col2\" >0.190000</td>\n",
       "      <td id=\"T_26bce_row12_col3\" class=\"data row12 col3\" >0.430000</td>\n",
       "      <td id=\"T_26bce_row12_col4\" class=\"data row12 col4\" >0.200000</td>\n",
       "      <td id=\"T_26bce_row12_col5\" class=\"data row12 col5\" >3</td>\n",
       "    </tr>\n",
       "    <tr>\n",
       "      <th id=\"T_26bce_level0_row13\" class=\"row_heading level0 row13\" >Doc13</th>\n",
       "      <td id=\"T_26bce_row13_col0\" class=\"data row13 col0\" >0.320000</td>\n",
       "      <td id=\"T_26bce_row13_col1\" class=\"data row13 col1\" >0.070000</td>\n",
       "      <td id=\"T_26bce_row13_col2\" class=\"data row13 col2\" >0.070000</td>\n",
       "      <td id=\"T_26bce_row13_col3\" class=\"data row13 col3\" >0.470000</td>\n",
       "      <td id=\"T_26bce_row13_col4\" class=\"data row13 col4\" >0.070000</td>\n",
       "      <td id=\"T_26bce_row13_col5\" class=\"data row13 col5\" >3</td>\n",
       "    </tr>\n",
       "    <tr>\n",
       "      <th id=\"T_26bce_level0_row14\" class=\"row_heading level0 row14\" >Doc14</th>\n",
       "      <td id=\"T_26bce_row14_col0\" class=\"data row14 col0\" >0.060000</td>\n",
       "      <td id=\"T_26bce_row14_col1\" class=\"data row14 col1\" >0.650000</td>\n",
       "      <td id=\"T_26bce_row14_col2\" class=\"data row14 col2\" >0.060000</td>\n",
       "      <td id=\"T_26bce_row14_col3\" class=\"data row14 col3\" >0.180000</td>\n",
       "      <td id=\"T_26bce_row14_col4\" class=\"data row14 col4\" >0.060000</td>\n",
       "      <td id=\"T_26bce_row14_col5\" class=\"data row14 col5\" >1</td>\n",
       "    </tr>\n",
       "  </tbody>\n",
       "</table>\n"
      ],
      "text/plain": [
       "<pandas.io.formats.style.Styler at 0x17f08314160>"
      ]
     },
     "execution_count": 31,
     "metadata": {},
     "output_type": "execute_result"
    }
   ],
   "source": [
    "# Create Document - Topic Matrix\n",
    "lda_output = lda_model.transform(data_vectorized)\n",
    "\n",
    "# column names\n",
    "topicnames = [\"Topic\" + str(i) for i in range(lda_model.n_components)]\n",
    "\n",
    "# index names\n",
    "docnames = [\"Doc\" + str(i) for i in range(len(data['reviews'].tolist()))]\n",
    "\n",
    "# Make the pandas dataframe\n",
    "df_document_topic = pd.DataFrame(np.round(lda_output, 2), columns=topicnames, index=docnames)\n",
    "\n",
    "# Get dominant topic for each document\n",
    "dominant_topic = np.argmax(df_document_topic.values, axis=1)\n",
    "df_document_topic['dominant_topic'] = dominant_topic\n",
    "\n",
    "# Styling\n",
    "def color_green(val):\n",
    "    color = 'green' if val > .1 else 'black'\n",
    "    return 'color: {col}'.format(col=color)\n",
    "\n",
    "def make_bold(val):\n",
    "    weight = 700 if val > .1 else 400\n",
    "    return 'font-weight: {weight}'.format(weight=weight)\n",
    "\n",
    "# Apply Style\n",
    "df_document_topics = df_document_topic.head(15).style.applymap(color_green).applymap(make_bold)\n",
    "df_document_topics"
   ]
  },
  {
   "cell_type": "code",
   "execution_count": 32,
   "metadata": {},
   "outputs": [
    {
     "name": "stdout",
     "output_type": "stream",
     "text": [
      "Topic 1: [('두드러기', 355.48), ('알레르기', 273.8), ('처방', 272.61), ('선생님', 272.26), ('의사', 214.01), ('설명', 211.07), ('약도', 153.6), ('리뷰', 150.71), ('간호사', 143.46), ('복용', 142.14)]\n",
      "Topic 2: [('필러', 245.14), ('치료', 230.45), ('제거', 228.73), ('사마귀', 228.16), ('탈모', 176.23), ('수술', 169.64), ('냉동', 142.18), ('티눈', 132.53), ('답변', 116.78), ('친구', 101.73)]\n",
      "Topic 3: [('여드름', 1193.14), ('염증', 714.44), ('주사', 643.93), ('치료', 512.3), ('압출', 432.63), ('약물', 329.34), ('무좀', 300.84), ('선생님', 287.63), ('의사', 250.65), ('처방', 246.46)]\n",
      "Topic 4: [('처방', 702.36), ('선생님', 508.57), ('설명', 469.88), ('의사', 439.08), ('치료', 428.07), ('증상', 418.12), ('연고', 360.84), ('알레르기', 303.68), ('원장', 288.08), ('대기', 285.0)]\n",
      "Topic 5: [('시술', 982.15), ('레이저', 785.5), ('보톡스', 679.01), ('상담', 620.66), ('가격', 536.87), ('제거', 519.9), ('예약', 483.79), ('직원', 452.17), ('선생님', 444.3), ('효과', 413.5)]\n"
     ]
    }
   ],
   "source": [
    "terms = vectorizer.get_feature_names() # 단어 집합. 1,000개의 단어가 저장됨.\n",
    "\n",
    "def get_topics(components, feature_names, n=10):\n",
    "    for idx, topic in enumerate(components):\n",
    "        print(\"Topic %d:\" % (idx+1), [(feature_names[i], topic[i].round(2)) for i in topic.argsort()[:-n - 1:-1]])\n",
    "get_topics(lda_model.components_,terms)"
   ]
  },
  {
   "cell_type": "code",
   "execution_count": 33,
   "metadata": {},
   "outputs": [
    {
     "name": "stderr",
     "output_type": "stream",
     "text": [
      "C:\\Users\\yukir\\anaconda3\\envs\\NLP\\lib\\site-packages\\pyLDAvis\\_prepare.py:228: FutureWarning: In a future version of pandas all arguments of DataFrame.drop except for the argument 'labels' will be keyword-only\n",
      "  default_term_info  = pd.DataFrame({'saliency': saliency, 'Term': vocab, \\\n",
      "C:\\Users\\yukir\\anaconda3\\envs\\NLP\\lib\\site-packages\\sklearn\\manifold\\_t_sne.py:691: FutureWarning: 'square_distances' has been introduced in 0.24 to help phase out legacy squaring behavior. The 'legacy' setting will be removed in 1.1 (renaming of 0.26), and the default setting will be changed to True. In 1.3, 'square_distances' will be removed altogether, and distances will be squared by default. Set 'square_distances'=True to silence this warning.\n",
      "  warnings.warn(\n"
     ]
    },
    {
     "data": {
      "text/html": [
       "\n",
       "<link rel=\"stylesheet\" type=\"text/css\" href=\"https://cdn.rawgit.com/bmabey/pyLDAvis/files/ldavis.v1.0.0.css\">\n",
       "\n",
       "\n",
       "<div id=\"ldavis_el2760416456900865606177528569\"></div>\n",
       "<script type=\"text/javascript\">\n",
       "\n",
       "var ldavis_el2760416456900865606177528569_data = {\"mdsDat\": {\"x\": [150.22215270996094, 51.16336441040039, -73.1445541381836, -66.4101333618164, 54.41732406616211], \"y\": [-72.2695541381836, -159.968017578125, 21.523815155029297, -110.60643768310547, 12.44344425201416], \"topics\": [1, 2, 3, 4, 5], \"cluster\": [1, 1, 1, 1, 1], \"Freq\": [31.515735193801063, 24.810312950709065, 16.889278762254676, 14.710186928404841, 12.074486164830352]}, \"tinfo\": {\"Term\": [\"\\uc5ec\\ub4dc\\ub984\", \"\\uc5fc\\uc99d\", \"\\uc555\\ucd9c\", \"\\uc81c\\uac70\", \"\\uc8fc\\uc0ac\", \"\\ub450\\ub4dc\\ub7ec\\uae30\", \"\\ubcf4\\ud1a1\\uc2a4\", \"\\ud544\\ub7ec\", \"\\uc54c\\ub808\\ub974\\uae30\", \"\\ucc98\\ubc29\", \"\\uc0ac\\ub9c8\\uadc0\", \"\\ubb34\\uc880\", \"\\uc57d\\ubb3c\", \"\\ub808\\uc774\\uc800\", \"\\uc2dc\\uc220\", \"\\uc99d\\uc0c1\", \"\\ud0c8\\ubaa8\", \"\\uce58\\ub8cc\", \"\\uc218\\uc220\", \"\\ub0c9\\ub3d9\", \"\\ubbf8\\uc6a9\", \"\\ud2f0\\ub208\", \"\\uc81c\\ubaa8\", \"\\uc2b5\\uc9c4\", \"\\uc5f0\\uace0\", \"\\uc57d\\ub3c4\", \"\\uc950\\uc816\", \"\\ub2f5\\ubcc0\", \"\\ubcf5\\uc6a9\", \"\\ud53c\\ubd80\\uc9c8\\ud658\", \"\\ubcf4\\ud1a1\\uc2a4\", \"\\uc81c\\ubaa8\", \"\\uc950\\uc816\", \"\\ud1a0\\ub2dd\", \"\\ud654\\uc0c1\", \"\\uc2e4\\uc7a5\", \"\\uc774\\ubca4\\ud2b8\", \"\\ub9c1\\ud06c\", \"\\uacf5\\uc7a5\", \"\\uaca8\\ub4dc\\ub791\\uc774\", \"\\uacb0\\uc81c\", \"\\uc804\\ud654\", \"\\uc11c\\ube44\\uc2a4\", \"\\uc544\\ucfe0\\uc544\", \"\\ud328\\ud0a4\\uc9c0\", \"\\uc724\\uacfd\", \"\\ucf00\\uc5b4\", \"\\ucc38\\uace0\", \"\\uc704\\uc0dd\", \"\\uacfc\\uc815\", \"\\uc131\\ube44\", \"\\ub300\\ube44\", \"\\uc810\\ub3c4\", \"\\ubaa8\\ub4dc\", \"\\uc7a1\\ud2f0\", \"\\uc7ac\\uc0dd\", \"\\uae30\\ubbf8\", \"\\uc778\\uc0ac\", \"\\uae30\\ub300\", \"\\ud06c\\uae30\", \"\\uc2dc\\uc220\", \"\\ub808\\uc774\\uc800\", \"\\ub9c8\\ucde8\", \"\\uc0c1\\ub2f4\", \"\\uac00\\uaca9\", \"\\ud06c\\ub9bc\", \"\\uc81c\\uac70\", \"\\uc608\\uc57d\", \"\\uc9c4\\ud589\", \"\\ud6a8\\uacfc\", \"\\uc9c1\\uc6d0\", \"\\uad00\\ub9ac\", \"\\uae08\\uc561\", \"\\uc6d0\\uc7a5\", \"\\ud749\\ud130\", \"\\ub290\\ub08c\", \"\\ub9ac\\ubdf0\", \"\\ub300\\uae30\", \"\\uc124\\uba85\", \"\\uc120\\uc0dd\\ub2d8\", \"\\uc758\\uc0ac\", \"\\uce58\\ub8cc\", \"\\ucc98\\uc74c\", \"\\uc5bc\\uad74\", \"\\ucd94\\ucc9c\", \"\\uac04\\ud638\\uc0ac\", \"\\ubbf8\\uc6a9\", \"\\uc2b5\\uc9c4\", \"\\ud53c\\ubd80\\uc9c8\\ud658\", \"\\ub450\\ud53c\", \"\\ubaa9\\uc801\", \"\\uc9c8\\ud658\", \"\\uac00\\ub824\\uc6c0\\uc99d\", \"\\ub300\\uc0c1\\ud3ec\\uc9c4\", \"\\ubcf4\\ud5d8\", \"\\ud1a0\\uc694\\uc77c\", \"\\ub85c\\uc158\", \"\\ubaa8\\ub0ad\", \"\\uac00\\ub824\\uc6c0\", \"\\ubcd1\\uba85\", \"\\uba38\\ub9ac\", \"\\ucc28\\ub3c4\", \"\\uc9c8\\ubcd1\", \"\\ub4dc\\ub808\\uc2f1\", \"\\ubaa8\\uc2b5\", \"\\ubfb0\\ub8e8\\uc9c0\", \"\\ub300\\ud559\\ubcd1\\uc6d0\", \"\\uc9c1\\uc7a5\", \"\\ubb3c\\uc9d1\", \"\\ubc1c\\uc9c4\", \"\\uc774\\ud2c0\", \"\\uc758\\ub8cc\", \"\\ud658\\ubd80\", \"\\uc6d0\\ud615\\ud0c8\\ubaa8\", \"\\ub2e8\\uc21c\", \"\\uc758\\uc2ec\", \"\\uc9c4\\ucc30\", \"\\uc544\\ud1a0\\ud53c\", \"\\uc2a4\\ud14c\\ub85c\\uc774\\ub4dc\", \"\\uc99d\\uc0c1\", \"\\uc5f0\\uace0\", \"\\uc9c4\\ub2e8\", \"\\uc704\\uc8fc\", \"\\ud53c\\ubd80\\uc5fc\", \"\\ucc98\\ubc29\", \"\\uc804\\ubb38\", \"\\uc804\\ubb38\\uc758\", \"\\uc0c1\\ucc98\", \"\\uc57d\\uad6d\", \"\\uc6d0\\uc778\", \"\\uc54c\\ub808\\ub974\\uae30\", \"\\ub3d9\\ub124\", \"\\ud638\\uc804\", \"\\uc124\\uba85\", \"\\uc120\\uc0dd\\ub2d8\", \"\\uadfc\\ucc98\", \"\\uc758\\uc0ac\", \"\\uce58\\ub8cc\", \"\\ud658\\uc790\", \"\\ub300\\uae30\", \"\\uc6d0\\uc7a5\", \"\\uc9c1\\uc6d0\", \"\\uac04\\ud638\\uc0ac\", \"\\ub290\\ub08c\", \"\\uc2dc\\uc124\", \"\\ub9ac\\ubdf0\", \"\\uc8fc\\uc0ac\", \"\\ucd94\\ucc9c\", \"\\uc5fc\\uc99d\", \"\\uc5ec\\ub4dc\\ub984\", \"\\uc555\\ucd9c\", \"\\ubb34\\uc880\", \"\\uc811\\ucd09\\uc131\", \"\\ubc1c\\ud1b1\", \"\\uc7ac\\ubc1c\", \"\\ucd08\\uc74c\\ud30c\", \"\\uc544\\uce68\", \"\\ud654\\uc7a5\\ud488\", \"\\uc644\\uce58\", \"\\uc2a4\\ucf00\\uc77c\\ub9c1\", \"\\uc881\\uc300\", \"\\uccb4\\uc801\", \"\\uc5ec\\ub984\", \"\\uc544\\uae30\", \"\\uba40\\ub9ac\", \"\\ub300\\ud654\", \"\\uac10\\uc548\", \"\\uc190\\ud1b1\", \"\\uc77c\\uc694\\uc77c\", \"\\ub124\\uc774\\ubc84\", \"\\ubb38\\uc2e0\", \"\\ubc14\\ub78c\", \"\\uc9d1\\uc911\", \"\\ud654\\ub18d\", \"\\uc790\\uad81\\uacbd\\ubd80\\uc554\", \"\\ub208\\uc379\", \"\\uadfc\\ubb34\", \"\\ud3ec\\uc778\\ud2b8\", \"\\ubcd1\\ud589\", \"\\uc57d\\ubb3c\", \"\\uc5fc\\uc99d\", \"\\uc8fc\\uc0ac\", \"\\uc77c\\ucc0d\", \"\\ub9c8\\uc2a4\\ud06c\", \"\\ud2b8\\ub7ec\\ube14\", \"\\uce58\\ub8cc\", \"\\ud3c9\\uc77c\", \"\\uc190\\uac00\\ub77d\", \"\\uad00\\ub9ac\", \"\\uc120\\uc0dd\\ub2d8\", \"\\ucc98\\ubc29\", \"\\uc758\\uc0ac\", \"\\ud6a8\\uacfc\", \"\\ub300\\uae30\", \"\\uc124\\uba85\", \"\\uc9c1\\uc6d0\", \"\\ucd94\\ucc9c\", \"\\uc6d0\\uc7a5\", \"\\uc608\\uc57d\", \"\\uac04\\ud638\\uc0ac\", \"\\uc2dc\\uc124\", \"\\uac00\\uaca9\", \"\\ub450\\ub4dc\\ub7ec\\uae30\", \"\\ubcf5\\uc6a9\", \"\\ud3ec\\uc9c4\", \"\\uc791\\uc131\", \"\\ube44\\ub9cc\", \"\\ub300\\ub9ac\\uc778\", \"\\uc9c0\\ubc29\", \"\\uc911\\uac04\", \"\\uc131\\ud615\", \"\\uae30\\uc801\", \"\\uc678\\uacfc\", \"\\uc0ac\\uac01\", \"\\ub2e4\\uc774\\uc5b4\\ud2b8\", \"\\uc5ec\\uc758\\uc0ac\", \"\\uc2b5\\uad00\", \"\\uc758\\ud5a5\", \"\\uc0dd\\ud65c\", \"\\ubd88\\uce5c\\uc808\", \"\\ub2e4\\ub798\\ub07c\", \"\\ucc98\\ubc29\\uc57d\", \"\\ubc18\\uc751\", \"\\ubd84\\ud574\", \"\\uc2dd\\uc695\\uc5b5\\uc81c\\uc81c\", \"\\uac04\\ud638\\uc870\\ubb34\\uc0ac\", \"\\ubc18\\ub9d0\", \"\\uc0b4\\uc774\", \"\\uc694\\uccad\", \"\\uad00\\uc2ec\", \"\\uc9c0\\ud558\", \"\\ub9e4\\uc77c\", \"\\uc57d\\ub3c4\", \"\\uc774\\uc57c\\uae30\", \"\\uc54c\\ub808\\ub974\\uae30\", \"\\ucc98\\ubc29\", \"\\uac71\\uc815\", \"\\uc120\\uc0dd\\ub2d8\", \"\\uc124\\uba85\", \"\\uc758\\uc0ac\", \"\\uc694\\uc57d\", \"\\ub9ac\\ubdf0\", \"\\uac04\\ud638\\uc0ac\", \"\\uc6d0\\uc778\", \"\\ub9c8\\uc74c\", \"\\uc99d\\uc0c1\", \"\\ud658\\uc790\", \"\\uc9c1\\uc6d0\", \"\\uc6d0\\uc7a5\", \"\\ub300\\uae30\", \"\\ud6a8\\uacfc\", \"\\uc5f0\\uace0\", \"\\uc8fc\\uc0ac\", \"\\ud544\\ub7ec\", \"\\ud0c8\\ubaa8\", \"\\uc218\\uc220\", \"\\ub0c9\\ub3d9\", \"\\ud2f0\\ub208\", \"\\ub2f5\\ubcc0\", \"\\uc218\\uc561\", \"\\uce5c\\uad6c\", \"\\ud53c\\uc9c0\", \"\\ud544\\ub9c1\", \"\\uacfc\\ub85c\", \"\\ubc1c\\ubc14\\ub2e5\", \"\\uc18c\\ubb38\", \"\\ud658\\uacbd\", \"\\ub0ad\\uc885\", \"\\uc57c\\uac04\", \"\\ub0b4\\uacfc\", \"\\uc601\\uc5c5\", \"\\uc774\\uc0ac\", \"\\uc9c0\\uc5ed\", \"\\uac74\\uc120\", \"\\uac74\\uc870\", \"\\uc74c\\uc2dd\", \"\\ube44\\ud0c0\\ubbfc\", \"\\ub9ac\\ud130\", \"\\uc8fc\\uc704\", \"\\uc0ac\\ub791\", \"\\uc81c\\ub85c\", \"\\ud654\\uc7a5\", \"\\uc790\\uc5f0\", \"\\uc801\\uadf9\", \"\\uc0ac\\ub9c8\\uadc0\", \"\\uac80\\uc9c4\", \"\\uc2dc\\uc791\", \"\\uc81c\\uac70\", \"\\ucf54\\ub85c\\ub098\", \"\\uce58\\ub8cc\", \"\\uccb4\\ud06c\", \"\\uc785\\uc220\", \"\\uc120\\uc0dd\\ub2d8\", \"\\uc758\\uc0ac\", \"\\uc6d0\\uc7a5\"], \"Freq\": [1247.0, 937.0, 452.0, 732.0, 1107.0, 380.0, 602.0, 291.0, 575.0, 1222.0, 344.0, 315.0, 407.0, 792.0, 1000.0, 516.0, 209.0, 1634.0, 201.0, 169.0, 244.0, 157.0, 294.0, 239.0, 475.0, 234.0, 266.0, 139.0, 152.0, 206.0, 601.5156790684198, 293.21773265024297, 266.0455426468216, 226.63433764060483, 214.00449719939232, 213.53590325347048, 203.82065155996224, 154.11751553113893, 125.24639957044728, 114.27013525828954, 110.26661595088598, 106.8118390600612, 101.6832932993583, 98.40567696826834, 83.78135419580394, 81.4001761243862, 83.21770069161613, 81.57606994226093, 77.69690873632261, 76.422537982966, 72.91937472292987, 71.09805083718403, 63.45893275830654, 59.52441483469104, 58.71521494568768, 58.037032921253484, 58.16828059976515, 57.0073084920681, 51.94573201526506, 51.61628975155806, 870.0553231968669, 695.8504449628681, 160.33088096869713, 549.8235158455522, 475.6004458352532, 156.6025982274037, 460.561666567755, 428.57083327277286, 215.95413380815785, 366.3076597781311, 400.5666264051208, 250.61822639151322, 162.59167986774727, 352.0104451113814, 144.10096118307368, 239.81887024741258, 281.3290382219222, 310.00499815412735, 360.48483530032524, 393.59329747825194, 356.480607923741, 359.1835411334331, 188.99519775866497, 179.5030275592525, 195.84257831131447, 187.35151029477547, 244.05066755489173, 238.5520353269969, 205.67185797642537, 156.9602025898919, 159.09942958735152, 133.93312754943466, 110.74835073800763, 110.17714677844653, 109.66060151753133, 104.77803150383222, 83.65657732555582, 79.45872136579577, 77.53775324743599, 77.12104020220676, 74.91409388931869, 70.6506929375229, 70.16199575234249, 64.8042176731945, 66.0844586201931, 62.37637195848025, 59.61491555867632, 59.52142884205377, 56.403018653186834, 55.54975089270001, 54.940898218009934, 54.08877820708388, 50.97055166698967, 49.7744739975936, 48.115337183728364, 47.11401031673669, 122.8850985309526, 234.08793478146472, 140.229588959523, 388.61899894741623, 335.383817905592, 182.98867367516416, 93.94110475855786, 237.5375704735495, 652.8013888057031, 102.73008841883355, 175.3785457595451, 129.40070553116522, 104.9391721777328, 176.37525769048955, 282.254385812088, 171.69157257758147, 136.98268446016482, 436.7305986824063, 472.68652664425076, 215.79592478966467, 408.10121808188165, 397.8673953259931, 223.82876669991157, 264.89193194550484, 267.75013660686477, 231.91678778468926, 205.24526113729695, 181.40247740414625, 179.1329359883045, 184.36856036777678, 197.6692295934082, 174.51526456750614, 174.3931015973788, 1246.3938003627368, 451.9347336636557, 314.26391056453684, 128.9422384549902, 119.40132946701918, 109.78477779001652, 104.48300597763713, 102.56284215626103, 100.1942086484132, 87.59356208939863, 82.54574365769916, 75.18503141314211, 76.66400543605191, 68.38241935405809, 65.2757657251307, 54.630255510969306, 53.574102351439265, 42.55494189744531, 41.475975639827986, 39.047182014659626, 39.75396504992733, 38.793464603101526, 39.46455356518961, 38.99231606545869, 35.66131620877949, 34.86468297798565, 35.00602599171614, 32.207839596528046, 31.770095097683992, 29.5070173561878, 344.034450050801, 746.3218448066433, 672.6721299801043, 95.81306999642379, 122.26053746674344, 172.85802538393534, 535.1648755603923, 113.31308503438562, 63.8072579290315, 180.87210194032397, 300.4625315768071, 257.4604934386832, 261.8385699963885, 188.2325928806435, 184.5489500714005, 195.7010269737337, 165.84689329345923, 130.73811946378092, 146.18449574732284, 123.30081228161893, 111.51777890764866, 102.34794148027488, 96.77376738333358, 379.9211712280872, 151.9136550360948, 147.09272442285044, 135.83669591557958, 115.07290538496177, 108.68679251425503, 100.36382622000797, 94.88340703764403, 87.36147204396795, 85.53185756771788, 78.8372582707714, 77.31290938962047, 72.4283336407252, 70.2708922936061, 66.47051584060539, 66.80841168886539, 64.08812705609093, 63.40575877933548, 58.06906647433239, 55.43962340570915, 55.28639997315755, 49.44169209168817, 48.74780201909271, 49.12559250015675, 47.8480871453527, 45.0060359721391, 44.12484352219687, 41.70790522535764, 40.9523071455625, 40.244093326464444, 164.16074180130482, 107.45607177826993, 292.63013610038826, 291.35383288300625, 119.37468727013314, 290.9785352763785, 225.58858319756726, 228.73009363578217, 70.45610601343554, 161.0754915855813, 153.32901454218486, 103.32889530333333, 92.43396191022839, 126.8837856144707, 116.67158249646666, 134.8639269048116, 123.51050873695033, 114.77029957560964, 88.23551165553873, 83.97834928477137, 79.81741975700656, 290.5842440447304, 208.89899251386842, 201.08921873141395, 168.54172473139639, 157.10453030286882, 138.43498406586733, 120.27475724802628, 120.58629594144138, 110.16039956161971, 91.01931197363623, 84.8438239208831, 83.43378108727121, 81.76474644083127, 80.63980719508919, 77.42820082289617, 78.05370345838493, 73.66389639436176, 71.5889362443566, 68.30762960484874, 62.40973643318879, 56.66554898683065, 55.701279869039396, 54.589960242786816, 52.62944178119558, 50.75204859933131, 50.21898397624791, 49.5608877366922, 47.29641954755879, 45.12252720767789, 43.508685260080256, 43.68955413091736, 270.45303486763277, 80.2045513649767, 78.10356467462539, 271.1373290419773, 90.38397163195644, 273.17678855029203, 69.29882957754585, 67.6396963713506, 88.42610173086194, 74.05115948365264, 66.57970709348142], \"Total\": [1247.0, 937.0, 452.0, 732.0, 1107.0, 380.0, 602.0, 291.0, 575.0, 1222.0, 344.0, 315.0, 407.0, 792.0, 1000.0, 516.0, 209.0, 1634.0, 201.0, 169.0, 244.0, 157.0, 294.0, 239.0, 475.0, 234.0, 266.0, 139.0, 152.0, 206.0, 602.369711575795, 294.0665475800428, 266.8972211478682, 227.4860105536148, 214.86340399615517, 214.3954218176626, 204.6727604053511, 154.96607108533092, 126.09981931673289, 115.12099477671025, 111.16159699922143, 107.685265019662, 102.54328735646288, 99.26550068207334, 84.63643207265252, 82.25220110265484, 84.08944943311427, 82.46223613439638, 78.57204219602339, 77.2902525724516, 73.77551845369595, 71.95767787136171, 64.32771830786923, 60.37308366217559, 59.56495239741921, 58.891570711334, 59.02825498371243, 57.88387616424813, 52.812825050135395, 52.484734202469625, 1000.5012418232953, 792.4427867464838, 173.82881957610232, 719.4548510036993, 611.7611422782313, 190.36610419252253, 732.3157652140187, 708.4745759410021, 304.66736948528785, 772.0912184762743, 967.8980891346041, 507.8671604343123, 256.00788608726083, 956.0352932960008, 216.12585516927695, 547.3338943357417, 743.0448884704663, 907.0556512216799, 1273.183970117471, 1546.1469927065505, 1329.2016491214458, 1634.0529838088412, 426.0832013476853, 390.66277017391434, 625.6025508073079, 702.9478699169526, 244.90611222241094, 239.4942028955324, 206.51936784530554, 157.8043245055375, 159.95599603757245, 134.78508313731925, 111.59193153759347, 111.02044261157681, 110.51750120647496, 105.64221840943101, 84.50628985186376, 80.31120150817083, 78.38233051506491, 77.970204008141, 75.77283081478507, 71.50359769372724, 71.01000613425305, 65.65227071088378, 66.96108463349985, 63.240022252112944, 60.46918739287919, 60.37460397354001, 57.257461143910376, 56.39567026374857, 55.80762021112783, 54.94588555170156, 51.817432712536394, 50.6225679103422, 48.96805423097941, 47.97081473721013, 133.37605212987302, 279.9221343145129, 159.21040614324713, 516.1374868998022, 475.78655152671956, 234.31293792168853, 107.07644452283681, 339.5115962705808, 1222.966998824187, 122.76839850807332, 248.25281334775684, 170.33023626641898, 127.92965228101642, 280.3415202381609, 575.5143358089294, 275.51918158838043, 194.41646472893436, 1273.183970117471, 1546.1469927065505, 419.85756269867323, 1329.2016491214458, 1634.0529838088412, 560.181313145454, 907.0556512216799, 956.0352932960008, 967.8980891346041, 702.9478699169526, 547.3338943357417, 548.3666647940983, 743.0448884704663, 1107.4938058378186, 625.6025508073079, 937.3616544026739, 1247.490684772068, 452.7535301944835, 315.08590959496905, 129.77069485641883, 120.22128524264448, 110.63030257407492, 105.31309937866327, 103.39394976074742, 101.02919853262998, 88.43201034236975, 83.36542723226442, 76.0065199302999, 77.5031910419533, 69.22177386556216, 66.1107301086622, 55.471760321322584, 54.41667009445608, 43.394145016652736, 42.306354816837015, 39.87665850828302, 40.59935194193385, 39.619451501722274, 40.30482926775393, 39.84718429065049, 36.4791936920553, 35.68647562766845, 35.83985458415459, 33.04353573800879, 32.59934992874413, 30.348632607955988, 407.4931632292416, 937.3616544026739, 1107.4938058378186, 119.46719569382095, 165.57871782198708, 262.71283036893504, 1634.0529838088412, 188.7123064668942, 86.51961309644989, 507.8671604343123, 1546.1469927065505, 1222.966998824187, 1329.2016491214458, 772.0912184762743, 907.0556512216799, 1273.183970117471, 967.8980891346041, 625.6025508073079, 956.0352932960008, 708.4745759410021, 702.9478699169526, 548.3666647940983, 611.7611422782313, 380.74087999595986, 152.7438072946293, 147.91221403552535, 136.65626854136156, 115.89864502511634, 109.50047987265725, 101.18281092475513, 95.71175507581953, 88.19101541847661, 86.36544118990619, 79.66587076522227, 78.14561351153175, 73.24485472337939, 71.0983782302455, 67.28989875731688, 67.63647874546336, 64.90885900876914, 64.23301758780026, 58.882435137647526, 56.26171096226221, 56.10834140051443, 50.256138763573034, 49.559896898379804, 49.95036908671907, 48.71327312196485, 45.831780086958894, 44.95631792539433, 42.53725854353641, 41.77317803939073, 41.07322710729008, 234.33536663929226, 147.729699905, 575.5143358089294, 1222.966998824187, 255.91656267797515, 1546.1469927065505, 1273.183970117471, 1329.2016491214458, 111.20101127363866, 743.0448884704663, 702.9478699169526, 280.3415202381609, 209.80349935938327, 516.1374868998022, 560.181313145454, 967.8980891346041, 956.0352932960008, 907.0556512216799, 772.0912184762743, 475.78655152671956, 1107.4938058378186, 291.3820214627266, 209.69367406867985, 201.8879760962952, 169.33052283343682, 157.89374615571876, 139.2453362169048, 121.06851077246714, 121.39794168584375, 110.98189343711483, 91.82504890807904, 85.64950389228147, 84.22651988271075, 82.56637122036699, 81.44396510448654, 78.21675064478758, 78.85408048786485, 74.46506384407125, 72.39592878560782, 69.10736921736913, 63.21467679380086, 57.462043585998494, 56.50167837595349, 55.39849374897117, 53.42878518410197, 51.55148275075057, 51.021435460393754, 50.367839017398744, 48.09821185534817, 45.932588297730945, 44.30645467914818, 44.49285080372494, 344.94364870621973, 98.52112224707564, 103.88359842749651, 732.3157652140187, 151.71743322971332, 1634.0529838088412, 114.15015878939654, 128.16226168439852, 1546.1469927065505, 1329.2016491214458, 956.0352932960008], \"Category\": [\"Default\", \"Default\", \"Default\", \"Default\", \"Default\", \"Default\", \"Default\", \"Default\", \"Default\", \"Default\", \"Default\", \"Default\", \"Default\", \"Default\", \"Default\", \"Default\", \"Default\", \"Default\", \"Default\", \"Default\", \"Default\", \"Default\", \"Default\", \"Default\", \"Default\", \"Default\", \"Default\", \"Default\", \"Default\", \"Default\", \"Topic1\", \"Topic1\", \"Topic1\", \"Topic1\", \"Topic1\", \"Topic1\", \"Topic1\", \"Topic1\", \"Topic1\", \"Topic1\", \"Topic1\", \"Topic1\", \"Topic1\", \"Topic1\", \"Topic1\", \"Topic1\", \"Topic1\", \"Topic1\", \"Topic1\", \"Topic1\", \"Topic1\", \"Topic1\", \"Topic1\", \"Topic1\", \"Topic1\", \"Topic1\", \"Topic1\", \"Topic1\", \"Topic1\", \"Topic1\", \"Topic1\", \"Topic1\", \"Topic1\", \"Topic1\", \"Topic1\", \"Topic1\", \"Topic1\", \"Topic1\", \"Topic1\", \"Topic1\", \"Topic1\", \"Topic1\", \"Topic1\", \"Topic1\", \"Topic1\", \"Topic1\", \"Topic1\", \"Topic1\", \"Topic1\", \"Topic1\", \"Topic1\", \"Topic1\", \"Topic1\", \"Topic1\", \"Topic1\", \"Topic1\", \"Topic2\", \"Topic2\", \"Topic2\", \"Topic2\", \"Topic2\", \"Topic2\", \"Topic2\", \"Topic2\", \"Topic2\", \"Topic2\", \"Topic2\", \"Topic2\", \"Topic2\", \"Topic2\", \"Topic2\", \"Topic2\", \"Topic2\", \"Topic2\", \"Topic2\", \"Topic2\", \"Topic2\", \"Topic2\", \"Topic2\", \"Topic2\", \"Topic2\", \"Topic2\", \"Topic2\", \"Topic2\", \"Topic2\", \"Topic2\", \"Topic2\", \"Topic2\", \"Topic2\", \"Topic2\", \"Topic2\", \"Topic2\", \"Topic2\", \"Topic2\", \"Topic2\", \"Topic2\", \"Topic2\", \"Topic2\", \"Topic2\", \"Topic2\", \"Topic2\", \"Topic2\", \"Topic2\", \"Topic2\", \"Topic2\", \"Topic2\", \"Topic2\", \"Topic2\", \"Topic2\", \"Topic2\", \"Topic2\", \"Topic2\", \"Topic2\", \"Topic2\", \"Topic2\", \"Topic2\", \"Topic2\", \"Topic2\", \"Topic2\", \"Topic3\", \"Topic3\", \"Topic3\", \"Topic3\", \"Topic3\", \"Topic3\", \"Topic3\", \"Topic3\", \"Topic3\", \"Topic3\", \"Topic3\", \"Topic3\", \"Topic3\", \"Topic3\", \"Topic3\", \"Topic3\", \"Topic3\", \"Topic3\", \"Topic3\", \"Topic3\", \"Topic3\", \"Topic3\", \"Topic3\", \"Topic3\", \"Topic3\", \"Topic3\", \"Topic3\", \"Topic3\", \"Topic3\", \"Topic3\", \"Topic3\", \"Topic3\", \"Topic3\", \"Topic3\", \"Topic3\", \"Topic3\", \"Topic3\", \"Topic3\", \"Topic3\", \"Topic3\", \"Topic3\", \"Topic3\", \"Topic3\", \"Topic3\", \"Topic3\", \"Topic3\", \"Topic3\", \"Topic3\", \"Topic3\", \"Topic3\", \"Topic3\", \"Topic3\", \"Topic3\", \"Topic4\", \"Topic4\", \"Topic4\", \"Topic4\", \"Topic4\", \"Topic4\", \"Topic4\", \"Topic4\", \"Topic4\", \"Topic4\", \"Topic4\", \"Topic4\", \"Topic4\", \"Topic4\", \"Topic4\", \"Topic4\", \"Topic4\", \"Topic4\", \"Topic4\", \"Topic4\", \"Topic4\", \"Topic4\", \"Topic4\", \"Topic4\", \"Topic4\", \"Topic4\", \"Topic4\", \"Topic4\", \"Topic4\", \"Topic4\", \"Topic4\", \"Topic4\", \"Topic4\", \"Topic4\", \"Topic4\", \"Topic4\", \"Topic4\", \"Topic4\", \"Topic4\", \"Topic4\", \"Topic4\", \"Topic4\", \"Topic4\", \"Topic4\", \"Topic4\", \"Topic4\", \"Topic4\", \"Topic4\", \"Topic4\", \"Topic4\", \"Topic4\", \"Topic5\", \"Topic5\", \"Topic5\", \"Topic5\", \"Topic5\", \"Topic5\", \"Topic5\", \"Topic5\", \"Topic5\", \"Topic5\", \"Topic5\", \"Topic5\", \"Topic5\", \"Topic5\", \"Topic5\", \"Topic5\", \"Topic5\", \"Topic5\", \"Topic5\", \"Topic5\", \"Topic5\", \"Topic5\", \"Topic5\", \"Topic5\", \"Topic5\", \"Topic5\", \"Topic5\", \"Topic5\", \"Topic5\", \"Topic5\", \"Topic5\", \"Topic5\", \"Topic5\", \"Topic5\", \"Topic5\", \"Topic5\", \"Topic5\", \"Topic5\", \"Topic5\", \"Topic5\", \"Topic5\", \"Topic5\"], \"logprob\": [30.0, 29.0, 28.0, 27.0, 26.0, 25.0, 24.0, 23.0, 22.0, 21.0, 20.0, 19.0, 18.0, 17.0, 16.0, 15.0, 14.0, 13.0, 12.0, 11.0, 10.0, 9.0, 8.0, 7.0, 6.0, 5.0, 4.0, 3.0, 2.0, 1.0, -3.8681, -4.5866, -4.6839, -4.8442, -4.9015, -4.9037, -4.9503, -5.2298, -5.4372, -5.529, -5.5646, -5.5965, -5.6457, -5.6784, -5.8393, -5.8681, -5.8461, -5.866, -5.9147, -5.9312, -5.9782, -6.0035, -6.1171, -6.1811, -6.1948, -6.2064, -6.2042, -6.2243, -6.3173, -6.3237, -3.499, -3.7224, -5.1903, -3.9579, -4.1029, -5.2138, -4.1351, -4.2071, -4.8925, -4.3641, -4.2746, -4.7436, -5.1763, -4.4039, -5.297, -4.7876, -4.628, -4.5309, -4.3801, -4.2922, -4.3912, -4.3837, -5.0258, -5.0773, -4.9902, -5.0345, -4.5309, -4.5537, -4.702, -4.9723, -4.9588, -5.131, -5.321, -5.3262, -5.3309, -5.3765, -5.6016, -5.6531, -5.6775, -5.6829, -5.712, -5.7705, -5.7775, -5.8569, -5.8374, -5.8951, -5.9404, -5.942, -5.9958, -6.011, -6.022, -6.0377, -6.097, -6.1208, -6.1547, -6.1757, -5.217, -4.5726, -5.085, -4.0657, -4.213, -4.8189, -5.4856, -4.558, -3.547, -5.3962, -4.8614, -5.1654, -5.3749, -4.8557, -4.3855, -4.8826, -5.1084, -3.949, -3.8699, -4.654, -4.0168, -4.0422, -4.6174, -4.449, -4.4382, -4.5819, -4.7041, -4.8276, -4.8402, -4.8114, -4.7417, -4.8663, -4.867, -2.5157, -3.5302, -3.8935, -4.7844, -4.8612, -4.9452, -4.9947, -5.0132, -5.0366, -5.171, -5.2304, -5.3238, -5.3043, -5.4186, -5.4651, -5.6431, -5.6627, -5.8929, -5.9186, -5.9789, -5.961, -5.9855, -5.9683, -5.9804, -6.0697, -6.0922, -6.0882, -6.1715, -6.1852, -6.2591, -3.803, -3.0286, -3.1325, -5.0813, -4.8376, -4.4912, -3.3611, -4.9136, -5.4879, -4.4459, -3.9384, -4.0929, -4.076, -4.406, -4.4258, -4.3671, -4.5327, -4.7705, -4.6588, -4.8291, -4.9295, -5.0153, -5.0713, -3.5656, -4.4823, -4.5145, -4.5941, -4.76, -4.8171, -4.8968, -4.9529, -5.0355, -5.0567, -5.1382, -5.1577, -5.223, -5.2532, -5.3088, -5.3037, -5.3453, -5.356, -5.4439, -5.4903, -5.4931, -5.6048, -5.6189, -5.6112, -5.6375, -5.6988, -5.7186, -5.7749, -5.7932, -5.8106, -4.4047, -4.8285, -3.8267, -3.831, -4.7233, -3.8323, -4.0869, -4.073, -5.2506, -4.4237, -4.473, -4.8677, -4.9791, -4.6623, -4.7462, -4.6013, -4.6893, -4.7626, -5.0256, -5.075, -5.1258, -3.6362, -3.9663, -4.0044, -4.1809, -4.2512, -4.3777, -4.5184, -4.5158, -4.6062, -4.7971, -4.8673, -4.8841, -4.9043, -4.9181, -4.9588, -4.9507, -5.0086, -5.0372, -5.0841, -5.1744, -5.271, -5.2881, -5.3083, -5.3449, -5.3812, -5.3917, -5.4049, -5.4517, -5.4988, -5.5352, -5.531, -3.708, -4.9236, -4.9501, -3.7055, -4.8041, -3.698, -5.0697, -5.0939, -4.826, -5.0034, -5.1097], \"loglift\": [30.0, 29.0, 28.0, 27.0, 26.0, 25.0, 24.0, 23.0, 22.0, 21.0, 20.0, 19.0, 18.0, 17.0, 16.0, 15.0, 14.0, 13.0, 12.0, 11.0, 10.0, 9.0, 8.0, 7.0, 6.0, 5.0, 4.0, 3.0, 2.0, 1.0, 1.1533, 1.1518, 1.1515, 1.1509, 1.1507, 1.1507, 1.1505, 1.1492, 1.1479, 1.1473, 1.1466, 1.1465, 1.1463, 1.146, 1.1445, 1.1443, 1.1443, 1.1439, 1.1435, 1.1434, 1.143, 1.1427, 1.1411, 1.1405, 1.1403, 1.1401, 1.14, 1.1394, 1.1381, 1.138, 1.015, 1.0247, 1.0739, 0.8858, 0.9029, 0.9594, 0.6909, 0.652, 0.8105, 0.4091, 0.2724, 0.4484, 0.7007, 0.1555, 0.7493, 0.3295, 0.1835, 0.0811, -0.1071, -0.2135, -0.1614, -0.3603, 0.3418, 0.377, -0.0067, -0.1676, 1.3904, 1.39, 1.3898, 1.3885, 1.3885, 1.3876, 1.3863, 1.3863, 1.3861, 1.3857, 1.3838, 1.3832, 1.3831, 1.383, 1.3825, 1.3819, 1.3819, 1.3809, 1.3807, 1.3802, 1.3797, 1.3797, 1.3789, 1.3788, 1.3783, 1.3782, 1.3774, 1.377, 1.3763, 1.3759, 1.312, 1.2151, 1.267, 1.1101, 1.0442, 1.1467, 1.263, 1.0367, 0.7661, 1.2157, 1.0464, 1.1191, 1.1958, 0.9305, 0.6815, 0.921, 1.0438, 0.324, 0.2088, 0.7283, 0.2131, -0.0188, 0.4765, 0.163, 0.1212, -0.0348, 0.1628, 0.2896, 0.2751, 0.0001, -0.3293, 0.1172, -0.2878, 1.7776, 1.7767, 1.7759, 1.7721, 1.7716, 1.7708, 1.7706, 1.7704, 1.7702, 1.769, 1.7686, 1.7676, 1.7676, 1.7663, 1.7658, 1.7632, 1.7629, 1.759, 1.7587, 1.7575, 1.7574, 1.7574, 1.7574, 1.7568, 1.7558, 1.7552, 1.755, 1.7529, 1.7527, 1.7504, 1.6092, 1.5506, 1.2799, 1.5578, 1.4752, 1.3599, 0.6622, 1.2684, 1.474, 0.7461, 0.1403, 0.2203, 0.1539, 0.3671, 0.1862, -0.0942, 0.0144, 0.213, -0.0994, 0.03, -0.0626, 0.0999, -0.0655, 1.9145, 1.9112, 1.9111, 1.9106, 1.9095, 1.9092, 1.9085, 1.9079, 1.9072, 1.9069, 1.9062, 1.9059, 1.9054, 1.9049, 1.9044, 1.9043, 1.9039, 1.9037, 1.9027, 1.9019, 1.9019, 1.9003, 1.9001, 1.9, 1.8987, 1.8984, 1.898, 1.8969, 1.8968, 1.8962, 1.5607, 1.5983, 1.2403, 0.4821, 1.154, 0.2464, 0.1861, 0.1568, 1.4603, 0.3877, 0.3939, 0.9185, 1.097, 0.5135, 0.3477, -0.0542, -0.1298, -0.1506, -0.2525, 0.1822, -0.7135, 2.1113, 2.1103, 2.1101, 2.1094, 2.1091, 2.1082, 2.1075, 2.1074, 2.1066, 2.1053, 2.1046, 2.1046, 2.1043, 2.1042, 2.1039, 2.1039, 2.1033, 2.1029, 2.1024, 2.1013, 2.1001, 2.0998, 2.0994, 2.099, 2.0984, 2.0982, 2.0979, 2.0973, 2.0963, 2.0959, 2.0959, 1.8708, 1.9084, 1.8288, 1.1205, 1.5961, 0.3254, 1.615, 1.475, -0.7473, -0.7735, -0.5503]}, \"token.table\": {\"Topic\": [1, 2, 3, 4, 5, 2, 2, 1, 2, 3, 4, 5, 4, 3, 1, 4, 5, 5, 5, 3, 5, 1, 1, 1, 5, 1, 1, 2, 3, 4, 5, 4, 3, 1, 2, 3, 4, 5, 1, 3, 4, 5, 1, 1, 4, 5, 5, 5, 3, 3, 1, 2, 3, 4, 5, 4, 4, 2, 5, 1, 2, 3, 4, 5, 4, 1, 2, 2, 3, 1, 2, 3, 4, 5, 4, 2, 2, 1, 3, 5, 2, 1, 2, 3, 4, 5, 5, 1, 3, 5, 1, 4, 1, 5, 4, 2, 3, 2, 1, 2, 2, 3, 3, 2, 2, 3, 4, 4, 5, 2, 3, 2, 3, 1, 2, 4, 4, 4, 4, 5, 2, 4, 5, 1, 5, 4, 1, 2, 3, 4, 5, 1, 2, 5, 4, 1, 1, 2, 3, 4, 5, 1, 2, 3, 4, 5, 1, 4, 5, 1, 3, 3, 5, 5, 3, 2, 4, 4, 2, 1, 2, 3, 4, 5, 1, 2, 3, 4, 5, 2, 5, 4, 1, 3, 3, 1, 2, 4, 2, 4, 3, 5, 2, 3, 3, 4, 2, 3, 5, 1, 2, 3, 4, 3, 3, 4, 2, 3, 4, 2, 3, 4, 5, 1, 2, 3, 4, 5, 3, 4, 2, 4, 4, 2, 4, 1, 2, 3, 4, 5, 2, 1, 2, 5, 1, 5, 2, 1, 2, 3, 4, 5, 2, 4, 1, 5, 1, 4, 2, 1, 3, 1, 3, 2, 4, 5, 3, 5, 4, 1, 3, 1, 5, 2, 3, 2, 3, 4, 1, 1, 3, 1, 5, 5, 1, 3, 1, 2, 3, 4, 5, 5, 4, 1, 2, 4, 4, 5, 4, 1, 2, 3, 4, 5, 2, 2, 3, 4, 2, 3, 1, 2, 3, 4, 5, 2, 2, 3, 2, 1, 2, 3, 4, 5, 4, 1, 2, 3, 4, 5, 3, 1, 5, 3, 1, 2, 3, 4, 5, 1, 2, 3, 4, 5, 5, 1, 1, 3, 4, 5, 1, 1, 5, 5, 1, 2, 1, 2, 3, 5, 1, 1, 3, 3, 4, 2, 3, 4, 2, 5, 5, 5, 2, 4, 5, 3, 1, 5, 3, 5, 2, 1, 2, 3, 4, 5, 1, 2, 3, 4, 5, 1, 2, 3], \"Freq\": [0.7780814554964222, 0.040865622662627214, 0.15855861593099357, 0.013076999252040708, 0.009807749439030532, 0.9951222359356688, 0.9946955704643032, 0.2660225715202643, 0.2916290222548352, 0.15932902679288558, 0.21765483124385263, 0.0654387074327923, 0.9809737324449168, 0.9909170922367181, 0.32823197967729373, 0.4649953045428327, 0.20319122551451516, 0.9919591515170011, 0.9911210004662977, 0.18270193831997572, 0.8120086147554476, 0.9902624644715368, 0.9895503750343784, 0.9912781848325222, 0.9924167232410555, 0.9833063998433421, 0.49422372532485176, 0.11223407308173924, 0.356392407505172, 0.029535282389931382, 0.0078760753039817, 0.9873696951347598, 0.9684193681244453, 0.1309968067419875, 0.5144601864776237, 0.157196168090385, 0.16910496870329297, 0.028581121470979094, 0.6366991364650427, 0.16015131653415185, 0.16015131653415185, 0.042967426387211474, 0.984609324546381, 0.9825802916925775, 0.9957686641222311, 0.9844438610047441, 0.9937546035675858, 0.9980480611061365, 0.985237401257265, 0.9765664622834184, 0.43848919733222463, 0.33069393632138605, 0.12606564423301458, 0.10048710772196814, 0.0036540766444352053, 0.9850136099910833, 0.9830042024374166, 0.9802309026531224, 0.9910565319403953, 0.3417651382056574, 0.2921540697564491, 0.20395661473563426, 0.1267838415924213, 0.03638145019608611, 0.9954294275857122, 0.9866910953814582, 0.9908085160933199, 0.992240884769448, 0.9923429696500571, 0.13066240902886828, 0.6242759542490374, 0.1342919203907813, 0.06533120451443414, 0.043554136342956094, 0.9980541096717334, 0.9949030262126355, 0.9900647654099244, 0.8782968457035909, 0.08959637362780884, 0.031548018883031284, 0.9940088500778905, 0.3781736532478265, 0.24762972312313192, 0.12381486156156596, 0.21667600773274043, 0.032299529103017206, 0.9893022911985486, 0.9937659187035918, 0.736809667358106, 0.2596952106262177, 0.557664673645813, 0.43850555534542557, 0.9204457603185411, 0.07478621802588147, 0.9738703972666518, 0.9898006870473913, 0.9914954867379385, 0.9836734915734335, 0.9938203643156076, 0.9856471166983004, 0.9940233810469481, 0.9965536078831169, 0.9843649652319052, 0.9780384753569515, 0.9963001649318247, 0.967625982011097, 0.985357725394904, 0.9802464059202386, 0.9854378420903686, 0.9929840311871795, 0.9898413559613878, 0.9875567337487061, 0.9885124113346513, 0.9993862381047881, 0.9953174727909552, 0.9951303603870855, 0.9750052671280127, 0.9808039909363615, 0.9922462853217862, 0.9919746409613379, 0.9803918118945394, 0.9853400151326127, 0.9926969466116726, 0.2145277939673678, 0.7827365455566122, 0.9818514557937589, 0.7644677066708276, 0.07088700552765856, 0.08478641837621906, 0.0722769468125146, 0.006949706424280251, 0.18199939528946527, 0.7573523223335813, 0.05283853411629637, 0.9859979204279904, 0.99470187302876, 0.25482700018728355, 0.3059217540319419, 0.19403071080250014, 0.18820978947842515, 0.05691567516873338, 0.28275568060033335, 0.3432339789509602, 0.15394475943795927, 0.17750773282132037, 0.043198784536162035, 0.989488132785096, 0.9864950481313193, 0.9931404128339931, 0.2542776049573286, 0.7397166689667741, 0.9691215463375938, 0.9956016395158092, 0.9911743295952878, 0.9956165613924546, 0.8793395067030804, 0.11305793657611032, 0.9808307222757321, 0.9979364724091131, 0.291775576949188, 0.32642392671190407, 0.18600693030510734, 0.13494620433899945, 0.060178712745770024, 0.8695641380859536, 0.05797094253906357, 0.03798096235317958, 0.014992485139412991, 0.01899048117658979, 0.24065396634723096, 0.7508403750033606, 0.9887026218087611, 0.9981556424371837, 0.9831989435476426, 0.9961898180535804, 0.9872513544647654, 0.8359467555969832, 0.1607589914609583, 0.4899964821964468, 0.5091098201544643, 0.9983356724040123, 0.9891688485544349, 0.8207635847344599, 0.17196951299198207, 0.29871718044058454, 0.6998516798893695, 0.007362086706500898, 0.8441859423454363, 0.14724173413001795, 0.4607554487976114, 0.2073399519589251, 0.243176486865406, 0.08703158477288214, 0.9988050533841537, 0.9823498619388893, 0.984551289950827, 0.704097244709925, 0.1176998379216591, 0.17654975688248867, 0.18562739278137005, 0.7958507759477129, 0.017069185543114488, 0.9945310628339292, 0.6055263160716791, 0.14114832542463382, 0.17361244027229958, 0.06492822969533156, 0.01552631579670972, 0.9951147741559058, 0.991641706055224, 0.3597089589551459, 0.6294906781715053, 0.9787278413908062, 0.6278056844754256, 0.36740900852823205, 0.3681872442035634, 0.28032437910953123, 0.15271402742534165, 0.12970232466261894, 0.07008109477738281, 0.9877017714422384, 0.9927195198185603, 0.8778774866768394, 0.12140858858296714, 0.984776077893745, 0.9928067764662181, 0.9827851431967272, 0.26782994155574746, 0.3069511689740027, 0.19711079968428608, 0.17228386689962408, 0.055672515941363236, 0.9797623879742638, 0.99058971198281, 0.9967129949094412, 0.983976105154777, 0.2707647820697034, 0.7242957920364566, 0.9855284957847603, 0.9847301835533596, 0.9780157480321244, 0.1925214688971694, 0.8035678701794896, 0.2574860927568756, 0.21067043952835277, 0.5305774032565922, 0.9807637034592396, 0.9930832949427477, 0.9951976696834589, 0.990515355512251, 0.9943026227045444, 0.9848608094407234, 0.9889229214396916, 0.8389781185687346, 0.15476295391073747, 0.7049265530572536, 0.1852949796607638, 0.10473194502564911, 0.9936364086624397, 0.9793600901322997, 0.9940611024910397, 0.6295098670520538, 0.37005894570738956, 0.9771673038770972, 0.9963731080980828, 0.9867574527655929, 0.13453799851032264, 0.17878203828888511, 0.6076783422647459, 0.07223516698540813, 0.007223516698540813, 0.9799802680740596, 0.9925635563232991, 0.9966383271282876, 0.7536751541465087, 0.2460584693486031, 0.9883101594634021, 0.9807848927589553, 0.9814910410057466, 0.41429981575698055, 0.2396946564978042, 0.17150565939067025, 0.139477494082774, 0.0361608317992377, 0.9937953386211165, 0.7810068091978847, 0.12376610637562108, 0.09389152897460909, 0.9222045339910835, 0.07497597837325881, 0.7089699181271543, 0.04595175395268593, 0.07549216720798402, 0.04266948581320836, 0.12800845743962508, 0.9857765660188297, 0.9941752965606779, 0.9787391680056734, 0.9929570299961086, 0.9943945719147971, 0.5339473596816776, 0.21014467295281955, 0.23794591373256999, 0.01717135459925763, 0.9775742518191722, 0.44357533787344827, 0.18071587839288633, 0.16194020271570334, 0.14785844595781608, 0.06806182432978836, 0.9935074796896954, 0.38545719486188906, 0.6044669646697806, 0.9875314715224371, 0.3132979553025672, 0.27973031723443503, 0.20939812318691994, 0.12308133958315141, 0.07512757091439112, 0.2196991184234436, 0.24356615357250852, 0.3274067642243519, 0.04222629295603791, 0.16706924604345433, 0.9967220063180845, 0.9870441602310546, 0.1450064078443121, 0.15159760820087176, 0.10545920570495426, 0.5932080320903677, 0.99076428203676, 0.8247266532345566, 0.1733501882594928, 0.9966919647349368, 0.9978635585000061, 0.9939208167047193, 0.030451500936461207, 0.30832144698166974, 0.6585137077509736, 0.9943395721649588, 0.9924804004957793, 0.39743036055339215, 0.5987950765671108, 0.9816146662416829, 0.993832733547574, 0.7010069836033552, 0.2562504519894618, 0.041235704917844423, 0.9974851373470474, 0.991152669983314, 0.998688932622511, 0.9910149908125293, 0.7046728279470188, 0.2366054750771012, 0.05657957012713289, 0.9868639176594614, 0.9959816144578505, 0.9796965872751174, 0.9898128605632998, 0.9945488274801336, 0.9842247546868792, 0.2320677197710178, 0.39987053252852295, 0.13924063186261068, 0.208860947793916, 0.021421635671170874, 0.47403725264781893, 0.14894613129644582, 0.24349454507592885, 0.11397617003554116, 0.018132572505654275, 0.6662784509850264, 0.1434349443092765, 0.18507734749584065], \"Term\": [\"\\uac00\\uaca9\", \"\\uac00\\uaca9\", \"\\uac00\\uaca9\", \"\\uac00\\uaca9\", \"\\uac00\\uaca9\", \"\\uac00\\ub824\\uc6c0\", \"\\uac00\\ub824\\uc6c0\\uc99d\", \"\\uac04\\ud638\\uc0ac\", \"\\uac04\\ud638\\uc0ac\", \"\\uac04\\ud638\\uc0ac\", \"\\uac04\\ud638\\uc0ac\", \"\\uac04\\ud638\\uc0ac\", \"\\uac04\\ud638\\uc870\\ubb34\\uc0ac\", \"\\uac10\\uc548\", \"\\uac71\\uc815\", \"\\uac71\\uc815\", \"\\uac71\\uc815\", \"\\uac74\\uc120\", \"\\uac74\\uc870\", \"\\uac80\\uc9c4\", \"\\uac80\\uc9c4\", \"\\uaca8\\ub4dc\\ub791\\uc774\", \"\\uacb0\\uc81c\", \"\\uacf5\\uc7a5\", \"\\uacfc\\ub85c\", \"\\uacfc\\uc815\", \"\\uad00\\ub9ac\", \"\\uad00\\ub9ac\", \"\\uad00\\ub9ac\", \"\\uad00\\ub9ac\", \"\\uad00\\ub9ac\", \"\\uad00\\uc2ec\", \"\\uadfc\\ubb34\", \"\\uadfc\\ucc98\", \"\\uadfc\\ucc98\", \"\\uadfc\\ucc98\", \"\\uadfc\\ucc98\", \"\\uadfc\\ucc98\", \"\\uae08\\uc561\", \"\\uae08\\uc561\", \"\\uae08\\uc561\", \"\\uae08\\uc561\", \"\\uae30\\ub300\", \"\\uae30\\ubbf8\", \"\\uae30\\uc801\", \"\\ub0ad\\uc885\", \"\\ub0b4\\uacfc\", \"\\ub0c9\\ub3d9\", \"\\ub124\\uc774\\ubc84\", \"\\ub208\\uc379\", \"\\ub290\\ub08c\", \"\\ub290\\ub08c\", \"\\ub290\\ub08c\", \"\\ub290\\ub08c\", \"\\ub290\\ub08c\", \"\\ub2e4\\ub798\\ub07c\", \"\\ub2e4\\uc774\\uc5b4\\ud2b8\", \"\\ub2e8\\uc21c\", \"\\ub2f5\\ubcc0\", \"\\ub300\\uae30\", \"\\ub300\\uae30\", \"\\ub300\\uae30\", \"\\ub300\\uae30\", \"\\ub300\\uae30\", \"\\ub300\\ub9ac\\uc778\", \"\\ub300\\ube44\", \"\\ub300\\uc0c1\\ud3ec\\uc9c4\", \"\\ub300\\ud559\\ubcd1\\uc6d0\", \"\\ub300\\ud654\", \"\\ub3d9\\ub124\", \"\\ub3d9\\ub124\", \"\\ub3d9\\ub124\", \"\\ub3d9\\ub124\", \"\\ub3d9\\ub124\", \"\\ub450\\ub4dc\\ub7ec\\uae30\", \"\\ub450\\ud53c\", \"\\ub4dc\\ub808\\uc2f1\", \"\\ub808\\uc774\\uc800\", \"\\ub808\\uc774\\uc800\", \"\\ub808\\uc774\\uc800\", \"\\ub85c\\uc158\", \"\\ub9ac\\ubdf0\", \"\\ub9ac\\ubdf0\", \"\\ub9ac\\ubdf0\", \"\\ub9ac\\ubdf0\", \"\\ub9ac\\ubdf0\", \"\\ub9ac\\ud130\", \"\\ub9c1\\ud06c\", \"\\ub9c8\\uc2a4\\ud06c\", \"\\ub9c8\\uc2a4\\ud06c\", \"\\ub9c8\\uc74c\", \"\\ub9c8\\uc74c\", \"\\ub9c8\\ucde8\", \"\\ub9c8\\ucde8\", \"\\ub9e4\\uc77c\", \"\\uba38\\ub9ac\", \"\\uba40\\ub9ac\", \"\\ubaa8\\ub0ad\", \"\\ubaa8\\ub4dc\", \"\\ubaa8\\uc2b5\", \"\\ubaa9\\uc801\", \"\\ubb34\\uc880\", \"\\ubb38\\uc2e0\", \"\\ubb3c\\uc9d1\", \"\\ubbf8\\uc6a9\", \"\\ubc14\\ub78c\", \"\\ubc18\\ub9d0\", \"\\ubc18\\uc751\", \"\\ubc1c\\ubc14\\ub2e5\", \"\\ubc1c\\uc9c4\", \"\\ubc1c\\ud1b1\", \"\\ubcd1\\uba85\", \"\\ubcd1\\ud589\", \"\\ubcf4\\ud1a1\\uc2a4\", \"\\ubcf4\\ud5d8\", \"\\ubcf5\\uc6a9\", \"\\ubd84\\ud574\", \"\\ubd88\\uce5c\\uc808\", \"\\ube44\\ub9cc\", \"\\ube44\\ud0c0\\ubbfc\", \"\\ubfb0\\ub8e8\\uc9c0\", \"\\uc0ac\\uac01\", \"\\uc0ac\\ub791\", \"\\uc0ac\\ub9c8\\uadc0\", \"\\uc0ac\\ub9c8\\uadc0\", \"\\uc0b4\\uc774\", \"\\uc0c1\\ub2f4\", \"\\uc0c1\\ub2f4\", \"\\uc0c1\\ub2f4\", \"\\uc0c1\\ub2f4\", \"\\uc0c1\\ub2f4\", \"\\uc0c1\\ucc98\", \"\\uc0c1\\ucc98\", \"\\uc0c1\\ucc98\", \"\\uc0dd\\ud65c\", \"\\uc11c\\ube44\\uc2a4\", \"\\uc120\\uc0dd\\ub2d8\", \"\\uc120\\uc0dd\\ub2d8\", \"\\uc120\\uc0dd\\ub2d8\", \"\\uc120\\uc0dd\\ub2d8\", \"\\uc120\\uc0dd\\ub2d8\", \"\\uc124\\uba85\", \"\\uc124\\uba85\", \"\\uc124\\uba85\", \"\\uc124\\uba85\", \"\\uc124\\uba85\", \"\\uc131\\ube44\", \"\\uc131\\ud615\", \"\\uc18c\\ubb38\", \"\\uc190\\uac00\\ub77d\", \"\\uc190\\uac00\\ub77d\", \"\\uc190\\ud1b1\", \"\\uc218\\uc220\", \"\\uc218\\uc561\", \"\\uc2a4\\ucf00\\uc77c\\ub9c1\", \"\\uc2a4\\ud14c\\ub85c\\uc774\\ub4dc\", \"\\uc2a4\\ud14c\\ub85c\\uc774\\ub4dc\", \"\\uc2b5\\uad00\", \"\\uc2b5\\uc9c4\", \"\\uc2dc\\uc124\", \"\\uc2dc\\uc124\", \"\\uc2dc\\uc124\", \"\\uc2dc\\uc124\", \"\\uc2dc\\uc124\", \"\\uc2dc\\uc220\", \"\\uc2dc\\uc220\", \"\\uc2dc\\uc220\", \"\\uc2dc\\uc220\", \"\\uc2dc\\uc220\", \"\\uc2dc\\uc791\", \"\\uc2dc\\uc791\", \"\\uc2dd\\uc695\\uc5b5\\uc81c\\uc81c\", \"\\uc2e4\\uc7a5\", \"\\uc544\\uae30\", \"\\uc544\\uce68\", \"\\uc544\\ucfe0\\uc544\", \"\\uc544\\ud1a0\\ud53c\", \"\\uc544\\ud1a0\\ud53c\", \"\\uc54c\\ub808\\ub974\\uae30\", \"\\uc54c\\ub808\\ub974\\uae30\", \"\\uc555\\ucd9c\", \"\\uc57c\\uac04\", \"\\uc57d\\uad6d\", \"\\uc57d\\uad6d\", \"\\uc57d\\ub3c4\", \"\\uc57d\\ub3c4\", \"\\uc57d\\ubb3c\", \"\\uc57d\\ubb3c\", \"\\uc57d\\ubb3c\", \"\\uc5bc\\uad74\", \"\\uc5bc\\uad74\", \"\\uc5bc\\uad74\", \"\\uc5bc\\uad74\", \"\\uc5ec\\ub4dc\\ub984\", \"\\uc5ec\\ub984\", \"\\uc5ec\\uc758\\uc0ac\", \"\\uc5f0\\uace0\", \"\\uc5f0\\uace0\", \"\\uc5f0\\uace0\", \"\\uc5fc\\uc99d\", \"\\uc5fc\\uc99d\", \"\\uc5fc\\uc99d\", \"\\uc601\\uc5c5\", \"\\uc608\\uc57d\", \"\\uc608\\uc57d\", \"\\uc608\\uc57d\", \"\\uc608\\uc57d\", \"\\uc608\\uc57d\", \"\\uc644\\uce58\", \"\\uc678\\uacfc\", \"\\uc694\\uc57d\", \"\\uc694\\uc57d\", \"\\uc694\\uccad\", \"\\uc6d0\\uc778\", \"\\uc6d0\\uc778\", \"\\uc6d0\\uc7a5\", \"\\uc6d0\\uc7a5\", \"\\uc6d0\\uc7a5\", \"\\uc6d0\\uc7a5\", \"\\uc6d0\\uc7a5\", \"\\uc6d0\\ud615\\ud0c8\\ubaa8\", \"\\uc704\\uc0dd\", \"\\uc704\\uc8fc\", \"\\uc704\\uc8fc\", \"\\uc724\\uacfd\", \"\\uc74c\\uc2dd\", \"\\uc758\\ub8cc\", \"\\uc758\\uc0ac\", \"\\uc758\\uc0ac\", \"\\uc758\\uc0ac\", \"\\uc758\\uc0ac\", \"\\uc758\\uc0ac\", \"\\uc758\\uc2ec\", \"\\uc758\\ud5a5\", \"\\uc774\\ubca4\\ud2b8\", \"\\uc774\\uc0ac\", \"\\uc774\\uc57c\\uae30\", \"\\uc774\\uc57c\\uae30\", \"\\uc774\\ud2c0\", \"\\uc778\\uc0ac\", \"\\uc77c\\uc694\\uc77c\", \"\\uc77c\\ucc0d\", \"\\uc77c\\ucc0d\", \"\\uc785\\uc220\", \"\\uc785\\uc220\", \"\\uc785\\uc220\", \"\\uc790\\uad81\\uacbd\\ubd80\\uc554\", \"\\uc790\\uc5f0\", \"\\uc791\\uc131\", \"\\uc7a1\\ud2f0\", \"\\uc7ac\\ubc1c\", \"\\uc7ac\\uc0dd\", \"\\uc801\\uadf9\", \"\\uc804\\ubb38\", \"\\uc804\\ubb38\", \"\\uc804\\ubb38\\uc758\", \"\\uc804\\ubb38\\uc758\", \"\\uc804\\ubb38\\uc758\", \"\\uc804\\ud654\", \"\\uc810\\ub3c4\", \"\\uc811\\ucd09\\uc131\", \"\\uc81c\\uac70\", \"\\uc81c\\uac70\", \"\\uc81c\\ub85c\", \"\\uc81c\\ubaa8\", \"\\uc881\\uc300\", \"\\uc8fc\\uc0ac\", \"\\uc8fc\\uc0ac\", \"\\uc8fc\\uc0ac\", \"\\uc8fc\\uc0ac\", \"\\uc8fc\\uc0ac\", \"\\uc8fc\\uc704\", \"\\uc911\\uac04\", \"\\uc950\\uc816\", \"\\uc99d\\uc0c1\", \"\\uc99d\\uc0c1\", \"\\uc9c0\\ubc29\", \"\\uc9c0\\uc5ed\", \"\\uc9c0\\ud558\", \"\\uc9c1\\uc6d0\", \"\\uc9c1\\uc6d0\", \"\\uc9c1\\uc6d0\", \"\\uc9c1\\uc6d0\", \"\\uc9c1\\uc6d0\", \"\\uc9c1\\uc7a5\", \"\\uc9c4\\ub2e8\", \"\\uc9c4\\ub2e8\", \"\\uc9c4\\ub2e8\", \"\\uc9c4\\ucc30\", \"\\uc9c4\\ucc30\", \"\\uc9c4\\ud589\", \"\\uc9c4\\ud589\", \"\\uc9c4\\ud589\", \"\\uc9c4\\ud589\", \"\\uc9c4\\ud589\", \"\\uc9c8\\ubcd1\", \"\\uc9c8\\ud658\", \"\\uc9d1\\uc911\", \"\\ucc28\\ub3c4\", \"\\ucc38\\uace0\", \"\\ucc98\\ubc29\", \"\\ucc98\\ubc29\", \"\\ucc98\\ubc29\", \"\\ucc98\\ubc29\", \"\\ucc98\\ubc29\\uc57d\", \"\\ucc98\\uc74c\", \"\\ucc98\\uc74c\", \"\\ucc98\\uc74c\", \"\\ucc98\\uc74c\", \"\\ucc98\\uc74c\", \"\\uccb4\\uc801\", \"\\uccb4\\ud06c\", \"\\uccb4\\ud06c\", \"\\ucd08\\uc74c\\ud30c\", \"\\ucd94\\ucc9c\", \"\\ucd94\\ucc9c\", \"\\ucd94\\ucc9c\", \"\\ucd94\\ucc9c\", \"\\ucd94\\ucc9c\", \"\\uce58\\ub8cc\", \"\\uce58\\ub8cc\", \"\\uce58\\ub8cc\", \"\\uce58\\ub8cc\", \"\\uce58\\ub8cc\", \"\\uce5c\\uad6c\", \"\\ucf00\\uc5b4\", \"\\ucf54\\ub85c\\ub098\", \"\\ucf54\\ub85c\\ub098\", \"\\ucf54\\ub85c\\ub098\", \"\\ucf54\\ub85c\\ub098\", \"\\ud06c\\uae30\", \"\\ud06c\\ub9bc\", \"\\ud06c\\ub9bc\", \"\\ud0c8\\ubaa8\", \"\\ud1a0\\ub2dd\", \"\\ud1a0\\uc694\\uc77c\", \"\\ud2b8\\ub7ec\\ube14\", \"\\ud2b8\\ub7ec\\ube14\", \"\\ud2b8\\ub7ec\\ube14\", \"\\ud2f0\\ub208\", \"\\ud328\\ud0a4\\uc9c0\", \"\\ud3c9\\uc77c\", \"\\ud3c9\\uc77c\", \"\\ud3ec\\uc778\\ud2b8\", \"\\ud3ec\\uc9c4\", \"\\ud53c\\ubd80\\uc5fc\", \"\\ud53c\\ubd80\\uc5fc\", \"\\ud53c\\ubd80\\uc5fc\", \"\\ud53c\\ubd80\\uc9c8\\ud658\", \"\\ud53c\\uc9c0\", \"\\ud544\\ub7ec\", \"\\ud544\\ub9c1\", \"\\ud638\\uc804\", \"\\ud638\\uc804\", \"\\ud638\\uc804\", \"\\ud654\\ub18d\", \"\\ud654\\uc0c1\", \"\\ud654\\uc7a5\", \"\\ud654\\uc7a5\\ud488\", \"\\ud658\\uacbd\", \"\\ud658\\ubd80\", \"\\ud658\\uc790\", \"\\ud658\\uc790\", \"\\ud658\\uc790\", \"\\ud658\\uc790\", \"\\ud658\\uc790\", \"\\ud6a8\\uacfc\", \"\\ud6a8\\uacfc\", \"\\ud6a8\\uacfc\", \"\\ud6a8\\uacfc\", \"\\ud6a8\\uacfc\", \"\\ud749\\ud130\", \"\\ud749\\ud130\", \"\\ud749\\ud130\"]}, \"R\": 30, \"lambda.step\": 0.01, \"plot.opts\": {\"xlab\": \"PC1\", \"ylab\": \"PC2\"}, \"topic.order\": [5, 4, 3, 1, 2]};\n",
       "\n",
       "function LDAvis_load_lib(url, callback){\n",
       "  var s = document.createElement('script');\n",
       "  s.src = url;\n",
       "  s.async = true;\n",
       "  s.onreadystatechange = s.onload = callback;\n",
       "  s.onerror = function(){console.warn(\"failed to load library \" + url);};\n",
       "  document.getElementsByTagName(\"head\")[0].appendChild(s);\n",
       "}\n",
       "\n",
       "if(typeof(LDAvis) !== \"undefined\"){\n",
       "   // already loaded: just create the visualization\n",
       "   !function(LDAvis){\n",
       "       new LDAvis(\"#\" + \"ldavis_el2760416456900865606177528569\", ldavis_el2760416456900865606177528569_data);\n",
       "   }(LDAvis);\n",
       "}else if(typeof define === \"function\" && define.amd){\n",
       "   // require.js is available: use it to load d3/LDAvis\n",
       "   require.config({paths: {d3: \"https://cdnjs.cloudflare.com/ajax/libs/d3/3.5.5/d3.min\"}});\n",
       "   require([\"d3\"], function(d3){\n",
       "      window.d3 = d3;\n",
       "      LDAvis_load_lib(\"https://cdn.rawgit.com/bmabey/pyLDAvis/files/ldavis.v1.0.0.js\", function(){\n",
       "        new LDAvis(\"#\" + \"ldavis_el2760416456900865606177528569\", ldavis_el2760416456900865606177528569_data);\n",
       "      });\n",
       "    });\n",
       "}else{\n",
       "    // require.js not available: dynamically load d3 & LDAvis\n",
       "    LDAvis_load_lib(\"https://cdnjs.cloudflare.com/ajax/libs/d3/3.5.5/d3.min.js\", function(){\n",
       "         LDAvis_load_lib(\"https://cdn.rawgit.com/bmabey/pyLDAvis/files/ldavis.v1.0.0.js\", function(){\n",
       "                 new LDAvis(\"#\" + \"ldavis_el2760416456900865606177528569\", ldavis_el2760416456900865606177528569_data);\n",
       "            })\n",
       "         });\n",
       "}\n",
       "</script>"
      ],
      "text/plain": [
       "PreparedData(topic_coordinates=                x           y  topics  cluster       Freq\n",
       "topic                                                    \n",
       "4      150.222153  -72.269554       1        1  31.515735\n",
       "3       51.163364 -159.968018       2        1  24.810313\n",
       "2      -73.144554   21.523815       3        1  16.889279\n",
       "0      -66.410133 -110.606438       4        1  14.710187\n",
       "1       54.417324   12.443444       5        1  12.074486, topic_info=     Term         Freq        Total Category  logprob  loglift\n",
       "1121  여드름  1247.000000  1247.000000  Default  30.0000  30.0000\n",
       "1152   염증   937.000000   937.000000  Default  29.0000  29.0000\n",
       "1062   압출   452.000000   452.000000  Default  28.0000  28.0000\n",
       "1473   제거   732.000000   732.000000  Default  27.0000  27.0000\n",
       "1532   주사  1107.000000  1107.000000  Default  26.0000  26.0000\n",
       "...   ...          ...          ...      ...      ...      ...\n",
       "1657   체크    69.298830   114.150159   Topic5  -5.0697   1.6150\n",
       "1361   입술    67.639696   128.162262   Topic5  -5.0939   1.4750\n",
       "834   선생님    88.426102  1546.146993   Topic5  -4.8260  -0.7473\n",
       "1284   의사    74.051159  1329.201649   Topic5  -5.0034  -0.7735\n",
       "1241   원장    66.579707   956.035293   Topic5  -5.1097  -0.5503\n",
       "\n",
       "[295 rows x 6 columns], token_table=      Topic      Freq Term\n",
       "term                      \n",
       "1         1  0.778081   가격\n",
       "1         2  0.040866   가격\n",
       "1         3  0.158559   가격\n",
       "1         4  0.013077   가격\n",
       "1         5  0.009808   가격\n",
       "...     ...       ...  ...\n",
       "1975      4  0.113976   효과\n",
       "1975      5  0.018133   효과\n",
       "1990      1  0.666278   흉터\n",
       "1990      2  0.143435   흉터\n",
       "1990      3  0.185077   흉터\n",
       "\n",
       "[374 rows x 3 columns], R=30, lambda_step=0.01, plot_opts={'xlab': 'PC1', 'ylab': 'PC2'}, topic_order=[5, 4, 3, 1, 2])"
      ]
     },
     "execution_count": 33,
     "metadata": {},
     "output_type": "execute_result"
    }
   ],
   "source": [
    "pyLDAvis.enable_notebook()\n",
    "panel = pyLDAvis.sklearn.prepare(lda_model, data_vectorized, vectorizer, mds='tsne')\n",
    "panel"
   ]
  },
  {
   "cell_type": "code",
   "execution_count": null,
   "metadata": {},
   "outputs": [],
   "source": []
  }
 ],
 "metadata": {
  "interpreter": {
   "hash": "dff02889df9aba8d43035d41ec5c58383b6dffbf69831fb7958aaa89bda26e34"
  },
  "kernelspec": {
   "display_name": "Python 3.8.11 ('NLP')",
   "language": "python",
   "name": "python3"
  },
  "language_info": {
   "codemirror_mode": {
    "name": "ipython",
    "version": 3
   },
   "file_extension": ".py",
   "mimetype": "text/x-python",
   "name": "python",
   "nbconvert_exporter": "python",
   "pygments_lexer": "ipython3",
   "version": "3.8.11"
  },
  "orig_nbformat": 4
 },
 "nbformat": 4,
 "nbformat_minor": 2
}
