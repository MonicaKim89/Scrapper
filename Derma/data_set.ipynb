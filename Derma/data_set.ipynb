{
 "cells": [
  {
   "cell_type": "code",
   "execution_count": 2,
   "metadata": {},
   "outputs": [],
   "source": [
    "import pandas as pd\n",
    "import re\n",
    "import openpyxl"
   ]
  },
  {
   "cell_type": "code",
   "execution_count": 4,
   "metadata": {},
   "outputs": [
    {
     "data": {
      "text/html": [
       "<div>\n",
       "<style scoped>\n",
       "    .dataframe tbody tr th:only-of-type {\n",
       "        vertical-align: middle;\n",
       "    }\n",
       "\n",
       "    .dataframe tbody tr th {\n",
       "        vertical-align: top;\n",
       "    }\n",
       "\n",
       "    .dataframe thead th {\n",
       "        text-align: right;\n",
       "    }\n",
       "</style>\n",
       "<table border=\"1\" class=\"dataframe\">\n",
       "  <thead>\n",
       "    <tr style=\"text-align: right;\">\n",
       "      <th></th>\n",
       "      <th>h</th>\n",
       "      <th>adr</th>\n",
       "      <th>d</th>\n",
       "      <th>f</th>\n",
       "      <th>reviews</th>\n",
       "      <th>stars</th>\n",
       "      <th>treatments</th>\n",
       "      <th>money</th>\n",
       "      <th>비고</th>\n",
       "    </tr>\n",
       "  </thead>\n",
       "  <tbody>\n",
       "    <tr>\n",
       "      <th>0</th>\n",
       "      <td>고운나라피부과의원</td>\n",
       "      <td>경남 김해시 내외중앙로 57 (내동)</td>\n",
       "      <td>없음</td>\n",
       "      <td>없음영수증 인증            3월 15일, 2022년 게시          ...</td>\n",
       "      <td>127 //고운나라피부과의원// 두피가려움증으로 내원한 병원인데 진료 끝나고 두피 ...</td>\n",
       "      <td>9.3</td>\n",
       "      <td>두피 가려움증</td>\n",
       "      <td>4900</td>\n",
       "      <td>NaN</td>\n",
       "    </tr>\n",
       "    <tr>\n",
       "      <th>1</th>\n",
       "      <td>고운나라피부과의원</td>\n",
       "      <td>경남 김해시 내외중앙로 57 (내동)</td>\n",
       "      <td>없음</td>\n",
       "      <td>없음영수증 인증            12월 20일, 2021년 게시         ...</td>\n",
       "      <td>128 //고운나라피부과의원// 대상포진으로 진료 받았어요 . 2주 이상 치료 받고...</td>\n",
       "      <td>10.0</td>\n",
       "      <td>대상포진</td>\n",
       "      <td>4200</td>\n",
       "      <td>NaN</td>\n",
       "    </tr>\n",
       "    <tr>\n",
       "      <th>2</th>\n",
       "      <td>고운나라피부과의원</td>\n",
       "      <td>경남 김해시 내외중앙로 57 (내동)</td>\n",
       "      <td>없음</td>\n",
       "      <td>없음영수증 인증            8월 11일, 2021년 게시          ...</td>\n",
       "      <td>129 //고운나라피부과의원// 여드름 고민이 있어서 방문했습니다피부 전문의라서 증...</td>\n",
       "      <td>10.0</td>\n",
       "      <td>관리 안됨</td>\n",
       "      <td>4000</td>\n",
       "      <td>NaN</td>\n",
       "    </tr>\n",
       "    <tr>\n",
       "      <th>3</th>\n",
       "      <td>고운나라피부과의원</td>\n",
       "      <td>경남 김해시 내외중앙로 57 (내동)</td>\n",
       "      <td>있음</td>\n",
       "      <td>^^있다^^영수증 인증            6월 21일, 2021년 게시      ...</td>\n",
       "      <td>130 //고운나라피부과의원// 문신한곳 일부분만 지우고 싶어서 여러 군데 알아보고...</td>\n",
       "      <td>10.0</td>\n",
       "      <td>문신제거</td>\n",
       "      <td>22000</td>\n",
       "      <td>NaN</td>\n",
       "    </tr>\n",
       "    <tr>\n",
       "      <th>4</th>\n",
       "      <td>고운나라피부과의원</td>\n",
       "      <td>경남 김해시 내외중앙로 57 (내동)</td>\n",
       "      <td>없음</td>\n",
       "      <td>없음영수증 인증            6월 7일, 2021년 게시           ...</td>\n",
       "      <td>131 //고운나라피부과의원// 원장님이 설명도 잘해주시고 병원도 엄청크고~(김해에...</td>\n",
       "      <td>9.5</td>\n",
       "      <td>피부트러블</td>\n",
       "      <td>4000</td>\n",
       "      <td>NaN</td>\n",
       "    </tr>\n",
       "  </tbody>\n",
       "</table>\n",
       "</div>"
      ],
      "text/plain": [
       "           h                   adr   d  \\\n",
       "0  고운나라피부과의원  경남 김해시 내외중앙로 57 (내동)  없음   \n",
       "1  고운나라피부과의원  경남 김해시 내외중앙로 57 (내동)  없음   \n",
       "2  고운나라피부과의원  경남 김해시 내외중앙로 57 (내동)  없음   \n",
       "3  고운나라피부과의원  경남 김해시 내외중앙로 57 (내동)  있음   \n",
       "4  고운나라피부과의원  경남 김해시 내외중앙로 57 (내동)  없음   \n",
       "\n",
       "                                                   f  \\\n",
       "0  없음영수증 인증            3월 15일, 2022년 게시          ...   \n",
       "1  없음영수증 인증            12월 20일, 2021년 게시         ...   \n",
       "2  없음영수증 인증            8월 11일, 2021년 게시          ...   \n",
       "3  ^^있다^^영수증 인증            6월 21일, 2021년 게시      ...   \n",
       "4  없음영수증 인증            6월 7일, 2021년 게시           ...   \n",
       "\n",
       "                                             reviews  stars treatments  \\\n",
       "0  127 //고운나라피부과의원// 두피가려움증으로 내원한 병원인데 진료 끝나고 두피 ...    9.3    두피 가려움증   \n",
       "1  128 //고운나라피부과의원// 대상포진으로 진료 받았어요 . 2주 이상 치료 받고...   10.0       대상포진   \n",
       "2  129 //고운나라피부과의원// 여드름 고민이 있어서 방문했습니다피부 전문의라서 증...   10.0     관리 안됨    \n",
       "3  130 //고운나라피부과의원// 문신한곳 일부분만 지우고 싶어서 여러 군데 알아보고...   10.0     문신제거     \n",
       "4  131 //고운나라피부과의원// 원장님이 설명도 잘해주시고 병원도 엄청크고~(김해에...    9.5      피부트러블   \n",
       "\n",
       "      money   비고  \n",
       "0     4900   NaN  \n",
       "1     4200   NaN  \n",
       "2   4000     NaN  \n",
       "3  22000     NaN  \n",
       "4     4000   NaN  "
      ]
     },
     "execution_count": 4,
     "metadata": {},
     "output_type": "execute_result"
    }
   ],
   "source": [
    "data =pd.read_excel(\"C:\\\\Users\\\\yukir\\\\Documents\\\\Monicas_workspace\\\\Derma\\\\Data\\\\total_v2.xlsx\",index_col = 0)\n",
    "data.head()"
   ]
  },
  {
   "cell_type": "code",
   "execution_count": 7,
   "metadata": {},
   "outputs": [
    {
     "data": {
      "text/plain": [
       "0"
      ]
     },
     "execution_count": 7,
     "metadata": {},
     "output_type": "execute_result"
    }
   ],
   "source": [
    "data = data.fillna('리뷰없음')\n",
    "data.reviews.isnull().sum()"
   ]
  },
  {
   "cell_type": "code",
   "execution_count": 8,
   "metadata": {},
   "outputs": [
    {
     "name": "stdout",
     "output_type": "stream",
     "text": [
      "(14570, 9)\n"
     ]
    },
    {
     "data": {
      "text/html": [
       "<div>\n",
       "<style scoped>\n",
       "    .dataframe tbody tr th:only-of-type {\n",
       "        vertical-align: middle;\n",
       "    }\n",
       "\n",
       "    .dataframe tbody tr th {\n",
       "        vertical-align: top;\n",
       "    }\n",
       "\n",
       "    .dataframe thead th {\n",
       "        text-align: right;\n",
       "    }\n",
       "</style>\n",
       "<table border=\"1\" class=\"dataframe\">\n",
       "  <thead>\n",
       "    <tr style=\"text-align: right;\">\n",
       "      <th></th>\n",
       "      <th>h</th>\n",
       "      <th>adr</th>\n",
       "      <th>d</th>\n",
       "      <th>f</th>\n",
       "      <th>reviews</th>\n",
       "      <th>stars</th>\n",
       "      <th>treatments</th>\n",
       "      <th>money</th>\n",
       "      <th>비고</th>\n",
       "    </tr>\n",
       "  </thead>\n",
       "  <tbody>\n",
       "    <tr>\n",
       "      <th>36</th>\n",
       "      <td>서울리온의원</td>\n",
       "      <td>경기도 화성시 향남읍 상신하길로298번길 7-1 (향남읍)</td>\n",
       "      <td>있음</td>\n",
       "      <td>^^있다^^영수증 인증            3월 14일, 2022년 게시      ...</td>\n",
       "      <td>리뷰없음</td>\n",
       "      <td>9.5</td>\n",
       "      <td>염증주사-</td>\n",
       "      <td>11100 -</td>\n",
       "      <td>리뷰없음</td>\n",
       "    </tr>\n",
       "    <tr>\n",
       "      <th>37</th>\n",
       "      <td>서울리온의원</td>\n",
       "      <td>경기도 화성시 향남읍 상신하길로298번길 7-1 (향남읍)</td>\n",
       "      <td>있음</td>\n",
       "      <td>^^있다^^영수증 인증            3월 12일, 2022년 게시      ...</td>\n",
       "      <td>리뷰없음</td>\n",
       "      <td>9.8</td>\n",
       "      <td>염증주사-  켈로이드주사</td>\n",
       "      <td>6100 -</td>\n",
       "      <td>리뷰없음</td>\n",
       "    </tr>\n",
       "    <tr>\n",
       "      <th>38</th>\n",
       "      <td>서울리온의원</td>\n",
       "      <td>경기도 화성시 향남읍 상신하길로298번길 7-1 (향남읍)</td>\n",
       "      <td>있음</td>\n",
       "      <td>^^있다^^영수증 인증            9월 15일, 2021년 게시      ...</td>\n",
       "      <td>리뷰없음</td>\n",
       "      <td>10.0</td>\n",
       "      <td>보톡스사각턱  /</td>\n",
       "      <td>99000</td>\n",
       "      <td>리뷰없음</td>\n",
       "    </tr>\n",
       "    <tr>\n",
       "      <th>39</th>\n",
       "      <td>서울리온의원</td>\n",
       "      <td>경기도 화성시 향남읍 상신하길로298번길 7-1 (향남읍)</td>\n",
       "      <td>없음</td>\n",
       "      <td>없음영수증 인증            6월 18일, 2021년 게시          ...</td>\n",
       "      <td>리뷰없음</td>\n",
       "      <td>9.8</td>\n",
       "      <td>접촉성피부염-</td>\n",
       "      <td>4800 -</td>\n",
       "      <td>리뷰없음</td>\n",
       "    </tr>\n",
       "    <tr>\n",
       "      <th>40</th>\n",
       "      <td>서울리온의원</td>\n",
       "      <td>경기도 화성시 향남읍 상신하길로298번길 7-1 (향남읍)</td>\n",
       "      <td>없음</td>\n",
       "      <td>없음영수증 인증            5월 10일, 2021년 게시          ...</td>\n",
       "      <td>리뷰없음</td>\n",
       "      <td>10.0</td>\n",
       "      <td>피부 제로이드 로션, 크림 처방</td>\n",
       "      <td>69600   ,</td>\n",
       "      <td>리뷰없음</td>\n",
       "    </tr>\n",
       "  </tbody>\n",
       "</table>\n",
       "</div>"
      ],
      "text/plain": [
       "         h                               adr   d  \\\n",
       "36  서울리온의원  경기도 화성시 향남읍 상신하길로298번길 7-1 (향남읍)  있음   \n",
       "37  서울리온의원  경기도 화성시 향남읍 상신하길로298번길 7-1 (향남읍)  있음   \n",
       "38  서울리온의원  경기도 화성시 향남읍 상신하길로298번길 7-1 (향남읍)  있음   \n",
       "39  서울리온의원  경기도 화성시 향남읍 상신하길로298번길 7-1 (향남읍)  없음   \n",
       "40  서울리온의원  경기도 화성시 향남읍 상신하길로298번길 7-1 (향남읍)  없음   \n",
       "\n",
       "                                                    f reviews stars  \\\n",
       "36  ^^있다^^영수증 인증            3월 14일, 2022년 게시      ...    리뷰없음   9.5   \n",
       "37  ^^있다^^영수증 인증            3월 12일, 2022년 게시      ...    리뷰없음   9.8   \n",
       "38  ^^있다^^영수증 인증            9월 15일, 2021년 게시      ...    리뷰없음  10.0   \n",
       "39  없음영수증 인증            6월 18일, 2021년 게시          ...    리뷰없음   9.8   \n",
       "40  없음영수증 인증            5월 10일, 2021년 게시          ...    리뷰없음  10.0   \n",
       "\n",
       "            treatments         money    비고  \n",
       "36              염증주사-       11100 -   리뷰없음  \n",
       "37      염증주사-  켈로이드주사      6100 -     리뷰없음  \n",
       "38         보톡스사각턱  /      99000       리뷰없음  \n",
       "39             접촉성피부염-        4800 -  리뷰없음  \n",
       "40  피부 제로이드 로션, 크림 처방   69600   ,     리뷰없음  "
      ]
     },
     "execution_count": 8,
     "metadata": {},
     "output_type": "execute_result"
    }
   ],
   "source": [
    "non_df = data[data['reviews']=='리뷰없음']\n",
    "print(non_df.shape)\n",
    "non_df.head()"
   ]
  },
  {
   "cell_type": "code",
   "execution_count": 9,
   "metadata": {},
   "outputs": [
    {
     "data": {
      "text/plain": [
       "'없음영수증 인증            6월 18일, 2021년 게시                얼굴이 가렵고 생활이 불편해서 친정온길에 방문했어요 .병원내부 청결했고 대기 시간에 대해 잘 설명해 주셨어요 .의사선생님 진료도 잘 해주셨고 처방도 잘받아서 약먹고 바른지 며칠되지않아 상태가 호전되었습니다.                    치료 가격정보전체 지출 비용4800 원접촉성피부염-신고하기                    도움이 되었어요0'"
      ]
     },
     "execution_count": 9,
     "metadata": {},
     "output_type": "execute_result"
    }
   ],
   "source": [
    "non_reviews  = non_df.f.tolist()\n",
    "non_reviews[3]"
   ]
  },
  {
   "cell_type": "code",
   "execution_count": 11,
   "metadata": {},
   "outputs": [
    {
     "data": {
      "text/plain": [
       "'^^있다^^영수증 인증            5월 1일, 2021년 게시        받은 치료 :            여드름 약물치료전반적으로 병원이 생긴지 얼마안되서 매우깨끗하고 좋아요 다만 타지역 대비 가격이 저렴하진않아요 간단한 처치나 피부질환 가볍게 보는정도는 괜찮은거같아요 레이저나 이런부분은 근처 수원이나 다른도시 대비해서는 비싼거같아요 주말은 예약하고가도 대기있었어요                    치료 가격정보전체 지출 비용6000 원여드름 약물치료-신고하기                    도움이 되었어요0'"
      ]
     },
     "execution_count": 11,
     "metadata": {},
     "output_type": "execute_result"
    }
   ],
   "source": [
    "non_reviews[5]"
   ]
  },
  {
   "cell_type": "code",
   "execution_count": 17,
   "metadata": {},
   "outputs": [
    {
     "name": "stdout",
     "output_type": "stream",
     "text": [
      "얼굴이 가렵고 생활이 불편해서 친정온길에 방문했어요 .병원내부 청결했고 대기 시간에 대해 잘 설명해 주셨어요 .의사선생님 진료도 잘 해주셨고 처방도 잘받아서 약먹고 바른지 며칠되지않아 상태가 호전되었습니다.                    \n"
     ]
    }
   ],
   "source": [
    "test = non_reviews[3]\n",
    "a = test.split('게시                ')[-1]\n",
    "a = a.split('받은 치료 :            ')[-1]\n",
    "a = a.split('치료 가격정보전체')[0]\n",
    "print(a)"
   ]
  },
  {
   "cell_type": "code",
   "execution_count": 22,
   "metadata": {},
   "outputs": [],
   "source": [
    "reviews = []\n",
    "k=0\n",
    "for i in data.f.tolist():\n",
    "    a = i.split('게시                ')[-1]\n",
    "    a = a.split('받은 치료 :            ')[-1]\n",
    "    a = a.split('치료 가격정보전체')[0]\n",
    "    a = a.split('                    치료')[0]\n",
    "    k+=1\n",
    "    reviews.append(a)\n",
    "\n",
    "data['reviews']=reviews"
   ]
  },
  {
   "cell_type": "code",
   "execution_count": 23,
   "metadata": {},
   "outputs": [
    {
     "data": {
      "text/plain": [
       "(39216, 9)"
      ]
     },
     "execution_count": 23,
     "metadata": {},
     "output_type": "execute_result"
    }
   ],
   "source": [
    "data.shape"
   ]
  },
  {
   "cell_type": "code",
   "execution_count": 24,
   "metadata": {},
   "outputs": [
    {
     "data": {
      "text/html": [
       "<div>\n",
       "<style scoped>\n",
       "    .dataframe tbody tr th:only-of-type {\n",
       "        vertical-align: middle;\n",
       "    }\n",
       "\n",
       "    .dataframe tbody tr th {\n",
       "        vertical-align: top;\n",
       "    }\n",
       "\n",
       "    .dataframe thead th {\n",
       "        text-align: right;\n",
       "    }\n",
       "</style>\n",
       "<table border=\"1\" class=\"dataframe\">\n",
       "  <thead>\n",
       "    <tr style=\"text-align: right;\">\n",
       "      <th></th>\n",
       "      <th>h</th>\n",
       "      <th>adr</th>\n",
       "      <th>d</th>\n",
       "      <th>f</th>\n",
       "      <th>reviews</th>\n",
       "      <th>stars</th>\n",
       "      <th>treatments</th>\n",
       "      <th>money</th>\n",
       "      <th>비고</th>\n",
       "    </tr>\n",
       "  </thead>\n",
       "  <tbody>\n",
       "    <tr>\n",
       "      <th>0</th>\n",
       "      <td>고운나라피부과의원</td>\n",
       "      <td>경남 김해시 내외중앙로 57 (내동)</td>\n",
       "      <td>없음</td>\n",
       "      <td>없음영수증 인증            3월 15일, 2022년 게시          ...</td>\n",
       "      <td>두피가려움증으로 내원한 병원인데 진료 끝나고 두피 현미경사진을 무료로 찍어서 상담해...</td>\n",
       "      <td>9.3</td>\n",
       "      <td>두피 가려움증</td>\n",
       "      <td>4900</td>\n",
       "      <td>리뷰없음</td>\n",
       "    </tr>\n",
       "    <tr>\n",
       "      <th>1</th>\n",
       "      <td>고운나라피부과의원</td>\n",
       "      <td>경남 김해시 내외중앙로 57 (내동)</td>\n",
       "      <td>없음</td>\n",
       "      <td>없음영수증 인증            12월 20일, 2021년 게시         ...</td>\n",
       "      <td>대상포진으로 진료 받았어요 . 2주 이상 치료 받고 약 먹고 주사 맞으니까 진통이 ...</td>\n",
       "      <td>10.0</td>\n",
       "      <td>대상포진</td>\n",
       "      <td>4200</td>\n",
       "      <td>리뷰없음</td>\n",
       "    </tr>\n",
       "    <tr>\n",
       "      <th>2</th>\n",
       "      <td>고운나라피부과의원</td>\n",
       "      <td>경남 김해시 내외중앙로 57 (내동)</td>\n",
       "      <td>없음</td>\n",
       "      <td>없음영수증 인증            8월 11일, 2021년 게시          ...</td>\n",
       "      <td>여드름 고민이 있어서 방문했습니다피부 전문의라서 증상이 나타난 이유에 대해서 설명을...</td>\n",
       "      <td>10.0</td>\n",
       "      <td>관리 안됨</td>\n",
       "      <td>4000</td>\n",
       "      <td>리뷰없음</td>\n",
       "    </tr>\n",
       "  </tbody>\n",
       "</table>\n",
       "</div>"
      ],
      "text/plain": [
       "           h                   adr   d  \\\n",
       "0  고운나라피부과의원  경남 김해시 내외중앙로 57 (내동)  없음   \n",
       "1  고운나라피부과의원  경남 김해시 내외중앙로 57 (내동)  없음   \n",
       "2  고운나라피부과의원  경남 김해시 내외중앙로 57 (내동)  없음   \n",
       "\n",
       "                                                   f  \\\n",
       "0  없음영수증 인증            3월 15일, 2022년 게시          ...   \n",
       "1  없음영수증 인증            12월 20일, 2021년 게시         ...   \n",
       "2  없음영수증 인증            8월 11일, 2021년 게시          ...   \n",
       "\n",
       "                                             reviews stars treatments  \\\n",
       "0  두피가려움증으로 내원한 병원인데 진료 끝나고 두피 현미경사진을 무료로 찍어서 상담해...   9.3    두피 가려움증   \n",
       "1  대상포진으로 진료 받았어요 . 2주 이상 치료 받고 약 먹고 주사 맞으니까 진통이 ...  10.0       대상포진   \n",
       "2  여드름 고민이 있어서 방문했습니다피부 전문의라서 증상이 나타난 이유에 대해서 설명을...  10.0     관리 안됨    \n",
       "\n",
       "     money    비고  \n",
       "0    4900   리뷰없음  \n",
       "1    4200   리뷰없음  \n",
       "2  4000     리뷰없음  "
      ]
     },
     "execution_count": 24,
     "metadata": {},
     "output_type": "execute_result"
    }
   ],
   "source": [
    "data.head(3)"
   ]
  },
  {
   "cell_type": "markdown",
   "metadata": {},
   "source": [
    "### BASIC EDA"
   ]
  },
  {
   "cell_type": "code",
   "execution_count": 25,
   "metadata": {},
   "outputs": [
    {
     "data": {
      "text/plain": [
       "2270"
      ]
     },
     "execution_count": 25,
     "metadata": {},
     "output_type": "execute_result"
    }
   ],
   "source": [
    "len(data.h.unique())"
   ]
  },
  {
   "cell_type": "code",
   "execution_count": 26,
   "metadata": {},
   "outputs": [
    {
     "data": {
      "text/plain": [
       "2539"
      ]
     },
     "execution_count": 26,
     "metadata": {},
     "output_type": "execute_result"
    }
   ],
   "source": [
    "len(data.adr.unique())"
   ]
  },
  {
   "cell_type": "code",
   "execution_count": 30,
   "metadata": {},
   "outputs": [
    {
     "name": "stdout",
     "output_type": "stream",
     "text": [
      "(39216, 2)\n",
      "(2574, 2)\n"
     ]
    }
   ],
   "source": [
    "adr_derma = data[['h','adr']]\n",
    "print(adr_derma.shape)\n",
    "adr_derma= adr_derma.drop_duplicates()\n",
    "print(adr_derma.shape)"
   ]
  },
  {
   "cell_type": "code",
   "execution_count": 31,
   "metadata": {},
   "outputs": [
    {
     "data": {
      "text/plain": [
       "부산 부산진구 서면로 74 (서면역 140m)                                                     3\n",
       "경기도 안산시 단원구 고잔로 88 (중앙역 380m)                                                 3\n",
       "경기도 의정부시 시민로 83 (의정부역 140m)                                                   2\n",
       "부산광역시 남구 수영로 300 (경성대·부경대역 160m)                                              2\n",
       "대구 달서구 달구벌대로 1545 (용산역 660m)                                                  2\n",
       "                                                                             ..\n",
       "경기도 성남시 분당구 대왕판교로 670 (판교역 900m)                                              1\n",
       "서울특별시 금천구 가산디지털1로 149 201,202호 (가산동, 이노플렉스2차) (가산디지털단지역 5번출구 120m)            1\n",
       "서울특별시 강남구 강남대로 616 (신사동, 신사미타워, 6층(602호, 603호), 13층(1301호)) (신사역 6번출구 20m)    1\n",
       "서울특별시 노원구 덕릉로 662 206호 (중계동, 주공3단지내상가) (상계역으로부터 600m)                         1\n",
       "서울특별시 강동구 성안로 156 3층 (길동) (강동역 280m)                                          1\n",
       "Name: adr, Length: 2539, dtype: int64"
      ]
     },
     "execution_count": 31,
     "metadata": {},
     "output_type": "execute_result"
    }
   ],
   "source": [
    "adr_derma.adr.value_counts()"
   ]
  },
  {
   "cell_type": "code",
   "execution_count": 32,
   "metadata": {},
   "outputs": [],
   "source": [
    "df_adr = pd.DataFrame(adr_derma.adr.value_counts())\n",
    "df_adr.to_excel('피부과 주소별.xlsx')"
   ]
  },
  {
   "cell_type": "code",
   "execution_count": 60,
   "metadata": {},
   "outputs": [
    {
     "name": "stdout",
     "output_type": "stream",
     "text": [
      "(39216, 13)\n"
     ]
    },
    {
     "data": {
      "text/html": [
       "<div>\n",
       "<style scoped>\n",
       "    .dataframe tbody tr th:only-of-type {\n",
       "        vertical-align: middle;\n",
       "    }\n",
       "\n",
       "    .dataframe tbody tr th {\n",
       "        vertical-align: top;\n",
       "    }\n",
       "\n",
       "    .dataframe thead th {\n",
       "        text-align: right;\n",
       "    }\n",
       "</style>\n",
       "<table border=\"1\" class=\"dataframe\">\n",
       "  <thead>\n",
       "    <tr style=\"text-align: right;\">\n",
       "      <th></th>\n",
       "      <th>h</th>\n",
       "      <th>adr</th>\n",
       "      <th>d</th>\n",
       "      <th>f</th>\n",
       "      <th>reviews</th>\n",
       "      <th>stars</th>\n",
       "      <th>treatments</th>\n",
       "      <th>money</th>\n",
       "      <th>비고</th>\n",
       "      <th>do</th>\n",
       "      <th>si</th>\n",
       "      <th>ro</th>\n",
       "      <th>adr_else</th>\n",
       "    </tr>\n",
       "  </thead>\n",
       "  <tbody>\n",
       "    <tr>\n",
       "      <th>0</th>\n",
       "      <td>고운나라피부과의원</td>\n",
       "      <td>경남 김해시 내외중앙로 57 (내동)</td>\n",
       "      <td>없음</td>\n",
       "      <td>없음영수증 인증            3월 15일, 2022년 게시          ...</td>\n",
       "      <td>두피가려움증으로 내원한 병원인데 진료 끝나고 두피 현미경사진을 무료로 찍어서 상담해...</td>\n",
       "      <td>9.3</td>\n",
       "      <td>두피 가려움증</td>\n",
       "      <td>4900</td>\n",
       "      <td>리뷰없음</td>\n",
       "      <td>경남</td>\n",
       "      <td>김해시</td>\n",
       "      <td>내외중앙로</td>\n",
       "      <td>57</td>\n",
       "    </tr>\n",
       "    <tr>\n",
       "      <th>1</th>\n",
       "      <td>고운나라피부과의원</td>\n",
       "      <td>경남 김해시 내외중앙로 57 (내동)</td>\n",
       "      <td>없음</td>\n",
       "      <td>없음영수증 인증            12월 20일, 2021년 게시         ...</td>\n",
       "      <td>대상포진으로 진료 받았어요 . 2주 이상 치료 받고 약 먹고 주사 맞으니까 진통이 ...</td>\n",
       "      <td>10.0</td>\n",
       "      <td>대상포진</td>\n",
       "      <td>4200</td>\n",
       "      <td>리뷰없음</td>\n",
       "      <td>경남</td>\n",
       "      <td>김해시</td>\n",
       "      <td>내외중앙로</td>\n",
       "      <td>57</td>\n",
       "    </tr>\n",
       "    <tr>\n",
       "      <th>2</th>\n",
       "      <td>고운나라피부과의원</td>\n",
       "      <td>경남 김해시 내외중앙로 57 (내동)</td>\n",
       "      <td>없음</td>\n",
       "      <td>없음영수증 인증            8월 11일, 2021년 게시          ...</td>\n",
       "      <td>여드름 고민이 있어서 방문했습니다피부 전문의라서 증상이 나타난 이유에 대해서 설명을...</td>\n",
       "      <td>10.0</td>\n",
       "      <td>관리 안됨</td>\n",
       "      <td>4000</td>\n",
       "      <td>리뷰없음</td>\n",
       "      <td>경남</td>\n",
       "      <td>김해시</td>\n",
       "      <td>내외중앙로</td>\n",
       "      <td>57</td>\n",
       "    </tr>\n",
       "  </tbody>\n",
       "</table>\n",
       "</div>"
      ],
      "text/plain": [
       "           h                   adr   d  \\\n",
       "0  고운나라피부과의원  경남 김해시 내외중앙로 57 (내동)  없음   \n",
       "1  고운나라피부과의원  경남 김해시 내외중앙로 57 (내동)  없음   \n",
       "2  고운나라피부과의원  경남 김해시 내외중앙로 57 (내동)  없음   \n",
       "\n",
       "                                                   f  \\\n",
       "0  없음영수증 인증            3월 15일, 2022년 게시          ...   \n",
       "1  없음영수증 인증            12월 20일, 2021년 게시         ...   \n",
       "2  없음영수증 인증            8월 11일, 2021년 게시          ...   \n",
       "\n",
       "                                             reviews stars treatments  \\\n",
       "0  두피가려움증으로 내원한 병원인데 진료 끝나고 두피 현미경사진을 무료로 찍어서 상담해...   9.3    두피 가려움증   \n",
       "1  대상포진으로 진료 받았어요 . 2주 이상 치료 받고 약 먹고 주사 맞으니까 진통이 ...  10.0       대상포진   \n",
       "2  여드름 고민이 있어서 방문했습니다피부 전문의라서 증상이 나타난 이유에 대해서 설명을...  10.0     관리 안됨    \n",
       "\n",
       "     money    비고  do   si     ro adr_else  \n",
       "0    4900   리뷰없음  경남  김해시  내외중앙로       57  \n",
       "1    4200   리뷰없음  경남  김해시  내외중앙로       57  \n",
       "2  4000     리뷰없음  경남  김해시  내외중앙로       57  "
      ]
     },
     "execution_count": 60,
     "metadata": {},
     "output_type": "execute_result"
    }
   ],
   "source": [
    "adr_pre =[]\n",
    "do_pre = []\n",
    "si_pre = []\n",
    "ro_pre = []\n",
    "else_pre = []\n",
    "\n",
    "\n",
    "for i in data.adr.tolist():\n",
    "    if i !='리뷰없음': \n",
    "        try: \n",
    "            k = i.split(' ')[:4]\n",
    "            # print(k)\n",
    "            do_pre.append(k[0])\n",
    "            si_pre.append(k[1])\n",
    "            ro_pre.append(k[2])\n",
    "            else_pre.append(k[3])\n",
    "            # print(i)\n",
    "        except: \n",
    "            do_pre.append('주소없음')\n",
    "            si_pre.append('주소없음')\n",
    "            ro_pre.append('주소없음')\n",
    "            else_pre.append('주소없음')\n",
    "    else:\n",
    "        do_pre.append('주소없음')\n",
    "        si_pre.append('주소없음')\n",
    "        ro_pre.append('주소없음')\n",
    "        else_pre.append('주소없음')\n",
    "\n",
    "data['do'] = do_pre\n",
    "data['si'] = si_pre\n",
    "data['ro'] = ro_pre\n",
    "data['adr_else'] = else_pre\n",
    "\n",
    "print(data.shape)\n",
    "data.head(3)"
   ]
  },
  {
   "cell_type": "code",
   "execution_count": 61,
   "metadata": {},
   "outputs": [],
   "source": [
    "data.to_excel('[0327]final_derma.xlsx')"
   ]
  },
  {
   "cell_type": "code",
   "execution_count": 63,
   "metadata": {},
   "outputs": [],
   "source": [
    "from hanspell import spell_checker"
   ]
  },
  {
   "cell_type": "code",
   "execution_count": 94,
   "metadata": {},
   "outputs": [],
   "source": [
    "from nltk.corpus import stopwords  \n",
    "stopwords.words('korean')[:10] \n",
    "\n",
    "stopwords_kor = stopwords.words('korean')\n",
    "\n",
    "stoplist = set(stopwords.words('korean'))"
   ]
  },
  {
   "cell_type": "code",
   "execution_count": null,
   "metadata": {},
   "outputs": [],
   "source": []
  },
  {
   "cell_type": "code",
   "execution_count": 95,
   "metadata": {},
   "outputs": [],
   "source": [
    "from konlpy.tag import Okt\n",
    "okt = Okt()\n",
    "\n",
    "def stemming (text):\n",
    "    morphs_list = []\n",
    "    one_words = []\n",
    "    result = []\n",
    "\n",
    "    pos = okt.pos(text, join = True)\n",
    "    # print(pos)\n",
    "    for j in pos:\n",
    "        if j.split('/')[1] == 'Noun':\n",
    "            j = j.split('/')[0]\n",
    "            morphs_list.append(j)\n",
    "                    \n",
    "        elif j.split('/')[1] =='Adjective':\n",
    "            k = okt.morphs(j,  stem= True)\n",
    "            k = k[0]\n",
    "            morphs_list.append(k)\n",
    "        elif j.split('/')[1] =='Verb':\n",
    "            v = okt.morphs(j,  stem= True)\n",
    "            v = v[0]\n",
    "            morphs_list.append(v)\n",
    "\n",
    "    for i in morphs_list:\n",
    "        if len(i) != 1:\n",
    "            one_words.append(i)\n",
    "    \n",
    "\n",
    "    for i in one_words:\n",
    "        if i not in stoplist:\n",
    "            result.append(i)\n",
    "\n",
    "    return result"
   ]
  },
  {
   "cell_type": "code",
   "execution_count": 115,
   "metadata": {},
   "outputs": [],
   "source": [
    "from tqdm import tqdm"
   ]
  },
  {
   "cell_type": "code",
   "execution_count": 121,
   "metadata": {},
   "outputs": [
    {
     "name": "stderr",
     "output_type": "stream",
     "text": [
      "  1%|          | 295/39216 [02:31<6:20:48,  1.70it/s] "
     ]
    }
   ],
   "source": [
    "new_reviews = []\n",
    "stemm = []\n",
    "\n",
    "for i in tqdm(data.reviews.tolist()):\n",
    "    # print(i)\n",
    "    i=i.replace('  ','')\n",
    "    i = i.replace(' ','')\n",
    "    i = i.replace(\"ㆍ\", \" \")\n",
    "    i = i.replace('어요','어요.')\n",
    "    i = i.replace('니다', '니다.')\n",
    "    i = i.replace('..', '.')\n",
    "    # print(i)\n",
    "    k = spell_checker.check(i)\n",
    "    dict_result = k.as_dict()\n",
    "    c = list(dict_result.values())[2]\n",
    "    new_reviews.append(c)\n",
    "    stemm.append(stemming(c))\n",
    "    # print(c)\n",
    "    if ' ' not in c:\n",
    "        new_reviews.append(i)\n",
    "        stemm.append(stemming(i))\n",
    "\n",
    "    # k = stemming(c)\n",
    "    # print(k)\n",
    "    "
   ]
  },
  {
   "cell_type": "code",
   "execution_count": null,
   "metadata": {},
   "outputs": [],
   "source": [
    "data['reviews'] = new_reviews\n",
    "data['stemm'] = stemm"
   ]
  },
  {
   "cell_type": "code",
   "execution_count": null,
   "metadata": {},
   "outputs": [],
   "source": [
    "data.head()"
   ]
  },
  {
   "cell_type": "code",
   "execution_count": null,
   "metadata": {},
   "outputs": [],
   "source": []
  }
 ],
 "metadata": {
  "interpreter": {
   "hash": "dff02889df9aba8d43035d41ec5c58383b6dffbf69831fb7958aaa89bda26e34"
  },
  "kernelspec": {
   "display_name": "Python 3.8.11 ('NLP')",
   "language": "python",
   "name": "python3"
  },
  "language_info": {
   "codemirror_mode": {
    "name": "ipython",
    "version": 3
   },
   "file_extension": ".py",
   "mimetype": "text/x-python",
   "name": "python",
   "nbconvert_exporter": "python",
   "pygments_lexer": "ipython3",
   "version": "3.8.11"
  },
  "orig_nbformat": 4
 },
 "nbformat": 4,
 "nbformat_minor": 2
}
