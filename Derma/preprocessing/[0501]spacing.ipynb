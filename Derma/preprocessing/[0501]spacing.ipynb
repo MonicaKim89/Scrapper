{
 "cells": [
  {
   "cell_type": "code",
   "execution_count": 1,
   "metadata": {},
   "outputs": [
    {
     "name": "stdout",
     "output_type": "stream",
     "text": [
      "C:\\Users\\yukir\\Documents\\GitHub\\Text_Mining\\py\n",
      "True\n",
      "[name: \"/device:CPU:0\"\n",
      "device_type: \"CPU\"\n",
      "memory_limit: 268435456\n",
      "locality {\n",
      "}\n",
      "incarnation: 9169144765290712395\n",
      "]\n",
      "tf 2.5.3\n",
      "set_global_determinism(seed=1337) 이거 꼭 해라\n",
      "set_global_determinism(seed=1337) 이거 꼭 해라\n",
      "set_global_determinism(seed=1337) 이거 꼭 해라\n"
     ]
    },
    {
     "name": "stderr",
     "output_type": "stream",
     "text": [
      "C:\\Users\\yukir\\anaconda3\\envs\\NLP\\lib\\site-packages\\scipy\\io\\matlab\\mio5.py:98: DeprecationWarning: `np.bool` is a deprecated alias for the builtin `bool`. To silence this warning, use `bool` by itself. Doing this will not modify any behavior and is safe. If you specifically wanted the numpy scalar type, use `np.bool_` here.\n",
      "Deprecated in NumPy 1.20; for more details and guidance: https://numpy.org/devdocs/release/1.20.0-notes.html#deprecations\n",
      "  from .mio5_utils import VarReader5\n"
     ]
    },
    {
     "name": "stdout",
     "output_type": "stream",
     "text": [
      "C:\\Users\\yukir\\Documents\\Monicas_workspace\\Derma\n"
     ]
    }
   ],
   "source": [
    "%cd C:\\Users\\yukir\\Documents\\GitHub\\Text_Mining\\py\n",
    "\n",
    "from nlp_processing import *\n",
    "set_global_determinism(seed=1337)\n",
    "\n",
    "%cd C:\\Users\\yukir\\Documents\\Monicas_workspace\\Derma"
   ]
  },
  {
   "cell_type": "code",
   "execution_count": 2,
   "metadata": {},
   "outputs": [],
   "source": [
    "import openpyxl\n",
    "from nltk.corpus import stopwords\n",
    "from nltk.stem.porter import PorterStemmer\n",
    "from nltk.tokenize import RegexpTokenizer\n",
    "from gensim import corpora, models\n",
    "from gensim.models import CoherenceModel\n",
    "import gensim\n",
    "import matplotlib.pyplot as plt\n",
    "\n",
    "from gensim.models.ldamodel import LdaModel \n",
    "from gensim.models.callbacks import CoherenceMetric \n",
    "from gensim import corpora \n",
    "from gensim.models.callbacks import PerplexityMetric \n",
    "import logging \n",
    "import pickle \n",
    "import pyLDAvis\n",
    "\n",
    "from gensim.models.coherencemodel import CoherenceModel \n",
    "import matplotlib.pyplot as plt\n",
    "\n",
    "import pyLDAvis.gensim\n",
    "pyLDAvis.enable_notebook()\n",
    "\n",
    "from konlpy.tag import Mecab \n",
    "from konlpy.tag import Okt\n",
    "okt = Okt()\n",
    "from tqdm import tqdm \n",
    "import re \n",
    "import pickle \n",
    "import csv\n",
    "\n",
    "\n",
    "from hanspell import spell_checker\n",
    "\n",
    "from nltk.corpus import stopwords  \n",
    "stopwords.words('korean')[:10] \n",
    "\n",
    "stopwords_kor = stopwords.words('korean')"
   ]
  },
  {
   "cell_type": "code",
   "execution_count": 9,
   "metadata": {},
   "outputs": [],
   "source": [
    "def clean_text(text): \n",
    "    \"\"\" 한글, 영문, 숫자만 남기고 제거한다. \n",
    "    :param text: \n",
    "    :return: \n",
    "    \"\"\" \n",
    "    text = text.replace(\".\", \" \").strip() \n",
    "    text = text.replace(\"·\", \" \").strip() \n",
    "    pattern = '[^ ㄱ-ㅣ가-힣|0-9|a-zA-Z]+' \n",
    "    text = re.sub(pattern=pattern, repl='', string=text) \n",
    "    return text "
   ]
  },
  {
   "cell_type": "code",
   "execution_count": 10,
   "metadata": {},
   "outputs": [
    {
     "name": "stdout",
     "output_type": "stream",
     "text": [
      "(31294, 10)\n"
     ]
    },
    {
     "data": {
      "text/html": [
       "<div>\n",
       "<style scoped>\n",
       "    .dataframe tbody tr th:only-of-type {\n",
       "        vertical-align: middle;\n",
       "    }\n",
       "\n",
       "    .dataframe tbody tr th {\n",
       "        vertical-align: top;\n",
       "    }\n",
       "\n",
       "    .dataframe thead th {\n",
       "        text-align: right;\n",
       "    }\n",
       "</style>\n",
       "<table border=\"1\" class=\"dataframe\">\n",
       "  <thead>\n",
       "    <tr style=\"text-align: right;\">\n",
       "      <th></th>\n",
       "      <th>h</th>\n",
       "      <th>reviews</th>\n",
       "      <th>stars</th>\n",
       "      <th>review_date</th>\n",
       "      <th>do</th>\n",
       "      <th>si</th>\n",
       "      <th>ro</th>\n",
       "      <th>cleaned_reviews</th>\n",
       "      <th>reviews_stem</th>\n",
       "      <th>reviews_pos</th>\n",
       "    </tr>\n",
       "  </thead>\n",
       "  <tbody>\n",
       "    <tr>\n",
       "      <th>0.0</th>\n",
       "      <td>고운나라피부과의원</td>\n",
       "      <td>두피가려움증으로 내원한 병원인데 진료 끝나고 두피 현미경사진을 무료로 찍어서 상담해...</td>\n",
       "      <td>9.3</td>\n",
       "      <td>3월 15일, 2022년</td>\n",
       "      <td>경남</td>\n",
       "      <td>김해시</td>\n",
       "      <td>내외중앙로</td>\n",
       "      <td>두피 가려움증으로 내원한 병원인데 진료 끝나고 두피 현미경사진을 무료로 찍어서 상담...</td>\n",
       "      <td>['두피', '가려움증', '원한', '병원', '진료', '두피', '현미경', ...</td>\n",
       "      <td>['두피/Noun', '가려움증/Noun', '으로/Josa', '내/Determi...</td>\n",
       "    </tr>\n",
       "    <tr>\n",
       "      <th>1.0</th>\n",
       "      <td>고운나라피부과의원</td>\n",
       "      <td>내과</td>\n",
       "      <td>10</td>\n",
       "      <td>12월 20일, 2021년</td>\n",
       "      <td>경남</td>\n",
       "      <td>김해시</td>\n",
       "      <td>내외중앙로</td>\n",
       "      <td>대상포진으로 진료받았어요 2주 이상 치료받고 약 먹고 주사 맞으니까 진통이 가라앉았...</td>\n",
       "      <td>['대상포진', '진료', '주', '이상', '약', '주사', '진통', '대상...</td>\n",
       "      <td>['내과/Noun']</td>\n",
       "    </tr>\n",
       "    <tr>\n",
       "      <th>2.0</th>\n",
       "      <td>고운나라피부과의원</td>\n",
       "      <td>여드름 고민이 있어서 방문했습니다피부 전문의라서 증상이 나타난 이유에 대해서 설명을...</td>\n",
       "      <td>10</td>\n",
       "      <td>8월 11일, 2021년</td>\n",
       "      <td>경남</td>\n",
       "      <td>김해시</td>\n",
       "      <td>내외중앙로</td>\n",
       "      <td>여드름 고민이 있어서 방문했습니다 피부전문의라서 증상이 나타난 이유에 대해서 설명을...</td>\n",
       "      <td>['여드름', '고민', '방문', '피부', '전문의', '증상', '이유', '...</td>\n",
       "      <td>['여드름/Noun', '고민/Noun', '이/Josa', '있어서/Adjecti...</td>\n",
       "    </tr>\n",
       "    <tr>\n",
       "      <th>3.0</th>\n",
       "      <td>고운나라피부과의원</td>\n",
       "      <td>문신제거문신한곳 일부분만 지우고 싶어서 여러 군데 알아보고 갔어요 워낙 가격이 천차...</td>\n",
       "      <td>10</td>\n",
       "      <td>6월 21일, 2021년</td>\n",
       "      <td>경남</td>\n",
       "      <td>김해시</td>\n",
       "      <td>내외중앙로</td>\n",
       "      <td>문신제거 문신한 곳일 부분만 지우고 싶어서 여러 군데 알아보고 갔어요 워낙 가격이 ...</td>\n",
       "      <td>['문신', '제거', '문신', '곳일', '부분', '여러', '군데', '워낙...</td>\n",
       "      <td>['문/Modifier', '신/Modifier', '제거/Noun', '문신/No...</td>\n",
       "    </tr>\n",
       "    <tr>\n",
       "      <th>4.0</th>\n",
       "      <td>고운나라피부과의원</td>\n",
       "      <td>원장님이 설명도 잘해주시고 병원도 엄청크고~(김해에서 유명한곳은 이유가있네요)!! ...</td>\n",
       "      <td>9.5</td>\n",
       "      <td>6월 7일, 2021년</td>\n",
       "      <td>경남</td>\n",
       "      <td>김해시</td>\n",
       "      <td>내외중앙로</td>\n",
       "      <td>원장님이설명도잘해주시고병원도엄청크고김해에서유명한곳은이유가있네요직원들도전부친절해서넘맘...</td>\n",
       "      <td>['원장', '설명', '병원', '김해', '곳', '유가', '직원', '전부'...</td>\n",
       "      <td>['원장/Noun', '님/Suffix', '이/Josa', '설명/Noun', '...</td>\n",
       "    </tr>\n",
       "  </tbody>\n",
       "</table>\n",
       "</div>"
      ],
      "text/plain": [
       "             h                                            reviews stars  \\\n",
       "0.0  고운나라피부과의원  두피가려움증으로 내원한 병원인데 진료 끝나고 두피 현미경사진을 무료로 찍어서 상담해...   9.3   \n",
       "1.0  고운나라피부과의원                                                 내과    10   \n",
       "2.0  고운나라피부과의원  여드름 고민이 있어서 방문했습니다피부 전문의라서 증상이 나타난 이유에 대해서 설명을...    10   \n",
       "3.0  고운나라피부과의원  문신제거문신한곳 일부분만 지우고 싶어서 여러 군데 알아보고 갔어요 워낙 가격이 천차...    10   \n",
       "4.0  고운나라피부과의원  원장님이 설명도 잘해주시고 병원도 엄청크고~(김해에서 유명한곳은 이유가있네요)!! ...   9.5   \n",
       "\n",
       "         review_date  do   si     ro  \\\n",
       "0.0   3월 15일, 2022년   경남  김해시  내외중앙로   \n",
       "1.0  12월 20일, 2021년   경남  김해시  내외중앙로   \n",
       "2.0   8월 11일, 2021년   경남  김해시  내외중앙로   \n",
       "3.0   6월 21일, 2021년   경남  김해시  내외중앙로   \n",
       "4.0    6월 7일, 2021년   경남  김해시  내외중앙로   \n",
       "\n",
       "                                       cleaned_reviews  \\\n",
       "0.0  두피 가려움증으로 내원한 병원인데 진료 끝나고 두피 현미경사진을 무료로 찍어서 상담...   \n",
       "1.0  대상포진으로 진료받았어요 2주 이상 치료받고 약 먹고 주사 맞으니까 진통이 가라앉았...   \n",
       "2.0  여드름 고민이 있어서 방문했습니다 피부전문의라서 증상이 나타난 이유에 대해서 설명을...   \n",
       "3.0  문신제거 문신한 곳일 부분만 지우고 싶어서 여러 군데 알아보고 갔어요 워낙 가격이 ...   \n",
       "4.0  원장님이설명도잘해주시고병원도엄청크고김해에서유명한곳은이유가있네요직원들도전부친절해서넘맘...   \n",
       "\n",
       "                                          reviews_stem  \\\n",
       "0.0  ['두피', '가려움증', '원한', '병원', '진료', '두피', '현미경', ...   \n",
       "1.0  ['대상포진', '진료', '주', '이상', '약', '주사', '진통', '대상...   \n",
       "2.0  ['여드름', '고민', '방문', '피부', '전문의', '증상', '이유', '...   \n",
       "3.0  ['문신', '제거', '문신', '곳일', '부분', '여러', '군데', '워낙...   \n",
       "4.0  ['원장', '설명', '병원', '김해', '곳', '유가', '직원', '전부'...   \n",
       "\n",
       "                                           reviews_pos  \n",
       "0.0  ['두피/Noun', '가려움증/Noun', '으로/Josa', '내/Determi...  \n",
       "1.0                                        ['내과/Noun']  \n",
       "2.0  ['여드름/Noun', '고민/Noun', '이/Josa', '있어서/Adjecti...  \n",
       "3.0  ['문/Modifier', '신/Modifier', '제거/Noun', '문신/No...  \n",
       "4.0  ['원장/Noun', '님/Suffix', '이/Josa', '설명/Noun', '...  "
      ]
     },
     "execution_count": 10,
     "metadata": {},
     "output_type": "execute_result"
    }
   ],
   "source": [
    "data_org = pd.read_excel('[0501]derma_stemmed.xlsx',index_col=0)\n",
    "print(data_org.shape)\n",
    "data_org.head()"
   ]
  },
  {
   "cell_type": "code",
   "execution_count": 11,
   "metadata": {},
   "outputs": [
    {
     "data": {
      "text/html": [
       "<div>\n",
       "<style scoped>\n",
       "    .dataframe tbody tr th:only-of-type {\n",
       "        vertical-align: middle;\n",
       "    }\n",
       "\n",
       "    .dataframe tbody tr th {\n",
       "        vertical-align: top;\n",
       "    }\n",
       "\n",
       "    .dataframe thead th {\n",
       "        text-align: right;\n",
       "    }\n",
       "</style>\n",
       "<table border=\"1\" class=\"dataframe\">\n",
       "  <thead>\n",
       "    <tr style=\"text-align: right;\">\n",
       "      <th></th>\n",
       "      <th>h</th>\n",
       "      <th>cleaned_reviews</th>\n",
       "      <th>reviews_pos</th>\n",
       "      <th>work</th>\n",
       "    </tr>\n",
       "  </thead>\n",
       "  <tbody>\n",
       "    <tr>\n",
       "      <th>0.0</th>\n",
       "      <td>고운나라피부과의원</td>\n",
       "      <td>두피 가려움증으로 내원한 병원인데 진료 끝나고 두피 현미경사진을 무료로 찍어서 상담...</td>\n",
       "      <td>['두피/Noun', '가려움증/Noun', '으로/Josa', '내/Determi...</td>\n",
       "      <td>고운나라피부과의원_['두피/Noun', '가려움증/Noun', '으로/Josa', ...</td>\n",
       "    </tr>\n",
       "    <tr>\n",
       "      <th>1.0</th>\n",
       "      <td>고운나라피부과의원</td>\n",
       "      <td>대상포진으로 진료받았어요 2주 이상 치료받고 약 먹고 주사 맞으니까 진통이 가라앉았...</td>\n",
       "      <td>['내과/Noun']</td>\n",
       "      <td>고운나라피부과의원_['내과/Noun']</td>\n",
       "    </tr>\n",
       "    <tr>\n",
       "      <th>2.0</th>\n",
       "      <td>고운나라피부과의원</td>\n",
       "      <td>여드름 고민이 있어서 방문했습니다 피부전문의라서 증상이 나타난 이유에 대해서 설명을...</td>\n",
       "      <td>['여드름/Noun', '고민/Noun', '이/Josa', '있어서/Adjecti...</td>\n",
       "      <td>고운나라피부과의원_['여드름/Noun', '고민/Noun', '이/Josa', '있...</td>\n",
       "    </tr>\n",
       "    <tr>\n",
       "      <th>3.0</th>\n",
       "      <td>고운나라피부과의원</td>\n",
       "      <td>문신제거 문신한 곳일 부분만 지우고 싶어서 여러 군데 알아보고 갔어요 워낙 가격이 ...</td>\n",
       "      <td>['문/Modifier', '신/Modifier', '제거/Noun', '문신/No...</td>\n",
       "      <td>고운나라피부과의원_['문/Modifier', '신/Modifier', '제거/Nou...</td>\n",
       "    </tr>\n",
       "    <tr>\n",
       "      <th>4.0</th>\n",
       "      <td>고운나라피부과의원</td>\n",
       "      <td>원장님이설명도잘해주시고병원도엄청크고김해에서유명한곳은이유가있네요직원들도전부친절해서넘맘...</td>\n",
       "      <td>['원장/Noun', '님/Suffix', '이/Josa', '설명/Noun', '...</td>\n",
       "      <td>고운나라피부과의원_['원장/Noun', '님/Suffix', '이/Josa', '설...</td>\n",
       "    </tr>\n",
       "  </tbody>\n",
       "</table>\n",
       "</div>"
      ],
      "text/plain": [
       "             h                                    cleaned_reviews  \\\n",
       "0.0  고운나라피부과의원  두피 가려움증으로 내원한 병원인데 진료 끝나고 두피 현미경사진을 무료로 찍어서 상담...   \n",
       "1.0  고운나라피부과의원  대상포진으로 진료받았어요 2주 이상 치료받고 약 먹고 주사 맞으니까 진통이 가라앉았...   \n",
       "2.0  고운나라피부과의원  여드름 고민이 있어서 방문했습니다 피부전문의라서 증상이 나타난 이유에 대해서 설명을...   \n",
       "3.0  고운나라피부과의원  문신제거 문신한 곳일 부분만 지우고 싶어서 여러 군데 알아보고 갔어요 워낙 가격이 ...   \n",
       "4.0  고운나라피부과의원  원장님이설명도잘해주시고병원도엄청크고김해에서유명한곳은이유가있네요직원들도전부친절해서넘맘...   \n",
       "\n",
       "                                           reviews_pos  \\\n",
       "0.0  ['두피/Noun', '가려움증/Noun', '으로/Josa', '내/Determi...   \n",
       "1.0                                        ['내과/Noun']   \n",
       "2.0  ['여드름/Noun', '고민/Noun', '이/Josa', '있어서/Adjecti...   \n",
       "3.0  ['문/Modifier', '신/Modifier', '제거/Noun', '문신/No...   \n",
       "4.0  ['원장/Noun', '님/Suffix', '이/Josa', '설명/Noun', '...   \n",
       "\n",
       "                                                  work  \n",
       "0.0  고운나라피부과의원_['두피/Noun', '가려움증/Noun', '으로/Josa', ...  \n",
       "1.0                              고운나라피부과의원_['내과/Noun']  \n",
       "2.0  고운나라피부과의원_['여드름/Noun', '고민/Noun', '이/Josa', '있...  \n",
       "3.0  고운나라피부과의원_['문/Modifier', '신/Modifier', '제거/Nou...  \n",
       "4.0  고운나라피부과의원_['원장/Noun', '님/Suffix', '이/Josa', '설...  "
      ]
     },
     "execution_count": 11,
     "metadata": {},
     "output_type": "execute_result"
    }
   ],
   "source": [
    "data = data_org.copy()\n",
    "data = data[['h', 'cleaned_reviews', 'reviews_pos']]\n",
    "data['work'] = data['h']+'_'+data['reviews_pos']\n",
    "data.head()"
   ]
  },
  {
   "cell_type": "code",
   "execution_count": 12,
   "metadata": {},
   "outputs": [
    {
     "name": "stdout",
     "output_type": "stream",
     "text": [
      "['두피/Noun', '가려움증/Noun', '으로/Josa', '내원한/Verb', '병원/Noun', '인데/Josa', '진료/Noun', '끝나고/Verb', '두피/Noun', '현미경/Noun', '사진/Noun', '을/Josa', '무료/Noun', '로/Josa', '찍어서/Verb', '상담/Noun', '해주셨어요/Verb', '제/Noun', '두피/Noun', '에/Josa', '맞는/Verb', '샴푸/Noun', '권하셔서/Verb', '하나/Noun', '사가지고/Verb', '왔어요/Verb', '샴푸/Noun', '방법/Noun', '도/Josa', '자세히/Adjective', '알려주시고/Verb', '참/Verb', '친절하셨어요/Adjective']\n"
     ]
    }
   ],
   "source": [
    "k = data.cleaned_reviews.tolist()[0]\n",
    "k = okt.pos(k, join = True)\n",
    "print(k)"
   ]
  },
  {
   "cell_type": "code",
   "execution_count": 13,
   "metadata": {},
   "outputs": [
    {
     "name": "stdout",
     "output_type": "stream",
     "text": [
      "고운나라피부과의원 - 1 - 두피 가려움증으로 내 원한 병원인데 진료 끝나고\n",
      "고운나라피부과의원 - 1 - 두피 현미경 사진을 무료로 찍어서\n",
      "고운나라피부과의원 - 1 - 상담해주셨어요\n",
      "고운나라피부과의원 - 1 - 제 두피에 맞는\n",
      "고운나라피부과의원 - 1 - 샴푸 권하셔서\n",
      "고운나라피부과의원 - 1 - 하나 사가지고\n",
      "고운나라피부과의원 - 1 - 왔어요\n",
      "고운나라피부과의원 - 1 - 샴푸 방법 도 자세히 알려주 시\n",
      "고운나라피부과의원 - 1 - 고참 친절하셨어요\n"
     ]
    }
   ],
   "source": [
    "data_work = data['work'].tolist()\n",
    "f=0\n",
    "morphs_list = []\n",
    "\n",
    "for i in data_work[:1]:\n",
    "    hospital = i.split('_')[0]\n",
    "    sentence = i.split('_')[1]\n",
    "    sentence = sentence.replace(\"'\",'')\n",
    "    sentence = sentence.replace(\" '\",'')\n",
    "    sent = sentence.split('/Verb')\n",
    "    # print(sent)\n",
    "    f+=1 \n",
    "    for k in sent:\n",
    "        k = k.replace('/Noun','')\n",
    "        k = k.replace('/Josa','')\n",
    "        k = k.replace('/Determiner','')\n",
    "        k = k.replace('/Adjective','')\n",
    "        k = k.replace('/Punctuation','')\n",
    "        k = k.replace('/Modifier','')\n",
    "        k = k.replace('/Foreign','')\n",
    "        k = clean_text(k)\n",
    "        k = k.replace('  ','')\n",
    "        # k = k.replace(']','')\n",
    "        # k = k.replace(',','')\n",
    "        # k = k.replace(' ','')\n",
    "\n",
    "        k = spell_checker.check(k)\n",
    "        k = k.checked\n",
    "        k = k.strip()\n",
    "\n",
    "        print(hospital,'-',f,'-', k)\n",
    "    #     pos = okt.pos(k, join = True)\n",
    "    #     print(pos)\n",
    "    #     for j in pos:\n",
    "    #         # print(j)\n",
    "    #         if j.split('/')[1] == 'Noun':\n",
    "    #             morphs_list.append(j)\n",
    "    #         elif j.split('/')[1] == 'Verb':\n",
    "    #             morphs_list.append(j)\n",
    "    #         elif j.split('/')[1] == 'Adjective':\n",
    "    #             morphs_list.append(j)\n",
    "            \n",
    "            ###\n",
    "            # morphs_list.set"
   ]
  },
  {
   "cell_type": "code",
   "execution_count": 100,
   "metadata": {},
   "outputs": [
    {
     "name": "stdout",
     "output_type": "stream",
     "text": [
      "두피 가려움증 으로 내 원한 병원 인데 진료 끝나고\n",
      "<class 'str'>\n",
      " 두피 현미경 사진 을 무료 로 찍어서\n",
      "<class 'str'>\n",
      " 상담 해주셨어요\n",
      "<class 'str'>\n",
      " . 제 두피 에 맞는\n",
      "<class 'str'>\n",
      " 샴푸 권하셔서\n",
      "<class 'str'>\n",
      " 하나 사가지고\n",
      "<class 'str'>\n",
      " 왔어요\n",
      "<class 'str'>\n",
      " ㆍ 샴푸 방법 도 자세히 알려주시\n",
      "<class 'str'>\n",
      " 고참 친절하셨어요 \n",
      "<class 'str'>\n"
     ]
    }
   ],
   "source": [
    "for i in morphs_list:\n",
    "    \n",
    "    print(i)\n",
    "    print(type(i))"
   ]
  },
  {
   "cell_type": "code",
   "execution_count": 15,
   "metadata": {},
   "outputs": [
    {
     "name": "stdout",
     "output_type": "stream",
     "text": [
      "1060\n"
     ]
    }
   ],
   "source": [
    "k = 0\n",
    "\n",
    "for i in data_org.reviews:\n",
    "    if '내원' in i:\n",
    "        k+=1\n",
    "print(k)"
   ]
  },
  {
   "cell_type": "code",
   "execution_count": 77,
   "metadata": {},
   "outputs": [
    {
     "data": {
      "text/plain": [
       "'두피 가려움증으로 내원한 병원인데 진료 끝나고 두피 현미경사진을 무료로 찍어서 상담해주셨어요 제 두피에 맞는 샴푸 권하셔서 하나 사가지고 왔어요 샴푸 방법도 자세히 알려주시고 참 친절하셨어요'"
      ]
     },
     "execution_count": 77,
     "metadata": {},
     "output_type": "execute_result"
    }
   ],
   "source": [
    "data.cleaned_reviews.tolist()[0]"
   ]
  },
  {
   "cell_type": "code",
   "execution_count": 73,
   "metadata": {},
   "outputs": [
    {
     "data": {
      "text/plain": [
       "\"고운나라피부과의원_['두피/Noun', '가려움증/Noun', '으로/Josa', '내/Determiner', '원한/Noun', '병원/Noun', '인데/Josa', '진료/Noun', '끝나고/Verb', '두피/Noun', '현미경/Noun', '사진/Noun', '을/Josa', '무료/Noun', '로/Josa', '찍어서/Verb', '상담/Noun', '해주셨어요/Verb', './Punctuation', '제/Modifier', '두피/Noun', '에/Josa', '맞는/Verb', '샴푸/Noun', '권하셔서/Verb', '하나/Noun', '사가지고/Verb', '왔어요/Verb', 'ㆍ/Foreign', '샴푸/Noun', '방법/Noun', '도/Josa', '자세히/Adjective', '알려주시/Verb', '고참/Noun', '친절하셨어요/Adjective', ',/Punctuation']\""
      ]
     },
     "execution_count": 73,
     "metadata": {},
     "output_type": "execute_result"
    }
   ],
   "source": [
    "data_work[0]"
   ]
  },
  {
   "cell_type": "code",
   "execution_count": 52,
   "metadata": {},
   "outputs": [
    {
     "data": {
      "text/plain": [
       "\"고운나라피부과의원_['두피/Noun', '가려움증/Noun', '으로/Josa', '내/Determiner', '원한/Noun', '병원/Noun', '인데/Josa', '진료/Noun', '끝나고/Verb', '두피/Noun', '현미경/Noun', '사진/Noun', '을/Josa', '무료/Noun', '로/Josa', '찍어서/Verb', '상담/Noun', '해주셨어요/Verb', './Punctuation', '제/Modifier', '두피/Noun', '에/Josa', '맞는/Verb', '샴푸/Noun', '권하셔서/Verb', '하나/Noun', '사가지고/Verb', '왔어요/Verb', 'ㆍ/Foreign', '샴푸/Noun', '방법/Noun', '도/Josa', '자세히/Adjective', '알려주시/Verb', '고참/Noun', '친절하셨어요/Adjective', ',/Punctuation']\""
      ]
     },
     "execution_count": 52,
     "metadata": {},
     "output_type": "execute_result"
    }
   ],
   "source": [
    "data_work[0]"
   ]
  },
  {
   "cell_type": "code",
   "execution_count": 18,
   "metadata": {},
   "outputs": [
    {
     "data": {
      "text/plain": [
       "[('슈', 'Noun'), ('링크', 'Noun')]"
      ]
     },
     "execution_count": 18,
     "metadata": {},
     "output_type": "execute_result"
    }
   ],
   "source": [
    "okt.pos('슈링크')"
   ]
  },
  {
   "cell_type": "code",
   "execution_count": null,
   "metadata": {},
   "outputs": [],
   "source": []
  }
 ],
 "metadata": {
  "interpreter": {
   "hash": "dff02889df9aba8d43035d41ec5c58383b6dffbf69831fb7958aaa89bda26e34"
  },
  "kernelspec": {
   "display_name": "Python 3.8.11 ('NLP')",
   "language": "python",
   "name": "python3"
  },
  "language_info": {
   "codemirror_mode": {
    "name": "ipython",
    "version": 3
   },
   "file_extension": ".py",
   "mimetype": "text/x-python",
   "name": "python",
   "nbconvert_exporter": "python",
   "pygments_lexer": "ipython3",
   "version": "3.8.11"
  },
  "orig_nbformat": 4
 },
 "nbformat": 4,
 "nbformat_minor": 2
}
