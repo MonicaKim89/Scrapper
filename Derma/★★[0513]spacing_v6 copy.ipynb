{
 "cells": [
  {
   "cell_type": "code",
   "execution_count": 1,
   "metadata": {},
   "outputs": [
    {
     "name": "stdout",
     "output_type": "stream",
     "text": [
      "C:\\Users\\yukir\\Documents\\GitHub\\Text_Mining\\py\n",
      "True\n",
      "[name: \"/device:CPU:0\"\n",
      "device_type: \"CPU\"\n",
      "memory_limit: 268435456\n",
      "locality {\n",
      "}\n",
      "incarnation: 13116286800560252958\n",
      "]\n",
      "tf 2.5.3\n",
      "set_global_determinism(seed=1337) 이거 꼭 해라\n",
      "set_global_determinism(seed=1337) 이거 꼭 해라\n",
      "set_global_determinism(seed=1337) 이거 꼭 해라\n"
     ]
    },
    {
     "name": "stderr",
     "output_type": "stream",
     "text": [
      "c:\\Users\\yukir\\anaconda3\\envs\\NLP\\lib\\site-packages\\scipy\\io\\matlab\\mio5.py:98: DeprecationWarning: `np.bool` is a deprecated alias for the builtin `bool`. To silence this warning, use `bool` by itself. Doing this will not modify any behavior and is safe. If you specifically wanted the numpy scalar type, use `np.bool_` here.\n",
      "Deprecated in NumPy 1.20; for more details and guidance: https://numpy.org/devdocs/release/1.20.0-notes.html#deprecations\n",
      "  from .mio5_utils import VarReader5\n"
     ]
    },
    {
     "name": "stdout",
     "output_type": "stream",
     "text": [
      "C:\\Users\\yukir\\Documents\\Monicas_workspace\\Derma\n"
     ]
    }
   ],
   "source": [
    "%cd C:\\Users\\yukir\\Documents\\GitHub\\Text_Mining\\py\n",
    "\n",
    "from nlp_processing import *\n",
    "set_global_determinism(seed=1337)\n",
    "\n",
    "%cd C:\\Users\\yukir\\Documents\\Monicas_workspace\\Derma"
   ]
  },
  {
   "cell_type": "code",
   "execution_count": 35,
   "metadata": {},
   "outputs": [],
   "source": [
    "import openpyxl\n",
    "from nltk.corpus import stopwords\n",
    "from nltk.stem.porter import PorterStemmer\n",
    "from nltk.tokenize import RegexpTokenizer\n",
    "from gensim import corpora, models\n",
    "from gensim.models import CoherenceModel\n",
    "import gensim\n",
    "import matplotlib.pyplot as plt\n",
    "\n",
    "from gensim.models.ldamodel import LdaModel \n",
    "from gensim.models.callbacks import CoherenceMetric \n",
    "from gensim import corpora \n",
    "from gensim.models.callbacks import PerplexityMetric \n",
    "import logging \n",
    "import pickle \n",
    "import pyLDAvis\n",
    "\n",
    "from gensim.models.coherencemodel import CoherenceModel \n",
    "import matplotlib.pyplot as plt\n",
    "\n",
    "import pyLDAvis.gensim\n",
    "pyLDAvis.enable_notebook()\n",
    "\n",
    "from konlpy.tag import Mecab \n",
    "from konlpy.tag import Okt\n",
    "okt = Okt()\n",
    "from tqdm import tqdm \n",
    "import re \n",
    "import pickle \n",
    "import csv\n",
    "\n",
    "\n",
    "from hanspell import spell_checker\n",
    "\n",
    "from nltk.corpus import stopwords  \n",
    "stopwords.words('korean')[:10] \n",
    "\n",
    "stopwords_kor = stopwords.words('korean')"
   ]
  },
  {
   "cell_type": "code",
   "execution_count": 36,
   "metadata": {},
   "outputs": [],
   "source": [
    "def clean_text(text): \n",
    "    \"\"\" 한글, 영문, 숫자만 남기고 제거한다. \n",
    "    :param text: \n",
    "    :return: \n",
    "    \"\"\" \n",
    "    text = text.replace(\".\", \" \").strip() \n",
    "    text = text.replace(\"·\", \" \").strip() \n",
    "    pattern = '[^ ㄱ-ㅣ가-힣|0-9|a-zA-Z]+' \n",
    "    text = re.sub(pattern=pattern, repl='', string=text) \n",
    "    return text \n",
    "\n",
    "def labels(x):\n",
    "    i = str(x)\n",
    "    i = i.replace('[','')\n",
    "    i = i.replace(']','')\n",
    "    i = i.replace(',','')\n",
    "    k = i.split(' ')\n",
    "    return k\n"
   ]
  },
  {
   "cell_type": "code",
   "execution_count": 63,
   "metadata": {},
   "outputs": [],
   "source": [
    "data_servq = pd.read_excel(\"C:\\\\Users\\\\yukir\\\\Documents\\\\Monicas_workspace\\\\Derma_v2\\\\data\\\\★★[0512]derma_lables_v3.xlsx\",index_col = 0)\n",
    "data_serv = data_servq.copy()\n",
    "reliability = labels(data_serv['keywords'][0])\n",
    "responsiveness = labels(data_serv['keywords'][1])\n",
    "assurance = labels(data_serv['keywords'][2])\n",
    "empathy = labels(data_serv['keywords'][3])\n",
    "tangible = labels(data_serv['keywords'][4])"
   ]
  },
  {
   "cell_type": "code",
   "execution_count": 5,
   "metadata": {},
   "outputs": [
    {
     "name": "stdout",
     "output_type": "stream",
     "text": [
      "(29363, 10)\n"
     ]
    },
    {
     "data": {
      "text/html": [
       "<div>\n",
       "<style scoped>\n",
       "    .dataframe tbody tr th:only-of-type {\n",
       "        vertical-align: middle;\n",
       "    }\n",
       "\n",
       "    .dataframe tbody tr th {\n",
       "        vertical-align: top;\n",
       "    }\n",
       "\n",
       "    .dataframe thead th {\n",
       "        text-align: right;\n",
       "    }\n",
       "</style>\n",
       "<table border=\"1\" class=\"dataframe\">\n",
       "  <thead>\n",
       "    <tr style=\"text-align: right;\">\n",
       "      <th></th>\n",
       "      <th>h</th>\n",
       "      <th>adr</th>\n",
       "      <th>reviews</th>\n",
       "      <th>stars</th>\n",
       "      <th>treatments</th>\n",
       "      <th>money</th>\n",
       "      <th>adr_else</th>\n",
       "      <th>dates</th>\n",
       "      <th>cleaned_reviews</th>\n",
       "      <th>stemmed</th>\n",
       "    </tr>\n",
       "  </thead>\n",
       "  <tbody>\n",
       "    <tr>\n",
       "      <th>0</th>\n",
       "      <td>고운나라피부과의원</td>\n",
       "      <td>경남 김해시 내외중앙로 57 (내동)</td>\n",
       "      <td>두피가려움증으로 내원한 병원인데 진료 끝나고 두피 현미경사진을 무료로 찍어서 상담해...</td>\n",
       "      <td>9.3</td>\n",
       "      <td>두피 가려움증</td>\n",
       "      <td>4900</td>\n",
       "      <td>57</td>\n",
       "      <td>2022-03-15</td>\n",
       "      <td>두피 가려움증으로 내원한 병원인데 진료 끝나고 두피 현미경사진을 무료로 찍어서 상담...</td>\n",
       "      <td>['두피/Noun', '가려움증/Noun', '으로/Josa', '내원한/Verb'...</td>\n",
       "    </tr>\n",
       "    <tr>\n",
       "      <th>1</th>\n",
       "      <td>고운나라피부과의원</td>\n",
       "      <td>경남 김해시 내외중앙로 57 (내동)</td>\n",
       "      <td>대상포진으로 진료 받았어요 . 2주 이상 치료 받고 약 먹고 주사 맞으니까 진통이 ...</td>\n",
       "      <td>10.0</td>\n",
       "      <td>대상포진</td>\n",
       "      <td>4200</td>\n",
       "      <td>57</td>\n",
       "      <td>2021-12-20</td>\n",
       "      <td>대상포진으로 진료받았어요 2주 이상 치료받고 약 먹고 주사 맞으니까 진통이 가라앉았...</td>\n",
       "      <td>['대상포진/Noun', '으로/Josa', '진료/Noun', '받았어요/Verb...</td>\n",
       "    </tr>\n",
       "    <tr>\n",
       "      <th>2</th>\n",
       "      <td>고운나라피부과의원</td>\n",
       "      <td>경남 김해시 내외중앙로 57 (내동)</td>\n",
       "      <td>여드름 고민이 있어서 방문했습니다피부 전문의라서 증상이 나타난 이유에 대해서 설명을...</td>\n",
       "      <td>10.0</td>\n",
       "      <td>관리 안 됨</td>\n",
       "      <td>4000</td>\n",
       "      <td>57</td>\n",
       "      <td>2021-08-11</td>\n",
       "      <td>여드름 고민이 있어서 방문했습니다 피부전문의라서 증상이 나타난 이유에 대해서 설명을...</td>\n",
       "      <td>['여드름/Noun', '고민/Noun', '이/Josa', '있어서/Adjecti...</td>\n",
       "    </tr>\n",
       "    <tr>\n",
       "      <th>3</th>\n",
       "      <td>고운나라피부과의원</td>\n",
       "      <td>경남 김해시 내외중앙로 57 (내동)</td>\n",
       "      <td>문신제거문신한곳 일부분만 지우고 싶어서 여러 군데 알아보고 갔어요 워낙 가격이 천차...</td>\n",
       "      <td>10.0</td>\n",
       "      <td>문신제거</td>\n",
       "      <td>22000</td>\n",
       "      <td>57</td>\n",
       "      <td>2021-06-21</td>\n",
       "      <td>문신제거 문신한 곳일 부분만 지우고 싶어서 여러 군데 알아보고 갔어요 워낙 가격이 ...</td>\n",
       "      <td>['문신/Noun', '제거/Noun', '문신/Noun', '한/Josa', '곳...</td>\n",
       "    </tr>\n",
       "    <tr>\n",
       "      <th>4</th>\n",
       "      <td>고운나라피부과의원</td>\n",
       "      <td>경남 김해시 내외중앙로 57 (내동)</td>\n",
       "      <td>원장님이 설명도 잘해주시고 병원도 엄청크고~(김해에서 유명한곳은 이유가있네요)!! ...</td>\n",
       "      <td>9.5</td>\n",
       "      <td>피부 트러블</td>\n",
       "      <td>4000</td>\n",
       "      <td>57</td>\n",
       "      <td>2021-06-07</td>\n",
       "      <td>원장님이설명도잘해주시고병원도엄청크고김해에서유명한곳은이유가있네요직원들도전부친절해서넘맘...</td>\n",
       "      <td>['원장/Noun', '님/Suffix', '이/Determiner', '설명/No...</td>\n",
       "    </tr>\n",
       "  </tbody>\n",
       "</table>\n",
       "</div>"
      ],
      "text/plain": [
       "           h                   adr  \\\n",
       "0  고운나라피부과의원  경남 김해시 내외중앙로 57 (내동)   \n",
       "1  고운나라피부과의원  경남 김해시 내외중앙로 57 (내동)   \n",
       "2  고운나라피부과의원  경남 김해시 내외중앙로 57 (내동)   \n",
       "3  고운나라피부과의원  경남 김해시 내외중앙로 57 (내동)   \n",
       "4  고운나라피부과의원  경남 김해시 내외중앙로 57 (내동)   \n",
       "\n",
       "                                             reviews  stars treatments  \\\n",
       "0  두피가려움증으로 내원한 병원인데 진료 끝나고 두피 현미경사진을 무료로 찍어서 상담해...    9.3    두피 가려움증   \n",
       "1  대상포진으로 진료 받았어요 . 2주 이상 치료 받고 약 먹고 주사 맞으니까 진통이 ...   10.0       대상포진   \n",
       "2  여드름 고민이 있어서 방문했습니다피부 전문의라서 증상이 나타난 이유에 대해서 설명을...   10.0     관리 안 됨   \n",
       "3  문신제거문신한곳 일부분만 지우고 싶어서 여러 군데 알아보고 갔어요 워낙 가격이 천차...   10.0       문신제거   \n",
       "4  원장님이 설명도 잘해주시고 병원도 엄청크고~(김해에서 유명한곳은 이유가있네요)!! ...    9.5     피부 트러블   \n",
       "\n",
       "      money adr_else      dates  \\\n",
       "0     4900        57 2022-03-15   \n",
       "1     4200        57 2021-12-20   \n",
       "2   4000          57 2021-08-11   \n",
       "3  22000          57 2021-06-21   \n",
       "4     4000        57 2021-06-07   \n",
       "\n",
       "                                     cleaned_reviews  \\\n",
       "0  두피 가려움증으로 내원한 병원인데 진료 끝나고 두피 현미경사진을 무료로 찍어서 상담...   \n",
       "1  대상포진으로 진료받았어요 2주 이상 치료받고 약 먹고 주사 맞으니까 진통이 가라앉았...   \n",
       "2  여드름 고민이 있어서 방문했습니다 피부전문의라서 증상이 나타난 이유에 대해서 설명을...   \n",
       "3  문신제거 문신한 곳일 부분만 지우고 싶어서 여러 군데 알아보고 갔어요 워낙 가격이 ...   \n",
       "4  원장님이설명도잘해주시고병원도엄청크고김해에서유명한곳은이유가있네요직원들도전부친절해서넘맘...   \n",
       "\n",
       "                                             stemmed  \n",
       "0  ['두피/Noun', '가려움증/Noun', '으로/Josa', '내원한/Verb'...  \n",
       "1  ['대상포진/Noun', '으로/Josa', '진료/Noun', '받았어요/Verb...  \n",
       "2  ['여드름/Noun', '고민/Noun', '이/Josa', '있어서/Adjecti...  \n",
       "3  ['문신/Noun', '제거/Noun', '문신/Noun', '한/Josa', '곳...  \n",
       "4  ['원장/Noun', '님/Suffix', '이/Determiner', '설명/No...  "
      ]
     },
     "execution_count": 5,
     "metadata": {},
     "output_type": "execute_result"
    }
   ],
   "source": [
    "data_org = pd.read_excel(\"C:\\\\Users\\\\yukir\\\\Documents\\\\Monicas_workspace\\\\Derma_v2\\\\Lbl2Vec\\\\data_derma\\\\Lbl2Vec_data\\\\★★[0503]data_for_Lvl2Vec.xlsx\",index_col=0)\n",
    "print(data_org.shape)\n",
    "data_org.head()"
   ]
  },
  {
   "cell_type": "code",
   "execution_count": 6,
   "metadata": {},
   "outputs": [],
   "source": [
    "def correction(x):\n",
    "    try:\n",
    "        x = x.replace('대기 시간', '대기시간')\n",
    "        x = x.replace('점심 시간', '점심시간')\n",
    "        x = x.replace('진료 시간', '진료시간')\n",
    "        x = x.replace('치료 시간', '치료시간')\n",
    "        x = x.replace('관리 시간', '관리시간')\n",
    "    except:\n",
    "        pass\n",
    "    return x"
   ]
  },
  {
   "cell_type": "code",
   "execution_count": 7,
   "metadata": {},
   "outputs": [
    {
     "data": {
      "text/html": [
       "<div>\n",
       "<style scoped>\n",
       "    .dataframe tbody tr th:only-of-type {\n",
       "        vertical-align: middle;\n",
       "    }\n",
       "\n",
       "    .dataframe tbody tr th {\n",
       "        vertical-align: top;\n",
       "    }\n",
       "\n",
       "    .dataframe thead th {\n",
       "        text-align: right;\n",
       "    }\n",
       "</style>\n",
       "<table border=\"1\" class=\"dataframe\">\n",
       "  <thead>\n",
       "    <tr style=\"text-align: right;\">\n",
       "      <th></th>\n",
       "      <th>h</th>\n",
       "      <th>cleaned_reviews</th>\n",
       "    </tr>\n",
       "  </thead>\n",
       "  <tbody>\n",
       "    <tr>\n",
       "      <th>0</th>\n",
       "      <td>고운나라피부과의원</td>\n",
       "      <td>두피 가려움증으로 내원한 병원인데 진료 끝나고 두피 현미경사진을 무료로 찍어서 상담...</td>\n",
       "    </tr>\n",
       "    <tr>\n",
       "      <th>1</th>\n",
       "      <td>고운나라피부과의원</td>\n",
       "      <td>대상포진으로 진료받았어요 2주 이상 치료받고 약 먹고 주사 맞으니까 진통이 가라앉았...</td>\n",
       "    </tr>\n",
       "    <tr>\n",
       "      <th>2</th>\n",
       "      <td>고운나라피부과의원</td>\n",
       "      <td>여드름 고민이 있어서 방문했습니다 피부전문의라서 증상이 나타난 이유에 대해서 설명을...</td>\n",
       "    </tr>\n",
       "    <tr>\n",
       "      <th>3</th>\n",
       "      <td>고운나라피부과의원</td>\n",
       "      <td>문신제거 문신한 곳일 부분만 지우고 싶어서 여러 군데 알아보고 갔어요 워낙 가격이 ...</td>\n",
       "    </tr>\n",
       "    <tr>\n",
       "      <th>4</th>\n",
       "      <td>고운나라피부과의원</td>\n",
       "      <td>원장님이설명도잘해주시고병원도엄청크고김해에서유명한곳은이유가있네요직원들도전부친절해서넘맘...</td>\n",
       "    </tr>\n",
       "  </tbody>\n",
       "</table>\n",
       "</div>"
      ],
      "text/plain": [
       "           h                                    cleaned_reviews\n",
       "0  고운나라피부과의원  두피 가려움증으로 내원한 병원인데 진료 끝나고 두피 현미경사진을 무료로 찍어서 상담...\n",
       "1  고운나라피부과의원  대상포진으로 진료받았어요 2주 이상 치료받고 약 먹고 주사 맞으니까 진통이 가라앉았...\n",
       "2  고운나라피부과의원  여드름 고민이 있어서 방문했습니다 피부전문의라서 증상이 나타난 이유에 대해서 설명을...\n",
       "3  고운나라피부과의원  문신제거 문신한 곳일 부분만 지우고 싶어서 여러 군데 알아보고 갔어요 워낙 가격이 ...\n",
       "4  고운나라피부과의원  원장님이설명도잘해주시고병원도엄청크고김해에서유명한곳은이유가있네요직원들도전부친절해서넘맘..."
      ]
     },
     "execution_count": 7,
     "metadata": {},
     "output_type": "execute_result"
    }
   ],
   "source": [
    "data = data_org.copy()\n",
    "data = data[['h', 'cleaned_reviews']]\n",
    "\n",
    "data['cleaned_reviews'] = data['cleaned_reviews'].apply(correction)\n",
    "# data['work'] = data['h']+'_'+data['cleaned_reviews']\n",
    "data.head()"
   ]
  },
  {
   "cell_type": "code",
   "execution_count": 8,
   "metadata": {},
   "outputs": [],
   "source": [
    "def clean_text(text): \n",
    "    \"\"\" 한글, 영문, 숫자만 남기고 제거한다. \n",
    "    :param text: \n",
    "    :return: \n",
    "    \"\"\" \n",
    "    text = text.replace(\".\", \" \").strip() \n",
    "    text = text.replace(\"·\", \" \").strip() \n",
    "    pattern = '[^ ㄱ-ㅣ가-힣|0-9|]+' \n",
    "    text = re.sub(pattern=pattern, repl='', string=text) \n",
    "    return text \n",
    "\n",
    "def stemming (text):\n",
    "    morphs_list = []\n",
    "    one_words = []\n",
    "    result = []\n",
    "\n",
    "    pos = okt.pos(text, join = False)\n",
    "    # print(pos)\n",
    "    try:\n",
    "        for j in pos:\n",
    "            if j.split('/')[1] == 'Noun':\n",
    "                j = j.split('/')[0]\n",
    "                morphs_list.append(j)\n",
    "                        \n",
    "            elif j.split('/')[1] =='Adjective':\n",
    "                k = okt.morphs(j,  stem= True)\n",
    "                k = k[0]\n",
    "                morphs_list.append(k)\n",
    "            elif j.split('/')[1] =='Verb':\n",
    "                v = okt.morphs(j,  stem= True)\n",
    "                v = v[0]\n",
    "                morphs_list.append(v)\n",
    "\n",
    "            elif j.split('/')[1] =='Adverb':\n",
    "                ad = okt.morphs(j,  stem= True)\n",
    "                v = v[0]\n",
    "                morphs_list.append(ad)\n",
    "\n",
    "        for i in morphs_list:\n",
    "            if len(i) != 1:\n",
    "                one_words.append(i)\n",
    "        \n",
    "\n",
    "        for i in one_words:\n",
    "            if i not in stopwords_kor:\n",
    "                result.append(i)\n",
    "    except:\n",
    "        result.append(text)\n",
    "        pass\n",
    "\n",
    "    return result"
   ]
  },
  {
   "cell_type": "code",
   "execution_count": 9,
   "metadata": {},
   "outputs": [],
   "source": [
    "from hanspell import spell_checker"
   ]
  },
  {
   "cell_type": "code",
   "execution_count": 10,
   "metadata": {},
   "outputs": [],
   "source": [
    "data['work'] = data['h']+'_'+data['cleaned_reviews']"
   ]
  },
  {
   "cell_type": "code",
   "execution_count": 14,
   "metadata": {},
   "outputs": [
    {
     "data": {
      "text/plain": [
       "29203"
      ]
     },
     "execution_count": 14,
     "metadata": {},
     "output_type": "execute_result"
    }
   ],
   "source": [
    "len(results)"
   ]
  },
  {
   "cell_type": "code",
   "execution_count": null,
   "metadata": {},
   "outputs": [],
   "source": [
    "new_result = []\n",
    "\n",
    "for i in results:\n",
    "    new_result.append(i)\n",
    "\n",
    "new_result[0]"
   ]
  },
  {
   "cell_type": "code",
   "execution_count": 18,
   "metadata": {},
   "outputs": [],
   "source": [
    "reviews = pd.DataFrame({'hospital':hospital_list, 'reviews_pos':new_result})"
   ]
  },
  {
   "cell_type": "code",
   "execution_count": null,
   "metadata": {},
   "outputs": [],
   "source": []
  },
  {
   "cell_type": "code",
   "execution_count": null,
   "metadata": {},
   "outputs": [],
   "source": []
  },
  {
   "cell_type": "code",
   "execution_count": 19,
   "metadata": {},
   "outputs": [],
   "source": [
    "reviews.to_csv('[0514]pos.csv')"
   ]
  },
  {
   "cell_type": "code",
   "execution_count": 20,
   "metadata": {},
   "outputs": [],
   "source": [
    "reviews.to_excel('[0514]pos.xlsx')"
   ]
  },
  {
   "cell_type": "code",
   "execution_count": 26,
   "metadata": {},
   "outputs": [
    {
     "name": "stderr",
     "output_type": "stream",
     "text": [
      "29203it [01:27, 332.64it/s]\n"
     ]
    }
   ],
   "source": [
    "hospital_list_v2=[]\n",
    "sentences = []\n",
    "\n",
    "for num, i in tqdm(enumerate(reviews.reviews_pos.tolist())):\n",
    "    i = str(i)\n",
    "    ss = i.split('Adjective')\n",
    "    for i in ss:\n",
    "        sentences.append(i)\n",
    "        hos = reviews.hospital.tolist()[num]\n",
    "        hospital_list_v2.append(hos)\n"
   ]
  },
  {
   "cell_type": "code",
   "execution_count": 27,
   "metadata": {},
   "outputs": [],
   "source": [
    "reviews_adj = pd.DataFrame({'hospital':hospital_list_v2, 'reviews_adj':sentences})"
   ]
  },
  {
   "cell_type": "code",
   "execution_count": 28,
   "metadata": {},
   "outputs": [
    {
     "data": {
      "text/html": [
       "<div>\n",
       "<style scoped>\n",
       "    .dataframe tbody tr th:only-of-type {\n",
       "        vertical-align: middle;\n",
       "    }\n",
       "\n",
       "    .dataframe tbody tr th {\n",
       "        vertical-align: top;\n",
       "    }\n",
       "\n",
       "    .dataframe thead th {\n",
       "        text-align: right;\n",
       "    }\n",
       "</style>\n",
       "<table border=\"1\" class=\"dataframe\">\n",
       "  <thead>\n",
       "    <tr style=\"text-align: right;\">\n",
       "      <th></th>\n",
       "      <th>hospital</th>\n",
       "      <th>reviews_adj</th>\n",
       "    </tr>\n",
       "  </thead>\n",
       "  <tbody>\n",
       "    <tr>\n",
       "      <th>0</th>\n",
       "      <td>고운나라피부과의원</td>\n",
       "      <td>['두피/Noun', '가려움증/Noun', '으로/Josa', '내원한/Verb'...</td>\n",
       "    </tr>\n",
       "    <tr>\n",
       "      <th>1</th>\n",
       "      <td>고운나라피부과의원</td>\n",
       "      <td>', '알려주시고/Verb', '참/Verb', '친절하셨어요/</td>\n",
       "    </tr>\n",
       "    <tr>\n",
       "      <th>2</th>\n",
       "      <td>고운나라피부과의원</td>\n",
       "      <td>']</td>\n",
       "    </tr>\n",
       "    <tr>\n",
       "      <th>3</th>\n",
       "      <td>고운나라피부과의원</td>\n",
       "      <td>['대상포진/Noun', '으로/Josa', '진료/Noun', '받았어요/Verb...</td>\n",
       "    </tr>\n",
       "    <tr>\n",
       "      <th>4</th>\n",
       "      <td>고운나라피부과의원</td>\n",
       "      <td>', '통증/Noun', '이/Josa', '가라앉아도/Verb', '후유증/Nou...</td>\n",
       "    </tr>\n",
       "  </tbody>\n",
       "</table>\n",
       "</div>"
      ],
      "text/plain": [
       "    hospital                                        reviews_adj\n",
       "0  고운나라피부과의원  ['두피/Noun', '가려움증/Noun', '으로/Josa', '내원한/Verb'...\n",
       "1  고운나라피부과의원                ', '알려주시고/Verb', '참/Verb', '친절하셨어요/\n",
       "2  고운나라피부과의원                                                 ']\n",
       "3  고운나라피부과의원  ['대상포진/Noun', '으로/Josa', '진료/Noun', '받았어요/Verb...\n",
       "4  고운나라피부과의원  ', '통증/Noun', '이/Josa', '가라앉아도/Verb', '후유증/Nou..."
      ]
     },
     "execution_count": 28,
     "metadata": {},
     "output_type": "execute_result"
    }
   ],
   "source": [
    "reviews_adj.head()"
   ]
  },
  {
   "cell_type": "code",
   "execution_count": 31,
   "metadata": {},
   "outputs": [
    {
     "name": "stdout",
     "output_type": "stream",
     "text": [
      "(242373, 2)\n",
      "(228333, 2)\n"
     ]
    }
   ],
   "source": [
    "print(reviews_adj.shape)\n",
    "reviews_adj = reviews_adj.drop_duplicates()\n",
    "print(reviews_adj.shape)"
   ]
  },
  {
   "cell_type": "code",
   "execution_count": 32,
   "metadata": {},
   "outputs": [],
   "source": [
    "reviews_adj.to_excel('[0514]reviews_adj.xlsx')"
   ]
  },
  {
   "cell_type": "code",
   "execution_count": 3,
   "metadata": {},
   "outputs": [],
   "source": [
    "import pandas as pd"
   ]
  },
  {
   "cell_type": "code",
   "execution_count": 25,
   "metadata": {},
   "outputs": [],
   "source": [
    "reviews_adj = pd.read_excel(\"C:\\\\Users\\\\yukir\\\\Documents\\\\Monicas_workspace\\\\Derma\\\\[0514]reviews_adj.xlsx\")"
   ]
  },
  {
   "cell_type": "code",
   "execution_count": 26,
   "metadata": {},
   "outputs": [
    {
     "data": {
      "text/plain": [
       "(228333, 3)"
      ]
     },
     "execution_count": 26,
     "metadata": {},
     "output_type": "execute_result"
    }
   ],
   "source": [
    "reviews_adj.shape"
   ]
  },
  {
   "cell_type": "code",
   "execution_count": 28,
   "metadata": {},
   "outputs": [
    {
     "name": "stderr",
     "output_type": "stream",
     "text": [
      "228333it [04:11, 907.17it/s]\n"
     ]
    }
   ],
   "source": [
    "hospital_list_v3 = []\n",
    "adj_verb = []\n",
    "\n",
    "k=0\n",
    "for num, i in tqdm(enumerate(reviews_adj.reviews_adj.tolist())):\n",
    "    k+=1\n",
    "    try:\n",
    "        hos = reviews_adj.hospital.tolist()[num]\n",
    "        if 'Verb' in i:\n",
    "            i = i.split('Verb')\n",
    "            for ii in i:\n",
    "                adj_verb.append(ii)\n",
    "                hospital_list_v3.append(hos)\n",
    "        else:\n",
    "            adj_verb.append(i)\n",
    "            hospital_list_v3.append(hos)\n",
    "\n",
    "        # print(228333 - k)\n",
    "    except:\n",
    "        pass\n",
    "    # print(228333-k)"
   ]
  },
  {
   "cell_type": "code",
   "execution_count": 29,
   "metadata": {},
   "outputs": [],
   "source": [
    "reviews_adj_verb = pd.DataFrame({'hospital':hospital_list_v3, 'reviews_adj_verb':adj_verb})"
   ]
  },
  {
   "cell_type": "code",
   "execution_count": 30,
   "metadata": {},
   "outputs": [
    {
     "data": {
      "text/html": [
       "<div>\n",
       "<style scoped>\n",
       "    .dataframe tbody tr th:only-of-type {\n",
       "        vertical-align: middle;\n",
       "    }\n",
       "\n",
       "    .dataframe tbody tr th {\n",
       "        vertical-align: top;\n",
       "    }\n",
       "\n",
       "    .dataframe thead th {\n",
       "        text-align: right;\n",
       "    }\n",
       "</style>\n",
       "<table border=\"1\" class=\"dataframe\">\n",
       "  <thead>\n",
       "    <tr style=\"text-align: right;\">\n",
       "      <th></th>\n",
       "      <th>hospital</th>\n",
       "      <th>reviews_adj_verb</th>\n",
       "    </tr>\n",
       "  </thead>\n",
       "  <tbody>\n",
       "    <tr>\n",
       "      <th>0</th>\n",
       "      <td>고운나라피부과의원</td>\n",
       "      <td>['두피/Noun', '가려움증/Noun', '으로/Josa', '내원한/</td>\n",
       "    </tr>\n",
       "    <tr>\n",
       "      <th>1</th>\n",
       "      <td>고운나라피부과의원</td>\n",
       "      <td>', '병원/Noun', '인데/Josa', '진료/Noun', '끝나고/</td>\n",
       "    </tr>\n",
       "    <tr>\n",
       "      <th>2</th>\n",
       "      <td>고운나라피부과의원</td>\n",
       "      <td>', '두피/Noun', '현미경/Noun', '사진/Noun', '을/Josa',...</td>\n",
       "    </tr>\n",
       "    <tr>\n",
       "      <th>3</th>\n",
       "      <td>고운나라피부과의원</td>\n",
       "      <td>', '상담/Noun', '해주셨어요/</td>\n",
       "    </tr>\n",
       "    <tr>\n",
       "      <th>4</th>\n",
       "      <td>고운나라피부과의원</td>\n",
       "      <td>', '제/Noun', '두피/Noun', '에/Josa', '맞는/</td>\n",
       "    </tr>\n",
       "  </tbody>\n",
       "</table>\n",
       "</div>"
      ],
      "text/plain": [
       "    hospital                                   reviews_adj_verb\n",
       "0  고운나라피부과의원          ['두피/Noun', '가려움증/Noun', '으로/Josa', '내원한/\n",
       "1  고운나라피부과의원          ', '병원/Noun', '인데/Josa', '진료/Noun', '끝나고/\n",
       "2  고운나라피부과의원  ', '두피/Noun', '현미경/Noun', '사진/Noun', '을/Josa',...\n",
       "3  고운나라피부과의원                              ', '상담/Noun', '해주셨어요/\n",
       "4  고운나라피부과의원             ', '제/Noun', '두피/Noun', '에/Josa', '맞는/"
      ]
     },
     "execution_count": 30,
     "metadata": {},
     "output_type": "execute_result"
    }
   ],
   "source": [
    "reviews_adj_verb.head()"
   ]
  },
  {
   "cell_type": "code",
   "execution_count": 31,
   "metadata": {},
   "outputs": [],
   "source": [
    "reviews_adj_verb.to_csv('[0514]reviews_adj_verb.csv')"
   ]
  },
  {
   "cell_type": "code",
   "execution_count": 32,
   "metadata": {},
   "outputs": [],
   "source": [
    "reviews_adj_verb.to_excel('[0514]reviews_adj_verb.xlsx')"
   ]
  },
  {
   "cell_type": "code",
   "execution_count": 33,
   "metadata": {},
   "outputs": [
    {
     "name": "stdout",
     "output_type": "stream",
     "text": [
      "(552977, 2)\n",
      "(514845, 2)\n"
     ]
    }
   ],
   "source": [
    "print(reviews_adj_verb.shape)\n",
    "reviews_adj_verb = reviews_adj_verb.drop_duplicates()\n",
    "print(reviews_adj_verb.shape)"
   ]
  },
  {
   "cell_type": "code",
   "execution_count": 41,
   "metadata": {},
   "outputs": [
    {
     "data": {
      "text/html": [
       "<div>\n",
       "<style scoped>\n",
       "    .dataframe tbody tr th:only-of-type {\n",
       "        vertical-align: middle;\n",
       "    }\n",
       "\n",
       "    .dataframe tbody tr th {\n",
       "        vertical-align: top;\n",
       "    }\n",
       "\n",
       "    .dataframe thead th {\n",
       "        text-align: right;\n",
       "    }\n",
       "</style>\n",
       "<table border=\"1\" class=\"dataframe\">\n",
       "  <thead>\n",
       "    <tr style=\"text-align: right;\">\n",
       "      <th></th>\n",
       "      <th>Unnamed: 0</th>\n",
       "      <th>hospital</th>\n",
       "      <th>reviews_adj_verb</th>\n",
       "    </tr>\n",
       "  </thead>\n",
       "  <tbody>\n",
       "    <tr>\n",
       "      <th>0</th>\n",
       "      <td>0</td>\n",
       "      <td>고운나라피부과의원</td>\n",
       "      <td>['두피/Noun', '가려움증/Noun', '으로/Josa', '내원한/</td>\n",
       "    </tr>\n",
       "    <tr>\n",
       "      <th>1</th>\n",
       "      <td>1</td>\n",
       "      <td>고운나라피부과의원</td>\n",
       "      <td>', '병원/Noun', '인데/Josa', '진료/Noun', '끝나고/</td>\n",
       "    </tr>\n",
       "    <tr>\n",
       "      <th>2</th>\n",
       "      <td>2</td>\n",
       "      <td>고운나라피부과의원</td>\n",
       "      <td>', '두피/Noun', '현미경/Noun', '사진/Noun', '을/Josa',...</td>\n",
       "    </tr>\n",
       "    <tr>\n",
       "      <th>3</th>\n",
       "      <td>3</td>\n",
       "      <td>고운나라피부과의원</td>\n",
       "      <td>', '상담/Noun', '해주셨어요/</td>\n",
       "    </tr>\n",
       "    <tr>\n",
       "      <th>4</th>\n",
       "      <td>4</td>\n",
       "      <td>고운나라피부과의원</td>\n",
       "      <td>', '제/Noun', '두피/Noun', '에/Josa', '맞는/</td>\n",
       "    </tr>\n",
       "  </tbody>\n",
       "</table>\n",
       "</div>"
      ],
      "text/plain": [
       "   Unnamed: 0   hospital                                   reviews_adj_verb\n",
       "0           0  고운나라피부과의원          ['두피/Noun', '가려움증/Noun', '으로/Josa', '내원한/\n",
       "1           1  고운나라피부과의원          ', '병원/Noun', '인데/Josa', '진료/Noun', '끝나고/\n",
       "2           2  고운나라피부과의원  ', '두피/Noun', '현미경/Noun', '사진/Noun', '을/Josa',...\n",
       "3           3  고운나라피부과의원                              ', '상담/Noun', '해주셨어요/\n",
       "4           4  고운나라피부과의원             ', '제/Noun', '두피/Noun', '에/Josa', '맞는/"
      ]
     },
     "execution_count": 41,
     "metadata": {},
     "output_type": "execute_result"
    }
   ],
   "source": [
    "reviews_adj_verb = pd.read_excel('[0514]reviews_adj_verb.xlsx')\n",
    "reviews_adj_verb.head()"
   ]
  },
  {
   "cell_type": "code",
   "execution_count": 45,
   "metadata": {},
   "outputs": [
    {
     "data": {
      "text/html": [
       "<div>\n",
       "<style scoped>\n",
       "    .dataframe tbody tr th:only-of-type {\n",
       "        vertical-align: middle;\n",
       "    }\n",
       "\n",
       "    .dataframe tbody tr th {\n",
       "        vertical-align: top;\n",
       "    }\n",
       "\n",
       "    .dataframe thead th {\n",
       "        text-align: right;\n",
       "    }\n",
       "</style>\n",
       "<table border=\"1\" class=\"dataframe\">\n",
       "  <thead>\n",
       "    <tr style=\"text-align: right;\">\n",
       "      <th></th>\n",
       "      <th>Unnamed: 0</th>\n",
       "      <th>hospital</th>\n",
       "      <th>reviews_adj_verb</th>\n",
       "    </tr>\n",
       "  </thead>\n",
       "  <tbody>\n",
       "    <tr>\n",
       "      <th>0</th>\n",
       "      <td>0</td>\n",
       "      <td>고운나라피부과의원</td>\n",
       "      <td>두피 가려움증 으로 내원한</td>\n",
       "    </tr>\n",
       "    <tr>\n",
       "      <th>1</th>\n",
       "      <td>1</td>\n",
       "      <td>고운나라피부과의원</td>\n",
       "      <td>병원 인데 진료 끝나고</td>\n",
       "    </tr>\n",
       "    <tr>\n",
       "      <th>2</th>\n",
       "      <td>2</td>\n",
       "      <td>고운나라피부과의원</td>\n",
       "      <td>두피 현미경 사진 을 무료 로 찍어서</td>\n",
       "    </tr>\n",
       "    <tr>\n",
       "      <th>3</th>\n",
       "      <td>3</td>\n",
       "      <td>고운나라피부과의원</td>\n",
       "      <td>상담 해주셨어요</td>\n",
       "    </tr>\n",
       "    <tr>\n",
       "      <th>4</th>\n",
       "      <td>4</td>\n",
       "      <td>고운나라피부과의원</td>\n",
       "      <td>제 두피 에 맞는</td>\n",
       "    </tr>\n",
       "  </tbody>\n",
       "</table>\n",
       "</div>"
      ],
      "text/plain": [
       "   Unnamed: 0   hospital       reviews_adj_verb\n",
       "0           0  고운나라피부과의원         두피 가려움증 으로 내원한\n",
       "1           1  고운나라피부과의원           병원 인데 진료 끝나고\n",
       "2           2  고운나라피부과의원   두피 현미경 사진 을 무료 로 찍어서\n",
       "3           3  고운나라피부과의원               상담 해주셨어요\n",
       "4           4  고운나라피부과의원              제 두피 에 맞는"
      ]
     },
     "execution_count": 45,
     "metadata": {},
     "output_type": "execute_result"
    }
   ],
   "source": [
    "reviews_adj_verb.reviews_adj_verb = reviews_adj_verb.reviews_adj_verb.apply(clean_text)\n",
    "reviews_adj_verb.head()"
   ]
  },
  {
   "cell_type": "code",
   "execution_count": 43,
   "metadata": {},
   "outputs": [],
   "source": [
    "def clean_text(text): \n",
    "    \"\"\" 한글, 영문, 숫자만 남기고 제거한다. \n",
    "    :param text: \n",
    "    :return: \n",
    "    \"\"\" \n",
    "    text = text.replace(\".\", \" \").strip() \n",
    "    text = text.replace(\"·\", \" \").strip() \n",
    "    pattern = '[^ ㄱ-ㅣ가-힣|0-9|]+' \n",
    "    text = re.sub(pattern=pattern, repl='', string=text) \n",
    "    return text "
   ]
  },
  {
   "cell_type": "code",
   "execution_count": 50,
   "metadata": {},
   "outputs": [
    {
     "name": "stdout",
     "output_type": "stream",
     "text": [
      "(552977, 2)\n",
      "(514158, 2)\n",
      "(514158, 2)\n"
     ]
    }
   ],
   "source": [
    "reviews_adj_verb_cleaned = reviews_adj_verb[['hospital', 'reviews_adj_verb']]\n",
    "print(reviews_adj_verb_cleaned.shape)\n",
    "reviews_adj_verb_cleaned = reviews_adj_verb_cleaned.drop_duplicates()\n",
    "print(reviews_adj_verb_cleaned.shape)\n",
    "reviews_adj_verb_cleaned = reviews_adj_verb_cleaned.dropna()\n",
    "print(reviews_adj_verb_cleaned.shape)\n",
    "reviews_adj_verb_cleaned.to_excel('[0514]reviews_adj_verb_cleaned_v2.xlsx')"
   ]
  },
  {
   "cell_type": "code",
   "execution_count": 51,
   "metadata": {},
   "outputs": [],
   "source": [
    "def spell_check(x):\n",
    "    x = spell_checker.check(x)\n",
    "    x = x.checked\n",
    "    x = x.strip()\n",
    "    return x"
   ]
  },
  {
   "cell_type": "code",
   "execution_count": 47,
   "metadata": {},
   "outputs": [
    {
     "data": {
      "text/plain": [
       "(552977, 2)"
      ]
     },
     "execution_count": 47,
     "metadata": {},
     "output_type": "execute_result"
    }
   ],
   "source": [
    "reviews_adj_verb_cleaned.shape"
   ]
  },
  {
   "cell_type": "code",
   "execution_count": 53,
   "metadata": {},
   "outputs": [
    {
     "data": {
      "text/html": [
       "<div>\n",
       "<style scoped>\n",
       "    .dataframe tbody tr th:only-of-type {\n",
       "        vertical-align: middle;\n",
       "    }\n",
       "\n",
       "    .dataframe tbody tr th {\n",
       "        vertical-align: top;\n",
       "    }\n",
       "\n",
       "    .dataframe thead th {\n",
       "        text-align: right;\n",
       "    }\n",
       "</style>\n",
       "<table border=\"1\" class=\"dataframe\">\n",
       "  <thead>\n",
       "    <tr style=\"text-align: right;\">\n",
       "      <th></th>\n",
       "      <th>hospital</th>\n",
       "      <th>reviews_adj_verb</th>\n",
       "    </tr>\n",
       "  </thead>\n",
       "  <tbody>\n",
       "    <tr>\n",
       "      <th>0</th>\n",
       "      <td>고운나라피부과의원</td>\n",
       "      <td>두피 가려움증 으로 내원한</td>\n",
       "    </tr>\n",
       "    <tr>\n",
       "      <th>1</th>\n",
       "      <td>고운나라피부과의원</td>\n",
       "      <td>병원 인데 진료 끝나고</td>\n",
       "    </tr>\n",
       "    <tr>\n",
       "      <th>2</th>\n",
       "      <td>고운나라피부과의원</td>\n",
       "      <td>두피 현미경 사진 을 무료 로 찍어서</td>\n",
       "    </tr>\n",
       "    <tr>\n",
       "      <th>3</th>\n",
       "      <td>고운나라피부과의원</td>\n",
       "      <td>상담 해주셨어요</td>\n",
       "    </tr>\n",
       "    <tr>\n",
       "      <th>4</th>\n",
       "      <td>고운나라피부과의원</td>\n",
       "      <td>제 두피 에 맞는</td>\n",
       "    </tr>\n",
       "  </tbody>\n",
       "</table>\n",
       "</div>"
      ],
      "text/plain": [
       "    hospital       reviews_adj_verb\n",
       "0  고운나라피부과의원         두피 가려움증 으로 내원한\n",
       "1  고운나라피부과의원           병원 인데 진료 끝나고\n",
       "2  고운나라피부과의원   두피 현미경 사진 을 무료 로 찍어서\n",
       "3  고운나라피부과의원               상담 해주셨어요\n",
       "4  고운나라피부과의원              제 두피 에 맞는"
      ]
     },
     "execution_count": 53,
     "metadata": {},
     "output_type": "execute_result"
    }
   ],
   "source": [
    "reviews_adj_verb_cleaned.head()"
   ]
  },
  {
   "cell_type": "code",
   "execution_count": 57,
   "metadata": {},
   "outputs": [
    {
     "name": "stderr",
     "output_type": "stream",
     "text": [
      "514158it [3:29:12, 40.96it/s]\n"
     ]
    }
   ],
   "source": [
    "clean_reviews = []\n",
    "hospital_list_v4 = []\n",
    "\n",
    "for num, i in tqdm(enumerate(reviews_adj_verb_cleaned.reviews_adj_verb.tolist())):\n",
    "    hos = reviews_adj_verb_cleaned.hospital.tolist()[num]\n",
    "    try:\n",
    "        i = spell_check(i)\n",
    "        if len(i)>=1:\n",
    "            clean_reviews.append(i)\n",
    "            hospital_list_v4.append(hos)\n",
    "    except:\n",
    "        clean_reviews.append(i)\n",
    "        hospital_list_v4.append(hos)\n",
    "\n",
    "\n",
    "\n"
   ]
  },
  {
   "cell_type": "code",
   "execution_count": 58,
   "metadata": {},
   "outputs": [],
   "source": [
    "reviews_adj_verb_cleaned= pd.DataFrame({'hospital':hospital_list_v4, 'reviews_adj_verb':clean_reviews})"
   ]
  },
  {
   "cell_type": "code",
   "execution_count": 59,
   "metadata": {},
   "outputs": [],
   "source": [
    "reviews_adj_verb_cleaned.to_csv('[0514]reviews_adj_verb_cleaned.csv')"
   ]
  },
  {
   "cell_type": "code",
   "execution_count": 60,
   "metadata": {},
   "outputs": [],
   "source": [
    "reviews_adj_verb_cleaned.to_csv('[0514]reviews_adj_verb_cleaned.csv')"
   ]
  },
  {
   "cell_type": "code",
   "execution_count": 61,
   "metadata": {},
   "outputs": [],
   "source": [
    "reviews_adj_verb_cleaned.to_excel('[0514]reviews_adj_verb_cleaned.xlsx')"
   ]
  },
  {
   "cell_type": "code",
   "execution_count": 64,
   "metadata": {},
   "outputs": [],
   "source": [
    "reliability = labels(data_serv['keywords'][0])\n",
    "responsiveness = labels(data_serv['keywords'][1])\n",
    "assurance = labels(data_serv['keywords'][2])\n",
    "empathy = labels(data_serv['keywords'][3])\n",
    "tangible = labels(data_serv['keywords'][4])"
   ]
  },
  {
   "cell_type": "code",
   "execution_count": 65,
   "metadata": {},
   "outputs": [
    {
     "name": "stderr",
     "output_type": "stream",
     "text": [
      "511776it [20:35, 414.24it/s]\n"
     ]
    }
   ],
   "source": [
    "hospital_list_v5 = []\n",
    "class_index = []\n",
    "work_reviews=[]\n",
    "\n",
    "for num, i in tqdm(enumerate(reviews_adj_verb_cleaned.reviews_adj_verb.tolist())):\n",
    "    hos = reviews_adj_verb_cleaned.hospital.tolist()[num]\n",
    "    \n",
    "    try:\n",
    "        for con in reliability:\n",
    "            if con in i:\n",
    "                hospital_list_v5.append(hos)\n",
    "                work_reviews.append(i)\n",
    "                class_index.append(1)\n",
    "\n",
    "        for con in responsiveness:\n",
    "            if con in i:\n",
    "                hospital_list_v5.append(hos)\n",
    "                work_reviews.append(i)\n",
    "                class_index.append(2)\n",
    "\n",
    "        for con in assurance:\n",
    "            if con in i:\n",
    "                hospital_list_v5.append(hos)\n",
    "                work_reviews.append(i)\n",
    "                class_index.append(3)\n",
    "\n",
    "        for con in empathy:\n",
    "            if con in i:\n",
    "                hospital_list_v5.append(hos)\n",
    "                work_reviews.append(i)\n",
    "                class_index.append(4)\n",
    "\n",
    "        for con in tangible:\n",
    "            if con in i:\n",
    "                hospital_list_v5.append(hos)\n",
    "                work_reviews.append(i)\n",
    "                class_index.append(5)\n",
    "\n",
    "    except:\n",
    "        pass\n",
    "\n",
    "\n"
   ]
  },
  {
   "cell_type": "code",
   "execution_count": 66,
   "metadata": {},
   "outputs": [
    {
     "name": "stdout",
     "output_type": "stream",
     "text": [
      "(1363509, 3)\n",
      "(707281, 3)\n",
      "(707281, 3)\n"
     ]
    }
   ],
   "source": [
    "class_df = pd.DataFrame({'class_index':class_index, 'hospital':hospital_list_v5, 'reviews':work_reviews})\n",
    "print(class_df.shape)\n",
    "class_df = class_df.drop_duplicates()\n",
    "print(class_df.shape)\n",
    "class_df = class_df.dropna()\n",
    "print(class_df.shape)"
   ]
  },
  {
   "cell_type": "code",
   "execution_count": 67,
   "metadata": {},
   "outputs": [],
   "source": [
    "class_df.to_csv('[0514]class_df.csv')"
   ]
  },
  {
   "cell_type": "code",
   "execution_count": 68,
   "metadata": {},
   "outputs": [],
   "source": [
    "class_df.to_excel('[0514]class_df.xlsx')"
   ]
  },
  {
   "cell_type": "code",
   "execution_count": 69,
   "metadata": {},
   "outputs": [
    {
     "name": "stderr",
     "output_type": "stream",
     "text": [
      "511776it [20:27, 417.02it/s]\n"
     ]
    }
   ],
   "source": [
    "hospital_list_v5 = []\n",
    "class_index = []\n",
    "work_reviews=[]\n",
    "keywords = []\n",
    "\n",
    "for num, i in tqdm(enumerate(reviews_adj_verb_cleaned.reviews_adj_verb.tolist())):\n",
    "    hos = reviews_adj_verb_cleaned.hospital.tolist()[num]\n",
    "    \n",
    "    try:\n",
    "        for con in reliability:\n",
    "            if con in i:\n",
    "                hospital_list_v5.append(hos)\n",
    "                work_reviews.append(i)\n",
    "                class_index.append(1)\n",
    "                keywords.append(con)\n",
    "\n",
    "        for con in responsiveness:\n",
    "            if con in i:\n",
    "                hospital_list_v5.append(hos)\n",
    "                work_reviews.append(i)\n",
    "                class_index.append(2)\n",
    "                keywords.append(con)\n",
    "\n",
    "        for con in assurance:\n",
    "            if con in i:\n",
    "                hospital_list_v5.append(hos)\n",
    "                work_reviews.append(i)\n",
    "                class_index.append(3)\n",
    "                keywords.append(con)\n",
    "\n",
    "        for con in empathy:\n",
    "            if con in i:\n",
    "                hospital_list_v5.append(hos)\n",
    "                work_reviews.append(i)\n",
    "                class_index.append(4)\n",
    "                keywords.append(con)\n",
    "\n",
    "        for con in tangible:\n",
    "            if con in i:\n",
    "                hospital_list_v5.append(hos)\n",
    "                work_reviews.append(i)\n",
    "                class_index.append(5)\n",
    "                keywords.append(con)\n",
    "\n",
    "    except:\n",
    "        pass\n",
    "\n",
    "\n"
   ]
  },
  {
   "cell_type": "code",
   "execution_count": 71,
   "metadata": {},
   "outputs": [
    {
     "name": "stdout",
     "output_type": "stream",
     "text": [
      "(1363509, 4)\n",
      "(843651, 4)\n",
      "(843651, 4)\n"
     ]
    }
   ],
   "source": [
    "class_df_v2 = pd.DataFrame({'class_index':class_index, 'keywords':keywords,'hospital':hospital_list_v5, 'reviews':work_reviews})\n",
    "print(class_df_v2.shape)\n",
    "class_df_v2 = class_df_v2.drop_duplicates()\n",
    "print(class_df_v2.shape)\n",
    "class_df_v2 = class_df_v2.dropna()\n",
    "print(class_df_v2.shape)"
   ]
  },
  {
   "cell_type": "code",
   "execution_count": 72,
   "metadata": {},
   "outputs": [
    {
     "data": {
      "text/html": [
       "<div>\n",
       "<style scoped>\n",
       "    .dataframe tbody tr th:only-of-type {\n",
       "        vertical-align: middle;\n",
       "    }\n",
       "\n",
       "    .dataframe tbody tr th {\n",
       "        vertical-align: top;\n",
       "    }\n",
       "\n",
       "    .dataframe thead th {\n",
       "        text-align: right;\n",
       "    }\n",
       "</style>\n",
       "<table border=\"1\" class=\"dataframe\">\n",
       "  <thead>\n",
       "    <tr style=\"text-align: right;\">\n",
       "      <th></th>\n",
       "      <th>class_index</th>\n",
       "      <th>keywords</th>\n",
       "      <th>hospital</th>\n",
       "      <th>reviews</th>\n",
       "    </tr>\n",
       "  </thead>\n",
       "  <tbody>\n",
       "    <tr>\n",
       "      <th>0</th>\n",
       "      <td>3</td>\n",
       "      <td></td>\n",
       "      <td>고운나라피부과의원</td>\n",
       "      <td>두피 가려움증으로 내원한</td>\n",
       "    </tr>\n",
       "    <tr>\n",
       "      <th>2</th>\n",
       "      <td>1</td>\n",
       "      <td>진료</td>\n",
       "      <td>고운나라피부과의원</td>\n",
       "      <td>병원인데 진료 끝나고</td>\n",
       "    </tr>\n",
       "    <tr>\n",
       "      <th>3</th>\n",
       "      <td>3</td>\n",
       "      <td></td>\n",
       "      <td>고운나라피부과의원</td>\n",
       "      <td>병원인데 진료 끝나고</td>\n",
       "    </tr>\n",
       "    <tr>\n",
       "      <th>5</th>\n",
       "      <td>5</td>\n",
       "      <td>병원</td>\n",
       "      <td>고운나라피부과의원</td>\n",
       "      <td>병원인데 진료 끝나고</td>\n",
       "    </tr>\n",
       "    <tr>\n",
       "      <th>6</th>\n",
       "      <td>1</td>\n",
       "      <td>무료</td>\n",
       "      <td>고운나라피부과의원</td>\n",
       "      <td>두피 현미경 사진을 무료로 찍어서</td>\n",
       "    </tr>\n",
       "  </tbody>\n",
       "</table>\n",
       "</div>"
      ],
      "text/plain": [
       "   class_index keywords   hospital             reviews\n",
       "0            3           고운나라피부과의원       두피 가려움증으로 내원한\n",
       "2            1       진료  고운나라피부과의원         병원인데 진료 끝나고\n",
       "3            3           고운나라피부과의원         병원인데 진료 끝나고\n",
       "5            5       병원  고운나라피부과의원         병원인데 진료 끝나고\n",
       "6            1       무료  고운나라피부과의원  두피 현미경 사진을 무료로 찍어서"
      ]
     },
     "execution_count": 72,
     "metadata": {},
     "output_type": "execute_result"
    }
   ],
   "source": [
    "class_df_v2.head()"
   ]
  },
  {
   "cell_type": "code",
   "execution_count": 74,
   "metadata": {},
   "outputs": [],
   "source": [
    "class_df_v2.to_excel('[0514]class_df_v2.xlsx')"
   ]
  },
  {
   "cell_type": "code",
   "execution_count": 76,
   "metadata": {},
   "outputs": [
    {
     "name": "stdout",
     "output_type": "stream",
     "text": [
      "(843651, 4)\n",
      "(332618, 4)\n",
      "(332618, 4)\n"
     ]
    },
    {
     "data": {
      "text/html": [
       "<div>\n",
       "<style scoped>\n",
       "    .dataframe tbody tr th:only-of-type {\n",
       "        vertical-align: middle;\n",
       "    }\n",
       "\n",
       "    .dataframe tbody tr th {\n",
       "        vertical-align: top;\n",
       "    }\n",
       "\n",
       "    .dataframe thead th {\n",
       "        text-align: right;\n",
       "    }\n",
       "</style>\n",
       "<table border=\"1\" class=\"dataframe\">\n",
       "  <thead>\n",
       "    <tr style=\"text-align: right;\">\n",
       "      <th></th>\n",
       "      <th>class_index</th>\n",
       "      <th>keywords</th>\n",
       "      <th>hospital</th>\n",
       "      <th>reviews</th>\n",
       "    </tr>\n",
       "  </thead>\n",
       "  <tbody>\n",
       "    <tr>\n",
       "      <th>2</th>\n",
       "      <td>1</td>\n",
       "      <td>진료</td>\n",
       "      <td>고운나라피부과의원</td>\n",
       "      <td>병원인데 진료 끝나고</td>\n",
       "    </tr>\n",
       "    <tr>\n",
       "      <th>5</th>\n",
       "      <td>5</td>\n",
       "      <td>병원</td>\n",
       "      <td>고운나라피부과의원</td>\n",
       "      <td>병원인데 진료 끝나고</td>\n",
       "    </tr>\n",
       "    <tr>\n",
       "      <th>6</th>\n",
       "      <td>1</td>\n",
       "      <td>무료</td>\n",
       "      <td>고운나라피부과의원</td>\n",
       "      <td>두피 현미경 사진을 무료로 찍어서</td>\n",
       "    </tr>\n",
       "    <tr>\n",
       "      <th>11</th>\n",
       "      <td>4</td>\n",
       "      <td>상담</td>\n",
       "      <td>고운나라피부과의원</td>\n",
       "      <td>상담해주셨어요</td>\n",
       "    </tr>\n",
       "    <tr>\n",
       "      <th>27</th>\n",
       "      <td>3</td>\n",
       "      <td>친절</td>\n",
       "      <td>고운나라피부과의원</td>\n",
       "      <td>친절하셨어요</td>\n",
       "    </tr>\n",
       "  </tbody>\n",
       "</table>\n",
       "</div>"
      ],
      "text/plain": [
       "    class_index keywords   hospital             reviews\n",
       "2             1       진료  고운나라피부과의원         병원인데 진료 끝나고\n",
       "5             5       병원  고운나라피부과의원         병원인데 진료 끝나고\n",
       "6             1       무료  고운나라피부과의원  두피 현미경 사진을 무료로 찍어서\n",
       "11            4       상담  고운나라피부과의원             상담해주셨어요\n",
       "27            3       친절  고운나라피부과의원              친절하셨어요"
      ]
     },
     "execution_count": 76,
     "metadata": {},
     "output_type": "execute_result"
    }
   ],
   "source": [
    "print(class_df_v2.shape)\n",
    "class_df_v2['keywords'] = class_df_v2['keywords'].replace('','모지')\n",
    "class_df_v2 = class_df_v2[class_df_v2['keywords']!='모지']\n",
    "print(class_df_v2.shape)\n",
    "class_df_v2 = class_df_v2.drop_duplicates()\n",
    "print(class_df_v2.shape)\n",
    "class_df_v2.head()"
   ]
  },
  {
   "cell_type": "code",
   "execution_count": 77,
   "metadata": {},
   "outputs": [],
   "source": [
    "class_df_v2.to_excel('[0514]class_df_v3.xlsx')"
   ]
  },
  {
   "cell_type": "code",
   "execution_count": null,
   "metadata": {},
   "outputs": [],
   "source": []
  }
 ],
 "metadata": {
  "interpreter": {
   "hash": "b131aa79fbb012ccd5fe9686ca8fc5b84b44b90404dbf3b7f41759e12b8001b3"
  },
  "kernelspec": {
   "display_name": "Python 3.8.11 ('NLP')",
   "language": "python",
   "name": "python3"
  },
  "language_info": {
   "codemirror_mode": {
    "name": "ipython",
    "version": 3
   },
   "file_extension": ".py",
   "mimetype": "text/x-python",
   "name": "python",
   "nbconvert_exporter": "python",
   "pygments_lexer": "ipython3",
   "version": "3.8.11"
  },
  "orig_nbformat": 4
 },
 "nbformat": 4,
 "nbformat_minor": 2
}
