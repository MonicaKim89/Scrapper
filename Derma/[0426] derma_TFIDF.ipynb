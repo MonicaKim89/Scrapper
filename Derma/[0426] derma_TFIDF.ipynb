{
 "cells": [
  {
   "cell_type": "code",
   "execution_count": 1,
   "metadata": {},
   "outputs": [
    {
     "name": "stdout",
     "output_type": "stream",
     "text": [
      "C:\\Users\\yukir\\Documents\\GitHub\\Text_Mining\\py\n",
      "True\n",
      "[name: \"/device:CPU:0\"\n",
      "device_type: \"CPU\"\n",
      "memory_limit: 268435456\n",
      "locality {\n",
      "}\n",
      "incarnation: 3036186368008501389\n",
      "]\n",
      "tf 2.5.3\n",
      "set_global_determinism(seed=1337) 이거 꼭 해라\n",
      "set_global_determinism(seed=1337) 이거 꼭 해라\n",
      "set_global_determinism(seed=1337) 이거 꼭 해라\n"
     ]
    },
    {
     "name": "stderr",
     "output_type": "stream",
     "text": [
      "C:\\Users\\yukir\\anaconda3\\envs\\NLP\\lib\\site-packages\\scipy\\io\\matlab\\mio5.py:98: DeprecationWarning: `np.bool` is a deprecated alias for the builtin `bool`. To silence this warning, use `bool` by itself. Doing this will not modify any behavior and is safe. If you specifically wanted the numpy scalar type, use `np.bool_` here.\n",
      "Deprecated in NumPy 1.20; for more details and guidance: https://numpy.org/devdocs/release/1.20.0-notes.html#deprecations\n",
      "  from .mio5_utils import VarReader5\n"
     ]
    },
    {
     "name": "stdout",
     "output_type": "stream",
     "text": [
      "C:\\Users\\yukir\\Documents\\Monicas_workspace\\Korea_medicine\\LDA\n"
     ]
    }
   ],
   "source": [
    "%cd C:\\Users\\yukir\\Documents\\GitHub\\Text_Mining\\py\n",
    "\n",
    "from nlp_processing import *\n",
    "set_global_determinism(seed=1337)\n",
    "\n",
    "%cd C:\\Users\\yukir\\Documents\\Monicas_workspace\\Korea_medicine\\LDA"
   ]
  },
  {
   "cell_type": "code",
   "execution_count": 2,
   "metadata": {},
   "outputs": [],
   "source": [
    "import openpyxl\n",
    "from nltk.corpus import stopwords\n",
    "from nltk.stem.porter import PorterStemmer\n",
    "from nltk.tokenize import RegexpTokenizer\n",
    "from gensim import corpora, models\n",
    "from gensim.models import CoherenceModel\n",
    "import gensim\n",
    "import matplotlib.pyplot as plt\n",
    "\n",
    "from gensim.models.ldamodel import LdaModel \n",
    "from gensim.models.callbacks import CoherenceMetric \n",
    "from gensim import corpora \n",
    "from gensim.models.callbacks import PerplexityMetric \n",
    "import logging \n",
    "import pickle \n",
    "import pyLDAvis\n",
    "\n",
    "from gensim.models.coherencemodel import CoherenceModel \n",
    "import matplotlib.pyplot as plt\n",
    "\n",
    "import pyLDAvis.gensim\n",
    "pyLDAvis.enable_notebook()\n",
    "\n",
    "from konlpy.tag import Mecab \n",
    "from konlpy.tag import Okt\n",
    "okt = Okt()\n",
    "from tqdm import tqdm \n",
    "import re \n",
    "import pickle \n",
    "import csv"
   ]
  },
  {
   "cell_type": "markdown",
   "metadata": {},
   "source": [
    "### 띄어쓰기"
   ]
  },
  {
   "cell_type": "code",
   "execution_count": 50,
   "metadata": {},
   "outputs": [
    {
     "name": "stdout",
     "output_type": "stream",
     "text": [
      "C:\\Users\\yukir\\Documents\\Monicas_workspace\\Derma\n"
     ]
    }
   ],
   "source": [
    "%cd C:\\Users\\yukir\\Documents\\Monicas_workspace\\Derma"
   ]
  },
  {
   "cell_type": "code",
   "execution_count": 51,
   "metadata": {},
   "outputs": [
    {
     "data": {
      "text/html": [
       "<div>\n",
       "<style scoped>\n",
       "    .dataframe tbody tr th:only-of-type {\n",
       "        vertical-align: middle;\n",
       "    }\n",
       "\n",
       "    .dataframe tbody tr th {\n",
       "        vertical-align: top;\n",
       "    }\n",
       "\n",
       "    .dataframe thead th {\n",
       "        text-align: right;\n",
       "    }\n",
       "</style>\n",
       "<table border=\"1\" class=\"dataframe\">\n",
       "  <thead>\n",
       "    <tr style=\"text-align: right;\">\n",
       "      <th></th>\n",
       "      <th>h</th>\n",
       "      <th>reviews</th>\n",
       "      <th>stars</th>\n",
       "      <th>review_date</th>\n",
       "      <th>do</th>\n",
       "      <th>si</th>\n",
       "      <th>ro</th>\n",
       "    </tr>\n",
       "  </thead>\n",
       "  <tbody>\n",
       "    <tr>\n",
       "      <th>0</th>\n",
       "      <td>고운나라피부과의원</td>\n",
       "      <td>두피가려움증으로 내원한 병원인데 진료 끝나고 두피 현미경사진을 무료로 찍어서 상담해...</td>\n",
       "      <td>9.3</td>\n",
       "      <td>3월 15일, 2022년</td>\n",
       "      <td>경남</td>\n",
       "      <td>김해시</td>\n",
       "      <td>내외중앙로</td>\n",
       "    </tr>\n",
       "    <tr>\n",
       "      <th>1</th>\n",
       "      <td>고운나라피부과의원</td>\n",
       "      <td>대상포진으로 진료 받았어요 . 2주 이상 치료 받고 약 먹고 주사 맞으니까 진통이 ...</td>\n",
       "      <td>10</td>\n",
       "      <td>12월 20일, 2021년</td>\n",
       "      <td>경남</td>\n",
       "      <td>김해시</td>\n",
       "      <td>내외중앙로</td>\n",
       "    </tr>\n",
       "    <tr>\n",
       "      <th>2</th>\n",
       "      <td>고운나라피부과의원</td>\n",
       "      <td>여드름 고민이 있어서 방문했습니다피부 전문의라서 증상이 나타난 이유에 대해서 설명을...</td>\n",
       "      <td>10</td>\n",
       "      <td>8월 11일, 2021년</td>\n",
       "      <td>경남</td>\n",
       "      <td>김해시</td>\n",
       "      <td>내외중앙로</td>\n",
       "    </tr>\n",
       "    <tr>\n",
       "      <th>3</th>\n",
       "      <td>고운나라피부과의원</td>\n",
       "      <td>문신제거문신한곳 일부분만 지우고 싶어서 여러 군데 알아보고 갔어요 워낙 가격이 천차...</td>\n",
       "      <td>10</td>\n",
       "      <td>6월 21일, 2021년</td>\n",
       "      <td>경남</td>\n",
       "      <td>김해시</td>\n",
       "      <td>내외중앙로</td>\n",
       "    </tr>\n",
       "    <tr>\n",
       "      <th>4</th>\n",
       "      <td>고운나라피부과의원</td>\n",
       "      <td>원장님이 설명도 잘해주시고 병원도 엄청크고~(김해에서 유명한곳은 이유가있네요)!! ...</td>\n",
       "      <td>9.5</td>\n",
       "      <td>6월 7일, 2021년</td>\n",
       "      <td>경남</td>\n",
       "      <td>김해시</td>\n",
       "      <td>내외중앙로</td>\n",
       "    </tr>\n",
       "  </tbody>\n",
       "</table>\n",
       "</div>"
      ],
      "text/plain": [
       "           h                                            reviews stars  \\\n",
       "0  고운나라피부과의원  두피가려움증으로 내원한 병원인데 진료 끝나고 두피 현미경사진을 무료로 찍어서 상담해...   9.3   \n",
       "1  고운나라피부과의원  대상포진으로 진료 받았어요 . 2주 이상 치료 받고 약 먹고 주사 맞으니까 진통이 ...    10   \n",
       "2  고운나라피부과의원  여드름 고민이 있어서 방문했습니다피부 전문의라서 증상이 나타난 이유에 대해서 설명을...    10   \n",
       "3  고운나라피부과의원  문신제거문신한곳 일부분만 지우고 싶어서 여러 군데 알아보고 갔어요 워낙 가격이 천차...    10   \n",
       "4  고운나라피부과의원  원장님이 설명도 잘해주시고 병원도 엄청크고~(김해에서 유명한곳은 이유가있네요)!! ...   9.5   \n",
       "\n",
       "       review_date  do   si     ro  \n",
       "0   3월 15일, 2022년   경남  김해시  내외중앙로  \n",
       "1  12월 20일, 2021년   경남  김해시  내외중앙로  \n",
       "2   8월 11일, 2021년   경남  김해시  내외중앙로  \n",
       "3   6월 21일, 2021년   경남  김해시  내외중앙로  \n",
       "4    6월 7일, 2021년   경남  김해시  내외중앙로  "
      ]
     },
     "execution_count": 51,
     "metadata": {},
     "output_type": "execute_result"
    }
   ],
   "source": [
    "reviews_df = pd.read_excel(\"C:\\\\Users\\\\yukir\\\\Documents\\\\Monicas_workspace\\\\Derma\\\\[0426]derma_data_touse.xlsx\", index_col=0)\n",
    "reviews_df.head()\n"
   ]
  },
  {
   "cell_type": "code",
   "execution_count": 52,
   "metadata": {},
   "outputs": [
    {
     "data": {
      "text/plain": [
       "(39216, 7)"
      ]
     },
     "execution_count": 52,
     "metadata": {},
     "output_type": "execute_result"
    }
   ],
   "source": [
    "reviews_df.shape"
   ]
  },
  {
   "cell_type": "code",
   "execution_count": 53,
   "metadata": {},
   "outputs": [
    {
     "name": "stdout",
     "output_type": "stream",
     "text": [
      "(39216, 7)\n"
     ]
    }
   ],
   "source": [
    "data = reviews_df.copy()\n",
    "# data = data[20000:]\n",
    "print(data.shape)"
   ]
  },
  {
   "cell_type": "code",
   "execution_count": null,
   "metadata": {},
   "outputs": [],
   "source": []
  },
  {
   "cell_type": "code",
   "execution_count": 14,
   "metadata": {},
   "outputs": [],
   "source": [
    "def clean_text(text): \n",
    "    \"\"\" 한글, 영문, 숫자만 남기고 제거한다. \n",
    "    :param text: \n",
    "    :return: \n",
    "    \"\"\" \n",
    "    text = text.replace(\".\", \" \").strip() \n",
    "    text = text.replace(\"·\", \" \").strip() \n",
    "    pattern = '[^ ㄱ-ㅣ가-힣|0-9|a-zA-Z]+' \n",
    "    text = re.sub(pattern=pattern, repl='', string=text) \n",
    "    return text "
   ]
  },
  {
   "cell_type": "code",
   "execution_count": 13,
   "metadata": {},
   "outputs": [],
   "source": [
    "def stemming (text):\n",
    "    morphs_list = []\n",
    "    one_words = []\n",
    "    result = []\n",
    "\n",
    "    pos = okt.pos(text, join = True)\n",
    "    # print(pos)\n",
    "    for j in pos:\n",
    "        if j.split('/')[1] == 'Noun':\n",
    "            j = j.split('/')[0]\n",
    "            morphs_list.append(j)\n",
    "                    \n",
    "        elif j.split('/')[1] =='Adjective':\n",
    "            k = okt.morphs(j,  stem= True)\n",
    "            k = k[0]\n",
    "            morphs_list.append(k)\n",
    "        elif j.split('/')[1] =='Verb':\n",
    "            v = okt.morphs(j,  stem= True)\n",
    "            v = v[0]\n",
    "            morphs_list.append(v)\n",
    "\n",
    "    for i in morphs_list:\n",
    "        if len(i) != 1:\n",
    "            one_words.append(i)\n",
    "    \n",
    "\n",
    "    for i in one_words:\n",
    "        if i not in stopwords:\n",
    "            result.append(i)\n",
    "\n",
    "    return result"
   ]
  },
  {
   "cell_type": "code",
   "execution_count": 12,
   "metadata": {},
   "outputs": [],
   "source": [
    "def clean_text(text): \n",
    "    \"\"\" 한글, 영문, 숫자만 남기고 제거한다. \n",
    "    :param text: \n",
    "    :return: \n",
    "    \"\"\" \n",
    "    text = text.replace(\".\", \" \").strip() \n",
    "    text = text.replace(\"·\", \" \").strip() \n",
    "    pattern = '[^ ㄱ-ㅣ가-힣|0-9|a-zA-Z]+' \n",
    "    text = re.sub(pattern=pattern, repl='', string=text) \n",
    "    return text \n",
    "    \n",
    "def get_nouns(tokenizer, sentence): \n",
    "    \"\"\" 단어의 길이가 2이상인 일반명사(NNG),\n",
    "     고유명사(NNP), 외국어(SL)만을 반환한다. \n",
    "     :param tokenizer: \n",
    "     :param sentence: :return: \"\"\" \n",
    "    tagged = tokenizer.nouns(sentence)\n",
    "    nouns = [s for s in tagged if len(s)>1] \n",
    "     \n",
    "    return nouns \n",
    "     \n",
    "     \n",
    "def tokenize(df): \n",
    "    tokenizer = okt\n",
    "    processed_data = [] \n",
    "    for sent in tqdm(df['cleaned_reviews']):\n",
    "        sentence = clean_text(sent.replace('\\n', '').strip()) \n",
    "        processed_data.append(get_nouns(tokenizer, sentence)) \n",
    "        \n",
    "    return processed_data\n",
    "    \n",
    "    \n",
    "def save_processed_data(processed_data): \n",
    "    \"\"\" 토큰 분리한 데이터를 csv로 저장 :param processed_data: :return: \"\"\" \n",
    "    \n",
    "    with open('lsa_token_pos.csv', 'w', newline='', encoding='utf-8') as f: \n",
    "        writer = csv.writer(f) \n",
    "        for data in processed_data:\n",
    "             writer.writerow(data)"
   ]
  },
  {
   "cell_type": "code",
   "execution_count": 56,
   "metadata": {},
   "outputs": [],
   "source": [
    "review_list = data.reviews.tolist()"
   ]
  },
  {
   "cell_type": "code",
   "execution_count": 57,
   "metadata": {},
   "outputs": [],
   "source": [
    "from hanspell import spell_checker"
   ]
  },
  {
   "cell_type": "code",
   "execution_count": 58,
   "metadata": {},
   "outputs": [],
   "source": [
    "from tqdm import tqdm"
   ]
  },
  {
   "cell_type": "code",
   "execution_count": 59,
   "metadata": {},
   "outputs": [
    {
     "name": "stderr",
     "output_type": "stream",
     "text": [
      "100%|██████████| 39216/39216 [4:09:03<00:00,  2.62it/s]   \n"
     ]
    }
   ],
   "source": [
    "cleaned_reviews= []\n",
    "\n",
    "for i in tqdm (review_list):\n",
    "    try: \n",
    "        i = i.replace(' ','')\n",
    "        i = i.replace('ㆍ','')\n",
    "        i = clean_text(i)\n",
    "        i = i.replace('(', ' ')\n",
    "        i = i.replace(')',' ')\n",
    "        i = spell_checker.check(i)\n",
    "        i = i.checked\n",
    "        cleaned_reviews.append(i)\n",
    "    except:\n",
    "        cleaned_reviews.append('에러')\n",
    "    # print(i)"
   ]
  },
  {
   "cell_type": "code",
   "execution_count": 60,
   "metadata": {},
   "outputs": [
    {
     "data": {
      "text/html": [
       "<div>\n",
       "<style scoped>\n",
       "    .dataframe tbody tr th:only-of-type {\n",
       "        vertical-align: middle;\n",
       "    }\n",
       "\n",
       "    .dataframe tbody tr th {\n",
       "        vertical-align: top;\n",
       "    }\n",
       "\n",
       "    .dataframe thead th {\n",
       "        text-align: right;\n",
       "    }\n",
       "</style>\n",
       "<table border=\"1\" class=\"dataframe\">\n",
       "  <thead>\n",
       "    <tr style=\"text-align: right;\">\n",
       "      <th></th>\n",
       "      <th>h</th>\n",
       "      <th>reviews</th>\n",
       "      <th>stars</th>\n",
       "      <th>review_date</th>\n",
       "      <th>do</th>\n",
       "      <th>si</th>\n",
       "      <th>ro</th>\n",
       "    </tr>\n",
       "  </thead>\n",
       "  <tbody>\n",
       "    <tr>\n",
       "      <th>0</th>\n",
       "      <td>고운나라피부과의원</td>\n",
       "      <td>두피가려움증으로 내원한 병원인데 진료 끝나고 두피 현미경사진을 무료로 찍어서 상담해...</td>\n",
       "      <td>9.3</td>\n",
       "      <td>3월 15일, 2022년</td>\n",
       "      <td>경남</td>\n",
       "      <td>김해시</td>\n",
       "      <td>내외중앙로</td>\n",
       "    </tr>\n",
       "    <tr>\n",
       "      <th>1</th>\n",
       "      <td>고운나라피부과의원</td>\n",
       "      <td>대상포진으로 진료 받았어요 . 2주 이상 치료 받고 약 먹고 주사 맞으니까 진통이 ...</td>\n",
       "      <td>10</td>\n",
       "      <td>12월 20일, 2021년</td>\n",
       "      <td>경남</td>\n",
       "      <td>김해시</td>\n",
       "      <td>내외중앙로</td>\n",
       "    </tr>\n",
       "    <tr>\n",
       "      <th>2</th>\n",
       "      <td>고운나라피부과의원</td>\n",
       "      <td>여드름 고민이 있어서 방문했습니다피부 전문의라서 증상이 나타난 이유에 대해서 설명을...</td>\n",
       "      <td>10</td>\n",
       "      <td>8월 11일, 2021년</td>\n",
       "      <td>경남</td>\n",
       "      <td>김해시</td>\n",
       "      <td>내외중앙로</td>\n",
       "    </tr>\n",
       "    <tr>\n",
       "      <th>3</th>\n",
       "      <td>고운나라피부과의원</td>\n",
       "      <td>문신제거문신한곳 일부분만 지우고 싶어서 여러 군데 알아보고 갔어요 워낙 가격이 천차...</td>\n",
       "      <td>10</td>\n",
       "      <td>6월 21일, 2021년</td>\n",
       "      <td>경남</td>\n",
       "      <td>김해시</td>\n",
       "      <td>내외중앙로</td>\n",
       "    </tr>\n",
       "    <tr>\n",
       "      <th>4</th>\n",
       "      <td>고운나라피부과의원</td>\n",
       "      <td>원장님이 설명도 잘해주시고 병원도 엄청크고~(김해에서 유명한곳은 이유가있네요)!! ...</td>\n",
       "      <td>9.5</td>\n",
       "      <td>6월 7일, 2021년</td>\n",
       "      <td>경남</td>\n",
       "      <td>김해시</td>\n",
       "      <td>내외중앙로</td>\n",
       "    </tr>\n",
       "  </tbody>\n",
       "</table>\n",
       "</div>"
      ],
      "text/plain": [
       "           h                                            reviews stars  \\\n",
       "0  고운나라피부과의원  두피가려움증으로 내원한 병원인데 진료 끝나고 두피 현미경사진을 무료로 찍어서 상담해...   9.3   \n",
       "1  고운나라피부과의원  대상포진으로 진료 받았어요 . 2주 이상 치료 받고 약 먹고 주사 맞으니까 진통이 ...    10   \n",
       "2  고운나라피부과의원  여드름 고민이 있어서 방문했습니다피부 전문의라서 증상이 나타난 이유에 대해서 설명을...    10   \n",
       "3  고운나라피부과의원  문신제거문신한곳 일부분만 지우고 싶어서 여러 군데 알아보고 갔어요 워낙 가격이 천차...    10   \n",
       "4  고운나라피부과의원  원장님이 설명도 잘해주시고 병원도 엄청크고~(김해에서 유명한곳은 이유가있네요)!! ...   9.5   \n",
       "\n",
       "       review_date  do   si     ro  \n",
       "0   3월 15일, 2022년   경남  김해시  내외중앙로  \n",
       "1  12월 20일, 2021년   경남  김해시  내외중앙로  \n",
       "2   8월 11일, 2021년   경남  김해시  내외중앙로  \n",
       "3   6월 21일, 2021년   경남  김해시  내외중앙로  \n",
       "4    6월 7일, 2021년   경남  김해시  내외중앙로  "
      ]
     },
     "execution_count": 60,
     "metadata": {},
     "output_type": "execute_result"
    }
   ],
   "source": [
    "data.head()"
   ]
  },
  {
   "cell_type": "code",
   "execution_count": 61,
   "metadata": {},
   "outputs": [],
   "source": [
    "data['cleaned_reviews'] = cleaned_reviews"
   ]
  },
  {
   "cell_type": "markdown",
   "metadata": {},
   "source": [
    "### cleansing"
   ]
  },
  {
   "cell_type": "code",
   "execution_count": 62,
   "metadata": {},
   "outputs": [
    {
     "name": "stdout",
     "output_type": "stream",
     "text": [
      "C:\\Users\\yukir\\Documents\\Monicas_workspace\\Derma\n"
     ]
    }
   ],
   "source": [
    "%cd C:\\Users\\yukir\\Documents\\Monicas_workspace\\Derma"
   ]
  },
  {
   "cell_type": "code",
   "execution_count": 63,
   "metadata": {},
   "outputs": [],
   "source": [
    "from tqdm import tqdm"
   ]
  },
  {
   "cell_type": "code",
   "execution_count": 64,
   "metadata": {},
   "outputs": [
    {
     "name": "stderr",
     "output_type": "stream",
     "text": [
      "100%|██████████| 39216/39216 [00:00<00:00, 1452382.99it/s]\n"
     ]
    }
   ],
   "source": [
    "data_  =[]\n",
    "\n",
    "for i in tqdm (data['cleaned_reviews'].tolist()):\n",
    "    try: \n",
    "        if ' 한 줄 평 ' in i:\n",
    "            i = i.replace(' 한 줄 평','')\n",
    "            data_.append(i)\n",
    "        else:\n",
    "            data_.append(i)\n",
    "    except:\n",
    "        data_.append('리뷰없음')\n",
    "            "
   ]
  },
  {
   "cell_type": "code",
   "execution_count": 65,
   "metadata": {},
   "outputs": [
    {
     "data": {
      "text/html": [
       "<div>\n",
       "<style scoped>\n",
       "    .dataframe tbody tr th:only-of-type {\n",
       "        vertical-align: middle;\n",
       "    }\n",
       "\n",
       "    .dataframe tbody tr th {\n",
       "        vertical-align: top;\n",
       "    }\n",
       "\n",
       "    .dataframe thead th {\n",
       "        text-align: right;\n",
       "    }\n",
       "</style>\n",
       "<table border=\"1\" class=\"dataframe\">\n",
       "  <thead>\n",
       "    <tr style=\"text-align: right;\">\n",
       "      <th></th>\n",
       "      <th>h</th>\n",
       "      <th>reviews</th>\n",
       "      <th>stars</th>\n",
       "      <th>review_date</th>\n",
       "      <th>do</th>\n",
       "      <th>si</th>\n",
       "      <th>ro</th>\n",
       "      <th>cleaned_reviews</th>\n",
       "    </tr>\n",
       "  </thead>\n",
       "  <tbody>\n",
       "    <tr>\n",
       "      <th>0</th>\n",
       "      <td>고운나라피부과의원</td>\n",
       "      <td>두피가려움증으로 내원한 병원인데 진료 끝나고 두피 현미경사진을 무료로 찍어서 상담해...</td>\n",
       "      <td>9.3</td>\n",
       "      <td>3월 15일, 2022년</td>\n",
       "      <td>경남</td>\n",
       "      <td>김해시</td>\n",
       "      <td>내외중앙로</td>\n",
       "      <td>두피 가려움증으로 내원한 병원인데 진료 끝나고 두피 현미경사진을 무료로 찍어서 상담...</td>\n",
       "    </tr>\n",
       "    <tr>\n",
       "      <th>1</th>\n",
       "      <td>고운나라피부과의원</td>\n",
       "      <td>대상포진으로 진료 받았어요 . 2주 이상 치료 받고 약 먹고 주사 맞으니까 진통이 ...</td>\n",
       "      <td>10</td>\n",
       "      <td>12월 20일, 2021년</td>\n",
       "      <td>경남</td>\n",
       "      <td>김해시</td>\n",
       "      <td>내외중앙로</td>\n",
       "      <td>대상포진으로 진료받았어요 2주 이상 치료받고 약 먹고 주사 맞으니까 진통이 가라앉았...</td>\n",
       "    </tr>\n",
       "    <tr>\n",
       "      <th>2</th>\n",
       "      <td>고운나라피부과의원</td>\n",
       "      <td>여드름 고민이 있어서 방문했습니다피부 전문의라서 증상이 나타난 이유에 대해서 설명을...</td>\n",
       "      <td>10</td>\n",
       "      <td>8월 11일, 2021년</td>\n",
       "      <td>경남</td>\n",
       "      <td>김해시</td>\n",
       "      <td>내외중앙로</td>\n",
       "      <td>여드름 고민이 있어서 방문했습니다 피부전문의라서 증상이 나타난 이유에 대해서 설명을...</td>\n",
       "    </tr>\n",
       "    <tr>\n",
       "      <th>3</th>\n",
       "      <td>고운나라피부과의원</td>\n",
       "      <td>문신제거문신한곳 일부분만 지우고 싶어서 여러 군데 알아보고 갔어요 워낙 가격이 천차...</td>\n",
       "      <td>10</td>\n",
       "      <td>6월 21일, 2021년</td>\n",
       "      <td>경남</td>\n",
       "      <td>김해시</td>\n",
       "      <td>내외중앙로</td>\n",
       "      <td>문신제거 문신한 곳일 부분만 지우고 싶어서 여러 군데 알아보고 갔어요 워낙 가격이 ...</td>\n",
       "    </tr>\n",
       "    <tr>\n",
       "      <th>4</th>\n",
       "      <td>고운나라피부과의원</td>\n",
       "      <td>원장님이 설명도 잘해주시고 병원도 엄청크고~(김해에서 유명한곳은 이유가있네요)!! ...</td>\n",
       "      <td>9.5</td>\n",
       "      <td>6월 7일, 2021년</td>\n",
       "      <td>경남</td>\n",
       "      <td>김해시</td>\n",
       "      <td>내외중앙로</td>\n",
       "      <td>원장님이설명도잘해주시고병원도엄청크고김해에서유명한곳은이유가있네요직원들도전부친절해서넘맘...</td>\n",
       "    </tr>\n",
       "  </tbody>\n",
       "</table>\n",
       "</div>"
      ],
      "text/plain": [
       "           h                                            reviews stars  \\\n",
       "0  고운나라피부과의원  두피가려움증으로 내원한 병원인데 진료 끝나고 두피 현미경사진을 무료로 찍어서 상담해...   9.3   \n",
       "1  고운나라피부과의원  대상포진으로 진료 받았어요 . 2주 이상 치료 받고 약 먹고 주사 맞으니까 진통이 ...    10   \n",
       "2  고운나라피부과의원  여드름 고민이 있어서 방문했습니다피부 전문의라서 증상이 나타난 이유에 대해서 설명을...    10   \n",
       "3  고운나라피부과의원  문신제거문신한곳 일부분만 지우고 싶어서 여러 군데 알아보고 갔어요 워낙 가격이 천차...    10   \n",
       "4  고운나라피부과의원  원장님이 설명도 잘해주시고 병원도 엄청크고~(김해에서 유명한곳은 이유가있네요)!! ...   9.5   \n",
       "\n",
       "       review_date  do   si     ro  \\\n",
       "0   3월 15일, 2022년   경남  김해시  내외중앙로   \n",
       "1  12월 20일, 2021년   경남  김해시  내외중앙로   \n",
       "2   8월 11일, 2021년   경남  김해시  내외중앙로   \n",
       "3   6월 21일, 2021년   경남  김해시  내외중앙로   \n",
       "4    6월 7일, 2021년   경남  김해시  내외중앙로   \n",
       "\n",
       "                                     cleaned_reviews  \n",
       "0  두피 가려움증으로 내원한 병원인데 진료 끝나고 두피 현미경사진을 무료로 찍어서 상담...  \n",
       "1  대상포진으로 진료받았어요 2주 이상 치료받고 약 먹고 주사 맞으니까 진통이 가라앉았...  \n",
       "2  여드름 고민이 있어서 방문했습니다 피부전문의라서 증상이 나타난 이유에 대해서 설명을...  \n",
       "3  문신제거 문신한 곳일 부분만 지우고 싶어서 여러 군데 알아보고 갔어요 워낙 가격이 ...  \n",
       "4  원장님이설명도잘해주시고병원도엄청크고김해에서유명한곳은이유가있네요직원들도전부친절해서넘맘...  "
      ]
     },
     "execution_count": 65,
     "metadata": {},
     "output_type": "execute_result"
    }
   ],
   "source": [
    "data['cleaned_reviews'] = data_\n",
    "data.head()"
   ]
  },
  {
   "cell_type": "code",
   "execution_count": 66,
   "metadata": {},
   "outputs": [],
   "source": [
    "from nltk.corpus import stopwords"
   ]
  },
  {
   "cell_type": "code",
   "execution_count": 67,
   "metadata": {},
   "outputs": [],
   "source": [
    "def make_noun(x):\n",
    "    x = okt.nouns(x)\n",
    "    return x"
   ]
  },
  {
   "cell_type": "code",
   "execution_count": 68,
   "metadata": {},
   "outputs": [
    {
     "data": {
      "text/html": [
       "<div>\n",
       "<style scoped>\n",
       "    .dataframe tbody tr th:only-of-type {\n",
       "        vertical-align: middle;\n",
       "    }\n",
       "\n",
       "    .dataframe tbody tr th {\n",
       "        vertical-align: top;\n",
       "    }\n",
       "\n",
       "    .dataframe thead th {\n",
       "        text-align: right;\n",
       "    }\n",
       "</style>\n",
       "<table border=\"1\" class=\"dataframe\">\n",
       "  <thead>\n",
       "    <tr style=\"text-align: right;\">\n",
       "      <th></th>\n",
       "      <th>h</th>\n",
       "      <th>reviews</th>\n",
       "      <th>stars</th>\n",
       "      <th>review_date</th>\n",
       "      <th>do</th>\n",
       "      <th>si</th>\n",
       "      <th>ro</th>\n",
       "      <th>cleaned_reviews</th>\n",
       "      <th>reviews_stem</th>\n",
       "    </tr>\n",
       "  </thead>\n",
       "  <tbody>\n",
       "    <tr>\n",
       "      <th>0</th>\n",
       "      <td>고운나라피부과의원</td>\n",
       "      <td>두피가려움증으로 내원한 병원인데 진료 끝나고 두피 현미경사진을 무료로 찍어서 상담해...</td>\n",
       "      <td>9.3</td>\n",
       "      <td>3월 15일, 2022년</td>\n",
       "      <td>경남</td>\n",
       "      <td>김해시</td>\n",
       "      <td>내외중앙로</td>\n",
       "      <td>두피 가려움증으로 내원한 병원인데 진료 끝나고 두피 현미경사진을 무료로 찍어서 상담...</td>\n",
       "      <td>[두피, 가려움증, 원한, 병원, 진료, 두피, 현미경, 사진, 무료, 상담, 제,...</td>\n",
       "    </tr>\n",
       "    <tr>\n",
       "      <th>1</th>\n",
       "      <td>고운나라피부과의원</td>\n",
       "      <td>대상포진으로 진료 받았어요 . 2주 이상 치료 받고 약 먹고 주사 맞으니까 진통이 ...</td>\n",
       "      <td>10</td>\n",
       "      <td>12월 20일, 2021년</td>\n",
       "      <td>경남</td>\n",
       "      <td>김해시</td>\n",
       "      <td>내외중앙로</td>\n",
       "      <td>대상포진으로 진료받았어요 2주 이상 치료받고 약 먹고 주사 맞으니까 진통이 가라앉았...</td>\n",
       "      <td>[대상포진, 진료, 주, 이상, 약, 주사, 진통, 대상포진, 통증, 후유증, 남아...</td>\n",
       "    </tr>\n",
       "    <tr>\n",
       "      <th>2</th>\n",
       "      <td>고운나라피부과의원</td>\n",
       "      <td>여드름 고민이 있어서 방문했습니다피부 전문의라서 증상이 나타난 이유에 대해서 설명을...</td>\n",
       "      <td>10</td>\n",
       "      <td>8월 11일, 2021년</td>\n",
       "      <td>경남</td>\n",
       "      <td>김해시</td>\n",
       "      <td>내외중앙로</td>\n",
       "      <td>여드름 고민이 있어서 방문했습니다 피부전문의라서 증상이 나타난 이유에 대해서 설명을...</td>\n",
       "      <td>[여드름, 고민, 방문, 피부, 전문의, 증상, 이유, 대해, 설명, 지인, 추천,...</td>\n",
       "    </tr>\n",
       "    <tr>\n",
       "      <th>3</th>\n",
       "      <td>고운나라피부과의원</td>\n",
       "      <td>문신제거문신한곳 일부분만 지우고 싶어서 여러 군데 알아보고 갔어요 워낙 가격이 천차...</td>\n",
       "      <td>10</td>\n",
       "      <td>6월 21일, 2021년</td>\n",
       "      <td>경남</td>\n",
       "      <td>김해시</td>\n",
       "      <td>내외중앙로</td>\n",
       "      <td>문신제거 문신한 곳일 부분만 지우고 싶어서 여러 군데 알아보고 갔어요 워낙 가격이 ...</td>\n",
       "      <td>[문신, 제거, 문신, 곳일, 부분, 여러, 군데, 워낙, 가격, 천차만별, 치료,...</td>\n",
       "    </tr>\n",
       "    <tr>\n",
       "      <th>4</th>\n",
       "      <td>고운나라피부과의원</td>\n",
       "      <td>원장님이 설명도 잘해주시고 병원도 엄청크고~(김해에서 유명한곳은 이유가있네요)!! ...</td>\n",
       "      <td>9.5</td>\n",
       "      <td>6월 7일, 2021년</td>\n",
       "      <td>경남</td>\n",
       "      <td>김해시</td>\n",
       "      <td>내외중앙로</td>\n",
       "      <td>원장님이설명도잘해주시고병원도엄청크고김해에서유명한곳은이유가있네요직원들도전부친절해서넘맘...</td>\n",
       "      <td>[원장, 설명, 병원, 김해, 곳, 유가, 직원, 전부, 맘, 처방, 약, 하루, ...</td>\n",
       "    </tr>\n",
       "  </tbody>\n",
       "</table>\n",
       "</div>"
      ],
      "text/plain": [
       "           h                                            reviews stars  \\\n",
       "0  고운나라피부과의원  두피가려움증으로 내원한 병원인데 진료 끝나고 두피 현미경사진을 무료로 찍어서 상담해...   9.3   \n",
       "1  고운나라피부과의원  대상포진으로 진료 받았어요 . 2주 이상 치료 받고 약 먹고 주사 맞으니까 진통이 ...    10   \n",
       "2  고운나라피부과의원  여드름 고민이 있어서 방문했습니다피부 전문의라서 증상이 나타난 이유에 대해서 설명을...    10   \n",
       "3  고운나라피부과의원  문신제거문신한곳 일부분만 지우고 싶어서 여러 군데 알아보고 갔어요 워낙 가격이 천차...    10   \n",
       "4  고운나라피부과의원  원장님이 설명도 잘해주시고 병원도 엄청크고~(김해에서 유명한곳은 이유가있네요)!! ...   9.5   \n",
       "\n",
       "       review_date  do   si     ro  \\\n",
       "0   3월 15일, 2022년   경남  김해시  내외중앙로   \n",
       "1  12월 20일, 2021년   경남  김해시  내외중앙로   \n",
       "2   8월 11일, 2021년   경남  김해시  내외중앙로   \n",
       "3   6월 21일, 2021년   경남  김해시  내외중앙로   \n",
       "4    6월 7일, 2021년   경남  김해시  내외중앙로   \n",
       "\n",
       "                                     cleaned_reviews  \\\n",
       "0  두피 가려움증으로 내원한 병원인데 진료 끝나고 두피 현미경사진을 무료로 찍어서 상담...   \n",
       "1  대상포진으로 진료받았어요 2주 이상 치료받고 약 먹고 주사 맞으니까 진통이 가라앉았...   \n",
       "2  여드름 고민이 있어서 방문했습니다 피부전문의라서 증상이 나타난 이유에 대해서 설명을...   \n",
       "3  문신제거 문신한 곳일 부분만 지우고 싶어서 여러 군데 알아보고 갔어요 워낙 가격이 ...   \n",
       "4  원장님이설명도잘해주시고병원도엄청크고김해에서유명한곳은이유가있네요직원들도전부친절해서넘맘...   \n",
       "\n",
       "                                        reviews_stem  \n",
       "0  [두피, 가려움증, 원한, 병원, 진료, 두피, 현미경, 사진, 무료, 상담, 제,...  \n",
       "1  [대상포진, 진료, 주, 이상, 약, 주사, 진통, 대상포진, 통증, 후유증, 남아...  \n",
       "2  [여드름, 고민, 방문, 피부, 전문의, 증상, 이유, 대해, 설명, 지인, 추천,...  \n",
       "3  [문신, 제거, 문신, 곳일, 부분, 여러, 군데, 워낙, 가격, 천차만별, 치료,...  \n",
       "4  [원장, 설명, 병원, 김해, 곳, 유가, 직원, 전부, 맘, 처방, 약, 하루, ...  "
      ]
     },
     "execution_count": 68,
     "metadata": {},
     "output_type": "execute_result"
    }
   ],
   "source": [
    "data['reviews_stem'] = data['cleaned_reviews'].apply(make_noun)\n",
    "data.head() "
   ]
  },
  {
   "cell_type": "code",
   "execution_count": 69,
   "metadata": {},
   "outputs": [],
   "source": [
    "data.to_excel('[0427]data_derma.xlsx')"
   ]
  },
  {
   "cell_type": "code",
   "execution_count": 5,
   "metadata": {},
   "outputs": [
    {
     "name": "stdout",
     "output_type": "stream",
     "text": [
      "C:\\Users\\yukir\\Documents\\Monicas_workspace\\Derma\\TF_IDF\n"
     ]
    }
   ],
   "source": [
    "%cd C:\\Users\\yukir\\Documents\\Monicas_workspace\\Derma\\TF_IDF"
   ]
  },
  {
   "cell_type": "code",
   "execution_count": 6,
   "metadata": {},
   "outputs": [
    {
     "data": {
      "text/html": [
       "<div>\n",
       "<style scoped>\n",
       "    .dataframe tbody tr th:only-of-type {\n",
       "        vertical-align: middle;\n",
       "    }\n",
       "\n",
       "    .dataframe tbody tr th {\n",
       "        vertical-align: top;\n",
       "    }\n",
       "\n",
       "    .dataframe thead th {\n",
       "        text-align: right;\n",
       "    }\n",
       "</style>\n",
       "<table border=\"1\" class=\"dataframe\">\n",
       "  <thead>\n",
       "    <tr style=\"text-align: right;\">\n",
       "      <th></th>\n",
       "      <th>h</th>\n",
       "      <th>reviews</th>\n",
       "      <th>stars</th>\n",
       "      <th>review_date</th>\n",
       "      <th>do</th>\n",
       "      <th>si</th>\n",
       "      <th>ro</th>\n",
       "      <th>cleaned_reviews</th>\n",
       "      <th>reviews_stem</th>\n",
       "    </tr>\n",
       "  </thead>\n",
       "  <tbody>\n",
       "    <tr>\n",
       "      <th>0</th>\n",
       "      <td>고운나라피부과의원</td>\n",
       "      <td>두피가려움증으로 내원한 병원인데 진료 끝나고 두피 현미경사진을 무료로 찍어서 상담해...</td>\n",
       "      <td>9.3</td>\n",
       "      <td>3월 15일, 2022년</td>\n",
       "      <td>경남</td>\n",
       "      <td>김해시</td>\n",
       "      <td>내외중앙로</td>\n",
       "      <td>두피 가려움증으로 내원한 병원인데 진료 끝나고 두피 현미경사진을 무료로 찍어서 상담...</td>\n",
       "      <td>['두피', '가려움증', '원한', '병원', '진료', '두피', '현미경', ...</td>\n",
       "    </tr>\n",
       "    <tr>\n",
       "      <th>1</th>\n",
       "      <td>고운나라피부과의원</td>\n",
       "      <td>대상포진으로 진료 받았어요 . 2주 이상 치료 받고 약 먹고 주사 맞으니까 진통이 ...</td>\n",
       "      <td>10</td>\n",
       "      <td>12월 20일, 2021년</td>\n",
       "      <td>경남</td>\n",
       "      <td>김해시</td>\n",
       "      <td>내외중앙로</td>\n",
       "      <td>대상포진으로 진료받았어요 2주 이상 치료받고 약 먹고 주사 맞으니까 진통이 가라앉았...</td>\n",
       "      <td>['대상포진', '진료', '주', '이상', '약', '주사', '진통', '대상...</td>\n",
       "    </tr>\n",
       "    <tr>\n",
       "      <th>2</th>\n",
       "      <td>고운나라피부과의원</td>\n",
       "      <td>여드름 고민이 있어서 방문했습니다피부 전문의라서 증상이 나타난 이유에 대해서 설명을...</td>\n",
       "      <td>10</td>\n",
       "      <td>8월 11일, 2021년</td>\n",
       "      <td>경남</td>\n",
       "      <td>김해시</td>\n",
       "      <td>내외중앙로</td>\n",
       "      <td>여드름 고민이 있어서 방문했습니다 피부전문의라서 증상이 나타난 이유에 대해서 설명을...</td>\n",
       "      <td>['여드름', '고민', '방문', '피부', '전문의', '증상', '이유', '...</td>\n",
       "    </tr>\n",
       "    <tr>\n",
       "      <th>3</th>\n",
       "      <td>고운나라피부과의원</td>\n",
       "      <td>문신제거문신한곳 일부분만 지우고 싶어서 여러 군데 알아보고 갔어요 워낙 가격이 천차...</td>\n",
       "      <td>10</td>\n",
       "      <td>6월 21일, 2021년</td>\n",
       "      <td>경남</td>\n",
       "      <td>김해시</td>\n",
       "      <td>내외중앙로</td>\n",
       "      <td>문신제거 문신한 곳일 부분만 지우고 싶어서 여러 군데 알아보고 갔어요 워낙 가격이 ...</td>\n",
       "      <td>['문신', '제거', '문신', '곳일', '부분', '여러', '군데', '워낙...</td>\n",
       "    </tr>\n",
       "    <tr>\n",
       "      <th>4</th>\n",
       "      <td>고운나라피부과의원</td>\n",
       "      <td>원장님이 설명도 잘해주시고 병원도 엄청크고~(김해에서 유명한곳은 이유가있네요)!! ...</td>\n",
       "      <td>9.5</td>\n",
       "      <td>6월 7일, 2021년</td>\n",
       "      <td>경남</td>\n",
       "      <td>김해시</td>\n",
       "      <td>내외중앙로</td>\n",
       "      <td>원장님이설명도잘해주시고병원도엄청크고김해에서유명한곳은이유가있네요직원들도전부친절해서넘맘...</td>\n",
       "      <td>['원장', '설명', '병원', '김해', '곳', '유가', '직원', '전부'...</td>\n",
       "    </tr>\n",
       "  </tbody>\n",
       "</table>\n",
       "</div>"
      ],
      "text/plain": [
       "           h                                            reviews stars  \\\n",
       "0  고운나라피부과의원  두피가려움증으로 내원한 병원인데 진료 끝나고 두피 현미경사진을 무료로 찍어서 상담해...   9.3   \n",
       "1  고운나라피부과의원  대상포진으로 진료 받았어요 . 2주 이상 치료 받고 약 먹고 주사 맞으니까 진통이 ...    10   \n",
       "2  고운나라피부과의원  여드름 고민이 있어서 방문했습니다피부 전문의라서 증상이 나타난 이유에 대해서 설명을...    10   \n",
       "3  고운나라피부과의원  문신제거문신한곳 일부분만 지우고 싶어서 여러 군데 알아보고 갔어요 워낙 가격이 천차...    10   \n",
       "4  고운나라피부과의원  원장님이 설명도 잘해주시고 병원도 엄청크고~(김해에서 유명한곳은 이유가있네요)!! ...   9.5   \n",
       "\n",
       "       review_date  do   si     ro  \\\n",
       "0   3월 15일, 2022년   경남  김해시  내외중앙로   \n",
       "1  12월 20일, 2021년   경남  김해시  내외중앙로   \n",
       "2   8월 11일, 2021년   경남  김해시  내외중앙로   \n",
       "3   6월 21일, 2021년   경남  김해시  내외중앙로   \n",
       "4    6월 7일, 2021년   경남  김해시  내외중앙로   \n",
       "\n",
       "                                     cleaned_reviews  \\\n",
       "0  두피 가려움증으로 내원한 병원인데 진료 끝나고 두피 현미경사진을 무료로 찍어서 상담...   \n",
       "1  대상포진으로 진료받았어요 2주 이상 치료받고 약 먹고 주사 맞으니까 진통이 가라앉았...   \n",
       "2  여드름 고민이 있어서 방문했습니다 피부전문의라서 증상이 나타난 이유에 대해서 설명을...   \n",
       "3  문신제거 문신한 곳일 부분만 지우고 싶어서 여러 군데 알아보고 갔어요 워낙 가격이 ...   \n",
       "4  원장님이설명도잘해주시고병원도엄청크고김해에서유명한곳은이유가있네요직원들도전부친절해서넘맘...   \n",
       "\n",
       "                                        reviews_stem  \n",
       "0  ['두피', '가려움증', '원한', '병원', '진료', '두피', '현미경', ...  \n",
       "1  ['대상포진', '진료', '주', '이상', '약', '주사', '진통', '대상...  \n",
       "2  ['여드름', '고민', '방문', '피부', '전문의', '증상', '이유', '...  \n",
       "3  ['문신', '제거', '문신', '곳일', '부분', '여러', '군데', '워낙...  \n",
       "4  ['원장', '설명', '병원', '김해', '곳', '유가', '직원', '전부'...  "
      ]
     },
     "execution_count": 6,
     "metadata": {},
     "output_type": "execute_result"
    }
   ],
   "source": [
    "data = pd.read_excel('../[0427]data_derma.xlsx', index_col=0)\n",
    "data.head()"
   ]
  },
  {
   "cell_type": "markdown",
   "metadata": {},
   "source": [
    "### TF_IDF"
   ]
  },
  {
   "cell_type": "code",
   "execution_count": 9,
   "metadata": {},
   "outputs": [
    {
     "name": "stdout",
     "output_type": "stream",
     "text": [
      "39216\n",
      "38857\n",
      "30984\n"
     ]
    }
   ],
   "source": [
    "print(len(data))\n",
    "data = data.dropna()\n",
    "print(len(data))\n",
    "data = data.drop_duplicates('cleaned_reviews')\n",
    "print(len(data))"
   ]
  },
  {
   "cell_type": "code",
   "execution_count": 11,
   "metadata": {},
   "outputs": [
    {
     "name": "stderr",
     "output_type": "stream",
     "text": [
      "100%|██████████| 30984/30984 [00:00<00:00, 1290965.32it/s]\n"
     ]
    }
   ],
   "source": [
    "for sent in tqdm(data['cleaned_reviews']):\n",
    "    try:\n",
    "        sentence = clean_text(sent.replace('\\n', '').strip())\n",
    "        # print(sentence)\n",
    "    except:\n",
    "        # print(sent)\n",
    "        pass"
   ]
  },
  {
   "cell_type": "code",
   "execution_count": 15,
   "metadata": {},
   "outputs": [
    {
     "name": "stderr",
     "output_type": "stream",
     "text": [
      "100%|██████████| 30984/30984 [10:23<00:00, 49.67it/s] \n"
     ]
    }
   ],
   "source": [
    "## 오래걸리니까 조심\n",
    "\n",
    "if __name__ == '__main__':\n",
    "     # df = pd.read_csv('negative.csv', index_col = 0)\n",
    "     processed_data = tokenize(data) # description 부분을 토크나이징 한다. \n",
    "     \n",
    "     # 토큰 분리한 데이터를 저장 \n",
    "     save_processed_data(processed_data)\n"
   ]
  },
  {
   "cell_type": "code",
   "execution_count": 19,
   "metadata": {},
   "outputs": [
    {
     "data": {
      "text/plain": [
       "0      두피 가려움증 원한 병원 진료 두피 현미경 사진 무료 상담 두피 샴푸 하나 샴푸 방법\n",
       "1           대상포진 진료 이상 주사 진통 대상포진 통증 후유증 남아 부위 계속 예방접종\n",
       "2    여드름 고민 방문 피부 전문의 증상 이유 대해 설명 지인 추천 의사 선생님 진료 상...\n",
       "3    문신 제거 문신 곳일 부분 여러 군데 워낙 가격 천차만별 치료 합리 가격 부분 레이...\n",
       "4                     원장 설명 병원 김해 유가 직원 전부 처방 하루 피부 아주\n",
       "Name: detokenized_doc, dtype: object"
      ]
     },
     "execution_count": 19,
     "metadata": {},
     "output_type": "execute_result"
    }
   ],
   "source": [
    "detokenized_doc = []\n",
    "for i in range(len(processed_data)):\n",
    "    t = ' '.join(processed_data[i])\n",
    "    detokenized_doc.append(t)\n",
    "\n",
    "data['detokenized_doc'] = detokenized_doc # 다시 text['headline_text']에 재저장\n",
    "\n",
    "data['detokenized_doc'][:5]"
   ]
  },
  {
   "cell_type": "code",
   "execution_count": 20,
   "metadata": {},
   "outputs": [],
   "source": [
    "from nltk.corpus import stopwords  \n",
    "stopwords.words('korean')[:10] \n",
    "\n",
    "stopwords_kor = stopwords.words('korean')"
   ]
  },
  {
   "cell_type": "code",
   "execution_count": 21,
   "metadata": {},
   "outputs": [
    {
     "data": {
      "text/plain": [
       "(30984, 2000)"
      ]
     },
     "execution_count": 21,
     "metadata": {},
     "output_type": "execute_result"
    }
   ],
   "source": [
    "from sklearn.feature_extraction.text import TfidfVectorizer\n",
    "vectorizer = TfidfVectorizer(analyzer='word',       \n",
    "                             min_df=10,                        # minimum reqd occurences of a word \n",
    "                             stop_words=stopwords_kor,             # remove stop words\n",
    "                             lowercase=True,                   # convert all words to lowercase\n",
    "                             token_pattern='[가-힣0-9]{1,}',  # num chars > 3\n",
    "                             max_features=2000,             # max number of uniq words\n",
    "                            ) \n",
    "data_vectorized = vectorizer.fit_transform(data['detokenized_doc'])\n",
    "data_vectorized.shape # TF-IDF 행렬의 크기 확인"
   ]
  },
  {
   "cell_type": "code",
   "execution_count": 28,
   "metadata": {},
   "outputs": [
    {
     "name": "stdout",
     "output_type": "stream",
     "text": [
      "2000\n",
      "(1, 2000)\n"
     ]
    }
   ],
   "source": [
    "vocab = vectorizer.get_feature_names()\n",
    "print(len(vocab))\n",
    "dist = np.sum(data_vectorized, axis=0)\n",
    "    \n",
    "df_freq = pd.DataFrame(dist, columns=vocab)\n",
    "print(df_freq.shape)"
   ]
  },
  {
   "cell_type": "code",
   "execution_count": 31,
   "metadata": {},
   "outputs": [
    {
     "data": {
      "text/html": [
       "<div>\n",
       "<style scoped>\n",
       "    .dataframe tbody tr th:only-of-type {\n",
       "        vertical-align: middle;\n",
       "    }\n",
       "\n",
       "    .dataframe tbody tr th {\n",
       "        vertical-align: top;\n",
       "    }\n",
       "\n",
       "    .dataframe thead th {\n",
       "        text-align: right;\n",
       "    }\n",
       "</style>\n",
       "<table border=\"1\" class=\"dataframe\">\n",
       "  <thead>\n",
       "    <tr style=\"text-align: right;\">\n",
       "      <th></th>\n",
       "      <th>words</th>\n",
       "      <th>freq</th>\n",
       "    </tr>\n",
       "  </thead>\n",
       "  <tbody>\n",
       "    <tr>\n",
       "      <th>1995</th>\n",
       "      <td>흑자</td>\n",
       "      <td>6.174916</td>\n",
       "    </tr>\n",
       "    <tr>\n",
       "      <th>1996</th>\n",
       "      <td>흔적</td>\n",
       "      <td>20.093027</td>\n",
       "    </tr>\n",
       "    <tr>\n",
       "      <th>1997</th>\n",
       "      <td>흡입</td>\n",
       "      <td>23.450061</td>\n",
       "    </tr>\n",
       "    <tr>\n",
       "      <th>1998</th>\n",
       "      <td>희망</td>\n",
       "      <td>6.985679</td>\n",
       "    </tr>\n",
       "    <tr>\n",
       "      <th>1999</th>\n",
       "      <td>힐러</td>\n",
       "      <td>14.921240</td>\n",
       "    </tr>\n",
       "  </tbody>\n",
       "</table>\n",
       "</div>"
      ],
      "text/plain": [
       "     words       freq\n",
       "1995    흑자   6.174916\n",
       "1996    흔적  20.093027\n",
       "1997    흡입  23.450061\n",
       "1998    희망   6.985679\n",
       "1999    힐러  14.921240"
      ]
     },
     "execution_count": 31,
     "metadata": {},
     "output_type": "execute_result"
    }
   ],
   "source": [
    "df_freq.T.sort_values(by=0, ascending=False).head(100)\n",
    "df_freq_T = df_freq.T.reset_index()\n",
    "df_freq_T.columns = [\"words\", \"freq\"]\n",
    "df_freq_T.tail()"
   ]
  },
  {
   "cell_type": "code",
   "execution_count": 32,
   "metadata": {},
   "outputs": [
    {
     "name": "stdout",
     "output_type": "stream",
     "text": [
      "(2000, 2)\n",
      "(2000, 2)\n"
     ]
    }
   ],
   "source": [
    "print(df_freq_T.shape)\n",
    "df_use = df_freq_T.drop_duplicates()\n",
    "print(df_use.shape)"
   ]
  },
  {
   "cell_type": "code",
   "execution_count": 59,
   "metadata": {},
   "outputs": [
    {
     "data": {
      "text/html": [
       "<div>\n",
       "<style scoped>\n",
       "    .dataframe tbody tr th:only-of-type {\n",
       "        vertical-align: middle;\n",
       "    }\n",
       "\n",
       "    .dataframe tbody tr th {\n",
       "        vertical-align: top;\n",
       "    }\n",
       "\n",
       "    .dataframe thead th {\n",
       "        text-align: right;\n",
       "    }\n",
       "</style>\n",
       "<table border=\"1\" class=\"dataframe\">\n",
       "  <thead>\n",
       "    <tr style=\"text-align: right;\">\n",
       "      <th></th>\n",
       "      <th>words</th>\n",
       "      <th>freq</th>\n",
       "    </tr>\n",
       "  </thead>\n",
       "  <tbody>\n",
       "    <tr>\n",
       "      <th>1621</th>\n",
       "      <td>진료</td>\n",
       "      <td>2175.409307</td>\n",
       "    </tr>\n",
       "    <tr>\n",
       "      <th>687</th>\n",
       "      <td>병원</td>\n",
       "      <td>2039.753294</td>\n",
       "    </tr>\n",
       "    <tr>\n",
       "      <th>1869</th>\n",
       "      <td>피부</td>\n",
       "      <td>1919.997208</td>\n",
       "    </tr>\n",
       "    <tr>\n",
       "      <th>645</th>\n",
       "      <td>방문</td>\n",
       "      <td>1617.243045</td>\n",
       "    </tr>\n",
       "    <tr>\n",
       "      <th>1721</th>\n",
       "      <td>치료</td>\n",
       "      <td>1600.922409</td>\n",
       "    </tr>\n",
       "    <tr>\n",
       "      <th>...</th>\n",
       "      <td>...</td>\n",
       "      <td>...</td>\n",
       "    </tr>\n",
       "    <tr>\n",
       "      <th>1760</th>\n",
       "      <td>크림</td>\n",
       "      <td>196.374847</td>\n",
       "    </tr>\n",
       "    <tr>\n",
       "      <th>821</th>\n",
       "      <td>상세</td>\n",
       "      <td>195.775792</td>\n",
       "    </tr>\n",
       "    <tr>\n",
       "      <th>71</th>\n",
       "      <td>개선</td>\n",
       "      <td>193.947347</td>\n",
       "    </tr>\n",
       "    <tr>\n",
       "      <th>707</th>\n",
       "      <td>보통</td>\n",
       "      <td>193.650820</td>\n",
       "    </tr>\n",
       "    <tr>\n",
       "      <th>1840</th>\n",
       "      <td>평일</td>\n",
       "      <td>192.769469</td>\n",
       "    </tr>\n",
       "  </tbody>\n",
       "</table>\n",
       "<p>100 rows × 2 columns</p>\n",
       "</div>"
      ],
      "text/plain": [
       "     words         freq\n",
       "1621    진료  2175.409307\n",
       "687     병원  2039.753294\n",
       "1869    피부  1919.997208\n",
       "645     방문  1617.243045\n",
       "1721    치료  1600.922409\n",
       "...    ...          ...\n",
       "1760    크림   196.374847\n",
       "821     상세   195.775792\n",
       "71      개선   193.947347\n",
       "707     보통   193.650820\n",
       "1840    평일   192.769469\n",
       "\n",
       "[100 rows x 2 columns]"
      ]
     },
     "execution_count": 59,
     "metadata": {},
     "output_type": "execute_result"
    }
   ],
   "source": [
    "df_use = df_use.sort_values(by=\"freq\", ascending=False)\n",
    "df_use.head(100)"
   ]
  },
  {
   "cell_type": "code",
   "execution_count": 60,
   "metadata": {},
   "outputs": [],
   "source": [
    "df_use.to_excel('derma_TFIDF_to_SERVQUAL.xlsx')"
   ]
  },
  {
   "cell_type": "code",
   "execution_count": null,
   "metadata": {},
   "outputs": [],
   "source": []
  }
 ],
 "metadata": {
  "interpreter": {
   "hash": "dff02889df9aba8d43035d41ec5c58383b6dffbf69831fb7958aaa89bda26e34"
  },
  "kernelspec": {
   "display_name": "Python 3.8.11 ('NLP')",
   "language": "python",
   "name": "python3"
  },
  "language_info": {
   "codemirror_mode": {
    "name": "ipython",
    "version": 3
   },
   "file_extension": ".py",
   "mimetype": "text/x-python",
   "name": "python",
   "nbconvert_exporter": "python",
   "pygments_lexer": "ipython3",
   "version": "3.8.11"
  },
  "orig_nbformat": 4
 },
 "nbformat": 4,
 "nbformat_minor": 2
}
