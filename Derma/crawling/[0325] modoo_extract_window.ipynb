{
 "cells": [
  {
   "cell_type": "code",
   "execution_count": 1,
   "metadata": {},
   "outputs": [],
   "source": [
    "from selenium import webdriver\n",
    "from selenium.webdriver.common.keys import Keys\n",
    "from selenium.webdriver.support.ui import WebDriverWait\n",
    "from selenium.common.exceptions import NoSuchElementException\n",
    "import selenium.common.exceptions as sex\n",
    "\n",
    "import pandas as pd\n",
    "import numpy as np\n",
    "\n",
    "from bs4 import BeautifulSoup\n",
    "import lxml\n",
    "\n",
    "import time\n",
    "from time import sleep\n",
    "import random"
   ]
  },
  {
   "cell_type": "code",
   "execution_count": 7,
   "metadata": {},
   "outputs": [
    {
     "name": "stderr",
     "output_type": "stream",
     "text": [
      "C:\\Users\\yukir\\AppData\\Local\\Temp/ipykernel_6416/881111923.py:2: DeprecationWarning: executable_path has been deprecated, please pass in a Service object\n",
      "  driver = webdriver.Chrome(path)\n"
     ]
    }
   ],
   "source": [
    "path = \"C:\\\\chromedriver.exe\"\n",
    "driver = webdriver.Chrome(path)\n",
    "# driver.implicitly_waits(5)\n",
    "\n",
    "start_url = 'https://www.modoodoc.com/hospitals/?search_query=%ED%94%BC%EB%B6%80%EA%B3%BC'\n",
    "driver.get(start_url)"
   ]
  },
  {
   "cell_type": "code",
   "execution_count": 14,
   "metadata": {},
   "outputs": [
    {
     "name": "stdout",
     "output_type": "stream",
     "text": [
      "2\n",
      "https://www.modoodoc.com/hospitals/?search_query=%ED%94%BC%EB%B6%80%EA%B3%BC&page=1\n"
     ]
    }
   ],
   "source": [
    "url_list = []\n",
    "\n",
    "for i in range(1,3):\n",
    "    root_url = 'https://www.modoodoc.com/hospitals/?search_query=%ED%94%BC%EB%B6%80%EA%B3%BC&page={}'.format(i)\n",
    "    url_list.append(root_url)\n",
    "\n",
    "print(len(url_list))\n",
    "print(url_list[0])"
   ]
  },
  {
   "cell_type": "code",
   "execution_count": 15,
   "metadata": {},
   "outputs": [
    {
     "name": "stdout",
     "output_type": "stream",
     "text": [
      "0 sec =  3\n",
      "1 sec =  1\n"
     ]
    }
   ],
   "source": [
    "work_load = []\n",
    "\n",
    "for num, i in enumerate(url_list):\n",
    "    driver.get(i)\n",
    "    page = driver.page_source\n",
    "    soup = BeautifulSoup(page, 'html.parser')\n",
    "    titles = soup.find_all('div', attrs={'id':'hospital-info-box'})\n",
    "    for j in titles:\n",
    "        work_load.append(j.get_text())\n",
    "\n",
    "    x = random.randint(1,4)\n",
    "    sleep(x)\n",
    "\n",
    "    print(num, 'sec = ', x)\n",
    "    \n"
   ]
  },
  {
   "cell_type": "code",
   "execution_count": 16,
   "metadata": {},
   "outputs": [
    {
     "name": "stdout",
     "output_type": "stream",
     "text": [
      "서울리온의원\n",
      "오체안피부과의원\n",
      "뮤즈의원\n",
      "리즈온의원\n",
      "연세베러의원\n",
      "베리굿의원\n",
      "파크뷰의원\n",
      "미래피부과의원\n",
      "김혜영피부과의원\n",
      "양앤유의원\n",
      "샤인빔의원\n",
      "엑셀브이의원\n",
      "로지의원\n",
      "타임리스피부과의원\n",
      "클린타투의원\n",
      "오라클피부과의원\n",
      "리움피부과의원\n",
      "닥터스피부과의원\n",
      "센스피부과9.1|리뷰12서울송파구잠실6동원\n",
      "하종섭피부과의원\n"
     ]
    }
   ],
   "source": [
    "hospitals =[]\n",
    "reviews = []\n",
    "adresses=[]\n",
    "\n",
    "\n",
    "for i in work_load:\n",
    "    i = i.replace('\\n','')\n",
    "    i = i.replace(' ', '')\n",
    "    \n",
    "    #병원\n",
    "    hospital = i.split('원')[0]\n",
    "    hospital = hospital+'원'\n",
    "    print(hospital)\n",
    "    hospitals.append(str(hospital))\n",
    "\n",
    "#리뷰수\n",
    "for i in work_load:\n",
    "    i = i.replace('\\n','')\n",
    "    i = i.replace(' ', '')\n",
    "    review = i.split('리뷰')[1]\n",
    "    review = review[:2]\n",
    "    reviews.append(str(review))\n",
    "\n",
    "\n",
    "#주소\n",
    "for i in work_load:\n",
    "    i = i.replace('\\n','')\n",
    "    i = i.replace(' ', '')\n",
    "    adress = i.split('리뷰')[1]\n",
    "    adress = adress[2:]\n",
    "    adresses.append(str(adress))\n",
    "\n",
    "\n"
   ]
  },
  {
   "cell_type": "code",
   "execution_count": 17,
   "metadata": {},
   "outputs": [
    {
     "name": "stdout",
     "output_type": "stream",
     "text": [
      "0 sec =  3\n",
      "1 sec =  4\n"
     ]
    }
   ],
   "source": [
    "link_list =[]\n",
    "\n",
    "for num, i in enumerate (url_list):\n",
    "    driver.get(i)\n",
    "    page = driver.page_source\n",
    "    soup = BeautifulSoup(page, 'html.parser')\n",
    "\n",
    "\n",
    "    links = soup.find_all('div', class_ = \"doctor-total-box border-bottom\")\n",
    "\n",
    "    http = 'https://www.modoodoc.com'\n",
    "\n",
    "    \n",
    "    for i in links:\n",
    "    #     link_list.append(i)\n",
    "        links_=(i.find('a')['href'])\n",
    "        link_list.append(http+links_)\n",
    "    \n",
    "    x = random.randint(1,4)\n",
    "    sleep(x)\n",
    "\n",
    "    print(num, 'sec = ', x)\n",
    "\n",
    "    "
   ]
  },
  {
   "cell_type": "code",
   "execution_count": 18,
   "metadata": {},
   "outputs": [
    {
     "name": "stdout",
     "output_type": "stream",
     "text": [
      "20\n",
      "20\n",
      "20\n",
      "20\n"
     ]
    }
   ],
   "source": [
    "print(len(hospitals))\n",
    "print(len(adresses))\n",
    "print(len(reviews))\n",
    "print(len(link_list))"
   ]
  },
  {
   "cell_type": "code",
   "execution_count": 20,
   "metadata": {},
   "outputs": [
    {
     "data": {
      "text/plain": [
       "['12',\n",
       " '11',\n",
       " '13',\n",
       " '11',\n",
       " '11',\n",
       " '11',\n",
       " '12',\n",
       " '11',\n",
       " '11',\n",
       " '12',\n",
       " '12',\n",
       " '11',\n",
       " '12',\n",
       " '12',\n",
       " '11',\n",
       " '11',\n",
       " '12',\n",
       " '11',\n",
       " '12',\n",
       " '12']"
      ]
     },
     "execution_count": 20,
     "metadata": {},
     "output_type": "execute_result"
    }
   ],
   "source": [
    "import re\n",
    "korean = re.compile('[\\u3131-\\u3163\\uac00-\\ud7a3]+')\n",
    "\n",
    "reviews_cleaned = []\n",
    "for i in reviews:\n",
    "    parseText= re.sub(korean, '', i)\n",
    "    reviews_cleaned.append(parseText)\n",
    "\n",
    "reviews_cleaned\n",
    "    "
   ]
  },
  {
   "cell_type": "code",
   "execution_count": 22,
   "metadata": {},
   "outputs": [
    {
     "data": {
      "text/html": [
       "<div>\n",
       "<style scoped>\n",
       "    .dataframe tbody tr th:only-of-type {\n",
       "        vertical-align: middle;\n",
       "    }\n",
       "\n",
       "    .dataframe tbody tr th {\n",
       "        vertical-align: top;\n",
       "    }\n",
       "\n",
       "    .dataframe thead th {\n",
       "        text-align: right;\n",
       "    }\n",
       "</style>\n",
       "<table border=\"1\" class=\"dataframe\">\n",
       "  <thead>\n",
       "    <tr style=\"text-align: right;\">\n",
       "      <th></th>\n",
       "      <th>hospital</th>\n",
       "      <th>adress</th>\n",
       "      <th>review_count</th>\n",
       "      <th>link</th>\n",
       "    </tr>\n",
       "  </thead>\n",
       "  <tbody>\n",
       "    <tr>\n",
       "      <th>0</th>\n",
       "      <td>서울리온의원</td>\n",
       "      <td>경기도화성시향남읍</td>\n",
       "      <td>12</td>\n",
       "      <td>https://www.modoodoc.com/hospital/27710/%EC%84...</td>\n",
       "    </tr>\n",
       "    <tr>\n",
       "      <th>1</th>\n",
       "      <td>오체안피부과의원</td>\n",
       "      <td>경기도과천시별양동</td>\n",
       "      <td>11</td>\n",
       "      <td>https://www.modoodoc.com/hospital/29604/%EC%98...</td>\n",
       "    </tr>\n",
       "    <tr>\n",
       "      <th>2</th>\n",
       "      <td>뮤즈의원</td>\n",
       "      <td>경기도수원시팔달구인계동</td>\n",
       "      <td>13</td>\n",
       "      <td>https://www.modoodoc.com/hospital/68196/%EB%AE...</td>\n",
       "    </tr>\n",
       "    <tr>\n",
       "      <th>3</th>\n",
       "      <td>리즈온의원</td>\n",
       "      <td>서울강동구성내2동</td>\n",
       "      <td>11</td>\n",
       "      <td>https://www.modoodoc.com/hospital/67614/%EB%A6...</td>\n",
       "    </tr>\n",
       "    <tr>\n",
       "      <th>4</th>\n",
       "      <td>연세베러의원</td>\n",
       "      <td>서울강남구역삼1동</td>\n",
       "      <td>11</td>\n",
       "      <td>https://www.modoodoc.com/hospital/13364/%EC%97...</td>\n",
       "    </tr>\n",
       "  </tbody>\n",
       "</table>\n",
       "</div>"
      ],
      "text/plain": [
       "   hospital        adress review_count  \\\n",
       "0    서울리온의원     경기도화성시향남읍           12   \n",
       "1  오체안피부과의원     경기도과천시별양동           11   \n",
       "2      뮤즈의원  경기도수원시팔달구인계동           13   \n",
       "3     리즈온의원     서울강동구성내2동           11   \n",
       "4    연세베러의원     서울강남구역삼1동           11   \n",
       "\n",
       "                                                link  \n",
       "0  https://www.modoodoc.com/hospital/27710/%EC%84...  \n",
       "1  https://www.modoodoc.com/hospital/29604/%EC%98...  \n",
       "2  https://www.modoodoc.com/hospital/68196/%EB%AE...  \n",
       "3  https://www.modoodoc.com/hospital/67614/%EB%A6...  \n",
       "4  https://www.modoodoc.com/hospital/13364/%EC%97...  "
      ]
     },
     "execution_count": 22,
     "metadata": {},
     "output_type": "execute_result"
    }
   ],
   "source": [
    "modoo_df = pd.DataFrame({'hospital':hospitals,'adress':adresses, 'review_count':reviews_cleaned, 'link':link_list})\n",
    "modoo_df.head()"
   ]
  },
  {
   "cell_type": "code",
   "execution_count": null,
   "metadata": {},
   "outputs": [],
   "source": []
  }
 ],
 "metadata": {
  "interpreter": {
   "hash": "dff02889df9aba8d43035d41ec5c58383b6dffbf69831fb7958aaa89bda26e34"
  },
  "kernelspec": {
   "display_name": "Python 3.8.11 ('NLP')",
   "language": "python",
   "name": "python3"
  },
  "language_info": {
   "codemirror_mode": {
    "name": "ipython",
    "version": 3
   },
   "file_extension": ".py",
   "mimetype": "text/x-python",
   "name": "python",
   "nbconvert_exporter": "python",
   "pygments_lexer": "ipython3",
   "version": "3.8.11"
  },
  "orig_nbformat": 4
 },
 "nbformat": 4,
 "nbformat_minor": 2
}
